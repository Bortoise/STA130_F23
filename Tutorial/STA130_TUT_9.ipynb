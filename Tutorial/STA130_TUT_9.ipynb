{
 "cells": [
  {
   "cell_type": "markdown",
   "id": "e3ef9e6c",
   "metadata": {
    "slideshow": {
     "slide_type": "slide"
    }
   },
   "source": [
    "# STA130 Tutorial 9: Classification (and Ethics)\n",
    "\n",
    "<center><img src=\"im/9/tree.jpg\"></center>"
   ]
  },
  {
   "cell_type": "markdown",
   "id": "1570a7d5",
   "metadata": {
    "slideshow": {
     "slide_type": "subslide"
    }
   },
   "source": [
    "This week we'll be doing something a little different, and we'll be focusing on ethical topics in anticipation of our upcoming embedded ethics guest lecture.\n",
    "Remember! It's always a good time for questions and discussions. If you don't understand something ask."
   ]
  },
  {
   "cell_type": "markdown",
   "id": "c3f215dd",
   "metadata": {
    "slideshow": {
     "slide_type": "subslide"
    }
   },
   "source": [
    "## This Week's Vocab (10 minutes):\n",
    "If you are not familiar with any of these words, now is the time to ask!\n",
    "\n",
    "- Classification / Classifier\n",
    "- Prediction / Predictor(s)\n",
    "- Covariate(s)\n",
    "- Input(s) / Output(s)\n",
    "- Training set/sample\n",
    "- Validation\n",
    "- Testing set/sample (or test set)\n",
    "- Fitting a model\n",
    "- Confusion matrix\n",
    "- Tree / Node\n",
    "- Terminal node (or leaf node)\n",
    "- Accuracy\n",
    "- True positive (sensitivity)\n",
    "- True negative (specificity)\n",
    "- False positive / False negative "
   ]
  },
  {
   "cell_type": "markdown",
   "id": "2ef343be",
   "metadata": {
    "slideshow": {
     "slide_type": "slide"
    }
   },
   "source": [
    "# Case Study 1: \n",
    "### Tutorial Assignment: Medical Testing and False Positives and Negatives (10 minutes)\n",
    "\n",
    "Let's begin by practicing with confusion matrices. Suppose that we have a classification model designed to assist doctors in deciding whether patients have the common cold.\n",
    "\n",
    "<img src=\"im/9/common_cold.png\">\n",
    "\n",
    "Based on information the doctor feeds the classification model, such as body temperature and the presence or absence of certain symptoms, the classification model predicts whether a patient has a cold. On a testing dataset, the classification model has the following confusion matrix.\n",
    "\n",
    "\n",
    "|            | Predict disease | Predict no disease |\n",
    "|------------|-----------------|--------------------|\n",
    "| Disease    | 17              | 2                  |\n",
    "| No Disease | 61              | 168                |\n",
    "\n",
    "- What do the numbers in the different cells represent? Interpret the confusion matrix.\n",
    "- What are the metrics (accuracy, sensitivity,  specificity)? Compute them all from this confusion matrix."
   ]
  },
  {
   "cell_type": "markdown",
   "id": "4de0e4ff",
   "metadata": {
    "slideshow": {
     "slide_type": "subslide"
    }
   },
   "source": [
    "## Ethics Primer\n",
    "Doing statistics in the real world is different from doing textbook exercises: it can have consequences on the real world and the people in it. "
   ]
  },
  {
   "cell_type": "markdown",
   "id": "bfad42da",
   "metadata": {
    "slideshow": {
     "slide_type": "fragment"
    }
   },
   "source": [
    "### Discussion (5 minutes)\n",
    "Brainstorm some examples from the course (or that you can think of) of how statistical methods might be used to make decisions (or otherwise have impact on people)"
   ]
  },
  {
   "cell_type": "markdown",
   "id": "0ad83f9f",
   "metadata": {
    "slideshow": {
     "slide_type": "fragment"
    }
   },
   "source": [
    "Since statistical analyses can have significant impacts on people, and we often have choices about how to perform those analyses, it is important to talk about the ethics of those choices. \n",
    "- Warning: there won’t be much statistics in the next 15 minutes, but we will be coming back to it!"
   ]
  },
  {
   "cell_type": "markdown",
   "id": "2b3510c5",
   "metadata": {
    "slideshow": {
     "slide_type": "subslide"
    }
   },
   "source": [
    "One simple framework for thinking about the ethics of our actions (including statistical analyses): \n",
    "1. Consider the impacts of your action: does it help or harm people overall (e.g. their life, health, money, other things)? [If the action would harm people overall, you usually shouldn’t do it]\n",
    "2. Does your action violate anyone’s rights? [If it violates someone’s rights, you usually shouldn’t do it]"
   ]
  },
  {
   "cell_type": "markdown",
   "id": "a99c440e",
   "metadata": {
    "slideshow": {
     "slide_type": "subslide"
    }
   },
   "source": [
    "### What's the difference between impacts and rights?\n",
    "\n",
    "Consider the following case (which we'll label *Organ Transplant*):\n",
    "\n",
    "<center><img src=\"im/9/kidney.jpg\"></center>\n",
    "\n",
    "Imagine you are a doctor. You have a sick patient who needs a kidney transplant, otherwise they will likely die. A healthy patient walks into the clinic for a routine procedure. You realize that while you are doing the procedure that you could remove one of the healthy patient's kidneys and give it to the sick patient, saving the sick patient's life. Suppose that you know that if the healthy patient would refuse to donate their kidney if asked. Suppose also that you could remove the kidney from the healthy patient without them ever finding out, so you wouldn't get in trouble. The healthy patient would be a little less healthy, but the impact on their life and well-being would not be significant.\n",
    "\n",
    "Let us suppose that you must choose from only the following two options:\n",
    "1. Remove one of the healthy patient’s kidneys and give it to the sick patient.\n",
    "2. Do not remove the healthy patient’s kidney."
   ]
  },
  {
   "cell_type": "markdown",
   "id": "191ad217",
   "metadata": {
    "slideshow": {
     "slide_type": "subslide"
    }
   },
   "source": [
    "### Question (to the whole group): (Think for a bit then vote)\n",
    "Which option would you take if you were the doctor?"
   ]
  },
  {
   "cell_type": "markdown",
   "id": "28a4fbd8",
   "metadata": {
    "slideshow": {
     "slide_type": "fragment"
    }
   },
   "source": [
    "Expected answer: The majority of students will likely choose (B), they wouldn't take the patient's kidney."
   ]
  },
  {
   "cell_type": "markdown",
   "id": "bb35d663",
   "metadata": {
    "slideshow": {
     "slide_type": "subslide"
    }
   },
   "source": [
    "### Discussion question (to the whole group): (5 minutes)\n",
    "What are the benefits and harms associated to options 1 and 2? "
   ]
  },
  {
   "cell_type": "markdown",
   "id": "5f76e0ff",
   "metadata": {
    "slideshow": {
     "slide_type": "fragment"
    }
   },
   "source": [
    "Sample Answer: option (A) has better impact than option (B): option (A) saves one person's life at the cost of one person's health, while option (B) gives one patient a little more health but at the loss of one person's life. This assumes that life is more valuable than health.\n",
    "\n",
    "You may have also come up with additional benefits or harms - e.g. other people will be sad if lives are lost, etc. That's fine, but shouldn't impact the overall calculus: option (A) seems to have better impact than option (B).  "
   ]
  },
  {
   "cell_type": "markdown",
   "id": "818407d6",
   "metadata": {
    "slideshow": {
     "slide_type": "fragment"
    }
   },
   "source": [
    "Why do most students think that we shouldn't take the healthy patient's kidney, even though it produces the best impacts? We can describe their reasoning in terms of rights. \n",
    "\n",
    "The main point in *Organ Transplant* is that it seems like the healthy patient has a right not to have their organs taken without their permission, even if doing so would result in the greatest overall benefits."
   ]
  },
  {
   "cell_type": "markdown",
   "id": "f480ab29",
   "metadata": {
    "slideshow": {
     "slide_type": "subslide"
    }
   },
   "source": [
    "### Discussion question (to the whole group): What are some other rights that you think people have? (5 minutes)\n",
    "Some examples of answers that students might give:\n",
    "- Right to privacy\n",
    "- Right to vote\n",
    "- Right to freedom of speech\n",
    "- Right not to be harmed (in certain ways) "
   ]
  },
  {
   "cell_type": "markdown",
   "id": "18cad76d",
   "metadata": {
    "slideshow": {
     "slide_type": "subslide"
    }
   },
   "source": [
    "### Follow-up discussion question: which of the rights you identified are most likely to be relevant in statistics? (5 minutes)\n",
    "Note (which may have come up earlier): Students are going to disagree about how to compare different harms and benefits, and what rights we have! That’s fine. The goal isn’t to find the single correct answer, just to get clearer on how to think about these problems and justify your answers to them. The guest lecturer will say something about this next week. "
   ]
  },
  {
   "cell_type": "markdown",
   "id": "6647346c",
   "metadata": {
    "slideshow": {
     "slide_type": "fragment"
    }
   },
   "source": [
    "One particularly important answer is the tight to privacy – because it affects data collection. "
   ]
  },
  {
   "cell_type": "markdown",
   "id": "384bc8cd",
   "metadata": {
    "slideshow": {
     "slide_type": "fragment"
    }
   },
   "source": [
    "Next, we’re going to use this framework (impacts + rights) to help us think about two case studies, mixing together statistics review with ethical analysis!"
   ]
  },
  {
   "cell_type": "markdown",
   "id": "3e7fb15c",
   "metadata": {
    "slideshow": {
     "slide_type": "subslide"
    }
   },
   "source": [
    "### Small Group Discussion (10 minutes); \n",
    "Should we prioritize accuracy, sensitivity or specificity? The framework of impacts and rights can help us to answer this question\n",
    "\n",
    "Consider the following stakeholders: (a) tested patients who have the illness, (b) tested patients who do not have the illness. Try to come to a consensus about your answers, but if you cannot, write down your disagreement: \n",
    "1.  What are the impacts (benefits and harms) of a false negative in this case? Consider both groups of stakeholders.\n",
    "2. What are the impacts (benefits and harms) of a false positive in this case? Consider both groups of stakeholders. [Fill this out as a table]? \n",
    "3. What do your answers for (1) and (2) imply for which metric the designer of the classification model should prioritize (accuracy, sensitivity, specificity)? In your answer, you should take into account: (a) the relative number of people in each stakeholder group, (b) the extent of the benefits or harms that would happen to them, and (c) whether any of their rights are infringed by the error.\n",
    "4. Would your answer to (3) change if the disease being tested for is a serious life-threatening condition? "
   ]
  },
  {
   "cell_type": "markdown",
   "id": "b3787570",
   "metadata": {
    "slideshow": {
     "slide_type": "slide"
    }
   },
   "source": [
    "# Case study 2: Mortgage applications (30 minutes)\n"
   ]
  },
  {
   "cell_type": "markdown",
   "id": "a621452c",
   "metadata": {
    "slideshow": {
     "slide_type": "subslide"
    }
   },
   "source": [
    "Many mortgage companies use classification models to predict whether someone will be likely to pay back their mortgage loan. (A mortgage is a loan offered by a bank to help someone buy something, often a residential property like a house or condo.)\n",
    "\n",
    "Imagine we are a mortgage company, and we had a dataset stored in a dataframe ```mortgage_applications``` with the following fields (monetary values measured in thousands):\n",
    "- ```\"Accept or Deny\", \"Applicant's income\", \"Net Worth\", \"Undergraduate GPA\",\"Application ID\", \"Dummy Variable\"```"
   ]
  },
  {
   "cell_type": "markdown",
   "id": "72a1656b",
   "metadata": {
    "slideshow": {
     "slide_type": "subslide"
    }
   },
   "source": [
    "We want to make a classification model to decide based on the available information whether we should accept or deny a new application, which contains all relevant information from the dataset except for \"Accept or Deny\".```\n",
    "Figure out as many problems with the following code snippet as you can. (They may or may not be coding errors)"
   ]
  },
  {
   "cell_type": "markdown",
   "id": "b0cb58db",
   "metadata": {
    "slideshow": {
     "slide_type": "fragment"
    }
   },
   "source": [
    "```\n",
    "clf = tree.DecisionTreeClassifier()\n",
    "mortgage_applications_nonans = mortgage_applications[[\"Applicant's income\", \"Net Worth\", \"Undergraduate GPA\", \"Application ID\"]] # We don't care about \"Dummy Variable\"\n",
    "X = mortgage_applications_nonans.iloc[:,1:].dropna()\n",
    "Y = mortgage_applications[\"Accept or Deny\"].dropna()\n",
    "\n",
    "clf = clf.fit(Y ~ X) # We fit our model with the availible data\n",
    "\n",
    "clf.predict(60,200, 3.5) # We want to know whether to accept the application of someone who makes 60k, has a net worth of 200k, and had a 3.5 gpa\n",
    "```"
   ]
  },
  {
   "cell_type": "markdown",
   "id": "5304735d",
   "metadata": {
    "slideshow": {
     "slide_type": "subslide"
    }
   },
   "source": [
    "Here are some problems you may or may not have noticed:\n",
    "- Application ID should not be included in the training data, it only gives the decision tree an opportunity to make spurious correlations\n",
    "- We should include ```.dropna()``` at the end of the line where we define ```mortgage_applications_nonans``` instead of on ```X``` and ```Y``` the way it is  done above leads to different rows being dropped in ```X``` and ```Y``` ruining the data.\n",
    "- ```Y ~ X``` is the format for giving a formula in linear regression, we need different syntax when fitting a decision tree. Instead, it should be ```clf.fit(X,Y)```\n",
    "- When using clf.predict(), we need to pass an array or dataframe containing the parameters instead of passing them directly as function arguments."
   ]
  },
  {
   "cell_type": "markdown",
   "id": "fa7b552b",
   "metadata": {
    "slideshow": {
     "slide_type": "subslide"
    }
   },
   "source": [
    "### Discussion:\n",
    "Imagine that you work for a mortgage company, and you are building a classification model to decide whether to accept mortgage applications. Please answer the following questions. Try to come to a consensus about your answers, but if you cannot, write down your disagreement:\n",
    "\n",
    "- Why would it usually be useful for the algorithm to have more information about the applicant? "
   ]
  },
  {
   "cell_type": "markdown",
   "id": "21555a9f",
   "metadata": {
    "slideshow": {
     "slide_type": "subslide"
    }
   },
   "source": [
    "But it is also important to remember that we **choose** what information to include in classification models.\n",
    "### Discussion:\n",
    "- Consider the following information: {Applicant’s income, net worth, undergraduate GPA, profession, criminal history, marriage status (including common law), age}. \n",
    "    - In small groups, group the information into two categories:\n",
    "        1. Information which you think is ethically appropriate for the bank to take into consideration in deciding whether to give someone a mortgage.\n",
    "        2. Information which you think is ethically inappropriate for the bank to take into consideration in deciding whether to give someone a mortgage.\n",
    "    - For each bit of information that you think is ethically inappropriate to take into consideration, explain why you think it is inappropriate, by picking one of the following options and expanding on it in a couple sentences:  \n",
    "        1. Taking it into consideration would produce more harm than benefit overall. \n",
    "        2. Taking it into consideration would violate someone's rights. \n",
    "        3. Taking it into consideration would be ethically wrong for some other reason. "
   ]
  },
  {
   "cell_type": "markdown",
   "id": "2397e626",
   "metadata": {
    "slideshow": {
     "slide_type": "slide"
    }
   },
   "source": [
    "## Tutorial Assignment (get started... )\n",
    "Suppose we are designing a classification model for reviewing applications to a prestigious medical school, with the goal of predicting the likelihood that they will graduate, which would then be used to determine who should be admitted. Using the framework discussed, please answer the following two questions:\n",
    "1. Consider the following information: {undergraduate GPA, MCAT score, volunteer activity, criminal history, marriage status (including common law), age}. \n",
    "- Sort the information into informations which is ethically appropriate or inappropriate to take into consideration whether to admit someone.\n",
    "- For each bit of information that you think is ethically inappropriate to take into consideration, explain why you think it is inappropriate, by picking one of the following options and expanding on it in a couple sentences:  \n",
    "    1. Taking it into consideration would produce more harm than benefit overall. \n",
    "    2. Taking it into consideration would violate someone’s rights. \n",
    "    3. Taking it into consideration would be ethically wrong for some other reason. \n",
    "2. Which metric or metrics (accuracy, sensitivity, specificity) should you prioritize in judging the performance of your model? How is your answer different from the mortgage company case discussed in tutorial?"
   ]
  },
  {
   "cell_type": "markdown",
   "id": "4e1a6e7f",
   "metadata": {
    "slideshow": {
     "slide_type": "subslide"
    }
   },
   "source": [
    "### Notes on approaching the writing prompt\n",
    "\n",
    "- Hand in the assignment on Quercus\n",
    "- Use full sentences\n",
    "- Grammar is *not* the main focus of the assessment, but it is important that you communicate in a clear and professional manner (without slang or emojis) \n",
    "- Aim for 200 - 500 words\n",
    "- Do not spend more than 90 minutes on the prompt (unless you really need to...)"
   ]
  }
 ],
 "metadata": {
  "celltoolbar": "Slideshow",
  "kernelspec": {
   "display_name": "Python 3 (ipykernel)",
   "language": "python",
   "name": "python3"
  },
  "language_info": {
   "codemirror_mode": {
    "name": "ipython",
    "version": 3
   },
   "file_extension": ".py",
   "mimetype": "text/x-python",
   "name": "python",
   "nbconvert_exporter": "python",
   "pygments_lexer": "ipython3",
   "version": "3.10.8"
  }
 },
 "nbformat": 4,
 "nbformat_minor": 5
}
