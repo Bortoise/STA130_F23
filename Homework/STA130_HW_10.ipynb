{
 "cells": [
  {
   "cell_type": "markdown",
   "id": "0e770c1b",
   "metadata": {},
   "source": [
    "# Coding Homework 10: [Your Name]\n",
    "\n",
    "\n",
    "- You can add new cells if you need (with the \"+\" button above); but, deleting cells could very likely cause your notebook to fail MarkUs autotesting (and you'd have to start over and re-enter your answers into a completely fresh version of the notebook to get things to work again...)\n",
    "- In this homework, be careful not to rerun any cells that involve invoking a random number generator \n",
    "\n",
    "> TAs will mark this assignment by first checking ***MarkUs*** autotests for completion and general correctness, and then manually reviewing your written response to `Q6, Q8, Q10, Q11` and plotted figures for `Q2, Q7, Q9`\n",
    "> - The following questions \"automatically fail\" during automated testing so that MarkUs exposes example answers for student review and consideration for these problems.  These \"failed MarkUs tests\" are not counted against the student: `Q6, Q8, Q10, Q11`\n"
   ]
  },
  {
   "cell_type": "markdown",
   "id": "2f44e4d8",
   "metadata": {},
   "source": [
    "We begin by importing dataset and the libraries we will use."
   ]
  },
  {
   "cell_type": "code",
   "execution_count": null,
   "id": "6f432a2b",
   "metadata": {},
   "outputs": [],
   "source": [
    "import pandas as pd\n",
    "import numpy as np\n",
    "import graphviz as gv\n",
    "from sklearn import tree, datasets\n",
    "from sklearn.model_selection import GridSearchCV, train_test_split, ShuffleSplit\n",
    "from sklearn.metrics import accuracy_score, recall_score, make_scorer\n",
    "from sklearn.inspection import PartialDependenceDisplay\n",
    "\n",
    "cancer_data = datasets.load_breast_cancer()\n",
    "cancer_df = pd.DataFrame(data=cancer_data.data, columns = cancer_data.feature_names)\n",
    "cancer_classes = pd.DataFrame(cancer_data.target).replace({0:'Malignant',1:'Benign'})"
   ]
  },
  {
   "cell_type": "markdown",
   "id": "4ea244ac",
   "metadata": {},
   "source": [
    "## Part 1: GridSearchCV "
   ]
  },
  {
   "cell_type": "markdown",
   "id": "8b2c9f2f",
   "metadata": {},
   "source": [
    "GridSearchCV is a powerful tool provided by sklearn for *hyperparameter tuning*, the process of refitting a model with many values of a hyperparameter (such as `max_depth`) in order to optimize performance. By exhaustively searching through a predefined grid of hyperparameter values, GridSearchCV allowes you to identify the best choices of parameters that yields the best model performance. This automated approach helps streamline the process of finding the right hyperparameters."
   ]
  },
  {
   "cell_type": "markdown",
   "id": "0cf63e65",
   "metadata": {},
   "source": [
    "To practice using GridSearchCV we will be working with some breast cancer classification data availible from sklearn. You might  want to learn more about the dataset here:\n",
    "- https://scikit-learn.org/stable/datasets/toy_dataset.html#breast-cancer-wisconsin-diagnostic-dataset\n",
    "- https://archive.ics.uci.edu/dataset/17/breast+cancer+wisconsin+diagnostic\n",
    "\n",
    "Before you start on the questions, use the below cells to play around with the dataset a bit. "
   ]
  },
  {
   "cell_type": "code",
   "execution_count": null,
   "id": "8898ad67",
   "metadata": {},
   "outputs": [],
   "source": []
  },
  {
   "cell_type": "code",
   "execution_count": null,
   "id": "677ddac2",
   "metadata": {},
   "outputs": [],
   "source": []
  },
  {
   "cell_type": "markdown",
   "id": "d6be9029",
   "metadata": {},
   "source": [
    "Now you might agree that the dataset seems very complicated, so we will start by "
   ]
  },
  {
   "cell_type": "markdown",
   "id": "81baa14a",
   "metadata": {},
   "source": [
    "### Q0: Preprocessing the dataset"
   ]
  },
  {
   "cell_type": "markdown",
   "id": "75d9eddf",
   "metadata": {},
   "source": [
    "We will begin by processing our data to be usable. This should be familiar as you did essentially the same thing for last week's homework. Do the following:\n",
    "- Make a new dataframe names `dataset_cleaned` that contains only the following columns from the `cancer_df`:\n",
    "    - `mean radius`, `mean texture`, `mean perimeter`, `mean fractal dimension`"
   ]
  },
  {
   "cell_type": "code",
   "execution_count": null,
   "id": "af84aab9",
   "metadata": {},
   "outputs": [],
   "source": []
  },
  {
   "cell_type": "code",
   "execution_count": null,
   "id": "d11b934e",
   "metadata": {},
   "outputs": [],
   "source": [
    "np.random.seed(1959) # Do NOT change this line: it sets the \"random number generation seed\"\n",
    "\n",
    "# Work here"
   ]
  },
  {
   "cell_type": "markdown",
   "id": "53eca163",
   "metadata": {},
   "source": [
    "### Q1: Use GridSearchCV to find the max_depth which optimizes your model for accuracy"
   ]
  },
  {
   "cell_type": "markdown",
   "id": "8a5b28be",
   "metadata": {},
   "source": [
    "Now use GridSearchCV to find the maximum depth in the range [0,20] which yields the most accurate decision tree (i.e. the decision tree which attains the highest training accuracy)."
   ]
  },
  {
   "cell_type": "code",
   "execution_count": null,
   "id": "2c682af3",
   "metadata": {},
   "outputs": [],
   "source": [
    "scoring = {'accuracy': make_scorer(accuracy_score),\n",
    "          'sensitivity': make_scorer(recall_score,pos_label='Malignant')} # This will provide the values you need for the remaining questions\n",
    "\n",
    "rs = ShuffleSplit(n_splits=2,test_size=0.20, random_state=30259) # Do NOT change this line: it sets the \"random number generation seed\"\n",
    "#Feb 03 1959 is 'The Day the Music Died' https://en.wikipedia.org/wiki/The_Day_the_Music_Died \n",
    "\n",
    "# Create and fit your GridSearchCV instance here\n"
   ]
  },
  {
   "cell_type": "code",
   "execution_count": null,
   "id": "a60dea6e",
   "metadata": {},
   "outputs": [],
   "source": []
  },
  {
   "cell_type": "code",
   "execution_count": null,
   "id": "4a5cc76a",
   "metadata": {},
   "outputs": [],
   "source": [
    "# Q1:\n",
    "Q1 = None"
   ]
  },
  {
   "cell_type": "markdown",
   "id": "990c19ff",
   "metadata": {},
   "source": [
    "### Q2: Use GraphViz to plot the tree best tree you found in Q1"
   ]
  },
  {
   "cell_type": "code",
   "execution_count": null,
   "id": "a1b469ec",
   "metadata": {},
   "outputs": [],
   "source": [
    "dot_data = tree.export_graphviz(clf_GS_1.best_estimator_, out_file=None, \n",
    "                                feature_names=features, class_names=['Malignant', 'Benign'],\n",
    "                                filled=True, rounded=True, special_characters=True)\n",
    "graph = gv.Source(dot_data, format='SVG')\n",
    "graph # You can comment this line and re-run so the figure doesn't render if MarkUs notebook renderer gives you an error of \n",
    "# \"nbconvert failed: Unicode strings with encoding declaration are not supported. Please use bytes input or XML fragments without declaration.\"\n",
    "# It's your responsibility to check this: TAs can't provide manual marks if your notebook doesn't render in MarkUs"
   ]
  },
  {
   "cell_type": "markdown",
   "id": "653e88ee",
   "metadata": {},
   "source": [
    "### Q3: What is the best accuracy for the decision trees you found in Q1?"
   ]
  },
  {
   "cell_type": "markdown",
   "id": "bd7e6148",
   "metadata": {},
   "source": [
    "Provide your answers as decimal numbers with three signifiant digits."
   ]
  },
  {
   "cell_type": "code",
   "execution_count": null,
   "id": "c73a04a8",
   "metadata": {},
   "outputs": [],
   "source": []
  },
  {
   "cell_type": "code",
   "execution_count": null,
   "id": "3b937121",
   "metadata": {},
   "outputs": [],
   "source": [
    "# Q3:\n",
    "Q3 = None"
   ]
  },
  {
   "cell_type": "markdown",
   "id": "0518ce47",
   "metadata": {},
   "source": [
    "### Q4: What is the sensitivity for the most accurate decision tree you found in Q1?"
   ]
  },
  {
   "cell_type": "markdown",
   "id": "aa9c7967",
   "metadata": {},
   "source": [
    "You can extract the sensitivity from your GridSearchCV object by looking in the `cv_results_` field and considering the `mean_test_sensitivity`. Provide your answers as decimal numbers with three signifiant digits."
   ]
  },
  {
   "cell_type": "code",
   "execution_count": null,
   "id": "899e2304",
   "metadata": {},
   "outputs": [],
   "source": []
  },
  {
   "cell_type": "code",
   "execution_count": null,
   "id": "adb50551",
   "metadata": {},
   "outputs": [],
   "source": [
    "# Q4:\n",
    "Q4 = None"
   ]
  },
  {
   "cell_type": "markdown",
   "id": "1ad613ea",
   "metadata": {},
   "source": [
    "### Q5: Re-answer Q1, Q3, and Q4 if you replace accuracy as the important metric with sensitivity when using GridSeachCV."
   ]
  },
  {
   "cell_type": "code",
   "execution_count": null,
   "id": "b9903717",
   "metadata": {},
   "outputs": [],
   "source": [
    "rs = ShuffleSplit(n_splits=2,test_size=0.20, random_state=30259) # Do NOT change this line: it sets the \"random number generation seed\"\n",
    "\n",
    "# Create and fit your second GridSearchCV instance here"
   ]
  },
  {
   "cell_type": "code",
   "execution_count": null,
   "id": "6bff2a98",
   "metadata": {},
   "outputs": [],
   "source": []
  },
  {
   "cell_type": "code",
   "execution_count": null,
   "id": "573e0068",
   "metadata": {},
   "outputs": [],
   "source": [
    "# Q5:\n",
    "Q5_max_depth = None\n",
    "Q5_accuracy = None\n",
    "Q5_sensitivity = None\n",
    "Q5 = (Q5_max_depth, Q5_accuracy, Q5_sensitivity)"
   ]
  },
  {
   "cell_type": "markdown",
   "id": "9df80245",
   "metadata": {},
   "source": [
    "### Q6: Use your answers to Q1-Q4 and to Q5 to compare differences between the outcome when different metric are prioritized."
   ]
  },
  {
   "cell_type": "markdown",
   "id": "68ddd1ba",
   "metadata": {},
   "source": [
    "#### Write a 1-2 sentence answer to this question in markdown cell below\n",
    "- Compare your response to the answer given in the *MarkUs* output."
   ]
  },
  {
   "cell_type": "markdown",
   "id": "da0a3da3",
   "metadata": {},
   "source": [
    "> Put your answer here "
   ]
  },
  {
   "cell_type": "markdown",
   "id": "c6a9a975",
   "metadata": {},
   "source": [
    "## Part 2: Mean Effects of a Variable on Classification"
   ]
  },
  {
   "cell_type": "markdown",
   "id": "58d42288",
   "metadata": {},
   "source": [
    "In the last homework you worked with `Feature Importance` to determine how important different features were to the classification model you developed. However, as you might have noticed, `Feature Importance` does not tell you much about the relationship between a feature and the classification model's predictions, beyond that a given feature might be important to the prediction process. In linear regression, you can read off the regression coefficients to determine the numerical relationship between a predictor and the output. For more complicated general models, it is hard to reduce the relationship between prodictors and prediction to a single number, thus we will be using `Partial dependence plots` (PDPs) to try and understand these relationships better."
   ]
  },
  {
   "cell_type": "markdown",
   "id": "e56e464c",
   "metadata": {},
   "source": [
    "Here we will only be using one particular type of PDP, namely one-way PDPs for binary classification models (if you want to know what this means you can visit the documentation page below). A one-way PDP for a binary classification model shows the estimated probability of the model predicting the positive label against the value of some predictor varaible, as estimated by predicting on some sample dataset. Here is example of a PDP:"
   ]
  },
  {
   "cell_type": "markdown",
   "id": "3f6f19c2",
   "metadata": {},
   "source": [
    "\n",
    "<center><img src=\"im/10/example_PDP.png\"></center>"
   ]
  },
  {
   "cell_type": "markdown",
   "id": "faed977d",
   "metadata": {},
   "source": [
    "You can read off the following information from the above PDP as follows (at least on the sample dataset): If `area error` is between 0 and 20 or so, the model predicts a bit less than 40% of datapoints have the positive label, if `area error` is between 20 and 90 or so, the model predicts a bit more than 40% of datapoints have the positive label, and if `area error` is above 90, the model predicts all datapoints have the positive label. "
   ]
  },
  {
   "cell_type": "markdown",
   "id": "7d4a1d65",
   "metadata": {},
   "source": [
    "To learn how to create partial dependence plots you should read the documentation:\n",
    "- https://scikit-learn.org/stable/modules/generated/sklearn.inspection.PartialDependenceDisplay.html#sklearn.inspection.PartialDependenceDisplay.from_estimator.\n",
    "\n",
    "For more information you can also read this page:\n",
    " - https://scikit-learn.org/stable/modules/partial_dependence.html"
   ]
  },
  {
   "cell_type": "markdown",
   "id": "5176245a",
   "metadata": {},
   "source": [
    "### Q7: Create all the single-variable PDPs from the mode you found in Q1."
   ]
  },
  {
   "cell_type": "markdown",
   "id": "dd904790",
   "metadata": {},
   "source": [
    "> Hint: You can do this is one line, and use the use full (cleaned) dataset for the sample required by PartialDependenceDisplay.from_estimator()."
   ]
  },
  {
   "cell_type": "code",
   "execution_count": null,
   "id": "847fa791",
   "metadata": {
    "scrolled": false
   },
   "outputs": [],
   "source": []
  },
  {
   "cell_type": "markdown",
   "id": "3aae2fde",
   "metadata": {},
   "source": [
    "### Q8: Interpret the PDPs you made in Q7."
   ]
  },
  {
   "cell_type": "markdown",
   "id": "c48b51ae",
   "metadata": {},
   "source": [
    "#### Write a 2-3 sentence answer to this question in markdown cell below\n",
    "- Compare your response to the answer given in the *MarkUs* output.\n",
    "> - Hint: Which variables are most influential? \n",
    "> - Hint: How would you describe the relationships between the variables and predicted label? \n",
    "> - Hint: Can you correspond anything in the PDPs to the decision tree itself?"
   ]
  },
  {
   "cell_type": "markdown",
   "id": "6b213507",
   "metadata": {},
   "source": [
    "> Put your answer here"
   ]
  },
  {
   "cell_type": "markdown",
   "id": "d08a3cc0",
   "metadata": {},
   "source": [
    "### Q9: Create all the single-variable PDPs from the model you found in Q5."
   ]
  },
  {
   "cell_type": "markdown",
   "id": "7cdf3de0",
   "metadata": {},
   "source": [
    "> Hint: You can do this is one line, and use the use full (cleaned) dataset for the sample required by PartialDependenceDisplay.from_estimator()."
   ]
  },
  {
   "cell_type": "code",
   "execution_count": null,
   "id": "c80c2fb9",
   "metadata": {
    "scrolled": false
   },
   "outputs": [],
   "source": []
  },
  {
   "cell_type": "markdown",
   "id": "df8b1bb3",
   "metadata": {},
   "source": [
    "### Q10: Interpret the PDPs you made in Q9."
   ]
  },
  {
   "cell_type": "markdown",
   "id": "854aeba4",
   "metadata": {},
   "source": [
    "#### Write a 2-3 sentence answer to this question in markdown cell below\n",
    "- Compare your response to the answer given in the *MarkUs* output.\n",
    "> - Hint: Which variables are most influential? \n",
    "> - Hint: How would you describe the relationships between the variables and predicted label? \n",
    "> - Hint: Can you correspond anything in the PDPs to the decision tree itself?"
   ]
  },
  {
   "cell_type": "markdown",
   "id": "4d70cbb8",
   "metadata": {},
   "source": [
    "> Put your answer here"
   ]
  },
  {
   "cell_type": "markdown",
   "id": "32957bb5",
   "metadata": {},
   "source": [
    " ### Q11: Compare how you interpret PDPs vs coefficients in linear regression"
   ]
  },
  {
   "cell_type": "markdown",
   "id": "8236aab2",
   "metadata": {},
   "source": [
    "#### Write a 1-2 sentence answer to this question in markdown cell below\n",
    "- Compare your response to the answer given in the *MarkUs* output.\n",
    "> - Hint: Consider the goals of classification models to the goals of linear regression."
   ]
  },
  {
   "cell_type": "markdown",
   "id": "9e3edc88",
   "metadata": {},
   "source": [
    "> Put your answer here"
   ]
  }
 ],
 "metadata": {
  "kernelspec": {
   "display_name": "Python 3 (ipykernel)",
   "language": "python",
   "name": "python3"
  },
  "language_info": {
   "codemirror_mode": {
    "name": "ipython",
    "version": 3
   },
   "file_extension": ".py",
   "mimetype": "text/x-python",
   "name": "python",
   "nbconvert_exporter": "python",
   "pygments_lexer": "ipython3",
   "version": "3.10.8"
  }
 },
 "nbformat": 4,
 "nbformat_minor": 5
}
