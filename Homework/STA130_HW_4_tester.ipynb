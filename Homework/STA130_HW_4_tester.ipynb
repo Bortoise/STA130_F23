{
 "cells": [
  {
   "cell_type": "markdown",
   "id": "42ab3d54",
   "metadata": {},
   "source": [
    "# Coding Homework 4: [Your Name]\n",
    "\n",
    "Go through this notebook, following the instructions! \n",
    "- You can add new cells if you need (with the \"+\" button above); but, deleting (or resorting) cells could very likely cause your notebook to fail MarkUs autotesting (and you'd have to start over and re-enter your answers into a completely fresh version of the notebook to get things to work again...)\n",
    "\n",
    "> TAs will mark this assignment by checking ***MarkUs*** autotests; then, manually confirming the correctness of plots in `Q11` (based on correct code usage of `replace=False`); then, manually reviewing the written response to question `...`. TAs may or may not spot check the presence of plots for `Q2, Q8, Q9 ...` and written answers for `Q6, Q8, ...`.\n",
    "> - The autotests for questions `Q6, Q8, Q9, ...` and all optional questions (from `Q11` to `Q20`) \"automatically fail\" during automated testing with ***MarkUs*** in order to expose example answers for student consideration and review.  These \"failed ***MarkUs*** tests\" are not counted against the student. "
   ]
  },
  {
   "cell_type": "markdown",
   "id": "c6b08913",
   "metadata": {},
   "source": [
    "## Driving on the \"Right\" Side of the Road\n",
    "Let's explore how cars drive on the right or left side of the road in different countries. World Standards' [list of left driving countries](https://www.worldstandards.eu/cars/list-of-left-driving-countries/) shows that 86 of all 270 countries in the world drive on the left side of the road."
   ]
  },
  {
   "cell_type": "code",
   "execution_count": 1,
   "id": "07099e61",
   "metadata": {},
   "outputs": [],
   "source": [
    "# Run the following code to get the data\n",
    "import pandas as pd # used immediately\n",
    "import numpy as np # to be used eventually!\n",
    "\n",
    "roaddata = pd.DataFrame({\"road_side\": [\"left\"] * 86 + [\"right\"] * (270 - 86)})"
   ]
  },
  {
   "cell_type": "code",
   "execution_count": null,
   "id": "26ecf996",
   "metadata": {},
   "outputs": [],
   "source": [
    "# Have a look at the data!\n"
   ]
  },
  {
   "cell_type": "markdown",
   "id": "4debf2c3",
   "metadata": {},
   "source": [
    "### Q0: Are the observations (rows) in `roaddata` the entire population or a sample from a population?\n",
    "A. entire population    \n",
    "B. sample from a population"
   ]
  },
  {
   "cell_type": "code",
   "execution_count": 2,
   "id": "d512c280",
   "metadata": {},
   "outputs": [],
   "source": [
    "# Q0: your answer will be tested!\n",
    "Q0 = None # Assign either 'A' or 'B' `Q0` instead of `None`\n",
    "# E.g., Q0 = 'A'"
   ]
  },
  {
   "cell_type": "code",
   "execution_count": 7,
   "id": "1757fc2f",
   "metadata": {},
   "outputs": [],
   "source": [
    "test = Q0=='A'\n",
    "hint = \"If `roaddata` was a sample, then what would the population be?\\n\"\n",
    "hint += 'If \"alternative universes\" is your answer then we have only n=1 observation(!)\\n'\n",
    "hint += 'which is a single row with many measurements (of the side of the road different countries drive on).'"
   ]
  },
  {
   "cell_type": "code",
   "execution_count": 6,
   "id": "a25e6a8b",
   "metadata": {},
   "outputs": [
    {
     "ename": "AssertionError",
     "evalue": "If `roaddata` was a sample, then what would the population be?\nif \"alternative universes\" is your answer then we have only n=1 observation(!)\nwhich is a single row with many measurements (of the side of the road different countries drive on).",
     "output_type": "error",
     "traceback": [
      "\u001b[0;31m---------------------------------------------------------------------------\u001b[0m",
      "\u001b[0;31mAssertionError\u001b[0m                            Traceback (most recent call last)",
      "Cell \u001b[0;32mIn[6], line 2\u001b[0m\n\u001b[1;32m      1\u001b[0m \u001b[38;5;66;03m# test_Q0\u001b[39;00m\n\u001b[0;32m----> 2\u001b[0m \u001b[38;5;28;01massert\u001b[39;00m test, hint\n",
      "\u001b[0;31mAssertionError\u001b[0m: If `roaddata` was a sample, then what would the population be?\nif \"alternative universes\" is your answer then we have only n=1 observation(!)\nwhich is a single row with many measurements (of the side of the road different countries drive on)."
     ]
    }
   ],
   "source": [
    "# test_Q0\n",
    "\n",
    "assert test, hint"
   ]
  },
  {
   "cell_type": "markdown",
   "id": "255ce211",
   "metadata": {},
   "source": [
    "### Q1: Select a random sample of 100 unique countries from `roaddata` and call it `road_sample`.\n",
    "> - Hint 1: Use `roaddata.sample()`; or https://letmegooglethat.com/?q=python+pandas+sample and you'll want that first `pd.sample()` link that comes up.\n",
    "> - Hint 2: Do not use `replace=True` because this means after one of the countries is drawn, it is put back (\"replaced\" with `replace=True`) and can be drawn again (twice or even more!), but this is not what we want for this question. \n",
    "> - Hint 3: **Sampling with replacement is called bootstrapping, and this will be useful for us, but we'll get to that next!**"
   ]
  },
  {
   "cell_type": "code",
   "execution_count": 216,
   "id": "a29cca1d",
   "metadata": {},
   "outputs": [],
   "source": [
    "# Q1: Your answer will be tested based on your `road_sample` object itself!\n",
    "#     You don't need to assign anything to a `Q1` object.\n",
    "np.random.seed(130) # Do NOT change this line: it sets the \"random number generation seed\"\n",
    "# which makes the \"pseudorandomness\" gererated in the code the same every time and this\n",
    "# makes the code reproducibile which ensures that our testing code works properly every time\n",
    "\n",
    "road_sample = roaddata.sample(n=100)"
   ]
  },
  {
   "cell_type": "code",
   "execution_count": 23,
   "id": "85081e79",
   "metadata": {},
   "outputs": [],
   "source": [
    "hint = \"Make sure you did not change the seed, and make sure you don't use\"\n",
    "hint += \"`replace=True` because this we want 100 unique countries.\""
   ]
  },
  {
   "cell_type": "code",
   "execution_count": 24,
   "id": "b01fc299",
   "metadata": {},
   "outputs": [],
   "source": [
    "# test_Q1\n",
    "\n",
    "left_count = road_sample['road_side'].value_counts()['left']\n",
    "assert left_count == 30 and len(road_sample) == 100, hint"
   ]
  },
  {
   "cell_type": "markdown",
   "id": "cb8f68da",
   "metadata": {},
   "source": [
    "### Q2: Using `road_sample`, as opposed to `roaddata`(!), create 2000 bootstrap samples and calculate the proportion of countries who drive on the left side of the road for each of the 2000 bootstrap samples. \n",
    "\n",
    "#### Which of the following best describes how the `plotly` histogram of the bootstrap sampling distribution of the proportion of countries that drive on the left side compares to the proportion observed in the original sample?\n",
    "\n",
    "- A. The proporiton observed in the orginal sample is on the left side of the bootstrap sampling distribution, which makes sense since the sample size is less than the population size  \n",
    "- B. The proporiton observed in the orginal sample is pretty much in the middle of the bootstrap sampling distribution, which makes sense since bootstrap data is resampled versions of the original sample  \n",
    "- C. The proporiton observed in the orginal sample is on the right side of the bootstrap sampling distribution, which makes sense since there are more bootstrap samples than the orignal sample size  \n",
    "- D. None of the above  \n",
    "\n",
    "> - Hint 1: **Bootstrapping means creating a new sample from an original sample using (a) `replace=True` and which (b) has the same sample size as the original sample**\n",
    "> - Hint 2: To calculate the proportion, you can use coercion to 'left' and 'right' into `0`'s and `1`'s, e.g., with `(road_sample['road_side'] == 'left').mean()`\n",
    "> - Hint 3: You can mark the proporition in the original sample on your histogram with `fig.add_vline(x=road_sample['road_side'] == 'left').mean())`\n",
    "> - Hint 4: `roaddata` is viewed as the population, whereas `road_sample` is a sample from this population... <br>**Bootstrapping samples from samples... sampling from a population is just creating a sample...**\n"
   ]
  },
  {
   "cell_type": "code",
   "execution_count": 43,
   "id": "6f897cf5",
   "metadata": {},
   "outputs": [],
   "source": [
    "# Q2: your answer will be tested!\n",
    "Q2 = None # Assign either 'A', 'B', 'C', or 'D' to `Q2` instead of `None`\n",
    "# E.g., Q2 = 'A'"
   ]
  },
  {
   "cell_type": "code",
   "execution_count": 51,
   "id": "5d92f7cd",
   "metadata": {},
   "outputs": [],
   "source": [
    "hint = '''The following code should be helpful...\n",
    "and it also demonstrates some possible good code optimizations...'''\n",
    "\n",
    "code = '''\n",
    "\n",
    "np.random.seed(130) # Use this line to create reproducible pseudorandomness for your bootstrapping\n",
    "\n",
    "import plotly.express as px\n",
    "\n",
    "# let's just convert to 0/1 numeric once -- this is more efficient!\n",
    "road_sample['numeric'] = np.where(road_sample['road_side'] == 'left', 1, 0) # or\n",
    "# road_sample['boolean_coercable_to_numeric'] = (road_sample['road_side'] == 'left')\n",
    "sample_size_n = 100\n",
    "number_of_bootstrap_samples = 2000\n",
    "bootstrapped_proporitions = np.array([0.0]*number_of_bootstrap_samples, dtype='float')\n",
    "# it's more efficient to use an `np.array` rather than a `list`, especially if you make an empty list\n",
    "# `bootstrapped_proporitions=[]` that you incrementally extend `bootstrapped_proporitions+=[next_prop]`\n",
    "for i in range(number_of_bootstrap_samples):\n",
    "    # `np.random.choice` is an alternative to utilizing `road_sample.sample(..., replace=True)`\n",
    "    bootstrap_sample = np.random.choice(road_sample['numeric'], sample_size_n)\n",
    "    # bootstrap_sample = (bootstrap_sample == 'left').mean() # don't need this now!\n",
    "    bootstrapped_proporitions[i] = bootstrap_sample.mean()\n",
    "\n",
    "fig = px.histogram(pd.DataFrame({\"Bootstrapped Proprotions (i.e., means)\": bootstrapped_proporitions}), \n",
    "                   x=\"Bootstrapped Proprotions (i.e., means)\", histnorm='probability density', nbins=12)\n",
    "fig.add_vline(x=road_sample['numeric'].mean())\n",
    "fig.show()\n",
    "'''\n",
    "test = (Q2=='B')"
   ]
  },
  {
   "cell_type": "code",
   "execution_count": 52,
   "id": "79412204",
   "metadata": {},
   "outputs": [
    {
     "ename": "AssertionError",
     "evalue": "The following code should be helpful...\nand it also demonstrates some possible good code optimizations...\n\nnp.random.seed(130) # Use this line to create reproducbile pseudorandomness for your bootstrapping\n\nimport plotly.express as px\n\n# let's just convert to 0/1 numeric once -- this is more efficient!\nroad_sample['numeric'] = np.where(road_sample['road_side'] == 'left', 1, 0) # or\n# road_sample['boolean_coercable_to_numeric'] = (road_sample['road_side'] == 'left')\nnumber_of_bootstrap_samples = 2000\nbootstrapped_proporitions = np.array([0.0]*number_of_bootstrap_samples, dtype='float')\n# it's more efficient to use an `np.array` rather than a `list`, especially if you make an empty list\n# `bootstrapped_proporitions=[]` that you incrementally extend `bootstrapped_proporitions+=[next_prop]`\nfor i in range(number_of_bootstrap_samples):\n    bootstrap_sample = np.random.choice(road_sample['numeric'], 100)\n    # bootstrap_sample = (bootstrap_sample == 'left').mean() # don't need this now!\n    bootstrapped_proporitions[i] = bootstrap_sample.mean()\n\nfig = px.histogram(pd.DataFrame({\"Bootstrapped Proprotions (i.e., means)\": bootstrapped_proporitions}), \n                   x=\"Bootstrapped Proprotions (i.e., means)\", histnorm='probability density', nbins=12)\nfig.add_vline(x=road_sample['numeric'].mean())\nfig.show()\n",
     "output_type": "error",
     "traceback": [
      "\u001b[0;31m---------------------------------------------------------------------------\u001b[0m",
      "\u001b[0;31mAssertionError\u001b[0m                            Traceback (most recent call last)",
      "Cell \u001b[0;32mIn[52], line 3\u001b[0m\n\u001b[1;32m      1\u001b[0m \u001b[38;5;66;03m# test_Q2\u001b[39;00m\n\u001b[0;32m----> 3\u001b[0m \u001b[38;5;28;01massert\u001b[39;00m test, hint\u001b[38;5;241m+\u001b[39mcode\n",
      "\u001b[0;31mAssertionError\u001b[0m: The following code should be helpful...\nand it also demonstrates some possible good code optimizations...\n\nnp.random.seed(130) # Use this line to create reproducbile pseudorandomness for your bootstrapping\n\nimport plotly.express as px\n\n# let's just convert to 0/1 numeric once -- this is more efficient!\nroad_sample['numeric'] = np.where(road_sample['road_side'] == 'left', 1, 0) # or\n# road_sample['boolean_coercable_to_numeric'] = (road_sample['road_side'] == 'left')\nnumber_of_bootstrap_samples = 2000\nbootstrapped_proporitions = np.array([0.0]*number_of_bootstrap_samples, dtype='float')\n# it's more efficient to use an `np.array` rather than a `list`, especially if you make an empty list\n# `bootstrapped_proporitions=[]` that you incrementally extend `bootstrapped_proporitions+=[next_prop]`\nfor i in range(number_of_bootstrap_samples):\n    bootstrap_sample = np.random.choice(road_sample['numeric'], 100)\n    # bootstrap_sample = (bootstrap_sample == 'left').mean() # don't need this now!\n    bootstrapped_proporitions[i] = bootstrap_sample.mean()\n\nfig = px.histogram(pd.DataFrame({\"Bootstrapped Proprotions (i.e., means)\": bootstrapped_proporitions}), \n                   x=\"Bootstrapped Proprotions (i.e., means)\", histnorm='probability density', nbins=12)\nfig.add_vline(x=road_sample['numeric'].mean())\nfig.show()\n"
     ]
    }
   ],
   "source": [
    "# test_Q2\n",
    "\n",
    "assert test, hint+code"
   ]
  },
  {
   "cell_type": "markdown",
   "id": "16c8ec77",
   "metadata": {},
   "source": [
    "### Q3: The proportion of countries where cars drive on the left size of the road in the original `road_sample` sample is $0.3$; whereas, the overall mean of the bootstrapped proportions calculated using the solution code (given in the *MarkUs* hints for missed Q2 or Q3) is $0.29815499999999995$; whereas, the actual proportion of all countries in `roaddata` where cars drive on the left side of the road is $0.31851851851851853$.\n",
    "\n",
    "\n",
    "#### Which of the following best explains why these numbers are different?\n",
    "\n",
    "- A. The solution code is wrong since it uses pre-converted numeric values and a pre-allocated `np.array` that it indexes values into (as opposed to extending a list through concatenation) which is why it doesn't match the other numbers.  \n",
    "- B. The larger the sample size, the closer the mean of the sample would be expected to be to the population mean (since it uses more values from the population); whereas, the overall average of a bootstrap sampling distribution would be expected to be more similar to the mean of the sample being bootstrapped (since it reflects the \"bias\" of that sample by only using values from that sample), and increasingly similar as more and more bootstrap samples are averaged. \n",
    "- C. The overall average of a bootstrap sampling distribution will be closer to the original sample mean when there are fewer bootstrap samples, and closer to the population mean when there are more bootstrap samples.\n",
    "- D. None of these are similar because none of them are related to each other. The mean of the sample in `road_sample` is likely different \n",
    "\n",
    "\n"
   ]
  },
  {
   "cell_type": "code",
   "execution_count": null,
   "id": "64838d52",
   "metadata": {},
   "outputs": [],
   "source": []
  },
  {
   "cell_type": "code",
   "execution_count": null,
   "id": "fbeda54f",
   "metadata": {},
   "outputs": [],
   "source": []
  },
  {
   "cell_type": "code",
   "execution_count": 58,
   "id": "8ccd84c6",
   "metadata": {},
   "outputs": [],
   "source": [
    "# Q3: your answer will be tested!\n",
    "Q3 = None # Assign either 'A', 'B', 'C', or 'D' to `Q3` instead of `None`\n",
    "# E.g., Q3 = 'A'"
   ]
  },
  {
   "cell_type": "code",
   "execution_count": 61,
   "id": "a1b9fff0",
   "metadata": {},
   "outputs": [],
   "source": [
    "hint = '''After running the code below, these three calcuations\n",
    "\n",
    "bootstrapped_proporitions.mean(), road_sample.numeric.mean(), (roaddata=='left').values.mean()\n",
    "\n",
    "have the values (0.29815499999999995, 0.3, 0.31851851851851853)\n",
    "'''\n",
    "test = (Q3=='B')"
   ]
  },
  {
   "cell_type": "code",
   "execution_count": 62,
   "id": "b5003e5e",
   "metadata": {},
   "outputs": [
    {
     "ename": "AssertionError",
     "evalue": "After running the code below, these three calcuations\n\nbootstrapped_proporitions.mean(), road_sample.numeric.mean(), (roaddata=='left').values.mean()\n\nhave the values (0.29815499999999995, 0.3, 0.31851851851851853)\n\n\nnp.random.seed(130) # Use this line to create reproducbile pseudorandomness for your bootstrapping\n\nimport plotly.express as px\n\n# let's just convert to 0/1 numeric once -- this is more efficient!\nroad_sample['numeric'] = np.where(road_sample['road_side'] == 'left', 1, 0) # or\n# road_sample['boolean_coercable_to_numeric'] = (road_sample['road_side'] == 'left')\nnumber_of_bootstrap_samples = 2000\nbootstrapped_proporitions = np.array([0.0]*number_of_bootstrap_samples, dtype='float')\n# it's more efficient to use an `np.array` rather than a `list`, especially if you make an empty list\n# `bootstrapped_proporitions=[]` that you incrementally extend `bootstrapped_proporitions+=[next_prop]`\nfor i in range(number_of_bootstrap_samples):\n    bootstrap_sample = np.random.choice(road_sample['numeric'], 100)\n    # bootstrap_sample = (bootstrap_sample == 'left').mean() # don't need this now!\n    bootstrapped_proporitions[i] = bootstrap_sample.mean()\n\nfig = px.histogram(pd.DataFrame({\"Bootstrapped Proprotions (i.e., means)\": bootstrapped_proporitions}), \n                   x=\"Bootstrapped Proprotions (i.e., means)\", histnorm='probability density', nbins=12)\nfig.add_vline(x=road_sample['numeric'].mean())\nfig.show()\n",
     "output_type": "error",
     "traceback": [
      "\u001b[0;31m---------------------------------------------------------------------------\u001b[0m",
      "\u001b[0;31mAssertionError\u001b[0m                            Traceback (most recent call last)",
      "Cell \u001b[0;32mIn[62], line 3\u001b[0m\n\u001b[1;32m      1\u001b[0m \u001b[38;5;66;03m# test_Q3\u001b[39;00m\n\u001b[0;32m----> 3\u001b[0m \u001b[38;5;28;01massert\u001b[39;00m test, hint\u001b[38;5;241m+\u001b[39mcode\n",
      "\u001b[0;31mAssertionError\u001b[0m: After running the code below, these three calcuations\n\nbootstrapped_proporitions.mean(), road_sample.numeric.mean(), (roaddata=='left').values.mean()\n\nhave the values (0.29815499999999995, 0.3, 0.31851851851851853)\n\n\nnp.random.seed(130) # Use this line to create reproducbile pseudorandomness for your bootstrapping\n\nimport plotly.express as px\n\n# let's just convert to 0/1 numeric once -- this is more efficient!\nroad_sample['numeric'] = np.where(road_sample['road_side'] == 'left', 1, 0) # or\n# road_sample['boolean_coercable_to_numeric'] = (road_sample['road_side'] == 'left')\nnumber_of_bootstrap_samples = 2000\nbootstrapped_proporitions = np.array([0.0]*number_of_bootstrap_samples, dtype='float')\n# it's more efficient to use an `np.array` rather than a `list`, especially if you make an empty list\n# `bootstrapped_proporitions=[]` that you incrementally extend `bootstrapped_proporitions+=[next_prop]`\nfor i in range(number_of_bootstrap_samples):\n    bootstrap_sample = np.random.choice(road_sample['numeric'], 100)\n    # bootstrap_sample = (bootstrap_sample == 'left').mean() # don't need this now!\n    bootstrapped_proporitions[i] = bootstrap_sample.mean()\n\nfig = px.histogram(pd.DataFrame({\"Bootstrapped Proprotions (i.e., means)\": bootstrapped_proporitions}), \n                   x=\"Bootstrapped Proprotions (i.e., means)\", histnorm='probability density', nbins=12)\nfig.add_vline(x=road_sample['numeric'].mean())\nfig.show()\n"
     ]
    }
   ],
   "source": [
    "# test_Q3\n",
    "\n",
    "assert test, hint+code"
   ]
  },
  {
   "cell_type": "markdown",
   "id": "0edd86a3",
   "metadata": {},
   "source": [
    "### Q4: Calculate a 90% bootstrap confidence interval for the proportion of countries where cars drive on the left side of the road based on the bootstrap sampling distribution you generated in Q2.\n",
    "\n",
    "#### Give your interval limits as continuous numeric values rounded to two decimal positions.\n",
    "\n",
    "> - Hint 1: Use the `np.quantile` or `np.percentile` functions (which are slightly different... how?).\n",
    "> - Hint 2: **A 95% bootstrap confidence interval 0.025 and 97.5 percentiles of the bootstrap sampling distribution.**"
   ]
  },
  {
   "cell_type": "code",
   "execution_count": 79,
   "id": "51619289",
   "metadata": {},
   "outputs": [
    {
     "data": {
      "text/plain": [
       "(array([0.22, 0.38]), array([0.22, 0.38]))"
      ]
     },
     "execution_count": 79,
     "metadata": {},
     "output_type": "execute_result"
    }
   ],
   "source": [
    "your_2000_bootstrapped_proporitions = bootstrapped_proporitions\n",
    "confint_lower, confint_upper = np.quantile(your_2000_bootstrapped_proporitions, (0.05, 0.95))"
   ]
  },
  {
   "cell_type": "code",
   "execution_count": 72,
   "id": "3c8a6446",
   "metadata": {},
   "outputs": [],
   "source": [
    "# Q4: your answer will be tested!\n",
    "your_2000_bootstrapped_proporitions = None\n",
    "confint_lower = None # use np.round(..., 2)\n",
    "confint_upper = None # use np.round(..., 2)\n",
    "Q4 = (your_2000_bootstrapped_proporitions, confint_lower, confint_upper) \n",
    "# Assign a `tuple` of your 2000 bootstrapped proporiotions two two-decimal rounded `float`s to Q4"
   ]
  },
  {
   "cell_type": "code",
   "execution_count": 77,
   "id": "7effc8d4",
   "metadata": {},
   "outputs": [],
   "source": [
    "hint = \"A 90% confidence interval refers to the middle 90% of the bootstrapped means,\\n\"\n",
    "hint += \"so make sure that the quantiles you use have a difference of 0.90.\""
   ]
  },
  {
   "cell_type": "code",
   "execution_count": 81,
   "id": "f9d59ba1",
   "metadata": {},
   "outputs": [
    {
     "ename": "AssertionError",
     "evalue": "A 90% confidence interval refers to the middle 90% of the bootstrapped means,\nso make sure that the quantiles you use have a difference of 0.90.",
     "output_type": "error",
     "traceback": [
      "\u001b[0;31m---------------------------------------------------------------------------\u001b[0m",
      "\u001b[0;31mAssertionError\u001b[0m                            Traceback (most recent call last)",
      "Cell \u001b[0;32mIn[81], line 2\u001b[0m\n\u001b[1;32m      1\u001b[0m \u001b[38;5;66;03m# test_Q4\u001b[39;00m\n\u001b[0;32m----> 2\u001b[0m \u001b[38;5;28;01massert\u001b[39;00m \u001b[38;5;129;01mnot\u001b[39;00m np\u001b[38;5;241m.\u001b[39mall(np\u001b[38;5;241m.\u001b[39mquantile(your_2000_bootstrapped_proporitions, (\u001b[38;5;241m0.05\u001b[39m, \u001b[38;5;241m0.95\u001b[39m))\u001b[38;5;241m==\u001b[39mnp\u001b[38;5;241m.\u001b[39marray([Q4[\u001b[38;5;241m1\u001b[39m],Q4[\u001b[38;5;241m2\u001b[39m]])), hint\n",
      "\u001b[0;31mAssertionError\u001b[0m: A 90% confidence interval refers to the middle 90% of the bootstrapped means,\nso make sure that the quantiles you use have a difference of 0.90."
     ]
    }
   ],
   "source": [
    "# test_Q4\n",
    "\n",
    "assert np.all(np.quantile(your_2000_bootstrapped_proporitions, (0.05, 0.95))==np.array([Q4[1],Q4[2]])), hint"
   ]
  },
  {
   "cell_type": "markdown",
   "id": "5dab67ae",
   "metadata": {},
   "source": [
    "### Q5: Suppose you got a confidence interval of (27%, 44%). Indicate whether or not each of the following statements is a correct interpretation of the confidence interval.\n",
    "- A. We are 90% confident that between 27% and 44% of countries in our `road_sample` sample are countries where cars drive on the left side of the road.   \n",
    "- B. There is a 90% chance that between 27% and 44% of all countries in the population drive on the left side; or, equivalently restated: at any given time time there's a 90% that the proporitions of countries in the world where cars drive on the left side of the road will be between 27% and 44%.\n",
    "- C. If we consider many random samples of 100 countries/regions, i.e., `road_sample_1`, `road_sample_2`, etc., and we calculate 90% bootstrap confidence intervals for each sample, approximately 90% of these bootstrap confidence intervals will include the true proportion of countries/regions in the population who drive on the left side of the road.   \n",
    "- D. The chance that we drew a sample which results in the constructed (27%, 44%) confidence interval and bounds the true proportion of countries/regions in the population drive on the left side is 90%\n",
    "- E. We are 90% confident that between 27% and 44% of countries in the world are countries where cars drive on the left side of the road.   \n"
   ]
  },
  {
   "cell_type": "code",
   "execution_count": 98,
   "id": "658f8caf",
   "metadata": {},
   "outputs": [],
   "source": [
    "# Q5: your answer will be tested!\n",
    "Q5a = None # Assign either True or False to each of these\n",
    "Q5b = None\n",
    "Q5c = None\n",
    "Q5d = None\n",
    "Q5e = None\n",
    "Q5 = (Q5a, Q5b, Q5c, Q5d, Q5e)"
   ]
  },
  {
   "cell_type": "code",
   "execution_count": 124,
   "id": "dcad68ff",
   "metadata": {},
   "outputs": [],
   "source": [
    "test = Q5==(False, False, True, True, True)\n",
    "hint = \"This is a confidence interval for the true proportion of countries in the population\\n\"\n",
    "hint += \"(not the sample!) where cars drive on the left side of the road. There is no probability that\\n\"\n",
    "hint += \"the proporition in the population is sometimes this (here) or sometimes that (there): the population\\n\"\n",
    "hint += \"proportion (parameter) is a set fixed value. The issue is if the specific language used wrongly\\n\"\n",
    "hint += \"suggests there is randomness associated with the true proportion (parameter) of the population,\\n\"\n",
    "hint += \"then it is wrong: there is only randomness associated with the construction procedure which is\\n\"\n",
    "hint += \"induced by the randomness produced by the data sampling process itself. It is a subtle point...\\n\\n\"\n",
    "hint += \"Version 'E' is a defined 'confidence interval' language meant to specifically convey this notion.\""
   ]
  },
  {
   "cell_type": "code",
   "execution_count": 125,
   "id": "bbbe0ad0",
   "metadata": {},
   "outputs": [
    {
     "ename": "AssertionError",
     "evalue": "This is a confidence interval for the true proportion of countries in the population\n(not the sample!) where cars drive on the left side of the road. There is no probability that\nthe proporition in the population is sometimes this (here) or sometimes that (there): the population\nproportion (parameter) is a set fixed value. The issue is if the specific language used wrongly\nsuggests there is randomness associated with the true proportion (parameter) of the population,\nthen it is wrong: there is only randomness associated with the construction procedure which is\ninduced by the randomness produced by the data sampling process itself. It is a subtle point...\n\nVersion 'E' is a defined 'confidence interval' language meant to specifically convey this notion.",
     "output_type": "error",
     "traceback": [
      "\u001b[0;31m---------------------------------------------------------------------------\u001b[0m",
      "\u001b[0;31mAssertionError\u001b[0m                            Traceback (most recent call last)",
      "Cell \u001b[0;32mIn[125], line 2\u001b[0m\n\u001b[1;32m      1\u001b[0m \u001b[38;5;66;03m# test_Q5\u001b[39;00m\n\u001b[0;32m----> 2\u001b[0m \u001b[38;5;28;01massert\u001b[39;00m test, hint\n",
      "\u001b[0;31mAssertionError\u001b[0m: This is a confidence interval for the true proportion of countries in the population\n(not the sample!) where cars drive on the left side of the road. There is no probability that\nthe proporition in the population is sometimes this (here) or sometimes that (there): the population\nproportion (parameter) is a set fixed value. The issue is if the specific language used wrongly\nsuggests there is randomness associated with the true proportion (parameter) of the population,\nthen it is wrong: there is only randomness associated with the construction procedure which is\ninduced by the randomness produced by the data sampling process itself. It is a subtle point...\n\nVersion 'E' is a defined 'confidence interval' language meant to specifically convey this notion."
     ]
    }
   ],
   "source": [
    "# test_Q5\n",
    "\n",
    "assert test, hint"
   ]
  },
  {
   "cell_type": "markdown",
   "id": "7648cf60",
   "metadata": {},
   "source": [
    "### Q6: If we want to be more confident that we've captured the actual true proportion of all countries where cars drive on the left side of the road, should we use a wider or narrower confidence interval? If we want to have a more precise, understandable, and interpretable estimate, should we use a wider or narrower confidence interval? Discuss the relevant tradeoffs in explaining your answers.\n",
    "\n",
    "#### Write three or so sentences to answer this question in markdown cell below.\n",
    "- You can compare your response to the answer given in the ***MarkUs*** output"
   ]
  },
  {
   "cell_type": "markdown",
   "id": "e48e0ca3",
   "metadata": {},
   "source": [
    "> Answer here..."
   ]
  },
  {
   "cell_type": "code",
   "execution_count": 150,
   "id": "cff6d79c",
   "metadata": {},
   "outputs": [],
   "source": [
    "hint = \"\\n\\nAUTOMATICALLY FAILING AUTOTEST: DOES NOT COUNT AGAINST STUDENT\\n\"\n",
    "hint += \"Included as an example answer for feedback purposes only\\n\\n\"\n",
    "hint += \"A wider confidence interval corresponds to an increased confidence level. E.g., a 99% confidence interval\\n\"\n",
    "hint += \"is wider than a 90% confidence interval. Thus, we can be more confident that the true proportion of\\n\"\n",
    "hint += \"countries where cars drive on the left side of the road is captutred by the confidence inerval for\\n\"\n",
    "hint += \"wider confidence intervals with higher confidence level interval; however, these are also less sharp\\n\"\n",
    "hint += \"and so are have less informative and meaningful than a more narrow interval, which may more effectively\\n\"\n",
    "hint += \"communicate the nature and implications of the estimate. So, with confidence intervals you're playing\\n\"\n",
    "hint += \"a gambling game, where you want a narrower confidence interval so it's easier to leverage and turn into\\n\"\n",
    "hint += \"some actionable response; but, the narrower your interval the higher the chance that it's not captured\\n\"\n",
    "hint += \"the value it's trying to estimate...\""
   ]
  },
  {
   "cell_type": "code",
   "execution_count": 151,
   "id": "5877c496",
   "metadata": {},
   "outputs": [
    {
     "ename": "AssertionError",
     "evalue": "\n\nAUTOMATICALLY FAILING AUTOTEST: DOES NOT COUNT AGAINST STUDENT\nIncluded as an example answer for feedback purposes only\n\nA wider confidence interval corresponds to an increased confidence level. E.g., a 99% confidence interval\nis wider than a 90% confidence interval. Thus, we can be more confident that the true proportion of\ncountries where cars drive on the left side of the road is captutred by the confidence inerval for\nwider confidence intervals with higher confidence level interval; however, these are also less sharp\nand so are have less informative and meaningful than a more narrow interval, which may more effectively\ncommunicate the nature and implications of the estimate. So, with confidence intervals you're playing\na gambling game, where you want a narrower confidence interval so it's easier to leverage and turn into\nsome actionable response; but, the narrower your interval the higher the chance that it's not captured\nthe value it's trying to estimate...",
     "output_type": "error",
     "traceback": [
      "\u001b[0;31m---------------------------------------------------------------------------\u001b[0m",
      "\u001b[0;31mAssertionError\u001b[0m                            Traceback (most recent call last)",
      "Cell \u001b[0;32mIn[151], line 2\u001b[0m\n\u001b[1;32m      1\u001b[0m \u001b[38;5;66;03m# test_Q6\u001b[39;00m\n\u001b[0;32m----> 2\u001b[0m \u001b[38;5;28;01massert\u001b[39;00m \u001b[38;5;28;01mFalse\u001b[39;00m, hint\n",
      "\u001b[0;31mAssertionError\u001b[0m: \n\nAUTOMATICALLY FAILING AUTOTEST: DOES NOT COUNT AGAINST STUDENT\nIncluded as an example answer for feedback purposes only\n\nA wider confidence interval corresponds to an increased confidence level. E.g., a 99% confidence interval\nis wider than a 90% confidence interval. Thus, we can be more confident that the true proportion of\ncountries where cars drive on the left side of the road is captutred by the confidence inerval for\nwider confidence intervals with higher confidence level interval; however, these are also less sharp\nand so are have less informative and meaningful than a more narrow interval, which may more effectively\ncommunicate the nature and implications of the estimate. So, with confidence intervals you're playing\na gambling game, where you want a narrower confidence interval so it's easier to leverage and turn into\nsome actionable response; but, the narrower your interval the higher the chance that it's not captured\nthe value it's trying to estimate..."
     ]
    }
   ],
   "source": [
    "# test_Q6\n",
    "assert False, hint"
   ]
  },
  {
   "cell_type": "markdown",
   "id": "22a1fed5",
   "metadata": {},
   "source": [
    "## Auto Claims\n",
    "The data set `auto_claims.csv` includes claims paid (in USD) by an auto insurance company in a specific year  to a sample of auto insurance claimants greater than 60 years of age. In other words, this represents a \"sample\" (the \"original sample\") of car insurance claims paid by the auto insurance company in that year."
   ]
  },
  {
   "cell_type": "code",
   "execution_count": 154,
   "id": "16d73cc4",
   "metadata": {},
   "outputs": [],
   "source": [
    "# Load the `auto_claims.csv` dataset and have a quick look at it."
   ]
  },
  {
   "cell_type": "code",
   "execution_count": 155,
   "id": "5b6f9e89",
   "metadata": {},
   "outputs": [
    {
     "data": {
      "text/html": [
       "<div>\n",
       "<style scoped>\n",
       "    .dataframe tbody tr th:only-of-type {\n",
       "        vertical-align: middle;\n",
       "    }\n",
       "\n",
       "    .dataframe tbody tr th {\n",
       "        vertical-align: top;\n",
       "    }\n",
       "\n",
       "    .dataframe thead th {\n",
       "        text-align: right;\n",
       "    }\n",
       "</style>\n",
       "<table border=\"1\" class=\"dataframe\">\n",
       "  <thead>\n",
       "    <tr style=\"text-align: right;\">\n",
       "      <th></th>\n",
       "      <th>STATE</th>\n",
       "      <th>CLASS</th>\n",
       "      <th>GENDER</th>\n",
       "      <th>AGE</th>\n",
       "      <th>PAID</th>\n",
       "    </tr>\n",
       "  </thead>\n",
       "  <tbody>\n",
       "    <tr>\n",
       "      <th>0</th>\n",
       "      <td>STATE 15</td>\n",
       "      <td>F6</td>\n",
       "      <td>F</td>\n",
       "      <td>95</td>\n",
       "      <td>2384.67</td>\n",
       "    </tr>\n",
       "    <tr>\n",
       "      <th>1</th>\n",
       "      <td>STATE 15</td>\n",
       "      <td>F6</td>\n",
       "      <td>M</td>\n",
       "      <td>95</td>\n",
       "      <td>650.00</td>\n",
       "    </tr>\n",
       "    <tr>\n",
       "      <th>2</th>\n",
       "      <td>STATE 02</td>\n",
       "      <td>C11</td>\n",
       "      <td>F</td>\n",
       "      <td>92</td>\n",
       "      <td>654.00</td>\n",
       "    </tr>\n",
       "    <tr>\n",
       "      <th>3</th>\n",
       "      <td>STATE 15</td>\n",
       "      <td>C11</td>\n",
       "      <td>M</td>\n",
       "      <td>91</td>\n",
       "      <td>3890.07</td>\n",
       "    </tr>\n",
       "    <tr>\n",
       "      <th>4</th>\n",
       "      <td>STATE 04</td>\n",
       "      <td>C6</td>\n",
       "      <td>M</td>\n",
       "      <td>91</td>\n",
       "      <td>295.99</td>\n",
       "    </tr>\n",
       "  </tbody>\n",
       "</table>\n",
       "</div>"
      ],
      "text/plain": [
       "      STATE CLASS GENDER  AGE     PAID\n",
       "0  STATE 15   F6       F   95  2384.67\n",
       "1  STATE 15   F6       M   95   650.00\n",
       "2  STATE 02   C11      F   92   654.00\n",
       "3  STATE 15   C11      M   91  3890.07\n",
       "4  STATE 04   C6       M   91   295.99"
      ]
     },
     "execution_count": 155,
     "metadata": {},
     "output_type": "execute_result"
    }
   ],
   "source": [
    "autoclaims_csv_asdf = pd.read_csv('auto_claims.csv')\n",
    "autoclaims_csv_asdf.head()"
   ]
  },
  {
   "cell_type": "markdown",
   "id": "34aa2405",
   "metadata": {},
   "source": [
    "### Q7: What is the sample size, median, and standard deviation of paid claims (`PAID`) in the `auto_claims.csv`?\n",
    "\n",
    "> Hint: use the `.describe()` method of a `pd.DataFrame` object.\n",
    "#### Give your answer as a discrete integer numeric value ignoring all decimal values."
   ]
  },
  {
   "cell_type": "code",
   "execution_count": 158,
   "id": "fa6de84f",
   "metadata": {},
   "outputs": [
    {
     "data": {
      "text/plain": [
       "3100.0"
      ]
     },
     "execution_count": 158,
     "metadata": {},
     "output_type": "execute_result"
    }
   ],
   "source": [
    "#len(autoclaims_csv_asdf), np.round(autoclaims_csv_asdf.PAID.median()), np.round(np.std(autoclaims_csv_asdf.PAID, ddof=1))\n",
    "autoclaims_csv_asdf.PAID.describe()"
   ]
  },
  {
   "cell_type": "code",
   "execution_count": 170,
   "id": "64477b7e",
   "metadata": {},
   "outputs": [],
   "source": [
    "# Q7: Your answer will be tested!\n",
    "paid_sample_size = None\n",
    "paid_median = None\n",
    "paid_std = None\n",
    "Q7 = (paid_sample_size, paid_median, paid_std) # Assign a `tuple` of three `int`s to Q6"
   ]
  },
  {
   "cell_type": "code",
   "execution_count": 183,
   "id": "21be0439",
   "metadata": {},
   "outputs": [
    {
     "data": {
      "text/plain": [
       "count      500.000000\n",
       "mean      2160.134040\n",
       "std       3099.818149\n",
       "min         25.440000\n",
       "25%        543.002500\n",
       "50%       1042.345000\n",
       "75%       2409.100000\n",
       "max      33137.500000\n",
       "Name: PAID, dtype: float64"
      ]
     },
     "execution_count": 183,
     "metadata": {},
     "output_type": "execute_result"
    }
   ],
   "source": [
    "hint = \"There are many ways to do this... `data.PAID.describe()`\""
   ]
  },
  {
   "cell_type": "code",
   "execution_count": 172,
   "id": "86cb84e3",
   "metadata": {},
   "outputs": [
    {
     "ename": "AssertionError",
     "evalue": "There are many ways to do this... `autoclaims_csv_asdf.PAID.describe()`",
     "output_type": "error",
     "traceback": [
      "\u001b[0;31m---------------------------------------------------------------------------\u001b[0m",
      "\u001b[0;31mAssertionError\u001b[0m                            Traceback (most recent call last)",
      "Cell \u001b[0;32mIn[172], line 2\u001b[0m\n\u001b[1;32m      1\u001b[0m \u001b[38;5;66;03m# test_Q7\u001b[39;00m\n\u001b[0;32m----> 2\u001b[0m \u001b[38;5;28;01massert\u001b[39;00m Q7\u001b[38;5;241m==\u001b[39m(\u001b[38;5;28mlen\u001b[39m(autoclaims_csv_asdf), np\u001b[38;5;241m.\u001b[39mround(autoclaims_csv_asdf\u001b[38;5;241m.\u001b[39mPAID\u001b[38;5;241m.\u001b[39mmedian()), np\u001b[38;5;241m.\u001b[39mstd(autoclaims_csv_asdf\u001b[38;5;241m.\u001b[39mPAID, ddof\u001b[38;5;241m=\u001b[39m\u001b[38;5;241m1\u001b[39m)\u001b[38;5;241m.\u001b[39mround()), hint\n",
      "\u001b[0;31mAssertionError\u001b[0m: There are many ways to do this... `autoclaims_csv_asdf.PAID.describe()`"
     ]
    }
   ],
   "source": [
    "# test_Q7\n",
    "autoclaims_csv_asdf = pd.read_csv('auto_claims.csv')\n",
    "assert Q7==(len(autoclaims_csv_asdf), np.round(autoclaims_csv_asdf.PAID.median()), np.std(autoclaims_csv_asdf.PAID, ddof=1).round()), hint"
   ]
  },
  {
   "cell_type": "markdown",
   "id": "f30819a7",
   "metadata": {},
   "source": [
    "### Q8: Produce `plotly` histogram and boxplot visualizations of paid claims (`PAID`) and comment the shape, centre and spread of this distribution.\n",
    "\n",
    "#### Create the plot(s) and write your answer in the code cell and markdown cells (respectively) below.\n",
    "\n",
    "- You can compare your figure and response to the answer given in the ***MarkUs*** output "
   ]
  },
  {
   "cell_type": "code",
   "execution_count": 176,
   "id": "f8c48efa",
   "metadata": {},
   "outputs": [
    {
     "data": {
      "application/vnd.plotly.v1+json": {
       "config": {
        "plotlyServerURL": "https://plot.ly"
       },
       "data": [
        {
         "alignmentgroup": "True",
         "bingroup": "x",
         "hovertemplate": "PAID=%{x}<br>count=%{y}<extra></extra>",
         "legendgroup": "",
         "marker": {
          "color": "#636efa",
          "pattern": {
           "shape": ""
          }
         },
         "name": "",
         "nbinsx": 20,
         "offsetgroup": "",
         "orientation": "v",
         "showlegend": false,
         "type": "histogram",
         "x": [
          2384.67,
          650,
          654,
          3890.07,
          295.99,
          11756.34,
          2402,
          296.97,
          249.1,
          14833.3,
          3025,
          2750,
          2612.74,
          1259.89,
          824.85,
          669.5,
          664.34,
          408.39,
          3953.84,
          3841.66,
          239.37,
          30,
          6384,
          4467.92,
          1541.1,
          1354.93,
          1263.51,
          1045,
          519.75,
          499.28,
          365.26,
          322.34,
          122.41,
          10524.64,
          6854.02,
          3206.76,
          2724.04,
          2269,
          2169.88,
          1929.81,
          1061.8,
          945.8,
          899.13,
          7326.67,
          5301.72,
          3596.5,
          2322.72,
          1944.45,
          1491.69,
          1314.4,
          836.78,
          479,
          426.19,
          3112.89,
          2500,
          1921.22,
          1472.87,
          1444.89,
          1368.76,
          1346.36,
          772.23,
          688.67,
          362.63,
          359.41,
          354.29,
          262.81,
          244.11,
          9377.82,
          5540.07,
          3118.5,
          2495.8,
          2362.89,
          2007.78,
          1816.41,
          1500,
          1139.6,
          952.05,
          746.89,
          644.87,
          188.61,
          117.4,
          12714.43,
          10116.07,
          1949.14,
          1852.5,
          1722.82,
          1539.07,
          1476.43,
          1458.13,
          1119.52,
          990.07,
          987,
          782.44,
          459,
          377.36,
          319.67,
          176.07,
          154.75,
          8493.76,
          3809.83,
          3222.66,
          1113.38,
          766.4,
          663.17,
          640.4,
          619.06,
          419.18,
          298.62,
          160.2,
          105.5,
          8323.31,
          6291.84,
          4904.64,
          4096.58,
          3334.65,
          1755.95,
          1160.63,
          1098.37,
          818.79,
          651.57,
          646.79,
          584.61,
          417.04,
          399.9,
          371.63,
          365.5,
          275.43,
          146.56,
          14651.31,
          6754.81,
          5071.99,
          4809.52,
          2884.46,
          2591.33,
          2419.75,
          1321.7,
          1308,
          981.86,
          843.98,
          817.62,
          712,
          634.48,
          463.96,
          462.93,
          430.38,
          388.71,
          112.78,
          85,
          12151.86,
          5186.82,
          4451.39,
          3968.51,
          3392.58,
          1879.51,
          1792.54,
          1607.6,
          1238,
          1130,
          1081.71,
          1033.84,
          671.59,
          361.37,
          171.7,
          40,
          3203.35,
          3060.69,
          2171.93,
          1727.85,
          1550,
          1470.35,
          1229.01,
          1010.94,
          575.36,
          555.34,
          533.11,
          459.1,
          253.75,
          148.65,
          4184.46,
          4082.49,
          1846.1,
          1688.78,
          1118.91,
          749.64,
          725.71,
          722.02,
          648.06,
          593.46,
          516.81,
          302.54,
          300,
          278.55,
          248.68,
          131,
          28.46,
          13058.85,
          6950.54,
          2930,
          2112.46,
          2100,
          1500,
          1386.41,
          1270.17,
          1203.81,
          993.59,
          903,
          900,
          583.76,
          580.32,
          376.46,
          275.94,
          91.27,
          6013.74,
          4804.22,
          3179.28,
          2893.53,
          1916.21,
          1209.08,
          1036.74,
          986.12,
          893.03,
          754.31,
          740.38,
          694.91,
          693.13,
          564.05,
          551.78,
          549.77,
          497.85,
          403.3,
          358.7,
          284.54,
          228,
          177.6,
          177.42,
          139.79,
          33137.5,
          7293.43,
          3754.51,
          3495.14,
          3140.66,
          2137.4,
          1971.75,
          1956,
          1870.58,
          1650,
          1188.74,
          1115.89,
          1088.73,
          1074.35,
          1016.43,
          860.67,
          831.8,
          796.8,
          759.57,
          668.74,
          582.62,
          404,
          393.5,
          309.67,
          292.44,
          221.7,
          103.75,
          11511.72,
          6090.02,
          1727.33,
          1235.07,
          910.01,
          812.98,
          562.05,
          527.34,
          451.31,
          332.06,
          315.53,
          10527.4,
          7751.55,
          5711.53,
          3804.44,
          3760.07,
          2757.83,
          2565.84,
          2221.87,
          2139.9,
          2000,
          1363.23,
          1132.41,
          993.19,
          964.22,
          898.55,
          822.1,
          761.22,
          754.56,
          685.71,
          622.53,
          604.95,
          587.51,
          490.25,
          489.73,
          465.5,
          329.91,
          272.01,
          258.5,
          4643.8,
          3523.9,
          3007.96,
          2192.98,
          1752.16,
          1686.2,
          1648.41,
          1381.16,
          1336.26,
          1248.01,
          950.61,
          945.56,
          880.82,
          713.55,
          645.8,
          626.38,
          573.4,
          488.16,
          458,
          443.95,
          253.59,
          209.83,
          138.86,
          100,
          30,
          24624.44,
          8123.33,
          5158.65,
          5035.93,
          4625.47,
          1707.92,
          1694.59,
          1501.05,
          1369.74,
          946.38,
          825.66,
          682.85,
          604.95,
          585.34,
          565.02,
          529.28,
          388.03,
          377.54,
          303,
          300,
          198.98,
          135,
          47.52,
          11458.07,
          8300.31,
          7827.74,
          6261.92,
          5861.5,
          5381.14,
          4532.02,
          3656.77,
          2928.92,
          2547.5,
          2276.5,
          2017.28,
          1678.17,
          1651.86,
          1482.45,
          1480.93,
          1348.93,
          1189.96,
          1090.41,
          940.28,
          925.47,
          852.22,
          417.18,
          369.02,
          346.79,
          244.23,
          132,
          100,
          14753.58,
          11288.76,
          10175.27,
          6277.84,
          4939.5,
          4786.51,
          3167.49,
          2572.22,
          1712.27,
          1712.13,
          1396.61,
          1377.31,
          1108.42,
          1001.76,
          989.59,
          891.09,
          882.77,
          670.77,
          638.99,
          546.32,
          536.11,
          533.33,
          464.59,
          460.36,
          291.92,
          257.01,
          106,
          7487.94,
          7296.2,
          4929.65,
          2532.6,
          2344.69,
          1855.85,
          1812.47,
          1431.81,
          1226.28,
          1122.12,
          1090.75,
          1067.57,
          1012.19,
          928.2,
          861.89,
          809.34,
          782.9,
          768.05,
          698.65,
          630.11,
          617.9,
          594.8,
          585.74,
          390.02,
          291.28,
          236.53,
          10077,
          8569.3,
          6124.34,
          5335.35,
          3486.96,
          3255.88,
          2985.29,
          2418.4,
          2368.69,
          2007.64,
          1996,
          1869.49,
          1600.18,
          1278.52,
          1212.85,
          1039.69,
          834.12,
          805.18,
          676.15,
          651.18,
          586.85,
          315.61,
          311.32,
          25.44,
          9793.42,
          7620.37,
          6800.94,
          4781.43,
          3944.37,
          2406,
          1613.41,
          1340.74,
          1249.02,
          1086.9,
          941.85,
          909.99,
          903.99,
          875.28,
          738.18,
          492.22,
          468,
          443.49,
          439.22,
          359.11,
          8215.8,
          6208.2,
          5241.71,
          3912.49,
          3230.09,
          2600,
          2531.24,
          2038.05,
          1890.5,
          1704.54,
          1145.63,
          959.52,
          763.07,
          746.63,
          700,
          554.55,
          545.3,
          490.6,
          273.29,
          189.9,
          10652.59,
          5556.75,
          3403.09,
          3328.93,
          2805.73
         ],
         "xaxis": "x",
         "yaxis": "y"
        }
       ],
       "layout": {
        "barmode": "relative",
        "legend": {
         "tracegroupgap": 0
        },
        "margin": {
         "t": 60
        },
        "template": {
         "data": {
          "bar": [
           {
            "error_x": {
             "color": "#2a3f5f"
            },
            "error_y": {
             "color": "#2a3f5f"
            },
            "marker": {
             "line": {
              "color": "#E5ECF6",
              "width": 0.5
             },
             "pattern": {
              "fillmode": "overlay",
              "size": 10,
              "solidity": 0.2
             }
            },
            "type": "bar"
           }
          ],
          "barpolar": [
           {
            "marker": {
             "line": {
              "color": "#E5ECF6",
              "width": 0.5
             },
             "pattern": {
              "fillmode": "overlay",
              "size": 10,
              "solidity": 0.2
             }
            },
            "type": "barpolar"
           }
          ],
          "carpet": [
           {
            "aaxis": {
             "endlinecolor": "#2a3f5f",
             "gridcolor": "white",
             "linecolor": "white",
             "minorgridcolor": "white",
             "startlinecolor": "#2a3f5f"
            },
            "baxis": {
             "endlinecolor": "#2a3f5f",
             "gridcolor": "white",
             "linecolor": "white",
             "minorgridcolor": "white",
             "startlinecolor": "#2a3f5f"
            },
            "type": "carpet"
           }
          ],
          "choropleth": [
           {
            "colorbar": {
             "outlinewidth": 0,
             "ticks": ""
            },
            "type": "choropleth"
           }
          ],
          "contour": [
           {
            "colorbar": {
             "outlinewidth": 0,
             "ticks": ""
            },
            "colorscale": [
             [
              0,
              "#0d0887"
             ],
             [
              0.1111111111111111,
              "#46039f"
             ],
             [
              0.2222222222222222,
              "#7201a8"
             ],
             [
              0.3333333333333333,
              "#9c179e"
             ],
             [
              0.4444444444444444,
              "#bd3786"
             ],
             [
              0.5555555555555556,
              "#d8576b"
             ],
             [
              0.6666666666666666,
              "#ed7953"
             ],
             [
              0.7777777777777778,
              "#fb9f3a"
             ],
             [
              0.8888888888888888,
              "#fdca26"
             ],
             [
              1,
              "#f0f921"
             ]
            ],
            "type": "contour"
           }
          ],
          "contourcarpet": [
           {
            "colorbar": {
             "outlinewidth": 0,
             "ticks": ""
            },
            "type": "contourcarpet"
           }
          ],
          "heatmap": [
           {
            "colorbar": {
             "outlinewidth": 0,
             "ticks": ""
            },
            "colorscale": [
             [
              0,
              "#0d0887"
             ],
             [
              0.1111111111111111,
              "#46039f"
             ],
             [
              0.2222222222222222,
              "#7201a8"
             ],
             [
              0.3333333333333333,
              "#9c179e"
             ],
             [
              0.4444444444444444,
              "#bd3786"
             ],
             [
              0.5555555555555556,
              "#d8576b"
             ],
             [
              0.6666666666666666,
              "#ed7953"
             ],
             [
              0.7777777777777778,
              "#fb9f3a"
             ],
             [
              0.8888888888888888,
              "#fdca26"
             ],
             [
              1,
              "#f0f921"
             ]
            ],
            "type": "heatmap"
           }
          ],
          "heatmapgl": [
           {
            "colorbar": {
             "outlinewidth": 0,
             "ticks": ""
            },
            "colorscale": [
             [
              0,
              "#0d0887"
             ],
             [
              0.1111111111111111,
              "#46039f"
             ],
             [
              0.2222222222222222,
              "#7201a8"
             ],
             [
              0.3333333333333333,
              "#9c179e"
             ],
             [
              0.4444444444444444,
              "#bd3786"
             ],
             [
              0.5555555555555556,
              "#d8576b"
             ],
             [
              0.6666666666666666,
              "#ed7953"
             ],
             [
              0.7777777777777778,
              "#fb9f3a"
             ],
             [
              0.8888888888888888,
              "#fdca26"
             ],
             [
              1,
              "#f0f921"
             ]
            ],
            "type": "heatmapgl"
           }
          ],
          "histogram": [
           {
            "marker": {
             "pattern": {
              "fillmode": "overlay",
              "size": 10,
              "solidity": 0.2
             }
            },
            "type": "histogram"
           }
          ],
          "histogram2d": [
           {
            "colorbar": {
             "outlinewidth": 0,
             "ticks": ""
            },
            "colorscale": [
             [
              0,
              "#0d0887"
             ],
             [
              0.1111111111111111,
              "#46039f"
             ],
             [
              0.2222222222222222,
              "#7201a8"
             ],
             [
              0.3333333333333333,
              "#9c179e"
             ],
             [
              0.4444444444444444,
              "#bd3786"
             ],
             [
              0.5555555555555556,
              "#d8576b"
             ],
             [
              0.6666666666666666,
              "#ed7953"
             ],
             [
              0.7777777777777778,
              "#fb9f3a"
             ],
             [
              0.8888888888888888,
              "#fdca26"
             ],
             [
              1,
              "#f0f921"
             ]
            ],
            "type": "histogram2d"
           }
          ],
          "histogram2dcontour": [
           {
            "colorbar": {
             "outlinewidth": 0,
             "ticks": ""
            },
            "colorscale": [
             [
              0,
              "#0d0887"
             ],
             [
              0.1111111111111111,
              "#46039f"
             ],
             [
              0.2222222222222222,
              "#7201a8"
             ],
             [
              0.3333333333333333,
              "#9c179e"
             ],
             [
              0.4444444444444444,
              "#bd3786"
             ],
             [
              0.5555555555555556,
              "#d8576b"
             ],
             [
              0.6666666666666666,
              "#ed7953"
             ],
             [
              0.7777777777777778,
              "#fb9f3a"
             ],
             [
              0.8888888888888888,
              "#fdca26"
             ],
             [
              1,
              "#f0f921"
             ]
            ],
            "type": "histogram2dcontour"
           }
          ],
          "mesh3d": [
           {
            "colorbar": {
             "outlinewidth": 0,
             "ticks": ""
            },
            "type": "mesh3d"
           }
          ],
          "parcoords": [
           {
            "line": {
             "colorbar": {
              "outlinewidth": 0,
              "ticks": ""
             }
            },
            "type": "parcoords"
           }
          ],
          "pie": [
           {
            "automargin": true,
            "type": "pie"
           }
          ],
          "scatter": [
           {
            "fillpattern": {
             "fillmode": "overlay",
             "size": 10,
             "solidity": 0.2
            },
            "type": "scatter"
           }
          ],
          "scatter3d": [
           {
            "line": {
             "colorbar": {
              "outlinewidth": 0,
              "ticks": ""
             }
            },
            "marker": {
             "colorbar": {
              "outlinewidth": 0,
              "ticks": ""
             }
            },
            "type": "scatter3d"
           }
          ],
          "scattercarpet": [
           {
            "marker": {
             "colorbar": {
              "outlinewidth": 0,
              "ticks": ""
             }
            },
            "type": "scattercarpet"
           }
          ],
          "scattergeo": [
           {
            "marker": {
             "colorbar": {
              "outlinewidth": 0,
              "ticks": ""
             }
            },
            "type": "scattergeo"
           }
          ],
          "scattergl": [
           {
            "marker": {
             "colorbar": {
              "outlinewidth": 0,
              "ticks": ""
             }
            },
            "type": "scattergl"
           }
          ],
          "scattermapbox": [
           {
            "marker": {
             "colorbar": {
              "outlinewidth": 0,
              "ticks": ""
             }
            },
            "type": "scattermapbox"
           }
          ],
          "scatterpolar": [
           {
            "marker": {
             "colorbar": {
              "outlinewidth": 0,
              "ticks": ""
             }
            },
            "type": "scatterpolar"
           }
          ],
          "scatterpolargl": [
           {
            "marker": {
             "colorbar": {
              "outlinewidth": 0,
              "ticks": ""
             }
            },
            "type": "scatterpolargl"
           }
          ],
          "scatterternary": [
           {
            "marker": {
             "colorbar": {
              "outlinewidth": 0,
              "ticks": ""
             }
            },
            "type": "scatterternary"
           }
          ],
          "surface": [
           {
            "colorbar": {
             "outlinewidth": 0,
             "ticks": ""
            },
            "colorscale": [
             [
              0,
              "#0d0887"
             ],
             [
              0.1111111111111111,
              "#46039f"
             ],
             [
              0.2222222222222222,
              "#7201a8"
             ],
             [
              0.3333333333333333,
              "#9c179e"
             ],
             [
              0.4444444444444444,
              "#bd3786"
             ],
             [
              0.5555555555555556,
              "#d8576b"
             ],
             [
              0.6666666666666666,
              "#ed7953"
             ],
             [
              0.7777777777777778,
              "#fb9f3a"
             ],
             [
              0.8888888888888888,
              "#fdca26"
             ],
             [
              1,
              "#f0f921"
             ]
            ],
            "type": "surface"
           }
          ],
          "table": [
           {
            "cells": {
             "fill": {
              "color": "#EBF0F8"
             },
             "line": {
              "color": "white"
             }
            },
            "header": {
             "fill": {
              "color": "#C8D4E3"
             },
             "line": {
              "color": "white"
             }
            },
            "type": "table"
           }
          ]
         },
         "layout": {
          "annotationdefaults": {
           "arrowcolor": "#2a3f5f",
           "arrowhead": 0,
           "arrowwidth": 1
          },
          "autotypenumbers": "strict",
          "coloraxis": {
           "colorbar": {
            "outlinewidth": 0,
            "ticks": ""
           }
          },
          "colorscale": {
           "diverging": [
            [
             0,
             "#8e0152"
            ],
            [
             0.1,
             "#c51b7d"
            ],
            [
             0.2,
             "#de77ae"
            ],
            [
             0.3,
             "#f1b6da"
            ],
            [
             0.4,
             "#fde0ef"
            ],
            [
             0.5,
             "#f7f7f7"
            ],
            [
             0.6,
             "#e6f5d0"
            ],
            [
             0.7,
             "#b8e186"
            ],
            [
             0.8,
             "#7fbc41"
            ],
            [
             0.9,
             "#4d9221"
            ],
            [
             1,
             "#276419"
            ]
           ],
           "sequential": [
            [
             0,
             "#0d0887"
            ],
            [
             0.1111111111111111,
             "#46039f"
            ],
            [
             0.2222222222222222,
             "#7201a8"
            ],
            [
             0.3333333333333333,
             "#9c179e"
            ],
            [
             0.4444444444444444,
             "#bd3786"
            ],
            [
             0.5555555555555556,
             "#d8576b"
            ],
            [
             0.6666666666666666,
             "#ed7953"
            ],
            [
             0.7777777777777778,
             "#fb9f3a"
            ],
            [
             0.8888888888888888,
             "#fdca26"
            ],
            [
             1,
             "#f0f921"
            ]
           ],
           "sequentialminus": [
            [
             0,
             "#0d0887"
            ],
            [
             0.1111111111111111,
             "#46039f"
            ],
            [
             0.2222222222222222,
             "#7201a8"
            ],
            [
             0.3333333333333333,
             "#9c179e"
            ],
            [
             0.4444444444444444,
             "#bd3786"
            ],
            [
             0.5555555555555556,
             "#d8576b"
            ],
            [
             0.6666666666666666,
             "#ed7953"
            ],
            [
             0.7777777777777778,
             "#fb9f3a"
            ],
            [
             0.8888888888888888,
             "#fdca26"
            ],
            [
             1,
             "#f0f921"
            ]
           ]
          },
          "colorway": [
           "#636efa",
           "#EF553B",
           "#00cc96",
           "#ab63fa",
           "#FFA15A",
           "#19d3f3",
           "#FF6692",
           "#B6E880",
           "#FF97FF",
           "#FECB52"
          ],
          "font": {
           "color": "#2a3f5f"
          },
          "geo": {
           "bgcolor": "white",
           "lakecolor": "white",
           "landcolor": "#E5ECF6",
           "showlakes": true,
           "showland": true,
           "subunitcolor": "white"
          },
          "hoverlabel": {
           "align": "left"
          },
          "hovermode": "closest",
          "mapbox": {
           "style": "light"
          },
          "paper_bgcolor": "white",
          "plot_bgcolor": "#E5ECF6",
          "polar": {
           "angularaxis": {
            "gridcolor": "white",
            "linecolor": "white",
            "ticks": ""
           },
           "bgcolor": "#E5ECF6",
           "radialaxis": {
            "gridcolor": "white",
            "linecolor": "white",
            "ticks": ""
           }
          },
          "scene": {
           "xaxis": {
            "backgroundcolor": "#E5ECF6",
            "gridcolor": "white",
            "gridwidth": 2,
            "linecolor": "white",
            "showbackground": true,
            "ticks": "",
            "zerolinecolor": "white"
           },
           "yaxis": {
            "backgroundcolor": "#E5ECF6",
            "gridcolor": "white",
            "gridwidth": 2,
            "linecolor": "white",
            "showbackground": true,
            "ticks": "",
            "zerolinecolor": "white"
           },
           "zaxis": {
            "backgroundcolor": "#E5ECF6",
            "gridcolor": "white",
            "gridwidth": 2,
            "linecolor": "white",
            "showbackground": true,
            "ticks": "",
            "zerolinecolor": "white"
           }
          },
          "shapedefaults": {
           "line": {
            "color": "#2a3f5f"
           }
          },
          "ternary": {
           "aaxis": {
            "gridcolor": "white",
            "linecolor": "white",
            "ticks": ""
           },
           "baxis": {
            "gridcolor": "white",
            "linecolor": "white",
            "ticks": ""
           },
           "bgcolor": "#E5ECF6",
           "caxis": {
            "gridcolor": "white",
            "linecolor": "white",
            "ticks": ""
           }
          },
          "title": {
           "x": 0.05
          },
          "xaxis": {
           "automargin": true,
           "gridcolor": "white",
           "linecolor": "white",
           "ticks": "",
           "title": {
            "standoff": 15
           },
           "zerolinecolor": "white",
           "zerolinewidth": 2
          },
          "yaxis": {
           "automargin": true,
           "gridcolor": "white",
           "linecolor": "white",
           "ticks": "",
           "title": {
            "standoff": 15
           },
           "zerolinecolor": "white",
           "zerolinewidth": 2
          }
         }
        },
        "xaxis": {
         "anchor": "y",
         "domain": [
          0,
          1
         ],
         "title": {
          "text": "PAID"
         }
        },
        "yaxis": {
         "anchor": "x",
         "domain": [
          0,
          1
         ],
         "title": {
          "text": "count"
         }
        }
       }
      },
      "text/html": [
       "<div>                            <div id=\"958c521d-31bf-480c-8e89-9bd40ad0a03c\" class=\"plotly-graph-div\" style=\"height:525px; width:100%;\"></div>            <script type=\"text/javascript\">                require([\"plotly\"], function(Plotly) {                    window.PLOTLYENV=window.PLOTLYENV || {};                                    if (document.getElementById(\"958c521d-31bf-480c-8e89-9bd40ad0a03c\")) {                    Plotly.newPlot(                        \"958c521d-31bf-480c-8e89-9bd40ad0a03c\",                        [{\"alignmentgroup\":\"True\",\"bingroup\":\"x\",\"hovertemplate\":\"PAID=%{x}\\u003cbr\\u003ecount=%{y}\\u003cextra\\u003e\\u003c\\u002fextra\\u003e\",\"legendgroup\":\"\",\"marker\":{\"color\":\"#636efa\",\"pattern\":{\"shape\":\"\"}},\"name\":\"\",\"nbinsx\":20,\"offsetgroup\":\"\",\"orientation\":\"v\",\"showlegend\":false,\"x\":[2384.67,650.0,654.0,3890.07,295.99,11756.34,2402.0,296.97,249.1,14833.3,3025.0,2750.0,2612.74,1259.89,824.85,669.5,664.34,408.39,3953.84,3841.66,239.37,30.0,6384.0,4467.92,1541.1,1354.93,1263.51,1045.0,519.75,499.28,365.26,322.34,122.41,10524.64,6854.02,3206.76,2724.04,2269.0,2169.88,1929.81,1061.8,945.8,899.13,7326.67,5301.72,3596.5,2322.72,1944.45,1491.69,1314.4,836.78,479.0,426.19,3112.89,2500.0,1921.22,1472.87,1444.89,1368.76,1346.36,772.23,688.67,362.63,359.41,354.29,262.81,244.11,9377.82,5540.07,3118.5,2495.8,2362.89,2007.78,1816.41,1500.0,1139.6,952.05,746.89,644.87,188.61,117.4,12714.43,10116.07,1949.14,1852.5,1722.82,1539.07,1476.43,1458.13,1119.52,990.07,987.0,782.44,459.0,377.36,319.67,176.07,154.75,8493.76,3809.83,3222.66,1113.38,766.4,663.17,640.4,619.06,419.18,298.62,160.2,105.5,8323.31,6291.84,4904.64,4096.58,3334.65,1755.95,1160.63,1098.37,818.79,651.57,646.79,584.61,417.04,399.9,371.63,365.5,275.43,146.56,14651.31,6754.81,5071.99,4809.52,2884.46,2591.33,2419.75,1321.7,1308.0,981.86,843.98,817.62,712.0,634.48,463.96,462.93,430.38,388.71,112.78,85.0,12151.86,5186.82,4451.39,3968.51,3392.58,1879.51,1792.54,1607.6,1238.0,1130.0,1081.71,1033.84,671.59,361.37,171.7,40.0,3203.35,3060.69,2171.93,1727.85,1550.0,1470.35,1229.01,1010.94,575.36,555.34,533.11,459.1,253.75,148.65,4184.46,4082.49,1846.1,1688.78,1118.91,749.64,725.71,722.02,648.06,593.46,516.81,302.54,300.0,278.55,248.68,131.0,28.46,13058.85,6950.54,2930.0,2112.46,2100.0,1500.0,1386.41,1270.17,1203.81,993.59,903.0,900.0,583.76,580.32,376.46,275.94,91.27,6013.74,4804.22,3179.28,2893.53,1916.21,1209.08,1036.74,986.12,893.03,754.31,740.38,694.91,693.13,564.05,551.78,549.77,497.85,403.3,358.7,284.54,228.0,177.6,177.42,139.79,33137.5,7293.43,3754.51,3495.14,3140.66,2137.4,1971.75,1956.0,1870.58,1650.0,1188.74,1115.89,1088.73,1074.35,1016.43,860.67,831.8,796.8,759.57,668.74,582.62,404.0,393.5,309.67,292.44,221.7,103.75,11511.72,6090.02,1727.33,1235.07,910.01,812.98,562.05,527.34,451.31,332.06,315.53,10527.4,7751.55,5711.53,3804.44,3760.07,2757.83,2565.84,2221.87,2139.9,2000.0,1363.23,1132.41,993.19,964.22,898.55,822.1,761.22,754.56,685.71,622.53,604.95,587.51,490.25,489.73,465.5,329.91,272.01,258.5,4643.8,3523.9,3007.96,2192.98,1752.16,1686.2,1648.41,1381.16,1336.26,1248.01,950.61,945.56,880.82,713.55,645.8,626.38,573.4,488.16,458.0,443.95,253.59,209.83,138.86,100.0,30.0,24624.44,8123.33,5158.65,5035.93,4625.47,1707.92,1694.59,1501.05,1369.74,946.38,825.66,682.85,604.95,585.34,565.02,529.28,388.03,377.54,303.0,300.0,198.98,135.0,47.52,11458.07,8300.31,7827.74,6261.92,5861.5,5381.14,4532.02,3656.77,2928.92,2547.5,2276.5,2017.28,1678.17,1651.86,1482.45,1480.93,1348.93,1189.96,1090.41,940.28,925.47,852.22,417.18,369.02,346.79,244.23,132.0,100.0,14753.58,11288.76,10175.27,6277.84,4939.5,4786.51,3167.49,2572.22,1712.27,1712.13,1396.61,1377.31,1108.42,1001.76,989.59,891.09,882.77,670.77,638.99,546.32,536.11,533.33,464.59,460.36,291.92,257.01,106.0,7487.94,7296.2,4929.65,2532.6,2344.69,1855.85,1812.47,1431.81,1226.28,1122.12,1090.75,1067.57,1012.19,928.2,861.89,809.34,782.9,768.05,698.65,630.11,617.9,594.8,585.74,390.02,291.28,236.53,10077.0,8569.3,6124.34,5335.35,3486.96,3255.88,2985.29,2418.4,2368.69,2007.64,1996.0,1869.49,1600.18,1278.52,1212.85,1039.69,834.12,805.18,676.15,651.18,586.85,315.61,311.32,25.44,9793.42,7620.37,6800.94,4781.43,3944.37,2406.0,1613.41,1340.74,1249.02,1086.9,941.85,909.99,903.99,875.28,738.18,492.22,468.0,443.49,439.22,359.11,8215.8,6208.2,5241.71,3912.49,3230.09,2600.0,2531.24,2038.05,1890.5,1704.54,1145.63,959.52,763.07,746.63,700.0,554.55,545.3,490.6,273.29,189.9,10652.59,5556.75,3403.09,3328.93,2805.73],\"xaxis\":\"x\",\"yaxis\":\"y\",\"type\":\"histogram\"}],                        {\"template\":{\"data\":{\"histogram2dcontour\":[{\"type\":\"histogram2dcontour\",\"colorbar\":{\"outlinewidth\":0,\"ticks\":\"\"},\"colorscale\":[[0.0,\"#0d0887\"],[0.1111111111111111,\"#46039f\"],[0.2222222222222222,\"#7201a8\"],[0.3333333333333333,\"#9c179e\"],[0.4444444444444444,\"#bd3786\"],[0.5555555555555556,\"#d8576b\"],[0.6666666666666666,\"#ed7953\"],[0.7777777777777778,\"#fb9f3a\"],[0.8888888888888888,\"#fdca26\"],[1.0,\"#f0f921\"]]}],\"choropleth\":[{\"type\":\"choropleth\",\"colorbar\":{\"outlinewidth\":0,\"ticks\":\"\"}}],\"histogram2d\":[{\"type\":\"histogram2d\",\"colorbar\":{\"outlinewidth\":0,\"ticks\":\"\"},\"colorscale\":[[0.0,\"#0d0887\"],[0.1111111111111111,\"#46039f\"],[0.2222222222222222,\"#7201a8\"],[0.3333333333333333,\"#9c179e\"],[0.4444444444444444,\"#bd3786\"],[0.5555555555555556,\"#d8576b\"],[0.6666666666666666,\"#ed7953\"],[0.7777777777777778,\"#fb9f3a\"],[0.8888888888888888,\"#fdca26\"],[1.0,\"#f0f921\"]]}],\"heatmap\":[{\"type\":\"heatmap\",\"colorbar\":{\"outlinewidth\":0,\"ticks\":\"\"},\"colorscale\":[[0.0,\"#0d0887\"],[0.1111111111111111,\"#46039f\"],[0.2222222222222222,\"#7201a8\"],[0.3333333333333333,\"#9c179e\"],[0.4444444444444444,\"#bd3786\"],[0.5555555555555556,\"#d8576b\"],[0.6666666666666666,\"#ed7953\"],[0.7777777777777778,\"#fb9f3a\"],[0.8888888888888888,\"#fdca26\"],[1.0,\"#f0f921\"]]}],\"heatmapgl\":[{\"type\":\"heatmapgl\",\"colorbar\":{\"outlinewidth\":0,\"ticks\":\"\"},\"colorscale\":[[0.0,\"#0d0887\"],[0.1111111111111111,\"#46039f\"],[0.2222222222222222,\"#7201a8\"],[0.3333333333333333,\"#9c179e\"],[0.4444444444444444,\"#bd3786\"],[0.5555555555555556,\"#d8576b\"],[0.6666666666666666,\"#ed7953\"],[0.7777777777777778,\"#fb9f3a\"],[0.8888888888888888,\"#fdca26\"],[1.0,\"#f0f921\"]]}],\"contourcarpet\":[{\"type\":\"contourcarpet\",\"colorbar\":{\"outlinewidth\":0,\"ticks\":\"\"}}],\"contour\":[{\"type\":\"contour\",\"colorbar\":{\"outlinewidth\":0,\"ticks\":\"\"},\"colorscale\":[[0.0,\"#0d0887\"],[0.1111111111111111,\"#46039f\"],[0.2222222222222222,\"#7201a8\"],[0.3333333333333333,\"#9c179e\"],[0.4444444444444444,\"#bd3786\"],[0.5555555555555556,\"#d8576b\"],[0.6666666666666666,\"#ed7953\"],[0.7777777777777778,\"#fb9f3a\"],[0.8888888888888888,\"#fdca26\"],[1.0,\"#f0f921\"]]}],\"surface\":[{\"type\":\"surface\",\"colorbar\":{\"outlinewidth\":0,\"ticks\":\"\"},\"colorscale\":[[0.0,\"#0d0887\"],[0.1111111111111111,\"#46039f\"],[0.2222222222222222,\"#7201a8\"],[0.3333333333333333,\"#9c179e\"],[0.4444444444444444,\"#bd3786\"],[0.5555555555555556,\"#d8576b\"],[0.6666666666666666,\"#ed7953\"],[0.7777777777777778,\"#fb9f3a\"],[0.8888888888888888,\"#fdca26\"],[1.0,\"#f0f921\"]]}],\"mesh3d\":[{\"type\":\"mesh3d\",\"colorbar\":{\"outlinewidth\":0,\"ticks\":\"\"}}],\"scatter\":[{\"fillpattern\":{\"fillmode\":\"overlay\",\"size\":10,\"solidity\":0.2},\"type\":\"scatter\"}],\"parcoords\":[{\"type\":\"parcoords\",\"line\":{\"colorbar\":{\"outlinewidth\":0,\"ticks\":\"\"}}}],\"scatterpolargl\":[{\"type\":\"scatterpolargl\",\"marker\":{\"colorbar\":{\"outlinewidth\":0,\"ticks\":\"\"}}}],\"bar\":[{\"error_x\":{\"color\":\"#2a3f5f\"},\"error_y\":{\"color\":\"#2a3f5f\"},\"marker\":{\"line\":{\"color\":\"#E5ECF6\",\"width\":0.5},\"pattern\":{\"fillmode\":\"overlay\",\"size\":10,\"solidity\":0.2}},\"type\":\"bar\"}],\"scattergeo\":[{\"type\":\"scattergeo\",\"marker\":{\"colorbar\":{\"outlinewidth\":0,\"ticks\":\"\"}}}],\"scatterpolar\":[{\"type\":\"scatterpolar\",\"marker\":{\"colorbar\":{\"outlinewidth\":0,\"ticks\":\"\"}}}],\"histogram\":[{\"marker\":{\"pattern\":{\"fillmode\":\"overlay\",\"size\":10,\"solidity\":0.2}},\"type\":\"histogram\"}],\"scattergl\":[{\"type\":\"scattergl\",\"marker\":{\"colorbar\":{\"outlinewidth\":0,\"ticks\":\"\"}}}],\"scatter3d\":[{\"type\":\"scatter3d\",\"line\":{\"colorbar\":{\"outlinewidth\":0,\"ticks\":\"\"}},\"marker\":{\"colorbar\":{\"outlinewidth\":0,\"ticks\":\"\"}}}],\"scattermapbox\":[{\"type\":\"scattermapbox\",\"marker\":{\"colorbar\":{\"outlinewidth\":0,\"ticks\":\"\"}}}],\"scatterternary\":[{\"type\":\"scatterternary\",\"marker\":{\"colorbar\":{\"outlinewidth\":0,\"ticks\":\"\"}}}],\"scattercarpet\":[{\"type\":\"scattercarpet\",\"marker\":{\"colorbar\":{\"outlinewidth\":0,\"ticks\":\"\"}}}],\"carpet\":[{\"aaxis\":{\"endlinecolor\":\"#2a3f5f\",\"gridcolor\":\"white\",\"linecolor\":\"white\",\"minorgridcolor\":\"white\",\"startlinecolor\":\"#2a3f5f\"},\"baxis\":{\"endlinecolor\":\"#2a3f5f\",\"gridcolor\":\"white\",\"linecolor\":\"white\",\"minorgridcolor\":\"white\",\"startlinecolor\":\"#2a3f5f\"},\"type\":\"carpet\"}],\"table\":[{\"cells\":{\"fill\":{\"color\":\"#EBF0F8\"},\"line\":{\"color\":\"white\"}},\"header\":{\"fill\":{\"color\":\"#C8D4E3\"},\"line\":{\"color\":\"white\"}},\"type\":\"table\"}],\"barpolar\":[{\"marker\":{\"line\":{\"color\":\"#E5ECF6\",\"width\":0.5},\"pattern\":{\"fillmode\":\"overlay\",\"size\":10,\"solidity\":0.2}},\"type\":\"barpolar\"}],\"pie\":[{\"automargin\":true,\"type\":\"pie\"}]},\"layout\":{\"autotypenumbers\":\"strict\",\"colorway\":[\"#636efa\",\"#EF553B\",\"#00cc96\",\"#ab63fa\",\"#FFA15A\",\"#19d3f3\",\"#FF6692\",\"#B6E880\",\"#FF97FF\",\"#FECB52\"],\"font\":{\"color\":\"#2a3f5f\"},\"hovermode\":\"closest\",\"hoverlabel\":{\"align\":\"left\"},\"paper_bgcolor\":\"white\",\"plot_bgcolor\":\"#E5ECF6\",\"polar\":{\"bgcolor\":\"#E5ECF6\",\"angularaxis\":{\"gridcolor\":\"white\",\"linecolor\":\"white\",\"ticks\":\"\"},\"radialaxis\":{\"gridcolor\":\"white\",\"linecolor\":\"white\",\"ticks\":\"\"}},\"ternary\":{\"bgcolor\":\"#E5ECF6\",\"aaxis\":{\"gridcolor\":\"white\",\"linecolor\":\"white\",\"ticks\":\"\"},\"baxis\":{\"gridcolor\":\"white\",\"linecolor\":\"white\",\"ticks\":\"\"},\"caxis\":{\"gridcolor\":\"white\",\"linecolor\":\"white\",\"ticks\":\"\"}},\"coloraxis\":{\"colorbar\":{\"outlinewidth\":0,\"ticks\":\"\"}},\"colorscale\":{\"sequential\":[[0.0,\"#0d0887\"],[0.1111111111111111,\"#46039f\"],[0.2222222222222222,\"#7201a8\"],[0.3333333333333333,\"#9c179e\"],[0.4444444444444444,\"#bd3786\"],[0.5555555555555556,\"#d8576b\"],[0.6666666666666666,\"#ed7953\"],[0.7777777777777778,\"#fb9f3a\"],[0.8888888888888888,\"#fdca26\"],[1.0,\"#f0f921\"]],\"sequentialminus\":[[0.0,\"#0d0887\"],[0.1111111111111111,\"#46039f\"],[0.2222222222222222,\"#7201a8\"],[0.3333333333333333,\"#9c179e\"],[0.4444444444444444,\"#bd3786\"],[0.5555555555555556,\"#d8576b\"],[0.6666666666666666,\"#ed7953\"],[0.7777777777777778,\"#fb9f3a\"],[0.8888888888888888,\"#fdca26\"],[1.0,\"#f0f921\"]],\"diverging\":[[0,\"#8e0152\"],[0.1,\"#c51b7d\"],[0.2,\"#de77ae\"],[0.3,\"#f1b6da\"],[0.4,\"#fde0ef\"],[0.5,\"#f7f7f7\"],[0.6,\"#e6f5d0\"],[0.7,\"#b8e186\"],[0.8,\"#7fbc41\"],[0.9,\"#4d9221\"],[1,\"#276419\"]]},\"xaxis\":{\"gridcolor\":\"white\",\"linecolor\":\"white\",\"ticks\":\"\",\"title\":{\"standoff\":15},\"zerolinecolor\":\"white\",\"automargin\":true,\"zerolinewidth\":2},\"yaxis\":{\"gridcolor\":\"white\",\"linecolor\":\"white\",\"ticks\":\"\",\"title\":{\"standoff\":15},\"zerolinecolor\":\"white\",\"automargin\":true,\"zerolinewidth\":2},\"scene\":{\"xaxis\":{\"backgroundcolor\":\"#E5ECF6\",\"gridcolor\":\"white\",\"linecolor\":\"white\",\"showbackground\":true,\"ticks\":\"\",\"zerolinecolor\":\"white\",\"gridwidth\":2},\"yaxis\":{\"backgroundcolor\":\"#E5ECF6\",\"gridcolor\":\"white\",\"linecolor\":\"white\",\"showbackground\":true,\"ticks\":\"\",\"zerolinecolor\":\"white\",\"gridwidth\":2},\"zaxis\":{\"backgroundcolor\":\"#E5ECF6\",\"gridcolor\":\"white\",\"linecolor\":\"white\",\"showbackground\":true,\"ticks\":\"\",\"zerolinecolor\":\"white\",\"gridwidth\":2}},\"shapedefaults\":{\"line\":{\"color\":\"#2a3f5f\"}},\"annotationdefaults\":{\"arrowcolor\":\"#2a3f5f\",\"arrowhead\":0,\"arrowwidth\":1},\"geo\":{\"bgcolor\":\"white\",\"landcolor\":\"#E5ECF6\",\"subunitcolor\":\"white\",\"showland\":true,\"showlakes\":true,\"lakecolor\":\"white\"},\"title\":{\"x\":0.05},\"mapbox\":{\"style\":\"light\"}}},\"xaxis\":{\"anchor\":\"y\",\"domain\":[0.0,1.0],\"title\":{\"text\":\"PAID\"}},\"yaxis\":{\"anchor\":\"x\",\"domain\":[0.0,1.0],\"title\":{\"text\":\"count\"}},\"legend\":{\"tracegroupgap\":0},\"margin\":{\"t\":60},\"barmode\":\"relative\"},                        {\"responsive\": true}                    ).then(function(){\n",
       "                            \n",
       "var gd = document.getElementById('958c521d-31bf-480c-8e89-9bd40ad0a03c');\n",
       "var x = new MutationObserver(function (mutations, observer) {{\n",
       "        var display = window.getComputedStyle(gd).display;\n",
       "        if (!display || display === 'none') {{\n",
       "            console.log([gd, 'removed!']);\n",
       "            Plotly.purge(gd);\n",
       "            observer.disconnect();\n",
       "        }}\n",
       "}});\n",
       "\n",
       "// Listen for the removal of the full notebook cells\n",
       "var notebookContainer = gd.closest('#notebook-container');\n",
       "if (notebookContainer) {{\n",
       "    x.observe(notebookContainer, {childList: true});\n",
       "}}\n",
       "\n",
       "// Listen for the clearing of the current output cell\n",
       "var outputEl = gd.closest('.output');\n",
       "if (outputEl) {{\n",
       "    x.observe(outputEl, {childList: true});\n",
       "}}\n",
       "\n",
       "                        })                };                });            </script>        </div>"
      ]
     },
     "metadata": {},
     "output_type": "display_data"
    }
   ],
   "source": [
    "fig = px.histogram(autoclaims_csv_asdf, x='PAID', nbins=20)\n",
    "fig.show()"
   ]
  },
  {
   "cell_type": "code",
   "execution_count": 177,
   "id": "3e6b03e9",
   "metadata": {},
   "outputs": [
    {
     "data": {
      "application/vnd.plotly.v1+json": {
       "config": {
        "plotlyServerURL": "https://plot.ly"
       },
       "data": [
        {
         "alignmentgroup": "True",
         "hovertemplate": "PAID=%{x}<extra></extra>",
         "legendgroup": "",
         "marker": {
          "color": "#636efa"
         },
         "name": "",
         "notched": false,
         "offsetgroup": "",
         "orientation": "h",
         "showlegend": false,
         "type": "box",
         "x": [
          2384.67,
          650,
          654,
          3890.07,
          295.99,
          11756.34,
          2402,
          296.97,
          249.1,
          14833.3,
          3025,
          2750,
          2612.74,
          1259.89,
          824.85,
          669.5,
          664.34,
          408.39,
          3953.84,
          3841.66,
          239.37,
          30,
          6384,
          4467.92,
          1541.1,
          1354.93,
          1263.51,
          1045,
          519.75,
          499.28,
          365.26,
          322.34,
          122.41,
          10524.64,
          6854.02,
          3206.76,
          2724.04,
          2269,
          2169.88,
          1929.81,
          1061.8,
          945.8,
          899.13,
          7326.67,
          5301.72,
          3596.5,
          2322.72,
          1944.45,
          1491.69,
          1314.4,
          836.78,
          479,
          426.19,
          3112.89,
          2500,
          1921.22,
          1472.87,
          1444.89,
          1368.76,
          1346.36,
          772.23,
          688.67,
          362.63,
          359.41,
          354.29,
          262.81,
          244.11,
          9377.82,
          5540.07,
          3118.5,
          2495.8,
          2362.89,
          2007.78,
          1816.41,
          1500,
          1139.6,
          952.05,
          746.89,
          644.87,
          188.61,
          117.4,
          12714.43,
          10116.07,
          1949.14,
          1852.5,
          1722.82,
          1539.07,
          1476.43,
          1458.13,
          1119.52,
          990.07,
          987,
          782.44,
          459,
          377.36,
          319.67,
          176.07,
          154.75,
          8493.76,
          3809.83,
          3222.66,
          1113.38,
          766.4,
          663.17,
          640.4,
          619.06,
          419.18,
          298.62,
          160.2,
          105.5,
          8323.31,
          6291.84,
          4904.64,
          4096.58,
          3334.65,
          1755.95,
          1160.63,
          1098.37,
          818.79,
          651.57,
          646.79,
          584.61,
          417.04,
          399.9,
          371.63,
          365.5,
          275.43,
          146.56,
          14651.31,
          6754.81,
          5071.99,
          4809.52,
          2884.46,
          2591.33,
          2419.75,
          1321.7,
          1308,
          981.86,
          843.98,
          817.62,
          712,
          634.48,
          463.96,
          462.93,
          430.38,
          388.71,
          112.78,
          85,
          12151.86,
          5186.82,
          4451.39,
          3968.51,
          3392.58,
          1879.51,
          1792.54,
          1607.6,
          1238,
          1130,
          1081.71,
          1033.84,
          671.59,
          361.37,
          171.7,
          40,
          3203.35,
          3060.69,
          2171.93,
          1727.85,
          1550,
          1470.35,
          1229.01,
          1010.94,
          575.36,
          555.34,
          533.11,
          459.1,
          253.75,
          148.65,
          4184.46,
          4082.49,
          1846.1,
          1688.78,
          1118.91,
          749.64,
          725.71,
          722.02,
          648.06,
          593.46,
          516.81,
          302.54,
          300,
          278.55,
          248.68,
          131,
          28.46,
          13058.85,
          6950.54,
          2930,
          2112.46,
          2100,
          1500,
          1386.41,
          1270.17,
          1203.81,
          993.59,
          903,
          900,
          583.76,
          580.32,
          376.46,
          275.94,
          91.27,
          6013.74,
          4804.22,
          3179.28,
          2893.53,
          1916.21,
          1209.08,
          1036.74,
          986.12,
          893.03,
          754.31,
          740.38,
          694.91,
          693.13,
          564.05,
          551.78,
          549.77,
          497.85,
          403.3,
          358.7,
          284.54,
          228,
          177.6,
          177.42,
          139.79,
          33137.5,
          7293.43,
          3754.51,
          3495.14,
          3140.66,
          2137.4,
          1971.75,
          1956,
          1870.58,
          1650,
          1188.74,
          1115.89,
          1088.73,
          1074.35,
          1016.43,
          860.67,
          831.8,
          796.8,
          759.57,
          668.74,
          582.62,
          404,
          393.5,
          309.67,
          292.44,
          221.7,
          103.75,
          11511.72,
          6090.02,
          1727.33,
          1235.07,
          910.01,
          812.98,
          562.05,
          527.34,
          451.31,
          332.06,
          315.53,
          10527.4,
          7751.55,
          5711.53,
          3804.44,
          3760.07,
          2757.83,
          2565.84,
          2221.87,
          2139.9,
          2000,
          1363.23,
          1132.41,
          993.19,
          964.22,
          898.55,
          822.1,
          761.22,
          754.56,
          685.71,
          622.53,
          604.95,
          587.51,
          490.25,
          489.73,
          465.5,
          329.91,
          272.01,
          258.5,
          4643.8,
          3523.9,
          3007.96,
          2192.98,
          1752.16,
          1686.2,
          1648.41,
          1381.16,
          1336.26,
          1248.01,
          950.61,
          945.56,
          880.82,
          713.55,
          645.8,
          626.38,
          573.4,
          488.16,
          458,
          443.95,
          253.59,
          209.83,
          138.86,
          100,
          30,
          24624.44,
          8123.33,
          5158.65,
          5035.93,
          4625.47,
          1707.92,
          1694.59,
          1501.05,
          1369.74,
          946.38,
          825.66,
          682.85,
          604.95,
          585.34,
          565.02,
          529.28,
          388.03,
          377.54,
          303,
          300,
          198.98,
          135,
          47.52,
          11458.07,
          8300.31,
          7827.74,
          6261.92,
          5861.5,
          5381.14,
          4532.02,
          3656.77,
          2928.92,
          2547.5,
          2276.5,
          2017.28,
          1678.17,
          1651.86,
          1482.45,
          1480.93,
          1348.93,
          1189.96,
          1090.41,
          940.28,
          925.47,
          852.22,
          417.18,
          369.02,
          346.79,
          244.23,
          132,
          100,
          14753.58,
          11288.76,
          10175.27,
          6277.84,
          4939.5,
          4786.51,
          3167.49,
          2572.22,
          1712.27,
          1712.13,
          1396.61,
          1377.31,
          1108.42,
          1001.76,
          989.59,
          891.09,
          882.77,
          670.77,
          638.99,
          546.32,
          536.11,
          533.33,
          464.59,
          460.36,
          291.92,
          257.01,
          106,
          7487.94,
          7296.2,
          4929.65,
          2532.6,
          2344.69,
          1855.85,
          1812.47,
          1431.81,
          1226.28,
          1122.12,
          1090.75,
          1067.57,
          1012.19,
          928.2,
          861.89,
          809.34,
          782.9,
          768.05,
          698.65,
          630.11,
          617.9,
          594.8,
          585.74,
          390.02,
          291.28,
          236.53,
          10077,
          8569.3,
          6124.34,
          5335.35,
          3486.96,
          3255.88,
          2985.29,
          2418.4,
          2368.69,
          2007.64,
          1996,
          1869.49,
          1600.18,
          1278.52,
          1212.85,
          1039.69,
          834.12,
          805.18,
          676.15,
          651.18,
          586.85,
          315.61,
          311.32,
          25.44,
          9793.42,
          7620.37,
          6800.94,
          4781.43,
          3944.37,
          2406,
          1613.41,
          1340.74,
          1249.02,
          1086.9,
          941.85,
          909.99,
          903.99,
          875.28,
          738.18,
          492.22,
          468,
          443.49,
          439.22,
          359.11,
          8215.8,
          6208.2,
          5241.71,
          3912.49,
          3230.09,
          2600,
          2531.24,
          2038.05,
          1890.5,
          1704.54,
          1145.63,
          959.52,
          763.07,
          746.63,
          700,
          554.55,
          545.3,
          490.6,
          273.29,
          189.9,
          10652.59,
          5556.75,
          3403.09,
          3328.93,
          2805.73
         ],
         "x0": " ",
         "xaxis": "x",
         "y0": " ",
         "yaxis": "y"
        }
       ],
       "layout": {
        "boxmode": "group",
        "legend": {
         "tracegroupgap": 0
        },
        "margin": {
         "t": 60
        },
        "template": {
         "data": {
          "bar": [
           {
            "error_x": {
             "color": "#2a3f5f"
            },
            "error_y": {
             "color": "#2a3f5f"
            },
            "marker": {
             "line": {
              "color": "#E5ECF6",
              "width": 0.5
             },
             "pattern": {
              "fillmode": "overlay",
              "size": 10,
              "solidity": 0.2
             }
            },
            "type": "bar"
           }
          ],
          "barpolar": [
           {
            "marker": {
             "line": {
              "color": "#E5ECF6",
              "width": 0.5
             },
             "pattern": {
              "fillmode": "overlay",
              "size": 10,
              "solidity": 0.2
             }
            },
            "type": "barpolar"
           }
          ],
          "carpet": [
           {
            "aaxis": {
             "endlinecolor": "#2a3f5f",
             "gridcolor": "white",
             "linecolor": "white",
             "minorgridcolor": "white",
             "startlinecolor": "#2a3f5f"
            },
            "baxis": {
             "endlinecolor": "#2a3f5f",
             "gridcolor": "white",
             "linecolor": "white",
             "minorgridcolor": "white",
             "startlinecolor": "#2a3f5f"
            },
            "type": "carpet"
           }
          ],
          "choropleth": [
           {
            "colorbar": {
             "outlinewidth": 0,
             "ticks": ""
            },
            "type": "choropleth"
           }
          ],
          "contour": [
           {
            "colorbar": {
             "outlinewidth": 0,
             "ticks": ""
            },
            "colorscale": [
             [
              0,
              "#0d0887"
             ],
             [
              0.1111111111111111,
              "#46039f"
             ],
             [
              0.2222222222222222,
              "#7201a8"
             ],
             [
              0.3333333333333333,
              "#9c179e"
             ],
             [
              0.4444444444444444,
              "#bd3786"
             ],
             [
              0.5555555555555556,
              "#d8576b"
             ],
             [
              0.6666666666666666,
              "#ed7953"
             ],
             [
              0.7777777777777778,
              "#fb9f3a"
             ],
             [
              0.8888888888888888,
              "#fdca26"
             ],
             [
              1,
              "#f0f921"
             ]
            ],
            "type": "contour"
           }
          ],
          "contourcarpet": [
           {
            "colorbar": {
             "outlinewidth": 0,
             "ticks": ""
            },
            "type": "contourcarpet"
           }
          ],
          "heatmap": [
           {
            "colorbar": {
             "outlinewidth": 0,
             "ticks": ""
            },
            "colorscale": [
             [
              0,
              "#0d0887"
             ],
             [
              0.1111111111111111,
              "#46039f"
             ],
             [
              0.2222222222222222,
              "#7201a8"
             ],
             [
              0.3333333333333333,
              "#9c179e"
             ],
             [
              0.4444444444444444,
              "#bd3786"
             ],
             [
              0.5555555555555556,
              "#d8576b"
             ],
             [
              0.6666666666666666,
              "#ed7953"
             ],
             [
              0.7777777777777778,
              "#fb9f3a"
             ],
             [
              0.8888888888888888,
              "#fdca26"
             ],
             [
              1,
              "#f0f921"
             ]
            ],
            "type": "heatmap"
           }
          ],
          "heatmapgl": [
           {
            "colorbar": {
             "outlinewidth": 0,
             "ticks": ""
            },
            "colorscale": [
             [
              0,
              "#0d0887"
             ],
             [
              0.1111111111111111,
              "#46039f"
             ],
             [
              0.2222222222222222,
              "#7201a8"
             ],
             [
              0.3333333333333333,
              "#9c179e"
             ],
             [
              0.4444444444444444,
              "#bd3786"
             ],
             [
              0.5555555555555556,
              "#d8576b"
             ],
             [
              0.6666666666666666,
              "#ed7953"
             ],
             [
              0.7777777777777778,
              "#fb9f3a"
             ],
             [
              0.8888888888888888,
              "#fdca26"
             ],
             [
              1,
              "#f0f921"
             ]
            ],
            "type": "heatmapgl"
           }
          ],
          "histogram": [
           {
            "marker": {
             "pattern": {
              "fillmode": "overlay",
              "size": 10,
              "solidity": 0.2
             }
            },
            "type": "histogram"
           }
          ],
          "histogram2d": [
           {
            "colorbar": {
             "outlinewidth": 0,
             "ticks": ""
            },
            "colorscale": [
             [
              0,
              "#0d0887"
             ],
             [
              0.1111111111111111,
              "#46039f"
             ],
             [
              0.2222222222222222,
              "#7201a8"
             ],
             [
              0.3333333333333333,
              "#9c179e"
             ],
             [
              0.4444444444444444,
              "#bd3786"
             ],
             [
              0.5555555555555556,
              "#d8576b"
             ],
             [
              0.6666666666666666,
              "#ed7953"
             ],
             [
              0.7777777777777778,
              "#fb9f3a"
             ],
             [
              0.8888888888888888,
              "#fdca26"
             ],
             [
              1,
              "#f0f921"
             ]
            ],
            "type": "histogram2d"
           }
          ],
          "histogram2dcontour": [
           {
            "colorbar": {
             "outlinewidth": 0,
             "ticks": ""
            },
            "colorscale": [
             [
              0,
              "#0d0887"
             ],
             [
              0.1111111111111111,
              "#46039f"
             ],
             [
              0.2222222222222222,
              "#7201a8"
             ],
             [
              0.3333333333333333,
              "#9c179e"
             ],
             [
              0.4444444444444444,
              "#bd3786"
             ],
             [
              0.5555555555555556,
              "#d8576b"
             ],
             [
              0.6666666666666666,
              "#ed7953"
             ],
             [
              0.7777777777777778,
              "#fb9f3a"
             ],
             [
              0.8888888888888888,
              "#fdca26"
             ],
             [
              1,
              "#f0f921"
             ]
            ],
            "type": "histogram2dcontour"
           }
          ],
          "mesh3d": [
           {
            "colorbar": {
             "outlinewidth": 0,
             "ticks": ""
            },
            "type": "mesh3d"
           }
          ],
          "parcoords": [
           {
            "line": {
             "colorbar": {
              "outlinewidth": 0,
              "ticks": ""
             }
            },
            "type": "parcoords"
           }
          ],
          "pie": [
           {
            "automargin": true,
            "type": "pie"
           }
          ],
          "scatter": [
           {
            "fillpattern": {
             "fillmode": "overlay",
             "size": 10,
             "solidity": 0.2
            },
            "type": "scatter"
           }
          ],
          "scatter3d": [
           {
            "line": {
             "colorbar": {
              "outlinewidth": 0,
              "ticks": ""
             }
            },
            "marker": {
             "colorbar": {
              "outlinewidth": 0,
              "ticks": ""
             }
            },
            "type": "scatter3d"
           }
          ],
          "scattercarpet": [
           {
            "marker": {
             "colorbar": {
              "outlinewidth": 0,
              "ticks": ""
             }
            },
            "type": "scattercarpet"
           }
          ],
          "scattergeo": [
           {
            "marker": {
             "colorbar": {
              "outlinewidth": 0,
              "ticks": ""
             }
            },
            "type": "scattergeo"
           }
          ],
          "scattergl": [
           {
            "marker": {
             "colorbar": {
              "outlinewidth": 0,
              "ticks": ""
             }
            },
            "type": "scattergl"
           }
          ],
          "scattermapbox": [
           {
            "marker": {
             "colorbar": {
              "outlinewidth": 0,
              "ticks": ""
             }
            },
            "type": "scattermapbox"
           }
          ],
          "scatterpolar": [
           {
            "marker": {
             "colorbar": {
              "outlinewidth": 0,
              "ticks": ""
             }
            },
            "type": "scatterpolar"
           }
          ],
          "scatterpolargl": [
           {
            "marker": {
             "colorbar": {
              "outlinewidth": 0,
              "ticks": ""
             }
            },
            "type": "scatterpolargl"
           }
          ],
          "scatterternary": [
           {
            "marker": {
             "colorbar": {
              "outlinewidth": 0,
              "ticks": ""
             }
            },
            "type": "scatterternary"
           }
          ],
          "surface": [
           {
            "colorbar": {
             "outlinewidth": 0,
             "ticks": ""
            },
            "colorscale": [
             [
              0,
              "#0d0887"
             ],
             [
              0.1111111111111111,
              "#46039f"
             ],
             [
              0.2222222222222222,
              "#7201a8"
             ],
             [
              0.3333333333333333,
              "#9c179e"
             ],
             [
              0.4444444444444444,
              "#bd3786"
             ],
             [
              0.5555555555555556,
              "#d8576b"
             ],
             [
              0.6666666666666666,
              "#ed7953"
             ],
             [
              0.7777777777777778,
              "#fb9f3a"
             ],
             [
              0.8888888888888888,
              "#fdca26"
             ],
             [
              1,
              "#f0f921"
             ]
            ],
            "type": "surface"
           }
          ],
          "table": [
           {
            "cells": {
             "fill": {
              "color": "#EBF0F8"
             },
             "line": {
              "color": "white"
             }
            },
            "header": {
             "fill": {
              "color": "#C8D4E3"
             },
             "line": {
              "color": "white"
             }
            },
            "type": "table"
           }
          ]
         },
         "layout": {
          "annotationdefaults": {
           "arrowcolor": "#2a3f5f",
           "arrowhead": 0,
           "arrowwidth": 1
          },
          "autotypenumbers": "strict",
          "coloraxis": {
           "colorbar": {
            "outlinewidth": 0,
            "ticks": ""
           }
          },
          "colorscale": {
           "diverging": [
            [
             0,
             "#8e0152"
            ],
            [
             0.1,
             "#c51b7d"
            ],
            [
             0.2,
             "#de77ae"
            ],
            [
             0.3,
             "#f1b6da"
            ],
            [
             0.4,
             "#fde0ef"
            ],
            [
             0.5,
             "#f7f7f7"
            ],
            [
             0.6,
             "#e6f5d0"
            ],
            [
             0.7,
             "#b8e186"
            ],
            [
             0.8,
             "#7fbc41"
            ],
            [
             0.9,
             "#4d9221"
            ],
            [
             1,
             "#276419"
            ]
           ],
           "sequential": [
            [
             0,
             "#0d0887"
            ],
            [
             0.1111111111111111,
             "#46039f"
            ],
            [
             0.2222222222222222,
             "#7201a8"
            ],
            [
             0.3333333333333333,
             "#9c179e"
            ],
            [
             0.4444444444444444,
             "#bd3786"
            ],
            [
             0.5555555555555556,
             "#d8576b"
            ],
            [
             0.6666666666666666,
             "#ed7953"
            ],
            [
             0.7777777777777778,
             "#fb9f3a"
            ],
            [
             0.8888888888888888,
             "#fdca26"
            ],
            [
             1,
             "#f0f921"
            ]
           ],
           "sequentialminus": [
            [
             0,
             "#0d0887"
            ],
            [
             0.1111111111111111,
             "#46039f"
            ],
            [
             0.2222222222222222,
             "#7201a8"
            ],
            [
             0.3333333333333333,
             "#9c179e"
            ],
            [
             0.4444444444444444,
             "#bd3786"
            ],
            [
             0.5555555555555556,
             "#d8576b"
            ],
            [
             0.6666666666666666,
             "#ed7953"
            ],
            [
             0.7777777777777778,
             "#fb9f3a"
            ],
            [
             0.8888888888888888,
             "#fdca26"
            ],
            [
             1,
             "#f0f921"
            ]
           ]
          },
          "colorway": [
           "#636efa",
           "#EF553B",
           "#00cc96",
           "#ab63fa",
           "#FFA15A",
           "#19d3f3",
           "#FF6692",
           "#B6E880",
           "#FF97FF",
           "#FECB52"
          ],
          "font": {
           "color": "#2a3f5f"
          },
          "geo": {
           "bgcolor": "white",
           "lakecolor": "white",
           "landcolor": "#E5ECF6",
           "showlakes": true,
           "showland": true,
           "subunitcolor": "white"
          },
          "hoverlabel": {
           "align": "left"
          },
          "hovermode": "closest",
          "mapbox": {
           "style": "light"
          },
          "paper_bgcolor": "white",
          "plot_bgcolor": "#E5ECF6",
          "polar": {
           "angularaxis": {
            "gridcolor": "white",
            "linecolor": "white",
            "ticks": ""
           },
           "bgcolor": "#E5ECF6",
           "radialaxis": {
            "gridcolor": "white",
            "linecolor": "white",
            "ticks": ""
           }
          },
          "scene": {
           "xaxis": {
            "backgroundcolor": "#E5ECF6",
            "gridcolor": "white",
            "gridwidth": 2,
            "linecolor": "white",
            "showbackground": true,
            "ticks": "",
            "zerolinecolor": "white"
           },
           "yaxis": {
            "backgroundcolor": "#E5ECF6",
            "gridcolor": "white",
            "gridwidth": 2,
            "linecolor": "white",
            "showbackground": true,
            "ticks": "",
            "zerolinecolor": "white"
           },
           "zaxis": {
            "backgroundcolor": "#E5ECF6",
            "gridcolor": "white",
            "gridwidth": 2,
            "linecolor": "white",
            "showbackground": true,
            "ticks": "",
            "zerolinecolor": "white"
           }
          },
          "shapedefaults": {
           "line": {
            "color": "#2a3f5f"
           }
          },
          "ternary": {
           "aaxis": {
            "gridcolor": "white",
            "linecolor": "white",
            "ticks": ""
           },
           "baxis": {
            "gridcolor": "white",
            "linecolor": "white",
            "ticks": ""
           },
           "bgcolor": "#E5ECF6",
           "caxis": {
            "gridcolor": "white",
            "linecolor": "white",
            "ticks": ""
           }
          },
          "title": {
           "x": 0.05
          },
          "xaxis": {
           "automargin": true,
           "gridcolor": "white",
           "linecolor": "white",
           "ticks": "",
           "title": {
            "standoff": 15
           },
           "zerolinecolor": "white",
           "zerolinewidth": 2
          },
          "yaxis": {
           "automargin": true,
           "gridcolor": "white",
           "linecolor": "white",
           "ticks": "",
           "title": {
            "standoff": 15
           },
           "zerolinecolor": "white",
           "zerolinewidth": 2
          }
         }
        },
        "xaxis": {
         "anchor": "y",
         "domain": [
          0,
          1
         ],
         "title": {
          "text": "PAID"
         }
        },
        "yaxis": {
         "anchor": "x",
         "domain": [
          0,
          1
         ]
        }
       }
      },
      "text/html": [
       "<div>                            <div id=\"69ce53bf-b3af-46e2-b079-6ca2eff358f0\" class=\"plotly-graph-div\" style=\"height:525px; width:100%;\"></div>            <script type=\"text/javascript\">                require([\"plotly\"], function(Plotly) {                    window.PLOTLYENV=window.PLOTLYENV || {};                                    if (document.getElementById(\"69ce53bf-b3af-46e2-b079-6ca2eff358f0\")) {                    Plotly.newPlot(                        \"69ce53bf-b3af-46e2-b079-6ca2eff358f0\",                        [{\"alignmentgroup\":\"True\",\"hovertemplate\":\"PAID=%{x}\\u003cextra\\u003e\\u003c\\u002fextra\\u003e\",\"legendgroup\":\"\",\"marker\":{\"color\":\"#636efa\"},\"name\":\"\",\"notched\":false,\"offsetgroup\":\"\",\"orientation\":\"h\",\"showlegend\":false,\"x\":[2384.67,650.0,654.0,3890.07,295.99,11756.34,2402.0,296.97,249.1,14833.3,3025.0,2750.0,2612.74,1259.89,824.85,669.5,664.34,408.39,3953.84,3841.66,239.37,30.0,6384.0,4467.92,1541.1,1354.93,1263.51,1045.0,519.75,499.28,365.26,322.34,122.41,10524.64,6854.02,3206.76,2724.04,2269.0,2169.88,1929.81,1061.8,945.8,899.13,7326.67,5301.72,3596.5,2322.72,1944.45,1491.69,1314.4,836.78,479.0,426.19,3112.89,2500.0,1921.22,1472.87,1444.89,1368.76,1346.36,772.23,688.67,362.63,359.41,354.29,262.81,244.11,9377.82,5540.07,3118.5,2495.8,2362.89,2007.78,1816.41,1500.0,1139.6,952.05,746.89,644.87,188.61,117.4,12714.43,10116.07,1949.14,1852.5,1722.82,1539.07,1476.43,1458.13,1119.52,990.07,987.0,782.44,459.0,377.36,319.67,176.07,154.75,8493.76,3809.83,3222.66,1113.38,766.4,663.17,640.4,619.06,419.18,298.62,160.2,105.5,8323.31,6291.84,4904.64,4096.58,3334.65,1755.95,1160.63,1098.37,818.79,651.57,646.79,584.61,417.04,399.9,371.63,365.5,275.43,146.56,14651.31,6754.81,5071.99,4809.52,2884.46,2591.33,2419.75,1321.7,1308.0,981.86,843.98,817.62,712.0,634.48,463.96,462.93,430.38,388.71,112.78,85.0,12151.86,5186.82,4451.39,3968.51,3392.58,1879.51,1792.54,1607.6,1238.0,1130.0,1081.71,1033.84,671.59,361.37,171.7,40.0,3203.35,3060.69,2171.93,1727.85,1550.0,1470.35,1229.01,1010.94,575.36,555.34,533.11,459.1,253.75,148.65,4184.46,4082.49,1846.1,1688.78,1118.91,749.64,725.71,722.02,648.06,593.46,516.81,302.54,300.0,278.55,248.68,131.0,28.46,13058.85,6950.54,2930.0,2112.46,2100.0,1500.0,1386.41,1270.17,1203.81,993.59,903.0,900.0,583.76,580.32,376.46,275.94,91.27,6013.74,4804.22,3179.28,2893.53,1916.21,1209.08,1036.74,986.12,893.03,754.31,740.38,694.91,693.13,564.05,551.78,549.77,497.85,403.3,358.7,284.54,228.0,177.6,177.42,139.79,33137.5,7293.43,3754.51,3495.14,3140.66,2137.4,1971.75,1956.0,1870.58,1650.0,1188.74,1115.89,1088.73,1074.35,1016.43,860.67,831.8,796.8,759.57,668.74,582.62,404.0,393.5,309.67,292.44,221.7,103.75,11511.72,6090.02,1727.33,1235.07,910.01,812.98,562.05,527.34,451.31,332.06,315.53,10527.4,7751.55,5711.53,3804.44,3760.07,2757.83,2565.84,2221.87,2139.9,2000.0,1363.23,1132.41,993.19,964.22,898.55,822.1,761.22,754.56,685.71,622.53,604.95,587.51,490.25,489.73,465.5,329.91,272.01,258.5,4643.8,3523.9,3007.96,2192.98,1752.16,1686.2,1648.41,1381.16,1336.26,1248.01,950.61,945.56,880.82,713.55,645.8,626.38,573.4,488.16,458.0,443.95,253.59,209.83,138.86,100.0,30.0,24624.44,8123.33,5158.65,5035.93,4625.47,1707.92,1694.59,1501.05,1369.74,946.38,825.66,682.85,604.95,585.34,565.02,529.28,388.03,377.54,303.0,300.0,198.98,135.0,47.52,11458.07,8300.31,7827.74,6261.92,5861.5,5381.14,4532.02,3656.77,2928.92,2547.5,2276.5,2017.28,1678.17,1651.86,1482.45,1480.93,1348.93,1189.96,1090.41,940.28,925.47,852.22,417.18,369.02,346.79,244.23,132.0,100.0,14753.58,11288.76,10175.27,6277.84,4939.5,4786.51,3167.49,2572.22,1712.27,1712.13,1396.61,1377.31,1108.42,1001.76,989.59,891.09,882.77,670.77,638.99,546.32,536.11,533.33,464.59,460.36,291.92,257.01,106.0,7487.94,7296.2,4929.65,2532.6,2344.69,1855.85,1812.47,1431.81,1226.28,1122.12,1090.75,1067.57,1012.19,928.2,861.89,809.34,782.9,768.05,698.65,630.11,617.9,594.8,585.74,390.02,291.28,236.53,10077.0,8569.3,6124.34,5335.35,3486.96,3255.88,2985.29,2418.4,2368.69,2007.64,1996.0,1869.49,1600.18,1278.52,1212.85,1039.69,834.12,805.18,676.15,651.18,586.85,315.61,311.32,25.44,9793.42,7620.37,6800.94,4781.43,3944.37,2406.0,1613.41,1340.74,1249.02,1086.9,941.85,909.99,903.99,875.28,738.18,492.22,468.0,443.49,439.22,359.11,8215.8,6208.2,5241.71,3912.49,3230.09,2600.0,2531.24,2038.05,1890.5,1704.54,1145.63,959.52,763.07,746.63,700.0,554.55,545.3,490.6,273.29,189.9,10652.59,5556.75,3403.09,3328.93,2805.73],\"x0\":\" \",\"xaxis\":\"x\",\"y0\":\" \",\"yaxis\":\"y\",\"type\":\"box\"}],                        {\"template\":{\"data\":{\"histogram2dcontour\":[{\"type\":\"histogram2dcontour\",\"colorbar\":{\"outlinewidth\":0,\"ticks\":\"\"},\"colorscale\":[[0.0,\"#0d0887\"],[0.1111111111111111,\"#46039f\"],[0.2222222222222222,\"#7201a8\"],[0.3333333333333333,\"#9c179e\"],[0.4444444444444444,\"#bd3786\"],[0.5555555555555556,\"#d8576b\"],[0.6666666666666666,\"#ed7953\"],[0.7777777777777778,\"#fb9f3a\"],[0.8888888888888888,\"#fdca26\"],[1.0,\"#f0f921\"]]}],\"choropleth\":[{\"type\":\"choropleth\",\"colorbar\":{\"outlinewidth\":0,\"ticks\":\"\"}}],\"histogram2d\":[{\"type\":\"histogram2d\",\"colorbar\":{\"outlinewidth\":0,\"ticks\":\"\"},\"colorscale\":[[0.0,\"#0d0887\"],[0.1111111111111111,\"#46039f\"],[0.2222222222222222,\"#7201a8\"],[0.3333333333333333,\"#9c179e\"],[0.4444444444444444,\"#bd3786\"],[0.5555555555555556,\"#d8576b\"],[0.6666666666666666,\"#ed7953\"],[0.7777777777777778,\"#fb9f3a\"],[0.8888888888888888,\"#fdca26\"],[1.0,\"#f0f921\"]]}],\"heatmap\":[{\"type\":\"heatmap\",\"colorbar\":{\"outlinewidth\":0,\"ticks\":\"\"},\"colorscale\":[[0.0,\"#0d0887\"],[0.1111111111111111,\"#46039f\"],[0.2222222222222222,\"#7201a8\"],[0.3333333333333333,\"#9c179e\"],[0.4444444444444444,\"#bd3786\"],[0.5555555555555556,\"#d8576b\"],[0.6666666666666666,\"#ed7953\"],[0.7777777777777778,\"#fb9f3a\"],[0.8888888888888888,\"#fdca26\"],[1.0,\"#f0f921\"]]}],\"heatmapgl\":[{\"type\":\"heatmapgl\",\"colorbar\":{\"outlinewidth\":0,\"ticks\":\"\"},\"colorscale\":[[0.0,\"#0d0887\"],[0.1111111111111111,\"#46039f\"],[0.2222222222222222,\"#7201a8\"],[0.3333333333333333,\"#9c179e\"],[0.4444444444444444,\"#bd3786\"],[0.5555555555555556,\"#d8576b\"],[0.6666666666666666,\"#ed7953\"],[0.7777777777777778,\"#fb9f3a\"],[0.8888888888888888,\"#fdca26\"],[1.0,\"#f0f921\"]]}],\"contourcarpet\":[{\"type\":\"contourcarpet\",\"colorbar\":{\"outlinewidth\":0,\"ticks\":\"\"}}],\"contour\":[{\"type\":\"contour\",\"colorbar\":{\"outlinewidth\":0,\"ticks\":\"\"},\"colorscale\":[[0.0,\"#0d0887\"],[0.1111111111111111,\"#46039f\"],[0.2222222222222222,\"#7201a8\"],[0.3333333333333333,\"#9c179e\"],[0.4444444444444444,\"#bd3786\"],[0.5555555555555556,\"#d8576b\"],[0.6666666666666666,\"#ed7953\"],[0.7777777777777778,\"#fb9f3a\"],[0.8888888888888888,\"#fdca26\"],[1.0,\"#f0f921\"]]}],\"surface\":[{\"type\":\"surface\",\"colorbar\":{\"outlinewidth\":0,\"ticks\":\"\"},\"colorscale\":[[0.0,\"#0d0887\"],[0.1111111111111111,\"#46039f\"],[0.2222222222222222,\"#7201a8\"],[0.3333333333333333,\"#9c179e\"],[0.4444444444444444,\"#bd3786\"],[0.5555555555555556,\"#d8576b\"],[0.6666666666666666,\"#ed7953\"],[0.7777777777777778,\"#fb9f3a\"],[0.8888888888888888,\"#fdca26\"],[1.0,\"#f0f921\"]]}],\"mesh3d\":[{\"type\":\"mesh3d\",\"colorbar\":{\"outlinewidth\":0,\"ticks\":\"\"}}],\"scatter\":[{\"fillpattern\":{\"fillmode\":\"overlay\",\"size\":10,\"solidity\":0.2},\"type\":\"scatter\"}],\"parcoords\":[{\"type\":\"parcoords\",\"line\":{\"colorbar\":{\"outlinewidth\":0,\"ticks\":\"\"}}}],\"scatterpolargl\":[{\"type\":\"scatterpolargl\",\"marker\":{\"colorbar\":{\"outlinewidth\":0,\"ticks\":\"\"}}}],\"bar\":[{\"error_x\":{\"color\":\"#2a3f5f\"},\"error_y\":{\"color\":\"#2a3f5f\"},\"marker\":{\"line\":{\"color\":\"#E5ECF6\",\"width\":0.5},\"pattern\":{\"fillmode\":\"overlay\",\"size\":10,\"solidity\":0.2}},\"type\":\"bar\"}],\"scattergeo\":[{\"type\":\"scattergeo\",\"marker\":{\"colorbar\":{\"outlinewidth\":0,\"ticks\":\"\"}}}],\"scatterpolar\":[{\"type\":\"scatterpolar\",\"marker\":{\"colorbar\":{\"outlinewidth\":0,\"ticks\":\"\"}}}],\"histogram\":[{\"marker\":{\"pattern\":{\"fillmode\":\"overlay\",\"size\":10,\"solidity\":0.2}},\"type\":\"histogram\"}],\"scattergl\":[{\"type\":\"scattergl\",\"marker\":{\"colorbar\":{\"outlinewidth\":0,\"ticks\":\"\"}}}],\"scatter3d\":[{\"type\":\"scatter3d\",\"line\":{\"colorbar\":{\"outlinewidth\":0,\"ticks\":\"\"}},\"marker\":{\"colorbar\":{\"outlinewidth\":0,\"ticks\":\"\"}}}],\"scattermapbox\":[{\"type\":\"scattermapbox\",\"marker\":{\"colorbar\":{\"outlinewidth\":0,\"ticks\":\"\"}}}],\"scatterternary\":[{\"type\":\"scatterternary\",\"marker\":{\"colorbar\":{\"outlinewidth\":0,\"ticks\":\"\"}}}],\"scattercarpet\":[{\"type\":\"scattercarpet\",\"marker\":{\"colorbar\":{\"outlinewidth\":0,\"ticks\":\"\"}}}],\"carpet\":[{\"aaxis\":{\"endlinecolor\":\"#2a3f5f\",\"gridcolor\":\"white\",\"linecolor\":\"white\",\"minorgridcolor\":\"white\",\"startlinecolor\":\"#2a3f5f\"},\"baxis\":{\"endlinecolor\":\"#2a3f5f\",\"gridcolor\":\"white\",\"linecolor\":\"white\",\"minorgridcolor\":\"white\",\"startlinecolor\":\"#2a3f5f\"},\"type\":\"carpet\"}],\"table\":[{\"cells\":{\"fill\":{\"color\":\"#EBF0F8\"},\"line\":{\"color\":\"white\"}},\"header\":{\"fill\":{\"color\":\"#C8D4E3\"},\"line\":{\"color\":\"white\"}},\"type\":\"table\"}],\"barpolar\":[{\"marker\":{\"line\":{\"color\":\"#E5ECF6\",\"width\":0.5},\"pattern\":{\"fillmode\":\"overlay\",\"size\":10,\"solidity\":0.2}},\"type\":\"barpolar\"}],\"pie\":[{\"automargin\":true,\"type\":\"pie\"}]},\"layout\":{\"autotypenumbers\":\"strict\",\"colorway\":[\"#636efa\",\"#EF553B\",\"#00cc96\",\"#ab63fa\",\"#FFA15A\",\"#19d3f3\",\"#FF6692\",\"#B6E880\",\"#FF97FF\",\"#FECB52\"],\"font\":{\"color\":\"#2a3f5f\"},\"hovermode\":\"closest\",\"hoverlabel\":{\"align\":\"left\"},\"paper_bgcolor\":\"white\",\"plot_bgcolor\":\"#E5ECF6\",\"polar\":{\"bgcolor\":\"#E5ECF6\",\"angularaxis\":{\"gridcolor\":\"white\",\"linecolor\":\"white\",\"ticks\":\"\"},\"radialaxis\":{\"gridcolor\":\"white\",\"linecolor\":\"white\",\"ticks\":\"\"}},\"ternary\":{\"bgcolor\":\"#E5ECF6\",\"aaxis\":{\"gridcolor\":\"white\",\"linecolor\":\"white\",\"ticks\":\"\"},\"baxis\":{\"gridcolor\":\"white\",\"linecolor\":\"white\",\"ticks\":\"\"},\"caxis\":{\"gridcolor\":\"white\",\"linecolor\":\"white\",\"ticks\":\"\"}},\"coloraxis\":{\"colorbar\":{\"outlinewidth\":0,\"ticks\":\"\"}},\"colorscale\":{\"sequential\":[[0.0,\"#0d0887\"],[0.1111111111111111,\"#46039f\"],[0.2222222222222222,\"#7201a8\"],[0.3333333333333333,\"#9c179e\"],[0.4444444444444444,\"#bd3786\"],[0.5555555555555556,\"#d8576b\"],[0.6666666666666666,\"#ed7953\"],[0.7777777777777778,\"#fb9f3a\"],[0.8888888888888888,\"#fdca26\"],[1.0,\"#f0f921\"]],\"sequentialminus\":[[0.0,\"#0d0887\"],[0.1111111111111111,\"#46039f\"],[0.2222222222222222,\"#7201a8\"],[0.3333333333333333,\"#9c179e\"],[0.4444444444444444,\"#bd3786\"],[0.5555555555555556,\"#d8576b\"],[0.6666666666666666,\"#ed7953\"],[0.7777777777777778,\"#fb9f3a\"],[0.8888888888888888,\"#fdca26\"],[1.0,\"#f0f921\"]],\"diverging\":[[0,\"#8e0152\"],[0.1,\"#c51b7d\"],[0.2,\"#de77ae\"],[0.3,\"#f1b6da\"],[0.4,\"#fde0ef\"],[0.5,\"#f7f7f7\"],[0.6,\"#e6f5d0\"],[0.7,\"#b8e186\"],[0.8,\"#7fbc41\"],[0.9,\"#4d9221\"],[1,\"#276419\"]]},\"xaxis\":{\"gridcolor\":\"white\",\"linecolor\":\"white\",\"ticks\":\"\",\"title\":{\"standoff\":15},\"zerolinecolor\":\"white\",\"automargin\":true,\"zerolinewidth\":2},\"yaxis\":{\"gridcolor\":\"white\",\"linecolor\":\"white\",\"ticks\":\"\",\"title\":{\"standoff\":15},\"zerolinecolor\":\"white\",\"automargin\":true,\"zerolinewidth\":2},\"scene\":{\"xaxis\":{\"backgroundcolor\":\"#E5ECF6\",\"gridcolor\":\"white\",\"linecolor\":\"white\",\"showbackground\":true,\"ticks\":\"\",\"zerolinecolor\":\"white\",\"gridwidth\":2},\"yaxis\":{\"backgroundcolor\":\"#E5ECF6\",\"gridcolor\":\"white\",\"linecolor\":\"white\",\"showbackground\":true,\"ticks\":\"\",\"zerolinecolor\":\"white\",\"gridwidth\":2},\"zaxis\":{\"backgroundcolor\":\"#E5ECF6\",\"gridcolor\":\"white\",\"linecolor\":\"white\",\"showbackground\":true,\"ticks\":\"\",\"zerolinecolor\":\"white\",\"gridwidth\":2}},\"shapedefaults\":{\"line\":{\"color\":\"#2a3f5f\"}},\"annotationdefaults\":{\"arrowcolor\":\"#2a3f5f\",\"arrowhead\":0,\"arrowwidth\":1},\"geo\":{\"bgcolor\":\"white\",\"landcolor\":\"#E5ECF6\",\"subunitcolor\":\"white\",\"showland\":true,\"showlakes\":true,\"lakecolor\":\"white\"},\"title\":{\"x\":0.05},\"mapbox\":{\"style\":\"light\"}}},\"xaxis\":{\"anchor\":\"y\",\"domain\":[0.0,1.0],\"title\":{\"text\":\"PAID\"}},\"yaxis\":{\"anchor\":\"x\",\"domain\":[0.0,1.0]},\"legend\":{\"tracegroupgap\":0},\"margin\":{\"t\":60},\"boxmode\":\"group\"},                        {\"responsive\": true}                    ).then(function(){\n",
       "                            \n",
       "var gd = document.getElementById('69ce53bf-b3af-46e2-b079-6ca2eff358f0');\n",
       "var x = new MutationObserver(function (mutations, observer) {{\n",
       "        var display = window.getComputedStyle(gd).display;\n",
       "        if (!display || display === 'none') {{\n",
       "            console.log([gd, 'removed!']);\n",
       "            Plotly.purge(gd);\n",
       "            observer.disconnect();\n",
       "        }}\n",
       "}});\n",
       "\n",
       "// Listen for the removal of the full notebook cells\n",
       "var notebookContainer = gd.closest('#notebook-container');\n",
       "if (notebookContainer) {{\n",
       "    x.observe(notebookContainer, {childList: true});\n",
       "}}\n",
       "\n",
       "// Listen for the clearing of the current output cell\n",
       "var outputEl = gd.closest('.output');\n",
       "if (outputEl) {{\n",
       "    x.observe(outputEl, {childList: true});\n",
       "}}\n",
       "\n",
       "                        })                };                });            </script>        </div>"
      ]
     },
     "metadata": {},
     "output_type": "display_data"
    }
   ],
   "source": [
    "fig = px.box(autoclaims_csv_asdf, x='PAID')\n",
    "fig.show()"
   ]
  },
  {
   "cell_type": "markdown",
   "id": "3f811202",
   "metadata": {},
   "source": [
    "> Answer here..."
   ]
  },
  {
   "cell_type": "code",
   "execution_count": 189,
   "id": "66fdd0b1",
   "metadata": {},
   "outputs": [],
   "source": [
    "hint = \"\\n\\nAUTOMATICALLY FAILING AUTOTEST: DOES NOT COUNT AGAINST STUDENT\\n\"\n",
    "hint += \"Included as an example answer for feedback purposes only\\n\\n\"\n",
    "hint += \"The distribution is skewed right with a median at approximately 1042, and a much larger\\n\"\n",
    "hint += \"standard deviation indicating the long large spread of the right tail of the data.\\n\"\n",
    "hint += \"The mean is correspondingly about twice as large as the median; and, generally, \\n\"\n",
    "hint += \"the decaying right skew is the most definitive characteristic of this distribution,\\n\"\n",
    "hint += \"as opposed to calling it 'unimodel'. Median is probably a better characterization of\\n\"\n",
    "hint += \"'center' because the mean calculation would be less robust to large payment outliers,\\n\"\n",
    "hint += \"which become increasingly sparse from 5k to 15k and then extend out even past 30k.\"\n",
    "hint += \"\\n\\nCODE:\\n\"\n",
    "hint += '''\n",
    "fig = px.histogram(data, x=\"PAID\", nbins=20)\n",
    "fig.show()'''\n",
    "hint += '\\n\\nAND\\n'\n",
    "hint += '''\n",
    "fig = px.box(data, x=\"PAID\")\n",
    "fig.show()'''"
   ]
  },
  {
   "cell_type": "code",
   "execution_count": 188,
   "id": "d5ac5830",
   "metadata": {},
   "outputs": [
    {
     "ename": "AssertionError",
     "evalue": "\n\nAUTOMATICALLY FAILING AUTOTEST: DOES NOT COUNT AGAINST STUDENT\nIncluded as an example answer for feedback purposes only\n\nThe distribution is skewed right with a median at approximately 1042, and a much larger\nstandard deviation indicating the long large spread of the right tail of the data.\nThe mean is correspondingly about twice as large as the median; and, generally, \nthe decaying right skew is the most definitive characteristic of this distribution,\nas opposed to calling it 'unimodel'.\n\nCODE:\n\nfig = px.histogram(d, x=\"PAID\", nbins=20)\nfig.show()\n\nAND\n\nfig = px.box(d, x=\"PAID\")\nfig.show()",
     "output_type": "error",
     "traceback": [
      "\u001b[0;31m---------------------------------------------------------------------------\u001b[0m",
      "\u001b[0;31mAssertionError\u001b[0m                            Traceback (most recent call last)",
      "Cell \u001b[0;32mIn[188], line 2\u001b[0m\n\u001b[1;32m      1\u001b[0m \u001b[38;5;66;03m# test_Q8\u001b[39;00m\n\u001b[0;32m----> 2\u001b[0m \u001b[38;5;28;01massert\u001b[39;00m \u001b[38;5;28;01mFalse\u001b[39;00m, hint\n",
      "\u001b[0;31mAssertionError\u001b[0m: \n\nAUTOMATICALLY FAILING AUTOTEST: DOES NOT COUNT AGAINST STUDENT\nIncluded as an example answer for feedback purposes only\n\nThe distribution is skewed right with a median at approximately 1042, and a much larger\nstandard deviation indicating the long large spread of the right tail of the data.\nThe mean is correspondingly about twice as large as the median; and, generally, \nthe decaying right skew is the most definitive characteristic of this distribution,\nas opposed to calling it 'unimodel'.\n\nCODE:\n\nfig = px.histogram(d, x=\"PAID\", nbins=20)\nfig.show()\n\nAND\n\nfig = px.box(d, x=\"PAID\")\nfig.show()"
     ]
    }
   ],
   "source": [
    "# test_Q8\n",
    "assert False, hint"
   ]
  },
  {
   "cell_type": "markdown",
   "id": "c32edf01",
   "metadata": {},
   "source": [
    "### Q9: Simulate and visualize the bootstrap sampling distribution of the sample median of paid claims using 1000 bootstrap samples of the auto claims sample (i.e., the \"auto_claims.csv\" data).\n",
    "> - Hint 1: Remember that the sample size for your 1000 bootstrap samples should match the original sample size.\n",
    "> - Hint 2: There is not `.median()` method for an `np.array`, but  there is an `np.median()` function.\n",
    "\n",
    "- You can compare your figure and response to the answer given in the ***MarkUs*** output "
   ]
  },
  {
   "cell_type": "code",
   "execution_count": 257,
   "id": "23ce9faa",
   "metadata": {},
   "outputs": [
    {
     "data": {
      "application/vnd.plotly.v1+json": {
       "config": {
        "plotlyServerURL": "https://plot.ly"
       },
       "data": [
        {
         "alignmentgroup": "True",
         "bingroup": "x",
         "histnorm": "probability density",
         "hovertemplate": "Bootstrapped Medians=%{x}<br>probability density=%{y}<extra></extra>",
         "legendgroup": "",
         "marker": {
          "color": "#636efa",
          "pattern": {
           "shape": ""
          }
         },
         "name": "",
         "nbinsx": 12,
         "offsetgroup": "",
         "orientation": "v",
         "showlegend": false,
         "type": "histogram",
         "x": [
          1045,
          961.87,
          1081.71,
          993.19,
          1067.57,
          993.3900000000001,
          1039.69,
          1074.35,
          1042.345,
          1103.395,
          1116.145,
          989.83,
          1038.2150000000001,
          1136.005,
          981.86,
          983.99,
          983.99,
          1074.35,
          941.065,
          1132.41,
          1074.35,
          1103.3200000000002,
          1061.8,
          1045,
          943.7049999999999,
          1189.96,
          1115.89,
          970.69,
          1093.55,
          940.28,
          988.5350000000001,
          1087.815,
          1078.03,
          1116.145,
          997.475,
          1040.87,
          1086.9,
          1122.12,
          1006.975,
          991.6300000000001,
          993.59,
          1127.2649999999999,
          981.86,
          1090.41,
          1089.5700000000002,
          1050.745,
          1124.76,
          1006.975,
          1080.625,
          1038.2150000000001,
          1038.2150000000001,
          1199.52,
          1023.015,
          1039.69,
          1040.87,
          1053.4,
          1011.565,
          1094.3899999999999,
          987.855,
          1080.625,
          1050.745,
          991.6300000000001,
          1038.2150000000001,
          1013.7149999999999,
          1053.4,
          1056.2849999999999,
          1090.75,
          1010.94,
          1074.35,
          973.04,
          964.22,
          1117.4,
          1045,
          1119.52,
          1078.03,
          1086.06,
          961.87,
          1116.145,
          1042.345,
          966.235,
          1011.565,
          1061.8,
          991.6300000000001,
          1136.005,
          981.86,
          1016.43,
          989.83,
          964.22,
          991.83,
          983.99,
          989.83,
          1087.815,
          945.8,
          1061.8,
          1016.43,
          1013.685,
          1001.76,
          1131.205,
          1061.8,
          1088.73,
          993.19,
          1039.69,
          1210.965,
          1025.135,
          1036.74,
          1101.895,
          1122.12,
          1089.74,
          1110.9,
          1014.31,
          950.61,
          1085.22,
          1039.42,
          1087.815,
          990.07,
          1094.56,
          1103.3200000000002,
          997.675,
          1026.585,
          987.855,
          1227.645,
          1035.29,
          1038.2150000000001,
          1086.9,
          1086.06,
          990.07,
          1010.94,
          1103.395,
          1012.19,
          987,
          986.12,
          1078.03,
          1012.19,
          1070.96,
          1001.76,
          1024.4650000000001,
          1084.305,
          1088.73,
          1086.9,
          1130.86,
          948.2049999999999,
          1105.875,
          993.19,
          1016.43,
          1137.815,
          1012.19,
          1011.565,
          986.12,
          989.83,
          1249.02,
          991.83,
          1088.73,
          1119.2150000000001,
          1113.38,
          1119.52,
          1088.73,
          1012.19,
          1189.35,
          1050.745,
          991.6300000000001,
          1013.685,
          1035.29,
          1033.84,
          989.59,
          1090.58,
          990.07,
          941.85,
          1153.13,
          1038.2150000000001,
          1088.6550000000002,
          1243.51,
          1014.31,
          1012.19,
          945.68,
          1006.35,
          1039.42,
          1081.71,
          1016.43,
          1067.57,
          975.1700000000001,
          1025.135,
          1023.015,
          1040.87,
          1167.185,
          1103.395,
          934.24,
          1039.69,
          1124.76,
          1117.4,
          1009.095,
          1081.71,
          990.07,
          1108.42,
          1087.815,
          1042.345,
          1001.76,
          997.675,
          1215.045,
          1114.6350000000002,
          1263.2649999999999,
          1038.2150000000001,
          1094.56,
          989.59,
          1011.565,
          951.3299999999999,
          1120.5149999999999,
          1014.31,
          1011.565,
          1089.5700000000002,
          1132.41,
          1000.5050000000001,
          1087.815,
          1086.06,
          1120.82,
          948.495,
          1040.87,
          991.3900000000001,
          1035.29,
          1107.13,
          1085.22,
          1039.69,
          1099.585,
          1002.065,
          993.59,
          883.185,
          988.2950000000001,
          1196.275,
          945.68,
          1036.7649999999999,
          1094.3899999999999,
          907,
          1038.2150000000001,
          1025.94,
          1053.4,
          989.83,
          1103.395,
          1074.6399999999999,
          1090.58,
          1078.03,
          1053.63,
          1035.29,
          1036.74,
          1001.76,
          1076.105,
          893.03,
          1102.065,
          1053.4,
          1153.13,
          1026.585,
          1100.14,
          903.99,
          961.87,
          1042.345,
          1039.69,
          1039.69,
          1024.4650000000001,
          1012.19,
          1101.895,
          1067.57,
          952.95,
          1006.35,
          1131.205,
          964.22,
          1070.96,
          1314.4,
          1122.12,
          990.07,
          1160.63,
          983.99,
          1039.69,
          988.5350000000001,
          1081.71,
          925.47,
          986.56,
          987.855,
          1126.06,
          1039.69,
          1126.06,
          993.3900000000001,
          1108.42,
          1113.38,
          952.05,
          1122.12,
          1090.41,
          1137.815,
          1013.685,
          997.675,
          1006.35,
          1118.91,
          984.4300000000001,
          1127.2649999999999,
          946.38,
          1042.345,
          991.6300000000001,
          981.86,
          1081.71,
          1118.91,
          995.915,
          993.59,
          1087.815,
          1084.305,
          991.6300000000001,
          993.19,
          1119.2150000000001,
          1011.565,
          1006.35,
          1080.625,
          950.61,
          1108.42,
          1088.73,
          986.12,
          926.835,
          1010.94,
          950.61,
          990.07,
          1116.145,
          993.59,
          1064.685,
          1060.7,
          959.52,
          1010.94,
          1086.06,
          1074.6399999999999,
          991.6300000000001,
          1010.94,
          1117.4,
          1010.94,
          1119.2150000000001,
          1039.69,
          1130,
          1113.38,
          1011.565,
          945.68,
          1090.58,
          1084.305,
          945.8,
          946.38,
          1036.7649999999999,
          984.4300000000001,
          945.8,
          993.19,
          1090.58,
          1050.745,
          1122.12,
          951.3299999999999,
          964.22,
          973.04,
          1098.37,
          975.1700000000001,
          1059.675,
          1038.2150000000001,
          1132.41,
          1025.135,
          1122.12,
          1090.75,
          1090.58,
          990.07,
          993.59,
          1001.76,
          1108.42,
          1038.2150000000001,
          1090.58,
          1153.13,
          1040.87,
          948.495,
          1103.395,
          1012.19,
          1001.76,
          970.69,
          1064.685,
          973.04,
          1103.395,
          1025.135,
          986.12,
          1110.9,
          987,
          1012.19,
          991.3900000000001,
          1088.73,
          959.52,
          1089.74,
          1209.08,
          1038.2150000000001,
          1025.135,
          1208.12,
          1067.57,
          993.3900000000001,
          1012.19,
          919.105,
          955.065,
          1013.685,
          1090.75,
          1070.96,
          1126.06,
          1001.76,
          997.675,
          1036.7649999999999,
          1002.8900000000001,
          1036.7649999999999,
          1011.565,
          1078.03,
          989.83,
          1081.71,
          1012.19,
          1081.54,
          1056.2849999999999,
          1094.56,
          1146.52,
          1142.615,
          1011.565,
          1025.135,
          991.6300000000001,
          991.3900000000001,
          989.83,
          1014.31,
          1130,
          1036.7649999999999,
          1089.74,
          1090.41,
          1039.69,
          1118.91,
          1036.74,
          1002.69,
          1061.8,
          1114.6350000000002,
          1001.76,
          1028.06,
          1045,
          1067.57,
          1089.5700000000002,
          993.19,
          991.6300000000001,
          1114.6350000000002,
          945.97,
          987,
          1025.94,
          1081.71,
          1120.5149999999999,
          1011.565,
          995.675,
          1117.705,
          1001.1300000000001,
          1103.395,
          1038.2150000000001,
          1042.345,
          1001.76,
          1023.015,
          1124.76,
          1119.005,
          1012.19,
          1105.875,
          1009.095,
          993.59,
          952.05,
          1094.56,
          1116.145,
          993.3900000000001,
          1090.58,
          1033.84,
          1012.19,
          1039.69,
          1116.145,
          1110.9,
          1098.37,
          951.3299999999999,
          1103.395,
          1090.41,
          1084.305,
          1098.37,
          951.3299999999999,
          1122.12,
          1064.685,
          973.04,
          1321.7,
          1084.305,
          959.52,
          1086.9,
          984.4300000000001,
          1074.35,
          997.475,
          1053.63,
          1038.2150000000001,
          1089.5700000000002,
          1086.9,
          1130,
          991.6300000000001,
          1203.81,
          984.4300000000001,
          1090.75,
          1033.84,
          1089.5700000000002,
          1014.31,
          1113.97,
          1122.12,
          1090.58,
          1001.76,
          1014.31,
          981.86,
          983.99,
          1081.71,
          973.04,
          961.87,
          1038.2150000000001,
          964.22,
          993.3900000000001,
          1036.74,
          1036.74,
          948.495,
          1039.69,
          1011.565,
          1006.35,
          1061.8,
          1108.42,
          1089.5700000000002,
          988.2950000000001,
          1070.96,
          959.52,
          904.995,
          943.825,
          946.38,
          1108.42,
          1117.705,
          983.99,
          964.22,
          928.2,
          1086.9,
          1074.35,
          1053.4,
          1089.5700000000002,
          1077.2350000000001,
          1010.94,
          1064.685,
          987.855,
          1127.2649999999999,
          985.965,
          1012.19,
          1103.395,
          1084.305,
          1035.29,
          1025.135,
          1130,
          1142.615,
          1089.5700000000002,
          1090.41,
          1210.965,
          1081.71,
          981.86,
          961.87,
          946.38,
          1090.58,
          990.07,
          903.99,
          1061.8,
          973.04,
          993.59,
          1082.55,
          1056.2849999999999,
          1016.43,
          1103.395,
          1064.685,
          1026.585,
          1040.87,
          961.87,
          945.56,
          959.52,
          1016.43,
          1117.4,
          1122.12,
          1229.01,
          987,
          1113.38,
          1189.96,
          948.495,
          1070.96,
          1110.9,
          1025.135,
          1010.94,
          1119.52,
          1089.74,
          1009.095,
          1039.69,
          993.59,
          1001.76,
          1053.4,
          1117.4,
          1098.37,
          1006.35,
          1086.06,
          964.22,
          989.59,
          1061.8,
          1093.55,
          991.83,
          1113.665,
          1039.69,
          1084.305,
          1068.0749999999998,
          941.065,
          1117.4,
          1119.005,
          993.19,
          988.095,
          986.56,
          1103.3200000000002,
          995.915,
          1087.815,
          1108.42,
          1014.31,
          1256.2649999999999,
          1006.975,
          1120.5149999999999,
          1113.38,
          1012.19,
          1042.345,
          959.52,
          1145.63,
          1093.55,
          1010.94,
          903.99,
          961.87,
          1010.94,
          1002.2650000000001,
          1206.445,
          1116.145,
          1125.66,
          986.12,
          1118.91,
          899.565,
          1026.585,
          1086.9,
          1090.75,
          1064.685,
          945.68,
          1011.565,
          1016.43,
          1113.38,
          1023.015,
          901.5,
          1025.135,
          941.065,
          1006.35,
          1090.58,
          945.68,
          1132.41,
          986.56,
          1084.305,
          901.995,
          1080.625,
          1042.345,
          1067.57,
          1014.31,
          1036.7649999999999,
          1085.22,
          1053.4,
          1070.96,
          987,
          961.87,
          1045,
          1064.685,
          1113.38,
          993.59,
          1011.565,
          1049.27,
          988.2950000000001,
          950.61,
          948.2049999999999,
          1011.565,
          1094.56,
          1045,
          1035.29,
          1103.395,
          1098.37,
          1016.43,
          943.04,
          966.9549999999999,
          948.495,
          959.52,
          1078.03,
          1089.5700000000002,
          1053.4,
          1074.35,
          1002.2650000000001,
          1086.9,
          975.61,
          1047.82,
          1089.5700000000002,
          943.7049999999999,
          1084.305,
          1047.82,
          1085.22,
          1061.8,
          917.74,
          1039.69,
          1174.685,
          1064.685,
          1030.715,
          1068.0749999999998,
          1082.55,
          987,
          1039.69,
          1033.84,
          1023.015,
          1084.305,
          997.675,
          1164.17,
          940.28,
          1014.31,
          1042.345,
          1078.03,
          1011.565,
          993.59,
          987,
          1064.685,
          986.12,
          1099.585,
          1117.4,
          1006.975,
          1132.41,
          1038.2150000000001,
          1016.43,
          1010.94,
          1006.35,
          955.785,
          993.59,
          917.74,
          1098.37,
          991.6300000000001,
          997.675,
          991.83,
          1006.975,
          1014.31,
          986.12,
          1064.685,
          981.86,
          1012.19,
          1094.56,
          957.415,
          993.19,
          983.99,
          945.97,
          1035.29,
          1006.35,
          1011.565,
          1050.745,
          997.675,
          951.3299999999999,
          1089.5700000000002,
          1061.8,
          993.19,
          1025.135,
          988.5350000000001,
          1120.5149999999999,
          1006.35,
          1114.6350000000002,
          1203.81,
          1071.755,
          899.275,
          991.83,
          946.38,
          1235.07,
          1025.135,
          1090.41,
          1115.89,
          926.835,
          952.05,
          1235.07,
          1000.2650000000001,
          1087.815,
          1001.76,
          1001.76,
          1119.005,
          1136.005,
          1119.52,
          1090.75,
          1115.89,
          1039.69,
          991.3900000000001,
          987.855,
          961.87,
          1136.005,
          1035.29,
          1103.3200000000002,
          991.83,
          1070.96,
          1011.565,
          1131.205,
          990.07,
          1108.42,
          1064.685,
          987,
          1006.35,
          1016.43,
          1209.08,
          991.6300000000001,
          1081.71,
          989.59,
          1081.71,
          983.99,
          1125.66,
          1107.13,
          942.92,
          1088.825,
          1212.85,
          955.785,
          1011.565,
          1067.57,
          993.3900000000001,
          1061.8,
          1042.345,
          1150.115,
          987,
          1025.135,
          1002.2650000000001,
          1089.5700000000002,
          1045,
          1153.13,
          1080.625,
          993.3900000000001,
          1006.35,
          1116.145,
          946.38,
          1160.63,
          940.28,
          986.56,
          1067.57,
          1196.275,
          1086.9,
          1089.5700000000002,
          997.475,
          892.06,
          1081.71,
          986.56,
          1081.54,
          940.28,
          1014.31,
          1085.22,
          955.785,
          1012.19,
          1061.8,
          1039.69,
          1061.8,
          966.9549999999999,
          1203.81,
          1012.19,
          991.6300000000001,
          1089.74,
          1188.74,
          1090.41,
          1065.95,
          881.7950000000001,
          1115.89,
          1039.69,
          986.56,
          948.495,
          955.785,
          961.87,
          958.135,
          1103.395,
          1067.57,
          1080.625,
          1064.685,
          1033.84,
          1036.74,
          1026.585,
          1120.82,
          1014.31,
          1035.29,
          1124.76,
          1009.095,
          1070.96,
          987,
          961.87,
          964.22,
          983.99,
          1105.875,
          1061.8,
          1038.2150000000001,
          1103.395,
          1093.55,
          1053.63,
          993.3900000000001,
          993.19,
          1011.565,
          985.965,
          1016.43,
          1108.42,
          1094.56,
          952.05,
          1090.75,
          1006.35,
          1042.345,
          1071.755,
          989.83,
          1124.76,
          989.83,
          1023.015,
          1130,
          1010.94,
          988.2950000000001,
          1067.57,
          1117.705,
          950.61,
          1139.02,
          1033.84,
          1113.38,
          1132.41,
          1023.015,
          1067.57,
          1061.8,
          1201.405,
          1078.03,
          1120.5149999999999,
          1085.22,
          989.83,
          1086.9,
          1088.6550000000002,
          1059.675,
          1088.73,
          1001.76,
          1010.94,
          1001.76,
          1115.89,
          989.59,
          1012.19,
          1045,
          983.99,
          1081.71,
          988.2950000000001,
          1070.96,
          1045,
          1067.57,
          1119.52,
          948.495,
          1108.42,
          1087.815,
          1053.4,
          1013.685,
          1164.78,
          1263.51,
          986.12,
          985.725,
          1090.41,
          1025.135,
          989.59,
          981.86,
          1103.395,
          926.835,
          1033.84,
          1108.42,
          1068.0749999999998,
          1001.76,
          1025.135,
          983.99,
          1090.58,
          1114.6350000000002,
          1120.82,
          1014.31,
          1068.0749999999998,
          945.8,
          955.785,
          1067.57,
          1036.74,
          1011.565,
          991.6300000000001,
          991.3900000000001,
          1006.975,
          1094.56,
          1016.43,
          1110.9,
          1067.57,
          1067.57,
          1090.41,
          1039.69,
          990.07,
          987.5250000000001,
          1116.145,
          1136.005,
          1088.73,
          1039.69,
          1028.06,
          1089.5700000000002,
          1014.31,
          1067.57,
          1142.615,
          952.05,
          1088.73,
          1038.2150000000001,
          1001.76,
          1089.5700000000002,
          1070.96,
          1110.9,
          948.495,
          987,
          1025.135,
          1090.58,
          989.83,
          1064.685,
          1035.29,
          1093.55,
          1186.74
         ],
         "xaxis": "x",
         "yaxis": "y"
        }
       ],
       "layout": {
        "barmode": "relative",
        "legend": {
         "tracegroupgap": 0
        },
        "margin": {
         "t": 60
        },
        "template": {
         "data": {
          "bar": [
           {
            "error_x": {
             "color": "#2a3f5f"
            },
            "error_y": {
             "color": "#2a3f5f"
            },
            "marker": {
             "line": {
              "color": "#E5ECF6",
              "width": 0.5
             },
             "pattern": {
              "fillmode": "overlay",
              "size": 10,
              "solidity": 0.2
             }
            },
            "type": "bar"
           }
          ],
          "barpolar": [
           {
            "marker": {
             "line": {
              "color": "#E5ECF6",
              "width": 0.5
             },
             "pattern": {
              "fillmode": "overlay",
              "size": 10,
              "solidity": 0.2
             }
            },
            "type": "barpolar"
           }
          ],
          "carpet": [
           {
            "aaxis": {
             "endlinecolor": "#2a3f5f",
             "gridcolor": "white",
             "linecolor": "white",
             "minorgridcolor": "white",
             "startlinecolor": "#2a3f5f"
            },
            "baxis": {
             "endlinecolor": "#2a3f5f",
             "gridcolor": "white",
             "linecolor": "white",
             "minorgridcolor": "white",
             "startlinecolor": "#2a3f5f"
            },
            "type": "carpet"
           }
          ],
          "choropleth": [
           {
            "colorbar": {
             "outlinewidth": 0,
             "ticks": ""
            },
            "type": "choropleth"
           }
          ],
          "contour": [
           {
            "colorbar": {
             "outlinewidth": 0,
             "ticks": ""
            },
            "colorscale": [
             [
              0,
              "#0d0887"
             ],
             [
              0.1111111111111111,
              "#46039f"
             ],
             [
              0.2222222222222222,
              "#7201a8"
             ],
             [
              0.3333333333333333,
              "#9c179e"
             ],
             [
              0.4444444444444444,
              "#bd3786"
             ],
             [
              0.5555555555555556,
              "#d8576b"
             ],
             [
              0.6666666666666666,
              "#ed7953"
             ],
             [
              0.7777777777777778,
              "#fb9f3a"
             ],
             [
              0.8888888888888888,
              "#fdca26"
             ],
             [
              1,
              "#f0f921"
             ]
            ],
            "type": "contour"
           }
          ],
          "contourcarpet": [
           {
            "colorbar": {
             "outlinewidth": 0,
             "ticks": ""
            },
            "type": "contourcarpet"
           }
          ],
          "heatmap": [
           {
            "colorbar": {
             "outlinewidth": 0,
             "ticks": ""
            },
            "colorscale": [
             [
              0,
              "#0d0887"
             ],
             [
              0.1111111111111111,
              "#46039f"
             ],
             [
              0.2222222222222222,
              "#7201a8"
             ],
             [
              0.3333333333333333,
              "#9c179e"
             ],
             [
              0.4444444444444444,
              "#bd3786"
             ],
             [
              0.5555555555555556,
              "#d8576b"
             ],
             [
              0.6666666666666666,
              "#ed7953"
             ],
             [
              0.7777777777777778,
              "#fb9f3a"
             ],
             [
              0.8888888888888888,
              "#fdca26"
             ],
             [
              1,
              "#f0f921"
             ]
            ],
            "type": "heatmap"
           }
          ],
          "heatmapgl": [
           {
            "colorbar": {
             "outlinewidth": 0,
             "ticks": ""
            },
            "colorscale": [
             [
              0,
              "#0d0887"
             ],
             [
              0.1111111111111111,
              "#46039f"
             ],
             [
              0.2222222222222222,
              "#7201a8"
             ],
             [
              0.3333333333333333,
              "#9c179e"
             ],
             [
              0.4444444444444444,
              "#bd3786"
             ],
             [
              0.5555555555555556,
              "#d8576b"
             ],
             [
              0.6666666666666666,
              "#ed7953"
             ],
             [
              0.7777777777777778,
              "#fb9f3a"
             ],
             [
              0.8888888888888888,
              "#fdca26"
             ],
             [
              1,
              "#f0f921"
             ]
            ],
            "type": "heatmapgl"
           }
          ],
          "histogram": [
           {
            "marker": {
             "pattern": {
              "fillmode": "overlay",
              "size": 10,
              "solidity": 0.2
             }
            },
            "type": "histogram"
           }
          ],
          "histogram2d": [
           {
            "colorbar": {
             "outlinewidth": 0,
             "ticks": ""
            },
            "colorscale": [
             [
              0,
              "#0d0887"
             ],
             [
              0.1111111111111111,
              "#46039f"
             ],
             [
              0.2222222222222222,
              "#7201a8"
             ],
             [
              0.3333333333333333,
              "#9c179e"
             ],
             [
              0.4444444444444444,
              "#bd3786"
             ],
             [
              0.5555555555555556,
              "#d8576b"
             ],
             [
              0.6666666666666666,
              "#ed7953"
             ],
             [
              0.7777777777777778,
              "#fb9f3a"
             ],
             [
              0.8888888888888888,
              "#fdca26"
             ],
             [
              1,
              "#f0f921"
             ]
            ],
            "type": "histogram2d"
           }
          ],
          "histogram2dcontour": [
           {
            "colorbar": {
             "outlinewidth": 0,
             "ticks": ""
            },
            "colorscale": [
             [
              0,
              "#0d0887"
             ],
             [
              0.1111111111111111,
              "#46039f"
             ],
             [
              0.2222222222222222,
              "#7201a8"
             ],
             [
              0.3333333333333333,
              "#9c179e"
             ],
             [
              0.4444444444444444,
              "#bd3786"
             ],
             [
              0.5555555555555556,
              "#d8576b"
             ],
             [
              0.6666666666666666,
              "#ed7953"
             ],
             [
              0.7777777777777778,
              "#fb9f3a"
             ],
             [
              0.8888888888888888,
              "#fdca26"
             ],
             [
              1,
              "#f0f921"
             ]
            ],
            "type": "histogram2dcontour"
           }
          ],
          "mesh3d": [
           {
            "colorbar": {
             "outlinewidth": 0,
             "ticks": ""
            },
            "type": "mesh3d"
           }
          ],
          "parcoords": [
           {
            "line": {
             "colorbar": {
              "outlinewidth": 0,
              "ticks": ""
             }
            },
            "type": "parcoords"
           }
          ],
          "pie": [
           {
            "automargin": true,
            "type": "pie"
           }
          ],
          "scatter": [
           {
            "fillpattern": {
             "fillmode": "overlay",
             "size": 10,
             "solidity": 0.2
            },
            "type": "scatter"
           }
          ],
          "scatter3d": [
           {
            "line": {
             "colorbar": {
              "outlinewidth": 0,
              "ticks": ""
             }
            },
            "marker": {
             "colorbar": {
              "outlinewidth": 0,
              "ticks": ""
             }
            },
            "type": "scatter3d"
           }
          ],
          "scattercarpet": [
           {
            "marker": {
             "colorbar": {
              "outlinewidth": 0,
              "ticks": ""
             }
            },
            "type": "scattercarpet"
           }
          ],
          "scattergeo": [
           {
            "marker": {
             "colorbar": {
              "outlinewidth": 0,
              "ticks": ""
             }
            },
            "type": "scattergeo"
           }
          ],
          "scattergl": [
           {
            "marker": {
             "colorbar": {
              "outlinewidth": 0,
              "ticks": ""
             }
            },
            "type": "scattergl"
           }
          ],
          "scattermapbox": [
           {
            "marker": {
             "colorbar": {
              "outlinewidth": 0,
              "ticks": ""
             }
            },
            "type": "scattermapbox"
           }
          ],
          "scatterpolar": [
           {
            "marker": {
             "colorbar": {
              "outlinewidth": 0,
              "ticks": ""
             }
            },
            "type": "scatterpolar"
           }
          ],
          "scatterpolargl": [
           {
            "marker": {
             "colorbar": {
              "outlinewidth": 0,
              "ticks": ""
             }
            },
            "type": "scatterpolargl"
           }
          ],
          "scatterternary": [
           {
            "marker": {
             "colorbar": {
              "outlinewidth": 0,
              "ticks": ""
             }
            },
            "type": "scatterternary"
           }
          ],
          "surface": [
           {
            "colorbar": {
             "outlinewidth": 0,
             "ticks": ""
            },
            "colorscale": [
             [
              0,
              "#0d0887"
             ],
             [
              0.1111111111111111,
              "#46039f"
             ],
             [
              0.2222222222222222,
              "#7201a8"
             ],
             [
              0.3333333333333333,
              "#9c179e"
             ],
             [
              0.4444444444444444,
              "#bd3786"
             ],
             [
              0.5555555555555556,
              "#d8576b"
             ],
             [
              0.6666666666666666,
              "#ed7953"
             ],
             [
              0.7777777777777778,
              "#fb9f3a"
             ],
             [
              0.8888888888888888,
              "#fdca26"
             ],
             [
              1,
              "#f0f921"
             ]
            ],
            "type": "surface"
           }
          ],
          "table": [
           {
            "cells": {
             "fill": {
              "color": "#EBF0F8"
             },
             "line": {
              "color": "white"
             }
            },
            "header": {
             "fill": {
              "color": "#C8D4E3"
             },
             "line": {
              "color": "white"
             }
            },
            "type": "table"
           }
          ]
         },
         "layout": {
          "annotationdefaults": {
           "arrowcolor": "#2a3f5f",
           "arrowhead": 0,
           "arrowwidth": 1
          },
          "autotypenumbers": "strict",
          "coloraxis": {
           "colorbar": {
            "outlinewidth": 0,
            "ticks": ""
           }
          },
          "colorscale": {
           "diverging": [
            [
             0,
             "#8e0152"
            ],
            [
             0.1,
             "#c51b7d"
            ],
            [
             0.2,
             "#de77ae"
            ],
            [
             0.3,
             "#f1b6da"
            ],
            [
             0.4,
             "#fde0ef"
            ],
            [
             0.5,
             "#f7f7f7"
            ],
            [
             0.6,
             "#e6f5d0"
            ],
            [
             0.7,
             "#b8e186"
            ],
            [
             0.8,
             "#7fbc41"
            ],
            [
             0.9,
             "#4d9221"
            ],
            [
             1,
             "#276419"
            ]
           ],
           "sequential": [
            [
             0,
             "#0d0887"
            ],
            [
             0.1111111111111111,
             "#46039f"
            ],
            [
             0.2222222222222222,
             "#7201a8"
            ],
            [
             0.3333333333333333,
             "#9c179e"
            ],
            [
             0.4444444444444444,
             "#bd3786"
            ],
            [
             0.5555555555555556,
             "#d8576b"
            ],
            [
             0.6666666666666666,
             "#ed7953"
            ],
            [
             0.7777777777777778,
             "#fb9f3a"
            ],
            [
             0.8888888888888888,
             "#fdca26"
            ],
            [
             1,
             "#f0f921"
            ]
           ],
           "sequentialminus": [
            [
             0,
             "#0d0887"
            ],
            [
             0.1111111111111111,
             "#46039f"
            ],
            [
             0.2222222222222222,
             "#7201a8"
            ],
            [
             0.3333333333333333,
             "#9c179e"
            ],
            [
             0.4444444444444444,
             "#bd3786"
            ],
            [
             0.5555555555555556,
             "#d8576b"
            ],
            [
             0.6666666666666666,
             "#ed7953"
            ],
            [
             0.7777777777777778,
             "#fb9f3a"
            ],
            [
             0.8888888888888888,
             "#fdca26"
            ],
            [
             1,
             "#f0f921"
            ]
           ]
          },
          "colorway": [
           "#636efa",
           "#EF553B",
           "#00cc96",
           "#ab63fa",
           "#FFA15A",
           "#19d3f3",
           "#FF6692",
           "#B6E880",
           "#FF97FF",
           "#FECB52"
          ],
          "font": {
           "color": "#2a3f5f"
          },
          "geo": {
           "bgcolor": "white",
           "lakecolor": "white",
           "landcolor": "#E5ECF6",
           "showlakes": true,
           "showland": true,
           "subunitcolor": "white"
          },
          "hoverlabel": {
           "align": "left"
          },
          "hovermode": "closest",
          "mapbox": {
           "style": "light"
          },
          "paper_bgcolor": "white",
          "plot_bgcolor": "#E5ECF6",
          "polar": {
           "angularaxis": {
            "gridcolor": "white",
            "linecolor": "white",
            "ticks": ""
           },
           "bgcolor": "#E5ECF6",
           "radialaxis": {
            "gridcolor": "white",
            "linecolor": "white",
            "ticks": ""
           }
          },
          "scene": {
           "xaxis": {
            "backgroundcolor": "#E5ECF6",
            "gridcolor": "white",
            "gridwidth": 2,
            "linecolor": "white",
            "showbackground": true,
            "ticks": "",
            "zerolinecolor": "white"
           },
           "yaxis": {
            "backgroundcolor": "#E5ECF6",
            "gridcolor": "white",
            "gridwidth": 2,
            "linecolor": "white",
            "showbackground": true,
            "ticks": "",
            "zerolinecolor": "white"
           },
           "zaxis": {
            "backgroundcolor": "#E5ECF6",
            "gridcolor": "white",
            "gridwidth": 2,
            "linecolor": "white",
            "showbackground": true,
            "ticks": "",
            "zerolinecolor": "white"
           }
          },
          "shapedefaults": {
           "line": {
            "color": "#2a3f5f"
           }
          },
          "ternary": {
           "aaxis": {
            "gridcolor": "white",
            "linecolor": "white",
            "ticks": ""
           },
           "baxis": {
            "gridcolor": "white",
            "linecolor": "white",
            "ticks": ""
           },
           "bgcolor": "#E5ECF6",
           "caxis": {
            "gridcolor": "white",
            "linecolor": "white",
            "ticks": ""
           }
          },
          "title": {
           "x": 0.05
          },
          "xaxis": {
           "automargin": true,
           "gridcolor": "white",
           "linecolor": "white",
           "ticks": "",
           "title": {
            "standoff": 15
           },
           "zerolinecolor": "white",
           "zerolinewidth": 2
          },
          "yaxis": {
           "automargin": true,
           "gridcolor": "white",
           "linecolor": "white",
           "ticks": "",
           "title": {
            "standoff": 15
           },
           "zerolinecolor": "white",
           "zerolinewidth": 2
          }
         }
        },
        "xaxis": {
         "anchor": "y",
         "domain": [
          0,
          1
         ],
         "title": {
          "text": "Bootstrapped Medians"
         }
        },
        "yaxis": {
         "anchor": "x",
         "domain": [
          0,
          1
         ],
         "title": {
          "text": "probability density"
         }
        }
       }
      },
      "text/html": [
       "<div>                            <div id=\"98497f90-9cdc-490b-a710-922e66423f9d\" class=\"plotly-graph-div\" style=\"height:525px; width:100%;\"></div>            <script type=\"text/javascript\">                require([\"plotly\"], function(Plotly) {                    window.PLOTLYENV=window.PLOTLYENV || {};                                    if (document.getElementById(\"98497f90-9cdc-490b-a710-922e66423f9d\")) {                    Plotly.newPlot(                        \"98497f90-9cdc-490b-a710-922e66423f9d\",                        [{\"alignmentgroup\":\"True\",\"bingroup\":\"x\",\"histnorm\":\"probability density\",\"hovertemplate\":\"Bootstrapped Medians=%{x}\\u003cbr\\u003eprobability density=%{y}\\u003cextra\\u003e\\u003c\\u002fextra\\u003e\",\"legendgroup\":\"\",\"marker\":{\"color\":\"#636efa\",\"pattern\":{\"shape\":\"\"}},\"name\":\"\",\"nbinsx\":12,\"offsetgroup\":\"\",\"orientation\":\"v\",\"showlegend\":false,\"x\":[1045.0,961.87,1081.71,993.19,1067.57,993.3900000000001,1039.69,1074.35,1042.345,1103.395,1116.145,989.83,1038.2150000000001,1136.005,981.86,983.99,983.99,1074.35,941.065,1132.41,1074.35,1103.3200000000002,1061.8,1045.0,943.7049999999999,1189.96,1115.89,970.69,1093.55,940.28,988.5350000000001,1087.815,1078.03,1116.145,997.475,1040.87,1086.9,1122.12,1006.975,991.6300000000001,993.59,1127.2649999999999,981.86,1090.41,1089.5700000000002,1050.745,1124.76,1006.975,1080.625,1038.2150000000001,1038.2150000000001,1199.52,1023.015,1039.69,1040.87,1053.4,1011.565,1094.3899999999999,987.855,1080.625,1050.745,991.6300000000001,1038.2150000000001,1013.7149999999999,1053.4,1056.2849999999999,1090.75,1010.94,1074.35,973.04,964.22,1117.4,1045.0,1119.52,1078.03,1086.06,961.87,1116.145,1042.345,966.235,1011.565,1061.8,991.6300000000001,1136.005,981.86,1016.43,989.83,964.22,991.83,983.99,989.83,1087.815,945.8,1061.8,1016.43,1013.685,1001.76,1131.205,1061.8,1088.73,993.19,1039.69,1210.965,1025.135,1036.74,1101.895,1122.12,1089.74,1110.9,1014.31,950.61,1085.22,1039.42,1087.815,990.07,1094.56,1103.3200000000002,997.675,1026.585,987.855,1227.645,1035.29,1038.2150000000001,1086.9,1086.06,990.07,1010.94,1103.395,1012.19,987.0,986.12,1078.03,1012.19,1070.96,1001.76,1024.4650000000001,1084.305,1088.73,1086.9,1130.86,948.2049999999999,1105.875,993.19,1016.43,1137.815,1012.19,1011.565,986.12,989.83,1249.02,991.83,1088.73,1119.2150000000001,1113.38,1119.52,1088.73,1012.19,1189.35,1050.745,991.6300000000001,1013.685,1035.29,1033.84,989.59,1090.58,990.07,941.85,1153.13,1038.2150000000001,1088.6550000000002,1243.51,1014.31,1012.19,945.68,1006.35,1039.42,1081.71,1016.43,1067.57,975.1700000000001,1025.135,1023.015,1040.87,1167.185,1103.395,934.24,1039.69,1124.76,1117.4,1009.095,1081.71,990.07,1108.42,1087.815,1042.345,1001.76,997.675,1215.045,1114.6350000000002,1263.2649999999999,1038.2150000000001,1094.56,989.59,1011.565,951.3299999999999,1120.5149999999999,1014.31,1011.565,1089.5700000000002,1132.41,1000.5050000000001,1087.815,1086.06,1120.82,948.495,1040.87,991.3900000000001,1035.29,1107.13,1085.22,1039.69,1099.585,1002.065,993.59,883.185,988.2950000000001,1196.275,945.68,1036.7649999999999,1094.3899999999999,907.0,1038.2150000000001,1025.94,1053.4,989.83,1103.395,1074.6399999999999,1090.58,1078.03,1053.63,1035.29,1036.74,1001.76,1076.105,893.03,1102.065,1053.4,1153.13,1026.585,1100.14,903.99,961.87,1042.345,1039.69,1039.69,1024.4650000000001,1012.19,1101.895,1067.57,952.95,1006.35,1131.205,964.22,1070.96,1314.4,1122.12,990.07,1160.63,983.99,1039.69,988.5350000000001,1081.71,925.47,986.56,987.855,1126.06,1039.69,1126.06,993.3900000000001,1108.42,1113.38,952.05,1122.12,1090.41,1137.815,1013.685,997.675,1006.35,1118.91,984.4300000000001,1127.2649999999999,946.38,1042.345,991.6300000000001,981.86,1081.71,1118.91,995.915,993.59,1087.815,1084.305,991.6300000000001,993.19,1119.2150000000001,1011.565,1006.35,1080.625,950.61,1108.42,1088.73,986.12,926.835,1010.94,950.61,990.07,1116.145,993.59,1064.685,1060.7,959.52,1010.94,1086.06,1074.6399999999999,991.6300000000001,1010.94,1117.4,1010.94,1119.2150000000001,1039.69,1130.0,1113.38,1011.565,945.68,1090.58,1084.305,945.8,946.38,1036.7649999999999,984.4300000000001,945.8,993.19,1090.58,1050.745,1122.12,951.3299999999999,964.22,973.04,1098.37,975.1700000000001,1059.675,1038.2150000000001,1132.41,1025.135,1122.12,1090.75,1090.58,990.07,993.59,1001.76,1108.42,1038.2150000000001,1090.58,1153.13,1040.87,948.495,1103.395,1012.19,1001.76,970.69,1064.685,973.04,1103.395,1025.135,986.12,1110.9,987.0,1012.19,991.3900000000001,1088.73,959.52,1089.74,1209.08,1038.2150000000001,1025.135,1208.12,1067.57,993.3900000000001,1012.19,919.105,955.065,1013.685,1090.75,1070.96,1126.06,1001.76,997.675,1036.7649999999999,1002.8900000000001,1036.7649999999999,1011.565,1078.03,989.83,1081.71,1012.19,1081.54,1056.2849999999999,1094.56,1146.52,1142.615,1011.565,1025.135,991.6300000000001,991.3900000000001,989.83,1014.31,1130.0,1036.7649999999999,1089.74,1090.41,1039.69,1118.91,1036.74,1002.69,1061.8,1114.6350000000002,1001.76,1028.06,1045.0,1067.57,1089.5700000000002,993.19,991.6300000000001,1114.6350000000002,945.97,987.0,1025.94,1081.71,1120.5149999999999,1011.565,995.675,1117.705,1001.1300000000001,1103.395,1038.2150000000001,1042.345,1001.76,1023.015,1124.76,1119.005,1012.19,1105.875,1009.095,993.59,952.05,1094.56,1116.145,993.3900000000001,1090.58,1033.84,1012.19,1039.69,1116.145,1110.9,1098.37,951.3299999999999,1103.395,1090.41,1084.305,1098.37,951.3299999999999,1122.12,1064.685,973.04,1321.7,1084.305,959.52,1086.9,984.4300000000001,1074.35,997.475,1053.63,1038.2150000000001,1089.5700000000002,1086.9,1130.0,991.6300000000001,1203.81,984.4300000000001,1090.75,1033.84,1089.5700000000002,1014.31,1113.97,1122.12,1090.58,1001.76,1014.31,981.86,983.99,1081.71,973.04,961.87,1038.2150000000001,964.22,993.3900000000001,1036.74,1036.74,948.495,1039.69,1011.565,1006.35,1061.8,1108.42,1089.5700000000002,988.2950000000001,1070.96,959.52,904.995,943.825,946.38,1108.42,1117.705,983.99,964.22,928.2,1086.9,1074.35,1053.4,1089.5700000000002,1077.2350000000001,1010.94,1064.685,987.855,1127.2649999999999,985.965,1012.19,1103.395,1084.305,1035.29,1025.135,1130.0,1142.615,1089.5700000000002,1090.41,1210.965,1081.71,981.86,961.87,946.38,1090.58,990.07,903.99,1061.8,973.04,993.59,1082.55,1056.2849999999999,1016.43,1103.395,1064.685,1026.585,1040.87,961.87,945.56,959.52,1016.43,1117.4,1122.12,1229.01,987.0,1113.38,1189.96,948.495,1070.96,1110.9,1025.135,1010.94,1119.52,1089.74,1009.095,1039.69,993.59,1001.76,1053.4,1117.4,1098.37,1006.35,1086.06,964.22,989.59,1061.8,1093.55,991.83,1113.665,1039.69,1084.305,1068.0749999999998,941.065,1117.4,1119.005,993.19,988.095,986.56,1103.3200000000002,995.915,1087.815,1108.42,1014.31,1256.2649999999999,1006.975,1120.5149999999999,1113.38,1012.19,1042.345,959.52,1145.63,1093.55,1010.94,903.99,961.87,1010.94,1002.2650000000001,1206.445,1116.145,1125.66,986.12,1118.91,899.565,1026.585,1086.9,1090.75,1064.685,945.68,1011.565,1016.43,1113.38,1023.015,901.5,1025.135,941.065,1006.35,1090.58,945.68,1132.41,986.56,1084.305,901.995,1080.625,1042.345,1067.57,1014.31,1036.7649999999999,1085.22,1053.4,1070.96,987.0,961.87,1045.0,1064.685,1113.38,993.59,1011.565,1049.27,988.2950000000001,950.61,948.2049999999999,1011.565,1094.56,1045.0,1035.29,1103.395,1098.37,1016.43,943.04,966.9549999999999,948.495,959.52,1078.03,1089.5700000000002,1053.4,1074.35,1002.2650000000001,1086.9,975.61,1047.82,1089.5700000000002,943.7049999999999,1084.305,1047.82,1085.22,1061.8,917.74,1039.69,1174.685,1064.685,1030.715,1068.0749999999998,1082.55,987.0,1039.69,1033.84,1023.015,1084.305,997.675,1164.17,940.28,1014.31,1042.345,1078.03,1011.565,993.59,987.0,1064.685,986.12,1099.585,1117.4,1006.975,1132.41,1038.2150000000001,1016.43,1010.94,1006.35,955.785,993.59,917.74,1098.37,991.6300000000001,997.675,991.83,1006.975,1014.31,986.12,1064.685,981.86,1012.19,1094.56,957.415,993.19,983.99,945.97,1035.29,1006.35,1011.565,1050.745,997.675,951.3299999999999,1089.5700000000002,1061.8,993.19,1025.135,988.5350000000001,1120.5149999999999,1006.35,1114.6350000000002,1203.81,1071.755,899.275,991.83,946.38,1235.07,1025.135,1090.41,1115.89,926.835,952.05,1235.07,1000.2650000000001,1087.815,1001.76,1001.76,1119.005,1136.005,1119.52,1090.75,1115.89,1039.69,991.3900000000001,987.855,961.87,1136.005,1035.29,1103.3200000000002,991.83,1070.96,1011.565,1131.205,990.07,1108.42,1064.685,987.0,1006.35,1016.43,1209.08,991.6300000000001,1081.71,989.59,1081.71,983.99,1125.66,1107.13,942.92,1088.825,1212.85,955.785,1011.565,1067.57,993.3900000000001,1061.8,1042.345,1150.115,987.0,1025.135,1002.2650000000001,1089.5700000000002,1045.0,1153.13,1080.625,993.3900000000001,1006.35,1116.145,946.38,1160.63,940.28,986.56,1067.57,1196.275,1086.9,1089.5700000000002,997.475,892.06,1081.71,986.56,1081.54,940.28,1014.31,1085.22,955.785,1012.19,1061.8,1039.69,1061.8,966.9549999999999,1203.81,1012.19,991.6300000000001,1089.74,1188.74,1090.41,1065.95,881.7950000000001,1115.89,1039.69,986.56,948.495,955.785,961.87,958.135,1103.395,1067.57,1080.625,1064.685,1033.84,1036.74,1026.585,1120.82,1014.31,1035.29,1124.76,1009.095,1070.96,987.0,961.87,964.22,983.99,1105.875,1061.8,1038.2150000000001,1103.395,1093.55,1053.63,993.3900000000001,993.19,1011.565,985.965,1016.43,1108.42,1094.56,952.05,1090.75,1006.35,1042.345,1071.755,989.83,1124.76,989.83,1023.015,1130.0,1010.94,988.2950000000001,1067.57,1117.705,950.61,1139.02,1033.84,1113.38,1132.41,1023.015,1067.57,1061.8,1201.405,1078.03,1120.5149999999999,1085.22,989.83,1086.9,1088.6550000000002,1059.675,1088.73,1001.76,1010.94,1001.76,1115.89,989.59,1012.19,1045.0,983.99,1081.71,988.2950000000001,1070.96,1045.0,1067.57,1119.52,948.495,1108.42,1087.815,1053.4,1013.685,1164.78,1263.51,986.12,985.725,1090.41,1025.135,989.59,981.86,1103.395,926.835,1033.84,1108.42,1068.0749999999998,1001.76,1025.135,983.99,1090.58,1114.6350000000002,1120.82,1014.31,1068.0749999999998,945.8,955.785,1067.57,1036.74,1011.565,991.6300000000001,991.3900000000001,1006.975,1094.56,1016.43,1110.9,1067.57,1067.57,1090.41,1039.69,990.07,987.5250000000001,1116.145,1136.005,1088.73,1039.69,1028.06,1089.5700000000002,1014.31,1067.57,1142.615,952.05,1088.73,1038.2150000000001,1001.76,1089.5700000000002,1070.96,1110.9,948.495,987.0,1025.135,1090.58,989.83,1064.685,1035.29,1093.55,1186.74],\"xaxis\":\"x\",\"yaxis\":\"y\",\"type\":\"histogram\"}],                        {\"template\":{\"data\":{\"histogram2dcontour\":[{\"type\":\"histogram2dcontour\",\"colorbar\":{\"outlinewidth\":0,\"ticks\":\"\"},\"colorscale\":[[0.0,\"#0d0887\"],[0.1111111111111111,\"#46039f\"],[0.2222222222222222,\"#7201a8\"],[0.3333333333333333,\"#9c179e\"],[0.4444444444444444,\"#bd3786\"],[0.5555555555555556,\"#d8576b\"],[0.6666666666666666,\"#ed7953\"],[0.7777777777777778,\"#fb9f3a\"],[0.8888888888888888,\"#fdca26\"],[1.0,\"#f0f921\"]]}],\"choropleth\":[{\"type\":\"choropleth\",\"colorbar\":{\"outlinewidth\":0,\"ticks\":\"\"}}],\"histogram2d\":[{\"type\":\"histogram2d\",\"colorbar\":{\"outlinewidth\":0,\"ticks\":\"\"},\"colorscale\":[[0.0,\"#0d0887\"],[0.1111111111111111,\"#46039f\"],[0.2222222222222222,\"#7201a8\"],[0.3333333333333333,\"#9c179e\"],[0.4444444444444444,\"#bd3786\"],[0.5555555555555556,\"#d8576b\"],[0.6666666666666666,\"#ed7953\"],[0.7777777777777778,\"#fb9f3a\"],[0.8888888888888888,\"#fdca26\"],[1.0,\"#f0f921\"]]}],\"heatmap\":[{\"type\":\"heatmap\",\"colorbar\":{\"outlinewidth\":0,\"ticks\":\"\"},\"colorscale\":[[0.0,\"#0d0887\"],[0.1111111111111111,\"#46039f\"],[0.2222222222222222,\"#7201a8\"],[0.3333333333333333,\"#9c179e\"],[0.4444444444444444,\"#bd3786\"],[0.5555555555555556,\"#d8576b\"],[0.6666666666666666,\"#ed7953\"],[0.7777777777777778,\"#fb9f3a\"],[0.8888888888888888,\"#fdca26\"],[1.0,\"#f0f921\"]]}],\"heatmapgl\":[{\"type\":\"heatmapgl\",\"colorbar\":{\"outlinewidth\":0,\"ticks\":\"\"},\"colorscale\":[[0.0,\"#0d0887\"],[0.1111111111111111,\"#46039f\"],[0.2222222222222222,\"#7201a8\"],[0.3333333333333333,\"#9c179e\"],[0.4444444444444444,\"#bd3786\"],[0.5555555555555556,\"#d8576b\"],[0.6666666666666666,\"#ed7953\"],[0.7777777777777778,\"#fb9f3a\"],[0.8888888888888888,\"#fdca26\"],[1.0,\"#f0f921\"]]}],\"contourcarpet\":[{\"type\":\"contourcarpet\",\"colorbar\":{\"outlinewidth\":0,\"ticks\":\"\"}}],\"contour\":[{\"type\":\"contour\",\"colorbar\":{\"outlinewidth\":0,\"ticks\":\"\"},\"colorscale\":[[0.0,\"#0d0887\"],[0.1111111111111111,\"#46039f\"],[0.2222222222222222,\"#7201a8\"],[0.3333333333333333,\"#9c179e\"],[0.4444444444444444,\"#bd3786\"],[0.5555555555555556,\"#d8576b\"],[0.6666666666666666,\"#ed7953\"],[0.7777777777777778,\"#fb9f3a\"],[0.8888888888888888,\"#fdca26\"],[1.0,\"#f0f921\"]]}],\"surface\":[{\"type\":\"surface\",\"colorbar\":{\"outlinewidth\":0,\"ticks\":\"\"},\"colorscale\":[[0.0,\"#0d0887\"],[0.1111111111111111,\"#46039f\"],[0.2222222222222222,\"#7201a8\"],[0.3333333333333333,\"#9c179e\"],[0.4444444444444444,\"#bd3786\"],[0.5555555555555556,\"#d8576b\"],[0.6666666666666666,\"#ed7953\"],[0.7777777777777778,\"#fb9f3a\"],[0.8888888888888888,\"#fdca26\"],[1.0,\"#f0f921\"]]}],\"mesh3d\":[{\"type\":\"mesh3d\",\"colorbar\":{\"outlinewidth\":0,\"ticks\":\"\"}}],\"scatter\":[{\"fillpattern\":{\"fillmode\":\"overlay\",\"size\":10,\"solidity\":0.2},\"type\":\"scatter\"}],\"parcoords\":[{\"type\":\"parcoords\",\"line\":{\"colorbar\":{\"outlinewidth\":0,\"ticks\":\"\"}}}],\"scatterpolargl\":[{\"type\":\"scatterpolargl\",\"marker\":{\"colorbar\":{\"outlinewidth\":0,\"ticks\":\"\"}}}],\"bar\":[{\"error_x\":{\"color\":\"#2a3f5f\"},\"error_y\":{\"color\":\"#2a3f5f\"},\"marker\":{\"line\":{\"color\":\"#E5ECF6\",\"width\":0.5},\"pattern\":{\"fillmode\":\"overlay\",\"size\":10,\"solidity\":0.2}},\"type\":\"bar\"}],\"scattergeo\":[{\"type\":\"scattergeo\",\"marker\":{\"colorbar\":{\"outlinewidth\":0,\"ticks\":\"\"}}}],\"scatterpolar\":[{\"type\":\"scatterpolar\",\"marker\":{\"colorbar\":{\"outlinewidth\":0,\"ticks\":\"\"}}}],\"histogram\":[{\"marker\":{\"pattern\":{\"fillmode\":\"overlay\",\"size\":10,\"solidity\":0.2}},\"type\":\"histogram\"}],\"scattergl\":[{\"type\":\"scattergl\",\"marker\":{\"colorbar\":{\"outlinewidth\":0,\"ticks\":\"\"}}}],\"scatter3d\":[{\"type\":\"scatter3d\",\"line\":{\"colorbar\":{\"outlinewidth\":0,\"ticks\":\"\"}},\"marker\":{\"colorbar\":{\"outlinewidth\":0,\"ticks\":\"\"}}}],\"scattermapbox\":[{\"type\":\"scattermapbox\",\"marker\":{\"colorbar\":{\"outlinewidth\":0,\"ticks\":\"\"}}}],\"scatterternary\":[{\"type\":\"scatterternary\",\"marker\":{\"colorbar\":{\"outlinewidth\":0,\"ticks\":\"\"}}}],\"scattercarpet\":[{\"type\":\"scattercarpet\",\"marker\":{\"colorbar\":{\"outlinewidth\":0,\"ticks\":\"\"}}}],\"carpet\":[{\"aaxis\":{\"endlinecolor\":\"#2a3f5f\",\"gridcolor\":\"white\",\"linecolor\":\"white\",\"minorgridcolor\":\"white\",\"startlinecolor\":\"#2a3f5f\"},\"baxis\":{\"endlinecolor\":\"#2a3f5f\",\"gridcolor\":\"white\",\"linecolor\":\"white\",\"minorgridcolor\":\"white\",\"startlinecolor\":\"#2a3f5f\"},\"type\":\"carpet\"}],\"table\":[{\"cells\":{\"fill\":{\"color\":\"#EBF0F8\"},\"line\":{\"color\":\"white\"}},\"header\":{\"fill\":{\"color\":\"#C8D4E3\"},\"line\":{\"color\":\"white\"}},\"type\":\"table\"}],\"barpolar\":[{\"marker\":{\"line\":{\"color\":\"#E5ECF6\",\"width\":0.5},\"pattern\":{\"fillmode\":\"overlay\",\"size\":10,\"solidity\":0.2}},\"type\":\"barpolar\"}],\"pie\":[{\"automargin\":true,\"type\":\"pie\"}]},\"layout\":{\"autotypenumbers\":\"strict\",\"colorway\":[\"#636efa\",\"#EF553B\",\"#00cc96\",\"#ab63fa\",\"#FFA15A\",\"#19d3f3\",\"#FF6692\",\"#B6E880\",\"#FF97FF\",\"#FECB52\"],\"font\":{\"color\":\"#2a3f5f\"},\"hovermode\":\"closest\",\"hoverlabel\":{\"align\":\"left\"},\"paper_bgcolor\":\"white\",\"plot_bgcolor\":\"#E5ECF6\",\"polar\":{\"bgcolor\":\"#E5ECF6\",\"angularaxis\":{\"gridcolor\":\"white\",\"linecolor\":\"white\",\"ticks\":\"\"},\"radialaxis\":{\"gridcolor\":\"white\",\"linecolor\":\"white\",\"ticks\":\"\"}},\"ternary\":{\"bgcolor\":\"#E5ECF6\",\"aaxis\":{\"gridcolor\":\"white\",\"linecolor\":\"white\",\"ticks\":\"\"},\"baxis\":{\"gridcolor\":\"white\",\"linecolor\":\"white\",\"ticks\":\"\"},\"caxis\":{\"gridcolor\":\"white\",\"linecolor\":\"white\",\"ticks\":\"\"}},\"coloraxis\":{\"colorbar\":{\"outlinewidth\":0,\"ticks\":\"\"}},\"colorscale\":{\"sequential\":[[0.0,\"#0d0887\"],[0.1111111111111111,\"#46039f\"],[0.2222222222222222,\"#7201a8\"],[0.3333333333333333,\"#9c179e\"],[0.4444444444444444,\"#bd3786\"],[0.5555555555555556,\"#d8576b\"],[0.6666666666666666,\"#ed7953\"],[0.7777777777777778,\"#fb9f3a\"],[0.8888888888888888,\"#fdca26\"],[1.0,\"#f0f921\"]],\"sequentialminus\":[[0.0,\"#0d0887\"],[0.1111111111111111,\"#46039f\"],[0.2222222222222222,\"#7201a8\"],[0.3333333333333333,\"#9c179e\"],[0.4444444444444444,\"#bd3786\"],[0.5555555555555556,\"#d8576b\"],[0.6666666666666666,\"#ed7953\"],[0.7777777777777778,\"#fb9f3a\"],[0.8888888888888888,\"#fdca26\"],[1.0,\"#f0f921\"]],\"diverging\":[[0,\"#8e0152\"],[0.1,\"#c51b7d\"],[0.2,\"#de77ae\"],[0.3,\"#f1b6da\"],[0.4,\"#fde0ef\"],[0.5,\"#f7f7f7\"],[0.6,\"#e6f5d0\"],[0.7,\"#b8e186\"],[0.8,\"#7fbc41\"],[0.9,\"#4d9221\"],[1,\"#276419\"]]},\"xaxis\":{\"gridcolor\":\"white\",\"linecolor\":\"white\",\"ticks\":\"\",\"title\":{\"standoff\":15},\"zerolinecolor\":\"white\",\"automargin\":true,\"zerolinewidth\":2},\"yaxis\":{\"gridcolor\":\"white\",\"linecolor\":\"white\",\"ticks\":\"\",\"title\":{\"standoff\":15},\"zerolinecolor\":\"white\",\"automargin\":true,\"zerolinewidth\":2},\"scene\":{\"xaxis\":{\"backgroundcolor\":\"#E5ECF6\",\"gridcolor\":\"white\",\"linecolor\":\"white\",\"showbackground\":true,\"ticks\":\"\",\"zerolinecolor\":\"white\",\"gridwidth\":2},\"yaxis\":{\"backgroundcolor\":\"#E5ECF6\",\"gridcolor\":\"white\",\"linecolor\":\"white\",\"showbackground\":true,\"ticks\":\"\",\"zerolinecolor\":\"white\",\"gridwidth\":2},\"zaxis\":{\"backgroundcolor\":\"#E5ECF6\",\"gridcolor\":\"white\",\"linecolor\":\"white\",\"showbackground\":true,\"ticks\":\"\",\"zerolinecolor\":\"white\",\"gridwidth\":2}},\"shapedefaults\":{\"line\":{\"color\":\"#2a3f5f\"}},\"annotationdefaults\":{\"arrowcolor\":\"#2a3f5f\",\"arrowhead\":0,\"arrowwidth\":1},\"geo\":{\"bgcolor\":\"white\",\"landcolor\":\"#E5ECF6\",\"subunitcolor\":\"white\",\"showland\":true,\"showlakes\":true,\"lakecolor\":\"white\"},\"title\":{\"x\":0.05},\"mapbox\":{\"style\":\"light\"}}},\"xaxis\":{\"anchor\":\"y\",\"domain\":[0.0,1.0],\"title\":{\"text\":\"Bootstrapped Medians\"}},\"yaxis\":{\"anchor\":\"x\",\"domain\":[0.0,1.0],\"title\":{\"text\":\"probability density\"}},\"legend\":{\"tracegroupgap\":0},\"margin\":{\"t\":60},\"barmode\":\"relative\"},                        {\"responsive\": true}                    ).then(function(){\n",
       "                            \n",
       "var gd = document.getElementById('98497f90-9cdc-490b-a710-922e66423f9d');\n",
       "var x = new MutationObserver(function (mutations, observer) {{\n",
       "        var display = window.getComputedStyle(gd).display;\n",
       "        if (!display || display === 'none') {{\n",
       "            console.log([gd, 'removed!']);\n",
       "            Plotly.purge(gd);\n",
       "            observer.disconnect();\n",
       "        }}\n",
       "}});\n",
       "\n",
       "// Listen for the removal of the full notebook cells\n",
       "var notebookContainer = gd.closest('#notebook-container');\n",
       "if (notebookContainer) {{\n",
       "    x.observe(notebookContainer, {childList: true});\n",
       "}}\n",
       "\n",
       "// Listen for the clearing of the current output cell\n",
       "var outputEl = gd.closest('.output');\n",
       "if (outputEl) {{\n",
       "    x.observe(outputEl, {childList: true});\n",
       "}}\n",
       "\n",
       "                        })                };                });            </script>        </div>"
      ]
     },
     "metadata": {},
     "output_type": "display_data"
    }
   ],
   "source": [
    "data = pd.read_csv('auto_claims.csv')\n",
    "np.random.seed(130) # Use this line to create reproducible pseudorandomness for your bootstrapping\n",
    "\n",
    "sample_size_n = 500\n",
    "number_of_bootstrapped_samples = 1000\n",
    "# concatenating with a list is not very efficient because growing the list\n",
    "# is a memory intensive process as opposed to preallocating the memory that will be used\n",
    "boot_medians = [] # an approach using `np.array([0.0]*number_of_bootstrapped_samples)` \n",
    "                  # would be better...\n",
    "for i in range(number_of_bootstrapped_samples):\n",
    "    # `np.random.choice` is an alternative to utilizing `data.sample(..., replace=True)`\n",
    "    boot_sample = np.random.choice(data['PAID'], sample_size_n)\n",
    "    boot_medians += [np.median(boot_sample)]\n",
    "\n",
    "fig = px.histogram(pd.DataFrame({\"Bootstrapped Medians\": boot_medians}), \n",
    "                   x=\"Bootstrapped Medians\", histnorm='probability density', nbins=12)\n",
    "fig.show()"
   ]
  },
  {
   "cell_type": "code",
   "execution_count": 204,
   "id": "f1405442",
   "metadata": {},
   "outputs": [],
   "source": [
    "hint = \"\\n\\nAUTOMATICALLY FAILING AUTOTEST: DOES NOT COUNT AGAINST STUDENT\\n\"\n",
    "hint += \"Included as an example answer for feedback purposes only\\n\\n\"\n",
    "code = '''\n",
    "#data = pd.read_csv('auto_claims.csv')\n",
    "np.random.seed(130) # Use this line to create reproducible pseudorandomness for your bootstrapping\n",
    "\n",
    "sample_size_n = 500\n",
    "number_of_bootstrapped_samples = 1000\n",
    "# concatenating with a list is not very efficient because growing the list\n",
    "# is a memory intensive process as opposed to preallocating the memory that will be used\n",
    "boot_medians = [] # an approach using `np.array([0.0]*number_of_bootstrapped_samples)` \n",
    "                  # would be better...\n",
    "for i in range(number_of_bootstrapped_samples):\n",
    "    # `np.random.choice` is an alternative to utilizing `data.sample(..., replace=True)`\n",
    "    boot_sample = np.random.choice(data['PAID'], sample_size_n)\n",
    "    boot_medians += [np.median(boot_sample)]\n",
    "\n",
    "fig = px.histogram(pd.DataFrame({\"Bootstrapped Medians\": boot_medians}), \n",
    "                   x=\"Bootstrapped Medians\", histnorm='probability density', nbins=12)\n",
    "fig.show()\n",
    "'''"
   ]
  },
  {
   "cell_type": "code",
   "execution_count": 205,
   "id": "16ec6085",
   "metadata": {},
   "outputs": [
    {
     "ename": "AssertionError",
     "evalue": "\n\nAUTOMATICALLY FAILING AUTOTEST: DOES NOT COUNT AGAINST STUDENT\nIncluded as an example answer for feedback purposes only\n\n\nnp.random.seed(130) # Use this line to create reproducbile pseudorandomness for your bootstrapping\n\nsample_size_n = 500\nnumber_of_bootstrapped_samples = 1000\n# concatenating with a list is not very efficient because growing the list\n# is a memory intensive process as opposed to preallocating the memory that will be used\nboot_medians = [] # an approach using `np.array([0.0]*number_of_bootstrapped_samples)` \n                  # would be better...\nfor i in range(number_of_bootstrapped_samples):\n    boot_sample = np.random.choice(autoclaims_csv_asdf['PAID'], sample_size_n)\n    boot_medians += [np.mean(boot_sample)]\n\nfig = px.histogram(pd.DataFrame({\"Bootstrapped Medians\": boot_medians}), \n                   x=\"Bootstrapped Medians\", histnorm='probability density', nbins=12)\nfig.show()\n",
     "output_type": "error",
     "traceback": [
      "\u001b[0;31m---------------------------------------------------------------------------\u001b[0m",
      "\u001b[0;31mAssertionError\u001b[0m                            Traceback (most recent call last)",
      "Cell \u001b[0;32mIn[205], line 2\u001b[0m\n\u001b[1;32m      1\u001b[0m \u001b[38;5;66;03m# test_Q9\u001b[39;00m\n\u001b[0;32m----> 2\u001b[0m \u001b[38;5;28;01massert\u001b[39;00m \u001b[38;5;28;01mFalse\u001b[39;00m, hint\u001b[38;5;241m+\u001b[39mcode\n",
      "\u001b[0;31mAssertionError\u001b[0m: \n\nAUTOMATICALLY FAILING AUTOTEST: DOES NOT COUNT AGAINST STUDENT\nIncluded as an example answer for feedback purposes only\n\n\nnp.random.seed(130) # Use this line to create reproducbile pseudorandomness for your bootstrapping\n\nsample_size_n = 500\nnumber_of_bootstrapped_samples = 1000\n# concatenating with a list is not very efficient because growing the list\n# is a memory intensive process as opposed to preallocating the memory that will be used\nboot_medians = [] # an approach using `np.array([0.0]*number_of_bootstrapped_samples)` \n                  # would be better...\nfor i in range(number_of_bootstrapped_samples):\n    boot_sample = np.random.choice(autoclaims_csv_asdf['PAID'], sample_size_n)\n    boot_medians += [np.mean(boot_sample)]\n\nfig = px.histogram(pd.DataFrame({\"Bootstrapped Medians\": boot_medians}), \n                   x=\"Bootstrapped Medians\", histnorm='probability density', nbins=12)\nfig.show()\n"
     ]
    }
   ],
   "source": [
    "# test_Q9\n",
    "assert False, hint+code"
   ]
  },
  {
   "cell_type": "markdown",
   "id": "8c2820fa",
   "metadata": {},
   "source": [
    "### Q10: Using the simulation in Q9, derive a 95% confidence interval for the median of paid claims.\n",
    "#### Give your answer as a continuous numeric value rounded to two decimal positions."
   ]
  },
  {
   "cell_type": "code",
   "execution_count": 281,
   "id": "1a955d4c",
   "metadata": {},
   "outputs": [
    {
     "data": {
      "text/plain": [
       "array([ 940.28 , 1196.275])"
      ]
     },
     "execution_count": 281,
     "metadata": {},
     "output_type": "execute_result"
    }
   ],
   "source": [
    "np.quantile(boot_medians, (0.025, 0.975))"
   ]
  },
  {
   "cell_type": "code",
   "execution_count": 282,
   "id": "213e4f97",
   "metadata": {},
   "outputs": [],
   "source": [
    "# Q10: your answer will be tested!\n",
    "confint_lower = None\n",
    "confint_upper = None\n",
    "Q10 = (confint_lower, confint_upper) # Assign a `tuple` of two `float`s to Q10"
   ]
  },
  {
   "cell_type": "code",
   "execution_count": 283,
   "id": "642ca78a",
   "metadata": {},
   "outputs": [],
   "source": [
    "test = Q3==(940.28, 1196.28)\n",
    "hint = \"A 95% confidence interval refers to the middle 95% of the bootstrapped means, \"\n",
    "hint += \"so make sure that the quantiles you use have a difference of 0.95.\""
   ]
  },
  {
   "cell_type": "markdown",
   "id": "e08f001b",
   "metadata": {},
   "source": [
    "### Q11: Create 1000 samples of sample size $n=500$ from the population of claims stored in the `auto_claims_population.csv` data set, use `plotly` to visualize the (sampling) distrubution of the median paid claims for these samples, and compute the overall average of these means.\n",
    "\n",
    "#### Which of the following statements are true?\n",
    "\n",
    "- A. The average paid claim amount in the population is given by `pd.read_csv('auto_claims_population.csv').PAID.mean()`\n",
    "- B. Each mean computed in Q11 estimates this, and the overall average of these means estimates it even better; but, it's a little silly to do this because since we have the whole population we can just calculate the average paid claim amount in the population exactly.\n",
    "- The bootstrap means in Q9 estimate the mean of the original sample being bootstrapped (which we can already calculate exactly); but, if the \"auto_claims.csv\" sample is fairly representative \"auto_claims_population.csv\" population, then the bootstrapped sampling distribution created in Q9 will behave similarly to the sampling distribution created here in Q11 (but it will just be \"biased\" to be centered around the mean of the original sample as opposed to the mean of the popuation). \n",
    "- D. All of the above\n",
    "\n",
    "> - Hint 1: Ensure each sample should be created without replacement, so there are no repeated observations within each sample: <br>**this question is not asking for bootstrapping... it's asking you to create 1000 different samples from a population...**\n",
    "> - Hint 2: The default for `df.sample()` is `replace=False`, whereas the default for `np.random.choice(x, n)` is `replace=True`.\n",
    "\n",
    "- Your `for` loop code and figure will be manually confirmed (for the correct usage of `replace=False`) during marking"
   ]
  },
  {
   "cell_type": "code",
   "execution_count": 248,
   "id": "72fc7577",
   "metadata": {},
   "outputs": [
    {
     "data": {
      "text/plain": [
       "(500, 5)"
      ]
     },
     "execution_count": 248,
     "metadata": {},
     "output_type": "execute_result"
    }
   ],
   "source": [
    "# Import 'auto_claims_population.csv' and create 1000 samples from this population\n"
   ]
  },
  {
   "cell_type": "code",
   "execution_count": 256,
   "id": "110ea0fc",
   "metadata": {},
   "outputs": [
    {
     "data": {
      "application/vnd.plotly.v1+json": {
       "config": {
        "plotlyServerURL": "https://plot.ly"
       },
       "data": [
        {
         "alignmentgroup": "True",
         "bingroup": "x",
         "histnorm": "probability density",
         "hovertemplate": "Bootstrapped Means=%{x}<br>probability density=%{y}<extra></extra>",
         "legendgroup": "",
         "marker": {
          "color": "#636efa",
          "pattern": {
           "shape": ""
          }
         },
         "name": "",
         "nbinsx": 10,
         "offsetgroup": "",
         "orientation": "v",
         "showlegend": false,
         "type": "histogram",
         "x": [
          1063.895,
          1038.385,
          1120.82,
          1049.2649999999999,
          1079.7350000000001,
          1126.06,
          1026.7549999999999,
          1053.0949999999998,
          1036.9099999999999,
          1035.885,
          1069.375,
          1078.03,
          1010.12,
          1034.435,
          1062.8400000000001,
          1034.435,
          1046.96,
          956.89,
          1119.2150000000001,
          1042.72,
          1053.0949999999998,
          1088.6550000000002,
          1070.96,
          1070.96,
          1099.38,
          1049.2649999999999,
          988.5350000000001,
          1053.6999999999998,
          1097.75,
          1042.72,
          1023.8499999999999,
          1088.6550000000002,
          1110.62,
          1053.355,
          1092.9099999999999,
          1062.595,
          992.36,
          1078.03,
          1052.75,
          1049.2649999999999,
          1097.525,
          1057.185,
          1013.06,
          1009.495,
          1024.4099999999999,
          1043.5500000000002,
          1085.22,
          1026.7549999999999,
          990.915,
          1053.0949999999998,
          1043.1750000000002,
          984.4300000000001,
          1046.96,
          1138.2150000000001,
          1046.81,
          1014.4549999999999,
          961.87,
          977.79,
          1035.29,
          1042.5700000000002,
          1097.525,
          1078.03,
          1092.9099999999999,
          1024.4099999999999,
          1042.72,
          1094.56,
          1063.1,
          1090.58,
          992.835,
          1043.5500000000002,
          1010.12,
          985.965,
          1103.395,
          991.8,
          1045.68,
          1059.795,
          1043.5500000000002,
          1042.72,
          1050.6399999999999,
          1097.73,
          1099.1550000000002,
          1059.5349999999999,
          1114.6350000000002,
          1114.6350000000002,
          1100.535,
          1060.5900000000001,
          1130.4,
          1049.2649999999999,
          1122.9099999999999,
          1110.9,
          1065.9850000000001,
          1047.155,
          1148.2649999999999,
          1012.4300000000001,
          1074.6399999999999,
          1098.7600000000002,
          1126.85,
          1106.605,
          1013.3,
          1087.815,
          1039.42,
          992.835,
          1046.96,
          989.1800000000001,
          1011.565,
          1084.305,
          1025.135,
          1090.58,
          1049.2649999999999,
          1057.185,
          1042.5700000000002,
          1063.895,
          1062.335,
          1151.8600000000001,
          1052.225,
          1096.495,
          1042.1950000000002,
          1119.2150000000001,
          1043.5500000000002,
          1014.4549999999999,
          1044.85,
          973.04,
          1112.1550000000002,
          1042.72,
          1089.5700000000002,
          1079.7350000000001,
          1025.135,
          1049.2649999999999,
          1036.9099999999999,
          1036.0549999999998,
          1068.0749999999998,
          1151.8600000000001,
          1044.65,
          1053.0949999999998,
          1080.625,
          1042.5700000000002,
          1040.065,
          1044.305,
          1090.58,
          1046.96,
          1047.3049999999998,
          1080.625,
          1057.185,
          1130.4,
          1026.585,
          1060.5900000000001,
          1038.2150000000001,
          1117.4,
          1060.49,
          1059.5349999999999,
          1059.5349999999999,
          1035.885,
          1092.9099999999999,
          1030.565,
          1041.04,
          1042.5700000000002,
          1035.885,
          1014.31,
          1010.3599999999999,
          1013.825,
          1119.005,
          1097.525,
          1004.905,
          1009.495,
          1089.74,
          992.835,
          1047.3049999999998,
          1087.815,
          1084.305,
          983.99,
          975.22,
          1097.525,
          991.9200000000001,
          1069.375,
          1121.6100000000001,
          1025.135,
          1014.55,
          1063.895,
          1046.96,
          1084.305,
          1025.73,
          961.87,
          992.36,
          1090.58,
          1119.795,
          1040.8899999999999,
          1057.185,
          1053.1399999999999,
          1059.5349999999999,
          1065.9850000000001,
          1002.4549999999999,
          1092.74,
          1059.9850000000001,
          1126.06,
          961.87,
          1117.75,
          1038.5900000000001,
          1085.22,
          993.0350000000001,
          1000.62,
          1049.2649999999999,
          1042.5700000000002,
          1085.22,
          1059.19,
          992.36,
          1114.355,
          1110.9,
          1013.825,
          1130.4,
          1048.135,
          948.495,
          1013.06,
          1035.885,
          998.53,
          1060.49,
          1040.87,
          941.6800000000001,
          1106.75,
          1096.1,
          991.8,
          1084.305,
          1001.59,
          1003.12,
          1042.1950000000002,
          998.53,
          1025.73,
          1055.445,
          992.715,
          1042.5700000000002,
          1004.905,
          1087.815,
          1024.4099999999999,
          1063.1,
          1084.305,
          1065.9850000000001,
          1062.595,
          961.78,
          1084.305,
          1045.83,
          1035.885,
          1011.8050000000001,
          1045.68,
          1014.55,
          1006.35,
          1059.19,
          1126.85,
          991.8,
          1049.2649999999999,
          1093.94,
          1097.75,
          1063.895,
          1100.535,
          1074.6399999999999,
          1206.445,
          1060.5900000000001,
          1098.7600000000002,
          988.2950000000001,
          1025.135,
          1038.76,
          1100.535,
          1042.5700000000002,
          1037.3600000000001,
          1053.0949999999998,
          1053.355,
          1003.12,
          1098.145,
          1061.54,
          1092.9099999999999,
          994.4449999999999,
          1065.48,
          1091.9,
          1025.135,
          1006.35,
          1089.74,
          1113.1,
          1025.135,
          1065.9850000000001,
          1110.62,
          943.7049999999999,
          1078.03,
          1044.85,
          1120.82,
          1043.5500000000002,
          1057.185,
          1044.85,
          1006.35,
          1099.525,
          1040.065,
          1087.815,
          1004.905,
          1084.305,
          1035.46,
          1040.065,
          994.245,
          1110.62,
          1071.495,
          1047.155,
          1114.6350000000002,
          1037.7350000000001,
          1084.305,
          1099.38,
          1025.135,
          1025.73,
          1064.685,
          941.6800000000001,
          1040.065,
          1006.35,
          1097.525,
          1061.54,
          1099.38,
          1014.31,
          1062.335,
          1012.4300000000001,
          1063.895,
          1063.895,
          997.475,
          1045.83,
          1097.525,
          1053.6999999999998,
          1048.51,
          993.0350000000001,
          1092.74,
          1069.375,
          1049.2649999999999,
          991.8,
          1042.5700000000002,
          1195.56,
          1061.54,
          1089.5700000000002,
          1106.75,
          1013.825,
          1053.0949999999998,
          1114.355,
          1094.3899999999999,
          1000.8199999999999,
          983.99,
          1057.185,
          968.06,
          992.835,
          1090.58,
          1007.2149999999999,
          1099.525,
          1119.2150000000001,
          1074.6399999999999,
          1024.4099999999999,
          1042.345,
          1122.9099999999999,
          1042.345,
          1047.79,
          1116.145,
          1080.88,
          1119.2150000000001,
          1042.345,
          1042.5700000000002,
          1098.145,
          993.77,
          1106.605,
          1006.975,
          1006.35,
          1074.6399999999999,
          1014.4549999999999,
          1099.525,
          1080.625,
          1036.9099999999999,
          1047.79,
          1078.03,
          1009.495,
          1114.6350000000002,
          1025.135,
          953.155,
          988.5350000000001,
          984.4300000000001,
          1092.93,
          1014.4549999999999,
          1049.2649999999999,
          988.5350000000001,
          1053.0949999999998,
          1089.5700000000002,
          1053.6999999999998,
          988.2950000000001,
          1057.185,
          1035.885,
          1052.75,
          1040.8899999999999,
          1059.5349999999999,
          950.3199999999999,
          1097.525,
          1143.065,
          1092.74,
          988.5350000000001,
          1061.54,
          1027.335,
          1002.8900000000001,
          1087.815,
          1063.1,
          1048.135,
          1025.8600000000001,
          1100.535,
          954.62,
          1013.3,
          1062.595,
          994.245,
          1035.885,
          1065.9850000000001,
          1013.3,
          1078.03,
          1096.495,
          1100.535,
          1109.795,
          1070.96,
          1061.54,
          1003.12,
          1012.4300000000001,
          1096.1,
          1042.345,
          991.8,
          1070.96,
          1047.79,
          1053.6999999999998,
          997.675,
          1025.135,
          1028.06,
          993.3900000000001,
          1089.74,
          1085.22,
          990.715,
          1057.185,
          1092.74,
          1062.0749999999998,
          1003.12,
          1180.995,
          1077.4050000000002,
          1063.1,
          1040.065,
          1081.54,
          1156.4450000000002,
          1042.345,
          942.92,
          1059.5349999999999,
          1093.94,
          1207.23,
          1011.565,
          1013.06,
          1048.135,
          1036.9099999999999,
          1119.2150000000001,
          943.825,
          994.4449999999999,
          964.05,
          1074.0900000000001,
          1013.06,
          1023.885,
          1062.335,
          1047.79,
          991.8,
          1097.75,
          1061.54,
          1115.865,
          1084.305,
          1013.3,
          1034.435,
          1097.75,
          1070.96,
          1099.38,
          1014.4549999999999,
          961.4200000000001,
          990.475,
          1042.5700000000002,
          1077.4050000000002,
          1006.975,
          1135.1999999999998,
          1092.015,
          1106.75,
          1037.3600000000001,
          1011.8050000000001,
          1087.815,
          1034.435,
          1034.435,
          1092.015,
          1026.585,
          1058.9299999999998,
          990.715,
          990.715,
          1013.06,
          1100.535,
          1034.435,
          1040.8899999999999,
          1051.395,
          1055.705,
          1055.445,
          1060.5900000000001,
          1061.54,
          1046.96,
          1038.76,
          1098.145,
          1036.9099999999999,
          1046.96,
          1087.815,
          1064.425,
          1094.3899999999999,
          1049.2649999999999,
          1015.7049999999999,
          1126.06,
          1057.185,
          1012.4300000000001,
          1097.75,
          989.62,
          1057.185,
          1015.7049999999999,
          1036.7649999999999,
          1009.495,
          1025.135,
          1038.2150000000001,
          1013.3,
          1047.79,
          993.3900000000001,
          987.855,
          1061.54,
          1091.9,
          989.1800000000001,
          1090.58,
          1025.005,
          1035.885,
          1014.4549999999999,
          1146.08,
          1036.7649999999999,
          1061.54,
          1025.135,
          1026.585,
          1035.46,
          1114.6350000000002,
          1063.895,
          1014.4549999999999,
          1046.81,
          941.6800000000001,
          1042.1950000000002,
          1092.74,
          1087.815,
          1025.73,
          1025.005,
          1037.3600000000001,
          1146.08,
          1026.585,
          1117.705,
          993.3900000000001,
          1081.54,
          1131.205,
          1049.2649999999999,
          1096.495,
          1053.6999999999998,
          1064.425,
          1034.435,
          1045.68,
          1093.94,
          990.715,
          1117.705,
          1156.045,
          1047.79,
          989.83,
          1035.885,
          1049.2649999999999,
          1092.74,
          998.53,
          1030.565,
          1049.2649999999999,
          1013.06,
          1061.54,
          1050.6399999999999,
          1059.5349999999999,
          1092.015,
          1043.5500000000002,
          1062.595,
          1098.145,
          1131.605,
          1051.395,
          1104.5500000000002,
          1097.525,
          1078.03,
          1120.82,
          1042.5700000000002,
          1047.3049999999998,
          1001.675,
          954.62,
          1034.435,
          1092.9099999999999,
          1040.0149999999999,
          1089.74,
          1086.06,
          1042.1950000000002,
          1014.4549999999999,
          992.36,
          1140.4,
          1041.87,
          1070.96,
          1013.3,
          1044.85,
          1131.205,
          1004.905,
          1141.935,
          1130.4,
          1099.38,
          1071.755,
          1113.1,
          1110.9,
          1044.85,
          1097.525,
          1126.46,
          1088.825,
          1011.8050000000001,
          1011.565,
          1013.3,
          1114.355,
          1099.3000000000002,
          1051.62,
          1014.4549999999999,
          1015.7049999999999,
          1013.3,
          1059.795,
          1035.46,
          1015.18,
          1087.815,
          992.835,
          1136.005,
          1042.5700000000002,
          1046.96,
          1089.815,
          1048.135,
          1070.96,
          1025.135,
          1136.005,
          1104.5500000000002,
          992.36,
          1014.4549999999999,
          1096.495,
          1049.2649999999999,
          1098.145,
          1099.585,
          1004.905,
          1045.83,
          1113.1,
          1110.62,
          992.715,
          1096.1,
          1036.9099999999999,
          1084.305,
          956.89,
          1089.5700000000002,
          1025.135,
          1074.6399999999999,
          1062.595,
          1076.06,
          997.475,
          1012.4300000000001,
          1025.005,
          993.3900000000001,
          966.4000000000001,
          1097.525,
          1110.62,
          1043.5500000000002,
          966.4000000000001,
          1094.335,
          991.9200000000001,
          1156.4450000000002,
          1072.5500000000002,
          1040.065,
          1106.605,
          1143.065,
          1035.885,
          1086.23,
          1080.625,
          1053.355,
          1156.4450000000002,
          1087.815,
          964.05,
          1061.54,
          1011.8050000000001,
          1038.2150000000001,
          1042.72,
          1098.145,
          1063.1,
          1078.15,
          1084.305,
          1023.2549999999999,
          1089.74,
          1087.815,
          1053.0949999999998,
          1040.065,
          1040.065,
          1044.85,
          1042.5700000000002,
          1011.565,
          990.715,
          1122.9099999999999,
          1013.825,
          1014.55,
          1044.85,
          1126.06,
          1065.9850000000001,
          1063.895,
          1098.145,
          1046.96,
          954.62,
          1059.5349999999999,
          1089.74,
          997.675,
          1025.135,
          1126.85,
          1005.01,
          1114.355,
          1088.825,
          1012.4300000000001,
          1065.48,
          1113.1,
          959.24,
          1065.9850000000001,
          986.56,
          993.0350000000001,
          1069.375,
          1042.72,
          1013.585,
          994.245,
          1059.5349999999999,
          1036.9099999999999,
          1134.8,
          983.99,
          1057.185,
          1036.0549999999998,
          1044.85,
          1148.995,
          1036.0549999999998,
          993.0350000000001,
          1044.85,
          1096.1,
          957.25,
          1025.135,
          1057.185,
          1053.0949999999998,
          1025.135,
          1050.79,
          1061.54,
          1059.5349999999999,
          1098.145,
          1147.815,
          1012.4300000000001,
          1052.75,
          1065.48,
          1062.595,
          1069.375,
          1063.1,
          1009.495,
          1042.5700000000002,
          1036.9099999999999,
          1110.62,
          1086.23,
          1053.6999999999998,
          1060.5900000000001,
          992.915,
          1013.06,
          1050.79,
          1038.385,
          1001.7750000000001,
          1093.94,
          1094.56,
          985.725,
          992.36,
          1024.4099999999999,
          1012.4300000000001,
          1120.5149999999999,
          990.475,
          1038.2150000000001,
          994.4449999999999,
          1028.06,
          1010.12,
          1113.1,
          1078.03,
          1062.595,
          1074.6399999999999,
          988.5350000000001,
          1099.1550000000002,
          992.36,
          1012.4300000000001,
          1053.6999999999998,
          1012.96,
          992.835,
          1011.565,
          1078.03,
          993.89,
          1042.5700000000002,
          1059.5349999999999,
          1036.9099999999999,
          1013.06,
          1063.895,
          1100.535,
          1106.75,
          1013.585,
          1092.9099999999999,
          1124.455,
          1053.0949999999998,
          950.6800000000001,
          1038.385,
          1103.17,
          1043.1750000000002,
          992.835,
          1059.795,
          1084.305,
          1025.73,
          1090.58,
          957.25,
          1042.1950000000002,
          1065.48,
          1044.85,
          1143.065,
          1052.75,
          994.245,
          1046.96,
          1048.135,
          1077.0700000000002,
          1114.6350000000002,
          1062.335,
          1131.605,
          1038.76,
          953.155,
          1057.185,
          1068.87,
          943.7049999999999,
          1080.625,
          1049.2649999999999,
          1065.9850000000001,
          1035.29,
          1100.535,
          1053.6999999999998,
          1063.895,
          1094.56,
          993.89,
          1100.535,
          1065.9850000000001,
          1126.85,
          1104.5500000000002,
          1070.96,
          1099.38,
          1042.72,
          1038.2150000000001,
          1012.4300000000001,
          1059.5349999999999,
          1063.895,
          1081.54,
          1041.04,
          1086.06,
          1084.305,
          1052.75,
          991.9200000000001,
          1099.585,
          1089.5700000000002,
          1038.2150000000001,
          1063.1,
          998.53,
          1100.535,
          1015.7049999999999,
          977.79,
          1104.4050000000002,
          1098.7600000000002,
          1014.4549999999999,
          1015.7049999999999,
          1038.76,
          992.36,
          943.7049999999999,
          1038.385,
          959.24,
          1045.83,
          1015.7049999999999,
          1084.305,
          1053.6999999999998,
          1034.435,
          1038.2150000000001,
          994.4449999999999,
          1089.5700000000002,
          1001.675,
          998.53,
          1010.3599999999999,
          1062.595,
          1047.3049999999998,
          997.675,
          953.155,
          1097.525,
          1042.5700000000002,
          1009.495,
          1014.4549999999999,
          1014.55,
          1047.79,
          1047.79,
          933.24,
          1060.49,
          1089.5700000000002,
          1086.06,
          1137.815,
          989.1800000000001,
          1062.595,
          943.7049999999999,
          1068.87,
          1106.8850000000002,
          1089.5700000000002,
          1096.1,
          1059.5349999999999,
          1011.565,
          1041.04,
          1159.45,
          990.475,
          1057.185,
          1062.6799999999998,
          992.36,
          1042.5700000000002,
          1062.8400000000001,
          1035.46,
          1040.8899999999999,
          992.835,
          1065.48,
          1015.7049999999999,
          1038.76,
          1139.02,
          1015.7049999999999,
          1070.96,
          1040.065,
          1011.8050000000001,
          1035.885,
          1038.385,
          1042.72,
          1054.23,
          1013.3,
          990.475,
          1096.7199999999998,
          1025.8600000000001,
          1025.135,
          1117.4,
          1053.6999999999998,
          1120.82,
          1088.6550000000002,
          1040.065,
          946.0899999999999,
          1097.525,
          1036.9099999999999,
          1121.6100000000001,
          1093.77,
          1099.3000000000002,
          1130.4,
          1077.2350000000001,
          1011.565,
          1094.335,
          1059.19,
          1099.38,
          1003.745,
          1059.5349999999999,
          1023.2549999999999,
          1075.65,
          1053.355,
          992.835,
          1011.8050000000001,
          1059.5349999999999,
          1038.385,
          1013.825,
          1096.495,
          1011.8050000000001,
          1038.2150000000001,
          1044.68,
          1052.75,
          1053.0949999999998,
          1093.94,
          1059.9850000000001,
          1040.8899999999999,
          1058.245,
          1038.76,
          1059.5349999999999,
          1044.305,
          1098.9050000000002,
          1052.225,
          1093.77,
          1057.185,
          1011.8050000000001,
          1043.1750000000002,
          1025.005,
          1126.85,
          1000.62,
          994.4449999999999,
          1081.54,
          1057.185,
          1090.58,
          1065.48,
          1035.29,
          1045.83,
          1063.895,
          1059.19,
          1012.4300000000001,
          1049.2649999999999,
          1042.5700000000002,
          1053.0949999999998,
          1059.795,
          1049.2649999999999,
          1124.76,
          1014.4549999999999,
          1106.605,
          1063.1
         ],
         "xaxis": "x",
         "yaxis": "y"
        }
       ],
       "layout": {
        "barmode": "relative",
        "legend": {
         "tracegroupgap": 0
        },
        "margin": {
         "t": 60
        },
        "template": {
         "data": {
          "bar": [
           {
            "error_x": {
             "color": "#2a3f5f"
            },
            "error_y": {
             "color": "#2a3f5f"
            },
            "marker": {
             "line": {
              "color": "#E5ECF6",
              "width": 0.5
             },
             "pattern": {
              "fillmode": "overlay",
              "size": 10,
              "solidity": 0.2
             }
            },
            "type": "bar"
           }
          ],
          "barpolar": [
           {
            "marker": {
             "line": {
              "color": "#E5ECF6",
              "width": 0.5
             },
             "pattern": {
              "fillmode": "overlay",
              "size": 10,
              "solidity": 0.2
             }
            },
            "type": "barpolar"
           }
          ],
          "carpet": [
           {
            "aaxis": {
             "endlinecolor": "#2a3f5f",
             "gridcolor": "white",
             "linecolor": "white",
             "minorgridcolor": "white",
             "startlinecolor": "#2a3f5f"
            },
            "baxis": {
             "endlinecolor": "#2a3f5f",
             "gridcolor": "white",
             "linecolor": "white",
             "minorgridcolor": "white",
             "startlinecolor": "#2a3f5f"
            },
            "type": "carpet"
           }
          ],
          "choropleth": [
           {
            "colorbar": {
             "outlinewidth": 0,
             "ticks": ""
            },
            "type": "choropleth"
           }
          ],
          "contour": [
           {
            "colorbar": {
             "outlinewidth": 0,
             "ticks": ""
            },
            "colorscale": [
             [
              0,
              "#0d0887"
             ],
             [
              0.1111111111111111,
              "#46039f"
             ],
             [
              0.2222222222222222,
              "#7201a8"
             ],
             [
              0.3333333333333333,
              "#9c179e"
             ],
             [
              0.4444444444444444,
              "#bd3786"
             ],
             [
              0.5555555555555556,
              "#d8576b"
             ],
             [
              0.6666666666666666,
              "#ed7953"
             ],
             [
              0.7777777777777778,
              "#fb9f3a"
             ],
             [
              0.8888888888888888,
              "#fdca26"
             ],
             [
              1,
              "#f0f921"
             ]
            ],
            "type": "contour"
           }
          ],
          "contourcarpet": [
           {
            "colorbar": {
             "outlinewidth": 0,
             "ticks": ""
            },
            "type": "contourcarpet"
           }
          ],
          "heatmap": [
           {
            "colorbar": {
             "outlinewidth": 0,
             "ticks": ""
            },
            "colorscale": [
             [
              0,
              "#0d0887"
             ],
             [
              0.1111111111111111,
              "#46039f"
             ],
             [
              0.2222222222222222,
              "#7201a8"
             ],
             [
              0.3333333333333333,
              "#9c179e"
             ],
             [
              0.4444444444444444,
              "#bd3786"
             ],
             [
              0.5555555555555556,
              "#d8576b"
             ],
             [
              0.6666666666666666,
              "#ed7953"
             ],
             [
              0.7777777777777778,
              "#fb9f3a"
             ],
             [
              0.8888888888888888,
              "#fdca26"
             ],
             [
              1,
              "#f0f921"
             ]
            ],
            "type": "heatmap"
           }
          ],
          "heatmapgl": [
           {
            "colorbar": {
             "outlinewidth": 0,
             "ticks": ""
            },
            "colorscale": [
             [
              0,
              "#0d0887"
             ],
             [
              0.1111111111111111,
              "#46039f"
             ],
             [
              0.2222222222222222,
              "#7201a8"
             ],
             [
              0.3333333333333333,
              "#9c179e"
             ],
             [
              0.4444444444444444,
              "#bd3786"
             ],
             [
              0.5555555555555556,
              "#d8576b"
             ],
             [
              0.6666666666666666,
              "#ed7953"
             ],
             [
              0.7777777777777778,
              "#fb9f3a"
             ],
             [
              0.8888888888888888,
              "#fdca26"
             ],
             [
              1,
              "#f0f921"
             ]
            ],
            "type": "heatmapgl"
           }
          ],
          "histogram": [
           {
            "marker": {
             "pattern": {
              "fillmode": "overlay",
              "size": 10,
              "solidity": 0.2
             }
            },
            "type": "histogram"
           }
          ],
          "histogram2d": [
           {
            "colorbar": {
             "outlinewidth": 0,
             "ticks": ""
            },
            "colorscale": [
             [
              0,
              "#0d0887"
             ],
             [
              0.1111111111111111,
              "#46039f"
             ],
             [
              0.2222222222222222,
              "#7201a8"
             ],
             [
              0.3333333333333333,
              "#9c179e"
             ],
             [
              0.4444444444444444,
              "#bd3786"
             ],
             [
              0.5555555555555556,
              "#d8576b"
             ],
             [
              0.6666666666666666,
              "#ed7953"
             ],
             [
              0.7777777777777778,
              "#fb9f3a"
             ],
             [
              0.8888888888888888,
              "#fdca26"
             ],
             [
              1,
              "#f0f921"
             ]
            ],
            "type": "histogram2d"
           }
          ],
          "histogram2dcontour": [
           {
            "colorbar": {
             "outlinewidth": 0,
             "ticks": ""
            },
            "colorscale": [
             [
              0,
              "#0d0887"
             ],
             [
              0.1111111111111111,
              "#46039f"
             ],
             [
              0.2222222222222222,
              "#7201a8"
             ],
             [
              0.3333333333333333,
              "#9c179e"
             ],
             [
              0.4444444444444444,
              "#bd3786"
             ],
             [
              0.5555555555555556,
              "#d8576b"
             ],
             [
              0.6666666666666666,
              "#ed7953"
             ],
             [
              0.7777777777777778,
              "#fb9f3a"
             ],
             [
              0.8888888888888888,
              "#fdca26"
             ],
             [
              1,
              "#f0f921"
             ]
            ],
            "type": "histogram2dcontour"
           }
          ],
          "mesh3d": [
           {
            "colorbar": {
             "outlinewidth": 0,
             "ticks": ""
            },
            "type": "mesh3d"
           }
          ],
          "parcoords": [
           {
            "line": {
             "colorbar": {
              "outlinewidth": 0,
              "ticks": ""
             }
            },
            "type": "parcoords"
           }
          ],
          "pie": [
           {
            "automargin": true,
            "type": "pie"
           }
          ],
          "scatter": [
           {
            "fillpattern": {
             "fillmode": "overlay",
             "size": 10,
             "solidity": 0.2
            },
            "type": "scatter"
           }
          ],
          "scatter3d": [
           {
            "line": {
             "colorbar": {
              "outlinewidth": 0,
              "ticks": ""
             }
            },
            "marker": {
             "colorbar": {
              "outlinewidth": 0,
              "ticks": ""
             }
            },
            "type": "scatter3d"
           }
          ],
          "scattercarpet": [
           {
            "marker": {
             "colorbar": {
              "outlinewidth": 0,
              "ticks": ""
             }
            },
            "type": "scattercarpet"
           }
          ],
          "scattergeo": [
           {
            "marker": {
             "colorbar": {
              "outlinewidth": 0,
              "ticks": ""
             }
            },
            "type": "scattergeo"
           }
          ],
          "scattergl": [
           {
            "marker": {
             "colorbar": {
              "outlinewidth": 0,
              "ticks": ""
             }
            },
            "type": "scattergl"
           }
          ],
          "scattermapbox": [
           {
            "marker": {
             "colorbar": {
              "outlinewidth": 0,
              "ticks": ""
             }
            },
            "type": "scattermapbox"
           }
          ],
          "scatterpolar": [
           {
            "marker": {
             "colorbar": {
              "outlinewidth": 0,
              "ticks": ""
             }
            },
            "type": "scatterpolar"
           }
          ],
          "scatterpolargl": [
           {
            "marker": {
             "colorbar": {
              "outlinewidth": 0,
              "ticks": ""
             }
            },
            "type": "scatterpolargl"
           }
          ],
          "scatterternary": [
           {
            "marker": {
             "colorbar": {
              "outlinewidth": 0,
              "ticks": ""
             }
            },
            "type": "scatterternary"
           }
          ],
          "surface": [
           {
            "colorbar": {
             "outlinewidth": 0,
             "ticks": ""
            },
            "colorscale": [
             [
              0,
              "#0d0887"
             ],
             [
              0.1111111111111111,
              "#46039f"
             ],
             [
              0.2222222222222222,
              "#7201a8"
             ],
             [
              0.3333333333333333,
              "#9c179e"
             ],
             [
              0.4444444444444444,
              "#bd3786"
             ],
             [
              0.5555555555555556,
              "#d8576b"
             ],
             [
              0.6666666666666666,
              "#ed7953"
             ],
             [
              0.7777777777777778,
              "#fb9f3a"
             ],
             [
              0.8888888888888888,
              "#fdca26"
             ],
             [
              1,
              "#f0f921"
             ]
            ],
            "type": "surface"
           }
          ],
          "table": [
           {
            "cells": {
             "fill": {
              "color": "#EBF0F8"
             },
             "line": {
              "color": "white"
             }
            },
            "header": {
             "fill": {
              "color": "#C8D4E3"
             },
             "line": {
              "color": "white"
             }
            },
            "type": "table"
           }
          ]
         },
         "layout": {
          "annotationdefaults": {
           "arrowcolor": "#2a3f5f",
           "arrowhead": 0,
           "arrowwidth": 1
          },
          "autotypenumbers": "strict",
          "coloraxis": {
           "colorbar": {
            "outlinewidth": 0,
            "ticks": ""
           }
          },
          "colorscale": {
           "diverging": [
            [
             0,
             "#8e0152"
            ],
            [
             0.1,
             "#c51b7d"
            ],
            [
             0.2,
             "#de77ae"
            ],
            [
             0.3,
             "#f1b6da"
            ],
            [
             0.4,
             "#fde0ef"
            ],
            [
             0.5,
             "#f7f7f7"
            ],
            [
             0.6,
             "#e6f5d0"
            ],
            [
             0.7,
             "#b8e186"
            ],
            [
             0.8,
             "#7fbc41"
            ],
            [
             0.9,
             "#4d9221"
            ],
            [
             1,
             "#276419"
            ]
           ],
           "sequential": [
            [
             0,
             "#0d0887"
            ],
            [
             0.1111111111111111,
             "#46039f"
            ],
            [
             0.2222222222222222,
             "#7201a8"
            ],
            [
             0.3333333333333333,
             "#9c179e"
            ],
            [
             0.4444444444444444,
             "#bd3786"
            ],
            [
             0.5555555555555556,
             "#d8576b"
            ],
            [
             0.6666666666666666,
             "#ed7953"
            ],
            [
             0.7777777777777778,
             "#fb9f3a"
            ],
            [
             0.8888888888888888,
             "#fdca26"
            ],
            [
             1,
             "#f0f921"
            ]
           ],
           "sequentialminus": [
            [
             0,
             "#0d0887"
            ],
            [
             0.1111111111111111,
             "#46039f"
            ],
            [
             0.2222222222222222,
             "#7201a8"
            ],
            [
             0.3333333333333333,
             "#9c179e"
            ],
            [
             0.4444444444444444,
             "#bd3786"
            ],
            [
             0.5555555555555556,
             "#d8576b"
            ],
            [
             0.6666666666666666,
             "#ed7953"
            ],
            [
             0.7777777777777778,
             "#fb9f3a"
            ],
            [
             0.8888888888888888,
             "#fdca26"
            ],
            [
             1,
             "#f0f921"
            ]
           ]
          },
          "colorway": [
           "#636efa",
           "#EF553B",
           "#00cc96",
           "#ab63fa",
           "#FFA15A",
           "#19d3f3",
           "#FF6692",
           "#B6E880",
           "#FF97FF",
           "#FECB52"
          ],
          "font": {
           "color": "#2a3f5f"
          },
          "geo": {
           "bgcolor": "white",
           "lakecolor": "white",
           "landcolor": "#E5ECF6",
           "showlakes": true,
           "showland": true,
           "subunitcolor": "white"
          },
          "hoverlabel": {
           "align": "left"
          },
          "hovermode": "closest",
          "mapbox": {
           "style": "light"
          },
          "paper_bgcolor": "white",
          "plot_bgcolor": "#E5ECF6",
          "polar": {
           "angularaxis": {
            "gridcolor": "white",
            "linecolor": "white",
            "ticks": ""
           },
           "bgcolor": "#E5ECF6",
           "radialaxis": {
            "gridcolor": "white",
            "linecolor": "white",
            "ticks": ""
           }
          },
          "scene": {
           "xaxis": {
            "backgroundcolor": "#E5ECF6",
            "gridcolor": "white",
            "gridwidth": 2,
            "linecolor": "white",
            "showbackground": true,
            "ticks": "",
            "zerolinecolor": "white"
           },
           "yaxis": {
            "backgroundcolor": "#E5ECF6",
            "gridcolor": "white",
            "gridwidth": 2,
            "linecolor": "white",
            "showbackground": true,
            "ticks": "",
            "zerolinecolor": "white"
           },
           "zaxis": {
            "backgroundcolor": "#E5ECF6",
            "gridcolor": "white",
            "gridwidth": 2,
            "linecolor": "white",
            "showbackground": true,
            "ticks": "",
            "zerolinecolor": "white"
           }
          },
          "shapedefaults": {
           "line": {
            "color": "#2a3f5f"
           }
          },
          "ternary": {
           "aaxis": {
            "gridcolor": "white",
            "linecolor": "white",
            "ticks": ""
           },
           "baxis": {
            "gridcolor": "white",
            "linecolor": "white",
            "ticks": ""
           },
           "bgcolor": "#E5ECF6",
           "caxis": {
            "gridcolor": "white",
            "linecolor": "white",
            "ticks": ""
           }
          },
          "title": {
           "x": 0.05
          },
          "xaxis": {
           "automargin": true,
           "gridcolor": "white",
           "linecolor": "white",
           "ticks": "",
           "title": {
            "standoff": 15
           },
           "zerolinecolor": "white",
           "zerolinewidth": 2
          },
          "yaxis": {
           "automargin": true,
           "gridcolor": "white",
           "linecolor": "white",
           "ticks": "",
           "title": {
            "standoff": 15
           },
           "zerolinecolor": "white",
           "zerolinewidth": 2
          }
         }
        },
        "xaxis": {
         "anchor": "y",
         "domain": [
          0,
          1
         ],
         "title": {
          "text": "Bootstrapped Means"
         }
        },
        "yaxis": {
         "anchor": "x",
         "domain": [
          0,
          1
         ],
         "title": {
          "text": "probability density"
         }
        }
       }
      },
      "text/html": [
       "<div>                            <div id=\"9bfca5ab-9efb-4bf6-af8b-680e72346da5\" class=\"plotly-graph-div\" style=\"height:525px; width:100%;\"></div>            <script type=\"text/javascript\">                require([\"plotly\"], function(Plotly) {                    window.PLOTLYENV=window.PLOTLYENV || {};                                    if (document.getElementById(\"9bfca5ab-9efb-4bf6-af8b-680e72346da5\")) {                    Plotly.newPlot(                        \"9bfca5ab-9efb-4bf6-af8b-680e72346da5\",                        [{\"alignmentgroup\":\"True\",\"bingroup\":\"x\",\"histnorm\":\"probability density\",\"hovertemplate\":\"Bootstrapped Means=%{x}\\u003cbr\\u003eprobability density=%{y}\\u003cextra\\u003e\\u003c\\u002fextra\\u003e\",\"legendgroup\":\"\",\"marker\":{\"color\":\"#636efa\",\"pattern\":{\"shape\":\"\"}},\"name\":\"\",\"nbinsx\":10,\"offsetgroup\":\"\",\"orientation\":\"v\",\"showlegend\":false,\"x\":[1063.895,1038.385,1120.82,1049.2649999999999,1079.7350000000001,1126.06,1026.7549999999999,1053.0949999999998,1036.9099999999999,1035.885,1069.375,1078.03,1010.12,1034.435,1062.8400000000001,1034.435,1046.96,956.89,1119.2150000000001,1042.72,1053.0949999999998,1088.6550000000002,1070.96,1070.96,1099.38,1049.2649999999999,988.5350000000001,1053.6999999999998,1097.75,1042.72,1023.8499999999999,1088.6550000000002,1110.62,1053.355,1092.9099999999999,1062.595,992.36,1078.03,1052.75,1049.2649999999999,1097.525,1057.185,1013.06,1009.495,1024.4099999999999,1043.5500000000002,1085.22,1026.7549999999999,990.915,1053.0949999999998,1043.1750000000002,984.4300000000001,1046.96,1138.2150000000001,1046.81,1014.4549999999999,961.87,977.79,1035.29,1042.5700000000002,1097.525,1078.03,1092.9099999999999,1024.4099999999999,1042.72,1094.56,1063.1,1090.58,992.835,1043.5500000000002,1010.12,985.965,1103.395,991.8,1045.68,1059.795,1043.5500000000002,1042.72,1050.6399999999999,1097.73,1099.1550000000002,1059.5349999999999,1114.6350000000002,1114.6350000000002,1100.535,1060.5900000000001,1130.4,1049.2649999999999,1122.9099999999999,1110.9,1065.9850000000001,1047.155,1148.2649999999999,1012.4300000000001,1074.6399999999999,1098.7600000000002,1126.85,1106.605,1013.3,1087.815,1039.42,992.835,1046.96,989.1800000000001,1011.565,1084.305,1025.135,1090.58,1049.2649999999999,1057.185,1042.5700000000002,1063.895,1062.335,1151.8600000000001,1052.225,1096.495,1042.1950000000002,1119.2150000000001,1043.5500000000002,1014.4549999999999,1044.85,973.04,1112.1550000000002,1042.72,1089.5700000000002,1079.7350000000001,1025.135,1049.2649999999999,1036.9099999999999,1036.0549999999998,1068.0749999999998,1151.8600000000001,1044.65,1053.0949999999998,1080.625,1042.5700000000002,1040.065,1044.305,1090.58,1046.96,1047.3049999999998,1080.625,1057.185,1130.4,1026.585,1060.5900000000001,1038.2150000000001,1117.4,1060.49,1059.5349999999999,1059.5349999999999,1035.885,1092.9099999999999,1030.565,1041.04,1042.5700000000002,1035.885,1014.31,1010.3599999999999,1013.825,1119.005,1097.525,1004.905,1009.495,1089.74,992.835,1047.3049999999998,1087.815,1084.305,983.99,975.22,1097.525,991.9200000000001,1069.375,1121.6100000000001,1025.135,1014.55,1063.895,1046.96,1084.305,1025.73,961.87,992.36,1090.58,1119.795,1040.8899999999999,1057.185,1053.1399999999999,1059.5349999999999,1065.9850000000001,1002.4549999999999,1092.74,1059.9850000000001,1126.06,961.87,1117.75,1038.5900000000001,1085.22,993.0350000000001,1000.62,1049.2649999999999,1042.5700000000002,1085.22,1059.19,992.36,1114.355,1110.9,1013.825,1130.4,1048.135,948.495,1013.06,1035.885,998.53,1060.49,1040.87,941.6800000000001,1106.75,1096.1,991.8,1084.305,1001.59,1003.12,1042.1950000000002,998.53,1025.73,1055.445,992.715,1042.5700000000002,1004.905,1087.815,1024.4099999999999,1063.1,1084.305,1065.9850000000001,1062.595,961.78,1084.305,1045.83,1035.885,1011.8050000000001,1045.68,1014.55,1006.35,1059.19,1126.85,991.8,1049.2649999999999,1093.94,1097.75,1063.895,1100.535,1074.6399999999999,1206.445,1060.5900000000001,1098.7600000000002,988.2950000000001,1025.135,1038.76,1100.535,1042.5700000000002,1037.3600000000001,1053.0949999999998,1053.355,1003.12,1098.145,1061.54,1092.9099999999999,994.4449999999999,1065.48,1091.9,1025.135,1006.35,1089.74,1113.1,1025.135,1065.9850000000001,1110.62,943.7049999999999,1078.03,1044.85,1120.82,1043.5500000000002,1057.185,1044.85,1006.35,1099.525,1040.065,1087.815,1004.905,1084.305,1035.46,1040.065,994.245,1110.62,1071.495,1047.155,1114.6350000000002,1037.7350000000001,1084.305,1099.38,1025.135,1025.73,1064.685,941.6800000000001,1040.065,1006.35,1097.525,1061.54,1099.38,1014.31,1062.335,1012.4300000000001,1063.895,1063.895,997.475,1045.83,1097.525,1053.6999999999998,1048.51,993.0350000000001,1092.74,1069.375,1049.2649999999999,991.8,1042.5700000000002,1195.56,1061.54,1089.5700000000002,1106.75,1013.825,1053.0949999999998,1114.355,1094.3899999999999,1000.8199999999999,983.99,1057.185,968.06,992.835,1090.58,1007.2149999999999,1099.525,1119.2150000000001,1074.6399999999999,1024.4099999999999,1042.345,1122.9099999999999,1042.345,1047.79,1116.145,1080.88,1119.2150000000001,1042.345,1042.5700000000002,1098.145,993.77,1106.605,1006.975,1006.35,1074.6399999999999,1014.4549999999999,1099.525,1080.625,1036.9099999999999,1047.79,1078.03,1009.495,1114.6350000000002,1025.135,953.155,988.5350000000001,984.4300000000001,1092.93,1014.4549999999999,1049.2649999999999,988.5350000000001,1053.0949999999998,1089.5700000000002,1053.6999999999998,988.2950000000001,1057.185,1035.885,1052.75,1040.8899999999999,1059.5349999999999,950.3199999999999,1097.525,1143.065,1092.74,988.5350000000001,1061.54,1027.335,1002.8900000000001,1087.815,1063.1,1048.135,1025.8600000000001,1100.535,954.62,1013.3,1062.595,994.245,1035.885,1065.9850000000001,1013.3,1078.03,1096.495,1100.535,1109.795,1070.96,1061.54,1003.12,1012.4300000000001,1096.1,1042.345,991.8,1070.96,1047.79,1053.6999999999998,997.675,1025.135,1028.06,993.3900000000001,1089.74,1085.22,990.715,1057.185,1092.74,1062.0749999999998,1003.12,1180.995,1077.4050000000002,1063.1,1040.065,1081.54,1156.4450000000002,1042.345,942.92,1059.5349999999999,1093.94,1207.23,1011.565,1013.06,1048.135,1036.9099999999999,1119.2150000000001,943.825,994.4449999999999,964.05,1074.0900000000001,1013.06,1023.885,1062.335,1047.79,991.8,1097.75,1061.54,1115.865,1084.305,1013.3,1034.435,1097.75,1070.96,1099.38,1014.4549999999999,961.4200000000001,990.475,1042.5700000000002,1077.4050000000002,1006.975,1135.1999999999998,1092.015,1106.75,1037.3600000000001,1011.8050000000001,1087.815,1034.435,1034.435,1092.015,1026.585,1058.9299999999998,990.715,990.715,1013.06,1100.535,1034.435,1040.8899999999999,1051.395,1055.705,1055.445,1060.5900000000001,1061.54,1046.96,1038.76,1098.145,1036.9099999999999,1046.96,1087.815,1064.425,1094.3899999999999,1049.2649999999999,1015.7049999999999,1126.06,1057.185,1012.4300000000001,1097.75,989.62,1057.185,1015.7049999999999,1036.7649999999999,1009.495,1025.135,1038.2150000000001,1013.3,1047.79,993.3900000000001,987.855,1061.54,1091.9,989.1800000000001,1090.58,1025.005,1035.885,1014.4549999999999,1146.08,1036.7649999999999,1061.54,1025.135,1026.585,1035.46,1114.6350000000002,1063.895,1014.4549999999999,1046.81,941.6800000000001,1042.1950000000002,1092.74,1087.815,1025.73,1025.005,1037.3600000000001,1146.08,1026.585,1117.705,993.3900000000001,1081.54,1131.205,1049.2649999999999,1096.495,1053.6999999999998,1064.425,1034.435,1045.68,1093.94,990.715,1117.705,1156.045,1047.79,989.83,1035.885,1049.2649999999999,1092.74,998.53,1030.565,1049.2649999999999,1013.06,1061.54,1050.6399999999999,1059.5349999999999,1092.015,1043.5500000000002,1062.595,1098.145,1131.605,1051.395,1104.5500000000002,1097.525,1078.03,1120.82,1042.5700000000002,1047.3049999999998,1001.675,954.62,1034.435,1092.9099999999999,1040.0149999999999,1089.74,1086.06,1042.1950000000002,1014.4549999999999,992.36,1140.4,1041.87,1070.96,1013.3,1044.85,1131.205,1004.905,1141.935,1130.4,1099.38,1071.755,1113.1,1110.9,1044.85,1097.525,1126.46,1088.825,1011.8050000000001,1011.565,1013.3,1114.355,1099.3000000000002,1051.62,1014.4549999999999,1015.7049999999999,1013.3,1059.795,1035.46,1015.18,1087.815,992.835,1136.005,1042.5700000000002,1046.96,1089.815,1048.135,1070.96,1025.135,1136.005,1104.5500000000002,992.36,1014.4549999999999,1096.495,1049.2649999999999,1098.145,1099.585,1004.905,1045.83,1113.1,1110.62,992.715,1096.1,1036.9099999999999,1084.305,956.89,1089.5700000000002,1025.135,1074.6399999999999,1062.595,1076.06,997.475,1012.4300000000001,1025.005,993.3900000000001,966.4000000000001,1097.525,1110.62,1043.5500000000002,966.4000000000001,1094.335,991.9200000000001,1156.4450000000002,1072.5500000000002,1040.065,1106.605,1143.065,1035.885,1086.23,1080.625,1053.355,1156.4450000000002,1087.815,964.05,1061.54,1011.8050000000001,1038.2150000000001,1042.72,1098.145,1063.1,1078.15,1084.305,1023.2549999999999,1089.74,1087.815,1053.0949999999998,1040.065,1040.065,1044.85,1042.5700000000002,1011.565,990.715,1122.9099999999999,1013.825,1014.55,1044.85,1126.06,1065.9850000000001,1063.895,1098.145,1046.96,954.62,1059.5349999999999,1089.74,997.675,1025.135,1126.85,1005.01,1114.355,1088.825,1012.4300000000001,1065.48,1113.1,959.24,1065.9850000000001,986.56,993.0350000000001,1069.375,1042.72,1013.585,994.245,1059.5349999999999,1036.9099999999999,1134.8,983.99,1057.185,1036.0549999999998,1044.85,1148.995,1036.0549999999998,993.0350000000001,1044.85,1096.1,957.25,1025.135,1057.185,1053.0949999999998,1025.135,1050.79,1061.54,1059.5349999999999,1098.145,1147.815,1012.4300000000001,1052.75,1065.48,1062.595,1069.375,1063.1,1009.495,1042.5700000000002,1036.9099999999999,1110.62,1086.23,1053.6999999999998,1060.5900000000001,992.915,1013.06,1050.79,1038.385,1001.7750000000001,1093.94,1094.56,985.725,992.36,1024.4099999999999,1012.4300000000001,1120.5149999999999,990.475,1038.2150000000001,994.4449999999999,1028.06,1010.12,1113.1,1078.03,1062.595,1074.6399999999999,988.5350000000001,1099.1550000000002,992.36,1012.4300000000001,1053.6999999999998,1012.96,992.835,1011.565,1078.03,993.89,1042.5700000000002,1059.5349999999999,1036.9099999999999,1013.06,1063.895,1100.535,1106.75,1013.585,1092.9099999999999,1124.455,1053.0949999999998,950.6800000000001,1038.385,1103.17,1043.1750000000002,992.835,1059.795,1084.305,1025.73,1090.58,957.25,1042.1950000000002,1065.48,1044.85,1143.065,1052.75,994.245,1046.96,1048.135,1077.0700000000002,1114.6350000000002,1062.335,1131.605,1038.76,953.155,1057.185,1068.87,943.7049999999999,1080.625,1049.2649999999999,1065.9850000000001,1035.29,1100.535,1053.6999999999998,1063.895,1094.56,993.89,1100.535,1065.9850000000001,1126.85,1104.5500000000002,1070.96,1099.38,1042.72,1038.2150000000001,1012.4300000000001,1059.5349999999999,1063.895,1081.54,1041.04,1086.06,1084.305,1052.75,991.9200000000001,1099.585,1089.5700000000002,1038.2150000000001,1063.1,998.53,1100.535,1015.7049999999999,977.79,1104.4050000000002,1098.7600000000002,1014.4549999999999,1015.7049999999999,1038.76,992.36,943.7049999999999,1038.385,959.24,1045.83,1015.7049999999999,1084.305,1053.6999999999998,1034.435,1038.2150000000001,994.4449999999999,1089.5700000000002,1001.675,998.53,1010.3599999999999,1062.595,1047.3049999999998,997.675,953.155,1097.525,1042.5700000000002,1009.495,1014.4549999999999,1014.55,1047.79,1047.79,933.24,1060.49,1089.5700000000002,1086.06,1137.815,989.1800000000001,1062.595,943.7049999999999,1068.87,1106.8850000000002,1089.5700000000002,1096.1,1059.5349999999999,1011.565,1041.04,1159.45,990.475,1057.185,1062.6799999999998,992.36,1042.5700000000002,1062.8400000000001,1035.46,1040.8899999999999,992.835,1065.48,1015.7049999999999,1038.76,1139.02,1015.7049999999999,1070.96,1040.065,1011.8050000000001,1035.885,1038.385,1042.72,1054.23,1013.3,990.475,1096.7199999999998,1025.8600000000001,1025.135,1117.4,1053.6999999999998,1120.82,1088.6550000000002,1040.065,946.0899999999999,1097.525,1036.9099999999999,1121.6100000000001,1093.77,1099.3000000000002,1130.4,1077.2350000000001,1011.565,1094.335,1059.19,1099.38,1003.745,1059.5349999999999,1023.2549999999999,1075.65,1053.355,992.835,1011.8050000000001,1059.5349999999999,1038.385,1013.825,1096.495,1011.8050000000001,1038.2150000000001,1044.68,1052.75,1053.0949999999998,1093.94,1059.9850000000001,1040.8899999999999,1058.245,1038.76,1059.5349999999999,1044.305,1098.9050000000002,1052.225,1093.77,1057.185,1011.8050000000001,1043.1750000000002,1025.005,1126.85,1000.62,994.4449999999999,1081.54,1057.185,1090.58,1065.48,1035.29,1045.83,1063.895,1059.19,1012.4300000000001,1049.2649999999999,1042.5700000000002,1053.0949999999998,1059.795,1049.2649999999999,1124.76,1014.4549999999999,1106.605,1063.1],\"xaxis\":\"x\",\"yaxis\":\"y\",\"type\":\"histogram\"}],                        {\"template\":{\"data\":{\"histogram2dcontour\":[{\"type\":\"histogram2dcontour\",\"colorbar\":{\"outlinewidth\":0,\"ticks\":\"\"},\"colorscale\":[[0.0,\"#0d0887\"],[0.1111111111111111,\"#46039f\"],[0.2222222222222222,\"#7201a8\"],[0.3333333333333333,\"#9c179e\"],[0.4444444444444444,\"#bd3786\"],[0.5555555555555556,\"#d8576b\"],[0.6666666666666666,\"#ed7953\"],[0.7777777777777778,\"#fb9f3a\"],[0.8888888888888888,\"#fdca26\"],[1.0,\"#f0f921\"]]}],\"choropleth\":[{\"type\":\"choropleth\",\"colorbar\":{\"outlinewidth\":0,\"ticks\":\"\"}}],\"histogram2d\":[{\"type\":\"histogram2d\",\"colorbar\":{\"outlinewidth\":0,\"ticks\":\"\"},\"colorscale\":[[0.0,\"#0d0887\"],[0.1111111111111111,\"#46039f\"],[0.2222222222222222,\"#7201a8\"],[0.3333333333333333,\"#9c179e\"],[0.4444444444444444,\"#bd3786\"],[0.5555555555555556,\"#d8576b\"],[0.6666666666666666,\"#ed7953\"],[0.7777777777777778,\"#fb9f3a\"],[0.8888888888888888,\"#fdca26\"],[1.0,\"#f0f921\"]]}],\"heatmap\":[{\"type\":\"heatmap\",\"colorbar\":{\"outlinewidth\":0,\"ticks\":\"\"},\"colorscale\":[[0.0,\"#0d0887\"],[0.1111111111111111,\"#46039f\"],[0.2222222222222222,\"#7201a8\"],[0.3333333333333333,\"#9c179e\"],[0.4444444444444444,\"#bd3786\"],[0.5555555555555556,\"#d8576b\"],[0.6666666666666666,\"#ed7953\"],[0.7777777777777778,\"#fb9f3a\"],[0.8888888888888888,\"#fdca26\"],[1.0,\"#f0f921\"]]}],\"heatmapgl\":[{\"type\":\"heatmapgl\",\"colorbar\":{\"outlinewidth\":0,\"ticks\":\"\"},\"colorscale\":[[0.0,\"#0d0887\"],[0.1111111111111111,\"#46039f\"],[0.2222222222222222,\"#7201a8\"],[0.3333333333333333,\"#9c179e\"],[0.4444444444444444,\"#bd3786\"],[0.5555555555555556,\"#d8576b\"],[0.6666666666666666,\"#ed7953\"],[0.7777777777777778,\"#fb9f3a\"],[0.8888888888888888,\"#fdca26\"],[1.0,\"#f0f921\"]]}],\"contourcarpet\":[{\"type\":\"contourcarpet\",\"colorbar\":{\"outlinewidth\":0,\"ticks\":\"\"}}],\"contour\":[{\"type\":\"contour\",\"colorbar\":{\"outlinewidth\":0,\"ticks\":\"\"},\"colorscale\":[[0.0,\"#0d0887\"],[0.1111111111111111,\"#46039f\"],[0.2222222222222222,\"#7201a8\"],[0.3333333333333333,\"#9c179e\"],[0.4444444444444444,\"#bd3786\"],[0.5555555555555556,\"#d8576b\"],[0.6666666666666666,\"#ed7953\"],[0.7777777777777778,\"#fb9f3a\"],[0.8888888888888888,\"#fdca26\"],[1.0,\"#f0f921\"]]}],\"surface\":[{\"type\":\"surface\",\"colorbar\":{\"outlinewidth\":0,\"ticks\":\"\"},\"colorscale\":[[0.0,\"#0d0887\"],[0.1111111111111111,\"#46039f\"],[0.2222222222222222,\"#7201a8\"],[0.3333333333333333,\"#9c179e\"],[0.4444444444444444,\"#bd3786\"],[0.5555555555555556,\"#d8576b\"],[0.6666666666666666,\"#ed7953\"],[0.7777777777777778,\"#fb9f3a\"],[0.8888888888888888,\"#fdca26\"],[1.0,\"#f0f921\"]]}],\"mesh3d\":[{\"type\":\"mesh3d\",\"colorbar\":{\"outlinewidth\":0,\"ticks\":\"\"}}],\"scatter\":[{\"fillpattern\":{\"fillmode\":\"overlay\",\"size\":10,\"solidity\":0.2},\"type\":\"scatter\"}],\"parcoords\":[{\"type\":\"parcoords\",\"line\":{\"colorbar\":{\"outlinewidth\":0,\"ticks\":\"\"}}}],\"scatterpolargl\":[{\"type\":\"scatterpolargl\",\"marker\":{\"colorbar\":{\"outlinewidth\":0,\"ticks\":\"\"}}}],\"bar\":[{\"error_x\":{\"color\":\"#2a3f5f\"},\"error_y\":{\"color\":\"#2a3f5f\"},\"marker\":{\"line\":{\"color\":\"#E5ECF6\",\"width\":0.5},\"pattern\":{\"fillmode\":\"overlay\",\"size\":10,\"solidity\":0.2}},\"type\":\"bar\"}],\"scattergeo\":[{\"type\":\"scattergeo\",\"marker\":{\"colorbar\":{\"outlinewidth\":0,\"ticks\":\"\"}}}],\"scatterpolar\":[{\"type\":\"scatterpolar\",\"marker\":{\"colorbar\":{\"outlinewidth\":0,\"ticks\":\"\"}}}],\"histogram\":[{\"marker\":{\"pattern\":{\"fillmode\":\"overlay\",\"size\":10,\"solidity\":0.2}},\"type\":\"histogram\"}],\"scattergl\":[{\"type\":\"scattergl\",\"marker\":{\"colorbar\":{\"outlinewidth\":0,\"ticks\":\"\"}}}],\"scatter3d\":[{\"type\":\"scatter3d\",\"line\":{\"colorbar\":{\"outlinewidth\":0,\"ticks\":\"\"}},\"marker\":{\"colorbar\":{\"outlinewidth\":0,\"ticks\":\"\"}}}],\"scattermapbox\":[{\"type\":\"scattermapbox\",\"marker\":{\"colorbar\":{\"outlinewidth\":0,\"ticks\":\"\"}}}],\"scatterternary\":[{\"type\":\"scatterternary\",\"marker\":{\"colorbar\":{\"outlinewidth\":0,\"ticks\":\"\"}}}],\"scattercarpet\":[{\"type\":\"scattercarpet\",\"marker\":{\"colorbar\":{\"outlinewidth\":0,\"ticks\":\"\"}}}],\"carpet\":[{\"aaxis\":{\"endlinecolor\":\"#2a3f5f\",\"gridcolor\":\"white\",\"linecolor\":\"white\",\"minorgridcolor\":\"white\",\"startlinecolor\":\"#2a3f5f\"},\"baxis\":{\"endlinecolor\":\"#2a3f5f\",\"gridcolor\":\"white\",\"linecolor\":\"white\",\"minorgridcolor\":\"white\",\"startlinecolor\":\"#2a3f5f\"},\"type\":\"carpet\"}],\"table\":[{\"cells\":{\"fill\":{\"color\":\"#EBF0F8\"},\"line\":{\"color\":\"white\"}},\"header\":{\"fill\":{\"color\":\"#C8D4E3\"},\"line\":{\"color\":\"white\"}},\"type\":\"table\"}],\"barpolar\":[{\"marker\":{\"line\":{\"color\":\"#E5ECF6\",\"width\":0.5},\"pattern\":{\"fillmode\":\"overlay\",\"size\":10,\"solidity\":0.2}},\"type\":\"barpolar\"}],\"pie\":[{\"automargin\":true,\"type\":\"pie\"}]},\"layout\":{\"autotypenumbers\":\"strict\",\"colorway\":[\"#636efa\",\"#EF553B\",\"#00cc96\",\"#ab63fa\",\"#FFA15A\",\"#19d3f3\",\"#FF6692\",\"#B6E880\",\"#FF97FF\",\"#FECB52\"],\"font\":{\"color\":\"#2a3f5f\"},\"hovermode\":\"closest\",\"hoverlabel\":{\"align\":\"left\"},\"paper_bgcolor\":\"white\",\"plot_bgcolor\":\"#E5ECF6\",\"polar\":{\"bgcolor\":\"#E5ECF6\",\"angularaxis\":{\"gridcolor\":\"white\",\"linecolor\":\"white\",\"ticks\":\"\"},\"radialaxis\":{\"gridcolor\":\"white\",\"linecolor\":\"white\",\"ticks\":\"\"}},\"ternary\":{\"bgcolor\":\"#E5ECF6\",\"aaxis\":{\"gridcolor\":\"white\",\"linecolor\":\"white\",\"ticks\":\"\"},\"baxis\":{\"gridcolor\":\"white\",\"linecolor\":\"white\",\"ticks\":\"\"},\"caxis\":{\"gridcolor\":\"white\",\"linecolor\":\"white\",\"ticks\":\"\"}},\"coloraxis\":{\"colorbar\":{\"outlinewidth\":0,\"ticks\":\"\"}},\"colorscale\":{\"sequential\":[[0.0,\"#0d0887\"],[0.1111111111111111,\"#46039f\"],[0.2222222222222222,\"#7201a8\"],[0.3333333333333333,\"#9c179e\"],[0.4444444444444444,\"#bd3786\"],[0.5555555555555556,\"#d8576b\"],[0.6666666666666666,\"#ed7953\"],[0.7777777777777778,\"#fb9f3a\"],[0.8888888888888888,\"#fdca26\"],[1.0,\"#f0f921\"]],\"sequentialminus\":[[0.0,\"#0d0887\"],[0.1111111111111111,\"#46039f\"],[0.2222222222222222,\"#7201a8\"],[0.3333333333333333,\"#9c179e\"],[0.4444444444444444,\"#bd3786\"],[0.5555555555555556,\"#d8576b\"],[0.6666666666666666,\"#ed7953\"],[0.7777777777777778,\"#fb9f3a\"],[0.8888888888888888,\"#fdca26\"],[1.0,\"#f0f921\"]],\"diverging\":[[0,\"#8e0152\"],[0.1,\"#c51b7d\"],[0.2,\"#de77ae\"],[0.3,\"#f1b6da\"],[0.4,\"#fde0ef\"],[0.5,\"#f7f7f7\"],[0.6,\"#e6f5d0\"],[0.7,\"#b8e186\"],[0.8,\"#7fbc41\"],[0.9,\"#4d9221\"],[1,\"#276419\"]]},\"xaxis\":{\"gridcolor\":\"white\",\"linecolor\":\"white\",\"ticks\":\"\",\"title\":{\"standoff\":15},\"zerolinecolor\":\"white\",\"automargin\":true,\"zerolinewidth\":2},\"yaxis\":{\"gridcolor\":\"white\",\"linecolor\":\"white\",\"ticks\":\"\",\"title\":{\"standoff\":15},\"zerolinecolor\":\"white\",\"automargin\":true,\"zerolinewidth\":2},\"scene\":{\"xaxis\":{\"backgroundcolor\":\"#E5ECF6\",\"gridcolor\":\"white\",\"linecolor\":\"white\",\"showbackground\":true,\"ticks\":\"\",\"zerolinecolor\":\"white\",\"gridwidth\":2},\"yaxis\":{\"backgroundcolor\":\"#E5ECF6\",\"gridcolor\":\"white\",\"linecolor\":\"white\",\"showbackground\":true,\"ticks\":\"\",\"zerolinecolor\":\"white\",\"gridwidth\":2},\"zaxis\":{\"backgroundcolor\":\"#E5ECF6\",\"gridcolor\":\"white\",\"linecolor\":\"white\",\"showbackground\":true,\"ticks\":\"\",\"zerolinecolor\":\"white\",\"gridwidth\":2}},\"shapedefaults\":{\"line\":{\"color\":\"#2a3f5f\"}},\"annotationdefaults\":{\"arrowcolor\":\"#2a3f5f\",\"arrowhead\":0,\"arrowwidth\":1},\"geo\":{\"bgcolor\":\"white\",\"landcolor\":\"#E5ECF6\",\"subunitcolor\":\"white\",\"showland\":true,\"showlakes\":true,\"lakecolor\":\"white\"},\"title\":{\"x\":0.05},\"mapbox\":{\"style\":\"light\"}}},\"xaxis\":{\"anchor\":\"y\",\"domain\":[0.0,1.0],\"title\":{\"text\":\"Bootstrapped Means\"}},\"yaxis\":{\"anchor\":\"x\",\"domain\":[0.0,1.0],\"title\":{\"text\":\"probability density\"}},\"legend\":{\"tracegroupgap\":0},\"margin\":{\"t\":60},\"barmode\":\"relative\"},                        {\"responsive\": true}                    ).then(function(){\n",
       "                            \n",
       "var gd = document.getElementById('9bfca5ab-9efb-4bf6-af8b-680e72346da5');\n",
       "var x = new MutationObserver(function (mutations, observer) {{\n",
       "        var display = window.getComputedStyle(gd).display;\n",
       "        if (!display || display === 'none') {{\n",
       "            console.log([gd, 'removed!']);\n",
       "            Plotly.purge(gd);\n",
       "            observer.disconnect();\n",
       "        }}\n",
       "}});\n",
       "\n",
       "// Listen for the removal of the full notebook cells\n",
       "var notebookContainer = gd.closest('#notebook-container');\n",
       "if (notebookContainer) {{\n",
       "    x.observe(notebookContainer, {childList: true});\n",
       "}}\n",
       "\n",
       "// Listen for the clearing of the current output cell\n",
       "var outputEl = gd.closest('.output');\n",
       "if (outputEl) {{\n",
       "    x.observe(outputEl, {childList: true});\n",
       "}}\n",
       "\n",
       "                        })                };                });            </script>        </div>"
      ]
     },
     "metadata": {},
     "output_type": "display_data"
    }
   ],
   "source": [
    "population = pd.read_csv('auto_claims_population.csv')\n",
    "np.random.seed(130) # Use this line to create reproducible pseudorandomness for your bootstrapping\n",
    "\n",
    "sample_size_n = 500\n",
    "number_of_bootstrap_samples = 1000\n",
    "boot_means = []\n",
    "for i in range(number_of_bootstrap_samples):\n",
    "    # `np.random.choice` is an alternative to utilizing `df.sample()` which uses `replace=False` by default\n",
    "    boots_sample = np.random.choice(population['PAID'], sample_size_n, replace=False)\n",
    "    boot_means += [np.median(boots_sample)]\n",
    "\n",
    "fig = px.histogram(pd.DataFrame({\"Bootstrapped Medians\": boot_means}), \n",
    "                   x=\"Bootstrapped Medians\", histnorm='probability density', nbins=10)\n",
    "fig.show()"
   ]
  },
  {
   "cell_type": "code",
   "execution_count": 239,
   "id": "9018b75e",
   "metadata": {},
   "outputs": [
    {
     "data": {
      "text/plain": [
       "array([79, 56, 70, 66, 67, 64, 70, 50, 56, 78, 57, 64, 77, 66, 80, 55, 58,\n",
       "       53, 60, 62])"
      ]
     },
     "execution_count": 239,
     "metadata": {},
     "output_type": "execute_result"
    }
   ],
   "source": []
  },
  {
   "cell_type": "code",
   "execution_count": 287,
   "id": "f9019319",
   "metadata": {},
   "outputs": [
    {
     "data": {
      "text/plain": [
       "63.7141"
      ]
     },
     "execution_count": 287,
     "metadata": {},
     "output_type": "execute_result"
    }
   ],
   "source": []
  },
  {
   "cell_type": "code",
   "execution_count": 288,
   "id": "637fde19",
   "metadata": {},
   "outputs": [],
   "source": []
  },
  {
   "cell_type": "code",
   "execution_count": 289,
   "id": "7cde6b21",
   "metadata": {},
   "outputs": [
    {
     "ename": "AssertionError",
     "evalue": "\n\nOPTIONAL QUESTION: DOES NOT COUNT AGAINST STUDENT\nIncluded as an example answer for feedback purposes only\n\nThe overall mean of sample means can be calculated with `np.mean(bootstrapped_means)` and should give you 63.71.\n\nCODE:\n\nboot_means = []\nfor i in range(1000):\n    boots_sample = np.random.choice(autoclaims_population_csv_asdf['AGE'], 20, replace=False)\n    boot_means += [boots_sample.mean()]\n\nfig = px.histogram(pd.DataFrame({\"Bootstrapped Means\": boot_means}), x=\"Bootstrapped Means\", histnorm='probability density', nbins=12)\nfig.show()\n",
     "output_type": "error",
     "traceback": [
      "\u001b[0;31m---------------------------------------------------------------------------\u001b[0m",
      "\u001b[0;31mAssertionError\u001b[0m                            Traceback (most recent call last)",
      "Cell \u001b[0;32mIn[289], line 2\u001b[0m\n\u001b[1;32m      1\u001b[0m \u001b[38;5;66;03m# test_Q11\u001b[39;00m\n\u001b[0;32m----> 2\u001b[0m \u001b[38;5;28;01massert\u001b[39;00m \u001b[38;5;28;01mFalse\u001b[39;00m, hint\n",
      "\u001b[0;31mAssertionError\u001b[0m: \n\nOPTIONAL QUESTION: DOES NOT COUNT AGAINST STUDENT\nIncluded as an example answer for feedback purposes only\n\nThe overall mean of sample means can be calculated with `np.mean(bootstrapped_means)` and should give you 63.71.\n\nCODE:\n\nboot_means = []\nfor i in range(1000):\n    boots_sample = np.random.choice(autoclaims_population_csv_asdf['AGE'], 20, replace=False)\n    boot_means += [boots_sample.mean()]\n\nfig = px.histogram(pd.DataFrame({\"Bootstrapped Means\": boot_means}), x=\"Bootstrapped Means\", histnorm='probability density', nbins=12)\nfig.show()\n"
     ]
    }
   ],
   "source": [
    "# test_Q11\n",
    "assert False, hint"
   ]
  },
  {
   "cell_type": "markdown",
   "id": "500b4028",
   "metadata": {},
   "source": [
    "### Q12: Now create a single random sample of 20 car insurance claims and store these 20 observations in `ages20`. Create a histogram of the sample, and compute the min, mean, median, max, and standard deviation of the age variable.\n",
    "- Compare your figure and values to the answer given in the ***MarkUs*** output "
   ]
  },
  {
   "cell_type": "code",
   "execution_count": 290,
   "id": "098c8d39",
   "metadata": {},
   "outputs": [
    {
     "data": {
      "text/html": [
       "<div>\n",
       "<style scoped>\n",
       "    .dataframe tbody tr th:only-of-type {\n",
       "        vertical-align: middle;\n",
       "    }\n",
       "\n",
       "    .dataframe tbody tr th {\n",
       "        vertical-align: top;\n",
       "    }\n",
       "\n",
       "    .dataframe thead th {\n",
       "        text-align: right;\n",
       "    }\n",
       "</style>\n",
       "<table border=\"1\" class=\"dataframe\">\n",
       "  <thead>\n",
       "    <tr style=\"text-align: right;\">\n",
       "      <th></th>\n",
       "      <th>STATE</th>\n",
       "      <th>CLASS</th>\n",
       "      <th>GENDER</th>\n",
       "      <th>AGE</th>\n",
       "      <th>PAID</th>\n",
       "    </tr>\n",
       "  </thead>\n",
       "  <tbody>\n",
       "    <tr>\n",
       "      <th>275</th>\n",
       "      <td>STATE 06</td>\n",
       "      <td>C1</td>\n",
       "      <td>M</td>\n",
       "      <td>70</td>\n",
       "      <td>7751.55</td>\n",
       "    </tr>\n",
       "    <tr>\n",
       "      <th>388</th>\n",
       "      <td>STATE 07</td>\n",
       "      <td>C7</td>\n",
       "      <td>F</td>\n",
       "      <td>66</td>\n",
       "      <td>1396.61</td>\n",
       "    </tr>\n",
       "    <tr>\n",
       "      <th>248</th>\n",
       "      <td>STATE 15</td>\n",
       "      <td>C6</td>\n",
       "      <td>F</td>\n",
       "      <td>72</td>\n",
       "      <td>1088.73</td>\n",
       "    </tr>\n",
       "    <tr>\n",
       "      <th>733</th>\n",
       "      <td>STATE 06</td>\n",
       "      <td>C1C</td>\n",
       "      <td>F</td>\n",
       "      <td>54</td>\n",
       "      <td>7275.00</td>\n",
       "    </tr>\n",
       "    <tr>\n",
       "      <th>430</th>\n",
       "      <td>STATE 15</td>\n",
       "      <td>C1</td>\n",
       "      <td>F</td>\n",
       "      <td>65</td>\n",
       "      <td>236.53</td>\n",
       "    </tr>\n",
       "    <tr>\n",
       "      <th>352</th>\n",
       "      <td>STATE 12</td>\n",
       "      <td>C7</td>\n",
       "      <td>M</td>\n",
       "      <td>67</td>\n",
       "      <td>7827.74</td>\n",
       "    </tr>\n",
       "    <tr>\n",
       "      <th>616</th>\n",
       "      <td>STATE 02</td>\n",
       "      <td>C71</td>\n",
       "      <td>F</td>\n",
       "      <td>58</td>\n",
       "      <td>787.49</td>\n",
       "    </tr>\n",
       "    <tr>\n",
       "      <th>541</th>\n",
       "      <td>STATE 15</td>\n",
       "      <td>C1B</td>\n",
       "      <td>M</td>\n",
       "      <td>60</td>\n",
       "      <td>1152.26</td>\n",
       "    </tr>\n",
       "    <tr>\n",
       "      <th>995</th>\n",
       "      <td>STATE 03</td>\n",
       "      <td>C7B</td>\n",
       "      <td>F</td>\n",
       "      <td>50</td>\n",
       "      <td>271.14</td>\n",
       "    </tr>\n",
       "    <tr>\n",
       "      <th>81</th>\n",
       "      <td>STATE 02</td>\n",
       "      <td>C1</td>\n",
       "      <td>M</td>\n",
       "      <td>81</td>\n",
       "      <td>12714.43</td>\n",
       "    </tr>\n",
       "    <tr>\n",
       "      <th>131</th>\n",
       "      <td>STATE 15</td>\n",
       "      <td>C11</td>\n",
       "      <td>M</td>\n",
       "      <td>78</td>\n",
       "      <td>4809.52</td>\n",
       "    </tr>\n",
       "    <tr>\n",
       "      <th>394</th>\n",
       "      <td>STATE 10</td>\n",
       "      <td>C71</td>\n",
       "      <td>M</td>\n",
       "      <td>66</td>\n",
       "      <td>882.77</td>\n",
       "    </tr>\n",
       "    <tr>\n",
       "      <th>969</th>\n",
       "      <td>STATE 10</td>\n",
       "      <td>C71</td>\n",
       "      <td>F</td>\n",
       "      <td>50</td>\n",
       "      <td>1407.91</td>\n",
       "    </tr>\n",
       "    <tr>\n",
       "      <th>946</th>\n",
       "      <td>STATE 10</td>\n",
       "      <td>C11</td>\n",
       "      <td>M</td>\n",
       "      <td>50</td>\n",
       "      <td>5556.29</td>\n",
       "    </tr>\n",
       "    <tr>\n",
       "      <th>519</th>\n",
       "      <td>STATE 01</td>\n",
       "      <td>C71</td>\n",
       "      <td>M</td>\n",
       "      <td>61</td>\n",
       "      <td>500.00</td>\n",
       "    </tr>\n",
       "    <tr>\n",
       "      <th>0</th>\n",
       "      <td>STATE 15</td>\n",
       "      <td>F6</td>\n",
       "      <td>F</td>\n",
       "      <td>95</td>\n",
       "      <td>2384.67</td>\n",
       "    </tr>\n",
       "    <tr>\n",
       "      <th>86</th>\n",
       "      <td>STATE 15</td>\n",
       "      <td>C6</td>\n",
       "      <td>M</td>\n",
       "      <td>81</td>\n",
       "      <td>1539.07</td>\n",
       "    </tr>\n",
       "    <tr>\n",
       "      <th>77</th>\n",
       "      <td>STATE 15</td>\n",
       "      <td>C6</td>\n",
       "      <td>M</td>\n",
       "      <td>82</td>\n",
       "      <td>746.89</td>\n",
       "    </tr>\n",
       "    <tr>\n",
       "      <th>357</th>\n",
       "      <td>STATE 04</td>\n",
       "      <td>C7</td>\n",
       "      <td>F</td>\n",
       "      <td>67</td>\n",
       "      <td>3656.77</td>\n",
       "    </tr>\n",
       "    <tr>\n",
       "      <th>800</th>\n",
       "      <td>STATE 15</td>\n",
       "      <td>C1B</td>\n",
       "      <td>M</td>\n",
       "      <td>53</td>\n",
       "      <td>692.58</td>\n",
       "    </tr>\n",
       "  </tbody>\n",
       "</table>\n",
       "</div>"
      ],
      "text/plain": [
       "        STATE CLASS GENDER  AGE      PAID\n",
       "275  STATE 06   C1       M   70   7751.55\n",
       "388  STATE 07   C7       F   66   1396.61\n",
       "248  STATE 15   C6       F   72   1088.73\n",
       "733  STATE 06   C1C      F   54   7275.00\n",
       "430  STATE 15   C1       F   65    236.53\n",
       "352  STATE 12   C7       M   67   7827.74\n",
       "616  STATE 02   C71      F   58    787.49\n",
       "541  STATE 15   C1B      M   60   1152.26\n",
       "995  STATE 03   C7B      F   50    271.14\n",
       "81   STATE 02   C1       M   81  12714.43\n",
       "131  STATE 15   C11      M   78   4809.52\n",
       "394  STATE 10   C71      M   66    882.77\n",
       "969  STATE 10   C71      F   50   1407.91\n",
       "946  STATE 10   C11      M   50   5556.29\n",
       "519  STATE 01   C71      M   61    500.00\n",
       "0    STATE 15   F6       F   95   2384.67\n",
       "86   STATE 15   C6       M   81   1539.07\n",
       "77   STATE 15   C6       M   82    746.89\n",
       "357  STATE 04   C7       F   67   3656.77\n",
       "800  STATE 15   C1B      M   53    692.58"
      ]
     },
     "execution_count": 290,
     "metadata": {},
     "output_type": "execute_result"
    }
   ],
   "source": [
    "np.random.seed(130) # Do NOT change this line - there is randomness when sampling\n",
    "\n",
    "ages20 = autoclaims_population_csv_asdf.sample(n=20)\n",
    "ages20"
   ]
  },
  {
   "cell_type": "code",
   "execution_count": 291,
   "id": "411deca1",
   "metadata": {},
   "outputs": [
    {
     "data": {
      "application/vnd.plotly.v1+json": {
       "config": {
        "plotlyServerURL": "https://plot.ly"
       },
       "data": [
        {
         "alignmentgroup": "True",
         "bingroup": "x",
         "hovertemplate": "AGE=%{x}<br>count=%{y}<extra></extra>",
         "legendgroup": "",
         "marker": {
          "color": "#636efa",
          "pattern": {
           "shape": ""
          }
         },
         "name": "",
         "offsetgroup": "",
         "orientation": "v",
         "showlegend": false,
         "type": "histogram",
         "x": [
          70,
          66,
          72,
          54,
          65,
          67,
          58,
          60,
          50,
          81,
          78,
          66,
          50,
          50,
          61,
          95,
          81,
          82,
          67,
          53
         ],
         "xaxis": "x",
         "yaxis": "y"
        }
       ],
       "layout": {
        "barmode": "relative",
        "legend": {
         "tracegroupgap": 0
        },
        "margin": {
         "t": 60
        },
        "template": {
         "data": {
          "bar": [
           {
            "error_x": {
             "color": "#2a3f5f"
            },
            "error_y": {
             "color": "#2a3f5f"
            },
            "marker": {
             "line": {
              "color": "#E5ECF6",
              "width": 0.5
             },
             "pattern": {
              "fillmode": "overlay",
              "size": 10,
              "solidity": 0.2
             }
            },
            "type": "bar"
           }
          ],
          "barpolar": [
           {
            "marker": {
             "line": {
              "color": "#E5ECF6",
              "width": 0.5
             },
             "pattern": {
              "fillmode": "overlay",
              "size": 10,
              "solidity": 0.2
             }
            },
            "type": "barpolar"
           }
          ],
          "carpet": [
           {
            "aaxis": {
             "endlinecolor": "#2a3f5f",
             "gridcolor": "white",
             "linecolor": "white",
             "minorgridcolor": "white",
             "startlinecolor": "#2a3f5f"
            },
            "baxis": {
             "endlinecolor": "#2a3f5f",
             "gridcolor": "white",
             "linecolor": "white",
             "minorgridcolor": "white",
             "startlinecolor": "#2a3f5f"
            },
            "type": "carpet"
           }
          ],
          "choropleth": [
           {
            "colorbar": {
             "outlinewidth": 0,
             "ticks": ""
            },
            "type": "choropleth"
           }
          ],
          "contour": [
           {
            "colorbar": {
             "outlinewidth": 0,
             "ticks": ""
            },
            "colorscale": [
             [
              0,
              "#0d0887"
             ],
             [
              0.1111111111111111,
              "#46039f"
             ],
             [
              0.2222222222222222,
              "#7201a8"
             ],
             [
              0.3333333333333333,
              "#9c179e"
             ],
             [
              0.4444444444444444,
              "#bd3786"
             ],
             [
              0.5555555555555556,
              "#d8576b"
             ],
             [
              0.6666666666666666,
              "#ed7953"
             ],
             [
              0.7777777777777778,
              "#fb9f3a"
             ],
             [
              0.8888888888888888,
              "#fdca26"
             ],
             [
              1,
              "#f0f921"
             ]
            ],
            "type": "contour"
           }
          ],
          "contourcarpet": [
           {
            "colorbar": {
             "outlinewidth": 0,
             "ticks": ""
            },
            "type": "contourcarpet"
           }
          ],
          "heatmap": [
           {
            "colorbar": {
             "outlinewidth": 0,
             "ticks": ""
            },
            "colorscale": [
             [
              0,
              "#0d0887"
             ],
             [
              0.1111111111111111,
              "#46039f"
             ],
             [
              0.2222222222222222,
              "#7201a8"
             ],
             [
              0.3333333333333333,
              "#9c179e"
             ],
             [
              0.4444444444444444,
              "#bd3786"
             ],
             [
              0.5555555555555556,
              "#d8576b"
             ],
             [
              0.6666666666666666,
              "#ed7953"
             ],
             [
              0.7777777777777778,
              "#fb9f3a"
             ],
             [
              0.8888888888888888,
              "#fdca26"
             ],
             [
              1,
              "#f0f921"
             ]
            ],
            "type": "heatmap"
           }
          ],
          "heatmapgl": [
           {
            "colorbar": {
             "outlinewidth": 0,
             "ticks": ""
            },
            "colorscale": [
             [
              0,
              "#0d0887"
             ],
             [
              0.1111111111111111,
              "#46039f"
             ],
             [
              0.2222222222222222,
              "#7201a8"
             ],
             [
              0.3333333333333333,
              "#9c179e"
             ],
             [
              0.4444444444444444,
              "#bd3786"
             ],
             [
              0.5555555555555556,
              "#d8576b"
             ],
             [
              0.6666666666666666,
              "#ed7953"
             ],
             [
              0.7777777777777778,
              "#fb9f3a"
             ],
             [
              0.8888888888888888,
              "#fdca26"
             ],
             [
              1,
              "#f0f921"
             ]
            ],
            "type": "heatmapgl"
           }
          ],
          "histogram": [
           {
            "marker": {
             "pattern": {
              "fillmode": "overlay",
              "size": 10,
              "solidity": 0.2
             }
            },
            "type": "histogram"
           }
          ],
          "histogram2d": [
           {
            "colorbar": {
             "outlinewidth": 0,
             "ticks": ""
            },
            "colorscale": [
             [
              0,
              "#0d0887"
             ],
             [
              0.1111111111111111,
              "#46039f"
             ],
             [
              0.2222222222222222,
              "#7201a8"
             ],
             [
              0.3333333333333333,
              "#9c179e"
             ],
             [
              0.4444444444444444,
              "#bd3786"
             ],
             [
              0.5555555555555556,
              "#d8576b"
             ],
             [
              0.6666666666666666,
              "#ed7953"
             ],
             [
              0.7777777777777778,
              "#fb9f3a"
             ],
             [
              0.8888888888888888,
              "#fdca26"
             ],
             [
              1,
              "#f0f921"
             ]
            ],
            "type": "histogram2d"
           }
          ],
          "histogram2dcontour": [
           {
            "colorbar": {
             "outlinewidth": 0,
             "ticks": ""
            },
            "colorscale": [
             [
              0,
              "#0d0887"
             ],
             [
              0.1111111111111111,
              "#46039f"
             ],
             [
              0.2222222222222222,
              "#7201a8"
             ],
             [
              0.3333333333333333,
              "#9c179e"
             ],
             [
              0.4444444444444444,
              "#bd3786"
             ],
             [
              0.5555555555555556,
              "#d8576b"
             ],
             [
              0.6666666666666666,
              "#ed7953"
             ],
             [
              0.7777777777777778,
              "#fb9f3a"
             ],
             [
              0.8888888888888888,
              "#fdca26"
             ],
             [
              1,
              "#f0f921"
             ]
            ],
            "type": "histogram2dcontour"
           }
          ],
          "mesh3d": [
           {
            "colorbar": {
             "outlinewidth": 0,
             "ticks": ""
            },
            "type": "mesh3d"
           }
          ],
          "parcoords": [
           {
            "line": {
             "colorbar": {
              "outlinewidth": 0,
              "ticks": ""
             }
            },
            "type": "parcoords"
           }
          ],
          "pie": [
           {
            "automargin": true,
            "type": "pie"
           }
          ],
          "scatter": [
           {
            "fillpattern": {
             "fillmode": "overlay",
             "size": 10,
             "solidity": 0.2
            },
            "type": "scatter"
           }
          ],
          "scatter3d": [
           {
            "line": {
             "colorbar": {
              "outlinewidth": 0,
              "ticks": ""
             }
            },
            "marker": {
             "colorbar": {
              "outlinewidth": 0,
              "ticks": ""
             }
            },
            "type": "scatter3d"
           }
          ],
          "scattercarpet": [
           {
            "marker": {
             "colorbar": {
              "outlinewidth": 0,
              "ticks": ""
             }
            },
            "type": "scattercarpet"
           }
          ],
          "scattergeo": [
           {
            "marker": {
             "colorbar": {
              "outlinewidth": 0,
              "ticks": ""
             }
            },
            "type": "scattergeo"
           }
          ],
          "scattergl": [
           {
            "marker": {
             "colorbar": {
              "outlinewidth": 0,
              "ticks": ""
             }
            },
            "type": "scattergl"
           }
          ],
          "scattermapbox": [
           {
            "marker": {
             "colorbar": {
              "outlinewidth": 0,
              "ticks": ""
             }
            },
            "type": "scattermapbox"
           }
          ],
          "scatterpolar": [
           {
            "marker": {
             "colorbar": {
              "outlinewidth": 0,
              "ticks": ""
             }
            },
            "type": "scatterpolar"
           }
          ],
          "scatterpolargl": [
           {
            "marker": {
             "colorbar": {
              "outlinewidth": 0,
              "ticks": ""
             }
            },
            "type": "scatterpolargl"
           }
          ],
          "scatterternary": [
           {
            "marker": {
             "colorbar": {
              "outlinewidth": 0,
              "ticks": ""
             }
            },
            "type": "scatterternary"
           }
          ],
          "surface": [
           {
            "colorbar": {
             "outlinewidth": 0,
             "ticks": ""
            },
            "colorscale": [
             [
              0,
              "#0d0887"
             ],
             [
              0.1111111111111111,
              "#46039f"
             ],
             [
              0.2222222222222222,
              "#7201a8"
             ],
             [
              0.3333333333333333,
              "#9c179e"
             ],
             [
              0.4444444444444444,
              "#bd3786"
             ],
             [
              0.5555555555555556,
              "#d8576b"
             ],
             [
              0.6666666666666666,
              "#ed7953"
             ],
             [
              0.7777777777777778,
              "#fb9f3a"
             ],
             [
              0.8888888888888888,
              "#fdca26"
             ],
             [
              1,
              "#f0f921"
             ]
            ],
            "type": "surface"
           }
          ],
          "table": [
           {
            "cells": {
             "fill": {
              "color": "#EBF0F8"
             },
             "line": {
              "color": "white"
             }
            },
            "header": {
             "fill": {
              "color": "#C8D4E3"
             },
             "line": {
              "color": "white"
             }
            },
            "type": "table"
           }
          ]
         },
         "layout": {
          "annotationdefaults": {
           "arrowcolor": "#2a3f5f",
           "arrowhead": 0,
           "arrowwidth": 1
          },
          "autotypenumbers": "strict",
          "coloraxis": {
           "colorbar": {
            "outlinewidth": 0,
            "ticks": ""
           }
          },
          "colorscale": {
           "diverging": [
            [
             0,
             "#8e0152"
            ],
            [
             0.1,
             "#c51b7d"
            ],
            [
             0.2,
             "#de77ae"
            ],
            [
             0.3,
             "#f1b6da"
            ],
            [
             0.4,
             "#fde0ef"
            ],
            [
             0.5,
             "#f7f7f7"
            ],
            [
             0.6,
             "#e6f5d0"
            ],
            [
             0.7,
             "#b8e186"
            ],
            [
             0.8,
             "#7fbc41"
            ],
            [
             0.9,
             "#4d9221"
            ],
            [
             1,
             "#276419"
            ]
           ],
           "sequential": [
            [
             0,
             "#0d0887"
            ],
            [
             0.1111111111111111,
             "#46039f"
            ],
            [
             0.2222222222222222,
             "#7201a8"
            ],
            [
             0.3333333333333333,
             "#9c179e"
            ],
            [
             0.4444444444444444,
             "#bd3786"
            ],
            [
             0.5555555555555556,
             "#d8576b"
            ],
            [
             0.6666666666666666,
             "#ed7953"
            ],
            [
             0.7777777777777778,
             "#fb9f3a"
            ],
            [
             0.8888888888888888,
             "#fdca26"
            ],
            [
             1,
             "#f0f921"
            ]
           ],
           "sequentialminus": [
            [
             0,
             "#0d0887"
            ],
            [
             0.1111111111111111,
             "#46039f"
            ],
            [
             0.2222222222222222,
             "#7201a8"
            ],
            [
             0.3333333333333333,
             "#9c179e"
            ],
            [
             0.4444444444444444,
             "#bd3786"
            ],
            [
             0.5555555555555556,
             "#d8576b"
            ],
            [
             0.6666666666666666,
             "#ed7953"
            ],
            [
             0.7777777777777778,
             "#fb9f3a"
            ],
            [
             0.8888888888888888,
             "#fdca26"
            ],
            [
             1,
             "#f0f921"
            ]
           ]
          },
          "colorway": [
           "#636efa",
           "#EF553B",
           "#00cc96",
           "#ab63fa",
           "#FFA15A",
           "#19d3f3",
           "#FF6692",
           "#B6E880",
           "#FF97FF",
           "#FECB52"
          ],
          "font": {
           "color": "#2a3f5f"
          },
          "geo": {
           "bgcolor": "white",
           "lakecolor": "white",
           "landcolor": "#E5ECF6",
           "showlakes": true,
           "showland": true,
           "subunitcolor": "white"
          },
          "hoverlabel": {
           "align": "left"
          },
          "hovermode": "closest",
          "mapbox": {
           "style": "light"
          },
          "paper_bgcolor": "white",
          "plot_bgcolor": "#E5ECF6",
          "polar": {
           "angularaxis": {
            "gridcolor": "white",
            "linecolor": "white",
            "ticks": ""
           },
           "bgcolor": "#E5ECF6",
           "radialaxis": {
            "gridcolor": "white",
            "linecolor": "white",
            "ticks": ""
           }
          },
          "scene": {
           "xaxis": {
            "backgroundcolor": "#E5ECF6",
            "gridcolor": "white",
            "gridwidth": 2,
            "linecolor": "white",
            "showbackground": true,
            "ticks": "",
            "zerolinecolor": "white"
           },
           "yaxis": {
            "backgroundcolor": "#E5ECF6",
            "gridcolor": "white",
            "gridwidth": 2,
            "linecolor": "white",
            "showbackground": true,
            "ticks": "",
            "zerolinecolor": "white"
           },
           "zaxis": {
            "backgroundcolor": "#E5ECF6",
            "gridcolor": "white",
            "gridwidth": 2,
            "linecolor": "white",
            "showbackground": true,
            "ticks": "",
            "zerolinecolor": "white"
           }
          },
          "shapedefaults": {
           "line": {
            "color": "#2a3f5f"
           }
          },
          "ternary": {
           "aaxis": {
            "gridcolor": "white",
            "linecolor": "white",
            "ticks": ""
           },
           "baxis": {
            "gridcolor": "white",
            "linecolor": "white",
            "ticks": ""
           },
           "bgcolor": "#E5ECF6",
           "caxis": {
            "gridcolor": "white",
            "linecolor": "white",
            "ticks": ""
           }
          },
          "title": {
           "x": 0.05
          },
          "xaxis": {
           "automargin": true,
           "gridcolor": "white",
           "linecolor": "white",
           "ticks": "",
           "title": {
            "standoff": 15
           },
           "zerolinecolor": "white",
           "zerolinewidth": 2
          },
          "yaxis": {
           "automargin": true,
           "gridcolor": "white",
           "linecolor": "white",
           "ticks": "",
           "title": {
            "standoff": 15
           },
           "zerolinecolor": "white",
           "zerolinewidth": 2
          }
         }
        },
        "xaxis": {
         "anchor": "y",
         "domain": [
          0,
          1
         ],
         "title": {
          "text": "AGE"
         }
        },
        "yaxis": {
         "anchor": "x",
         "domain": [
          0,
          1
         ],
         "title": {
          "text": "count"
         }
        }
       }
      },
      "text/html": [
       "<div>                            <div id=\"78cba4a2-56c0-4ed1-92e3-f5c2358fd7b1\" class=\"plotly-graph-div\" style=\"height:525px; width:100%;\"></div>            <script type=\"text/javascript\">                require([\"plotly\"], function(Plotly) {                    window.PLOTLYENV=window.PLOTLYENV || {};                                    if (document.getElementById(\"78cba4a2-56c0-4ed1-92e3-f5c2358fd7b1\")) {                    Plotly.newPlot(                        \"78cba4a2-56c0-4ed1-92e3-f5c2358fd7b1\",                        [{\"alignmentgroup\":\"True\",\"bingroup\":\"x\",\"hovertemplate\":\"AGE=%{x}\\u003cbr\\u003ecount=%{y}\\u003cextra\\u003e\\u003c\\u002fextra\\u003e\",\"legendgroup\":\"\",\"marker\":{\"color\":\"#636efa\",\"pattern\":{\"shape\":\"\"}},\"name\":\"\",\"offsetgroup\":\"\",\"orientation\":\"v\",\"showlegend\":false,\"x\":[70,66,72,54,65,67,58,60,50,81,78,66,50,50,61,95,81,82,67,53],\"xaxis\":\"x\",\"yaxis\":\"y\",\"type\":\"histogram\"}],                        {\"template\":{\"data\":{\"histogram2dcontour\":[{\"type\":\"histogram2dcontour\",\"colorbar\":{\"outlinewidth\":0,\"ticks\":\"\"},\"colorscale\":[[0.0,\"#0d0887\"],[0.1111111111111111,\"#46039f\"],[0.2222222222222222,\"#7201a8\"],[0.3333333333333333,\"#9c179e\"],[0.4444444444444444,\"#bd3786\"],[0.5555555555555556,\"#d8576b\"],[0.6666666666666666,\"#ed7953\"],[0.7777777777777778,\"#fb9f3a\"],[0.8888888888888888,\"#fdca26\"],[1.0,\"#f0f921\"]]}],\"choropleth\":[{\"type\":\"choropleth\",\"colorbar\":{\"outlinewidth\":0,\"ticks\":\"\"}}],\"histogram2d\":[{\"type\":\"histogram2d\",\"colorbar\":{\"outlinewidth\":0,\"ticks\":\"\"},\"colorscale\":[[0.0,\"#0d0887\"],[0.1111111111111111,\"#46039f\"],[0.2222222222222222,\"#7201a8\"],[0.3333333333333333,\"#9c179e\"],[0.4444444444444444,\"#bd3786\"],[0.5555555555555556,\"#d8576b\"],[0.6666666666666666,\"#ed7953\"],[0.7777777777777778,\"#fb9f3a\"],[0.8888888888888888,\"#fdca26\"],[1.0,\"#f0f921\"]]}],\"heatmap\":[{\"type\":\"heatmap\",\"colorbar\":{\"outlinewidth\":0,\"ticks\":\"\"},\"colorscale\":[[0.0,\"#0d0887\"],[0.1111111111111111,\"#46039f\"],[0.2222222222222222,\"#7201a8\"],[0.3333333333333333,\"#9c179e\"],[0.4444444444444444,\"#bd3786\"],[0.5555555555555556,\"#d8576b\"],[0.6666666666666666,\"#ed7953\"],[0.7777777777777778,\"#fb9f3a\"],[0.8888888888888888,\"#fdca26\"],[1.0,\"#f0f921\"]]}],\"heatmapgl\":[{\"type\":\"heatmapgl\",\"colorbar\":{\"outlinewidth\":0,\"ticks\":\"\"},\"colorscale\":[[0.0,\"#0d0887\"],[0.1111111111111111,\"#46039f\"],[0.2222222222222222,\"#7201a8\"],[0.3333333333333333,\"#9c179e\"],[0.4444444444444444,\"#bd3786\"],[0.5555555555555556,\"#d8576b\"],[0.6666666666666666,\"#ed7953\"],[0.7777777777777778,\"#fb9f3a\"],[0.8888888888888888,\"#fdca26\"],[1.0,\"#f0f921\"]]}],\"contourcarpet\":[{\"type\":\"contourcarpet\",\"colorbar\":{\"outlinewidth\":0,\"ticks\":\"\"}}],\"contour\":[{\"type\":\"contour\",\"colorbar\":{\"outlinewidth\":0,\"ticks\":\"\"},\"colorscale\":[[0.0,\"#0d0887\"],[0.1111111111111111,\"#46039f\"],[0.2222222222222222,\"#7201a8\"],[0.3333333333333333,\"#9c179e\"],[0.4444444444444444,\"#bd3786\"],[0.5555555555555556,\"#d8576b\"],[0.6666666666666666,\"#ed7953\"],[0.7777777777777778,\"#fb9f3a\"],[0.8888888888888888,\"#fdca26\"],[1.0,\"#f0f921\"]]}],\"surface\":[{\"type\":\"surface\",\"colorbar\":{\"outlinewidth\":0,\"ticks\":\"\"},\"colorscale\":[[0.0,\"#0d0887\"],[0.1111111111111111,\"#46039f\"],[0.2222222222222222,\"#7201a8\"],[0.3333333333333333,\"#9c179e\"],[0.4444444444444444,\"#bd3786\"],[0.5555555555555556,\"#d8576b\"],[0.6666666666666666,\"#ed7953\"],[0.7777777777777778,\"#fb9f3a\"],[0.8888888888888888,\"#fdca26\"],[1.0,\"#f0f921\"]]}],\"mesh3d\":[{\"type\":\"mesh3d\",\"colorbar\":{\"outlinewidth\":0,\"ticks\":\"\"}}],\"scatter\":[{\"fillpattern\":{\"fillmode\":\"overlay\",\"size\":10,\"solidity\":0.2},\"type\":\"scatter\"}],\"parcoords\":[{\"type\":\"parcoords\",\"line\":{\"colorbar\":{\"outlinewidth\":0,\"ticks\":\"\"}}}],\"scatterpolargl\":[{\"type\":\"scatterpolargl\",\"marker\":{\"colorbar\":{\"outlinewidth\":0,\"ticks\":\"\"}}}],\"bar\":[{\"error_x\":{\"color\":\"#2a3f5f\"},\"error_y\":{\"color\":\"#2a3f5f\"},\"marker\":{\"line\":{\"color\":\"#E5ECF6\",\"width\":0.5},\"pattern\":{\"fillmode\":\"overlay\",\"size\":10,\"solidity\":0.2}},\"type\":\"bar\"}],\"scattergeo\":[{\"type\":\"scattergeo\",\"marker\":{\"colorbar\":{\"outlinewidth\":0,\"ticks\":\"\"}}}],\"scatterpolar\":[{\"type\":\"scatterpolar\",\"marker\":{\"colorbar\":{\"outlinewidth\":0,\"ticks\":\"\"}}}],\"histogram\":[{\"marker\":{\"pattern\":{\"fillmode\":\"overlay\",\"size\":10,\"solidity\":0.2}},\"type\":\"histogram\"}],\"scattergl\":[{\"type\":\"scattergl\",\"marker\":{\"colorbar\":{\"outlinewidth\":0,\"ticks\":\"\"}}}],\"scatter3d\":[{\"type\":\"scatter3d\",\"line\":{\"colorbar\":{\"outlinewidth\":0,\"ticks\":\"\"}},\"marker\":{\"colorbar\":{\"outlinewidth\":0,\"ticks\":\"\"}}}],\"scattermapbox\":[{\"type\":\"scattermapbox\",\"marker\":{\"colorbar\":{\"outlinewidth\":0,\"ticks\":\"\"}}}],\"scatterternary\":[{\"type\":\"scatterternary\",\"marker\":{\"colorbar\":{\"outlinewidth\":0,\"ticks\":\"\"}}}],\"scattercarpet\":[{\"type\":\"scattercarpet\",\"marker\":{\"colorbar\":{\"outlinewidth\":0,\"ticks\":\"\"}}}],\"carpet\":[{\"aaxis\":{\"endlinecolor\":\"#2a3f5f\",\"gridcolor\":\"white\",\"linecolor\":\"white\",\"minorgridcolor\":\"white\",\"startlinecolor\":\"#2a3f5f\"},\"baxis\":{\"endlinecolor\":\"#2a3f5f\",\"gridcolor\":\"white\",\"linecolor\":\"white\",\"minorgridcolor\":\"white\",\"startlinecolor\":\"#2a3f5f\"},\"type\":\"carpet\"}],\"table\":[{\"cells\":{\"fill\":{\"color\":\"#EBF0F8\"},\"line\":{\"color\":\"white\"}},\"header\":{\"fill\":{\"color\":\"#C8D4E3\"},\"line\":{\"color\":\"white\"}},\"type\":\"table\"}],\"barpolar\":[{\"marker\":{\"line\":{\"color\":\"#E5ECF6\",\"width\":0.5},\"pattern\":{\"fillmode\":\"overlay\",\"size\":10,\"solidity\":0.2}},\"type\":\"barpolar\"}],\"pie\":[{\"automargin\":true,\"type\":\"pie\"}]},\"layout\":{\"autotypenumbers\":\"strict\",\"colorway\":[\"#636efa\",\"#EF553B\",\"#00cc96\",\"#ab63fa\",\"#FFA15A\",\"#19d3f3\",\"#FF6692\",\"#B6E880\",\"#FF97FF\",\"#FECB52\"],\"font\":{\"color\":\"#2a3f5f\"},\"hovermode\":\"closest\",\"hoverlabel\":{\"align\":\"left\"},\"paper_bgcolor\":\"white\",\"plot_bgcolor\":\"#E5ECF6\",\"polar\":{\"bgcolor\":\"#E5ECF6\",\"angularaxis\":{\"gridcolor\":\"white\",\"linecolor\":\"white\",\"ticks\":\"\"},\"radialaxis\":{\"gridcolor\":\"white\",\"linecolor\":\"white\",\"ticks\":\"\"}},\"ternary\":{\"bgcolor\":\"#E5ECF6\",\"aaxis\":{\"gridcolor\":\"white\",\"linecolor\":\"white\",\"ticks\":\"\"},\"baxis\":{\"gridcolor\":\"white\",\"linecolor\":\"white\",\"ticks\":\"\"},\"caxis\":{\"gridcolor\":\"white\",\"linecolor\":\"white\",\"ticks\":\"\"}},\"coloraxis\":{\"colorbar\":{\"outlinewidth\":0,\"ticks\":\"\"}},\"colorscale\":{\"sequential\":[[0.0,\"#0d0887\"],[0.1111111111111111,\"#46039f\"],[0.2222222222222222,\"#7201a8\"],[0.3333333333333333,\"#9c179e\"],[0.4444444444444444,\"#bd3786\"],[0.5555555555555556,\"#d8576b\"],[0.6666666666666666,\"#ed7953\"],[0.7777777777777778,\"#fb9f3a\"],[0.8888888888888888,\"#fdca26\"],[1.0,\"#f0f921\"]],\"sequentialminus\":[[0.0,\"#0d0887\"],[0.1111111111111111,\"#46039f\"],[0.2222222222222222,\"#7201a8\"],[0.3333333333333333,\"#9c179e\"],[0.4444444444444444,\"#bd3786\"],[0.5555555555555556,\"#d8576b\"],[0.6666666666666666,\"#ed7953\"],[0.7777777777777778,\"#fb9f3a\"],[0.8888888888888888,\"#fdca26\"],[1.0,\"#f0f921\"]],\"diverging\":[[0,\"#8e0152\"],[0.1,\"#c51b7d\"],[0.2,\"#de77ae\"],[0.3,\"#f1b6da\"],[0.4,\"#fde0ef\"],[0.5,\"#f7f7f7\"],[0.6,\"#e6f5d0\"],[0.7,\"#b8e186\"],[0.8,\"#7fbc41\"],[0.9,\"#4d9221\"],[1,\"#276419\"]]},\"xaxis\":{\"gridcolor\":\"white\",\"linecolor\":\"white\",\"ticks\":\"\",\"title\":{\"standoff\":15},\"zerolinecolor\":\"white\",\"automargin\":true,\"zerolinewidth\":2},\"yaxis\":{\"gridcolor\":\"white\",\"linecolor\":\"white\",\"ticks\":\"\",\"title\":{\"standoff\":15},\"zerolinecolor\":\"white\",\"automargin\":true,\"zerolinewidth\":2},\"scene\":{\"xaxis\":{\"backgroundcolor\":\"#E5ECF6\",\"gridcolor\":\"white\",\"linecolor\":\"white\",\"showbackground\":true,\"ticks\":\"\",\"zerolinecolor\":\"white\",\"gridwidth\":2},\"yaxis\":{\"backgroundcolor\":\"#E5ECF6\",\"gridcolor\":\"white\",\"linecolor\":\"white\",\"showbackground\":true,\"ticks\":\"\",\"zerolinecolor\":\"white\",\"gridwidth\":2},\"zaxis\":{\"backgroundcolor\":\"#E5ECF6\",\"gridcolor\":\"white\",\"linecolor\":\"white\",\"showbackground\":true,\"ticks\":\"\",\"zerolinecolor\":\"white\",\"gridwidth\":2}},\"shapedefaults\":{\"line\":{\"color\":\"#2a3f5f\"}},\"annotationdefaults\":{\"arrowcolor\":\"#2a3f5f\",\"arrowhead\":0,\"arrowwidth\":1},\"geo\":{\"bgcolor\":\"white\",\"landcolor\":\"#E5ECF6\",\"subunitcolor\":\"white\",\"showland\":true,\"showlakes\":true,\"lakecolor\":\"white\"},\"title\":{\"x\":0.05},\"mapbox\":{\"style\":\"light\"}}},\"xaxis\":{\"anchor\":\"y\",\"domain\":[0.0,1.0],\"title\":{\"text\":\"AGE\"}},\"yaxis\":{\"anchor\":\"x\",\"domain\":[0.0,1.0],\"title\":{\"text\":\"count\"}},\"legend\":{\"tracegroupgap\":0},\"margin\":{\"t\":60},\"barmode\":\"relative\"},                        {\"responsive\": true}                    ).then(function(){\n",
       "                            \n",
       "var gd = document.getElementById('78cba4a2-56c0-4ed1-92e3-f5c2358fd7b1');\n",
       "var x = new MutationObserver(function (mutations, observer) {{\n",
       "        var display = window.getComputedStyle(gd).display;\n",
       "        if (!display || display === 'none') {{\n",
       "            console.log([gd, 'removed!']);\n",
       "            Plotly.purge(gd);\n",
       "            observer.disconnect();\n",
       "        }}\n",
       "}});\n",
       "\n",
       "// Listen for the removal of the full notebook cells\n",
       "var notebookContainer = gd.closest('#notebook-container');\n",
       "if (notebookContainer) {{\n",
       "    x.observe(notebookContainer, {childList: true});\n",
       "}}\n",
       "\n",
       "// Listen for the clearing of the current output cell\n",
       "var outputEl = gd.closest('.output');\n",
       "if (outputEl) {{\n",
       "    x.observe(outputEl, {childList: true});\n",
       "}}\n",
       "\n",
       "                        })                };                });            </script>        </div>"
      ]
     },
     "metadata": {},
     "output_type": "display_data"
    }
   ],
   "source": [
    "fig = px.histogram(ages20, x='AGE')\n",
    "fig.show()"
   ]
  },
  {
   "cell_type": "code",
   "execution_count": 292,
   "id": "e2b40044",
   "metadata": {},
   "outputs": [
    {
     "data": {
      "text/html": [
       "<div>\n",
       "<style scoped>\n",
       "    .dataframe tbody tr th:only-of-type {\n",
       "        vertical-align: middle;\n",
       "    }\n",
       "\n",
       "    .dataframe tbody tr th {\n",
       "        vertical-align: top;\n",
       "    }\n",
       "\n",
       "    .dataframe thead th {\n",
       "        text-align: right;\n",
       "    }\n",
       "</style>\n",
       "<table border=\"1\" class=\"dataframe\">\n",
       "  <thead>\n",
       "    <tr style=\"text-align: right;\">\n",
       "      <th></th>\n",
       "      <th>AGE</th>\n",
       "      <th>PAID</th>\n",
       "    </tr>\n",
       "  </thead>\n",
       "  <tbody>\n",
       "    <tr>\n",
       "      <th>count</th>\n",
       "      <td>20.000000</td>\n",
       "      <td>20.000000</td>\n",
       "    </tr>\n",
       "    <tr>\n",
       "      <th>mean</th>\n",
       "      <td>66.300000</td>\n",
       "      <td>3133.897500</td>\n",
       "    </tr>\n",
       "    <tr>\n",
       "      <th>std</th>\n",
       "      <td>12.460886</td>\n",
       "      <td>3435.185473</td>\n",
       "    </tr>\n",
       "    <tr>\n",
       "      <th>min</th>\n",
       "      <td>50.000000</td>\n",
       "      <td>236.530000</td>\n",
       "    </tr>\n",
       "    <tr>\n",
       "      <th>25%</th>\n",
       "      <td>57.000000</td>\n",
       "      <td>777.340000</td>\n",
       "    </tr>\n",
       "    <tr>\n",
       "      <th>50%</th>\n",
       "      <td>66.000000</td>\n",
       "      <td>1402.260000</td>\n",
       "    </tr>\n",
       "    <tr>\n",
       "      <th>75%</th>\n",
       "      <td>73.500000</td>\n",
       "      <td>4996.212500</td>\n",
       "    </tr>\n",
       "    <tr>\n",
       "      <th>max</th>\n",
       "      <td>95.000000</td>\n",
       "      <td>12714.430000</td>\n",
       "    </tr>\n",
       "  </tbody>\n",
       "</table>\n",
       "</div>"
      ],
      "text/plain": [
       "             AGE          PAID\n",
       "count  20.000000     20.000000\n",
       "mean   66.300000   3133.897500\n",
       "std    12.460886   3435.185473\n",
       "min    50.000000    236.530000\n",
       "25%    57.000000    777.340000\n",
       "50%    66.000000   1402.260000\n",
       "75%    73.500000   4996.212500\n",
       "max    95.000000  12714.430000"
      ]
     },
     "execution_count": 292,
     "metadata": {},
     "output_type": "execute_result"
    }
   ],
   "source": [
    "ages20.describe()"
   ]
  },
  {
   "cell_type": "code",
   "execution_count": 293,
   "id": "c8313da1",
   "metadata": {},
   "outputs": [],
   "source": [
    "hint = \"\\n\\nOPTIONAL QUESTION: DOES NOT COUNT AGAINST STUDENT\\n\"\n",
    "hint += \"Included as an example answer for feedback purposes only\\n\\n\"\n",
    "hint += \"Rounded to the nearest integer, the min is 50, mean is 66, median is 66, max is 95, and standard deviation is 12. \"\n",
    "hint += \"This can be calculated many ways, including: `ages20.describe()`\"\n",
    "hint += \"\\n\\nCODE:\\n\"\n",
    "hint += '''\n",
    "fig = px.histogram(ages20, x='AGE')\n",
    "fig.show()\n",
    "'''"
   ]
  },
  {
   "cell_type": "code",
   "execution_count": 294,
   "id": "ba43aa69",
   "metadata": {},
   "outputs": [
    {
     "ename": "AssertionError",
     "evalue": "\n\nOPTIONAL QUESTION: DOES NOT COUNT AGAINST STUDENT\nIncluded as an example answer for feedback purposes only\n\nRounded to the nearest integer, the min is 50, mean is 66, median is 66, max is 95, and standard deviation is 12. This can be calculated many ways, including: `ages20.describe()`\n\nCODE:\n\nfig = px.histogram(ages20, x='AGE')\nfig.show()\n",
     "output_type": "error",
     "traceback": [
      "\u001b[0;31m---------------------------------------------------------------------------\u001b[0m",
      "\u001b[0;31mAssertionError\u001b[0m                            Traceback (most recent call last)",
      "Cell \u001b[0;32mIn[294], line 2\u001b[0m\n\u001b[1;32m      1\u001b[0m \u001b[38;5;66;03m# test_Q12\u001b[39;00m\n\u001b[0;32m----> 2\u001b[0m \u001b[38;5;28;01massert\u001b[39;00m \u001b[38;5;28;01mFalse\u001b[39;00m, hint\n",
      "\u001b[0;31mAssertionError\u001b[0m: \n\nOPTIONAL QUESTION: DOES NOT COUNT AGAINST STUDENT\nIncluded as an example answer for feedback purposes only\n\nRounded to the nearest integer, the min is 50, mean is 66, median is 66, max is 95, and standard deviation is 12. This can be calculated many ways, including: `ages20.describe()`\n\nCODE:\n\nfig = px.histogram(ages20, x='AGE')\nfig.show()\n"
     ]
    }
   ],
   "source": [
    "# test_Q12\n",
    "assert False, hint"
   ]
  },
  {
   "cell_type": "markdown",
   "id": "1c315b27",
   "metadata": {},
   "source": [
    "### Q13: Take 1000 bootstrap samples from `ages20`. Compute the mean age of claimants for each bootstrap sample, calculate the overall mean of the bootstrap sample means, and make a histogram of the simulated sample means.\n",
    "> Hint: This time, you want `replace=True` (which is the default setting) for `np.random.choice(x, n)`\n",
    "- Compare your figure and values to the answer given in the ***MarkUs*** output "
   ]
  },
  {
   "cell_type": "code",
   "execution_count": 295,
   "id": "3e06db9b",
   "metadata": {},
   "outputs": [
    {
     "data": {
      "application/vnd.plotly.v1+json": {
       "config": {
        "plotlyServerURL": "https://plot.ly"
       },
       "data": [
        {
         "alignmentgroup": "True",
         "bingroup": "x",
         "histnorm": "probability density",
         "hovertemplate": "Bootstrapped Means=%{x}<br>probability density=%{y}<extra></extra>",
         "legendgroup": "",
         "marker": {
          "color": "#636efa",
          "pattern": {
           "shape": ""
          }
         },
         "name": "",
         "nbinsx": 12,
         "offsetgroup": "",
         "orientation": "v",
         "showlegend": false,
         "type": "histogram",
         "x": [
          65.25,
          65.9,
          71.3,
          67.65,
          65.2,
          65.2,
          71.85,
          64,
          63.95,
          67.15,
          67.5,
          62.85,
          68.9,
          69.35,
          66.15,
          65.95,
          67.55,
          66.35,
          64.3,
          69.4,
          67.55,
          63.85,
          64.5,
          64.25,
          66.1,
          67.8,
          66.6,
          66.75,
          68.9,
          68.45,
          68.05,
          60.6,
          68.8,
          69.75,
          70.25,
          65.05,
          61.55,
          68.2,
          60.45,
          65.65,
          62.25,
          66.8,
          68.1,
          69.05,
          64.95,
          63.35,
          65.05,
          65.9,
          64.85,
          65.05,
          66.3,
          69.75,
          65.6,
          69,
          64.2,
          66.9,
          63.1,
          66.75,
          67.6,
          67.6,
          66.8,
          67.2,
          73.85,
          69.45,
          64.4,
          65.95,
          63.65,
          65.6,
          67.85,
          63.25,
          64.65,
          68.9,
          72.45,
          65.65,
          70.75,
          67.8,
          60.6,
          70.95,
          66.75,
          63.9,
          68.45,
          68.9,
          65.9,
          65.85,
          63.15,
          64.5,
          67.05,
          69.9,
          69.3,
          61.5,
          63.45,
          70.65,
          64.2,
          69.9,
          61.15,
          67.5,
          67.05,
          63.75,
          66.05,
          67,
          61.6,
          62.4,
          71.6,
          64.7,
          67.15,
          65.55,
          78.05,
          64.7,
          63.85,
          67.75,
          66.1,
          67.25,
          69.9,
          63.1,
          65.2,
          65.15,
          64.65,
          68.55,
          65.95,
          69,
          62.05,
          64.65,
          65.8,
          70.5,
          66.45,
          69.8,
          64.55,
          64.4,
          69.1,
          72.8,
          66.35,
          65.5,
          67.75,
          64.1,
          63.65,
          62.8,
          69.8,
          67.95,
          65.55,
          64.9,
          64.15,
          69.95,
          63.3,
          65.25,
          66.95,
          70.75,
          63.55,
          62.8,
          69.85,
          66.85,
          66.8,
          65,
          67.05,
          65.7,
          63.7,
          74.4,
          64.6,
          64.35,
          69.25,
          65.65,
          63.05,
          67.95,
          63.85,
          65.15,
          64.45,
          67.5,
          68.25,
          64.75,
          63.75,
          62.7,
          67.5,
          66.8,
          62.9,
          69.8,
          66.75,
          65.9,
          61.15,
          62.4,
          66.9,
          64.7,
          65.7,
          66.4,
          68.85,
          65.05,
          66.35,
          67.3,
          63.95,
          66.8,
          65.85,
          69.5,
          64.55,
          65.75,
          63.85,
          63.8,
          64.45,
          60.25,
          63.5,
          65.15,
          67.35,
          66.6,
          69.9,
          67.35,
          65.8,
          62.3,
          64.95,
          61.95,
          61.8,
          67.15,
          68.9,
          60.25,
          65.85,
          68.05,
          61.1,
          68.1,
          66.1,
          66.35,
          70.75,
          65,
          66.45,
          70.25,
          66.75,
          67.25,
          62.6,
          65.05,
          70.4,
          70.8,
          66.15,
          66.85,
          61.95,
          64.15,
          68.65,
          66.35,
          68.4,
          65.55,
          63.3,
          65.35,
          72.25,
          67,
          66.75,
          65.25,
          70.6,
          64.05,
          62.45,
          66.4,
          66.75,
          70.65,
          66.4,
          60.8,
          61.2,
          62.9,
          62.95,
          66.95,
          66.75,
          68.7,
          64.85,
          67.15,
          64.3,
          63.65,
          64.2,
          65.9,
          65.2,
          64.65,
          65.9,
          66.95,
          65.65,
          63.2,
          71.15,
          66.6,
          64.45,
          67.5,
          64.75,
          69.55,
          68.25,
          69.6,
          65.6,
          67.25,
          64.9,
          68.95,
          61.95,
          64.15,
          65.95,
          63.7,
          65.95,
          65.4,
          72.45,
          63.65,
          65.8,
          65.55,
          66.6,
          66.6,
          65.4,
          68.25,
          65.7,
          65.95,
          63.5,
          67.2,
          66.8,
          64.1,
          67.7,
          67.9,
          62.35,
          65.65,
          65.4,
          66.65,
          67.75,
          62.7,
          63.9,
          68.85,
          65.2,
          70.15,
          65.95,
          61.35,
          67.7,
          65.3,
          61.45,
          67.65,
          69.65,
          69.9,
          65.1,
          68.6,
          65.9,
          61.85,
          67,
          64.8,
          61.9,
          70.65,
          64,
          63.2,
          67.3,
          69.15,
          63.5,
          64.4,
          71.3,
          67.35,
          65.9,
          68.95,
          67.8,
          67.15,
          65.55,
          64.85,
          59.7,
          71.95,
          64.6,
          62.15,
          66.2,
          65.35,
          68.85,
          66.75,
          63.7,
          62.9,
          63.6,
          70.35,
          65.35,
          68.4,
          66.45,
          64.4,
          68.75,
          66.4,
          66.7,
          67.4,
          65.7,
          60.85,
          61.4,
          69,
          65.4,
          63.55,
          63.45,
          67.7,
          66.35,
          69.45,
          65.1,
          62.6,
          65.65,
          65.8,
          68.75,
          66.25,
          67.9,
          69.4,
          67.75,
          69.1,
          68.9,
          70.9,
          72.9,
          66.6,
          66.35,
          68.3,
          67.6,
          66.05,
          66.1,
          66.05,
          64.05,
          64.4,
          64.25,
          64.25,
          67.5,
          65.3,
          69.25,
          61.6,
          61.3,
          64.15,
          65.75,
          62.4,
          66.2,
          67.05,
          65.8,
          71.6,
          65.75,
          69.3,
          65.15,
          69.75,
          62.15,
          69.1,
          62,
          66.8,
          64.45,
          68.95,
          63.65,
          66.9,
          71,
          68.2,
          75.65,
          62.25,
          66.8,
          70.7,
          66.4,
          63.1,
          68,
          64.7,
          69.15,
          66.65,
          61.8,
          69.05,
          69.65,
          66.55,
          67.3,
          67.4,
          73.7,
          64.35,
          60.5,
          60.8,
          64.05,
          65.85,
          64.15,
          66.25,
          70.15,
          69.25,
          69.15,
          63.7,
          70.6,
          63.7,
          68.1,
          63.5,
          66.1,
          69.05,
          66.75,
          67.1,
          65.3,
          65.9,
          65.35,
          67.45,
          66.85,
          68.9,
          67.6,
          67.1,
          62.6,
          65.9,
          66.85,
          64.75,
          67.85,
          63.9,
          65.95,
          62.95,
          69.85,
          65.3,
          64.85,
          68.75,
          65.7,
          63.05,
          64.05,
          62.2,
          69.1,
          68.85,
          66.1,
          68.2,
          66.25,
          66.2,
          65.95,
          68.3,
          68.5,
          61.3,
          62.1,
          70.1,
          66.4,
          64.2,
          70.1,
          65.65,
          64.7,
          62.2,
          66.85,
          66.05,
          68.05,
          65.35,
          65.15,
          65.45,
          73.6,
          71.85,
          62.25,
          68.35,
          63.35,
          63.1,
          66.5,
          68.85,
          66.1,
          65.75,
          64.85,
          69.65,
          66.25,
          60.7,
          68.85,
          65.25,
          65.55,
          68.5,
          70.15,
          72.6,
          65.3,
          66.15,
          61.15,
          64.65,
          65.75,
          67.75,
          69.3,
          66.65,
          68.6,
          66.45,
          62.7,
          64.95,
          64.7,
          66,
          66.5,
          65.95,
          65.65,
          71.3,
          67,
          66.9,
          70.75,
          72.3,
          69.85,
          62.1,
          67.5,
          70.4,
          65.25,
          68.75,
          70.05,
          66.6,
          70,
          70.85,
          69.75,
          66.1,
          63.85,
          70,
          66.45,
          66.55,
          67.75,
          61.9,
          62.9,
          62.25,
          62.3,
          65.4,
          62.8,
          68.3,
          62.05,
          65.85,
          67.7,
          64.7,
          66.25,
          63.25,
          65.25,
          68.85,
          63.95,
          63.65,
          72.65,
          61.7,
          68.9,
          66.3,
          67,
          67.3,
          76.25,
          70.7,
          67.8,
          60.75,
          66.45,
          69.95,
          66.7,
          65.55,
          67.3,
          69.5,
          68,
          70.75,
          68,
          61.75,
          67.9,
          68.25,
          65.85,
          63.75,
          66.35,
          68.75,
          63.15,
          65.9,
          61.9,
          61.95,
          66.85,
          71.7,
          63.75,
          64.05,
          70.8,
          58.15,
          64.6,
          69.8,
          60.1,
          67.25,
          68.65,
          71.15,
          63.85,
          62.95,
          68.4,
          64.35,
          66.05,
          65.9,
          61.9,
          67.25,
          63.2,
          64.9,
          63.8,
          71.7,
          71.7,
          67.9,
          63.7,
          64.7,
          70.75,
          66.65,
          66.5,
          66.8,
          71,
          65.7,
          68.3,
          68.55,
          65.55,
          68.5,
          65.95,
          66.6,
          66.9,
          65.65,
          61.85,
          68.15,
          64.85,
          64.55,
          65.6,
          69.5,
          66.8,
          63.65,
          64.65,
          65.55,
          61.2,
          60.65,
          67.6,
          60.2,
          67.15,
          62.95,
          65.7,
          63.45,
          72.3,
          61.95,
          63.75,
          62.9,
          68.85,
          66.55,
          63,
          67.3,
          68.05,
          69.5,
          68.05,
          66,
          67.5,
          68.85,
          66.55,
          70.3,
          64.15,
          68.85,
          65.5,
          66.95,
          66.5,
          64.5,
          64.8,
          65.15,
          72.3,
          68.8,
          67.5,
          66.65,
          65.85,
          67.15,
          71.05,
          66.45,
          67.25,
          62.4,
          64.45,
          66.05,
          70.4,
          62.25,
          64.3,
          67.75,
          62.4,
          74.5,
          63.65,
          62.65,
          68.25,
          68.7,
          68.35,
          61.9,
          67.2,
          70.7,
          65.35,
          64.55,
          63.65,
          67.25,
          66,
          65.3,
          67.35,
          67.25,
          69.25,
          65.05,
          65.4,
          66.25,
          64.7,
          70.35,
          68.35,
          68.2,
          62.15,
          65.1,
          66.1,
          70.1,
          68.5,
          65.5,
          65,
          64.6,
          69.75,
          67.1,
          67.8,
          65.65,
          66.4,
          66.05,
          63.6,
          67.75,
          64.6,
          64.85,
          63.9,
          65.85,
          66.3,
          63.2,
          71.65,
          66.4,
          66.7,
          61.85,
          68.3,
          64.7,
          67.7,
          66.55,
          66.95,
          64.65,
          67.4,
          67.8,
          61.45,
          62.7,
          64.7,
          62.9,
          63.75,
          65.1,
          66.35,
          65.8,
          66.55,
          67.7,
          67.95,
          62.1,
          70.2,
          61.25,
          65.9,
          66.7,
          66.85,
          70.65,
          67.2,
          68.95,
          66.7,
          62.85,
          67,
          63.15,
          70.45,
          67.9,
          63.7,
          68.05,
          67.7,
          66.7,
          61.45,
          69.2,
          61.4,
          65.35,
          68,
          70.7,
          66.4,
          65.4,
          64.7,
          65.6,
          64.15,
          71,
          61.4,
          68.3,
          65.65,
          68.45,
          67.15,
          63.5,
          67.8,
          62.85,
          71.5,
          66.25,
          73.1,
          64.4,
          64.35,
          67.8,
          63.3,
          67.3,
          68.15,
          70.85,
          62.3,
          68.6,
          65.6,
          67.35,
          66.05,
          69.3,
          70.2,
          63.85,
          64.95,
          64.25,
          69.2,
          65.15,
          62.8,
          69.15,
          69.6,
          65.95,
          72.05,
          66.65,
          63.05,
          65.65,
          69.4,
          64.75,
          67.75,
          65.6,
          64,
          60.6,
          66.7,
          65.9,
          68.5,
          65.1,
          70.8,
          66.1,
          65.85,
          66.05,
          67.05,
          62.65,
          70.35,
          67.8,
          68.2,
          67.8,
          64.8,
          68.35,
          69.65,
          69.8,
          70,
          66.5,
          61.55,
          70.4,
          65.25,
          69.25,
          63.15,
          69.1,
          59.75,
          68.1,
          66.6,
          66,
          65.05,
          69.25,
          68.15,
          62.9,
          67.7,
          61.25,
          62.4,
          63.2,
          69.55,
          64.4,
          68.4,
          63,
          69.45,
          67.1,
          69.1,
          63.75,
          65.15,
          71.6,
          68.6,
          67.15,
          67.15,
          67.45,
          61.9,
          61.05,
          61.4,
          63.45,
          67.35,
          66.85,
          69.9,
          70.85,
          65.8,
          64.45,
          63.85,
          67.05,
          63.4,
          69.15,
          68.65,
          60.95,
          71.15,
          70.75,
          71.05,
          66.6,
          72.85,
          68.95,
          68.05,
          66.2,
          69.7,
          69.45,
          67.95,
          65.9,
          65.85,
          64.75,
          63.35,
          64.5,
          65.8,
          65.55,
          71.35,
          64.15,
          75.7,
          65.1,
          67.85,
          64.4,
          66.1,
          68.85,
          66.65,
          67.55,
          67.55,
          68.3,
          66.8,
          63.75,
          66.75,
          70,
          64,
          63.55,
          67.55,
          65.1,
          63.75,
          68.45,
          67.25,
          65.8,
          69.15,
          68.35,
          61,
          69.35,
          70.2,
          66,
          69.6,
          70.25,
          61.6,
          64.25,
          64.25,
          65.85,
          63.8,
          69.45,
          66.5,
          62.2,
          67.3,
          63.9,
          64.2,
          71.6,
          65,
          62.4,
          61.95,
          66.4,
          65.2,
          60.7,
          67.45,
          65.15,
          67.4,
          67.95,
          64.45,
          66.4,
          67.25,
          65.1
         ],
         "xaxis": "x",
         "yaxis": "y"
        }
       ],
       "layout": {
        "barmode": "relative",
        "legend": {
         "tracegroupgap": 0
        },
        "margin": {
         "t": 60
        },
        "template": {
         "data": {
          "bar": [
           {
            "error_x": {
             "color": "#2a3f5f"
            },
            "error_y": {
             "color": "#2a3f5f"
            },
            "marker": {
             "line": {
              "color": "#E5ECF6",
              "width": 0.5
             },
             "pattern": {
              "fillmode": "overlay",
              "size": 10,
              "solidity": 0.2
             }
            },
            "type": "bar"
           }
          ],
          "barpolar": [
           {
            "marker": {
             "line": {
              "color": "#E5ECF6",
              "width": 0.5
             },
             "pattern": {
              "fillmode": "overlay",
              "size": 10,
              "solidity": 0.2
             }
            },
            "type": "barpolar"
           }
          ],
          "carpet": [
           {
            "aaxis": {
             "endlinecolor": "#2a3f5f",
             "gridcolor": "white",
             "linecolor": "white",
             "minorgridcolor": "white",
             "startlinecolor": "#2a3f5f"
            },
            "baxis": {
             "endlinecolor": "#2a3f5f",
             "gridcolor": "white",
             "linecolor": "white",
             "minorgridcolor": "white",
             "startlinecolor": "#2a3f5f"
            },
            "type": "carpet"
           }
          ],
          "choropleth": [
           {
            "colorbar": {
             "outlinewidth": 0,
             "ticks": ""
            },
            "type": "choropleth"
           }
          ],
          "contour": [
           {
            "colorbar": {
             "outlinewidth": 0,
             "ticks": ""
            },
            "colorscale": [
             [
              0,
              "#0d0887"
             ],
             [
              0.1111111111111111,
              "#46039f"
             ],
             [
              0.2222222222222222,
              "#7201a8"
             ],
             [
              0.3333333333333333,
              "#9c179e"
             ],
             [
              0.4444444444444444,
              "#bd3786"
             ],
             [
              0.5555555555555556,
              "#d8576b"
             ],
             [
              0.6666666666666666,
              "#ed7953"
             ],
             [
              0.7777777777777778,
              "#fb9f3a"
             ],
             [
              0.8888888888888888,
              "#fdca26"
             ],
             [
              1,
              "#f0f921"
             ]
            ],
            "type": "contour"
           }
          ],
          "contourcarpet": [
           {
            "colorbar": {
             "outlinewidth": 0,
             "ticks": ""
            },
            "type": "contourcarpet"
           }
          ],
          "heatmap": [
           {
            "colorbar": {
             "outlinewidth": 0,
             "ticks": ""
            },
            "colorscale": [
             [
              0,
              "#0d0887"
             ],
             [
              0.1111111111111111,
              "#46039f"
             ],
             [
              0.2222222222222222,
              "#7201a8"
             ],
             [
              0.3333333333333333,
              "#9c179e"
             ],
             [
              0.4444444444444444,
              "#bd3786"
             ],
             [
              0.5555555555555556,
              "#d8576b"
             ],
             [
              0.6666666666666666,
              "#ed7953"
             ],
             [
              0.7777777777777778,
              "#fb9f3a"
             ],
             [
              0.8888888888888888,
              "#fdca26"
             ],
             [
              1,
              "#f0f921"
             ]
            ],
            "type": "heatmap"
           }
          ],
          "heatmapgl": [
           {
            "colorbar": {
             "outlinewidth": 0,
             "ticks": ""
            },
            "colorscale": [
             [
              0,
              "#0d0887"
             ],
             [
              0.1111111111111111,
              "#46039f"
             ],
             [
              0.2222222222222222,
              "#7201a8"
             ],
             [
              0.3333333333333333,
              "#9c179e"
             ],
             [
              0.4444444444444444,
              "#bd3786"
             ],
             [
              0.5555555555555556,
              "#d8576b"
             ],
             [
              0.6666666666666666,
              "#ed7953"
             ],
             [
              0.7777777777777778,
              "#fb9f3a"
             ],
             [
              0.8888888888888888,
              "#fdca26"
             ],
             [
              1,
              "#f0f921"
             ]
            ],
            "type": "heatmapgl"
           }
          ],
          "histogram": [
           {
            "marker": {
             "pattern": {
              "fillmode": "overlay",
              "size": 10,
              "solidity": 0.2
             }
            },
            "type": "histogram"
           }
          ],
          "histogram2d": [
           {
            "colorbar": {
             "outlinewidth": 0,
             "ticks": ""
            },
            "colorscale": [
             [
              0,
              "#0d0887"
             ],
             [
              0.1111111111111111,
              "#46039f"
             ],
             [
              0.2222222222222222,
              "#7201a8"
             ],
             [
              0.3333333333333333,
              "#9c179e"
             ],
             [
              0.4444444444444444,
              "#bd3786"
             ],
             [
              0.5555555555555556,
              "#d8576b"
             ],
             [
              0.6666666666666666,
              "#ed7953"
             ],
             [
              0.7777777777777778,
              "#fb9f3a"
             ],
             [
              0.8888888888888888,
              "#fdca26"
             ],
             [
              1,
              "#f0f921"
             ]
            ],
            "type": "histogram2d"
           }
          ],
          "histogram2dcontour": [
           {
            "colorbar": {
             "outlinewidth": 0,
             "ticks": ""
            },
            "colorscale": [
             [
              0,
              "#0d0887"
             ],
             [
              0.1111111111111111,
              "#46039f"
             ],
             [
              0.2222222222222222,
              "#7201a8"
             ],
             [
              0.3333333333333333,
              "#9c179e"
             ],
             [
              0.4444444444444444,
              "#bd3786"
             ],
             [
              0.5555555555555556,
              "#d8576b"
             ],
             [
              0.6666666666666666,
              "#ed7953"
             ],
             [
              0.7777777777777778,
              "#fb9f3a"
             ],
             [
              0.8888888888888888,
              "#fdca26"
             ],
             [
              1,
              "#f0f921"
             ]
            ],
            "type": "histogram2dcontour"
           }
          ],
          "mesh3d": [
           {
            "colorbar": {
             "outlinewidth": 0,
             "ticks": ""
            },
            "type": "mesh3d"
           }
          ],
          "parcoords": [
           {
            "line": {
             "colorbar": {
              "outlinewidth": 0,
              "ticks": ""
             }
            },
            "type": "parcoords"
           }
          ],
          "pie": [
           {
            "automargin": true,
            "type": "pie"
           }
          ],
          "scatter": [
           {
            "fillpattern": {
             "fillmode": "overlay",
             "size": 10,
             "solidity": 0.2
            },
            "type": "scatter"
           }
          ],
          "scatter3d": [
           {
            "line": {
             "colorbar": {
              "outlinewidth": 0,
              "ticks": ""
             }
            },
            "marker": {
             "colorbar": {
              "outlinewidth": 0,
              "ticks": ""
             }
            },
            "type": "scatter3d"
           }
          ],
          "scattercarpet": [
           {
            "marker": {
             "colorbar": {
              "outlinewidth": 0,
              "ticks": ""
             }
            },
            "type": "scattercarpet"
           }
          ],
          "scattergeo": [
           {
            "marker": {
             "colorbar": {
              "outlinewidth": 0,
              "ticks": ""
             }
            },
            "type": "scattergeo"
           }
          ],
          "scattergl": [
           {
            "marker": {
             "colorbar": {
              "outlinewidth": 0,
              "ticks": ""
             }
            },
            "type": "scattergl"
           }
          ],
          "scattermapbox": [
           {
            "marker": {
             "colorbar": {
              "outlinewidth": 0,
              "ticks": ""
             }
            },
            "type": "scattermapbox"
           }
          ],
          "scatterpolar": [
           {
            "marker": {
             "colorbar": {
              "outlinewidth": 0,
              "ticks": ""
             }
            },
            "type": "scatterpolar"
           }
          ],
          "scatterpolargl": [
           {
            "marker": {
             "colorbar": {
              "outlinewidth": 0,
              "ticks": ""
             }
            },
            "type": "scatterpolargl"
           }
          ],
          "scatterternary": [
           {
            "marker": {
             "colorbar": {
              "outlinewidth": 0,
              "ticks": ""
             }
            },
            "type": "scatterternary"
           }
          ],
          "surface": [
           {
            "colorbar": {
             "outlinewidth": 0,
             "ticks": ""
            },
            "colorscale": [
             [
              0,
              "#0d0887"
             ],
             [
              0.1111111111111111,
              "#46039f"
             ],
             [
              0.2222222222222222,
              "#7201a8"
             ],
             [
              0.3333333333333333,
              "#9c179e"
             ],
             [
              0.4444444444444444,
              "#bd3786"
             ],
             [
              0.5555555555555556,
              "#d8576b"
             ],
             [
              0.6666666666666666,
              "#ed7953"
             ],
             [
              0.7777777777777778,
              "#fb9f3a"
             ],
             [
              0.8888888888888888,
              "#fdca26"
             ],
             [
              1,
              "#f0f921"
             ]
            ],
            "type": "surface"
           }
          ],
          "table": [
           {
            "cells": {
             "fill": {
              "color": "#EBF0F8"
             },
             "line": {
              "color": "white"
             }
            },
            "header": {
             "fill": {
              "color": "#C8D4E3"
             },
             "line": {
              "color": "white"
             }
            },
            "type": "table"
           }
          ]
         },
         "layout": {
          "annotationdefaults": {
           "arrowcolor": "#2a3f5f",
           "arrowhead": 0,
           "arrowwidth": 1
          },
          "autotypenumbers": "strict",
          "coloraxis": {
           "colorbar": {
            "outlinewidth": 0,
            "ticks": ""
           }
          },
          "colorscale": {
           "diverging": [
            [
             0,
             "#8e0152"
            ],
            [
             0.1,
             "#c51b7d"
            ],
            [
             0.2,
             "#de77ae"
            ],
            [
             0.3,
             "#f1b6da"
            ],
            [
             0.4,
             "#fde0ef"
            ],
            [
             0.5,
             "#f7f7f7"
            ],
            [
             0.6,
             "#e6f5d0"
            ],
            [
             0.7,
             "#b8e186"
            ],
            [
             0.8,
             "#7fbc41"
            ],
            [
             0.9,
             "#4d9221"
            ],
            [
             1,
             "#276419"
            ]
           ],
           "sequential": [
            [
             0,
             "#0d0887"
            ],
            [
             0.1111111111111111,
             "#46039f"
            ],
            [
             0.2222222222222222,
             "#7201a8"
            ],
            [
             0.3333333333333333,
             "#9c179e"
            ],
            [
             0.4444444444444444,
             "#bd3786"
            ],
            [
             0.5555555555555556,
             "#d8576b"
            ],
            [
             0.6666666666666666,
             "#ed7953"
            ],
            [
             0.7777777777777778,
             "#fb9f3a"
            ],
            [
             0.8888888888888888,
             "#fdca26"
            ],
            [
             1,
             "#f0f921"
            ]
           ],
           "sequentialminus": [
            [
             0,
             "#0d0887"
            ],
            [
             0.1111111111111111,
             "#46039f"
            ],
            [
             0.2222222222222222,
             "#7201a8"
            ],
            [
             0.3333333333333333,
             "#9c179e"
            ],
            [
             0.4444444444444444,
             "#bd3786"
            ],
            [
             0.5555555555555556,
             "#d8576b"
            ],
            [
             0.6666666666666666,
             "#ed7953"
            ],
            [
             0.7777777777777778,
             "#fb9f3a"
            ],
            [
             0.8888888888888888,
             "#fdca26"
            ],
            [
             1,
             "#f0f921"
            ]
           ]
          },
          "colorway": [
           "#636efa",
           "#EF553B",
           "#00cc96",
           "#ab63fa",
           "#FFA15A",
           "#19d3f3",
           "#FF6692",
           "#B6E880",
           "#FF97FF",
           "#FECB52"
          ],
          "font": {
           "color": "#2a3f5f"
          },
          "geo": {
           "bgcolor": "white",
           "lakecolor": "white",
           "landcolor": "#E5ECF6",
           "showlakes": true,
           "showland": true,
           "subunitcolor": "white"
          },
          "hoverlabel": {
           "align": "left"
          },
          "hovermode": "closest",
          "mapbox": {
           "style": "light"
          },
          "paper_bgcolor": "white",
          "plot_bgcolor": "#E5ECF6",
          "polar": {
           "angularaxis": {
            "gridcolor": "white",
            "linecolor": "white",
            "ticks": ""
           },
           "bgcolor": "#E5ECF6",
           "radialaxis": {
            "gridcolor": "white",
            "linecolor": "white",
            "ticks": ""
           }
          },
          "scene": {
           "xaxis": {
            "backgroundcolor": "#E5ECF6",
            "gridcolor": "white",
            "gridwidth": 2,
            "linecolor": "white",
            "showbackground": true,
            "ticks": "",
            "zerolinecolor": "white"
           },
           "yaxis": {
            "backgroundcolor": "#E5ECF6",
            "gridcolor": "white",
            "gridwidth": 2,
            "linecolor": "white",
            "showbackground": true,
            "ticks": "",
            "zerolinecolor": "white"
           },
           "zaxis": {
            "backgroundcolor": "#E5ECF6",
            "gridcolor": "white",
            "gridwidth": 2,
            "linecolor": "white",
            "showbackground": true,
            "ticks": "",
            "zerolinecolor": "white"
           }
          },
          "shapedefaults": {
           "line": {
            "color": "#2a3f5f"
           }
          },
          "ternary": {
           "aaxis": {
            "gridcolor": "white",
            "linecolor": "white",
            "ticks": ""
           },
           "baxis": {
            "gridcolor": "white",
            "linecolor": "white",
            "ticks": ""
           },
           "bgcolor": "#E5ECF6",
           "caxis": {
            "gridcolor": "white",
            "linecolor": "white",
            "ticks": ""
           }
          },
          "title": {
           "x": 0.05
          },
          "xaxis": {
           "automargin": true,
           "gridcolor": "white",
           "linecolor": "white",
           "ticks": "",
           "title": {
            "standoff": 15
           },
           "zerolinecolor": "white",
           "zerolinewidth": 2
          },
          "yaxis": {
           "automargin": true,
           "gridcolor": "white",
           "linecolor": "white",
           "ticks": "",
           "title": {
            "standoff": 15
           },
           "zerolinecolor": "white",
           "zerolinewidth": 2
          }
         }
        },
        "xaxis": {
         "anchor": "y",
         "domain": [
          0,
          1
         ],
         "title": {
          "text": "Bootstrapped Means"
         }
        },
        "yaxis": {
         "anchor": "x",
         "domain": [
          0,
          1
         ],
         "title": {
          "text": "probability density"
         }
        }
       }
      },
      "text/html": [
       "<div>                            <div id=\"f530b75a-42a3-4322-a38f-7df928a45f60\" class=\"plotly-graph-div\" style=\"height:525px; width:100%;\"></div>            <script type=\"text/javascript\">                require([\"plotly\"], function(Plotly) {                    window.PLOTLYENV=window.PLOTLYENV || {};                                    if (document.getElementById(\"f530b75a-42a3-4322-a38f-7df928a45f60\")) {                    Plotly.newPlot(                        \"f530b75a-42a3-4322-a38f-7df928a45f60\",                        [{\"alignmentgroup\":\"True\",\"bingroup\":\"x\",\"histnorm\":\"probability density\",\"hovertemplate\":\"Bootstrapped Means=%{x}\\u003cbr\\u003eprobability density=%{y}\\u003cextra\\u003e\\u003c\\u002fextra\\u003e\",\"legendgroup\":\"\",\"marker\":{\"color\":\"#636efa\",\"pattern\":{\"shape\":\"\"}},\"name\":\"\",\"nbinsx\":12,\"offsetgroup\":\"\",\"orientation\":\"v\",\"showlegend\":false,\"x\":[65.25,65.9,71.3,67.65,65.2,65.2,71.85,64.0,63.95,67.15,67.5,62.85,68.9,69.35,66.15,65.95,67.55,66.35,64.3,69.4,67.55,63.85,64.5,64.25,66.1,67.8,66.6,66.75,68.9,68.45,68.05,60.6,68.8,69.75,70.25,65.05,61.55,68.2,60.45,65.65,62.25,66.8,68.1,69.05,64.95,63.35,65.05,65.9,64.85,65.05,66.3,69.75,65.6,69.0,64.2,66.9,63.1,66.75,67.6,67.6,66.8,67.2,73.85,69.45,64.4,65.95,63.65,65.6,67.85,63.25,64.65,68.9,72.45,65.65,70.75,67.8,60.6,70.95,66.75,63.9,68.45,68.9,65.9,65.85,63.15,64.5,67.05,69.9,69.3,61.5,63.45,70.65,64.2,69.9,61.15,67.5,67.05,63.75,66.05,67.0,61.6,62.4,71.6,64.7,67.15,65.55,78.05,64.7,63.85,67.75,66.1,67.25,69.9,63.1,65.2,65.15,64.65,68.55,65.95,69.0,62.05,64.65,65.8,70.5,66.45,69.8,64.55,64.4,69.1,72.8,66.35,65.5,67.75,64.1,63.65,62.8,69.8,67.95,65.55,64.9,64.15,69.95,63.3,65.25,66.95,70.75,63.55,62.8,69.85,66.85,66.8,65.0,67.05,65.7,63.7,74.4,64.6,64.35,69.25,65.65,63.05,67.95,63.85,65.15,64.45,67.5,68.25,64.75,63.75,62.7,67.5,66.8,62.9,69.8,66.75,65.9,61.15,62.4,66.9,64.7,65.7,66.4,68.85,65.05,66.35,67.3,63.95,66.8,65.85,69.5,64.55,65.75,63.85,63.8,64.45,60.25,63.5,65.15,67.35,66.6,69.9,67.35,65.8,62.3,64.95,61.95,61.8,67.15,68.9,60.25,65.85,68.05,61.1,68.1,66.1,66.35,70.75,65.0,66.45,70.25,66.75,67.25,62.6,65.05,70.4,70.8,66.15,66.85,61.95,64.15,68.65,66.35,68.4,65.55,63.3,65.35,72.25,67.0,66.75,65.25,70.6,64.05,62.45,66.4,66.75,70.65,66.4,60.8,61.2,62.9,62.95,66.95,66.75,68.7,64.85,67.15,64.3,63.65,64.2,65.9,65.2,64.65,65.9,66.95,65.65,63.2,71.15,66.6,64.45,67.5,64.75,69.55,68.25,69.6,65.6,67.25,64.9,68.95,61.95,64.15,65.95,63.7,65.95,65.4,72.45,63.65,65.8,65.55,66.6,66.6,65.4,68.25,65.7,65.95,63.5,67.2,66.8,64.1,67.7,67.9,62.35,65.65,65.4,66.65,67.75,62.7,63.9,68.85,65.2,70.15,65.95,61.35,67.7,65.3,61.45,67.65,69.65,69.9,65.1,68.6,65.9,61.85,67.0,64.8,61.9,70.65,64.0,63.2,67.3,69.15,63.5,64.4,71.3,67.35,65.9,68.95,67.8,67.15,65.55,64.85,59.7,71.95,64.6,62.15,66.2,65.35,68.85,66.75,63.7,62.9,63.6,70.35,65.35,68.4,66.45,64.4,68.75,66.4,66.7,67.4,65.7,60.85,61.4,69.0,65.4,63.55,63.45,67.7,66.35,69.45,65.1,62.6,65.65,65.8,68.75,66.25,67.9,69.4,67.75,69.1,68.9,70.9,72.9,66.6,66.35,68.3,67.6,66.05,66.1,66.05,64.05,64.4,64.25,64.25,67.5,65.3,69.25,61.6,61.3,64.15,65.75,62.4,66.2,67.05,65.8,71.6,65.75,69.3,65.15,69.75,62.15,69.1,62.0,66.8,64.45,68.95,63.65,66.9,71.0,68.2,75.65,62.25,66.8,70.7,66.4,63.1,68.0,64.7,69.15,66.65,61.8,69.05,69.65,66.55,67.3,67.4,73.7,64.35,60.5,60.8,64.05,65.85,64.15,66.25,70.15,69.25,69.15,63.7,70.6,63.7,68.1,63.5,66.1,69.05,66.75,67.1,65.3,65.9,65.35,67.45,66.85,68.9,67.6,67.1,62.6,65.9,66.85,64.75,67.85,63.9,65.95,62.95,69.85,65.3,64.85,68.75,65.7,63.05,64.05,62.2,69.1,68.85,66.1,68.2,66.25,66.2,65.95,68.3,68.5,61.3,62.1,70.1,66.4,64.2,70.1,65.65,64.7,62.2,66.85,66.05,68.05,65.35,65.15,65.45,73.6,71.85,62.25,68.35,63.35,63.1,66.5,68.85,66.1,65.75,64.85,69.65,66.25,60.7,68.85,65.25,65.55,68.5,70.15,72.6,65.3,66.15,61.15,64.65,65.75,67.75,69.3,66.65,68.6,66.45,62.7,64.95,64.7,66.0,66.5,65.95,65.65,71.3,67.0,66.9,70.75,72.3,69.85,62.1,67.5,70.4,65.25,68.75,70.05,66.6,70.0,70.85,69.75,66.1,63.85,70.0,66.45,66.55,67.75,61.9,62.9,62.25,62.3,65.4,62.8,68.3,62.05,65.85,67.7,64.7,66.25,63.25,65.25,68.85,63.95,63.65,72.65,61.7,68.9,66.3,67.0,67.3,76.25,70.7,67.8,60.75,66.45,69.95,66.7,65.55,67.3,69.5,68.0,70.75,68.0,61.75,67.9,68.25,65.85,63.75,66.35,68.75,63.15,65.9,61.9,61.95,66.85,71.7,63.75,64.05,70.8,58.15,64.6,69.8,60.1,67.25,68.65,71.15,63.85,62.95,68.4,64.35,66.05,65.9,61.9,67.25,63.2,64.9,63.8,71.7,71.7,67.9,63.7,64.7,70.75,66.65,66.5,66.8,71.0,65.7,68.3,68.55,65.55,68.5,65.95,66.6,66.9,65.65,61.85,68.15,64.85,64.55,65.6,69.5,66.8,63.65,64.65,65.55,61.2,60.65,67.6,60.2,67.15,62.95,65.7,63.45,72.3,61.95,63.75,62.9,68.85,66.55,63.0,67.3,68.05,69.5,68.05,66.0,67.5,68.85,66.55,70.3,64.15,68.85,65.5,66.95,66.5,64.5,64.8,65.15,72.3,68.8,67.5,66.65,65.85,67.15,71.05,66.45,67.25,62.4,64.45,66.05,70.4,62.25,64.3,67.75,62.4,74.5,63.65,62.65,68.25,68.7,68.35,61.9,67.2,70.7,65.35,64.55,63.65,67.25,66.0,65.3,67.35,67.25,69.25,65.05,65.4,66.25,64.7,70.35,68.35,68.2,62.15,65.1,66.1,70.1,68.5,65.5,65.0,64.6,69.75,67.1,67.8,65.65,66.4,66.05,63.6,67.75,64.6,64.85,63.9,65.85,66.3,63.2,71.65,66.4,66.7,61.85,68.3,64.7,67.7,66.55,66.95,64.65,67.4,67.8,61.45,62.7,64.7,62.9,63.75,65.1,66.35,65.8,66.55,67.7,67.95,62.1,70.2,61.25,65.9,66.7,66.85,70.65,67.2,68.95,66.7,62.85,67.0,63.15,70.45,67.9,63.7,68.05,67.7,66.7,61.45,69.2,61.4,65.35,68.0,70.7,66.4,65.4,64.7,65.6,64.15,71.0,61.4,68.3,65.65,68.45,67.15,63.5,67.8,62.85,71.5,66.25,73.1,64.4,64.35,67.8,63.3,67.3,68.15,70.85,62.3,68.6,65.6,67.35,66.05,69.3,70.2,63.85,64.95,64.25,69.2,65.15,62.8,69.15,69.6,65.95,72.05,66.65,63.05,65.65,69.4,64.75,67.75,65.6,64.0,60.6,66.7,65.9,68.5,65.1,70.8,66.1,65.85,66.05,67.05,62.65,70.35,67.8,68.2,67.8,64.8,68.35,69.65,69.8,70.0,66.5,61.55,70.4,65.25,69.25,63.15,69.1,59.75,68.1,66.6,66.0,65.05,69.25,68.15,62.9,67.7,61.25,62.4,63.2,69.55,64.4,68.4,63.0,69.45,67.1,69.1,63.75,65.15,71.6,68.6,67.15,67.15,67.45,61.9,61.05,61.4,63.45,67.35,66.85,69.9,70.85,65.8,64.45,63.85,67.05,63.4,69.15,68.65,60.95,71.15,70.75,71.05,66.6,72.85,68.95,68.05,66.2,69.7,69.45,67.95,65.9,65.85,64.75,63.35,64.5,65.8,65.55,71.35,64.15,75.7,65.1,67.85,64.4,66.1,68.85,66.65,67.55,67.55,68.3,66.8,63.75,66.75,70.0,64.0,63.55,67.55,65.1,63.75,68.45,67.25,65.8,69.15,68.35,61.0,69.35,70.2,66.0,69.6,70.25,61.6,64.25,64.25,65.85,63.8,69.45,66.5,62.2,67.3,63.9,64.2,71.6,65.0,62.4,61.95,66.4,65.2,60.7,67.45,65.15,67.4,67.95,64.45,66.4,67.25,65.1],\"xaxis\":\"x\",\"yaxis\":\"y\",\"type\":\"histogram\"}],                        {\"template\":{\"data\":{\"histogram2dcontour\":[{\"type\":\"histogram2dcontour\",\"colorbar\":{\"outlinewidth\":0,\"ticks\":\"\"},\"colorscale\":[[0.0,\"#0d0887\"],[0.1111111111111111,\"#46039f\"],[0.2222222222222222,\"#7201a8\"],[0.3333333333333333,\"#9c179e\"],[0.4444444444444444,\"#bd3786\"],[0.5555555555555556,\"#d8576b\"],[0.6666666666666666,\"#ed7953\"],[0.7777777777777778,\"#fb9f3a\"],[0.8888888888888888,\"#fdca26\"],[1.0,\"#f0f921\"]]}],\"choropleth\":[{\"type\":\"choropleth\",\"colorbar\":{\"outlinewidth\":0,\"ticks\":\"\"}}],\"histogram2d\":[{\"type\":\"histogram2d\",\"colorbar\":{\"outlinewidth\":0,\"ticks\":\"\"},\"colorscale\":[[0.0,\"#0d0887\"],[0.1111111111111111,\"#46039f\"],[0.2222222222222222,\"#7201a8\"],[0.3333333333333333,\"#9c179e\"],[0.4444444444444444,\"#bd3786\"],[0.5555555555555556,\"#d8576b\"],[0.6666666666666666,\"#ed7953\"],[0.7777777777777778,\"#fb9f3a\"],[0.8888888888888888,\"#fdca26\"],[1.0,\"#f0f921\"]]}],\"heatmap\":[{\"type\":\"heatmap\",\"colorbar\":{\"outlinewidth\":0,\"ticks\":\"\"},\"colorscale\":[[0.0,\"#0d0887\"],[0.1111111111111111,\"#46039f\"],[0.2222222222222222,\"#7201a8\"],[0.3333333333333333,\"#9c179e\"],[0.4444444444444444,\"#bd3786\"],[0.5555555555555556,\"#d8576b\"],[0.6666666666666666,\"#ed7953\"],[0.7777777777777778,\"#fb9f3a\"],[0.8888888888888888,\"#fdca26\"],[1.0,\"#f0f921\"]]}],\"heatmapgl\":[{\"type\":\"heatmapgl\",\"colorbar\":{\"outlinewidth\":0,\"ticks\":\"\"},\"colorscale\":[[0.0,\"#0d0887\"],[0.1111111111111111,\"#46039f\"],[0.2222222222222222,\"#7201a8\"],[0.3333333333333333,\"#9c179e\"],[0.4444444444444444,\"#bd3786\"],[0.5555555555555556,\"#d8576b\"],[0.6666666666666666,\"#ed7953\"],[0.7777777777777778,\"#fb9f3a\"],[0.8888888888888888,\"#fdca26\"],[1.0,\"#f0f921\"]]}],\"contourcarpet\":[{\"type\":\"contourcarpet\",\"colorbar\":{\"outlinewidth\":0,\"ticks\":\"\"}}],\"contour\":[{\"type\":\"contour\",\"colorbar\":{\"outlinewidth\":0,\"ticks\":\"\"},\"colorscale\":[[0.0,\"#0d0887\"],[0.1111111111111111,\"#46039f\"],[0.2222222222222222,\"#7201a8\"],[0.3333333333333333,\"#9c179e\"],[0.4444444444444444,\"#bd3786\"],[0.5555555555555556,\"#d8576b\"],[0.6666666666666666,\"#ed7953\"],[0.7777777777777778,\"#fb9f3a\"],[0.8888888888888888,\"#fdca26\"],[1.0,\"#f0f921\"]]}],\"surface\":[{\"type\":\"surface\",\"colorbar\":{\"outlinewidth\":0,\"ticks\":\"\"},\"colorscale\":[[0.0,\"#0d0887\"],[0.1111111111111111,\"#46039f\"],[0.2222222222222222,\"#7201a8\"],[0.3333333333333333,\"#9c179e\"],[0.4444444444444444,\"#bd3786\"],[0.5555555555555556,\"#d8576b\"],[0.6666666666666666,\"#ed7953\"],[0.7777777777777778,\"#fb9f3a\"],[0.8888888888888888,\"#fdca26\"],[1.0,\"#f0f921\"]]}],\"mesh3d\":[{\"type\":\"mesh3d\",\"colorbar\":{\"outlinewidth\":0,\"ticks\":\"\"}}],\"scatter\":[{\"fillpattern\":{\"fillmode\":\"overlay\",\"size\":10,\"solidity\":0.2},\"type\":\"scatter\"}],\"parcoords\":[{\"type\":\"parcoords\",\"line\":{\"colorbar\":{\"outlinewidth\":0,\"ticks\":\"\"}}}],\"scatterpolargl\":[{\"type\":\"scatterpolargl\",\"marker\":{\"colorbar\":{\"outlinewidth\":0,\"ticks\":\"\"}}}],\"bar\":[{\"error_x\":{\"color\":\"#2a3f5f\"},\"error_y\":{\"color\":\"#2a3f5f\"},\"marker\":{\"line\":{\"color\":\"#E5ECF6\",\"width\":0.5},\"pattern\":{\"fillmode\":\"overlay\",\"size\":10,\"solidity\":0.2}},\"type\":\"bar\"}],\"scattergeo\":[{\"type\":\"scattergeo\",\"marker\":{\"colorbar\":{\"outlinewidth\":0,\"ticks\":\"\"}}}],\"scatterpolar\":[{\"type\":\"scatterpolar\",\"marker\":{\"colorbar\":{\"outlinewidth\":0,\"ticks\":\"\"}}}],\"histogram\":[{\"marker\":{\"pattern\":{\"fillmode\":\"overlay\",\"size\":10,\"solidity\":0.2}},\"type\":\"histogram\"}],\"scattergl\":[{\"type\":\"scattergl\",\"marker\":{\"colorbar\":{\"outlinewidth\":0,\"ticks\":\"\"}}}],\"scatter3d\":[{\"type\":\"scatter3d\",\"line\":{\"colorbar\":{\"outlinewidth\":0,\"ticks\":\"\"}},\"marker\":{\"colorbar\":{\"outlinewidth\":0,\"ticks\":\"\"}}}],\"scattermapbox\":[{\"type\":\"scattermapbox\",\"marker\":{\"colorbar\":{\"outlinewidth\":0,\"ticks\":\"\"}}}],\"scatterternary\":[{\"type\":\"scatterternary\",\"marker\":{\"colorbar\":{\"outlinewidth\":0,\"ticks\":\"\"}}}],\"scattercarpet\":[{\"type\":\"scattercarpet\",\"marker\":{\"colorbar\":{\"outlinewidth\":0,\"ticks\":\"\"}}}],\"carpet\":[{\"aaxis\":{\"endlinecolor\":\"#2a3f5f\",\"gridcolor\":\"white\",\"linecolor\":\"white\",\"minorgridcolor\":\"white\",\"startlinecolor\":\"#2a3f5f\"},\"baxis\":{\"endlinecolor\":\"#2a3f5f\",\"gridcolor\":\"white\",\"linecolor\":\"white\",\"minorgridcolor\":\"white\",\"startlinecolor\":\"#2a3f5f\"},\"type\":\"carpet\"}],\"table\":[{\"cells\":{\"fill\":{\"color\":\"#EBF0F8\"},\"line\":{\"color\":\"white\"}},\"header\":{\"fill\":{\"color\":\"#C8D4E3\"},\"line\":{\"color\":\"white\"}},\"type\":\"table\"}],\"barpolar\":[{\"marker\":{\"line\":{\"color\":\"#E5ECF6\",\"width\":0.5},\"pattern\":{\"fillmode\":\"overlay\",\"size\":10,\"solidity\":0.2}},\"type\":\"barpolar\"}],\"pie\":[{\"automargin\":true,\"type\":\"pie\"}]},\"layout\":{\"autotypenumbers\":\"strict\",\"colorway\":[\"#636efa\",\"#EF553B\",\"#00cc96\",\"#ab63fa\",\"#FFA15A\",\"#19d3f3\",\"#FF6692\",\"#B6E880\",\"#FF97FF\",\"#FECB52\"],\"font\":{\"color\":\"#2a3f5f\"},\"hovermode\":\"closest\",\"hoverlabel\":{\"align\":\"left\"},\"paper_bgcolor\":\"white\",\"plot_bgcolor\":\"#E5ECF6\",\"polar\":{\"bgcolor\":\"#E5ECF6\",\"angularaxis\":{\"gridcolor\":\"white\",\"linecolor\":\"white\",\"ticks\":\"\"},\"radialaxis\":{\"gridcolor\":\"white\",\"linecolor\":\"white\",\"ticks\":\"\"}},\"ternary\":{\"bgcolor\":\"#E5ECF6\",\"aaxis\":{\"gridcolor\":\"white\",\"linecolor\":\"white\",\"ticks\":\"\"},\"baxis\":{\"gridcolor\":\"white\",\"linecolor\":\"white\",\"ticks\":\"\"},\"caxis\":{\"gridcolor\":\"white\",\"linecolor\":\"white\",\"ticks\":\"\"}},\"coloraxis\":{\"colorbar\":{\"outlinewidth\":0,\"ticks\":\"\"}},\"colorscale\":{\"sequential\":[[0.0,\"#0d0887\"],[0.1111111111111111,\"#46039f\"],[0.2222222222222222,\"#7201a8\"],[0.3333333333333333,\"#9c179e\"],[0.4444444444444444,\"#bd3786\"],[0.5555555555555556,\"#d8576b\"],[0.6666666666666666,\"#ed7953\"],[0.7777777777777778,\"#fb9f3a\"],[0.8888888888888888,\"#fdca26\"],[1.0,\"#f0f921\"]],\"sequentialminus\":[[0.0,\"#0d0887\"],[0.1111111111111111,\"#46039f\"],[0.2222222222222222,\"#7201a8\"],[0.3333333333333333,\"#9c179e\"],[0.4444444444444444,\"#bd3786\"],[0.5555555555555556,\"#d8576b\"],[0.6666666666666666,\"#ed7953\"],[0.7777777777777778,\"#fb9f3a\"],[0.8888888888888888,\"#fdca26\"],[1.0,\"#f0f921\"]],\"diverging\":[[0,\"#8e0152\"],[0.1,\"#c51b7d\"],[0.2,\"#de77ae\"],[0.3,\"#f1b6da\"],[0.4,\"#fde0ef\"],[0.5,\"#f7f7f7\"],[0.6,\"#e6f5d0\"],[0.7,\"#b8e186\"],[0.8,\"#7fbc41\"],[0.9,\"#4d9221\"],[1,\"#276419\"]]},\"xaxis\":{\"gridcolor\":\"white\",\"linecolor\":\"white\",\"ticks\":\"\",\"title\":{\"standoff\":15},\"zerolinecolor\":\"white\",\"automargin\":true,\"zerolinewidth\":2},\"yaxis\":{\"gridcolor\":\"white\",\"linecolor\":\"white\",\"ticks\":\"\",\"title\":{\"standoff\":15},\"zerolinecolor\":\"white\",\"automargin\":true,\"zerolinewidth\":2},\"scene\":{\"xaxis\":{\"backgroundcolor\":\"#E5ECF6\",\"gridcolor\":\"white\",\"linecolor\":\"white\",\"showbackground\":true,\"ticks\":\"\",\"zerolinecolor\":\"white\",\"gridwidth\":2},\"yaxis\":{\"backgroundcolor\":\"#E5ECF6\",\"gridcolor\":\"white\",\"linecolor\":\"white\",\"showbackground\":true,\"ticks\":\"\",\"zerolinecolor\":\"white\",\"gridwidth\":2},\"zaxis\":{\"backgroundcolor\":\"#E5ECF6\",\"gridcolor\":\"white\",\"linecolor\":\"white\",\"showbackground\":true,\"ticks\":\"\",\"zerolinecolor\":\"white\",\"gridwidth\":2}},\"shapedefaults\":{\"line\":{\"color\":\"#2a3f5f\"}},\"annotationdefaults\":{\"arrowcolor\":\"#2a3f5f\",\"arrowhead\":0,\"arrowwidth\":1},\"geo\":{\"bgcolor\":\"white\",\"landcolor\":\"#E5ECF6\",\"subunitcolor\":\"white\",\"showland\":true,\"showlakes\":true,\"lakecolor\":\"white\"},\"title\":{\"x\":0.05},\"mapbox\":{\"style\":\"light\"}}},\"xaxis\":{\"anchor\":\"y\",\"domain\":[0.0,1.0],\"title\":{\"text\":\"Bootstrapped Means\"}},\"yaxis\":{\"anchor\":\"x\",\"domain\":[0.0,1.0],\"title\":{\"text\":\"probability density\"}},\"legend\":{\"tracegroupgap\":0},\"margin\":{\"t\":60},\"barmode\":\"relative\"},                        {\"responsive\": true}                    ).then(function(){\n",
       "                            \n",
       "var gd = document.getElementById('f530b75a-42a3-4322-a38f-7df928a45f60');\n",
       "var x = new MutationObserver(function (mutations, observer) {{\n",
       "        var display = window.getComputedStyle(gd).display;\n",
       "        if (!display || display === 'none') {{\n",
       "            console.log([gd, 'removed!']);\n",
       "            Plotly.purge(gd);\n",
       "            observer.disconnect();\n",
       "        }}\n",
       "}});\n",
       "\n",
       "// Listen for the removal of the full notebook cells\n",
       "var notebookContainer = gd.closest('#notebook-container');\n",
       "if (notebookContainer) {{\n",
       "    x.observe(notebookContainer, {childList: true});\n",
       "}}\n",
       "\n",
       "// Listen for the clearing of the current output cell\n",
       "var outputEl = gd.closest('.output');\n",
       "if (outputEl) {{\n",
       "    x.observe(outputEl, {childList: true});\n",
       "}}\n",
       "\n",
       "                        })                };                });            </script>        </div>"
      ]
     },
     "metadata": {},
     "output_type": "display_data"
    }
   ],
   "source": [
    "np.random.seed(130) # Do NOT change this line - there is randomness when bootstrapping\n",
    "\n",
    "ages20_boot_means = []\n",
    "for i in range(1000):\n",
    "    ages20_boots_sample = np.random.choice(ages20['AGE'], 20)\n",
    "    ages20_boot_means += [ages20_boots_sample.mean()]\n",
    "\n",
    "fig = px.histogram(pd.DataFrame({\"Bootstrapped Means\": ages20_boot_means}), x=\"Bootstrapped Means\", histnorm='probability density', nbins=12)\n",
    "fig.show()"
   ]
  },
  {
   "cell_type": "code",
   "execution_count": 296,
   "id": "11342d20",
   "metadata": {},
   "outputs": [
    {
     "data": {
      "text/plain": [
       "66.32815"
      ]
     },
     "execution_count": 296,
     "metadata": {},
     "output_type": "execute_result"
    }
   ],
   "source": [
    "np.mean(ages20_boot_means)"
   ]
  },
  {
   "cell_type": "code",
   "execution_count": 297,
   "id": "48e9950d",
   "metadata": {},
   "outputs": [],
   "source": [
    "hint = \"\\n\\nOPTIONAL QUESTION: DOES NOT COUNT AGAINST STUDENT\\n\"\n",
    "hint += \"Included as an example answer for feedback purposes only\\n\\n\"\n",
    "hint += \"The overall mean of sample means can be calculated with `np.mean(bootstrapped_means)` and should give you 66.33.\"\n",
    "hint += \"\\n\\nCODE:\\n\"\n",
    "hint += '''\n",
    "ages20_boot_means = []\n",
    "for i in range(1000):\n",
    "    ages20_boots_sample = np.random.choice(ages20['AGE'], 20)\n",
    "    ages20_boot_means += [ages20_boots_sample.mean()]\n",
    "\n",
    "fig = px.histogram(pd.DataFrame({\"Bootstrapped Means\": ages20_boot_means}), x=\"Bootstrapped Means\", histnorm='probability density', nbins=12)\n",
    "fig.show()\n",
    "'''"
   ]
  },
  {
   "cell_type": "code",
   "execution_count": 298,
   "id": "a71648ee",
   "metadata": {},
   "outputs": [
    {
     "ename": "AssertionError",
     "evalue": "\n\nOPTIONAL QUESTION: DOES NOT COUNT AGAINST STUDENT\nIncluded as an example answer for feedback purposes only\n\nThe overall mean of sample means can be calculated with `np.mean(bootstrapped_means)` and should give you 66.33.\n\nCODE:\n\nages20_boot_means = []\nfor i in range(1000):\n    ages20_boots_sample = np.random.choice(ages20['AGE'], 20)\n    ages20_boot_means += [ages20_boots_sample.mean()]\n\nfig = px.histogram(pd.DataFrame({\"Bootstrapped Means\": ages20_boot_means}), x=\"Bootstrapped Means\", histnorm='probability density', nbins=12)\nfig.show()\n",
     "output_type": "error",
     "traceback": [
      "\u001b[0;31m---------------------------------------------------------------------------\u001b[0m",
      "\u001b[0;31mAssertionError\u001b[0m                            Traceback (most recent call last)",
      "Cell \u001b[0;32mIn[298], line 2\u001b[0m\n\u001b[1;32m      1\u001b[0m \u001b[38;5;66;03m# test_Q13\u001b[39;00m\n\u001b[0;32m----> 2\u001b[0m \u001b[38;5;28;01massert\u001b[39;00m \u001b[38;5;28;01mFalse\u001b[39;00m, hint\n",
      "\u001b[0;31mAssertionError\u001b[0m: \n\nOPTIONAL QUESTION: DOES NOT COUNT AGAINST STUDENT\nIncluded as an example answer for feedback purposes only\n\nThe overall mean of sample means can be calculated with `np.mean(bootstrapped_means)` and should give you 66.33.\n\nCODE:\n\nages20_boot_means = []\nfor i in range(1000):\n    ages20_boots_sample = np.random.choice(ages20['AGE'], 20)\n    ages20_boot_means += [ages20_boots_sample.mean()]\n\nfig = px.histogram(pd.DataFrame({\"Bootstrapped Means\": ages20_boot_means}), x=\"Bootstrapped Means\", histnorm='probability density', nbins=12)\nfig.show()\n"
     ]
    }
   ],
   "source": [
    "# test_Q13\n",
    "assert False, hint"
   ]
  },
  {
   "cell_type": "markdown",
   "id": "ea666383",
   "metadata": {},
   "source": [
    "### Q14: What distribution do the distributions we simulated in Q11 and Q13 both estimate? Comment on the similarities and differences for a given random seed initializations, and speculate how this could change under different random seed initializations.\n",
    "- Compare your response to the answer given in the ***MarkUs*** output "
   ]
  },
  {
   "cell_type": "markdown",
   "id": "73757be3",
   "metadata": {},
   "source": [
    "> Answer here..."
   ]
  },
  {
   "cell_type": "code",
   "execution_count": 299,
   "id": "2c8d3b48",
   "metadata": {},
   "outputs": [],
   "source": [
    "hint = \"\\n\\nOPTIONAL QUESTION: DOES NOT COUNT AGAINST STUDENT\\n\"\n",
    "hint += \"Included as an example answer for feedback purposes only\\n\\n\"\n",
    "hint += \"Both distributions estimate the same sampling distribution - the sampling distribution of the sample mean age of claimants based on a random samples of 20 claims. \"\n",
    "hint += \"So, it is not surprising that both estimated distributions are similar in terms of shape, centre and spread. \"\n",
    "hint += \"They are both approximately symmetric and unimodal, their means are relatively close (63.7 and 66.3 years respectively). \\n\\n\"\n",
    "hint += \"The estimate of the sampling distribution in Q11 was obtained by sampling directly from the population; whereas the estimate of the sampling distribution in Q13 was obtained by resampling (i.e., taking bootstrap samples) from a specific random sample of 20 claims. \"\n",
    "hint += \"If the sample is not representative of the population of claims, then the estimate of the sampling distribution based on bootstrap samples from that non-representative sample will not reflect the sampling distribution of mean ages very well.\""
   ]
  },
  {
   "cell_type": "code",
   "execution_count": 300,
   "id": "26ce21e0",
   "metadata": {},
   "outputs": [
    {
     "ename": "AssertionError",
     "evalue": "\n\nOPTIONAL QUESTION: DOES NOT COUNT AGAINST STUDENT\nIncluded as an example answer for feedback purposes only\n\nBoth distributions estimate the same sampling distribution - the sampling distribution of the sample mean age of claimants based on a random samples of 20 claims. So, it is not surprising that both estimated distributions are similar in terms of shape, centre and spread. They are both approximately symmetric and unimodal, their means are relatively close (63.7 and 66.3 years respectively). \n\nThe estimate of the sampling distribution in Q11 was obtained by sampling directly from the population; whereas the estimate of the sampling distribution in Q13 was obtained by resampling (i.e., taking bootstrap samples) from a specific random sample of 20 claims. If the sample is not representative of the population of claims, then the estimate of the sampling distribution based on bootstrap samples from that non-representative sample will not reflect the sampling distribution of mean ages very well.",
     "output_type": "error",
     "traceback": [
      "\u001b[0;31m---------------------------------------------------------------------------\u001b[0m",
      "\u001b[0;31mAssertionError\u001b[0m                            Traceback (most recent call last)",
      "Cell \u001b[0;32mIn[300], line 2\u001b[0m\n\u001b[1;32m      1\u001b[0m \u001b[38;5;66;03m# test_Q14\u001b[39;00m\n\u001b[0;32m----> 2\u001b[0m \u001b[38;5;28;01massert\u001b[39;00m \u001b[38;5;28;01mFalse\u001b[39;00m, hint\n",
      "\u001b[0;31mAssertionError\u001b[0m: \n\nOPTIONAL QUESTION: DOES NOT COUNT AGAINST STUDENT\nIncluded as an example answer for feedback purposes only\n\nBoth distributions estimate the same sampling distribution - the sampling distribution of the sample mean age of claimants based on a random samples of 20 claims. So, it is not surprising that both estimated distributions are similar in terms of shape, centre and spread. They are both approximately symmetric and unimodal, their means are relatively close (63.7 and 66.3 years respectively). \n\nThe estimate of the sampling distribution in Q11 was obtained by sampling directly from the population; whereas the estimate of the sampling distribution in Q13 was obtained by resampling (i.e., taking bootstrap samples) from a specific random sample of 20 claims. If the sample is not representative of the population of claims, then the estimate of the sampling distribution based on bootstrap samples from that non-representative sample will not reflect the sampling distribution of mean ages very well."
     ]
    }
   ],
   "source": [
    "# test_Q14\n",
    "assert False, hint"
   ]
  },
  {
   "cell_type": "markdown",
   "id": "1b595c94",
   "metadata": {},
   "source": [
    "# [OPTIONAL] Part 4: Gestation Data\n",
    "You may complete these questions for practice if you wish. ***You are not required to complete these\n",
    "questions as they ARE NOT included as part of your mark.***\n",
    "\n",
    "In this question we will look at data from the Child Health and Development Studies. Our data are adapted\n",
    "from the Gestation data set in the mosaicData package. Birth weight, date, and gestational period were\n",
    "collected as part of the Child Health and Development Studies in 1961 and 1962 for a sample of 400 mothers\n",
    "who had babies in these two years. Information about the baby’s parents—age, education, height, weight,\n",
    "and whether the mother smoked—was also recorded.\n",
    "We will find confidence intervals for parameters related to the distribution of the mother’s age, which for this\n",
    "sample is stored in the variable age."
   ]
  },
  {
   "cell_type": "code",
   "execution_count": 301,
   "id": "fe9ca9f9",
   "metadata": {},
   "outputs": [
    {
     "data": {
      "text/html": [
       "<div>\n",
       "<style scoped>\n",
       "    .dataframe tbody tr th:only-of-type {\n",
       "        vertical-align: middle;\n",
       "    }\n",
       "\n",
       "    .dataframe tbody tr th {\n",
       "        vertical-align: top;\n",
       "    }\n",
       "\n",
       "    .dataframe thead th {\n",
       "        text-align: right;\n",
       "    }\n",
       "</style>\n",
       "<table border=\"1\" class=\"dataframe\">\n",
       "  <thead>\n",
       "    <tr style=\"text-align: right;\">\n",
       "      <th></th>\n",
       "      <th>id</th>\n",
       "      <th>pluralty</th>\n",
       "      <th>outcome</th>\n",
       "      <th>date</th>\n",
       "      <th>gestation</th>\n",
       "      <th>sex</th>\n",
       "      <th>wt</th>\n",
       "      <th>parity</th>\n",
       "      <th>race</th>\n",
       "      <th>age</th>\n",
       "      <th>...</th>\n",
       "      <th>drace</th>\n",
       "      <th>dage</th>\n",
       "      <th>ded</th>\n",
       "      <th>dht</th>\n",
       "      <th>dwt</th>\n",
       "      <th>marital</th>\n",
       "      <th>inc</th>\n",
       "      <th>smoke</th>\n",
       "      <th>time</th>\n",
       "      <th>number</th>\n",
       "    </tr>\n",
       "  </thead>\n",
       "  <tbody>\n",
       "    <tr>\n",
       "      <th>0</th>\n",
       "      <td>72</td>\n",
       "      <td>5</td>\n",
       "      <td>1</td>\n",
       "      <td>1425</td>\n",
       "      <td>282.0</td>\n",
       "      <td>1</td>\n",
       "      <td>108</td>\n",
       "      <td>1</td>\n",
       "      <td>0</td>\n",
       "      <td>23</td>\n",
       "      <td>...</td>\n",
       "      <td>0</td>\n",
       "      <td>24.0</td>\n",
       "      <td>5.0</td>\n",
       "      <td>NaN</td>\n",
       "      <td>NaN</td>\n",
       "      <td>1</td>\n",
       "      <td>1.0</td>\n",
       "      <td>1.0</td>\n",
       "      <td>1.0</td>\n",
       "      <td>5.0</td>\n",
       "    </tr>\n",
       "    <tr>\n",
       "      <th>1</th>\n",
       "      <td>100</td>\n",
       "      <td>5</td>\n",
       "      <td>1</td>\n",
       "      <td>1673</td>\n",
       "      <td>286.0</td>\n",
       "      <td>1</td>\n",
       "      <td>136</td>\n",
       "      <td>4</td>\n",
       "      <td>0</td>\n",
       "      <td>25</td>\n",
       "      <td>...</td>\n",
       "      <td>3</td>\n",
       "      <td>28.0</td>\n",
       "      <td>2.0</td>\n",
       "      <td>64.0</td>\n",
       "      <td>130.0</td>\n",
       "      <td>1</td>\n",
       "      <td>4.0</td>\n",
       "      <td>2.0</td>\n",
       "      <td>2.0</td>\n",
       "      <td>2.0</td>\n",
       "    </tr>\n",
       "    <tr>\n",
       "      <th>2</th>\n",
       "      <td>148</td>\n",
       "      <td>5</td>\n",
       "      <td>1</td>\n",
       "      <td>1568</td>\n",
       "      <td>299.0</td>\n",
       "      <td>1</td>\n",
       "      <td>143</td>\n",
       "      <td>3</td>\n",
       "      <td>0</td>\n",
       "      <td>30</td>\n",
       "      <td>...</td>\n",
       "      <td>0</td>\n",
       "      <td>34.0</td>\n",
       "      <td>5.0</td>\n",
       "      <td>NaN</td>\n",
       "      <td>NaN</td>\n",
       "      <td>1</td>\n",
       "      <td>2.0</td>\n",
       "      <td>1.0</td>\n",
       "      <td>1.0</td>\n",
       "      <td>4.0</td>\n",
       "    </tr>\n",
       "    <tr>\n",
       "      <th>3</th>\n",
       "      <td>164</td>\n",
       "      <td>5</td>\n",
       "      <td>1</td>\n",
       "      <td>1554</td>\n",
       "      <td>351.0</td>\n",
       "      <td>1</td>\n",
       "      <td>140</td>\n",
       "      <td>2</td>\n",
       "      <td>0</td>\n",
       "      <td>27</td>\n",
       "      <td>...</td>\n",
       "      <td>5</td>\n",
       "      <td>28.0</td>\n",
       "      <td>4.0</td>\n",
       "      <td>NaN</td>\n",
       "      <td>NaN</td>\n",
       "      <td>1</td>\n",
       "      <td>NaN</td>\n",
       "      <td>3.0</td>\n",
       "      <td>4.0</td>\n",
       "      <td>2.0</td>\n",
       "    </tr>\n",
       "    <tr>\n",
       "      <th>4</th>\n",
       "      <td>217</td>\n",
       "      <td>5</td>\n",
       "      <td>1</td>\n",
       "      <td>1605</td>\n",
       "      <td>261.0</td>\n",
       "      <td>1</td>\n",
       "      <td>115</td>\n",
       "      <td>3</td>\n",
       "      <td>3</td>\n",
       "      <td>33</td>\n",
       "      <td>...</td>\n",
       "      <td>3</td>\n",
       "      <td>33.0</td>\n",
       "      <td>2.0</td>\n",
       "      <td>70.0</td>\n",
       "      <td>140.0</td>\n",
       "      <td>1</td>\n",
       "      <td>4.0</td>\n",
       "      <td>1.0</td>\n",
       "      <td>1.0</td>\n",
       "      <td>5.0</td>\n",
       "    </tr>\n",
       "    <tr>\n",
       "      <th>...</th>\n",
       "      <td>...</td>\n",
       "      <td>...</td>\n",
       "      <td>...</td>\n",
       "      <td>...</td>\n",
       "      <td>...</td>\n",
       "      <td>...</td>\n",
       "      <td>...</td>\n",
       "      <td>...</td>\n",
       "      <td>...</td>\n",
       "      <td>...</td>\n",
       "      <td>...</td>\n",
       "      <td>...</td>\n",
       "      <td>...</td>\n",
       "      <td>...</td>\n",
       "      <td>...</td>\n",
       "      <td>...</td>\n",
       "      <td>...</td>\n",
       "      <td>...</td>\n",
       "      <td>...</td>\n",
       "      <td>...</td>\n",
       "      <td>...</td>\n",
       "    </tr>\n",
       "    <tr>\n",
       "      <th>395</th>\n",
       "      <td>8955</td>\n",
       "      <td>5</td>\n",
       "      <td>1</td>\n",
       "      <td>1692</td>\n",
       "      <td>262.0</td>\n",
       "      <td>1</td>\n",
       "      <td>115</td>\n",
       "      <td>0</td>\n",
       "      <td>0</td>\n",
       "      <td>23</td>\n",
       "      <td>...</td>\n",
       "      <td>1</td>\n",
       "      <td>24.0</td>\n",
       "      <td>4.0</td>\n",
       "      <td>73.0</td>\n",
       "      <td>201.0</td>\n",
       "      <td>1</td>\n",
       "      <td>NaN</td>\n",
       "      <td>1.0</td>\n",
       "      <td>1.0</td>\n",
       "      <td>7.0</td>\n",
       "    </tr>\n",
       "    <tr>\n",
       "      <th>396</th>\n",
       "      <td>8966</td>\n",
       "      <td>5</td>\n",
       "      <td>1</td>\n",
       "      <td>1675</td>\n",
       "      <td>287.0</td>\n",
       "      <td>1</td>\n",
       "      <td>113</td>\n",
       "      <td>0</td>\n",
       "      <td>3</td>\n",
       "      <td>29</td>\n",
       "      <td>...</td>\n",
       "      <td>2</td>\n",
       "      <td>32.0</td>\n",
       "      <td>2.0</td>\n",
       "      <td>NaN</td>\n",
       "      <td>NaN</td>\n",
       "      <td>1</td>\n",
       "      <td>9.0</td>\n",
       "      <td>1.0</td>\n",
       "      <td>1.0</td>\n",
       "      <td>2.0</td>\n",
       "    </tr>\n",
       "    <tr>\n",
       "      <th>397</th>\n",
       "      <td>8987</td>\n",
       "      <td>5</td>\n",
       "      <td>1</td>\n",
       "      <td>1681</td>\n",
       "      <td>244.0</td>\n",
       "      <td>1</td>\n",
       "      <td>109</td>\n",
       "      <td>0</td>\n",
       "      <td>0</td>\n",
       "      <td>21</td>\n",
       "      <td>...</td>\n",
       "      <td>0</td>\n",
       "      <td>22.0</td>\n",
       "      <td>2.0</td>\n",
       "      <td>66.0</td>\n",
       "      <td>140.0</td>\n",
       "      <td>1</td>\n",
       "      <td>3.0</td>\n",
       "      <td>1.0</td>\n",
       "      <td>1.0</td>\n",
       "      <td>5.0</td>\n",
       "    </tr>\n",
       "    <tr>\n",
       "      <th>398</th>\n",
       "      <td>9120</td>\n",
       "      <td>5</td>\n",
       "      <td>1</td>\n",
       "      <td>1681</td>\n",
       "      <td>270.0</td>\n",
       "      <td>1</td>\n",
       "      <td>132</td>\n",
       "      <td>3</td>\n",
       "      <td>7</td>\n",
       "      <td>27</td>\n",
       "      <td>...</td>\n",
       "      <td>7</td>\n",
       "      <td>35.0</td>\n",
       "      <td>1.0</td>\n",
       "      <td>69.0</td>\n",
       "      <td>200.0</td>\n",
       "      <td>1</td>\n",
       "      <td>3.0</td>\n",
       "      <td>3.0</td>\n",
       "      <td>3.0</td>\n",
       "      <td>1.0</td>\n",
       "    </tr>\n",
       "    <tr>\n",
       "      <th>399</th>\n",
       "      <td>9153</td>\n",
       "      <td>5</td>\n",
       "      <td>1</td>\n",
       "      <td>1672</td>\n",
       "      <td>275.0</td>\n",
       "      <td>1</td>\n",
       "      <td>113</td>\n",
       "      <td>0</td>\n",
       "      <td>0</td>\n",
       "      <td>27</td>\n",
       "      <td>...</td>\n",
       "      <td>0</td>\n",
       "      <td>32.0</td>\n",
       "      <td>4.0</td>\n",
       "      <td>72.0</td>\n",
       "      <td>190.0</td>\n",
       "      <td>1</td>\n",
       "      <td>4.0</td>\n",
       "      <td>0.0</td>\n",
       "      <td>0.0</td>\n",
       "      <td>0.0</td>\n",
       "    </tr>\n",
       "  </tbody>\n",
       "</table>\n",
       "<p>400 rows × 23 columns</p>\n",
       "</div>"
      ],
      "text/plain": [
       "       id  pluralty  outcome  date  gestation  sex   wt  parity  race  age  \\\n",
       "0      72         5        1  1425      282.0    1  108       1     0   23   \n",
       "1     100         5        1  1673      286.0    1  136       4     0   25   \n",
       "2     148         5        1  1568      299.0    1  143       3     0   30   \n",
       "3     164         5        1  1554      351.0    1  140       2     0   27   \n",
       "4     217         5        1  1605      261.0    1  115       3     3   33   \n",
       "..    ...       ...      ...   ...        ...  ...  ...     ...   ...  ...   \n",
       "395  8955         5        1  1692      262.0    1  115       0     0   23   \n",
       "396  8966         5        1  1675      287.0    1  113       0     3   29   \n",
       "397  8987         5        1  1681      244.0    1  109       0     0   21   \n",
       "398  9120         5        1  1681      270.0    1  132       3     7   27   \n",
       "399  9153         5        1  1672      275.0    1  113       0     0   27   \n",
       "\n",
       "     ...  drace  dage  ded   dht    dwt  marital  inc  smoke  time  number  \n",
       "0    ...      0  24.0  5.0   NaN    NaN        1  1.0    1.0   1.0     5.0  \n",
       "1    ...      3  28.0  2.0  64.0  130.0        1  4.0    2.0   2.0     2.0  \n",
       "2    ...      0  34.0  5.0   NaN    NaN        1  2.0    1.0   1.0     4.0  \n",
       "3    ...      5  28.0  4.0   NaN    NaN        1  NaN    3.0   4.0     2.0  \n",
       "4    ...      3  33.0  2.0  70.0  140.0        1  4.0    1.0   1.0     5.0  \n",
       "..   ...    ...   ...  ...   ...    ...      ...  ...    ...   ...     ...  \n",
       "395  ...      1  24.0  4.0  73.0  201.0        1  NaN    1.0   1.0     7.0  \n",
       "396  ...      2  32.0  2.0   NaN    NaN        1  9.0    1.0   1.0     2.0  \n",
       "397  ...      0  22.0  2.0  66.0  140.0        1  3.0    1.0   1.0     5.0  \n",
       "398  ...      7  35.0  1.0  69.0  200.0        1  3.0    3.0   3.0     1.0  \n",
       "399  ...      0  32.0  4.0  72.0  190.0        1  4.0    0.0   0.0     0.0  \n",
       "\n",
       "[400 rows x 23 columns]"
      ]
     },
     "execution_count": 301,
     "metadata": {},
     "output_type": "execute_result"
    }
   ],
   "source": [
    "# Import 'gestation.csv'\n",
    "gestation = pd.read_csv('gestation.csv')\n",
    "gestation"
   ]
  },
  {
   "cell_type": "markdown",
   "id": "f8ccd93a",
   "metadata": {},
   "source": [
    "### Q15: Suppose we are interested in how means of random samples of n=400 mothers vary across possible samples of 400 mothers we could take from the population. Explain why it is not possible to use these data (i.e., ‘Gestation’) to estimate this like we did in Q11.\n",
    "- Compare your response to the answer given in the ***MarkUs*** output "
   ]
  },
  {
   "cell_type": "markdown",
   "id": "863657b9",
   "metadata": {},
   "source": [
    "> Answer here..."
   ]
  },
  {
   "cell_type": "code",
   "execution_count": 302,
   "id": "eadd9714",
   "metadata": {},
   "outputs": [],
   "source": [
    "hint = \"\\n\\nOPTIONAL QUESTION: DOES NOT COUNT AGAINST STUDENT\\n\"\n",
    "hint += \"Included as an example answer for feedback purposes only\\n\\n\"\n",
    "hint += \"In Q11, we estimated the sampling distribution of the sample mean based on samples of n=20 observations by \"\n",
    "hint += \"repeatedly drawing samples of size 20 from the population of claims, which were available in the 'auto_claims_population.csv' data set. \"\n",
    "hint += \"The data for this question are on a sample of mothers who participated in the Child Health and Development Studies in 1961 and 1962. \"\n",
    "hint += \"The n=400 ages here, then, represent ages for a *sample* of mothers, not the entire population. \"\n",
    "hint += \"Therefore, we cannot repeatedly take samples of 400 observations from the population. We do not have data on the entire population.\""
   ]
  },
  {
   "cell_type": "code",
   "execution_count": 303,
   "id": "979d8cc2",
   "metadata": {},
   "outputs": [
    {
     "ename": "AssertionError",
     "evalue": "\n\nOPTIONAL QUESTION: DOES NOT COUNT AGAINST STUDENT\nIncluded as an example answer for feedback purposes only\n\nIn Q11, we estimated the sampling distribution of the sample mean based on samples of n=20 observations by repeatedly drawing samples of size 20 from the population of claims, which were available in the 'auto_claims_population.csv' data set. The data for this question are on a sample of mothers who participated in the Child Health and Development Studies in 1961 and 1962. The n=400 ages here, then, represent ages for a *sample* of mothers, not the entire population. Therefore, we cannot repeatedly take samples of 400 observations from the population. We do not have data on the entire population.",
     "output_type": "error",
     "traceback": [
      "\u001b[0;31m---------------------------------------------------------------------------\u001b[0m",
      "\u001b[0;31mAssertionError\u001b[0m                            Traceback (most recent call last)",
      "Cell \u001b[0;32mIn[303], line 2\u001b[0m\n\u001b[1;32m      1\u001b[0m \u001b[38;5;66;03m# test_Q15\u001b[39;00m\n\u001b[0;32m----> 2\u001b[0m \u001b[38;5;28;01massert\u001b[39;00m \u001b[38;5;28;01mFalse\u001b[39;00m, hint\n",
      "\u001b[0;31mAssertionError\u001b[0m: \n\nOPTIONAL QUESTION: DOES NOT COUNT AGAINST STUDENT\nIncluded as an example answer for feedback purposes only\n\nIn Q11, we estimated the sampling distribution of the sample mean based on samples of n=20 observations by repeatedly drawing samples of size 20 from the population of claims, which were available in the 'auto_claims_population.csv' data set. The data for this question are on a sample of mothers who participated in the Child Health and Development Studies in 1961 and 1962. The n=400 ages here, then, represent ages for a *sample* of mothers, not the entire population. Therefore, we cannot repeatedly take samples of 400 observations from the population. We do not have data on the entire population."
     ]
    }
   ],
   "source": [
    "# test_Q15\n",
    "assert False, hint"
   ]
  },
  {
   "cell_type": "markdown",
   "id": "a531dc64",
   "metadata": {},
   "source": [
    "### Q16: The plot below shows the bootstrap distribution for the mean of mother’s age for 100 bootstrap samples. The red bar is the estimate of the mean for the first bootstrap sample, and the grey dots are the estimates of the mean for the other 99 bootstrap samples. Explain how the value of the red dot is calculated; then, using the plot, estimate a 90% confidence interval for the mean of mother’s age.\n",
    "- Compare your response to the answer given in the ***MarkUs*** output "
   ]
  },
  {
   "cell_type": "code",
   "execution_count": 304,
   "id": "fb2fffa0",
   "metadata": {},
   "outputs": [
    {
     "data": {
      "application/vnd.plotly.v1+json": {
       "config": {
        "plotlyServerURL": "https://plot.ly"
       },
       "data": [
        {
         "marker": {
          "color": "red"
         },
         "type": "histogram",
         "x": [
          27.825
         ]
        },
        {
         "marker": {
          "color": "darkgrey"
         },
         "type": "histogram",
         "x": [
          27.4075,
          27.1375,
          27.305,
          27.6425,
          27.01,
          27.405,
          27.185,
          27.1625,
          27.345,
          27.4075,
          27.2925,
          27.5075,
          27.7625,
          27.125,
          27.425,
          27.2225,
          27.7675,
          27.115,
          27.545,
          27.29,
          27.39,
          27.6,
          27.56,
          27.545,
          27.7125,
          27.245,
          27.815,
          27.805,
          27.4475,
          28.04,
          27.7625,
          27.39,
          27.3775,
          27.4125,
          27.2075,
          27.625,
          27.64,
          27.325,
          27.375,
          27.6425,
          27.1875,
          27.9775,
          27.815,
          26.9725,
          27.28,
          27.3875,
          26.715,
          27.45,
          27.92,
          27.7775,
          27.405,
          27.5625,
          27.47,
          27.3075,
          27.3425,
          27.6525,
          27.48,
          27.675,
          27.0575,
          27.25,
          27.5225,
          26.8425,
          27.305,
          27.555,
          27.87,
          27.465,
          27.92,
          27.5675,
          27.87,
          27.27,
          27.515,
          27.4525,
          27.44,
          27.5875,
          27.735,
          27.2875,
          27.0475,
          26.9975,
          27.8,
          27.105,
          27.18,
          27.0275,
          27.58,
          27.015,
          28.0875,
          27.2625,
          27.2925,
          27.8125,
          27.3975,
          27.775,
          27.005,
          27.6325,
          27.3325,
          27.3275,
          27.525,
          27.73,
          27.5525,
          27.245,
          27.42
         ]
        }
       ],
       "layout": {
        "barmode": "stack",
        "showlegend": false,
        "template": {
         "data": {
          "bar": [
           {
            "error_x": {
             "color": "#2a3f5f"
            },
            "error_y": {
             "color": "#2a3f5f"
            },
            "marker": {
             "line": {
              "color": "#E5ECF6",
              "width": 0.5
             },
             "pattern": {
              "fillmode": "overlay",
              "size": 10,
              "solidity": 0.2
             }
            },
            "type": "bar"
           }
          ],
          "barpolar": [
           {
            "marker": {
             "line": {
              "color": "#E5ECF6",
              "width": 0.5
             },
             "pattern": {
              "fillmode": "overlay",
              "size": 10,
              "solidity": 0.2
             }
            },
            "type": "barpolar"
           }
          ],
          "carpet": [
           {
            "aaxis": {
             "endlinecolor": "#2a3f5f",
             "gridcolor": "white",
             "linecolor": "white",
             "minorgridcolor": "white",
             "startlinecolor": "#2a3f5f"
            },
            "baxis": {
             "endlinecolor": "#2a3f5f",
             "gridcolor": "white",
             "linecolor": "white",
             "minorgridcolor": "white",
             "startlinecolor": "#2a3f5f"
            },
            "type": "carpet"
           }
          ],
          "choropleth": [
           {
            "colorbar": {
             "outlinewidth": 0,
             "ticks": ""
            },
            "type": "choropleth"
           }
          ],
          "contour": [
           {
            "colorbar": {
             "outlinewidth": 0,
             "ticks": ""
            },
            "colorscale": [
             [
              0,
              "#0d0887"
             ],
             [
              0.1111111111111111,
              "#46039f"
             ],
             [
              0.2222222222222222,
              "#7201a8"
             ],
             [
              0.3333333333333333,
              "#9c179e"
             ],
             [
              0.4444444444444444,
              "#bd3786"
             ],
             [
              0.5555555555555556,
              "#d8576b"
             ],
             [
              0.6666666666666666,
              "#ed7953"
             ],
             [
              0.7777777777777778,
              "#fb9f3a"
             ],
             [
              0.8888888888888888,
              "#fdca26"
             ],
             [
              1,
              "#f0f921"
             ]
            ],
            "type": "contour"
           }
          ],
          "contourcarpet": [
           {
            "colorbar": {
             "outlinewidth": 0,
             "ticks": ""
            },
            "type": "contourcarpet"
           }
          ],
          "heatmap": [
           {
            "colorbar": {
             "outlinewidth": 0,
             "ticks": ""
            },
            "colorscale": [
             [
              0,
              "#0d0887"
             ],
             [
              0.1111111111111111,
              "#46039f"
             ],
             [
              0.2222222222222222,
              "#7201a8"
             ],
             [
              0.3333333333333333,
              "#9c179e"
             ],
             [
              0.4444444444444444,
              "#bd3786"
             ],
             [
              0.5555555555555556,
              "#d8576b"
             ],
             [
              0.6666666666666666,
              "#ed7953"
             ],
             [
              0.7777777777777778,
              "#fb9f3a"
             ],
             [
              0.8888888888888888,
              "#fdca26"
             ],
             [
              1,
              "#f0f921"
             ]
            ],
            "type": "heatmap"
           }
          ],
          "heatmapgl": [
           {
            "colorbar": {
             "outlinewidth": 0,
             "ticks": ""
            },
            "colorscale": [
             [
              0,
              "#0d0887"
             ],
             [
              0.1111111111111111,
              "#46039f"
             ],
             [
              0.2222222222222222,
              "#7201a8"
             ],
             [
              0.3333333333333333,
              "#9c179e"
             ],
             [
              0.4444444444444444,
              "#bd3786"
             ],
             [
              0.5555555555555556,
              "#d8576b"
             ],
             [
              0.6666666666666666,
              "#ed7953"
             ],
             [
              0.7777777777777778,
              "#fb9f3a"
             ],
             [
              0.8888888888888888,
              "#fdca26"
             ],
             [
              1,
              "#f0f921"
             ]
            ],
            "type": "heatmapgl"
           }
          ],
          "histogram": [
           {
            "marker": {
             "pattern": {
              "fillmode": "overlay",
              "size": 10,
              "solidity": 0.2
             }
            },
            "type": "histogram"
           }
          ],
          "histogram2d": [
           {
            "colorbar": {
             "outlinewidth": 0,
             "ticks": ""
            },
            "colorscale": [
             [
              0,
              "#0d0887"
             ],
             [
              0.1111111111111111,
              "#46039f"
             ],
             [
              0.2222222222222222,
              "#7201a8"
             ],
             [
              0.3333333333333333,
              "#9c179e"
             ],
             [
              0.4444444444444444,
              "#bd3786"
             ],
             [
              0.5555555555555556,
              "#d8576b"
             ],
             [
              0.6666666666666666,
              "#ed7953"
             ],
             [
              0.7777777777777778,
              "#fb9f3a"
             ],
             [
              0.8888888888888888,
              "#fdca26"
             ],
             [
              1,
              "#f0f921"
             ]
            ],
            "type": "histogram2d"
           }
          ],
          "histogram2dcontour": [
           {
            "colorbar": {
             "outlinewidth": 0,
             "ticks": ""
            },
            "colorscale": [
             [
              0,
              "#0d0887"
             ],
             [
              0.1111111111111111,
              "#46039f"
             ],
             [
              0.2222222222222222,
              "#7201a8"
             ],
             [
              0.3333333333333333,
              "#9c179e"
             ],
             [
              0.4444444444444444,
              "#bd3786"
             ],
             [
              0.5555555555555556,
              "#d8576b"
             ],
             [
              0.6666666666666666,
              "#ed7953"
             ],
             [
              0.7777777777777778,
              "#fb9f3a"
             ],
             [
              0.8888888888888888,
              "#fdca26"
             ],
             [
              1,
              "#f0f921"
             ]
            ],
            "type": "histogram2dcontour"
           }
          ],
          "mesh3d": [
           {
            "colorbar": {
             "outlinewidth": 0,
             "ticks": ""
            },
            "type": "mesh3d"
           }
          ],
          "parcoords": [
           {
            "line": {
             "colorbar": {
              "outlinewidth": 0,
              "ticks": ""
             }
            },
            "type": "parcoords"
           }
          ],
          "pie": [
           {
            "automargin": true,
            "type": "pie"
           }
          ],
          "scatter": [
           {
            "fillpattern": {
             "fillmode": "overlay",
             "size": 10,
             "solidity": 0.2
            },
            "type": "scatter"
           }
          ],
          "scatter3d": [
           {
            "line": {
             "colorbar": {
              "outlinewidth": 0,
              "ticks": ""
             }
            },
            "marker": {
             "colorbar": {
              "outlinewidth": 0,
              "ticks": ""
             }
            },
            "type": "scatter3d"
           }
          ],
          "scattercarpet": [
           {
            "marker": {
             "colorbar": {
              "outlinewidth": 0,
              "ticks": ""
             }
            },
            "type": "scattercarpet"
           }
          ],
          "scattergeo": [
           {
            "marker": {
             "colorbar": {
              "outlinewidth": 0,
              "ticks": ""
             }
            },
            "type": "scattergeo"
           }
          ],
          "scattergl": [
           {
            "marker": {
             "colorbar": {
              "outlinewidth": 0,
              "ticks": ""
             }
            },
            "type": "scattergl"
           }
          ],
          "scattermapbox": [
           {
            "marker": {
             "colorbar": {
              "outlinewidth": 0,
              "ticks": ""
             }
            },
            "type": "scattermapbox"
           }
          ],
          "scatterpolar": [
           {
            "marker": {
             "colorbar": {
              "outlinewidth": 0,
              "ticks": ""
             }
            },
            "type": "scatterpolar"
           }
          ],
          "scatterpolargl": [
           {
            "marker": {
             "colorbar": {
              "outlinewidth": 0,
              "ticks": ""
             }
            },
            "type": "scatterpolargl"
           }
          ],
          "scatterternary": [
           {
            "marker": {
             "colorbar": {
              "outlinewidth": 0,
              "ticks": ""
             }
            },
            "type": "scatterternary"
           }
          ],
          "surface": [
           {
            "colorbar": {
             "outlinewidth": 0,
             "ticks": ""
            },
            "colorscale": [
             [
              0,
              "#0d0887"
             ],
             [
              0.1111111111111111,
              "#46039f"
             ],
             [
              0.2222222222222222,
              "#7201a8"
             ],
             [
              0.3333333333333333,
              "#9c179e"
             ],
             [
              0.4444444444444444,
              "#bd3786"
             ],
             [
              0.5555555555555556,
              "#d8576b"
             ],
             [
              0.6666666666666666,
              "#ed7953"
             ],
             [
              0.7777777777777778,
              "#fb9f3a"
             ],
             [
              0.8888888888888888,
              "#fdca26"
             ],
             [
              1,
              "#f0f921"
             ]
            ],
            "type": "surface"
           }
          ],
          "table": [
           {
            "cells": {
             "fill": {
              "color": "#EBF0F8"
             },
             "line": {
              "color": "white"
             }
            },
            "header": {
             "fill": {
              "color": "#C8D4E3"
             },
             "line": {
              "color": "white"
             }
            },
            "type": "table"
           }
          ]
         },
         "layout": {
          "annotationdefaults": {
           "arrowcolor": "#2a3f5f",
           "arrowhead": 0,
           "arrowwidth": 1
          },
          "autotypenumbers": "strict",
          "coloraxis": {
           "colorbar": {
            "outlinewidth": 0,
            "ticks": ""
           }
          },
          "colorscale": {
           "diverging": [
            [
             0,
             "#8e0152"
            ],
            [
             0.1,
             "#c51b7d"
            ],
            [
             0.2,
             "#de77ae"
            ],
            [
             0.3,
             "#f1b6da"
            ],
            [
             0.4,
             "#fde0ef"
            ],
            [
             0.5,
             "#f7f7f7"
            ],
            [
             0.6,
             "#e6f5d0"
            ],
            [
             0.7,
             "#b8e186"
            ],
            [
             0.8,
             "#7fbc41"
            ],
            [
             0.9,
             "#4d9221"
            ],
            [
             1,
             "#276419"
            ]
           ],
           "sequential": [
            [
             0,
             "#0d0887"
            ],
            [
             0.1111111111111111,
             "#46039f"
            ],
            [
             0.2222222222222222,
             "#7201a8"
            ],
            [
             0.3333333333333333,
             "#9c179e"
            ],
            [
             0.4444444444444444,
             "#bd3786"
            ],
            [
             0.5555555555555556,
             "#d8576b"
            ],
            [
             0.6666666666666666,
             "#ed7953"
            ],
            [
             0.7777777777777778,
             "#fb9f3a"
            ],
            [
             0.8888888888888888,
             "#fdca26"
            ],
            [
             1,
             "#f0f921"
            ]
           ],
           "sequentialminus": [
            [
             0,
             "#0d0887"
            ],
            [
             0.1111111111111111,
             "#46039f"
            ],
            [
             0.2222222222222222,
             "#7201a8"
            ],
            [
             0.3333333333333333,
             "#9c179e"
            ],
            [
             0.4444444444444444,
             "#bd3786"
            ],
            [
             0.5555555555555556,
             "#d8576b"
            ],
            [
             0.6666666666666666,
             "#ed7953"
            ],
            [
             0.7777777777777778,
             "#fb9f3a"
            ],
            [
             0.8888888888888888,
             "#fdca26"
            ],
            [
             1,
             "#f0f921"
            ]
           ]
          },
          "colorway": [
           "#636efa",
           "#EF553B",
           "#00cc96",
           "#ab63fa",
           "#FFA15A",
           "#19d3f3",
           "#FF6692",
           "#B6E880",
           "#FF97FF",
           "#FECB52"
          ],
          "font": {
           "color": "#2a3f5f"
          },
          "geo": {
           "bgcolor": "white",
           "lakecolor": "white",
           "landcolor": "#E5ECF6",
           "showlakes": true,
           "showland": true,
           "subunitcolor": "white"
          },
          "hoverlabel": {
           "align": "left"
          },
          "hovermode": "closest",
          "mapbox": {
           "style": "light"
          },
          "paper_bgcolor": "white",
          "plot_bgcolor": "#E5ECF6",
          "polar": {
           "angularaxis": {
            "gridcolor": "white",
            "linecolor": "white",
            "ticks": ""
           },
           "bgcolor": "#E5ECF6",
           "radialaxis": {
            "gridcolor": "white",
            "linecolor": "white",
            "ticks": ""
           }
          },
          "scene": {
           "xaxis": {
            "backgroundcolor": "#E5ECF6",
            "gridcolor": "white",
            "gridwidth": 2,
            "linecolor": "white",
            "showbackground": true,
            "ticks": "",
            "zerolinecolor": "white"
           },
           "yaxis": {
            "backgroundcolor": "#E5ECF6",
            "gridcolor": "white",
            "gridwidth": 2,
            "linecolor": "white",
            "showbackground": true,
            "ticks": "",
            "zerolinecolor": "white"
           },
           "zaxis": {
            "backgroundcolor": "#E5ECF6",
            "gridcolor": "white",
            "gridwidth": 2,
            "linecolor": "white",
            "showbackground": true,
            "ticks": "",
            "zerolinecolor": "white"
           }
          },
          "shapedefaults": {
           "line": {
            "color": "#2a3f5f"
           }
          },
          "ternary": {
           "aaxis": {
            "gridcolor": "white",
            "linecolor": "white",
            "ticks": ""
           },
           "baxis": {
            "gridcolor": "white",
            "linecolor": "white",
            "ticks": ""
           },
           "bgcolor": "#E5ECF6",
           "caxis": {
            "gridcolor": "white",
            "linecolor": "white",
            "ticks": ""
           }
          },
          "title": {
           "x": 0.05
          },
          "xaxis": {
           "automargin": true,
           "gridcolor": "white",
           "linecolor": "white",
           "ticks": "",
           "title": {
            "standoff": 15
           },
           "zerolinecolor": "white",
           "zerolinewidth": 2
          },
          "yaxis": {
           "automargin": true,
           "gridcolor": "white",
           "linecolor": "white",
           "ticks": "",
           "title": {
            "standoff": 15
           },
           "zerolinecolor": "white",
           "zerolinewidth": 2
          }
         }
        },
        "title": {
         "text": "Bootstrap distribution for mean of mother's age"
        },
        "xaxis": {
         "title": {
          "text": "Bootstrap Means"
         }
        },
        "yaxis": {
         "title": {
          "text": "Frequency"
         }
        }
       }
      },
      "text/html": [
       "<div>                            <div id=\"5be0033e-8343-4aad-9c22-c558478342fe\" class=\"plotly-graph-div\" style=\"height:525px; width:100%;\"></div>            <script type=\"text/javascript\">                require([\"plotly\"], function(Plotly) {                    window.PLOTLYENV=window.PLOTLYENV || {};                                    if (document.getElementById(\"5be0033e-8343-4aad-9c22-c558478342fe\")) {                    Plotly.newPlot(                        \"5be0033e-8343-4aad-9c22-c558478342fe\",                        [{\"marker\":{\"color\":\"red\"},\"x\":[27.825],\"type\":\"histogram\"},{\"marker\":{\"color\":\"darkgrey\"},\"x\":[27.4075,27.1375,27.305,27.6425,27.01,27.405,27.185,27.1625,27.345,27.4075,27.2925,27.5075,27.7625,27.125,27.425,27.2225,27.7675,27.115,27.545,27.29,27.39,27.6,27.56,27.545,27.7125,27.245,27.815,27.805,27.4475,28.04,27.7625,27.39,27.3775,27.4125,27.2075,27.625,27.64,27.325,27.375,27.6425,27.1875,27.9775,27.815,26.9725,27.28,27.3875,26.715,27.45,27.92,27.7775,27.405,27.5625,27.47,27.3075,27.3425,27.6525,27.48,27.675,27.0575,27.25,27.5225,26.8425,27.305,27.555,27.87,27.465,27.92,27.5675,27.87,27.27,27.515,27.4525,27.44,27.5875,27.735,27.2875,27.0475,26.9975,27.8,27.105,27.18,27.0275,27.58,27.015,28.0875,27.2625,27.2925,27.8125,27.3975,27.775,27.005,27.6325,27.3325,27.3275,27.525,27.73,27.5525,27.245,27.42],\"type\":\"histogram\"}],                        {\"template\":{\"data\":{\"histogram2dcontour\":[{\"type\":\"histogram2dcontour\",\"colorbar\":{\"outlinewidth\":0,\"ticks\":\"\"},\"colorscale\":[[0.0,\"#0d0887\"],[0.1111111111111111,\"#46039f\"],[0.2222222222222222,\"#7201a8\"],[0.3333333333333333,\"#9c179e\"],[0.4444444444444444,\"#bd3786\"],[0.5555555555555556,\"#d8576b\"],[0.6666666666666666,\"#ed7953\"],[0.7777777777777778,\"#fb9f3a\"],[0.8888888888888888,\"#fdca26\"],[1.0,\"#f0f921\"]]}],\"choropleth\":[{\"type\":\"choropleth\",\"colorbar\":{\"outlinewidth\":0,\"ticks\":\"\"}}],\"histogram2d\":[{\"type\":\"histogram2d\",\"colorbar\":{\"outlinewidth\":0,\"ticks\":\"\"},\"colorscale\":[[0.0,\"#0d0887\"],[0.1111111111111111,\"#46039f\"],[0.2222222222222222,\"#7201a8\"],[0.3333333333333333,\"#9c179e\"],[0.4444444444444444,\"#bd3786\"],[0.5555555555555556,\"#d8576b\"],[0.6666666666666666,\"#ed7953\"],[0.7777777777777778,\"#fb9f3a\"],[0.8888888888888888,\"#fdca26\"],[1.0,\"#f0f921\"]]}],\"heatmap\":[{\"type\":\"heatmap\",\"colorbar\":{\"outlinewidth\":0,\"ticks\":\"\"},\"colorscale\":[[0.0,\"#0d0887\"],[0.1111111111111111,\"#46039f\"],[0.2222222222222222,\"#7201a8\"],[0.3333333333333333,\"#9c179e\"],[0.4444444444444444,\"#bd3786\"],[0.5555555555555556,\"#d8576b\"],[0.6666666666666666,\"#ed7953\"],[0.7777777777777778,\"#fb9f3a\"],[0.8888888888888888,\"#fdca26\"],[1.0,\"#f0f921\"]]}],\"heatmapgl\":[{\"type\":\"heatmapgl\",\"colorbar\":{\"outlinewidth\":0,\"ticks\":\"\"},\"colorscale\":[[0.0,\"#0d0887\"],[0.1111111111111111,\"#46039f\"],[0.2222222222222222,\"#7201a8\"],[0.3333333333333333,\"#9c179e\"],[0.4444444444444444,\"#bd3786\"],[0.5555555555555556,\"#d8576b\"],[0.6666666666666666,\"#ed7953\"],[0.7777777777777778,\"#fb9f3a\"],[0.8888888888888888,\"#fdca26\"],[1.0,\"#f0f921\"]]}],\"contourcarpet\":[{\"type\":\"contourcarpet\",\"colorbar\":{\"outlinewidth\":0,\"ticks\":\"\"}}],\"contour\":[{\"type\":\"contour\",\"colorbar\":{\"outlinewidth\":0,\"ticks\":\"\"},\"colorscale\":[[0.0,\"#0d0887\"],[0.1111111111111111,\"#46039f\"],[0.2222222222222222,\"#7201a8\"],[0.3333333333333333,\"#9c179e\"],[0.4444444444444444,\"#bd3786\"],[0.5555555555555556,\"#d8576b\"],[0.6666666666666666,\"#ed7953\"],[0.7777777777777778,\"#fb9f3a\"],[0.8888888888888888,\"#fdca26\"],[1.0,\"#f0f921\"]]}],\"surface\":[{\"type\":\"surface\",\"colorbar\":{\"outlinewidth\":0,\"ticks\":\"\"},\"colorscale\":[[0.0,\"#0d0887\"],[0.1111111111111111,\"#46039f\"],[0.2222222222222222,\"#7201a8\"],[0.3333333333333333,\"#9c179e\"],[0.4444444444444444,\"#bd3786\"],[0.5555555555555556,\"#d8576b\"],[0.6666666666666666,\"#ed7953\"],[0.7777777777777778,\"#fb9f3a\"],[0.8888888888888888,\"#fdca26\"],[1.0,\"#f0f921\"]]}],\"mesh3d\":[{\"type\":\"mesh3d\",\"colorbar\":{\"outlinewidth\":0,\"ticks\":\"\"}}],\"scatter\":[{\"fillpattern\":{\"fillmode\":\"overlay\",\"size\":10,\"solidity\":0.2},\"type\":\"scatter\"}],\"parcoords\":[{\"type\":\"parcoords\",\"line\":{\"colorbar\":{\"outlinewidth\":0,\"ticks\":\"\"}}}],\"scatterpolargl\":[{\"type\":\"scatterpolargl\",\"marker\":{\"colorbar\":{\"outlinewidth\":0,\"ticks\":\"\"}}}],\"bar\":[{\"error_x\":{\"color\":\"#2a3f5f\"},\"error_y\":{\"color\":\"#2a3f5f\"},\"marker\":{\"line\":{\"color\":\"#E5ECF6\",\"width\":0.5},\"pattern\":{\"fillmode\":\"overlay\",\"size\":10,\"solidity\":0.2}},\"type\":\"bar\"}],\"scattergeo\":[{\"type\":\"scattergeo\",\"marker\":{\"colorbar\":{\"outlinewidth\":0,\"ticks\":\"\"}}}],\"scatterpolar\":[{\"type\":\"scatterpolar\",\"marker\":{\"colorbar\":{\"outlinewidth\":0,\"ticks\":\"\"}}}],\"histogram\":[{\"marker\":{\"pattern\":{\"fillmode\":\"overlay\",\"size\":10,\"solidity\":0.2}},\"type\":\"histogram\"}],\"scattergl\":[{\"type\":\"scattergl\",\"marker\":{\"colorbar\":{\"outlinewidth\":0,\"ticks\":\"\"}}}],\"scatter3d\":[{\"type\":\"scatter3d\",\"line\":{\"colorbar\":{\"outlinewidth\":0,\"ticks\":\"\"}},\"marker\":{\"colorbar\":{\"outlinewidth\":0,\"ticks\":\"\"}}}],\"scattermapbox\":[{\"type\":\"scattermapbox\",\"marker\":{\"colorbar\":{\"outlinewidth\":0,\"ticks\":\"\"}}}],\"scatterternary\":[{\"type\":\"scatterternary\",\"marker\":{\"colorbar\":{\"outlinewidth\":0,\"ticks\":\"\"}}}],\"scattercarpet\":[{\"type\":\"scattercarpet\",\"marker\":{\"colorbar\":{\"outlinewidth\":0,\"ticks\":\"\"}}}],\"carpet\":[{\"aaxis\":{\"endlinecolor\":\"#2a3f5f\",\"gridcolor\":\"white\",\"linecolor\":\"white\",\"minorgridcolor\":\"white\",\"startlinecolor\":\"#2a3f5f\"},\"baxis\":{\"endlinecolor\":\"#2a3f5f\",\"gridcolor\":\"white\",\"linecolor\":\"white\",\"minorgridcolor\":\"white\",\"startlinecolor\":\"#2a3f5f\"},\"type\":\"carpet\"}],\"table\":[{\"cells\":{\"fill\":{\"color\":\"#EBF0F8\"},\"line\":{\"color\":\"white\"}},\"header\":{\"fill\":{\"color\":\"#C8D4E3\"},\"line\":{\"color\":\"white\"}},\"type\":\"table\"}],\"barpolar\":[{\"marker\":{\"line\":{\"color\":\"#E5ECF6\",\"width\":0.5},\"pattern\":{\"fillmode\":\"overlay\",\"size\":10,\"solidity\":0.2}},\"type\":\"barpolar\"}],\"pie\":[{\"automargin\":true,\"type\":\"pie\"}]},\"layout\":{\"autotypenumbers\":\"strict\",\"colorway\":[\"#636efa\",\"#EF553B\",\"#00cc96\",\"#ab63fa\",\"#FFA15A\",\"#19d3f3\",\"#FF6692\",\"#B6E880\",\"#FF97FF\",\"#FECB52\"],\"font\":{\"color\":\"#2a3f5f\"},\"hovermode\":\"closest\",\"hoverlabel\":{\"align\":\"left\"},\"paper_bgcolor\":\"white\",\"plot_bgcolor\":\"#E5ECF6\",\"polar\":{\"bgcolor\":\"#E5ECF6\",\"angularaxis\":{\"gridcolor\":\"white\",\"linecolor\":\"white\",\"ticks\":\"\"},\"radialaxis\":{\"gridcolor\":\"white\",\"linecolor\":\"white\",\"ticks\":\"\"}},\"ternary\":{\"bgcolor\":\"#E5ECF6\",\"aaxis\":{\"gridcolor\":\"white\",\"linecolor\":\"white\",\"ticks\":\"\"},\"baxis\":{\"gridcolor\":\"white\",\"linecolor\":\"white\",\"ticks\":\"\"},\"caxis\":{\"gridcolor\":\"white\",\"linecolor\":\"white\",\"ticks\":\"\"}},\"coloraxis\":{\"colorbar\":{\"outlinewidth\":0,\"ticks\":\"\"}},\"colorscale\":{\"sequential\":[[0.0,\"#0d0887\"],[0.1111111111111111,\"#46039f\"],[0.2222222222222222,\"#7201a8\"],[0.3333333333333333,\"#9c179e\"],[0.4444444444444444,\"#bd3786\"],[0.5555555555555556,\"#d8576b\"],[0.6666666666666666,\"#ed7953\"],[0.7777777777777778,\"#fb9f3a\"],[0.8888888888888888,\"#fdca26\"],[1.0,\"#f0f921\"]],\"sequentialminus\":[[0.0,\"#0d0887\"],[0.1111111111111111,\"#46039f\"],[0.2222222222222222,\"#7201a8\"],[0.3333333333333333,\"#9c179e\"],[0.4444444444444444,\"#bd3786\"],[0.5555555555555556,\"#d8576b\"],[0.6666666666666666,\"#ed7953\"],[0.7777777777777778,\"#fb9f3a\"],[0.8888888888888888,\"#fdca26\"],[1.0,\"#f0f921\"]],\"diverging\":[[0,\"#8e0152\"],[0.1,\"#c51b7d\"],[0.2,\"#de77ae\"],[0.3,\"#f1b6da\"],[0.4,\"#fde0ef\"],[0.5,\"#f7f7f7\"],[0.6,\"#e6f5d0\"],[0.7,\"#b8e186\"],[0.8,\"#7fbc41\"],[0.9,\"#4d9221\"],[1,\"#276419\"]]},\"xaxis\":{\"gridcolor\":\"white\",\"linecolor\":\"white\",\"ticks\":\"\",\"title\":{\"standoff\":15},\"zerolinecolor\":\"white\",\"automargin\":true,\"zerolinewidth\":2},\"yaxis\":{\"gridcolor\":\"white\",\"linecolor\":\"white\",\"ticks\":\"\",\"title\":{\"standoff\":15},\"zerolinecolor\":\"white\",\"automargin\":true,\"zerolinewidth\":2},\"scene\":{\"xaxis\":{\"backgroundcolor\":\"#E5ECF6\",\"gridcolor\":\"white\",\"linecolor\":\"white\",\"showbackground\":true,\"ticks\":\"\",\"zerolinecolor\":\"white\",\"gridwidth\":2},\"yaxis\":{\"backgroundcolor\":\"#E5ECF6\",\"gridcolor\":\"white\",\"linecolor\":\"white\",\"showbackground\":true,\"ticks\":\"\",\"zerolinecolor\":\"white\",\"gridwidth\":2},\"zaxis\":{\"backgroundcolor\":\"#E5ECF6\",\"gridcolor\":\"white\",\"linecolor\":\"white\",\"showbackground\":true,\"ticks\":\"\",\"zerolinecolor\":\"white\",\"gridwidth\":2}},\"shapedefaults\":{\"line\":{\"color\":\"#2a3f5f\"}},\"annotationdefaults\":{\"arrowcolor\":\"#2a3f5f\",\"arrowhead\":0,\"arrowwidth\":1},\"geo\":{\"bgcolor\":\"white\",\"landcolor\":\"#E5ECF6\",\"subunitcolor\":\"white\",\"showland\":true,\"showlakes\":true,\"lakecolor\":\"white\"},\"title\":{\"x\":0.05},\"mapbox\":{\"style\":\"light\"}}},\"xaxis\":{\"title\":{\"text\":\"Bootstrap Means\"}},\"yaxis\":{\"title\":{\"text\":\"Frequency\"}},\"title\":{\"text\":\"Bootstrap distribution for mean of mother's age\"},\"showlegend\":false,\"barmode\":\"stack\"},                        {\"responsive\": true}                    ).then(function(){\n",
       "                            \n",
       "var gd = document.getElementById('5be0033e-8343-4aad-9c22-c558478342fe');\n",
       "var x = new MutationObserver(function (mutations, observer) {{\n",
       "        var display = window.getComputedStyle(gd).display;\n",
       "        if (!display || display === 'none') {{\n",
       "            console.log([gd, 'removed!']);\n",
       "            Plotly.purge(gd);\n",
       "            observer.disconnect();\n",
       "        }}\n",
       "}});\n",
       "\n",
       "// Listen for the removal of the full notebook cells\n",
       "var notebookContainer = gd.closest('#notebook-container');\n",
       "if (notebookContainer) {{\n",
       "    x.observe(notebookContainer, {childList: true});\n",
       "}}\n",
       "\n",
       "// Listen for the clearing of the current output cell\n",
       "var outputEl = gd.closest('.output');\n",
       "if (outputEl) {{\n",
       "    x.observe(outputEl, {childList: true});\n",
       "}}\n",
       "\n",
       "                        })                };                });            </script>        </div>"
      ]
     },
     "metadata": {},
     "output_type": "display_data"
    }
   ],
   "source": [
    "import plotly.graph_objects as go\n",
    "np.random.seed(98)\n",
    "\n",
    "sample_size=len(gestation)\n",
    "gest_boot_means = []\n",
    "for i in range(100):\n",
    "    gest_boot_sample = np.random.choice(gestation['age'], sample_size)\n",
    "    gest_boot_means += [gest_boot_sample.mean()]\n",
    "    \n",
    "boot_means1 = pd.DataFrame({'boot_means': [gest_boot_means[0]]})\n",
    "boot_means2to100 = pd.DataFrame({'boot_means': gest_boot_means[1:]})\n",
    "\n",
    "fig = go.Figure()\n",
    "fig.add_trace(go.Histogram(x=boot_means1['boot_means'], marker_color='red'))\n",
    "fig.add_trace(go.Histogram(x=boot_means2to100['boot_means'], marker_color='darkgrey'))\n",
    "fig.update_layout(title='Bootstrap distribution for mean of mother\\'s age', xaxis_title_text='Bootstrap Means', \n",
    "                  yaxis_title_text='Frequency', showlegend=False, barmode='stack')\n",
    "\n",
    "fig.show()"
   ]
  },
  {
   "cell_type": "markdown",
   "id": "7867f51c",
   "metadata": {},
   "source": [
    "> Answer here..."
   ]
  },
  {
   "cell_type": "code",
   "execution_count": 305,
   "id": "61a34573",
   "metadata": {},
   "outputs": [],
   "source": [
    "hint = \"\\n\\nOPTIONAL QUESTION: DOES NOT COUNT AGAINST STUDENT\\n\"\n",
    "hint += \"Included as an example answer for feedback purposes only\\n\\n\"\n",
    "hint += \"The red bar is the mean of mother's age for one bootstrap sample. The bootstrap sample is obtained by taking a random sample with replacement, from the original sample data, with the same number of observations as the original sample. \"\n",
    "hint += \"The 90% confidence interval ranges from approximately the 5th largest data point to the 95th largest data point. This interval will be from a value a little above 27.0 to 27.9.\""
   ]
  },
  {
   "cell_type": "code",
   "execution_count": 306,
   "id": "ea3d9f0d",
   "metadata": {},
   "outputs": [
    {
     "ename": "AssertionError",
     "evalue": "\n\nOPTIONAL QUESTION: DOES NOT COUNT AGAINST STUDENT\nIncluded as an example answer for feedback purposes only\n\nThe red bar is the mean of mother's age for one bootstrap sample. The bootstrap sample is obtained by taking a random sample with replacement, from the original sample data, with the same number of observations as the original sample. The 90% confidence interval ranges from approximately the 5th largest data point to the 95th largest data point. This interval will be from a value a little above 27.0 to 27.9.",
     "output_type": "error",
     "traceback": [
      "\u001b[0;31m---------------------------------------------------------------------------\u001b[0m",
      "\u001b[0;31mAssertionError\u001b[0m                            Traceback (most recent call last)",
      "Cell \u001b[0;32mIn[306], line 2\u001b[0m\n\u001b[1;32m      1\u001b[0m \u001b[38;5;66;03m# test_Q16\u001b[39;00m\n\u001b[0;32m----> 2\u001b[0m \u001b[38;5;28;01massert\u001b[39;00m \u001b[38;5;28;01mFalse\u001b[39;00m, hint\n",
      "\u001b[0;31mAssertionError\u001b[0m: \n\nOPTIONAL QUESTION: DOES NOT COUNT AGAINST STUDENT\nIncluded as an example answer for feedback purposes only\n\nThe red bar is the mean of mother's age for one bootstrap sample. The bootstrap sample is obtained by taking a random sample with replacement, from the original sample data, with the same number of observations as the original sample. The 90% confidence interval ranges from approximately the 5th largest data point to the 95th largest data point. This interval will be from a value a little above 27.0 to 27.9."
     ]
    }
   ],
   "source": [
    "# test_Q16\n",
    "assert False, hint"
   ]
  },
  {
   "cell_type": "markdown",
   "id": "79edcdd4",
   "metadata": {},
   "source": [
    "### Q17: Find a 99% bootstrap confidence interval for the mean of mother’s age using 2000 bootstrap samples.\n",
    "- Compare your confidence interval to the answer given in the ***MarkUs*** output "
   ]
  },
  {
   "cell_type": "code",
   "execution_count": 307,
   "id": "47ff3e2e",
   "metadata": {},
   "outputs": [
    {
     "data": {
      "text/plain": [
       "array([26.659925, 28.232575])"
      ]
     },
     "execution_count": 307,
     "metadata": {},
     "output_type": "execute_result"
    }
   ],
   "source": [
    "np.random.seed(130) # Do NOT change this line - there is randomness when bootstrapping\n",
    "\n",
    "ges_boot_means = []\n",
    "for i in range(2000):\n",
    "    ges_boot_sample = np.random.choice(gestation['age'], 400)\n",
    "    ges_boot_means += [ges_boot_sample.mean()]\n",
    "    \n",
    "np.quantile(ges_boot_means, (0.005, 0.995))"
   ]
  },
  {
   "cell_type": "code",
   "execution_count": 308,
   "id": "e5522fbf",
   "metadata": {},
   "outputs": [],
   "source": [
    "hint = \"\\n\\nOPTIONAL QUESTION: DOES NOT COUNT AGAINST STUDENT\\n\"\n",
    "hint += \"Included as an example answer for feedback purposes only\\n\\n\"\n",
    "hint += \"Your confidence interval should be approximately (26.66, 28.23).\"\n",
    "hint += \"\\n\\nCODE:\\n\"\n",
    "hint += '''\n",
    "ges_boot_means = []\n",
    "for i in range(2000):\n",
    "    ges_boot_sample = np.random.choice(gestation['age'], 400)\n",
    "    ges_boot_means += [ges_boot_sample.mean()]\n",
    "    \n",
    "np.quantile(ges_boot_means, (0.005, 0.995))\n",
    "'''"
   ]
  },
  {
   "cell_type": "code",
   "execution_count": 309,
   "id": "09acbc06",
   "metadata": {},
   "outputs": [
    {
     "ename": "AssertionError",
     "evalue": "\n\nOPTIONAL QUESTION: DOES NOT COUNT AGAINST STUDENT\nIncluded as an example answer for feedback purposes only\n\nYour confidence interval should be approximately (26.66, 28.23).\n\nCODE:\n\nges_boot_means = []\nfor i in range(2000):\n    ges_boot_sample = np.random.choice(gestation['age'], 400)\n    ges_boot_means += [ges_boot_sample.mean()]\n    \nnp.quantile(ges_boot_means, (0.005, 0.995))\n",
     "output_type": "error",
     "traceback": [
      "\u001b[0;31m---------------------------------------------------------------------------\u001b[0m",
      "\u001b[0;31mAssertionError\u001b[0m                            Traceback (most recent call last)",
      "Cell \u001b[0;32mIn[309], line 2\u001b[0m\n\u001b[1;32m      1\u001b[0m \u001b[38;5;66;03m# test_Q17\u001b[39;00m\n\u001b[0;32m----> 2\u001b[0m \u001b[38;5;28;01massert\u001b[39;00m \u001b[38;5;28;01mFalse\u001b[39;00m, hint\n",
      "\u001b[0;31mAssertionError\u001b[0m: \n\nOPTIONAL QUESTION: DOES NOT COUNT AGAINST STUDENT\nIncluded as an example answer for feedback purposes only\n\nYour confidence interval should be approximately (26.66, 28.23).\n\nCODE:\n\nges_boot_means = []\nfor i in range(2000):\n    ges_boot_sample = np.random.choice(gestation['age'], 400)\n    ges_boot_means += [ges_boot_sample.mean()]\n    \nnp.quantile(ges_boot_means, (0.005, 0.995))\n"
     ]
    }
   ],
   "source": [
    "# test_Q17\n",
    "assert False, hint"
   ]
  },
  {
   "cell_type": "markdown",
   "id": "2a8c183f",
   "metadata": {},
   "source": [
    "### Q18: Explain why the interpretation “There is a 99% chance that the true mean of a mother’s age at the time this sample was taken is between 26.7 and 28.2 years.” is INCORRECT. What is a correct interpretation?\n",
    "- Compare your response to the answer given in the ***MarkUs*** output "
   ]
  },
  {
   "cell_type": "markdown",
   "id": "7d066110",
   "metadata": {},
   "source": [
    "> Answer here..."
   ]
  },
  {
   "cell_type": "code",
   "execution_count": 310,
   "id": "99dd9f25",
   "metadata": {},
   "outputs": [],
   "source": [
    "hint = \"\\n\\nOPTIONAL QUESTION: DOES NOT COUNT AGAINST STUDENT\\n\"\n",
    "hint += \"Included as an example answer for feedback purposes only\\n\\n\"\n",
    "hint += \"The true mean age of mothers in 1961/62 is unknown, but it's not random. In other words, it's a fixed, but unknown constant. Therefore it either is or isn't in this interval (i.e., the chance is either 0% or 100%). We just do not know either way. \\n\\n\"\n",
    "hint += \"We can conclude that we are 99% *confident* that the true mean mother's age in 1961/62 was between 26.7 and 28.2 years. We are confident in this because the method we used to obtain the interval will produce intervals that do include the true value of the parameter of interest for 99% of the possible samples we could take.\""
   ]
  },
  {
   "cell_type": "code",
   "execution_count": 311,
   "id": "a6e0750b",
   "metadata": {},
   "outputs": [
    {
     "ename": "AssertionError",
     "evalue": "\n\nOPTIONAL QUESTION: DOES NOT COUNT AGAINST STUDENT\nIncluded as an example answer for feedback purposes only\n\nThe true mean age of mothers in 1961/62 is unknown, but it's not random. In other words, it's a fixed, but unknown constant. Therefore it either is or isn't in this interval (i.e., the chance is either 0% or 100%). We just do not know either way. \n\nWe can conclude that we are 99% *confident* that the true mean mother's age in 1961/62 was between 26.7 and 28.2 years. We are confident in this because the method we used to obtain the interval will produce intervals that do include the true value of the parameter of interest for 99% of the possible samples we could take.",
     "output_type": "error",
     "traceback": [
      "\u001b[0;31m---------------------------------------------------------------------------\u001b[0m",
      "\u001b[0;31mAssertionError\u001b[0m                            Traceback (most recent call last)",
      "Cell \u001b[0;32mIn[311], line 2\u001b[0m\n\u001b[1;32m      1\u001b[0m \u001b[38;5;66;03m# test_Q18\u001b[39;00m\n\u001b[0;32m----> 2\u001b[0m \u001b[38;5;28;01massert\u001b[39;00m \u001b[38;5;28;01mFalse\u001b[39;00m, hint\n",
      "\u001b[0;31mAssertionError\u001b[0m: \n\nOPTIONAL QUESTION: DOES NOT COUNT AGAINST STUDENT\nIncluded as an example answer for feedback purposes only\n\nThe true mean age of mothers in 1961/62 is unknown, but it's not random. In other words, it's a fixed, but unknown constant. Therefore it either is or isn't in this interval (i.e., the chance is either 0% or 100%). We just do not know either way. \n\nWe can conclude that we are 99% *confident* that the true mean mother's age in 1961/62 was between 26.7 and 28.2 years. We are confident in this because the method we used to obtain the interval will produce intervals that do include the true value of the parameter of interest for 99% of the possible samples we could take."
     ]
    }
   ],
   "source": [
    "# test_Q18\n",
    "assert False, hint"
   ]
  },
  {
   "cell_type": "markdown",
   "id": "4a26be28",
   "metadata": {},
   "source": [
    "### Q19: Find a 95% bootstrap confidence interval for the *median* of mother’s age using 2000 bootstrap samples.\n",
    "- Compare your confidence interval to the answer given in the ***MarkUs*** output "
   ]
  },
  {
   "cell_type": "code",
   "execution_count": 312,
   "id": "800bf693",
   "metadata": {},
   "outputs": [
    {
     "data": {
      "text/plain": [
       "array([27., 27.])"
      ]
     },
     "execution_count": 312,
     "metadata": {},
     "output_type": "execute_result"
    }
   ],
   "source": [
    "np.random.seed(130) # Do NOT change this line - there is randomness when bootstrapping\n",
    "\n",
    "ges_boot_medians = []\n",
    "for i in range(2000):\n",
    "    ges_boot_samp = np.random.choice(gestation['age'], 400)\n",
    "    ges_boot_medians += [np.median(ges_boot_sample)]\n",
    "    \n",
    "np.quantile(ges_boot_medians, (0.025, 0.975))"
   ]
  },
  {
   "cell_type": "code",
   "execution_count": 313,
   "id": "1630aa5a",
   "metadata": {},
   "outputs": [],
   "source": [
    "hint = \"\\n\\nOPTIONAL QUESTION: DOES NOT COUNT AGAINST STUDENT\\n\"\n",
    "hint += \"Included as an example answer for feedback purposes only\\n\\n\"\n",
    "hint += \"Your confidence interval should be approximately (26, 27).\"\n",
    "hint += \"\\n\\nCODE:\\n\"\n",
    "hint += '''\n",
    "ges_boot_medians = []\n",
    "for i in range(2000):\n",
    "    ges_boot_samp = np.random.choice(gestation['age'], 400)\n",
    "    ges_boot_medians += [np.median(ges_boot_sample)]\n",
    "    \n",
    "np.quantile(ges_boot_medians, (0.025, 0.975))\n",
    "'''"
   ]
  },
  {
   "cell_type": "code",
   "execution_count": 314,
   "id": "795ef48b",
   "metadata": {},
   "outputs": [
    {
     "ename": "AssertionError",
     "evalue": "\n\nOPTIONAL QUESTION: DOES NOT COUNT AGAINST STUDENT\nIncluded as an example answer for feedback purposes only\n\nYour confidence interval should be approximately (26, 27).\n\nCODE:\n\nges_boot_medians = []\nfor i in range(2000):\n    ges_boot_samp = np.random.choice(gestation['age'], 400)\n    ges_boot_medians += [np.median(ges_boot_sample)]\n    \nnp.quantile(ges_boot_medians, (0.025, 0.975))\n",
     "output_type": "error",
     "traceback": [
      "\u001b[0;31m---------------------------------------------------------------------------\u001b[0m",
      "\u001b[0;31mAssertionError\u001b[0m                            Traceback (most recent call last)",
      "Cell \u001b[0;32mIn[314], line 2\u001b[0m\n\u001b[1;32m      1\u001b[0m \u001b[38;5;66;03m# test_Q19\u001b[39;00m\n\u001b[0;32m----> 2\u001b[0m \u001b[38;5;28;01massert\u001b[39;00m \u001b[38;5;28;01mFalse\u001b[39;00m, hint\n",
      "\u001b[0;31mAssertionError\u001b[0m: \n\nOPTIONAL QUESTION: DOES NOT COUNT AGAINST STUDENT\nIncluded as an example answer for feedback purposes only\n\nYour confidence interval should be approximately (26, 27).\n\nCODE:\n\nges_boot_medians = []\nfor i in range(2000):\n    ges_boot_samp = np.random.choice(gestation['age'], 400)\n    ges_boot_medians += [np.median(ges_boot_sample)]\n    \nnp.quantile(ges_boot_medians, (0.025, 0.975))\n"
     ]
    }
   ],
   "source": [
    "# test_Q19\n",
    "assert False, hint"
   ]
  },
  {
   "cell_type": "markdown",
   "id": "f7ff0048",
   "metadata": {},
   "source": [
    "### Q20: Write a statement interpreting this interval.\n",
    "- Compare your response to the answer given in the ***MarkUs*** output "
   ]
  },
  {
   "cell_type": "markdown",
   "id": "935103ff",
   "metadata": {},
   "source": [
    "> Answer here..."
   ]
  },
  {
   "cell_type": "code",
   "execution_count": 315,
   "id": "a9b1e787",
   "metadata": {},
   "outputs": [],
   "source": [
    "hint = \"\\n\\nOPTIONAL QUESTION: DOES NOT COUNT AGAINST STUDENT\\n\"\n",
    "hint += \"Included as an example answer for feedback purposes only\\n\\n\"\n",
    "hint += \"The 95% bootstrap confidence interval for the median of mother's age is (26, 27). We are 95% confident that the median age of all mothers in 1961/62 is between 26 and 27 years based on these data.\""
   ]
  },
  {
   "cell_type": "code",
   "execution_count": 316,
   "id": "668b39e3",
   "metadata": {},
   "outputs": [
    {
     "ename": "AssertionError",
     "evalue": "\n\nOPTIONAL QUESTION: DOES NOT COUNT AGAINST STUDENT\nIncluded as an example answer for feedback purposes only\n\nThe 95% bootstrap confidence interval for the median of mother's age is (26, 27). We are 95% confident that the median age of all mothers in 1961/62 is between 26 and 27 years based on these data.",
     "output_type": "error",
     "traceback": [
      "\u001b[0;31m---------------------------------------------------------------------------\u001b[0m",
      "\u001b[0;31mAssertionError\u001b[0m                            Traceback (most recent call last)",
      "Cell \u001b[0;32mIn[316], line 2\u001b[0m\n\u001b[1;32m      1\u001b[0m \u001b[38;5;66;03m# test_Q20\u001b[39;00m\n\u001b[0;32m----> 2\u001b[0m \u001b[38;5;28;01massert\u001b[39;00m \u001b[38;5;28;01mFalse\u001b[39;00m, hint\n",
      "\u001b[0;31mAssertionError\u001b[0m: \n\nOPTIONAL QUESTION: DOES NOT COUNT AGAINST STUDENT\nIncluded as an example answer for feedback purposes only\n\nThe 95% bootstrap confidence interval for the median of mother's age is (26, 27). We are 95% confident that the median age of all mothers in 1961/62 is between 26 and 27 years based on these data."
     ]
    }
   ],
   "source": [
    "# test_Q20\n",
    "assert False, hint"
   ]
  }
 ],
 "metadata": {
  "kernelspec": {
   "display_name": "Python 3 (ipykernel)",
   "language": "python",
   "name": "python3"
  },
  "language_info": {
   "codemirror_mode": {
    "name": "ipython",
    "version": 3
   },
   "file_extension": ".py",
   "mimetype": "text/x-python",
   "name": "python",
   "nbconvert_exporter": "python",
   "pygments_lexer": "ipython3",
   "version": "3.10.8"
  }
 },
 "nbformat": 4,
 "nbformat_minor": 5
}
