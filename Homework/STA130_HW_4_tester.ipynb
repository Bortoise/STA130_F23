{
 "cells": [
  {
   "cell_type": "markdown",
   "id": "42ab3d54",
   "metadata": {},
   "source": [
    "# Coding Homework 4: [Your Name]\n",
    "\n",
    "Go through this notebook, following the instructions! \n",
    "- You can add new cells if you need (with the \"+\" button above); but, deleting (or resorting) cells could very likely cause your notebook to fail MarkUs autotesting (and you'd have to start over and re-enter your answers into a completely fresh version of the notebook to get things to work again...)\n",
    "\n",
    "> TAs will mark this assignment by checking ***MarkUs*** autotests; then, manually confirming the correctness of plots in `Q11` (based on correct code usage of `replace=False`); then, manually reviewing the written response to question `...`. TAs may or may not spot check the presence of plots for `Q2, Q8, Q9` and written answers for `Q6, Q8, Q15`.\n",
    "> - The autotests for questions `Q6, Q8, Q9, Q15` \"automatically fail\" during automated testing with ***MarkUs*** in order to expose example answers for student consideration and review.  These \"failed ***MarkUs*** tests\" are not counted against the student. "
   ]
  },
  {
   "cell_type": "markdown",
   "id": "c6b08913",
   "metadata": {},
   "source": [
    "## Driving on the \"Right\" Side of the Road\n",
    "Let's explore how cars drive on the right or left side of the road in different countries. World Standards' [list of left driving countries](https://www.worldstandards.eu/cars/list-of-left-driving-countries/) shows that 86 of all 270 countries in the world drive on the left side of the road."
   ]
  },
  {
   "cell_type": "code",
   "execution_count": 2,
   "id": "07099e61",
   "metadata": {},
   "outputs": [],
   "source": [
    "# Run the following code to get the data\n",
    "import pandas as pd # used immediately\n",
    "import numpy as np # to be used eventually!\n",
    "\n",
    "roaddata = pd.DataFrame({\"road_side\": [\"left\"] * 86 + [\"right\"] * (270 - 86)})"
   ]
  },
  {
   "cell_type": "code",
   "execution_count": 4,
   "id": "26ecf996",
   "metadata": {},
   "outputs": [],
   "source": [
    "# Have a look at the data!\n"
   ]
  },
  {
   "cell_type": "markdown",
   "id": "4debf2c3",
   "metadata": {},
   "source": [
    "### Q0: Are the observations (rows) in `roaddata` the entire population or a sample from a population?\n",
    "A. entire population    \n",
    "B. sample from a population"
   ]
  },
  {
   "cell_type": "code",
   "execution_count": 5,
   "id": "d512c280",
   "metadata": {},
   "outputs": [],
   "source": [
    "# Q0: your answer will be tested!\n",
    "Q0 = None # Assign either 'A' or 'B' to `Q0` instead of `None`\n",
    "# E.g., Q0 = 'A'"
   ]
  },
  {
   "cell_type": "code",
   "execution_count": 6,
   "id": "1757fc2f",
   "metadata": {},
   "outputs": [],
   "source": [
    "test = Q0=='A'\n",
    "hint = \"If `roaddata` was a sample, then what would the population be?\\n\"\n",
    "hint += 'If \"alternative universes\" is your answer then we have only n=1 observation(!)\\n'\n",
    "hint += 'which is a single row with many measurements (of the side of the road different countries drive on).'"
   ]
  },
  {
   "cell_type": "code",
   "execution_count": 7,
   "id": "a25e6a8b",
   "metadata": {},
   "outputs": [
    {
     "ename": "AssertionError",
     "evalue": "If `roaddata` was a sample, then what would the population be?\nIf \"alternative universes\" is your answer then we have only n=1 observation(!)\nwhich is a single row with many measurements (of the side of the road different countries drive on).",
     "output_type": "error",
     "traceback": [
      "\u001b[0;31m---------------------------------------------------------------------------\u001b[0m",
      "\u001b[0;31mAssertionError\u001b[0m                            Traceback (most recent call last)",
      "Cell \u001b[0;32mIn[7], line 3\u001b[0m\n\u001b[1;32m      1\u001b[0m \u001b[38;5;66;03m# test_Q0\u001b[39;00m\n\u001b[0;32m----> 3\u001b[0m \u001b[38;5;28;01massert\u001b[39;00m test, hint\n",
      "\u001b[0;31mAssertionError\u001b[0m: If `roaddata` was a sample, then what would the population be?\nIf \"alternative universes\" is your answer then we have only n=1 observation(!)\nwhich is a single row with many measurements (of the side of the road different countries drive on)."
     ]
    }
   ],
   "source": [
    "# test_Q0\n",
    "\n",
    "assert test, hint"
   ]
  },
  {
   "cell_type": "markdown",
   "id": "255ce211",
   "metadata": {},
   "source": [
    "### Q1: Select a random sample of 100 unique countries from `roaddata` and call it `road_sample`.\n",
    "> - Hint 1: Use `roaddata.sample()`; or https://letmegooglethat.com/?q=python+pandas+sample and you'll want that first `pd.sample()` link that comes up.\n",
    "> - Hint 2: Do not use `replace=True` because this means after one of the countries is drawn, it is put back (\"replaced\" with `replace=True`) and can be drawn again (twice or even more!), but this is not what we want for this question. \n",
    "> - Hint 3: **Sampling with replacement is called bootstrapping, and this will be useful for us, but we'll get to that next!**"
   ]
  },
  {
   "cell_type": "code",
   "execution_count": 8,
   "id": "a29cca1d",
   "metadata": {},
   "outputs": [],
   "source": [
    "# Q1: Your answer will be tested based on your `road_sample` object itself!\n",
    "#     You don't need to assign anything to a `Q1` object.\n",
    "np.random.seed(130) # Do NOT change this line: it sets the \"random number generation seed\"\n",
    "# which makes the \"pseudorandomness\" gererated in the code the same every time and this\n",
    "# makes the code reproducible which ensures that our testing code works properly every time\n",
    "\n",
    "road_sample = roaddata.sample(n=100)"
   ]
  },
  {
   "cell_type": "code",
   "execution_count": 9,
   "id": "85081e79",
   "metadata": {},
   "outputs": [],
   "source": [
    "hint = \"Make sure you did not change the seed, and make sure you don't use\"\n",
    "hint += \"`replace=True` because we want 100 unique countries.\""
   ]
  },
  {
   "cell_type": "code",
   "execution_count": 10,
   "id": "b01fc299",
   "metadata": {},
   "outputs": [],
   "source": [
    "# test_Q1\n",
    "\n",
    "left_count = road_sample['road_side'].value_counts()['left']\n",
    "assert left_count == 30 and len(road_sample) == 100, hint"
   ]
  },
  {
   "cell_type": "markdown",
   "id": "cb8f68da",
   "metadata": {},
   "source": [
    "### Q2: Using `road_sample`, as opposed to `roaddata`(!), create 2000 bootstrap samples and calculate the proportion of countries who drive on the left side of the road for each of the 2000 bootstrap samples. \n",
    "\n",
    "#### Which of the following best describes how the `plotly` histogram of the bootstrap sampling distribution of the proportion of countries that drive on the left side compares to the proportion observed in the original sample?\n",
    "\n",
    "- A. The proportion observed in the orginal sample is on the left side of the bootstrap sampling distribution, which makes sense since the sample size is less than the population size  \n",
    "- B. The proportion observed in the orginal sample is pretty much in the middle of the bootstrap sampling distribution, which makes sense since bootstrap data is resampled versions of the original sample  \n",
    "- C. The proportion observed in the orginal sample is on the right side of the bootstrap sampling distribution, which makes sense since there are more bootstrap samples than the orignal sample size  \n",
    "- D. None of the above  \n",
    "\n",
    "> - Hint 1: **Bootstrapping means creating a new sample from an original sample using (a) `replace=True` and which (b) has the same sample size as the original sample**\n",
    "> - Hint 2: To calculate the proportion, you can use coercion to 'left' and 'right' into `0`'s and `1`'s, e.g., with `(road_sample['road_side'] == 'left').mean()`\n",
    "> - Hint 3: You can mark the proportion in the original sample on your histogram with `fig.add_vline(x=road_sample['road_side'] == 'left').mean())`\n",
    "> - Hint 4: `roaddata` is viewed as the population, whereas `road_sample` is a sample from this population... <br>**Bootstrapping samples from samples... sampling from a population is just creating a sample...**\n"
   ]
  },
  {
   "cell_type": "code",
   "execution_count": 11,
   "id": "6f897cf5",
   "metadata": {},
   "outputs": [],
   "source": [
    "# Q2: your answer will be tested!\n",
    "Q2 = None # Assign either 'A', 'B', 'C', or 'D' to `Q2` instead of `None`\n",
    "# E.g., Q2 = 'A'"
   ]
  },
  {
   "cell_type": "code",
   "execution_count": 19,
   "id": "5d92f7cd",
   "metadata": {},
   "outputs": [],
   "source": [
    "hint = '''The following code should be helpful...\n",
    "and it also demonstrates some possible good code optimizations...'''\n",
    "\n",
    "code = '''\n",
    "\n",
    "np.random.seed(130) # Use this line to create reproducible pseudorandomness for your bootstrapping\n",
    "\n",
    "import plotly.express as px\n",
    "\n",
    "# let's just convert to 0/1 numeric once -- this is more efficient!\n",
    "road_sample['numeric'] = np.where(road_sample['road_side'] == 'left', 1, 0) # or\n",
    "# road_sample['boolean_coercable_to_numeric'] = (road_sample['road_side'] == 'left')\n",
    "sample_size_n = 100\n",
    "number_of_bootstrap_samples = 2000\n",
    "bootstrapped_proportions = np.array([0.0]*number_of_bootstrap_samples, dtype='float')\n",
    "# it's more efficient to use an `np.array` rather than a `list`, especially if you make an empty list\n",
    "# `bootstrapped_proportions=[]` that you incrementally extend `bootstrapped_proportions+=[next_prop]`\n",
    "for i in range(number_of_bootstrap_samples):\n",
    "    # `np.random.choice` is an alternative to utilizing `road_sample.sample(..., replace=True)`\n",
    "    bootstrap_sample = np.random.choice(road_sample['numeric'], sample_size_n)\n",
    "    # bootstrap_sample = (bootstrap_sample == 'left').mean() # don't need this now!\n",
    "    bootstrapped_proportions[i] = bootstrap_sample.mean()\n",
    "\n",
    "fig = px.histogram(pd.DataFrame({\"Bootstrapped Proportions (i.e., means)\": bootstrapped_proportions}), \n",
    "                   x=\"Bootstrapped Proportions (i.e., means)\", histnorm='probability density', nbins=12)\n",
    "fig.add_vline(x=road_sample['numeric'].mean())\n",
    "fig.show()\n",
    "'''\n",
    "test = (Q2=='B')"
   ]
  },
  {
   "cell_type": "code",
   "execution_count": 21,
   "id": "79412204",
   "metadata": {},
   "outputs": [
    {
     "ename": "AssertionError",
     "evalue": "The following code should be helpful...\nand it also demonstrates some possible good code optimizations...\n\nnp.random.seed(130) # Use this line to create reproducible pseudorandomness for your bootstrapping\n\nimport plotly.express as px\n\n# let's just convert to 0/1 numeric once -- this is more efficient!\nroad_sample['numeric'] = np.where(road_sample['road_side'] == 'left', 1, 0) # or\n# road_sample['boolean_coercable_to_numeric'] = (road_sample['road_side'] == 'left')\nsample_size_n = 100\nnumber_of_bootstrap_samples = 2000\nbootstrapped_proportions = np.array([0.0]*number_of_bootstrap_samples, dtype='float')\n# it's more efficient to use an `np.array` rather than a `list`, especially if you make an empty list\n# `bootstrapped_proportions=[]` that you incrementally extend `bootstrapped_proportions+=[next_prop]`\nfor i in range(number_of_bootstrap_samples):\n    # `np.random.choice` is an alternative to utilizing `road_sample.sample(..., replace=True)`\n    bootstrap_sample = np.random.choice(road_sample['numeric'], sample_size_n)\n    # bootstrap_sample = (bootstrap_sample == 'left').mean() # don't need this now!\n    bootstrapped_proportions[i] = bootstrap_sample.mean()\n\nfig = px.histogram(pd.DataFrame({\"Bootstrapped Proportions (i.e., means)\": bootstrapped_proportions}), \n                   x=\"Bootstrapped Proportions (i.e., means)\", histnorm='probability density', nbins=12)\nfig.add_vline(x=road_sample['numeric'].mean())\nfig.show()\n",
     "output_type": "error",
     "traceback": [
      "\u001b[0;31m---------------------------------------------------------------------------\u001b[0m",
      "\u001b[0;31mAssertionError\u001b[0m                            Traceback (most recent call last)",
      "Cell \u001b[0;32mIn[21], line 3\u001b[0m\n\u001b[1;32m      1\u001b[0m \u001b[38;5;66;03m# test_Q2\u001b[39;00m\n\u001b[0;32m----> 3\u001b[0m \u001b[38;5;28;01massert\u001b[39;00m test, hint\u001b[38;5;241m+\u001b[39mcode\n",
      "\u001b[0;31mAssertionError\u001b[0m: The following code should be helpful...\nand it also demonstrates some possible good code optimizations...\n\nnp.random.seed(130) # Use this line to create reproducible pseudorandomness for your bootstrapping\n\nimport plotly.express as px\n\n# let's just convert to 0/1 numeric once -- this is more efficient!\nroad_sample['numeric'] = np.where(road_sample['road_side'] == 'left', 1, 0) # or\n# road_sample['boolean_coercable_to_numeric'] = (road_sample['road_side'] == 'left')\nsample_size_n = 100\nnumber_of_bootstrap_samples = 2000\nbootstrapped_proportions = np.array([0.0]*number_of_bootstrap_samples, dtype='float')\n# it's more efficient to use an `np.array` rather than a `list`, especially if you make an empty list\n# `bootstrapped_proportions=[]` that you incrementally extend `bootstrapped_proportions+=[next_prop]`\nfor i in range(number_of_bootstrap_samples):\n    # `np.random.choice` is an alternative to utilizing `road_sample.sample(..., replace=True)`\n    bootstrap_sample = np.random.choice(road_sample['numeric'], sample_size_n)\n    # bootstrap_sample = (bootstrap_sample == 'left').mean() # don't need this now!\n    bootstrapped_proportions[i] = bootstrap_sample.mean()\n\nfig = px.histogram(pd.DataFrame({\"Bootstrapped Proportions (i.e., means)\": bootstrapped_proportions}), \n                   x=\"Bootstrapped Proportions (i.e., means)\", histnorm='probability density', nbins=12)\nfig.add_vline(x=road_sample['numeric'].mean())\nfig.show()\n"
     ]
    }
   ],
   "source": [
    "# test_Q2\n",
    "\n",
    "assert test, hint+code"
   ]
  },
  {
   "cell_type": "markdown",
   "id": "16c8ec77",
   "metadata": {},
   "source": [
    "### Q3: The proportion of countries where cars drive on the left size of the road in the original `road_sample` sample is $0.3$; whereas, the overall mean of the bootstrapped proportions calculated using the solution code (given in the *MarkUs* hints for missed Q2 or Q3) is $0.29815499999999995$; whereas, the actual proportion of all countries in `roaddata` where cars drive on the left side of the road is $0.31851851851851853$.\n",
    "\n",
    "\n",
    "#### Which of the following best explains why these numbers are different?\n",
    "\n",
    "- A. The solution code is wrong since it uses pre-converted numeric values and a pre-allocated `np.array` that it indexes values into (as opposed to extending a list through concatenation) which is why it doesn't match the other numbers.  \n",
    "- B. The larger the sample size, the closer the mean of the sample would be expected to be to the population mean (since it uses more values from the population); whereas, the overall average of a bootstrap sampling distribution would be expected to be more similar to the mean of the sample being bootstrapped (since it reflects the \"bias\" of that sample by only using values from that sample), and increasingly similar as more and more bootstrap samples are averaged. \n",
    "- C. The overall average of a bootstrap sampling distribution will be closer to the original sample mean when there are fewer bootstrap samples, and closer to the population mean when there are more bootstrap samples.\n",
    "- D. None of these are similar because none of them are related to each other. The mean of the sample in `road_sample` is likely different \n",
    "\n",
    "\n"
   ]
  },
  {
   "cell_type": "code",
   "execution_count": null,
   "id": "64838d52",
   "metadata": {},
   "outputs": [],
   "source": []
  },
  {
   "cell_type": "code",
   "execution_count": null,
   "id": "fbeda54f",
   "metadata": {},
   "outputs": [],
   "source": []
  },
  {
   "cell_type": "code",
   "execution_count": 58,
   "id": "8ccd84c6",
   "metadata": {},
   "outputs": [],
   "source": [
    "# Q3: your answer will be tested!\n",
    "Q3 = None # Assign either 'A', 'B', 'C', or 'D' to `Q3` instead of `None`\n",
    "# E.g., Q3 = 'A'"
   ]
  },
  {
   "cell_type": "code",
   "execution_count": 22,
   "id": "a1b9fff0",
   "metadata": {},
   "outputs": [
    {
     "ename": "NameError",
     "evalue": "name 'Q3' is not defined",
     "output_type": "error",
     "traceback": [
      "\u001b[0;31m---------------------------------------------------------------------------\u001b[0m",
      "\u001b[0;31mNameError\u001b[0m                                 Traceback (most recent call last)",
      "Cell \u001b[0;32mIn[22], line 7\u001b[0m\n\u001b[1;32m      1\u001b[0m hint \u001b[38;5;241m=\u001b[39m \u001b[38;5;124m'''\u001b[39m\u001b[38;5;124mAfter running the code below, these three calcuations\u001b[39m\n\u001b[1;32m      2\u001b[0m \n\u001b[1;32m      3\u001b[0m \u001b[38;5;124mbootstrapped_proportions.mean(), road_sample.numeric.mean(), (roaddata==\u001b[39m\u001b[38;5;124m'\u001b[39m\u001b[38;5;124mleft\u001b[39m\u001b[38;5;124m'\u001b[39m\u001b[38;5;124m).values.mean()\u001b[39m\n\u001b[1;32m      4\u001b[0m \n\u001b[1;32m      5\u001b[0m \u001b[38;5;124mhave the values (0.29815499999999995, 0.3, 0.31851851851851853)\u001b[39m\n\u001b[1;32m      6\u001b[0m \u001b[38;5;124m'''\u001b[39m\n\u001b[0;32m----> 7\u001b[0m test \u001b[38;5;241m=\u001b[39m (\u001b[43mQ3\u001b[49m\u001b[38;5;241m==\u001b[39m\u001b[38;5;124m'\u001b[39m\u001b[38;5;124mB\u001b[39m\u001b[38;5;124m'\u001b[39m)\n",
      "\u001b[0;31mNameError\u001b[0m: name 'Q3' is not defined"
     ]
    }
   ],
   "source": [
    "hint = '''After running the code below, these three calcuations\n",
    "\n",
    "bootstrapped_proportions.mean(), road_sample.numeric.mean(), (roaddata=='left').values.mean()\n",
    "\n",
    "have the values (0.29815499999999995, 0.3, 0.31851851851851853)\n",
    "'''\n",
    "test = (Q3=='B')"
   ]
  },
  {
   "cell_type": "code",
   "execution_count": 23,
   "id": "b5003e5e",
   "metadata": {},
   "outputs": [
    {
     "ename": "AssertionError",
     "evalue": "After running the code below, these three calcuations\n\nbootstrapped_proportions.mean(), road_sample.numeric.mean(), (roaddata=='left').values.mean()\n\nhave the values (0.29815499999999995, 0.3, 0.31851851851851853)\n\n\nnp.random.seed(130) # Use this line to create reproducible pseudorandomness for your bootstrapping\n\nimport plotly.express as px\n\n# let's just convert to 0/1 numeric once -- this is more efficient!\nroad_sample['numeric'] = np.where(road_sample['road_side'] == 'left', 1, 0) # or\n# road_sample['boolean_coercable_to_numeric'] = (road_sample['road_side'] == 'left')\nsample_size_n = 100\nnumber_of_bootstrap_samples = 2000\nbootstrapped_proportions = np.array([0.0]*number_of_bootstrap_samples, dtype='float')\n# it's more efficient to use an `np.array` rather than a `list`, especially if you make an empty list\n# `bootstrapped_proportions=[]` that you incrementally extend `bootstrapped_proportions+=[next_prop]`\nfor i in range(number_of_bootstrap_samples):\n    # `np.random.choice` is an alternative to utilizing `road_sample.sample(..., replace=True)`\n    bootstrap_sample = np.random.choice(road_sample['numeric'], sample_size_n)\n    # bootstrap_sample = (bootstrap_sample == 'left').mean() # don't need this now!\n    bootstrapped_proportions[i] = bootstrap_sample.mean()\n\nfig = px.histogram(pd.DataFrame({\"Bootstrapped Proportions (i.e., means)\": bootstrapped_proportions}), \n                   x=\"Bootstrapped Proportions (i.e., means)\", histnorm='probability density', nbins=12)\nfig.add_vline(x=road_sample['numeric'].mean())\nfig.show()\n",
     "output_type": "error",
     "traceback": [
      "\u001b[0;31m---------------------------------------------------------------------------\u001b[0m",
      "\u001b[0;31mAssertionError\u001b[0m                            Traceback (most recent call last)",
      "Cell \u001b[0;32mIn[23], line 3\u001b[0m\n\u001b[1;32m      1\u001b[0m \u001b[38;5;66;03m# test_Q3\u001b[39;00m\n\u001b[0;32m----> 3\u001b[0m \u001b[38;5;28;01massert\u001b[39;00m test, hint\u001b[38;5;241m+\u001b[39mcode\n",
      "\u001b[0;31mAssertionError\u001b[0m: After running the code below, these three calcuations\n\nbootstrapped_proportions.mean(), road_sample.numeric.mean(), (roaddata=='left').values.mean()\n\nhave the values (0.29815499999999995, 0.3, 0.31851851851851853)\n\n\nnp.random.seed(130) # Use this line to create reproducible pseudorandomness for your bootstrapping\n\nimport plotly.express as px\n\n# let's just convert to 0/1 numeric once -- this is more efficient!\nroad_sample['numeric'] = np.where(road_sample['road_side'] == 'left', 1, 0) # or\n# road_sample['boolean_coercable_to_numeric'] = (road_sample['road_side'] == 'left')\nsample_size_n = 100\nnumber_of_bootstrap_samples = 2000\nbootstrapped_proportions = np.array([0.0]*number_of_bootstrap_samples, dtype='float')\n# it's more efficient to use an `np.array` rather than a `list`, especially if you make an empty list\n# `bootstrapped_proportions=[]` that you incrementally extend `bootstrapped_proportions+=[next_prop]`\nfor i in range(number_of_bootstrap_samples):\n    # `np.random.choice` is an alternative to utilizing `road_sample.sample(..., replace=True)`\n    bootstrap_sample = np.random.choice(road_sample['numeric'], sample_size_n)\n    # bootstrap_sample = (bootstrap_sample == 'left').mean() # don't need this now!\n    bootstrapped_proportions[i] = bootstrap_sample.mean()\n\nfig = px.histogram(pd.DataFrame({\"Bootstrapped Proportions (i.e., means)\": bootstrapped_proportions}), \n                   x=\"Bootstrapped Proportions (i.e., means)\", histnorm='probability density', nbins=12)\nfig.add_vline(x=road_sample['numeric'].mean())\nfig.show()\n"
     ]
    }
   ],
   "source": [
    "# test_Q3\n",
    "\n",
    "assert test, hint+code"
   ]
  },
  {
   "cell_type": "markdown",
   "id": "0edd86a3",
   "metadata": {},
   "source": [
    "### Q4: Calculate a 90% bootstrap confidence interval for the proportion of countries where cars drive on the left side of the road based on the bootstrap sampling distribution you generated in Q2.\n",
    "\n",
    "#### Give your interval limits as continuous numeric values rounded to two decimal positions.\n",
    "\n",
    "> - Hint 1: Use the `np.quantile` or `np.percentile` functions (which are slightly different... how?).\n",
    "> - Hint 2: **A 95% bootstrap confidence interval 0.025 and 97.5 percentiles of the bootstrap sampling distribution.**"
   ]
  },
  {
   "cell_type": "code",
   "execution_count": 29,
   "id": "51619289",
   "metadata": {},
   "outputs": [
    {
     "data": {
      "text/plain": [
       "(0.22, 0.38)"
      ]
     },
     "execution_count": 29,
     "metadata": {},
     "output_type": "execute_result"
    }
   ],
   "source": [
    "your_2000_bootstrapped_proportions = bootstrapped_proportions\n",
    "confint_lower, confint_upper = np.quantile(your_2000_bootstrapped_proportions, (0.05, 0.95))"
   ]
  },
  {
   "cell_type": "code",
   "execution_count": 30,
   "id": "3c8a6446",
   "metadata": {},
   "outputs": [],
   "source": [
    "# Q4: your answer will be tested!\n",
    "your_2000_bootstrapped_proportions = None # Assign your list/numpy array variable here instead of `None`\n",
    "confint_lower = None # use np.round(..., 2)\n",
    "confint_upper = None # use np.round(..., 2)\n",
    "Q4 = (your_2000_bootstrapped_proportions, confint_lower, confint_upper) \n",
    "# Assign a `tuple` of your 2000 bootstrapped proportions and two two-decimal rounded `float`s to Q4"
   ]
  },
  {
   "cell_type": "code",
   "execution_count": 31,
   "id": "7effc8d4",
   "metadata": {},
   "outputs": [],
   "source": [
    "hint = \"A 90% confidence interval refers to the middle 90% of the bootstrapped means,\\n\"\n",
    "hint += \"so make sure that the quantiles you use have a difference of 0.90.\""
   ]
  },
  {
   "cell_type": "code",
   "execution_count": 32,
   "id": "f9d59ba1",
   "metadata": {},
   "outputs": [],
   "source": [
    "# test_Q4\n",
    "\n",
    "assert np.all(np.quantile(your_2000_bootstrapped_proportions, (0.05, 0.95))==np.array([Q4[1],Q4[2]])), hint"
   ]
  },
  {
   "cell_type": "markdown",
   "id": "5dab67ae",
   "metadata": {},
   "source": [
    "### Q5: Suppose you got a confidence interval of (27%, 44%). Indicate whether or not each of the following statements is a correct interpretation of the confidence interval.\n",
    "- A. We are 90% confident that between 27% and 44% of countries in our `road_sample` sample are countries where cars drive on the left side of the road.   \n",
    "- B. There is a 90% chance that between 27% and 44% of all countries in the population drive on the left side; or, equivalently restated: at any given time time there's a 90% that the proportions of countries in the world where cars drive on the left side of the road will be between 27% and 44%.\n",
    "- C. If we consider many random samples of 100 countries/regions, i.e., `road_sample_1`, `road_sample_2`, etc., and we calculate 90% bootstrap confidence intervals for each sample, approximately 90% of these bootstrap confidence intervals will include the true proportion of countries/regions in the population who drive on the left side of the road.   \n",
    "- D. The chance that we drew a sample which results in the constructed (27%, 44%) confidence interval and bounds the true proportion of countries/regions in the population drive on the left side is 90%\n",
    "- E. We are 90% confident that between 27% and 44% of countries in the world are countries where cars drive on the left side of the road.   \n"
   ]
  },
  {
   "cell_type": "code",
   "execution_count": 98,
   "id": "658f8caf",
   "metadata": {},
   "outputs": [],
   "source": [
    "# Q5: your answer will be tested!\n",
    "Q5a = None # Assign either True or False to each of these\n",
    "Q5b = None\n",
    "Q5c = None\n",
    "Q5d = None\n",
    "Q5e = None\n",
    "Q5 = (Q5a, Q5b, Q5c, Q5d, Q5e)"
   ]
  },
  {
   "cell_type": "code",
   "execution_count": 124,
   "id": "dcad68ff",
   "metadata": {},
   "outputs": [],
   "source": [
    "test = Q5==(False, False, True, True, True)\n",
    "hint = \"This is a confidence interval for the true proportion of countries in the population\\n\"\n",
    "hint += \"(not the sample!) where cars drive on the left side of the road. There is no probability that\\n\"\n",
    "hint += \"the proportion in the population is sometimes this (here) or sometimes that (there): the population\\n\"\n",
    "hint += \"proportion (parameter) is a set fixed value. The issue is if the specific language used wrongly\\n\"\n",
    "hint += \"suggests there is randomness associated with the true proportion (parameter) of the population,\\n\"\n",
    "hint += \"then it is wrong: there is only randomness associated with the construction procedure which is\\n\"\n",
    "hint += \"induced by the randomness produced by the data sampling process itself. It is a subtle point...\\n\\n\"\n",
    "hint += \"Version 'E' is a defined 'confidence interval' language meant to specifically convey this notion.\""
   ]
  },
  {
   "cell_type": "code",
   "execution_count": 125,
   "id": "bbbe0ad0",
   "metadata": {},
   "outputs": [
    {
     "ename": "AssertionError",
     "evalue": "This is a confidence interval for the true proportion of countries in the population\n(not the sample!) where cars drive on the left side of the road. There is no probability that\nthe proporition in the population is sometimes this (here) or sometimes that (there): the population\nproportion (parameter) is a set fixed value. The issue is if the specific language used wrongly\nsuggests there is randomness associated with the true proportion (parameter) of the population,\nthen it is wrong: there is only randomness associated with the construction procedure which is\ninduced by the randomness produced by the data sampling process itself. It is a subtle point...\n\nVersion 'E' is a defined 'confidence interval' language meant to specifically convey this notion.",
     "output_type": "error",
     "traceback": [
      "\u001b[0;31m---------------------------------------------------------------------------\u001b[0m",
      "\u001b[0;31mAssertionError\u001b[0m                            Traceback (most recent call last)",
      "Cell \u001b[0;32mIn[125], line 2\u001b[0m\n\u001b[1;32m      1\u001b[0m \u001b[38;5;66;03m# test_Q5\u001b[39;00m\n\u001b[0;32m----> 2\u001b[0m \u001b[38;5;28;01massert\u001b[39;00m test, hint\n",
      "\u001b[0;31mAssertionError\u001b[0m: This is a confidence interval for the true proportion of countries in the population\n(not the sample!) where cars drive on the left side of the road. There is no probability that\nthe proporition in the population is sometimes this (here) or sometimes that (there): the population\nproportion (parameter) is a set fixed value. The issue is if the specific language used wrongly\nsuggests there is randomness associated with the true proportion (parameter) of the population,\nthen it is wrong: there is only randomness associated with the construction procedure which is\ninduced by the randomness produced by the data sampling process itself. It is a subtle point...\n\nVersion 'E' is a defined 'confidence interval' language meant to specifically convey this notion."
     ]
    }
   ],
   "source": [
    "# test_Q5\n",
    "\n",
    "assert test, hint"
   ]
  },
  {
   "cell_type": "markdown",
   "id": "7648cf60",
   "metadata": {},
   "source": [
    "### Q6: If we want to be more confident that we've captured the actual true proportion of all countries where cars drive on the left side of the road, should we use a wider or narrower confidence interval? If we want to have a more precise, understandable, and interpretable estimate, should we use a wider or narrower confidence interval? Discuss the relevant tradeoffs in explaining your answers.\n",
    "\n",
    "#### Write three or so sentences to answer this question in markdown cell below.\n",
    "- You can compare your response to the answer given in the ***MarkUs*** output"
   ]
  },
  {
   "cell_type": "markdown",
   "id": "e48e0ca3",
   "metadata": {},
   "source": [
    "> Answer here..."
   ]
  },
  {
   "cell_type": "code",
   "execution_count": 150,
   "id": "cff6d79c",
   "metadata": {},
   "outputs": [],
   "source": [
    "hint = \"\\n\\nAUTOMATICALLY FAILING AUTOTEST: DOES NOT COUNT AGAINST STUDENT\\n\"\n",
    "hint += \"Included as an example answer for feedback purposes only\\n\\n\"\n",
    "hint += \"A wider confidence interval corresponds to an increased confidence level. E.g., a 99% confidence interval\\n\"\n",
    "hint += \"is wider than a 90% confidence interval. Thus, we can be more confident that the true proportion of\\n\"\n",
    "hint += \"countries where cars drive on the left side of the road is captutred by the confidence inerval for\\n\"\n",
    "hint += \"wider confidence intervals with higher confidence level interval; however, these are also less sharp\\n\"\n",
    "hint += \"and so are have less informative and meaningful than a more narrow interval, which may more effectively\\n\"\n",
    "hint += \"communicate the nature and implications of the estimate. So, with confidence intervals you're playing\\n\"\n",
    "hint += \"a gambling game, where you want a narrower confidence interval so it's easier to leverage and turn into\\n\"\n",
    "hint += \"some actionable response; but, the narrower your interval the higher the chance that it's not captured\\n\"\n",
    "hint += \"the value it's trying to estimate...\""
   ]
  },
  {
   "cell_type": "code",
   "execution_count": 151,
   "id": "5877c496",
   "metadata": {},
   "outputs": [
    {
     "ename": "AssertionError",
     "evalue": "\n\nAUTOMATICALLY FAILING AUTOTEST: DOES NOT COUNT AGAINST STUDENT\nIncluded as an example answer for feedback purposes only\n\nA wider confidence interval corresponds to an increased confidence level. E.g., a 99% confidence interval\nis wider than a 90% confidence interval. Thus, we can be more confident that the true proportion of\ncountries where cars drive on the left side of the road is captutred by the confidence inerval for\nwider confidence intervals with higher confidence level interval; however, these are also less sharp\nand so are have less informative and meaningful than a more narrow interval, which may more effectively\ncommunicate the nature and implications of the estimate. So, with confidence intervals you're playing\na gambling game, where you want a narrower confidence interval so it's easier to leverage and turn into\nsome actionable response; but, the narrower your interval the higher the chance that it's not captured\nthe value it's trying to estimate...",
     "output_type": "error",
     "traceback": [
      "\u001b[0;31m---------------------------------------------------------------------------\u001b[0m",
      "\u001b[0;31mAssertionError\u001b[0m                            Traceback (most recent call last)",
      "Cell \u001b[0;32mIn[151], line 2\u001b[0m\n\u001b[1;32m      1\u001b[0m \u001b[38;5;66;03m# test_Q6\u001b[39;00m\n\u001b[0;32m----> 2\u001b[0m \u001b[38;5;28;01massert\u001b[39;00m \u001b[38;5;28;01mFalse\u001b[39;00m, hint\n",
      "\u001b[0;31mAssertionError\u001b[0m: \n\nAUTOMATICALLY FAILING AUTOTEST: DOES NOT COUNT AGAINST STUDENT\nIncluded as an example answer for feedback purposes only\n\nA wider confidence interval corresponds to an increased confidence level. E.g., a 99% confidence interval\nis wider than a 90% confidence interval. Thus, we can be more confident that the true proportion of\ncountries where cars drive on the left side of the road is captutred by the confidence inerval for\nwider confidence intervals with higher confidence level interval; however, these are also less sharp\nand so are have less informative and meaningful than a more narrow interval, which may more effectively\ncommunicate the nature and implications of the estimate. So, with confidence intervals you're playing\na gambling game, where you want a narrower confidence interval so it's easier to leverage and turn into\nsome actionable response; but, the narrower your interval the higher the chance that it's not captured\nthe value it's trying to estimate..."
     ]
    }
   ],
   "source": [
    "# test_Q6\n",
    "assert False, hint"
   ]
  },
  {
   "cell_type": "markdown",
   "id": "22a1fed5",
   "metadata": {},
   "source": [
    "## Auto Claims\n",
    "The data set `auto_claims.csv` includes claims paid (in USD) by an auto insurance company in a specific year to a sample of auto insurance claimants greater than 60 years of age. In other words, this represents a \"sample\" (the \"original sample\") of car insurance claims paid by the auto insurance company in that year."
   ]
  },
  {
   "cell_type": "code",
   "execution_count": 154,
   "id": "16d73cc4",
   "metadata": {},
   "outputs": [],
   "source": [
    "# Load the `auto_claims.csv` dataset and have a quick look at it."
   ]
  },
  {
   "cell_type": "code",
   "execution_count": 155,
   "id": "5b6f9e89",
   "metadata": {},
   "outputs": [
    {
     "data": {
      "text/html": [
       "<div>\n",
       "<style scoped>\n",
       "    .dataframe tbody tr th:only-of-type {\n",
       "        vertical-align: middle;\n",
       "    }\n",
       "\n",
       "    .dataframe tbody tr th {\n",
       "        vertical-align: top;\n",
       "    }\n",
       "\n",
       "    .dataframe thead th {\n",
       "        text-align: right;\n",
       "    }\n",
       "</style>\n",
       "<table border=\"1\" class=\"dataframe\">\n",
       "  <thead>\n",
       "    <tr style=\"text-align: right;\">\n",
       "      <th></th>\n",
       "      <th>STATE</th>\n",
       "      <th>CLASS</th>\n",
       "      <th>GENDER</th>\n",
       "      <th>AGE</th>\n",
       "      <th>PAID</th>\n",
       "    </tr>\n",
       "  </thead>\n",
       "  <tbody>\n",
       "    <tr>\n",
       "      <th>0</th>\n",
       "      <td>STATE 15</td>\n",
       "      <td>F6</td>\n",
       "      <td>F</td>\n",
       "      <td>95</td>\n",
       "      <td>2384.67</td>\n",
       "    </tr>\n",
       "    <tr>\n",
       "      <th>1</th>\n",
       "      <td>STATE 15</td>\n",
       "      <td>F6</td>\n",
       "      <td>M</td>\n",
       "      <td>95</td>\n",
       "      <td>650.00</td>\n",
       "    </tr>\n",
       "    <tr>\n",
       "      <th>2</th>\n",
       "      <td>STATE 02</td>\n",
       "      <td>C11</td>\n",
       "      <td>F</td>\n",
       "      <td>92</td>\n",
       "      <td>654.00</td>\n",
       "    </tr>\n",
       "    <tr>\n",
       "      <th>3</th>\n",
       "      <td>STATE 15</td>\n",
       "      <td>C11</td>\n",
       "      <td>M</td>\n",
       "      <td>91</td>\n",
       "      <td>3890.07</td>\n",
       "    </tr>\n",
       "    <tr>\n",
       "      <th>4</th>\n",
       "      <td>STATE 04</td>\n",
       "      <td>C6</td>\n",
       "      <td>M</td>\n",
       "      <td>91</td>\n",
       "      <td>295.99</td>\n",
       "    </tr>\n",
       "  </tbody>\n",
       "</table>\n",
       "</div>"
      ],
      "text/plain": [
       "      STATE CLASS GENDER  AGE     PAID\n",
       "0  STATE 15   F6       F   95  2384.67\n",
       "1  STATE 15   F6       M   95   650.00\n",
       "2  STATE 02   C11      F   92   654.00\n",
       "3  STATE 15   C11      M   91  3890.07\n",
       "4  STATE 04   C6       M   91   295.99"
      ]
     },
     "execution_count": 155,
     "metadata": {},
     "output_type": "execute_result"
    }
   ],
   "source": [
    "autoclaims_csv_asdf = pd.read_csv('auto_claims.csv')\n",
    "autoclaims_csv_asdf.head()"
   ]
  },
  {
   "cell_type": "markdown",
   "id": "34aa2405",
   "metadata": {},
   "source": [
    "### Q7: What is the sample size, median, and standard deviation of paid claims (`PAID`) in the `auto_claims.csv`?\n",
    "\n",
    "> Hint: use the `.describe()` method of a `pd.DataFrame` object.\n",
    "#### Give your answer as a discrete integer numeric value ignoring all decimal values."
   ]
  },
  {
   "cell_type": "code",
   "execution_count": 158,
   "id": "fa6de84f",
   "metadata": {},
   "outputs": [
    {
     "data": {
      "text/plain": [
       "3100.0"
      ]
     },
     "execution_count": 158,
     "metadata": {},
     "output_type": "execute_result"
    }
   ],
   "source": [
    "#len(autoclaims_csv_asdf), np.round(autoclaims_csv_asdf.PAID.median()), np.round(np.std(autoclaims_csv_asdf.PAID, ddof=1))\n",
    "autoclaims_csv_asdf.PAID.describe()"
   ]
  },
  {
   "cell_type": "code",
   "execution_count": 170,
   "id": "64477b7e",
   "metadata": {},
   "outputs": [],
   "source": [
    "# Q7: Your answer will be tested!\n",
    "paid_sample_size = None\n",
    "paid_median = None\n",
    "paid_std = None\n",
    "Q7 = (paid_sample_size, paid_median, paid_std) # Assign a `tuple` of three `int`s to Q7"
   ]
  },
  {
   "cell_type": "code",
   "execution_count": 183,
   "id": "21be0439",
   "metadata": {},
   "outputs": [
    {
     "data": {
      "text/plain": [
       "count      500.000000\n",
       "mean      2160.134040\n",
       "std       3099.818149\n",
       "min         25.440000\n",
       "25%        543.002500\n",
       "50%       1042.345000\n",
       "75%       2409.100000\n",
       "max      33137.500000\n",
       "Name: PAID, dtype: float64"
      ]
     },
     "execution_count": 183,
     "metadata": {},
     "output_type": "execute_result"
    }
   ],
   "source": [
    "hint = \"There are many ways to do this... `data.PAID.describe()`\""
   ]
  },
  {
   "cell_type": "code",
   "execution_count": 172,
   "id": "86cb84e3",
   "metadata": {},
   "outputs": [
    {
     "ename": "AssertionError",
     "evalue": "There are many ways to do this... `autoclaims_csv_asdf.PAID.describe()`",
     "output_type": "error",
     "traceback": [
      "\u001b[0;31m---------------------------------------------------------------------------\u001b[0m",
      "\u001b[0;31mAssertionError\u001b[0m                            Traceback (most recent call last)",
      "Cell \u001b[0;32mIn[172], line 2\u001b[0m\n\u001b[1;32m      1\u001b[0m \u001b[38;5;66;03m# test_Q7\u001b[39;00m\n\u001b[0;32m----> 2\u001b[0m \u001b[38;5;28;01massert\u001b[39;00m Q7\u001b[38;5;241m==\u001b[39m(\u001b[38;5;28mlen\u001b[39m(autoclaims_csv_asdf), np\u001b[38;5;241m.\u001b[39mround(autoclaims_csv_asdf\u001b[38;5;241m.\u001b[39mPAID\u001b[38;5;241m.\u001b[39mmedian()), np\u001b[38;5;241m.\u001b[39mstd(autoclaims_csv_asdf\u001b[38;5;241m.\u001b[39mPAID, ddof\u001b[38;5;241m=\u001b[39m\u001b[38;5;241m1\u001b[39m)\u001b[38;5;241m.\u001b[39mround()), hint\n",
      "\u001b[0;31mAssertionError\u001b[0m: There are many ways to do this... `autoclaims_csv_asdf.PAID.describe()`"
     ]
    }
   ],
   "source": [
    "# test_Q7\n",
    "autoclaims_csv_asdf = pd.read_csv('auto_claims.csv')\n",
    "assert Q7==(len(autoclaims_csv_asdf), np.round(autoclaims_csv_asdf.PAID.median()), np.std(autoclaims_csv_asdf.PAID, ddof=1).round()), hint"
   ]
  },
  {
   "cell_type": "markdown",
   "id": "f30819a7",
   "metadata": {},
   "source": [
    "### Q8: Produce `plotly` histogram and boxplot visualizations of paid claims (`PAID`) and comment the shape, centre and spread of this distribution.\n",
    "\n",
    "#### Create the plot(s) and write your answer in the code cell and markdown cells (respectively) below.\n",
    "\n",
    "- You can compare your figure and response to the answer given in the ***MarkUs*** output "
   ]
  },
  {
   "cell_type": "code",
   "execution_count": 176,
   "id": "f8c48efa",
   "metadata": {},
   "outputs": [
    {
     "data": {
      "application/vnd.plotly.v1+json": {
       "config": {
        "plotlyServerURL": "https://plot.ly"
       },
       "data": [
        {
         "alignmentgroup": "True",
         "bingroup": "x",
         "hovertemplate": "PAID=%{x}<br>count=%{y}<extra></extra>",
         "legendgroup": "",
         "marker": {
          "color": "#636efa",
          "pattern": {
           "shape": ""
          }
         },
         "name": "",
         "nbinsx": 20,
         "offsetgroup": "",
         "orientation": "v",
         "showlegend": false,
         "type": "histogram",
         "x": [
          2384.67,
          650,
          654,
          3890.07,
          295.99,
          11756.34,
          2402,
          296.97,
          249.1,
          14833.3,
          3025,
          2750,
          2612.74,
          1259.89,
          824.85,
          669.5,
          664.34,
          408.39,
          3953.84,
          3841.66,
          239.37,
          30,
          6384,
          4467.92,
          1541.1,
          1354.93,
          1263.51,
          1045,
          519.75,
          499.28,
          365.26,
          322.34,
          122.41,
          10524.64,
          6854.02,
          3206.76,
          2724.04,
          2269,
          2169.88,
          1929.81,
          1061.8,
          945.8,
          899.13,
          7326.67,
          5301.72,
          3596.5,
          2322.72,
          1944.45,
          1491.69,
          1314.4,
          836.78,
          479,
          426.19,
          3112.89,
          2500,
          1921.22,
          1472.87,
          1444.89,
          1368.76,
          1346.36,
          772.23,
          688.67,
          362.63,
          359.41,
          354.29,
          262.81,
          244.11,
          9377.82,
          5540.07,
          3118.5,
          2495.8,
          2362.89,
          2007.78,
          1816.41,
          1500,
          1139.6,
          952.05,
          746.89,
          644.87,
          188.61,
          117.4,
          12714.43,
          10116.07,
          1949.14,
          1852.5,
          1722.82,
          1539.07,
          1476.43,
          1458.13,
          1119.52,
          990.07,
          987,
          782.44,
          459,
          377.36,
          319.67,
          176.07,
          154.75,
          8493.76,
          3809.83,
          3222.66,
          1113.38,
          766.4,
          663.17,
          640.4,
          619.06,
          419.18,
          298.62,
          160.2,
          105.5,
          8323.31,
          6291.84,
          4904.64,
          4096.58,
          3334.65,
          1755.95,
          1160.63,
          1098.37,
          818.79,
          651.57,
          646.79,
          584.61,
          417.04,
          399.9,
          371.63,
          365.5,
          275.43,
          146.56,
          14651.31,
          6754.81,
          5071.99,
          4809.52,
          2884.46,
          2591.33,
          2419.75,
          1321.7,
          1308,
          981.86,
          843.98,
          817.62,
          712,
          634.48,
          463.96,
          462.93,
          430.38,
          388.71,
          112.78,
          85,
          12151.86,
          5186.82,
          4451.39,
          3968.51,
          3392.58,
          1879.51,
          1792.54,
          1607.6,
          1238,
          1130,
          1081.71,
          1033.84,
          671.59,
          361.37,
          171.7,
          40,
          3203.35,
          3060.69,
          2171.93,
          1727.85,
          1550,
          1470.35,
          1229.01,
          1010.94,
          575.36,
          555.34,
          533.11,
          459.1,
          253.75,
          148.65,
          4184.46,
          4082.49,
          1846.1,
          1688.78,
          1118.91,
          749.64,
          725.71,
          722.02,
          648.06,
          593.46,
          516.81,
          302.54,
          300,
          278.55,
          248.68,
          131,
          28.46,
          13058.85,
          6950.54,
          2930,
          2112.46,
          2100,
          1500,
          1386.41,
          1270.17,
          1203.81,
          993.59,
          903,
          900,
          583.76,
          580.32,
          376.46,
          275.94,
          91.27,
          6013.74,
          4804.22,
          3179.28,
          2893.53,
          1916.21,
          1209.08,
          1036.74,
          986.12,
          893.03,
          754.31,
          740.38,
          694.91,
          693.13,
          564.05,
          551.78,
          549.77,
          497.85,
          403.3,
          358.7,
          284.54,
          228,
          177.6,
          177.42,
          139.79,
          33137.5,
          7293.43,
          3754.51,
          3495.14,
          3140.66,
          2137.4,
          1971.75,
          1956,
          1870.58,
          1650,
          1188.74,
          1115.89,
          1088.73,
          1074.35,
          1016.43,
          860.67,
          831.8,
          796.8,
          759.57,
          668.74,
          582.62,
          404,
          393.5,
          309.67,
          292.44,
          221.7,
          103.75,
          11511.72,
          6090.02,
          1727.33,
          1235.07,
          910.01,
          812.98,
          562.05,
          527.34,
          451.31,
          332.06,
          315.53,
          10527.4,
          7751.55,
          5711.53,
          3804.44,
          3760.07,
          2757.83,
          2565.84,
          2221.87,
          2139.9,
          2000,
          1363.23,
          1132.41,
          993.19,
          964.22,
          898.55,
          822.1,
          761.22,
          754.56,
          685.71,
          622.53,
          604.95,
          587.51,
          490.25,
          489.73,
          465.5,
          329.91,
          272.01,
          258.5,
          4643.8,
          3523.9,
          3007.96,
          2192.98,
          1752.16,
          1686.2,
          1648.41,
          1381.16,
          1336.26,
          1248.01,
          950.61,
          945.56,
          880.82,
          713.55,
          645.8,
          626.38,
          573.4,
          488.16,
          458,
          443.95,
          253.59,
          209.83,
          138.86,
          100,
          30,
          24624.44,
          8123.33,
          5158.65,
          5035.93,
          4625.47,
          1707.92,
          1694.59,
          1501.05,
          1369.74,
          946.38,
          825.66,
          682.85,
          604.95,
          585.34,
          565.02,
          529.28,
          388.03,
          377.54,
          303,
          300,
          198.98,
          135,
          47.52,
          11458.07,
          8300.31,
          7827.74,
          6261.92,
          5861.5,
          5381.14,
          4532.02,
          3656.77,
          2928.92,
          2547.5,
          2276.5,
          2017.28,
          1678.17,
          1651.86,
          1482.45,
          1480.93,
          1348.93,
          1189.96,
          1090.41,
          940.28,
          925.47,
          852.22,
          417.18,
          369.02,
          346.79,
          244.23,
          132,
          100,
          14753.58,
          11288.76,
          10175.27,
          6277.84,
          4939.5,
          4786.51,
          3167.49,
          2572.22,
          1712.27,
          1712.13,
          1396.61,
          1377.31,
          1108.42,
          1001.76,
          989.59,
          891.09,
          882.77,
          670.77,
          638.99,
          546.32,
          536.11,
          533.33,
          464.59,
          460.36,
          291.92,
          257.01,
          106,
          7487.94,
          7296.2,
          4929.65,
          2532.6,
          2344.69,
          1855.85,
          1812.47,
          1431.81,
          1226.28,
          1122.12,
          1090.75,
          1067.57,
          1012.19,
          928.2,
          861.89,
          809.34,
          782.9,
          768.05,
          698.65,
          630.11,
          617.9,
          594.8,
          585.74,
          390.02,
          291.28,
          236.53,
          10077,
          8569.3,
          6124.34,
          5335.35,
          3486.96,
          3255.88,
          2985.29,
          2418.4,
          2368.69,
          2007.64,
          1996,
          1869.49,
          1600.18,
          1278.52,
          1212.85,
          1039.69,
          834.12,
          805.18,
          676.15,
          651.18,
          586.85,
          315.61,
          311.32,
          25.44,
          9793.42,
          7620.37,
          6800.94,
          4781.43,
          3944.37,
          2406,
          1613.41,
          1340.74,
          1249.02,
          1086.9,
          941.85,
          909.99,
          903.99,
          875.28,
          738.18,
          492.22,
          468,
          443.49,
          439.22,
          359.11,
          8215.8,
          6208.2,
          5241.71,
          3912.49,
          3230.09,
          2600,
          2531.24,
          2038.05,
          1890.5,
          1704.54,
          1145.63,
          959.52,
          763.07,
          746.63,
          700,
          554.55,
          545.3,
          490.6,
          273.29,
          189.9,
          10652.59,
          5556.75,
          3403.09,
          3328.93,
          2805.73
         ],
         "xaxis": "x",
         "yaxis": "y"
        }
       ],
       "layout": {
        "barmode": "relative",
        "legend": {
         "tracegroupgap": 0
        },
        "margin": {
         "t": 60
        },
        "template": {
         "data": {
          "bar": [
           {
            "error_x": {
             "color": "#2a3f5f"
            },
            "error_y": {
             "color": "#2a3f5f"
            },
            "marker": {
             "line": {
              "color": "#E5ECF6",
              "width": 0.5
             },
             "pattern": {
              "fillmode": "overlay",
              "size": 10,
              "solidity": 0.2
             }
            },
            "type": "bar"
           }
          ],
          "barpolar": [
           {
            "marker": {
             "line": {
              "color": "#E5ECF6",
              "width": 0.5
             },
             "pattern": {
              "fillmode": "overlay",
              "size": 10,
              "solidity": 0.2
             }
            },
            "type": "barpolar"
           }
          ],
          "carpet": [
           {
            "aaxis": {
             "endlinecolor": "#2a3f5f",
             "gridcolor": "white",
             "linecolor": "white",
             "minorgridcolor": "white",
             "startlinecolor": "#2a3f5f"
            },
            "baxis": {
             "endlinecolor": "#2a3f5f",
             "gridcolor": "white",
             "linecolor": "white",
             "minorgridcolor": "white",
             "startlinecolor": "#2a3f5f"
            },
            "type": "carpet"
           }
          ],
          "choropleth": [
           {
            "colorbar": {
             "outlinewidth": 0,
             "ticks": ""
            },
            "type": "choropleth"
           }
          ],
          "contour": [
           {
            "colorbar": {
             "outlinewidth": 0,
             "ticks": ""
            },
            "colorscale": [
             [
              0,
              "#0d0887"
             ],
             [
              0.1111111111111111,
              "#46039f"
             ],
             [
              0.2222222222222222,
              "#7201a8"
             ],
             [
              0.3333333333333333,
              "#9c179e"
             ],
             [
              0.4444444444444444,
              "#bd3786"
             ],
             [
              0.5555555555555556,
              "#d8576b"
             ],
             [
              0.6666666666666666,
              "#ed7953"
             ],
             [
              0.7777777777777778,
              "#fb9f3a"
             ],
             [
              0.8888888888888888,
              "#fdca26"
             ],
             [
              1,
              "#f0f921"
             ]
            ],
            "type": "contour"
           }
          ],
          "contourcarpet": [
           {
            "colorbar": {
             "outlinewidth": 0,
             "ticks": ""
            },
            "type": "contourcarpet"
           }
          ],
          "heatmap": [
           {
            "colorbar": {
             "outlinewidth": 0,
             "ticks": ""
            },
            "colorscale": [
             [
              0,
              "#0d0887"
             ],
             [
              0.1111111111111111,
              "#46039f"
             ],
             [
              0.2222222222222222,
              "#7201a8"
             ],
             [
              0.3333333333333333,
              "#9c179e"
             ],
             [
              0.4444444444444444,
              "#bd3786"
             ],
             [
              0.5555555555555556,
              "#d8576b"
             ],
             [
              0.6666666666666666,
              "#ed7953"
             ],
             [
              0.7777777777777778,
              "#fb9f3a"
             ],
             [
              0.8888888888888888,
              "#fdca26"
             ],
             [
              1,
              "#f0f921"
             ]
            ],
            "type": "heatmap"
           }
          ],
          "heatmapgl": [
           {
            "colorbar": {
             "outlinewidth": 0,
             "ticks": ""
            },
            "colorscale": [
             [
              0,
              "#0d0887"
             ],
             [
              0.1111111111111111,
              "#46039f"
             ],
             [
              0.2222222222222222,
              "#7201a8"
             ],
             [
              0.3333333333333333,
              "#9c179e"
             ],
             [
              0.4444444444444444,
              "#bd3786"
             ],
             [
              0.5555555555555556,
              "#d8576b"
             ],
             [
              0.6666666666666666,
              "#ed7953"
             ],
             [
              0.7777777777777778,
              "#fb9f3a"
             ],
             [
              0.8888888888888888,
              "#fdca26"
             ],
             [
              1,
              "#f0f921"
             ]
            ],
            "type": "heatmapgl"
           }
          ],
          "histogram": [
           {
            "marker": {
             "pattern": {
              "fillmode": "overlay",
              "size": 10,
              "solidity": 0.2
             }
            },
            "type": "histogram"
           }
          ],
          "histogram2d": [
           {
            "colorbar": {
             "outlinewidth": 0,
             "ticks": ""
            },
            "colorscale": [
             [
              0,
              "#0d0887"
             ],
             [
              0.1111111111111111,
              "#46039f"
             ],
             [
              0.2222222222222222,
              "#7201a8"
             ],
             [
              0.3333333333333333,
              "#9c179e"
             ],
             [
              0.4444444444444444,
              "#bd3786"
             ],
             [
              0.5555555555555556,
              "#d8576b"
             ],
             [
              0.6666666666666666,
              "#ed7953"
             ],
             [
              0.7777777777777778,
              "#fb9f3a"
             ],
             [
              0.8888888888888888,
              "#fdca26"
             ],
             [
              1,
              "#f0f921"
             ]
            ],
            "type": "histogram2d"
           }
          ],
          "histogram2dcontour": [
           {
            "colorbar": {
             "outlinewidth": 0,
             "ticks": ""
            },
            "colorscale": [
             [
              0,
              "#0d0887"
             ],
             [
              0.1111111111111111,
              "#46039f"
             ],
             [
              0.2222222222222222,
              "#7201a8"
             ],
             [
              0.3333333333333333,
              "#9c179e"
             ],
             [
              0.4444444444444444,
              "#bd3786"
             ],
             [
              0.5555555555555556,
              "#d8576b"
             ],
             [
              0.6666666666666666,
              "#ed7953"
             ],
             [
              0.7777777777777778,
              "#fb9f3a"
             ],
             [
              0.8888888888888888,
              "#fdca26"
             ],
             [
              1,
              "#f0f921"
             ]
            ],
            "type": "histogram2dcontour"
           }
          ],
          "mesh3d": [
           {
            "colorbar": {
             "outlinewidth": 0,
             "ticks": ""
            },
            "type": "mesh3d"
           }
          ],
          "parcoords": [
           {
            "line": {
             "colorbar": {
              "outlinewidth": 0,
              "ticks": ""
             }
            },
            "type": "parcoords"
           }
          ],
          "pie": [
           {
            "automargin": true,
            "type": "pie"
           }
          ],
          "scatter": [
           {
            "fillpattern": {
             "fillmode": "overlay",
             "size": 10,
             "solidity": 0.2
            },
            "type": "scatter"
           }
          ],
          "scatter3d": [
           {
            "line": {
             "colorbar": {
              "outlinewidth": 0,
              "ticks": ""
             }
            },
            "marker": {
             "colorbar": {
              "outlinewidth": 0,
              "ticks": ""
             }
            },
            "type": "scatter3d"
           }
          ],
          "scattercarpet": [
           {
            "marker": {
             "colorbar": {
              "outlinewidth": 0,
              "ticks": ""
             }
            },
            "type": "scattercarpet"
           }
          ],
          "scattergeo": [
           {
            "marker": {
             "colorbar": {
              "outlinewidth": 0,
              "ticks": ""
             }
            },
            "type": "scattergeo"
           }
          ],
          "scattergl": [
           {
            "marker": {
             "colorbar": {
              "outlinewidth": 0,
              "ticks": ""
             }
            },
            "type": "scattergl"
           }
          ],
          "scattermapbox": [
           {
            "marker": {
             "colorbar": {
              "outlinewidth": 0,
              "ticks": ""
             }
            },
            "type": "scattermapbox"
           }
          ],
          "scatterpolar": [
           {
            "marker": {
             "colorbar": {
              "outlinewidth": 0,
              "ticks": ""
             }
            },
            "type": "scatterpolar"
           }
          ],
          "scatterpolargl": [
           {
            "marker": {
             "colorbar": {
              "outlinewidth": 0,
              "ticks": ""
             }
            },
            "type": "scatterpolargl"
           }
          ],
          "scatterternary": [
           {
            "marker": {
             "colorbar": {
              "outlinewidth": 0,
              "ticks": ""
             }
            },
            "type": "scatterternary"
           }
          ],
          "surface": [
           {
            "colorbar": {
             "outlinewidth": 0,
             "ticks": ""
            },
            "colorscale": [
             [
              0,
              "#0d0887"
             ],
             [
              0.1111111111111111,
              "#46039f"
             ],
             [
              0.2222222222222222,
              "#7201a8"
             ],
             [
              0.3333333333333333,
              "#9c179e"
             ],
             [
              0.4444444444444444,
              "#bd3786"
             ],
             [
              0.5555555555555556,
              "#d8576b"
             ],
             [
              0.6666666666666666,
              "#ed7953"
             ],
             [
              0.7777777777777778,
              "#fb9f3a"
             ],
             [
              0.8888888888888888,
              "#fdca26"
             ],
             [
              1,
              "#f0f921"
             ]
            ],
            "type": "surface"
           }
          ],
          "table": [
           {
            "cells": {
             "fill": {
              "color": "#EBF0F8"
             },
             "line": {
              "color": "white"
             }
            },
            "header": {
             "fill": {
              "color": "#C8D4E3"
             },
             "line": {
              "color": "white"
             }
            },
            "type": "table"
           }
          ]
         },
         "layout": {
          "annotationdefaults": {
           "arrowcolor": "#2a3f5f",
           "arrowhead": 0,
           "arrowwidth": 1
          },
          "autotypenumbers": "strict",
          "coloraxis": {
           "colorbar": {
            "outlinewidth": 0,
            "ticks": ""
           }
          },
          "colorscale": {
           "diverging": [
            [
             0,
             "#8e0152"
            ],
            [
             0.1,
             "#c51b7d"
            ],
            [
             0.2,
             "#de77ae"
            ],
            [
             0.3,
             "#f1b6da"
            ],
            [
             0.4,
             "#fde0ef"
            ],
            [
             0.5,
             "#f7f7f7"
            ],
            [
             0.6,
             "#e6f5d0"
            ],
            [
             0.7,
             "#b8e186"
            ],
            [
             0.8,
             "#7fbc41"
            ],
            [
             0.9,
             "#4d9221"
            ],
            [
             1,
             "#276419"
            ]
           ],
           "sequential": [
            [
             0,
             "#0d0887"
            ],
            [
             0.1111111111111111,
             "#46039f"
            ],
            [
             0.2222222222222222,
             "#7201a8"
            ],
            [
             0.3333333333333333,
             "#9c179e"
            ],
            [
             0.4444444444444444,
             "#bd3786"
            ],
            [
             0.5555555555555556,
             "#d8576b"
            ],
            [
             0.6666666666666666,
             "#ed7953"
            ],
            [
             0.7777777777777778,
             "#fb9f3a"
            ],
            [
             0.8888888888888888,
             "#fdca26"
            ],
            [
             1,
             "#f0f921"
            ]
           ],
           "sequentialminus": [
            [
             0,
             "#0d0887"
            ],
            [
             0.1111111111111111,
             "#46039f"
            ],
            [
             0.2222222222222222,
             "#7201a8"
            ],
            [
             0.3333333333333333,
             "#9c179e"
            ],
            [
             0.4444444444444444,
             "#bd3786"
            ],
            [
             0.5555555555555556,
             "#d8576b"
            ],
            [
             0.6666666666666666,
             "#ed7953"
            ],
            [
             0.7777777777777778,
             "#fb9f3a"
            ],
            [
             0.8888888888888888,
             "#fdca26"
            ],
            [
             1,
             "#f0f921"
            ]
           ]
          },
          "colorway": [
           "#636efa",
           "#EF553B",
           "#00cc96",
           "#ab63fa",
           "#FFA15A",
           "#19d3f3",
           "#FF6692",
           "#B6E880",
           "#FF97FF",
           "#FECB52"
          ],
          "font": {
           "color": "#2a3f5f"
          },
          "geo": {
           "bgcolor": "white",
           "lakecolor": "white",
           "landcolor": "#E5ECF6",
           "showlakes": true,
           "showland": true,
           "subunitcolor": "white"
          },
          "hoverlabel": {
           "align": "left"
          },
          "hovermode": "closest",
          "mapbox": {
           "style": "light"
          },
          "paper_bgcolor": "white",
          "plot_bgcolor": "#E5ECF6",
          "polar": {
           "angularaxis": {
            "gridcolor": "white",
            "linecolor": "white",
            "ticks": ""
           },
           "bgcolor": "#E5ECF6",
           "radialaxis": {
            "gridcolor": "white",
            "linecolor": "white",
            "ticks": ""
           }
          },
          "scene": {
           "xaxis": {
            "backgroundcolor": "#E5ECF6",
            "gridcolor": "white",
            "gridwidth": 2,
            "linecolor": "white",
            "showbackground": true,
            "ticks": "",
            "zerolinecolor": "white"
           },
           "yaxis": {
            "backgroundcolor": "#E5ECF6",
            "gridcolor": "white",
            "gridwidth": 2,
            "linecolor": "white",
            "showbackground": true,
            "ticks": "",
            "zerolinecolor": "white"
           },
           "zaxis": {
            "backgroundcolor": "#E5ECF6",
            "gridcolor": "white",
            "gridwidth": 2,
            "linecolor": "white",
            "showbackground": true,
            "ticks": "",
            "zerolinecolor": "white"
           }
          },
          "shapedefaults": {
           "line": {
            "color": "#2a3f5f"
           }
          },
          "ternary": {
           "aaxis": {
            "gridcolor": "white",
            "linecolor": "white",
            "ticks": ""
           },
           "baxis": {
            "gridcolor": "white",
            "linecolor": "white",
            "ticks": ""
           },
           "bgcolor": "#E5ECF6",
           "caxis": {
            "gridcolor": "white",
            "linecolor": "white",
            "ticks": ""
           }
          },
          "title": {
           "x": 0.05
          },
          "xaxis": {
           "automargin": true,
           "gridcolor": "white",
           "linecolor": "white",
           "ticks": "",
           "title": {
            "standoff": 15
           },
           "zerolinecolor": "white",
           "zerolinewidth": 2
          },
          "yaxis": {
           "automargin": true,
           "gridcolor": "white",
           "linecolor": "white",
           "ticks": "",
           "title": {
            "standoff": 15
           },
           "zerolinecolor": "white",
           "zerolinewidth": 2
          }
         }
        },
        "xaxis": {
         "anchor": "y",
         "domain": [
          0,
          1
         ],
         "title": {
          "text": "PAID"
         }
        },
        "yaxis": {
         "anchor": "x",
         "domain": [
          0,
          1
         ],
         "title": {
          "text": "count"
         }
        }
       }
      },
      "text/html": [
       "<div>                            <div id=\"958c521d-31bf-480c-8e89-9bd40ad0a03c\" class=\"plotly-graph-div\" style=\"height:525px; width:100%;\"></div>            <script type=\"text/javascript\">                require([\"plotly\"], function(Plotly) {                    window.PLOTLYENV=window.PLOTLYENV || {};                                    if (document.getElementById(\"958c521d-31bf-480c-8e89-9bd40ad0a03c\")) {                    Plotly.newPlot(                        \"958c521d-31bf-480c-8e89-9bd40ad0a03c\",                        [{\"alignmentgroup\":\"True\",\"bingroup\":\"x\",\"hovertemplate\":\"PAID=%{x}\\u003cbr\\u003ecount=%{y}\\u003cextra\\u003e\\u003c\\u002fextra\\u003e\",\"legendgroup\":\"\",\"marker\":{\"color\":\"#636efa\",\"pattern\":{\"shape\":\"\"}},\"name\":\"\",\"nbinsx\":20,\"offsetgroup\":\"\",\"orientation\":\"v\",\"showlegend\":false,\"x\":[2384.67,650.0,654.0,3890.07,295.99,11756.34,2402.0,296.97,249.1,14833.3,3025.0,2750.0,2612.74,1259.89,824.85,669.5,664.34,408.39,3953.84,3841.66,239.37,30.0,6384.0,4467.92,1541.1,1354.93,1263.51,1045.0,519.75,499.28,365.26,322.34,122.41,10524.64,6854.02,3206.76,2724.04,2269.0,2169.88,1929.81,1061.8,945.8,899.13,7326.67,5301.72,3596.5,2322.72,1944.45,1491.69,1314.4,836.78,479.0,426.19,3112.89,2500.0,1921.22,1472.87,1444.89,1368.76,1346.36,772.23,688.67,362.63,359.41,354.29,262.81,244.11,9377.82,5540.07,3118.5,2495.8,2362.89,2007.78,1816.41,1500.0,1139.6,952.05,746.89,644.87,188.61,117.4,12714.43,10116.07,1949.14,1852.5,1722.82,1539.07,1476.43,1458.13,1119.52,990.07,987.0,782.44,459.0,377.36,319.67,176.07,154.75,8493.76,3809.83,3222.66,1113.38,766.4,663.17,640.4,619.06,419.18,298.62,160.2,105.5,8323.31,6291.84,4904.64,4096.58,3334.65,1755.95,1160.63,1098.37,818.79,651.57,646.79,584.61,417.04,399.9,371.63,365.5,275.43,146.56,14651.31,6754.81,5071.99,4809.52,2884.46,2591.33,2419.75,1321.7,1308.0,981.86,843.98,817.62,712.0,634.48,463.96,462.93,430.38,388.71,112.78,85.0,12151.86,5186.82,4451.39,3968.51,3392.58,1879.51,1792.54,1607.6,1238.0,1130.0,1081.71,1033.84,671.59,361.37,171.7,40.0,3203.35,3060.69,2171.93,1727.85,1550.0,1470.35,1229.01,1010.94,575.36,555.34,533.11,459.1,253.75,148.65,4184.46,4082.49,1846.1,1688.78,1118.91,749.64,725.71,722.02,648.06,593.46,516.81,302.54,300.0,278.55,248.68,131.0,28.46,13058.85,6950.54,2930.0,2112.46,2100.0,1500.0,1386.41,1270.17,1203.81,993.59,903.0,900.0,583.76,580.32,376.46,275.94,91.27,6013.74,4804.22,3179.28,2893.53,1916.21,1209.08,1036.74,986.12,893.03,754.31,740.38,694.91,693.13,564.05,551.78,549.77,497.85,403.3,358.7,284.54,228.0,177.6,177.42,139.79,33137.5,7293.43,3754.51,3495.14,3140.66,2137.4,1971.75,1956.0,1870.58,1650.0,1188.74,1115.89,1088.73,1074.35,1016.43,860.67,831.8,796.8,759.57,668.74,582.62,404.0,393.5,309.67,292.44,221.7,103.75,11511.72,6090.02,1727.33,1235.07,910.01,812.98,562.05,527.34,451.31,332.06,315.53,10527.4,7751.55,5711.53,3804.44,3760.07,2757.83,2565.84,2221.87,2139.9,2000.0,1363.23,1132.41,993.19,964.22,898.55,822.1,761.22,754.56,685.71,622.53,604.95,587.51,490.25,489.73,465.5,329.91,272.01,258.5,4643.8,3523.9,3007.96,2192.98,1752.16,1686.2,1648.41,1381.16,1336.26,1248.01,950.61,945.56,880.82,713.55,645.8,626.38,573.4,488.16,458.0,443.95,253.59,209.83,138.86,100.0,30.0,24624.44,8123.33,5158.65,5035.93,4625.47,1707.92,1694.59,1501.05,1369.74,946.38,825.66,682.85,604.95,585.34,565.02,529.28,388.03,377.54,303.0,300.0,198.98,135.0,47.52,11458.07,8300.31,7827.74,6261.92,5861.5,5381.14,4532.02,3656.77,2928.92,2547.5,2276.5,2017.28,1678.17,1651.86,1482.45,1480.93,1348.93,1189.96,1090.41,940.28,925.47,852.22,417.18,369.02,346.79,244.23,132.0,100.0,14753.58,11288.76,10175.27,6277.84,4939.5,4786.51,3167.49,2572.22,1712.27,1712.13,1396.61,1377.31,1108.42,1001.76,989.59,891.09,882.77,670.77,638.99,546.32,536.11,533.33,464.59,460.36,291.92,257.01,106.0,7487.94,7296.2,4929.65,2532.6,2344.69,1855.85,1812.47,1431.81,1226.28,1122.12,1090.75,1067.57,1012.19,928.2,861.89,809.34,782.9,768.05,698.65,630.11,617.9,594.8,585.74,390.02,291.28,236.53,10077.0,8569.3,6124.34,5335.35,3486.96,3255.88,2985.29,2418.4,2368.69,2007.64,1996.0,1869.49,1600.18,1278.52,1212.85,1039.69,834.12,805.18,676.15,651.18,586.85,315.61,311.32,25.44,9793.42,7620.37,6800.94,4781.43,3944.37,2406.0,1613.41,1340.74,1249.02,1086.9,941.85,909.99,903.99,875.28,738.18,492.22,468.0,443.49,439.22,359.11,8215.8,6208.2,5241.71,3912.49,3230.09,2600.0,2531.24,2038.05,1890.5,1704.54,1145.63,959.52,763.07,746.63,700.0,554.55,545.3,490.6,273.29,189.9,10652.59,5556.75,3403.09,3328.93,2805.73],\"xaxis\":\"x\",\"yaxis\":\"y\",\"type\":\"histogram\"}],                        {\"template\":{\"data\":{\"histogram2dcontour\":[{\"type\":\"histogram2dcontour\",\"colorbar\":{\"outlinewidth\":0,\"ticks\":\"\"},\"colorscale\":[[0.0,\"#0d0887\"],[0.1111111111111111,\"#46039f\"],[0.2222222222222222,\"#7201a8\"],[0.3333333333333333,\"#9c179e\"],[0.4444444444444444,\"#bd3786\"],[0.5555555555555556,\"#d8576b\"],[0.6666666666666666,\"#ed7953\"],[0.7777777777777778,\"#fb9f3a\"],[0.8888888888888888,\"#fdca26\"],[1.0,\"#f0f921\"]]}],\"choropleth\":[{\"type\":\"choropleth\",\"colorbar\":{\"outlinewidth\":0,\"ticks\":\"\"}}],\"histogram2d\":[{\"type\":\"histogram2d\",\"colorbar\":{\"outlinewidth\":0,\"ticks\":\"\"},\"colorscale\":[[0.0,\"#0d0887\"],[0.1111111111111111,\"#46039f\"],[0.2222222222222222,\"#7201a8\"],[0.3333333333333333,\"#9c179e\"],[0.4444444444444444,\"#bd3786\"],[0.5555555555555556,\"#d8576b\"],[0.6666666666666666,\"#ed7953\"],[0.7777777777777778,\"#fb9f3a\"],[0.8888888888888888,\"#fdca26\"],[1.0,\"#f0f921\"]]}],\"heatmap\":[{\"type\":\"heatmap\",\"colorbar\":{\"outlinewidth\":0,\"ticks\":\"\"},\"colorscale\":[[0.0,\"#0d0887\"],[0.1111111111111111,\"#46039f\"],[0.2222222222222222,\"#7201a8\"],[0.3333333333333333,\"#9c179e\"],[0.4444444444444444,\"#bd3786\"],[0.5555555555555556,\"#d8576b\"],[0.6666666666666666,\"#ed7953\"],[0.7777777777777778,\"#fb9f3a\"],[0.8888888888888888,\"#fdca26\"],[1.0,\"#f0f921\"]]}],\"heatmapgl\":[{\"type\":\"heatmapgl\",\"colorbar\":{\"outlinewidth\":0,\"ticks\":\"\"},\"colorscale\":[[0.0,\"#0d0887\"],[0.1111111111111111,\"#46039f\"],[0.2222222222222222,\"#7201a8\"],[0.3333333333333333,\"#9c179e\"],[0.4444444444444444,\"#bd3786\"],[0.5555555555555556,\"#d8576b\"],[0.6666666666666666,\"#ed7953\"],[0.7777777777777778,\"#fb9f3a\"],[0.8888888888888888,\"#fdca26\"],[1.0,\"#f0f921\"]]}],\"contourcarpet\":[{\"type\":\"contourcarpet\",\"colorbar\":{\"outlinewidth\":0,\"ticks\":\"\"}}],\"contour\":[{\"type\":\"contour\",\"colorbar\":{\"outlinewidth\":0,\"ticks\":\"\"},\"colorscale\":[[0.0,\"#0d0887\"],[0.1111111111111111,\"#46039f\"],[0.2222222222222222,\"#7201a8\"],[0.3333333333333333,\"#9c179e\"],[0.4444444444444444,\"#bd3786\"],[0.5555555555555556,\"#d8576b\"],[0.6666666666666666,\"#ed7953\"],[0.7777777777777778,\"#fb9f3a\"],[0.8888888888888888,\"#fdca26\"],[1.0,\"#f0f921\"]]}],\"surface\":[{\"type\":\"surface\",\"colorbar\":{\"outlinewidth\":0,\"ticks\":\"\"},\"colorscale\":[[0.0,\"#0d0887\"],[0.1111111111111111,\"#46039f\"],[0.2222222222222222,\"#7201a8\"],[0.3333333333333333,\"#9c179e\"],[0.4444444444444444,\"#bd3786\"],[0.5555555555555556,\"#d8576b\"],[0.6666666666666666,\"#ed7953\"],[0.7777777777777778,\"#fb9f3a\"],[0.8888888888888888,\"#fdca26\"],[1.0,\"#f0f921\"]]}],\"mesh3d\":[{\"type\":\"mesh3d\",\"colorbar\":{\"outlinewidth\":0,\"ticks\":\"\"}}],\"scatter\":[{\"fillpattern\":{\"fillmode\":\"overlay\",\"size\":10,\"solidity\":0.2},\"type\":\"scatter\"}],\"parcoords\":[{\"type\":\"parcoords\",\"line\":{\"colorbar\":{\"outlinewidth\":0,\"ticks\":\"\"}}}],\"scatterpolargl\":[{\"type\":\"scatterpolargl\",\"marker\":{\"colorbar\":{\"outlinewidth\":0,\"ticks\":\"\"}}}],\"bar\":[{\"error_x\":{\"color\":\"#2a3f5f\"},\"error_y\":{\"color\":\"#2a3f5f\"},\"marker\":{\"line\":{\"color\":\"#E5ECF6\",\"width\":0.5},\"pattern\":{\"fillmode\":\"overlay\",\"size\":10,\"solidity\":0.2}},\"type\":\"bar\"}],\"scattergeo\":[{\"type\":\"scattergeo\",\"marker\":{\"colorbar\":{\"outlinewidth\":0,\"ticks\":\"\"}}}],\"scatterpolar\":[{\"type\":\"scatterpolar\",\"marker\":{\"colorbar\":{\"outlinewidth\":0,\"ticks\":\"\"}}}],\"histogram\":[{\"marker\":{\"pattern\":{\"fillmode\":\"overlay\",\"size\":10,\"solidity\":0.2}},\"type\":\"histogram\"}],\"scattergl\":[{\"type\":\"scattergl\",\"marker\":{\"colorbar\":{\"outlinewidth\":0,\"ticks\":\"\"}}}],\"scatter3d\":[{\"type\":\"scatter3d\",\"line\":{\"colorbar\":{\"outlinewidth\":0,\"ticks\":\"\"}},\"marker\":{\"colorbar\":{\"outlinewidth\":0,\"ticks\":\"\"}}}],\"scattermapbox\":[{\"type\":\"scattermapbox\",\"marker\":{\"colorbar\":{\"outlinewidth\":0,\"ticks\":\"\"}}}],\"scatterternary\":[{\"type\":\"scatterternary\",\"marker\":{\"colorbar\":{\"outlinewidth\":0,\"ticks\":\"\"}}}],\"scattercarpet\":[{\"type\":\"scattercarpet\",\"marker\":{\"colorbar\":{\"outlinewidth\":0,\"ticks\":\"\"}}}],\"carpet\":[{\"aaxis\":{\"endlinecolor\":\"#2a3f5f\",\"gridcolor\":\"white\",\"linecolor\":\"white\",\"minorgridcolor\":\"white\",\"startlinecolor\":\"#2a3f5f\"},\"baxis\":{\"endlinecolor\":\"#2a3f5f\",\"gridcolor\":\"white\",\"linecolor\":\"white\",\"minorgridcolor\":\"white\",\"startlinecolor\":\"#2a3f5f\"},\"type\":\"carpet\"}],\"table\":[{\"cells\":{\"fill\":{\"color\":\"#EBF0F8\"},\"line\":{\"color\":\"white\"}},\"header\":{\"fill\":{\"color\":\"#C8D4E3\"},\"line\":{\"color\":\"white\"}},\"type\":\"table\"}],\"barpolar\":[{\"marker\":{\"line\":{\"color\":\"#E5ECF6\",\"width\":0.5},\"pattern\":{\"fillmode\":\"overlay\",\"size\":10,\"solidity\":0.2}},\"type\":\"barpolar\"}],\"pie\":[{\"automargin\":true,\"type\":\"pie\"}]},\"layout\":{\"autotypenumbers\":\"strict\",\"colorway\":[\"#636efa\",\"#EF553B\",\"#00cc96\",\"#ab63fa\",\"#FFA15A\",\"#19d3f3\",\"#FF6692\",\"#B6E880\",\"#FF97FF\",\"#FECB52\"],\"font\":{\"color\":\"#2a3f5f\"},\"hovermode\":\"closest\",\"hoverlabel\":{\"align\":\"left\"},\"paper_bgcolor\":\"white\",\"plot_bgcolor\":\"#E5ECF6\",\"polar\":{\"bgcolor\":\"#E5ECF6\",\"angularaxis\":{\"gridcolor\":\"white\",\"linecolor\":\"white\",\"ticks\":\"\"},\"radialaxis\":{\"gridcolor\":\"white\",\"linecolor\":\"white\",\"ticks\":\"\"}},\"ternary\":{\"bgcolor\":\"#E5ECF6\",\"aaxis\":{\"gridcolor\":\"white\",\"linecolor\":\"white\",\"ticks\":\"\"},\"baxis\":{\"gridcolor\":\"white\",\"linecolor\":\"white\",\"ticks\":\"\"},\"caxis\":{\"gridcolor\":\"white\",\"linecolor\":\"white\",\"ticks\":\"\"}},\"coloraxis\":{\"colorbar\":{\"outlinewidth\":0,\"ticks\":\"\"}},\"colorscale\":{\"sequential\":[[0.0,\"#0d0887\"],[0.1111111111111111,\"#46039f\"],[0.2222222222222222,\"#7201a8\"],[0.3333333333333333,\"#9c179e\"],[0.4444444444444444,\"#bd3786\"],[0.5555555555555556,\"#d8576b\"],[0.6666666666666666,\"#ed7953\"],[0.7777777777777778,\"#fb9f3a\"],[0.8888888888888888,\"#fdca26\"],[1.0,\"#f0f921\"]],\"sequentialminus\":[[0.0,\"#0d0887\"],[0.1111111111111111,\"#46039f\"],[0.2222222222222222,\"#7201a8\"],[0.3333333333333333,\"#9c179e\"],[0.4444444444444444,\"#bd3786\"],[0.5555555555555556,\"#d8576b\"],[0.6666666666666666,\"#ed7953\"],[0.7777777777777778,\"#fb9f3a\"],[0.8888888888888888,\"#fdca26\"],[1.0,\"#f0f921\"]],\"diverging\":[[0,\"#8e0152\"],[0.1,\"#c51b7d\"],[0.2,\"#de77ae\"],[0.3,\"#f1b6da\"],[0.4,\"#fde0ef\"],[0.5,\"#f7f7f7\"],[0.6,\"#e6f5d0\"],[0.7,\"#b8e186\"],[0.8,\"#7fbc41\"],[0.9,\"#4d9221\"],[1,\"#276419\"]]},\"xaxis\":{\"gridcolor\":\"white\",\"linecolor\":\"white\",\"ticks\":\"\",\"title\":{\"standoff\":15},\"zerolinecolor\":\"white\",\"automargin\":true,\"zerolinewidth\":2},\"yaxis\":{\"gridcolor\":\"white\",\"linecolor\":\"white\",\"ticks\":\"\",\"title\":{\"standoff\":15},\"zerolinecolor\":\"white\",\"automargin\":true,\"zerolinewidth\":2},\"scene\":{\"xaxis\":{\"backgroundcolor\":\"#E5ECF6\",\"gridcolor\":\"white\",\"linecolor\":\"white\",\"showbackground\":true,\"ticks\":\"\",\"zerolinecolor\":\"white\",\"gridwidth\":2},\"yaxis\":{\"backgroundcolor\":\"#E5ECF6\",\"gridcolor\":\"white\",\"linecolor\":\"white\",\"showbackground\":true,\"ticks\":\"\",\"zerolinecolor\":\"white\",\"gridwidth\":2},\"zaxis\":{\"backgroundcolor\":\"#E5ECF6\",\"gridcolor\":\"white\",\"linecolor\":\"white\",\"showbackground\":true,\"ticks\":\"\",\"zerolinecolor\":\"white\",\"gridwidth\":2}},\"shapedefaults\":{\"line\":{\"color\":\"#2a3f5f\"}},\"annotationdefaults\":{\"arrowcolor\":\"#2a3f5f\",\"arrowhead\":0,\"arrowwidth\":1},\"geo\":{\"bgcolor\":\"white\",\"landcolor\":\"#E5ECF6\",\"subunitcolor\":\"white\",\"showland\":true,\"showlakes\":true,\"lakecolor\":\"white\"},\"title\":{\"x\":0.05},\"mapbox\":{\"style\":\"light\"}}},\"xaxis\":{\"anchor\":\"y\",\"domain\":[0.0,1.0],\"title\":{\"text\":\"PAID\"}},\"yaxis\":{\"anchor\":\"x\",\"domain\":[0.0,1.0],\"title\":{\"text\":\"count\"}},\"legend\":{\"tracegroupgap\":0},\"margin\":{\"t\":60},\"barmode\":\"relative\"},                        {\"responsive\": true}                    ).then(function(){\n",
       "                            \n",
       "var gd = document.getElementById('958c521d-31bf-480c-8e89-9bd40ad0a03c');\n",
       "var x = new MutationObserver(function (mutations, observer) {{\n",
       "        var display = window.getComputedStyle(gd).display;\n",
       "        if (!display || display === 'none') {{\n",
       "            console.log([gd, 'removed!']);\n",
       "            Plotly.purge(gd);\n",
       "            observer.disconnect();\n",
       "        }}\n",
       "}});\n",
       "\n",
       "// Listen for the removal of the full notebook cells\n",
       "var notebookContainer = gd.closest('#notebook-container');\n",
       "if (notebookContainer) {{\n",
       "    x.observe(notebookContainer, {childList: true});\n",
       "}}\n",
       "\n",
       "// Listen for the clearing of the current output cell\n",
       "var outputEl = gd.closest('.output');\n",
       "if (outputEl) {{\n",
       "    x.observe(outputEl, {childList: true});\n",
       "}}\n",
       "\n",
       "                        })                };                });            </script>        </div>"
      ]
     },
     "metadata": {},
     "output_type": "display_data"
    }
   ],
   "source": [
    "fig = px.histogram(autoclaims_csv_asdf, x='PAID', nbins=20)\n",
    "fig.show()"
   ]
  },
  {
   "cell_type": "code",
   "execution_count": 177,
   "id": "3e6b03e9",
   "metadata": {},
   "outputs": [
    {
     "data": {
      "application/vnd.plotly.v1+json": {
       "config": {
        "plotlyServerURL": "https://plot.ly"
       },
       "data": [
        {
         "alignmentgroup": "True",
         "hovertemplate": "PAID=%{x}<extra></extra>",
         "legendgroup": "",
         "marker": {
          "color": "#636efa"
         },
         "name": "",
         "notched": false,
         "offsetgroup": "",
         "orientation": "h",
         "showlegend": false,
         "type": "box",
         "x": [
          2384.67,
          650,
          654,
          3890.07,
          295.99,
          11756.34,
          2402,
          296.97,
          249.1,
          14833.3,
          3025,
          2750,
          2612.74,
          1259.89,
          824.85,
          669.5,
          664.34,
          408.39,
          3953.84,
          3841.66,
          239.37,
          30,
          6384,
          4467.92,
          1541.1,
          1354.93,
          1263.51,
          1045,
          519.75,
          499.28,
          365.26,
          322.34,
          122.41,
          10524.64,
          6854.02,
          3206.76,
          2724.04,
          2269,
          2169.88,
          1929.81,
          1061.8,
          945.8,
          899.13,
          7326.67,
          5301.72,
          3596.5,
          2322.72,
          1944.45,
          1491.69,
          1314.4,
          836.78,
          479,
          426.19,
          3112.89,
          2500,
          1921.22,
          1472.87,
          1444.89,
          1368.76,
          1346.36,
          772.23,
          688.67,
          362.63,
          359.41,
          354.29,
          262.81,
          244.11,
          9377.82,
          5540.07,
          3118.5,
          2495.8,
          2362.89,
          2007.78,
          1816.41,
          1500,
          1139.6,
          952.05,
          746.89,
          644.87,
          188.61,
          117.4,
          12714.43,
          10116.07,
          1949.14,
          1852.5,
          1722.82,
          1539.07,
          1476.43,
          1458.13,
          1119.52,
          990.07,
          987,
          782.44,
          459,
          377.36,
          319.67,
          176.07,
          154.75,
          8493.76,
          3809.83,
          3222.66,
          1113.38,
          766.4,
          663.17,
          640.4,
          619.06,
          419.18,
          298.62,
          160.2,
          105.5,
          8323.31,
          6291.84,
          4904.64,
          4096.58,
          3334.65,
          1755.95,
          1160.63,
          1098.37,
          818.79,
          651.57,
          646.79,
          584.61,
          417.04,
          399.9,
          371.63,
          365.5,
          275.43,
          146.56,
          14651.31,
          6754.81,
          5071.99,
          4809.52,
          2884.46,
          2591.33,
          2419.75,
          1321.7,
          1308,
          981.86,
          843.98,
          817.62,
          712,
          634.48,
          463.96,
          462.93,
          430.38,
          388.71,
          112.78,
          85,
          12151.86,
          5186.82,
          4451.39,
          3968.51,
          3392.58,
          1879.51,
          1792.54,
          1607.6,
          1238,
          1130,
          1081.71,
          1033.84,
          671.59,
          361.37,
          171.7,
          40,
          3203.35,
          3060.69,
          2171.93,
          1727.85,
          1550,
          1470.35,
          1229.01,
          1010.94,
          575.36,
          555.34,
          533.11,
          459.1,
          253.75,
          148.65,
          4184.46,
          4082.49,
          1846.1,
          1688.78,
          1118.91,
          749.64,
          725.71,
          722.02,
          648.06,
          593.46,
          516.81,
          302.54,
          300,
          278.55,
          248.68,
          131,
          28.46,
          13058.85,
          6950.54,
          2930,
          2112.46,
          2100,
          1500,
          1386.41,
          1270.17,
          1203.81,
          993.59,
          903,
          900,
          583.76,
          580.32,
          376.46,
          275.94,
          91.27,
          6013.74,
          4804.22,
          3179.28,
          2893.53,
          1916.21,
          1209.08,
          1036.74,
          986.12,
          893.03,
          754.31,
          740.38,
          694.91,
          693.13,
          564.05,
          551.78,
          549.77,
          497.85,
          403.3,
          358.7,
          284.54,
          228,
          177.6,
          177.42,
          139.79,
          33137.5,
          7293.43,
          3754.51,
          3495.14,
          3140.66,
          2137.4,
          1971.75,
          1956,
          1870.58,
          1650,
          1188.74,
          1115.89,
          1088.73,
          1074.35,
          1016.43,
          860.67,
          831.8,
          796.8,
          759.57,
          668.74,
          582.62,
          404,
          393.5,
          309.67,
          292.44,
          221.7,
          103.75,
          11511.72,
          6090.02,
          1727.33,
          1235.07,
          910.01,
          812.98,
          562.05,
          527.34,
          451.31,
          332.06,
          315.53,
          10527.4,
          7751.55,
          5711.53,
          3804.44,
          3760.07,
          2757.83,
          2565.84,
          2221.87,
          2139.9,
          2000,
          1363.23,
          1132.41,
          993.19,
          964.22,
          898.55,
          822.1,
          761.22,
          754.56,
          685.71,
          622.53,
          604.95,
          587.51,
          490.25,
          489.73,
          465.5,
          329.91,
          272.01,
          258.5,
          4643.8,
          3523.9,
          3007.96,
          2192.98,
          1752.16,
          1686.2,
          1648.41,
          1381.16,
          1336.26,
          1248.01,
          950.61,
          945.56,
          880.82,
          713.55,
          645.8,
          626.38,
          573.4,
          488.16,
          458,
          443.95,
          253.59,
          209.83,
          138.86,
          100,
          30,
          24624.44,
          8123.33,
          5158.65,
          5035.93,
          4625.47,
          1707.92,
          1694.59,
          1501.05,
          1369.74,
          946.38,
          825.66,
          682.85,
          604.95,
          585.34,
          565.02,
          529.28,
          388.03,
          377.54,
          303,
          300,
          198.98,
          135,
          47.52,
          11458.07,
          8300.31,
          7827.74,
          6261.92,
          5861.5,
          5381.14,
          4532.02,
          3656.77,
          2928.92,
          2547.5,
          2276.5,
          2017.28,
          1678.17,
          1651.86,
          1482.45,
          1480.93,
          1348.93,
          1189.96,
          1090.41,
          940.28,
          925.47,
          852.22,
          417.18,
          369.02,
          346.79,
          244.23,
          132,
          100,
          14753.58,
          11288.76,
          10175.27,
          6277.84,
          4939.5,
          4786.51,
          3167.49,
          2572.22,
          1712.27,
          1712.13,
          1396.61,
          1377.31,
          1108.42,
          1001.76,
          989.59,
          891.09,
          882.77,
          670.77,
          638.99,
          546.32,
          536.11,
          533.33,
          464.59,
          460.36,
          291.92,
          257.01,
          106,
          7487.94,
          7296.2,
          4929.65,
          2532.6,
          2344.69,
          1855.85,
          1812.47,
          1431.81,
          1226.28,
          1122.12,
          1090.75,
          1067.57,
          1012.19,
          928.2,
          861.89,
          809.34,
          782.9,
          768.05,
          698.65,
          630.11,
          617.9,
          594.8,
          585.74,
          390.02,
          291.28,
          236.53,
          10077,
          8569.3,
          6124.34,
          5335.35,
          3486.96,
          3255.88,
          2985.29,
          2418.4,
          2368.69,
          2007.64,
          1996,
          1869.49,
          1600.18,
          1278.52,
          1212.85,
          1039.69,
          834.12,
          805.18,
          676.15,
          651.18,
          586.85,
          315.61,
          311.32,
          25.44,
          9793.42,
          7620.37,
          6800.94,
          4781.43,
          3944.37,
          2406,
          1613.41,
          1340.74,
          1249.02,
          1086.9,
          941.85,
          909.99,
          903.99,
          875.28,
          738.18,
          492.22,
          468,
          443.49,
          439.22,
          359.11,
          8215.8,
          6208.2,
          5241.71,
          3912.49,
          3230.09,
          2600,
          2531.24,
          2038.05,
          1890.5,
          1704.54,
          1145.63,
          959.52,
          763.07,
          746.63,
          700,
          554.55,
          545.3,
          490.6,
          273.29,
          189.9,
          10652.59,
          5556.75,
          3403.09,
          3328.93,
          2805.73
         ],
         "x0": " ",
         "xaxis": "x",
         "y0": " ",
         "yaxis": "y"
        }
       ],
       "layout": {
        "boxmode": "group",
        "legend": {
         "tracegroupgap": 0
        },
        "margin": {
         "t": 60
        },
        "template": {
         "data": {
          "bar": [
           {
            "error_x": {
             "color": "#2a3f5f"
            },
            "error_y": {
             "color": "#2a3f5f"
            },
            "marker": {
             "line": {
              "color": "#E5ECF6",
              "width": 0.5
             },
             "pattern": {
              "fillmode": "overlay",
              "size": 10,
              "solidity": 0.2
             }
            },
            "type": "bar"
           }
          ],
          "barpolar": [
           {
            "marker": {
             "line": {
              "color": "#E5ECF6",
              "width": 0.5
             },
             "pattern": {
              "fillmode": "overlay",
              "size": 10,
              "solidity": 0.2
             }
            },
            "type": "barpolar"
           }
          ],
          "carpet": [
           {
            "aaxis": {
             "endlinecolor": "#2a3f5f",
             "gridcolor": "white",
             "linecolor": "white",
             "minorgridcolor": "white",
             "startlinecolor": "#2a3f5f"
            },
            "baxis": {
             "endlinecolor": "#2a3f5f",
             "gridcolor": "white",
             "linecolor": "white",
             "minorgridcolor": "white",
             "startlinecolor": "#2a3f5f"
            },
            "type": "carpet"
           }
          ],
          "choropleth": [
           {
            "colorbar": {
             "outlinewidth": 0,
             "ticks": ""
            },
            "type": "choropleth"
           }
          ],
          "contour": [
           {
            "colorbar": {
             "outlinewidth": 0,
             "ticks": ""
            },
            "colorscale": [
             [
              0,
              "#0d0887"
             ],
             [
              0.1111111111111111,
              "#46039f"
             ],
             [
              0.2222222222222222,
              "#7201a8"
             ],
             [
              0.3333333333333333,
              "#9c179e"
             ],
             [
              0.4444444444444444,
              "#bd3786"
             ],
             [
              0.5555555555555556,
              "#d8576b"
             ],
             [
              0.6666666666666666,
              "#ed7953"
             ],
             [
              0.7777777777777778,
              "#fb9f3a"
             ],
             [
              0.8888888888888888,
              "#fdca26"
             ],
             [
              1,
              "#f0f921"
             ]
            ],
            "type": "contour"
           }
          ],
          "contourcarpet": [
           {
            "colorbar": {
             "outlinewidth": 0,
             "ticks": ""
            },
            "type": "contourcarpet"
           }
          ],
          "heatmap": [
           {
            "colorbar": {
             "outlinewidth": 0,
             "ticks": ""
            },
            "colorscale": [
             [
              0,
              "#0d0887"
             ],
             [
              0.1111111111111111,
              "#46039f"
             ],
             [
              0.2222222222222222,
              "#7201a8"
             ],
             [
              0.3333333333333333,
              "#9c179e"
             ],
             [
              0.4444444444444444,
              "#bd3786"
             ],
             [
              0.5555555555555556,
              "#d8576b"
             ],
             [
              0.6666666666666666,
              "#ed7953"
             ],
             [
              0.7777777777777778,
              "#fb9f3a"
             ],
             [
              0.8888888888888888,
              "#fdca26"
             ],
             [
              1,
              "#f0f921"
             ]
            ],
            "type": "heatmap"
           }
          ],
          "heatmapgl": [
           {
            "colorbar": {
             "outlinewidth": 0,
             "ticks": ""
            },
            "colorscale": [
             [
              0,
              "#0d0887"
             ],
             [
              0.1111111111111111,
              "#46039f"
             ],
             [
              0.2222222222222222,
              "#7201a8"
             ],
             [
              0.3333333333333333,
              "#9c179e"
             ],
             [
              0.4444444444444444,
              "#bd3786"
             ],
             [
              0.5555555555555556,
              "#d8576b"
             ],
             [
              0.6666666666666666,
              "#ed7953"
             ],
             [
              0.7777777777777778,
              "#fb9f3a"
             ],
             [
              0.8888888888888888,
              "#fdca26"
             ],
             [
              1,
              "#f0f921"
             ]
            ],
            "type": "heatmapgl"
           }
          ],
          "histogram": [
           {
            "marker": {
             "pattern": {
              "fillmode": "overlay",
              "size": 10,
              "solidity": 0.2
             }
            },
            "type": "histogram"
           }
          ],
          "histogram2d": [
           {
            "colorbar": {
             "outlinewidth": 0,
             "ticks": ""
            },
            "colorscale": [
             [
              0,
              "#0d0887"
             ],
             [
              0.1111111111111111,
              "#46039f"
             ],
             [
              0.2222222222222222,
              "#7201a8"
             ],
             [
              0.3333333333333333,
              "#9c179e"
             ],
             [
              0.4444444444444444,
              "#bd3786"
             ],
             [
              0.5555555555555556,
              "#d8576b"
             ],
             [
              0.6666666666666666,
              "#ed7953"
             ],
             [
              0.7777777777777778,
              "#fb9f3a"
             ],
             [
              0.8888888888888888,
              "#fdca26"
             ],
             [
              1,
              "#f0f921"
             ]
            ],
            "type": "histogram2d"
           }
          ],
          "histogram2dcontour": [
           {
            "colorbar": {
             "outlinewidth": 0,
             "ticks": ""
            },
            "colorscale": [
             [
              0,
              "#0d0887"
             ],
             [
              0.1111111111111111,
              "#46039f"
             ],
             [
              0.2222222222222222,
              "#7201a8"
             ],
             [
              0.3333333333333333,
              "#9c179e"
             ],
             [
              0.4444444444444444,
              "#bd3786"
             ],
             [
              0.5555555555555556,
              "#d8576b"
             ],
             [
              0.6666666666666666,
              "#ed7953"
             ],
             [
              0.7777777777777778,
              "#fb9f3a"
             ],
             [
              0.8888888888888888,
              "#fdca26"
             ],
             [
              1,
              "#f0f921"
             ]
            ],
            "type": "histogram2dcontour"
           }
          ],
          "mesh3d": [
           {
            "colorbar": {
             "outlinewidth": 0,
             "ticks": ""
            },
            "type": "mesh3d"
           }
          ],
          "parcoords": [
           {
            "line": {
             "colorbar": {
              "outlinewidth": 0,
              "ticks": ""
             }
            },
            "type": "parcoords"
           }
          ],
          "pie": [
           {
            "automargin": true,
            "type": "pie"
           }
          ],
          "scatter": [
           {
            "fillpattern": {
             "fillmode": "overlay",
             "size": 10,
             "solidity": 0.2
            },
            "type": "scatter"
           }
          ],
          "scatter3d": [
           {
            "line": {
             "colorbar": {
              "outlinewidth": 0,
              "ticks": ""
             }
            },
            "marker": {
             "colorbar": {
              "outlinewidth": 0,
              "ticks": ""
             }
            },
            "type": "scatter3d"
           }
          ],
          "scattercarpet": [
           {
            "marker": {
             "colorbar": {
              "outlinewidth": 0,
              "ticks": ""
             }
            },
            "type": "scattercarpet"
           }
          ],
          "scattergeo": [
           {
            "marker": {
             "colorbar": {
              "outlinewidth": 0,
              "ticks": ""
             }
            },
            "type": "scattergeo"
           }
          ],
          "scattergl": [
           {
            "marker": {
             "colorbar": {
              "outlinewidth": 0,
              "ticks": ""
             }
            },
            "type": "scattergl"
           }
          ],
          "scattermapbox": [
           {
            "marker": {
             "colorbar": {
              "outlinewidth": 0,
              "ticks": ""
             }
            },
            "type": "scattermapbox"
           }
          ],
          "scatterpolar": [
           {
            "marker": {
             "colorbar": {
              "outlinewidth": 0,
              "ticks": ""
             }
            },
            "type": "scatterpolar"
           }
          ],
          "scatterpolargl": [
           {
            "marker": {
             "colorbar": {
              "outlinewidth": 0,
              "ticks": ""
             }
            },
            "type": "scatterpolargl"
           }
          ],
          "scatterternary": [
           {
            "marker": {
             "colorbar": {
              "outlinewidth": 0,
              "ticks": ""
             }
            },
            "type": "scatterternary"
           }
          ],
          "surface": [
           {
            "colorbar": {
             "outlinewidth": 0,
             "ticks": ""
            },
            "colorscale": [
             [
              0,
              "#0d0887"
             ],
             [
              0.1111111111111111,
              "#46039f"
             ],
             [
              0.2222222222222222,
              "#7201a8"
             ],
             [
              0.3333333333333333,
              "#9c179e"
             ],
             [
              0.4444444444444444,
              "#bd3786"
             ],
             [
              0.5555555555555556,
              "#d8576b"
             ],
             [
              0.6666666666666666,
              "#ed7953"
             ],
             [
              0.7777777777777778,
              "#fb9f3a"
             ],
             [
              0.8888888888888888,
              "#fdca26"
             ],
             [
              1,
              "#f0f921"
             ]
            ],
            "type": "surface"
           }
          ],
          "table": [
           {
            "cells": {
             "fill": {
              "color": "#EBF0F8"
             },
             "line": {
              "color": "white"
             }
            },
            "header": {
             "fill": {
              "color": "#C8D4E3"
             },
             "line": {
              "color": "white"
             }
            },
            "type": "table"
           }
          ]
         },
         "layout": {
          "annotationdefaults": {
           "arrowcolor": "#2a3f5f",
           "arrowhead": 0,
           "arrowwidth": 1
          },
          "autotypenumbers": "strict",
          "coloraxis": {
           "colorbar": {
            "outlinewidth": 0,
            "ticks": ""
           }
          },
          "colorscale": {
           "diverging": [
            [
             0,
             "#8e0152"
            ],
            [
             0.1,
             "#c51b7d"
            ],
            [
             0.2,
             "#de77ae"
            ],
            [
             0.3,
             "#f1b6da"
            ],
            [
             0.4,
             "#fde0ef"
            ],
            [
             0.5,
             "#f7f7f7"
            ],
            [
             0.6,
             "#e6f5d0"
            ],
            [
             0.7,
             "#b8e186"
            ],
            [
             0.8,
             "#7fbc41"
            ],
            [
             0.9,
             "#4d9221"
            ],
            [
             1,
             "#276419"
            ]
           ],
           "sequential": [
            [
             0,
             "#0d0887"
            ],
            [
             0.1111111111111111,
             "#46039f"
            ],
            [
             0.2222222222222222,
             "#7201a8"
            ],
            [
             0.3333333333333333,
             "#9c179e"
            ],
            [
             0.4444444444444444,
             "#bd3786"
            ],
            [
             0.5555555555555556,
             "#d8576b"
            ],
            [
             0.6666666666666666,
             "#ed7953"
            ],
            [
             0.7777777777777778,
             "#fb9f3a"
            ],
            [
             0.8888888888888888,
             "#fdca26"
            ],
            [
             1,
             "#f0f921"
            ]
           ],
           "sequentialminus": [
            [
             0,
             "#0d0887"
            ],
            [
             0.1111111111111111,
             "#46039f"
            ],
            [
             0.2222222222222222,
             "#7201a8"
            ],
            [
             0.3333333333333333,
             "#9c179e"
            ],
            [
             0.4444444444444444,
             "#bd3786"
            ],
            [
             0.5555555555555556,
             "#d8576b"
            ],
            [
             0.6666666666666666,
             "#ed7953"
            ],
            [
             0.7777777777777778,
             "#fb9f3a"
            ],
            [
             0.8888888888888888,
             "#fdca26"
            ],
            [
             1,
             "#f0f921"
            ]
           ]
          },
          "colorway": [
           "#636efa",
           "#EF553B",
           "#00cc96",
           "#ab63fa",
           "#FFA15A",
           "#19d3f3",
           "#FF6692",
           "#B6E880",
           "#FF97FF",
           "#FECB52"
          ],
          "font": {
           "color": "#2a3f5f"
          },
          "geo": {
           "bgcolor": "white",
           "lakecolor": "white",
           "landcolor": "#E5ECF6",
           "showlakes": true,
           "showland": true,
           "subunitcolor": "white"
          },
          "hoverlabel": {
           "align": "left"
          },
          "hovermode": "closest",
          "mapbox": {
           "style": "light"
          },
          "paper_bgcolor": "white",
          "plot_bgcolor": "#E5ECF6",
          "polar": {
           "angularaxis": {
            "gridcolor": "white",
            "linecolor": "white",
            "ticks": ""
           },
           "bgcolor": "#E5ECF6",
           "radialaxis": {
            "gridcolor": "white",
            "linecolor": "white",
            "ticks": ""
           }
          },
          "scene": {
           "xaxis": {
            "backgroundcolor": "#E5ECF6",
            "gridcolor": "white",
            "gridwidth": 2,
            "linecolor": "white",
            "showbackground": true,
            "ticks": "",
            "zerolinecolor": "white"
           },
           "yaxis": {
            "backgroundcolor": "#E5ECF6",
            "gridcolor": "white",
            "gridwidth": 2,
            "linecolor": "white",
            "showbackground": true,
            "ticks": "",
            "zerolinecolor": "white"
           },
           "zaxis": {
            "backgroundcolor": "#E5ECF6",
            "gridcolor": "white",
            "gridwidth": 2,
            "linecolor": "white",
            "showbackground": true,
            "ticks": "",
            "zerolinecolor": "white"
           }
          },
          "shapedefaults": {
           "line": {
            "color": "#2a3f5f"
           }
          },
          "ternary": {
           "aaxis": {
            "gridcolor": "white",
            "linecolor": "white",
            "ticks": ""
           },
           "baxis": {
            "gridcolor": "white",
            "linecolor": "white",
            "ticks": ""
           },
           "bgcolor": "#E5ECF6",
           "caxis": {
            "gridcolor": "white",
            "linecolor": "white",
            "ticks": ""
           }
          },
          "title": {
           "x": 0.05
          },
          "xaxis": {
           "automargin": true,
           "gridcolor": "white",
           "linecolor": "white",
           "ticks": "",
           "title": {
            "standoff": 15
           },
           "zerolinecolor": "white",
           "zerolinewidth": 2
          },
          "yaxis": {
           "automargin": true,
           "gridcolor": "white",
           "linecolor": "white",
           "ticks": "",
           "title": {
            "standoff": 15
           },
           "zerolinecolor": "white",
           "zerolinewidth": 2
          }
         }
        },
        "xaxis": {
         "anchor": "y",
         "domain": [
          0,
          1
         ],
         "title": {
          "text": "PAID"
         }
        },
        "yaxis": {
         "anchor": "x",
         "domain": [
          0,
          1
         ]
        }
       }
      },
      "text/html": [
       "<div>                            <div id=\"69ce53bf-b3af-46e2-b079-6ca2eff358f0\" class=\"plotly-graph-div\" style=\"height:525px; width:100%;\"></div>            <script type=\"text/javascript\">                require([\"plotly\"], function(Plotly) {                    window.PLOTLYENV=window.PLOTLYENV || {};                                    if (document.getElementById(\"69ce53bf-b3af-46e2-b079-6ca2eff358f0\")) {                    Plotly.newPlot(                        \"69ce53bf-b3af-46e2-b079-6ca2eff358f0\",                        [{\"alignmentgroup\":\"True\",\"hovertemplate\":\"PAID=%{x}\\u003cextra\\u003e\\u003c\\u002fextra\\u003e\",\"legendgroup\":\"\",\"marker\":{\"color\":\"#636efa\"},\"name\":\"\",\"notched\":false,\"offsetgroup\":\"\",\"orientation\":\"h\",\"showlegend\":false,\"x\":[2384.67,650.0,654.0,3890.07,295.99,11756.34,2402.0,296.97,249.1,14833.3,3025.0,2750.0,2612.74,1259.89,824.85,669.5,664.34,408.39,3953.84,3841.66,239.37,30.0,6384.0,4467.92,1541.1,1354.93,1263.51,1045.0,519.75,499.28,365.26,322.34,122.41,10524.64,6854.02,3206.76,2724.04,2269.0,2169.88,1929.81,1061.8,945.8,899.13,7326.67,5301.72,3596.5,2322.72,1944.45,1491.69,1314.4,836.78,479.0,426.19,3112.89,2500.0,1921.22,1472.87,1444.89,1368.76,1346.36,772.23,688.67,362.63,359.41,354.29,262.81,244.11,9377.82,5540.07,3118.5,2495.8,2362.89,2007.78,1816.41,1500.0,1139.6,952.05,746.89,644.87,188.61,117.4,12714.43,10116.07,1949.14,1852.5,1722.82,1539.07,1476.43,1458.13,1119.52,990.07,987.0,782.44,459.0,377.36,319.67,176.07,154.75,8493.76,3809.83,3222.66,1113.38,766.4,663.17,640.4,619.06,419.18,298.62,160.2,105.5,8323.31,6291.84,4904.64,4096.58,3334.65,1755.95,1160.63,1098.37,818.79,651.57,646.79,584.61,417.04,399.9,371.63,365.5,275.43,146.56,14651.31,6754.81,5071.99,4809.52,2884.46,2591.33,2419.75,1321.7,1308.0,981.86,843.98,817.62,712.0,634.48,463.96,462.93,430.38,388.71,112.78,85.0,12151.86,5186.82,4451.39,3968.51,3392.58,1879.51,1792.54,1607.6,1238.0,1130.0,1081.71,1033.84,671.59,361.37,171.7,40.0,3203.35,3060.69,2171.93,1727.85,1550.0,1470.35,1229.01,1010.94,575.36,555.34,533.11,459.1,253.75,148.65,4184.46,4082.49,1846.1,1688.78,1118.91,749.64,725.71,722.02,648.06,593.46,516.81,302.54,300.0,278.55,248.68,131.0,28.46,13058.85,6950.54,2930.0,2112.46,2100.0,1500.0,1386.41,1270.17,1203.81,993.59,903.0,900.0,583.76,580.32,376.46,275.94,91.27,6013.74,4804.22,3179.28,2893.53,1916.21,1209.08,1036.74,986.12,893.03,754.31,740.38,694.91,693.13,564.05,551.78,549.77,497.85,403.3,358.7,284.54,228.0,177.6,177.42,139.79,33137.5,7293.43,3754.51,3495.14,3140.66,2137.4,1971.75,1956.0,1870.58,1650.0,1188.74,1115.89,1088.73,1074.35,1016.43,860.67,831.8,796.8,759.57,668.74,582.62,404.0,393.5,309.67,292.44,221.7,103.75,11511.72,6090.02,1727.33,1235.07,910.01,812.98,562.05,527.34,451.31,332.06,315.53,10527.4,7751.55,5711.53,3804.44,3760.07,2757.83,2565.84,2221.87,2139.9,2000.0,1363.23,1132.41,993.19,964.22,898.55,822.1,761.22,754.56,685.71,622.53,604.95,587.51,490.25,489.73,465.5,329.91,272.01,258.5,4643.8,3523.9,3007.96,2192.98,1752.16,1686.2,1648.41,1381.16,1336.26,1248.01,950.61,945.56,880.82,713.55,645.8,626.38,573.4,488.16,458.0,443.95,253.59,209.83,138.86,100.0,30.0,24624.44,8123.33,5158.65,5035.93,4625.47,1707.92,1694.59,1501.05,1369.74,946.38,825.66,682.85,604.95,585.34,565.02,529.28,388.03,377.54,303.0,300.0,198.98,135.0,47.52,11458.07,8300.31,7827.74,6261.92,5861.5,5381.14,4532.02,3656.77,2928.92,2547.5,2276.5,2017.28,1678.17,1651.86,1482.45,1480.93,1348.93,1189.96,1090.41,940.28,925.47,852.22,417.18,369.02,346.79,244.23,132.0,100.0,14753.58,11288.76,10175.27,6277.84,4939.5,4786.51,3167.49,2572.22,1712.27,1712.13,1396.61,1377.31,1108.42,1001.76,989.59,891.09,882.77,670.77,638.99,546.32,536.11,533.33,464.59,460.36,291.92,257.01,106.0,7487.94,7296.2,4929.65,2532.6,2344.69,1855.85,1812.47,1431.81,1226.28,1122.12,1090.75,1067.57,1012.19,928.2,861.89,809.34,782.9,768.05,698.65,630.11,617.9,594.8,585.74,390.02,291.28,236.53,10077.0,8569.3,6124.34,5335.35,3486.96,3255.88,2985.29,2418.4,2368.69,2007.64,1996.0,1869.49,1600.18,1278.52,1212.85,1039.69,834.12,805.18,676.15,651.18,586.85,315.61,311.32,25.44,9793.42,7620.37,6800.94,4781.43,3944.37,2406.0,1613.41,1340.74,1249.02,1086.9,941.85,909.99,903.99,875.28,738.18,492.22,468.0,443.49,439.22,359.11,8215.8,6208.2,5241.71,3912.49,3230.09,2600.0,2531.24,2038.05,1890.5,1704.54,1145.63,959.52,763.07,746.63,700.0,554.55,545.3,490.6,273.29,189.9,10652.59,5556.75,3403.09,3328.93,2805.73],\"x0\":\" \",\"xaxis\":\"x\",\"y0\":\" \",\"yaxis\":\"y\",\"type\":\"box\"}],                        {\"template\":{\"data\":{\"histogram2dcontour\":[{\"type\":\"histogram2dcontour\",\"colorbar\":{\"outlinewidth\":0,\"ticks\":\"\"},\"colorscale\":[[0.0,\"#0d0887\"],[0.1111111111111111,\"#46039f\"],[0.2222222222222222,\"#7201a8\"],[0.3333333333333333,\"#9c179e\"],[0.4444444444444444,\"#bd3786\"],[0.5555555555555556,\"#d8576b\"],[0.6666666666666666,\"#ed7953\"],[0.7777777777777778,\"#fb9f3a\"],[0.8888888888888888,\"#fdca26\"],[1.0,\"#f0f921\"]]}],\"choropleth\":[{\"type\":\"choropleth\",\"colorbar\":{\"outlinewidth\":0,\"ticks\":\"\"}}],\"histogram2d\":[{\"type\":\"histogram2d\",\"colorbar\":{\"outlinewidth\":0,\"ticks\":\"\"},\"colorscale\":[[0.0,\"#0d0887\"],[0.1111111111111111,\"#46039f\"],[0.2222222222222222,\"#7201a8\"],[0.3333333333333333,\"#9c179e\"],[0.4444444444444444,\"#bd3786\"],[0.5555555555555556,\"#d8576b\"],[0.6666666666666666,\"#ed7953\"],[0.7777777777777778,\"#fb9f3a\"],[0.8888888888888888,\"#fdca26\"],[1.0,\"#f0f921\"]]}],\"heatmap\":[{\"type\":\"heatmap\",\"colorbar\":{\"outlinewidth\":0,\"ticks\":\"\"},\"colorscale\":[[0.0,\"#0d0887\"],[0.1111111111111111,\"#46039f\"],[0.2222222222222222,\"#7201a8\"],[0.3333333333333333,\"#9c179e\"],[0.4444444444444444,\"#bd3786\"],[0.5555555555555556,\"#d8576b\"],[0.6666666666666666,\"#ed7953\"],[0.7777777777777778,\"#fb9f3a\"],[0.8888888888888888,\"#fdca26\"],[1.0,\"#f0f921\"]]}],\"heatmapgl\":[{\"type\":\"heatmapgl\",\"colorbar\":{\"outlinewidth\":0,\"ticks\":\"\"},\"colorscale\":[[0.0,\"#0d0887\"],[0.1111111111111111,\"#46039f\"],[0.2222222222222222,\"#7201a8\"],[0.3333333333333333,\"#9c179e\"],[0.4444444444444444,\"#bd3786\"],[0.5555555555555556,\"#d8576b\"],[0.6666666666666666,\"#ed7953\"],[0.7777777777777778,\"#fb9f3a\"],[0.8888888888888888,\"#fdca26\"],[1.0,\"#f0f921\"]]}],\"contourcarpet\":[{\"type\":\"contourcarpet\",\"colorbar\":{\"outlinewidth\":0,\"ticks\":\"\"}}],\"contour\":[{\"type\":\"contour\",\"colorbar\":{\"outlinewidth\":0,\"ticks\":\"\"},\"colorscale\":[[0.0,\"#0d0887\"],[0.1111111111111111,\"#46039f\"],[0.2222222222222222,\"#7201a8\"],[0.3333333333333333,\"#9c179e\"],[0.4444444444444444,\"#bd3786\"],[0.5555555555555556,\"#d8576b\"],[0.6666666666666666,\"#ed7953\"],[0.7777777777777778,\"#fb9f3a\"],[0.8888888888888888,\"#fdca26\"],[1.0,\"#f0f921\"]]}],\"surface\":[{\"type\":\"surface\",\"colorbar\":{\"outlinewidth\":0,\"ticks\":\"\"},\"colorscale\":[[0.0,\"#0d0887\"],[0.1111111111111111,\"#46039f\"],[0.2222222222222222,\"#7201a8\"],[0.3333333333333333,\"#9c179e\"],[0.4444444444444444,\"#bd3786\"],[0.5555555555555556,\"#d8576b\"],[0.6666666666666666,\"#ed7953\"],[0.7777777777777778,\"#fb9f3a\"],[0.8888888888888888,\"#fdca26\"],[1.0,\"#f0f921\"]]}],\"mesh3d\":[{\"type\":\"mesh3d\",\"colorbar\":{\"outlinewidth\":0,\"ticks\":\"\"}}],\"scatter\":[{\"fillpattern\":{\"fillmode\":\"overlay\",\"size\":10,\"solidity\":0.2},\"type\":\"scatter\"}],\"parcoords\":[{\"type\":\"parcoords\",\"line\":{\"colorbar\":{\"outlinewidth\":0,\"ticks\":\"\"}}}],\"scatterpolargl\":[{\"type\":\"scatterpolargl\",\"marker\":{\"colorbar\":{\"outlinewidth\":0,\"ticks\":\"\"}}}],\"bar\":[{\"error_x\":{\"color\":\"#2a3f5f\"},\"error_y\":{\"color\":\"#2a3f5f\"},\"marker\":{\"line\":{\"color\":\"#E5ECF6\",\"width\":0.5},\"pattern\":{\"fillmode\":\"overlay\",\"size\":10,\"solidity\":0.2}},\"type\":\"bar\"}],\"scattergeo\":[{\"type\":\"scattergeo\",\"marker\":{\"colorbar\":{\"outlinewidth\":0,\"ticks\":\"\"}}}],\"scatterpolar\":[{\"type\":\"scatterpolar\",\"marker\":{\"colorbar\":{\"outlinewidth\":0,\"ticks\":\"\"}}}],\"histogram\":[{\"marker\":{\"pattern\":{\"fillmode\":\"overlay\",\"size\":10,\"solidity\":0.2}},\"type\":\"histogram\"}],\"scattergl\":[{\"type\":\"scattergl\",\"marker\":{\"colorbar\":{\"outlinewidth\":0,\"ticks\":\"\"}}}],\"scatter3d\":[{\"type\":\"scatter3d\",\"line\":{\"colorbar\":{\"outlinewidth\":0,\"ticks\":\"\"}},\"marker\":{\"colorbar\":{\"outlinewidth\":0,\"ticks\":\"\"}}}],\"scattermapbox\":[{\"type\":\"scattermapbox\",\"marker\":{\"colorbar\":{\"outlinewidth\":0,\"ticks\":\"\"}}}],\"scatterternary\":[{\"type\":\"scatterternary\",\"marker\":{\"colorbar\":{\"outlinewidth\":0,\"ticks\":\"\"}}}],\"scattercarpet\":[{\"type\":\"scattercarpet\",\"marker\":{\"colorbar\":{\"outlinewidth\":0,\"ticks\":\"\"}}}],\"carpet\":[{\"aaxis\":{\"endlinecolor\":\"#2a3f5f\",\"gridcolor\":\"white\",\"linecolor\":\"white\",\"minorgridcolor\":\"white\",\"startlinecolor\":\"#2a3f5f\"},\"baxis\":{\"endlinecolor\":\"#2a3f5f\",\"gridcolor\":\"white\",\"linecolor\":\"white\",\"minorgridcolor\":\"white\",\"startlinecolor\":\"#2a3f5f\"},\"type\":\"carpet\"}],\"table\":[{\"cells\":{\"fill\":{\"color\":\"#EBF0F8\"},\"line\":{\"color\":\"white\"}},\"header\":{\"fill\":{\"color\":\"#C8D4E3\"},\"line\":{\"color\":\"white\"}},\"type\":\"table\"}],\"barpolar\":[{\"marker\":{\"line\":{\"color\":\"#E5ECF6\",\"width\":0.5},\"pattern\":{\"fillmode\":\"overlay\",\"size\":10,\"solidity\":0.2}},\"type\":\"barpolar\"}],\"pie\":[{\"automargin\":true,\"type\":\"pie\"}]},\"layout\":{\"autotypenumbers\":\"strict\",\"colorway\":[\"#636efa\",\"#EF553B\",\"#00cc96\",\"#ab63fa\",\"#FFA15A\",\"#19d3f3\",\"#FF6692\",\"#B6E880\",\"#FF97FF\",\"#FECB52\"],\"font\":{\"color\":\"#2a3f5f\"},\"hovermode\":\"closest\",\"hoverlabel\":{\"align\":\"left\"},\"paper_bgcolor\":\"white\",\"plot_bgcolor\":\"#E5ECF6\",\"polar\":{\"bgcolor\":\"#E5ECF6\",\"angularaxis\":{\"gridcolor\":\"white\",\"linecolor\":\"white\",\"ticks\":\"\"},\"radialaxis\":{\"gridcolor\":\"white\",\"linecolor\":\"white\",\"ticks\":\"\"}},\"ternary\":{\"bgcolor\":\"#E5ECF6\",\"aaxis\":{\"gridcolor\":\"white\",\"linecolor\":\"white\",\"ticks\":\"\"},\"baxis\":{\"gridcolor\":\"white\",\"linecolor\":\"white\",\"ticks\":\"\"},\"caxis\":{\"gridcolor\":\"white\",\"linecolor\":\"white\",\"ticks\":\"\"}},\"coloraxis\":{\"colorbar\":{\"outlinewidth\":0,\"ticks\":\"\"}},\"colorscale\":{\"sequential\":[[0.0,\"#0d0887\"],[0.1111111111111111,\"#46039f\"],[0.2222222222222222,\"#7201a8\"],[0.3333333333333333,\"#9c179e\"],[0.4444444444444444,\"#bd3786\"],[0.5555555555555556,\"#d8576b\"],[0.6666666666666666,\"#ed7953\"],[0.7777777777777778,\"#fb9f3a\"],[0.8888888888888888,\"#fdca26\"],[1.0,\"#f0f921\"]],\"sequentialminus\":[[0.0,\"#0d0887\"],[0.1111111111111111,\"#46039f\"],[0.2222222222222222,\"#7201a8\"],[0.3333333333333333,\"#9c179e\"],[0.4444444444444444,\"#bd3786\"],[0.5555555555555556,\"#d8576b\"],[0.6666666666666666,\"#ed7953\"],[0.7777777777777778,\"#fb9f3a\"],[0.8888888888888888,\"#fdca26\"],[1.0,\"#f0f921\"]],\"diverging\":[[0,\"#8e0152\"],[0.1,\"#c51b7d\"],[0.2,\"#de77ae\"],[0.3,\"#f1b6da\"],[0.4,\"#fde0ef\"],[0.5,\"#f7f7f7\"],[0.6,\"#e6f5d0\"],[0.7,\"#b8e186\"],[0.8,\"#7fbc41\"],[0.9,\"#4d9221\"],[1,\"#276419\"]]},\"xaxis\":{\"gridcolor\":\"white\",\"linecolor\":\"white\",\"ticks\":\"\",\"title\":{\"standoff\":15},\"zerolinecolor\":\"white\",\"automargin\":true,\"zerolinewidth\":2},\"yaxis\":{\"gridcolor\":\"white\",\"linecolor\":\"white\",\"ticks\":\"\",\"title\":{\"standoff\":15},\"zerolinecolor\":\"white\",\"automargin\":true,\"zerolinewidth\":2},\"scene\":{\"xaxis\":{\"backgroundcolor\":\"#E5ECF6\",\"gridcolor\":\"white\",\"linecolor\":\"white\",\"showbackground\":true,\"ticks\":\"\",\"zerolinecolor\":\"white\",\"gridwidth\":2},\"yaxis\":{\"backgroundcolor\":\"#E5ECF6\",\"gridcolor\":\"white\",\"linecolor\":\"white\",\"showbackground\":true,\"ticks\":\"\",\"zerolinecolor\":\"white\",\"gridwidth\":2},\"zaxis\":{\"backgroundcolor\":\"#E5ECF6\",\"gridcolor\":\"white\",\"linecolor\":\"white\",\"showbackground\":true,\"ticks\":\"\",\"zerolinecolor\":\"white\",\"gridwidth\":2}},\"shapedefaults\":{\"line\":{\"color\":\"#2a3f5f\"}},\"annotationdefaults\":{\"arrowcolor\":\"#2a3f5f\",\"arrowhead\":0,\"arrowwidth\":1},\"geo\":{\"bgcolor\":\"white\",\"landcolor\":\"#E5ECF6\",\"subunitcolor\":\"white\",\"showland\":true,\"showlakes\":true,\"lakecolor\":\"white\"},\"title\":{\"x\":0.05},\"mapbox\":{\"style\":\"light\"}}},\"xaxis\":{\"anchor\":\"y\",\"domain\":[0.0,1.0],\"title\":{\"text\":\"PAID\"}},\"yaxis\":{\"anchor\":\"x\",\"domain\":[0.0,1.0]},\"legend\":{\"tracegroupgap\":0},\"margin\":{\"t\":60},\"boxmode\":\"group\"},                        {\"responsive\": true}                    ).then(function(){\n",
       "                            \n",
       "var gd = document.getElementById('69ce53bf-b3af-46e2-b079-6ca2eff358f0');\n",
       "var x = new MutationObserver(function (mutations, observer) {{\n",
       "        var display = window.getComputedStyle(gd).display;\n",
       "        if (!display || display === 'none') {{\n",
       "            console.log([gd, 'removed!']);\n",
       "            Plotly.purge(gd);\n",
       "            observer.disconnect();\n",
       "        }}\n",
       "}});\n",
       "\n",
       "// Listen for the removal of the full notebook cells\n",
       "var notebookContainer = gd.closest('#notebook-container');\n",
       "if (notebookContainer) {{\n",
       "    x.observe(notebookContainer, {childList: true});\n",
       "}}\n",
       "\n",
       "// Listen for the clearing of the current output cell\n",
       "var outputEl = gd.closest('.output');\n",
       "if (outputEl) {{\n",
       "    x.observe(outputEl, {childList: true});\n",
       "}}\n",
       "\n",
       "                        })                };                });            </script>        </div>"
      ]
     },
     "metadata": {},
     "output_type": "display_data"
    }
   ],
   "source": [
    "fig = px.box(autoclaims_csv_asdf, x='PAID')\n",
    "fig.show()"
   ]
  },
  {
   "cell_type": "markdown",
   "id": "3f811202",
   "metadata": {},
   "source": [
    "> Answer here..."
   ]
  },
  {
   "cell_type": "code",
   "execution_count": 189,
   "id": "66fdd0b1",
   "metadata": {},
   "outputs": [],
   "source": [
    "hint = \"\\n\\nAUTOMATICALLY FAILING AUTOTEST: DOES NOT COUNT AGAINST STUDENT\\n\"\n",
    "hint += \"Included as an example answer for feedback purposes only\\n\\n\"\n",
    "hint += \"The distribution is skewed right with a median at approximately 1042, and a much larger\\n\"\n",
    "hint += \"standard deviation indicating the long large spread of the right tail of the data.\\n\"\n",
    "hint += \"The mean is correspondingly about twice as large as the median; and, generally, \\n\"\n",
    "hint += \"the decaying right skew is the most definitive characteristic of this distribution,\\n\"\n",
    "hint += \"as opposed to calling it 'unimodal'. Median is probably a better characterization of\\n\"\n",
    "hint += \"'center' because the mean calculation would be less robust to large payment outliers,\\n\"\n",
    "hint += \"which become increasingly sparse from 5k to 15k and then extend out even past 30k.\"\n",
    "hint += \"\\n\\nCODE:\\n\"\n",
    "hint += '''\n",
    "fig = px.histogram(data, x=\"PAID\", nbins=20)\n",
    "fig.show()'''\n",
    "hint += '\\n\\nAND\\n'\n",
    "hint += '''\n",
    "fig = px.box(data, x=\"PAID\")\n",
    "fig.show()'''"
   ]
  },
  {
   "cell_type": "code",
   "execution_count": 188,
   "id": "d5ac5830",
   "metadata": {},
   "outputs": [
    {
     "ename": "AssertionError",
     "evalue": "\n\nAUTOMATICALLY FAILING AUTOTEST: DOES NOT COUNT AGAINST STUDENT\nIncluded as an example answer for feedback purposes only\n\nThe distribution is skewed right with a median at approximately 1042, and a much larger\nstandard deviation indicating the long large spread of the right tail of the data.\nThe mean is correspondingly about twice as large as the median; and, generally, \nthe decaying right skew is the most definitive characteristic of this distribution,\nas opposed to calling it 'unimodel'.\n\nCODE:\n\nfig = px.histogram(d, x=\"PAID\", nbins=20)\nfig.show()\n\nAND\n\nfig = px.box(d, x=\"PAID\")\nfig.show()",
     "output_type": "error",
     "traceback": [
      "\u001b[0;31m---------------------------------------------------------------------------\u001b[0m",
      "\u001b[0;31mAssertionError\u001b[0m                            Traceback (most recent call last)",
      "Cell \u001b[0;32mIn[188], line 2\u001b[0m\n\u001b[1;32m      1\u001b[0m \u001b[38;5;66;03m# test_Q8\u001b[39;00m\n\u001b[0;32m----> 2\u001b[0m \u001b[38;5;28;01massert\u001b[39;00m \u001b[38;5;28;01mFalse\u001b[39;00m, hint\n",
      "\u001b[0;31mAssertionError\u001b[0m: \n\nAUTOMATICALLY FAILING AUTOTEST: DOES NOT COUNT AGAINST STUDENT\nIncluded as an example answer for feedback purposes only\n\nThe distribution is skewed right with a median at approximately 1042, and a much larger\nstandard deviation indicating the long large spread of the right tail of the data.\nThe mean is correspondingly about twice as large as the median; and, generally, \nthe decaying right skew is the most definitive characteristic of this distribution,\nas opposed to calling it 'unimodel'.\n\nCODE:\n\nfig = px.histogram(d, x=\"PAID\", nbins=20)\nfig.show()\n\nAND\n\nfig = px.box(d, x=\"PAID\")\nfig.show()"
     ]
    }
   ],
   "source": [
    "# test_Q8\n",
    "assert False, hint"
   ]
  },
  {
   "cell_type": "markdown",
   "id": "c32edf01",
   "metadata": {},
   "source": [
    "### Q9: Simulate and visualize the bootstrap sampling distribution of the sample median of paid claims using 1000 bootstrap samples of the auto claims sample (i.e., the `auto_claims.csv` data).\n",
    "> - Hint 1: Remember that the sample size for your 1000 bootstrap samples should match the original sample size.\n",
    "> - Hint 2: There is not `.median()` method for an `np.array`, but  there is an `np.median()` function.\n",
    "\n",
    "- You can compare your figure and response to the answer given in the ***MarkUs*** output "
   ]
  },
  {
   "cell_type": "code",
   "execution_count": 18,
   "id": "23ce9faa",
   "metadata": {},
   "outputs": [
    {
     "data": {
      "application/vnd.plotly.v1+json": {
       "config": {
        "plotlyServerURL": "https://plot.ly"
       },
       "data": [
        {
         "alignmentgroup": "True",
         "bingroup": "x",
         "histnorm": "probability density",
         "hovertemplate": "Bootstrapped Medians=%{x}<br>probability density=%{y}<extra></extra>",
         "legendgroup": "",
         "marker": {
          "color": "#636efa",
          "pattern": {
           "shape": ""
          }
         },
         "name": "",
         "nbinsx": 12,
         "offsetgroup": "",
         "orientation": "v",
         "showlegend": false,
         "type": "histogram",
         "x": [
          990.07,
          991.59,
          988.2950000000001,
          1110.9,
          1045,
          1038.2150000000001,
          1042.345,
          1038.2150000000001,
          955.785,
          945.8,
          1033.84,
          1006.35,
          997.475,
          1061.8,
          1039.69,
          1122.12,
          988.2950000000001,
          1210.965,
          946.38,
          1085.22,
          1087.815,
          991.83,
          1061.8,
          1016.43,
          1078.03,
          952.05,
          986.12,
          1082.38,
          1139.6,
          1206.445,
          1078.03,
          1110.9,
          1120.82,
          1098.575,
          1039.69,
          1145.63,
          1068.0749999999998,
          946.38,
          1033.84,
          1006.35,
          1101.055,
          1064.685,
          1045,
          941.065,
          991.59,
          1087.815,
          1209.08,
          1110.9,
          1026.585,
          1010.94,
          1099.585,
          1061.8,
          1006.35,
          1089.74,
          1086.9,
          1059.675,
          993.59,
          1050.745,
          1098.37,
          1012.19,
          1124.76,
          997.675,
          1036.74,
          988.5350000000001,
          1061.8,
          1080.625,
          1117.4,
          1080.625,
          1142.615,
          1067.57,
          988.2950000000001,
          1014.31,
          1033.84,
          1107.13,
          1098.37,
          1039.69,
          1036.74,
          1050.745,
          1078.03,
          1068.0749999999998,
          1036.74,
          1233.505,
          1036.74,
          1117.705,
          1038.2150000000001,
          1010.94,
          1094.56,
          1088.6550000000002,
          945.56,
          987,
          983.99,
          1081.71,
          1001.76,
          1112.1550000000002,
          1119.2150000000001,
          1038.2150000000001,
          1119.2150000000001,
          990.07,
          993.3900000000001,
          1105.135,
          990.07,
          1030.715,
          1061.8,
          1012.19,
          1110.9,
          1110.9,
          1081.71,
          1160.63,
          1164.78,
          1119.2150000000001,
          997.675,
          1064.685,
          987.855,
          989.83,
          995.675,
          1067.57,
          1084.305,
          993.3900000000001,
          1116.145,
          1090.41,
          949.2149999999999,
          1050.745,
          1119.52,
          1070.96,
          1053.4,
          1090.75,
          1006.975,
          983.99,
          1090.58,
          1088.73,
          1089.5700000000002,
          1131.205,
          1070.96,
          1084.305,
          1002.2650000000001,
          1130,
          1108.42,
          1160.63,
          1036.74,
          1036.74,
          1081.71,
          1077.2350000000001,
          1088.825,
          1113.665,
          1115.89,
          1090.58,
          1127.2649999999999,
          900,
          991.3900000000001,
          991.6300000000001,
          1059.675,
          986.12,
          1115.89,
          1088.73,
          1036.74,
          1025.135,
          1089.5700000000002,
          1090.75,
          1064.685,
          950.61,
          955.785,
          987.855,
          1071.755,
          997.675,
          987.855,
          1026.585,
          989.59,
          1119.52,
          1089.5700000000002,
          1110.9,
          1011.565,
          1011.565,
          1074.35,
          1067.57,
          928.2,
          903.495,
          1002.2650000000001,
          993.59,
          1053.4,
          1002.2650000000001,
          1090.58,
          1090.58,
          1074.35,
          1101.055,
          1090.75,
          1074.35,
          986.12,
          1036.74,
          997.675,
          1006.975,
          997.675,
          989.59,
          983.99,
          1081.71,
          973.04,
          896.0799999999999,
          1061.8,
          1114.6350000000002,
          1226.28,
          1011.565,
          1155.4299999999998,
          1036.74,
          1084.305,
          1070.96,
          1033.84,
          1067.57,
          898.55,
          1012.19,
          1012.19,
          926.835,
          983.99,
          988.2950000000001,
          1119.2150000000001,
          1084.305,
          1042.345,
          1049.27,
          1053.4,
          988.2950000000001,
          983.99,
          903.99,
          1090.75,
          961.87,
          951.3299999999999,
          952.05,
          1130,
          1090.41,
          1116.145,
          1036.74,
          1036.74,
          1075.2649999999999,
          993.59,
          1045,
          1094.56,
          1118.91,
          1011.565,
          955.785,
          900,
          1068.0749999999998,
          1116.145,
          1086.9,
          1074.35,
          952.05,
          1074.35,
          989.83,
          993.59,
          986.56,
          1068.0749999999998,
          1006.35,
          1099.585,
          1088.6550000000002,
          1002.2650000000001,
          985.965,
          1088.73,
          1113.38,
          1035.29,
          1119.2150000000001,
          990.07,
          990.095,
          1033.84,
          973.04,
          1132.41,
          1067.57,
          1115.89,
          975.1700000000001,
          986.12,
          1078.03,
          1028.06,
          961.87,
          1006.35,
          991.59,
          993.19,
          987,
          1070.96,
          1122.12,
          1088.6550000000002,
          1025.135,
          993.19,
          1064.685,
          1011.565,
          1002.69,
          1033.84,
          1022.39,
          1117.705,
          1080.625,
          1153.13,
          1002.8900000000001,
          989.59,
          961.87,
          1103.395,
          1009.095,
          1070.96,
          1086.9,
          1038.2150000000001,
          1064.685,
          1010.94,
          993.59,
          1084.305,
          1084.305,
          1036.74,
          1088.73,
          1070.96,
          1108.42,
          1090.58,
          993.19,
          1035.29,
          1090.41,
          1053.4,
          1118.91,
          1086.06,
          1024.4650000000001,
          958.135,
          1064.685,
          981.86,
          1006.35,
          1014.31,
          1196.885,
          1139.6,
          910.01,
          1035.29,
          993.3900000000001,
          993.19,
          1038.2150000000001,
          1053.4,
          1036.74,
          1210.965,
          1131.205,
          964.22,
          1014.31,
          1098.37,
          1084.305,
          1105.875,
          986.12,
          993.59,
          1016.43,
          1061.8,
          1045,
          1067.57,
          1113.38,
          955.3,
          1087.815,
          1212.85,
          1061.8,
          1010.94,
          1038.2150000000001,
          986.56,
          1011.565,
          989.83,
          993.19,
          961.87,
          990.2950000000001,
          1126.06,
          1053.63,
          988.2950000000001,
          993.59,
          993.19,
          1074.35,
          1070.96,
          1084.305,
          1078.03,
          981.86,
          1006.35,
          1136.005,
          990.07,
          1012.19,
          1084.305,
          1006.35,
          1053.4,
          1045,
          988.2950000000001,
          1012.19,
          1035.29,
          1025.135,
          1233.505,
          1119.52,
          990.07,
          989.83,
          1088.73,
          934.24,
          987,
          1090.58,
          987.855,
          1074.35,
          986.56,
          987,
          1087.815,
          1110.9,
          1067.57,
          1115.89,
          1119.52,
          989.83,
          1033.84,
          1088.73,
          1011.565,
          1196.885,
          975.1700000000001,
          958.135,
          993.19,
          946.0899999999999,
          988.2950000000001,
          1110.9,
          1056.2849999999999,
          1071.755,
          1025.135,
          964.22,
          1119.2150000000001,
          990.07,
          1117.4,
          1117.4,
          991.6300000000001,
          1090.75,
          1088.6550000000002,
          941.065,
          964.22,
          1105.875,
          945.97,
          1045,
          955.785,
          1061.8,
          1103.395,
          1001.76,
          1085.22,
          1094.56,
          1000.5050000000001,
          991.6300000000001,
          1086.9,
          942.92,
          1033.84,
          1053.4,
          951.3299999999999,
          1103.395,
          1090.41,
          1022.39,
          1035.29,
          1132.41,
          981.86,
          1116.45,
          1081.54,
          936.88,
          981.86,
          1025.135,
          981.86,
          1038.2150000000001,
          986.56,
          1113.38,
          1012.19,
          988.2950000000001,
          1126.06,
          1167.185,
          964.22,
          993.19,
          986.12,
          997.675,
          1002.8900000000001,
          1094.3899999999999,
          993.3900000000001,
          997.675,
          1086.9,
          1036.74,
          1033.84,
          1122.12,
          1114.6350000000002,
          988.2950000000001,
          1089.5700000000002,
          1014.31,
          976.905,
          1084.305,
          1067.57,
          1108.42,
          993.19,
          934.24,
          1090.75,
          1090.41,
          991.6300000000001,
          1108.42,
          986.12,
          1189.35,
          950.61,
          1001.76,
          988.2950000000001,
          945.56,
          1087.815,
          934.24,
          1119.2150000000001,
          946.0899999999999,
          997.675,
          988.2950000000001,
          1110.9,
          1074.35,
          1078.03,
          991.6300000000001,
          1219.565,
          1064.685,
          1094.3899999999999,
          993.3900000000001,
          997.675,
          1088.73,
          1090.58,
          934.24,
          1116.145,
          1064.685,
          1098.37,
          955.065,
          1081.71,
          1120.82,
          1011.565,
          993.59,
          989.83,
          961.87,
          1025.94,
          1074.6399999999999,
          1230.675,
          1025.135,
          1098.37,
          943.7049999999999,
          1014.31,
          1120.5149999999999,
          997.675,
          1078.03,
          1012.19,
          1006.35,
          1131.205,
          1089.5700000000002,
          901.5,
          928.2,
          1090.75,
          993.19,
          1114.6350000000002,
          952.05,
          1053.63,
          997.475,
          989.59,
          1089.5700000000002,
          917.74,
          1028.06,
          991.3900000000001,
          1119.2150000000001,
          983.99,
          1033.84,
          1074.35,
          1033.84,
          959.52,
          1026.585,
          1010.94,
          1042.345,
          1088.6550000000002,
          1014.31,
          945.56,
          991.6300000000001,
          1086.9,
          1129.56,
          1064.685,
          997.675,
          959.52,
          993.3900000000001,
          1025.135,
          981.86,
          1070.96,
          1188.74,
          1103.395,
          1011.565,
          950.61,
          1061.8,
          1014.31,
          1101.895,
          1089.74,
          986.12,
          1067.57,
          1014.31,
          1049.27,
          1012.19,
          1139.6,
          1119.2150000000001,
          1053.4,
          1153.13,
          1039.69,
          1033.84,
          1006.35,
          1006.35,
          1011.565,
          1035.29,
          949.2149999999999,
          952.05,
          1012.19,
          860.67,
          1099.585,
          993.3900000000001,
          1078.15,
          1090.58,
          1035.29,
          1042.345,
          1042.345,
          1089.74,
          1084.305,
          1026.585,
          1070.96,
          1011.565,
          1092.635,
          1039.42,
          973.04,
          1025.135,
          990.2950000000001,
          1064.685,
          1036.74,
          1132.41,
          1016.43,
          1070.96,
          951.3299999999999,
          1090.58,
          1067.57,
          1089.5700000000002,
          970.69,
          1114.6350000000002,
          975.1700000000001,
          1103.395,
          1012.19,
          1067.57,
          1035.29,
          1006.35,
          1114.6350000000002,
          1160.63,
          1016.43,
          1120.82,
          1012.19,
          986.12,
          1099.585,
          1108.42,
          973.04,
          987.855,
          1074.35,
          987,
          945.97,
          1090.41,
          1207.51,
          993.3900000000001,
          993.3900000000001,
          987,
          1033.84,
          1134.8,
          1067.57,
          1090.41,
          991.83,
          993.59,
          952.05,
          1087.815,
          993.59,
          1219.565,
          1064.685,
          950.61,
          993.19,
          1010.94,
          1010.94,
          988.5350000000001,
          1006.975,
          997.475,
          973.04,
          1036.7649999999999,
          1040.87,
          1012.19,
          1119.2150000000001,
          1141.375,
          1174.685,
          1196.275,
          989.83,
          1080.625,
          941.85,
          1110.9,
          975.1700000000001,
          1074.35,
          1024.4650000000001,
          1119.52,
          1089.74,
          1053.4,
          1142.615,
          991.6300000000001,
          990.2950000000001,
          1120.82,
          1010.94,
          1059.675,
          1042.345,
          1139.6,
          1014.31,
          1084.305,
          1053.4,
          1110.9,
          987.855,
          1131.205,
          1120.82,
          1006.975,
          1033.84,
          1014.31,
          1035.29,
          1114.6350000000002,
          1064.685,
          1064.685,
          987.855,
          1042.345,
          1206.445,
          1064.685,
          1105.875,
          1016.43,
          903.495,
          1088.73,
          1126.06,
          1011.565,
          1050.745,
          1110.9,
          1136.005,
          1119.52,
          1036.74,
          1078.03,
          1036.7649999999999,
          1119.2150000000001,
          1006.35,
          955.3,
          1118.91,
          1067.57,
          1114.6350000000002,
          1098.37,
          1117.705,
          1070.96,
          1094.3899999999999,
          1108.42,
          1098.37,
          1112.1550000000002,
          1014.31,
          1113.38,
          1132.41,
          1033.84,
          1056.2849999999999,
          1081.71,
          1086.9,
          1113.97,
          991.83,
          1061.8,
          986.56,
          1189.35,
          1033.84,
          946.0899999999999,
          1203.81,
          993.3900000000001,
          1087.815,
          952.05,
          1050.705,
          1115.89,
          1266.8400000000001,
          1117.705,
          1105.875,
          1088.73,
          1090.75,
          1087.815,
          1087.815,
          1014.31,
          1026.585,
          993.59,
          1042.345,
          991.6300000000001,
          1086.9,
          1081.71,
          1010.94,
          1116.45,
          991.3900000000001,
          1084.305,
          1064.685,
          945.8,
          993.59,
          1053.4,
          975.61,
          1119.52,
          1025.135,
          1074.35,
          1070.96,
          1014.31,
          1035.29,
          1105.875,
          1103.395,
          1094.56,
          1049.27,
          1068.0749999999998,
          1078.03,
          991.59,
          1002.2650000000001,
          1016.43,
          1119.52,
          926.835,
          997.475,
          1040.87,
          1206.445,
          1110.9,
          1210.965,
          1002.2650000000001,
          1056.2849999999999,
          1012.19,
          1019.25,
          1070.96,
          1119.52,
          989.59,
          1150.115,
          1101.895,
          986.56,
          1119.52,
          1125.9650000000001,
          957.415,
          1125.9650000000001,
          986.56,
          1067.57,
          955.065,
          1108.42,
          1025.135,
          941.85,
          1139.6,
          1006.35,
          1067.57,
          1039.69,
          959.52,
          991.6300000000001,
          1001.76,
          989.59,
          1122.12,
          1113.38,
          1088.73,
          1098.37,
          1087.815,
          1023.015,
          1035.29,
          983.99,
          1112.1550000000002,
          1013.685,
          991.6300000000001,
          1089.74,
          1078.03,
          940.28,
          1064.685,
          1050.745,
          1024.4650000000001,
          1002.2650000000001,
          1067.57,
          1036.7649999999999,
          1006.35,
          1016.43,
          1113.665,
          1063.355,
          964.22,
          1012.19,
          1050.745,
          1118.91,
          1061.8,
          1119.2150000000001,
          1086.9,
          1098.37,
          1130,
          991.83,
          964.22,
          1103.395,
          993.59,
          1067.57,
          1033.84,
          1103.3200000000002,
          1145.315,
          1094.3899999999999,
          1023.015,
          1087.815,
          1118.91,
          1070.96,
          1045,
          1130,
          981.86,
          1016.43,
          1012.19,
          1064.685,
          993.19,
          991.3900000000001,
          917.74,
          987,
          1036.74,
          1122.12,
          993.59,
          1090.75,
          1084.305,
          1035.29,
          958.135,
          1084.305,
          941.065,
          940.28,
          1039.69,
          941.065,
          1117.705,
          983.99,
          1045,
          1115.89,
          1088.825,
          1006.35,
          1118.91,
          945.8,
          1001.76,
          1092.635,
          1085.22,
          987,
          1036.7649999999999,
          1090.41,
          1105.875,
          1130,
          1059.675,
          1086.9,
          984.4300000000001,
          1099.585,
          1078.03,
          986.56,
          1002.8900000000001,
          1084.305,
          1119.2150000000001,
          1119.2150000000001,
          1113.38,
          958.135,
          1089.5700000000002,
          1039.69,
          1103.395,
          1080.625,
          928.2,
          1086.23,
          1016.43,
          1064.685,
          1012.19,
          1087.815,
          955.785,
          1117.4,
          991.6300000000001,
          1099.415,
          981.86,
          1090.75,
          1206.445,
          1039.69,
          1080.625,
          991.83,
          1039.42,
          1016.43,
          1078.15,
          1028.06,
          1038.2150000000001,
          1002.8900000000001,
          1053.63,
          997.675,
          987,
          1081.71,
          989.83,
          1045,
          989.83,
          1094.3899999999999,
          990.07,
          1070.96,
          946.23,
          1014.31,
          1036.37,
          1086.9,
          1087.815,
          958.135,
          1084.305,
          1094.56,
          1078.03,
          1035.29,
          989.83,
          1038.2150000000001,
          1033.84,
          993.19,
          986.12,
          989.83,
          1039.69,
          1011.565,
          1142.615,
          993.59,
          1025.135,
          1203.81,
          1059.675,
          1022.39,
          1081.54,
          1103.395,
          990.07,
          1132.41,
          1206.445,
          1081.71,
          948.495,
          1035.29,
          1085.22,
          1061.8,
          1090.58,
          1068.0749999999998,
          1010.94,
          1081.71,
          1053.4,
          1090.41,
          1061.8,
          1001.76,
          1146.52,
          928.2,
          1110.9,
          1045,
          1125.9650000000001,
          925.9300000000001,
          1076.105,
          1025.135,
          1036.74
         ],
         "xaxis": "x",
         "yaxis": "y"
        }
       ],
       "layout": {
        "barmode": "relative",
        "legend": {
         "tracegroupgap": 0
        },
        "margin": {
         "t": 60
        },
        "template": {
         "data": {
          "bar": [
           {
            "error_x": {
             "color": "#2a3f5f"
            },
            "error_y": {
             "color": "#2a3f5f"
            },
            "marker": {
             "line": {
              "color": "#E5ECF6",
              "width": 0.5
             },
             "pattern": {
              "fillmode": "overlay",
              "size": 10,
              "solidity": 0.2
             }
            },
            "type": "bar"
           }
          ],
          "barpolar": [
           {
            "marker": {
             "line": {
              "color": "#E5ECF6",
              "width": 0.5
             },
             "pattern": {
              "fillmode": "overlay",
              "size": 10,
              "solidity": 0.2
             }
            },
            "type": "barpolar"
           }
          ],
          "carpet": [
           {
            "aaxis": {
             "endlinecolor": "#2a3f5f",
             "gridcolor": "white",
             "linecolor": "white",
             "minorgridcolor": "white",
             "startlinecolor": "#2a3f5f"
            },
            "baxis": {
             "endlinecolor": "#2a3f5f",
             "gridcolor": "white",
             "linecolor": "white",
             "minorgridcolor": "white",
             "startlinecolor": "#2a3f5f"
            },
            "type": "carpet"
           }
          ],
          "choropleth": [
           {
            "colorbar": {
             "outlinewidth": 0,
             "ticks": ""
            },
            "type": "choropleth"
           }
          ],
          "contour": [
           {
            "colorbar": {
             "outlinewidth": 0,
             "ticks": ""
            },
            "colorscale": [
             [
              0,
              "#0d0887"
             ],
             [
              0.1111111111111111,
              "#46039f"
             ],
             [
              0.2222222222222222,
              "#7201a8"
             ],
             [
              0.3333333333333333,
              "#9c179e"
             ],
             [
              0.4444444444444444,
              "#bd3786"
             ],
             [
              0.5555555555555556,
              "#d8576b"
             ],
             [
              0.6666666666666666,
              "#ed7953"
             ],
             [
              0.7777777777777778,
              "#fb9f3a"
             ],
             [
              0.8888888888888888,
              "#fdca26"
             ],
             [
              1,
              "#f0f921"
             ]
            ],
            "type": "contour"
           }
          ],
          "contourcarpet": [
           {
            "colorbar": {
             "outlinewidth": 0,
             "ticks": ""
            },
            "type": "contourcarpet"
           }
          ],
          "heatmap": [
           {
            "colorbar": {
             "outlinewidth": 0,
             "ticks": ""
            },
            "colorscale": [
             [
              0,
              "#0d0887"
             ],
             [
              0.1111111111111111,
              "#46039f"
             ],
             [
              0.2222222222222222,
              "#7201a8"
             ],
             [
              0.3333333333333333,
              "#9c179e"
             ],
             [
              0.4444444444444444,
              "#bd3786"
             ],
             [
              0.5555555555555556,
              "#d8576b"
             ],
             [
              0.6666666666666666,
              "#ed7953"
             ],
             [
              0.7777777777777778,
              "#fb9f3a"
             ],
             [
              0.8888888888888888,
              "#fdca26"
             ],
             [
              1,
              "#f0f921"
             ]
            ],
            "type": "heatmap"
           }
          ],
          "heatmapgl": [
           {
            "colorbar": {
             "outlinewidth": 0,
             "ticks": ""
            },
            "colorscale": [
             [
              0,
              "#0d0887"
             ],
             [
              0.1111111111111111,
              "#46039f"
             ],
             [
              0.2222222222222222,
              "#7201a8"
             ],
             [
              0.3333333333333333,
              "#9c179e"
             ],
             [
              0.4444444444444444,
              "#bd3786"
             ],
             [
              0.5555555555555556,
              "#d8576b"
             ],
             [
              0.6666666666666666,
              "#ed7953"
             ],
             [
              0.7777777777777778,
              "#fb9f3a"
             ],
             [
              0.8888888888888888,
              "#fdca26"
             ],
             [
              1,
              "#f0f921"
             ]
            ],
            "type": "heatmapgl"
           }
          ],
          "histogram": [
           {
            "marker": {
             "pattern": {
              "fillmode": "overlay",
              "size": 10,
              "solidity": 0.2
             }
            },
            "type": "histogram"
           }
          ],
          "histogram2d": [
           {
            "colorbar": {
             "outlinewidth": 0,
             "ticks": ""
            },
            "colorscale": [
             [
              0,
              "#0d0887"
             ],
             [
              0.1111111111111111,
              "#46039f"
             ],
             [
              0.2222222222222222,
              "#7201a8"
             ],
             [
              0.3333333333333333,
              "#9c179e"
             ],
             [
              0.4444444444444444,
              "#bd3786"
             ],
             [
              0.5555555555555556,
              "#d8576b"
             ],
             [
              0.6666666666666666,
              "#ed7953"
             ],
             [
              0.7777777777777778,
              "#fb9f3a"
             ],
             [
              0.8888888888888888,
              "#fdca26"
             ],
             [
              1,
              "#f0f921"
             ]
            ],
            "type": "histogram2d"
           }
          ],
          "histogram2dcontour": [
           {
            "colorbar": {
             "outlinewidth": 0,
             "ticks": ""
            },
            "colorscale": [
             [
              0,
              "#0d0887"
             ],
             [
              0.1111111111111111,
              "#46039f"
             ],
             [
              0.2222222222222222,
              "#7201a8"
             ],
             [
              0.3333333333333333,
              "#9c179e"
             ],
             [
              0.4444444444444444,
              "#bd3786"
             ],
             [
              0.5555555555555556,
              "#d8576b"
             ],
             [
              0.6666666666666666,
              "#ed7953"
             ],
             [
              0.7777777777777778,
              "#fb9f3a"
             ],
             [
              0.8888888888888888,
              "#fdca26"
             ],
             [
              1,
              "#f0f921"
             ]
            ],
            "type": "histogram2dcontour"
           }
          ],
          "mesh3d": [
           {
            "colorbar": {
             "outlinewidth": 0,
             "ticks": ""
            },
            "type": "mesh3d"
           }
          ],
          "parcoords": [
           {
            "line": {
             "colorbar": {
              "outlinewidth": 0,
              "ticks": ""
             }
            },
            "type": "parcoords"
           }
          ],
          "pie": [
           {
            "automargin": true,
            "type": "pie"
           }
          ],
          "scatter": [
           {
            "fillpattern": {
             "fillmode": "overlay",
             "size": 10,
             "solidity": 0.2
            },
            "type": "scatter"
           }
          ],
          "scatter3d": [
           {
            "line": {
             "colorbar": {
              "outlinewidth": 0,
              "ticks": ""
             }
            },
            "marker": {
             "colorbar": {
              "outlinewidth": 0,
              "ticks": ""
             }
            },
            "type": "scatter3d"
           }
          ],
          "scattercarpet": [
           {
            "marker": {
             "colorbar": {
              "outlinewidth": 0,
              "ticks": ""
             }
            },
            "type": "scattercarpet"
           }
          ],
          "scattergeo": [
           {
            "marker": {
             "colorbar": {
              "outlinewidth": 0,
              "ticks": ""
             }
            },
            "type": "scattergeo"
           }
          ],
          "scattergl": [
           {
            "marker": {
             "colorbar": {
              "outlinewidth": 0,
              "ticks": ""
             }
            },
            "type": "scattergl"
           }
          ],
          "scattermapbox": [
           {
            "marker": {
             "colorbar": {
              "outlinewidth": 0,
              "ticks": ""
             }
            },
            "type": "scattermapbox"
           }
          ],
          "scatterpolar": [
           {
            "marker": {
             "colorbar": {
              "outlinewidth": 0,
              "ticks": ""
             }
            },
            "type": "scatterpolar"
           }
          ],
          "scatterpolargl": [
           {
            "marker": {
             "colorbar": {
              "outlinewidth": 0,
              "ticks": ""
             }
            },
            "type": "scatterpolargl"
           }
          ],
          "scatterternary": [
           {
            "marker": {
             "colorbar": {
              "outlinewidth": 0,
              "ticks": ""
             }
            },
            "type": "scatterternary"
           }
          ],
          "surface": [
           {
            "colorbar": {
             "outlinewidth": 0,
             "ticks": ""
            },
            "colorscale": [
             [
              0,
              "#0d0887"
             ],
             [
              0.1111111111111111,
              "#46039f"
             ],
             [
              0.2222222222222222,
              "#7201a8"
             ],
             [
              0.3333333333333333,
              "#9c179e"
             ],
             [
              0.4444444444444444,
              "#bd3786"
             ],
             [
              0.5555555555555556,
              "#d8576b"
             ],
             [
              0.6666666666666666,
              "#ed7953"
             ],
             [
              0.7777777777777778,
              "#fb9f3a"
             ],
             [
              0.8888888888888888,
              "#fdca26"
             ],
             [
              1,
              "#f0f921"
             ]
            ],
            "type": "surface"
           }
          ],
          "table": [
           {
            "cells": {
             "fill": {
              "color": "#EBF0F8"
             },
             "line": {
              "color": "white"
             }
            },
            "header": {
             "fill": {
              "color": "#C8D4E3"
             },
             "line": {
              "color": "white"
             }
            },
            "type": "table"
           }
          ]
         },
         "layout": {
          "annotationdefaults": {
           "arrowcolor": "#2a3f5f",
           "arrowhead": 0,
           "arrowwidth": 1
          },
          "autotypenumbers": "strict",
          "coloraxis": {
           "colorbar": {
            "outlinewidth": 0,
            "ticks": ""
           }
          },
          "colorscale": {
           "diverging": [
            [
             0,
             "#8e0152"
            ],
            [
             0.1,
             "#c51b7d"
            ],
            [
             0.2,
             "#de77ae"
            ],
            [
             0.3,
             "#f1b6da"
            ],
            [
             0.4,
             "#fde0ef"
            ],
            [
             0.5,
             "#f7f7f7"
            ],
            [
             0.6,
             "#e6f5d0"
            ],
            [
             0.7,
             "#b8e186"
            ],
            [
             0.8,
             "#7fbc41"
            ],
            [
             0.9,
             "#4d9221"
            ],
            [
             1,
             "#276419"
            ]
           ],
           "sequential": [
            [
             0,
             "#0d0887"
            ],
            [
             0.1111111111111111,
             "#46039f"
            ],
            [
             0.2222222222222222,
             "#7201a8"
            ],
            [
             0.3333333333333333,
             "#9c179e"
            ],
            [
             0.4444444444444444,
             "#bd3786"
            ],
            [
             0.5555555555555556,
             "#d8576b"
            ],
            [
             0.6666666666666666,
             "#ed7953"
            ],
            [
             0.7777777777777778,
             "#fb9f3a"
            ],
            [
             0.8888888888888888,
             "#fdca26"
            ],
            [
             1,
             "#f0f921"
            ]
           ],
           "sequentialminus": [
            [
             0,
             "#0d0887"
            ],
            [
             0.1111111111111111,
             "#46039f"
            ],
            [
             0.2222222222222222,
             "#7201a8"
            ],
            [
             0.3333333333333333,
             "#9c179e"
            ],
            [
             0.4444444444444444,
             "#bd3786"
            ],
            [
             0.5555555555555556,
             "#d8576b"
            ],
            [
             0.6666666666666666,
             "#ed7953"
            ],
            [
             0.7777777777777778,
             "#fb9f3a"
            ],
            [
             0.8888888888888888,
             "#fdca26"
            ],
            [
             1,
             "#f0f921"
            ]
           ]
          },
          "colorway": [
           "#636efa",
           "#EF553B",
           "#00cc96",
           "#ab63fa",
           "#FFA15A",
           "#19d3f3",
           "#FF6692",
           "#B6E880",
           "#FF97FF",
           "#FECB52"
          ],
          "font": {
           "color": "#2a3f5f"
          },
          "geo": {
           "bgcolor": "white",
           "lakecolor": "white",
           "landcolor": "#E5ECF6",
           "showlakes": true,
           "showland": true,
           "subunitcolor": "white"
          },
          "hoverlabel": {
           "align": "left"
          },
          "hovermode": "closest",
          "mapbox": {
           "style": "light"
          },
          "paper_bgcolor": "white",
          "plot_bgcolor": "#E5ECF6",
          "polar": {
           "angularaxis": {
            "gridcolor": "white",
            "linecolor": "white",
            "ticks": ""
           },
           "bgcolor": "#E5ECF6",
           "radialaxis": {
            "gridcolor": "white",
            "linecolor": "white",
            "ticks": ""
           }
          },
          "scene": {
           "xaxis": {
            "backgroundcolor": "#E5ECF6",
            "gridcolor": "white",
            "gridwidth": 2,
            "linecolor": "white",
            "showbackground": true,
            "ticks": "",
            "zerolinecolor": "white"
           },
           "yaxis": {
            "backgroundcolor": "#E5ECF6",
            "gridcolor": "white",
            "gridwidth": 2,
            "linecolor": "white",
            "showbackground": true,
            "ticks": "",
            "zerolinecolor": "white"
           },
           "zaxis": {
            "backgroundcolor": "#E5ECF6",
            "gridcolor": "white",
            "gridwidth": 2,
            "linecolor": "white",
            "showbackground": true,
            "ticks": "",
            "zerolinecolor": "white"
           }
          },
          "shapedefaults": {
           "line": {
            "color": "#2a3f5f"
           }
          },
          "ternary": {
           "aaxis": {
            "gridcolor": "white",
            "linecolor": "white",
            "ticks": ""
           },
           "baxis": {
            "gridcolor": "white",
            "linecolor": "white",
            "ticks": ""
           },
           "bgcolor": "#E5ECF6",
           "caxis": {
            "gridcolor": "white",
            "linecolor": "white",
            "ticks": ""
           }
          },
          "title": {
           "x": 0.05
          },
          "xaxis": {
           "automargin": true,
           "gridcolor": "white",
           "linecolor": "white",
           "ticks": "",
           "title": {
            "standoff": 15
           },
           "zerolinecolor": "white",
           "zerolinewidth": 2
          },
          "yaxis": {
           "automargin": true,
           "gridcolor": "white",
           "linecolor": "white",
           "ticks": "",
           "title": {
            "standoff": 15
           },
           "zerolinecolor": "white",
           "zerolinewidth": 2
          }
         }
        },
        "xaxis": {
         "anchor": "y",
         "domain": [
          0,
          1
         ],
         "title": {
          "text": "Bootstrapped Medians"
         }
        },
        "yaxis": {
         "anchor": "x",
         "domain": [
          0,
          1
         ],
         "title": {
          "text": "probability density"
         }
        }
       }
      },
      "text/html": [
       "<div>                            <div id=\"a56458bc-0372-4baf-b3f8-f18a01f47be0\" class=\"plotly-graph-div\" style=\"height:525px; width:100%;\"></div>            <script type=\"text/javascript\">                require([\"plotly\"], function(Plotly) {                    window.PLOTLYENV=window.PLOTLYENV || {};                                    if (document.getElementById(\"a56458bc-0372-4baf-b3f8-f18a01f47be0\")) {                    Plotly.newPlot(                        \"a56458bc-0372-4baf-b3f8-f18a01f47be0\",                        [{\"alignmentgroup\":\"True\",\"bingroup\":\"x\",\"histnorm\":\"probability density\",\"hovertemplate\":\"Bootstrapped Medians=%{x}\\u003cbr\\u003eprobability density=%{y}\\u003cextra\\u003e\\u003c\\u002fextra\\u003e\",\"legendgroup\":\"\",\"marker\":{\"color\":\"#636efa\",\"pattern\":{\"shape\":\"\"}},\"name\":\"\",\"nbinsx\":12,\"offsetgroup\":\"\",\"orientation\":\"v\",\"showlegend\":false,\"x\":[990.07,991.59,988.2950000000001,1110.9,1045.0,1038.2150000000001,1042.345,1038.2150000000001,955.785,945.8,1033.84,1006.35,997.475,1061.8,1039.69,1122.12,988.2950000000001,1210.965,946.38,1085.22,1087.815,991.83,1061.8,1016.43,1078.03,952.05,986.12,1082.38,1139.6,1206.445,1078.03,1110.9,1120.82,1098.575,1039.69,1145.63,1068.0749999999998,946.38,1033.84,1006.35,1101.055,1064.685,1045.0,941.065,991.59,1087.815,1209.08,1110.9,1026.585,1010.94,1099.585,1061.8,1006.35,1089.74,1086.9,1059.675,993.59,1050.745,1098.37,1012.19,1124.76,997.675,1036.74,988.5350000000001,1061.8,1080.625,1117.4,1080.625,1142.615,1067.57,988.2950000000001,1014.31,1033.84,1107.13,1098.37,1039.69,1036.74,1050.745,1078.03,1068.0749999999998,1036.74,1233.505,1036.74,1117.705,1038.2150000000001,1010.94,1094.56,1088.6550000000002,945.56,987.0,983.99,1081.71,1001.76,1112.1550000000002,1119.2150000000001,1038.2150000000001,1119.2150000000001,990.07,993.3900000000001,1105.135,990.07,1030.715,1061.8,1012.19,1110.9,1110.9,1081.71,1160.63,1164.78,1119.2150000000001,997.675,1064.685,987.855,989.83,995.675,1067.57,1084.305,993.3900000000001,1116.145,1090.41,949.2149999999999,1050.745,1119.52,1070.96,1053.4,1090.75,1006.975,983.99,1090.58,1088.73,1089.5700000000002,1131.205,1070.96,1084.305,1002.2650000000001,1130.0,1108.42,1160.63,1036.74,1036.74,1081.71,1077.2350000000001,1088.825,1113.665,1115.89,1090.58,1127.2649999999999,900.0,991.3900000000001,991.6300000000001,1059.675,986.12,1115.89,1088.73,1036.74,1025.135,1089.5700000000002,1090.75,1064.685,950.61,955.785,987.855,1071.755,997.675,987.855,1026.585,989.59,1119.52,1089.5700000000002,1110.9,1011.565,1011.565,1074.35,1067.57,928.2,903.495,1002.2650000000001,993.59,1053.4,1002.2650000000001,1090.58,1090.58,1074.35,1101.055,1090.75,1074.35,986.12,1036.74,997.675,1006.975,997.675,989.59,983.99,1081.71,973.04,896.0799999999999,1061.8,1114.6350000000002,1226.28,1011.565,1155.4299999999998,1036.74,1084.305,1070.96,1033.84,1067.57,898.55,1012.19,1012.19,926.835,983.99,988.2950000000001,1119.2150000000001,1084.305,1042.345,1049.27,1053.4,988.2950000000001,983.99,903.99,1090.75,961.87,951.3299999999999,952.05,1130.0,1090.41,1116.145,1036.74,1036.74,1075.2649999999999,993.59,1045.0,1094.56,1118.91,1011.565,955.785,900.0,1068.0749999999998,1116.145,1086.9,1074.35,952.05,1074.35,989.83,993.59,986.56,1068.0749999999998,1006.35,1099.585,1088.6550000000002,1002.2650000000001,985.965,1088.73,1113.38,1035.29,1119.2150000000001,990.07,990.095,1033.84,973.04,1132.41,1067.57,1115.89,975.1700000000001,986.12,1078.03,1028.06,961.87,1006.35,991.59,993.19,987.0,1070.96,1122.12,1088.6550000000002,1025.135,993.19,1064.685,1011.565,1002.69,1033.84,1022.39,1117.705,1080.625,1153.13,1002.8900000000001,989.59,961.87,1103.395,1009.095,1070.96,1086.9,1038.2150000000001,1064.685,1010.94,993.59,1084.305,1084.305,1036.74,1088.73,1070.96,1108.42,1090.58,993.19,1035.29,1090.41,1053.4,1118.91,1086.06,1024.4650000000001,958.135,1064.685,981.86,1006.35,1014.31,1196.885,1139.6,910.01,1035.29,993.3900000000001,993.19,1038.2150000000001,1053.4,1036.74,1210.965,1131.205,964.22,1014.31,1098.37,1084.305,1105.875,986.12,993.59,1016.43,1061.8,1045.0,1067.57,1113.38,955.3,1087.815,1212.85,1061.8,1010.94,1038.2150000000001,986.56,1011.565,989.83,993.19,961.87,990.2950000000001,1126.06,1053.63,988.2950000000001,993.59,993.19,1074.35,1070.96,1084.305,1078.03,981.86,1006.35,1136.005,990.07,1012.19,1084.305,1006.35,1053.4,1045.0,988.2950000000001,1012.19,1035.29,1025.135,1233.505,1119.52,990.07,989.83,1088.73,934.24,987.0,1090.58,987.855,1074.35,986.56,987.0,1087.815,1110.9,1067.57,1115.89,1119.52,989.83,1033.84,1088.73,1011.565,1196.885,975.1700000000001,958.135,993.19,946.0899999999999,988.2950000000001,1110.9,1056.2849999999999,1071.755,1025.135,964.22,1119.2150000000001,990.07,1117.4,1117.4,991.6300000000001,1090.75,1088.6550000000002,941.065,964.22,1105.875,945.97,1045.0,955.785,1061.8,1103.395,1001.76,1085.22,1094.56,1000.5050000000001,991.6300000000001,1086.9,942.92,1033.84,1053.4,951.3299999999999,1103.395,1090.41,1022.39,1035.29,1132.41,981.86,1116.45,1081.54,936.88,981.86,1025.135,981.86,1038.2150000000001,986.56,1113.38,1012.19,988.2950000000001,1126.06,1167.185,964.22,993.19,986.12,997.675,1002.8900000000001,1094.3899999999999,993.3900000000001,997.675,1086.9,1036.74,1033.84,1122.12,1114.6350000000002,988.2950000000001,1089.5700000000002,1014.31,976.905,1084.305,1067.57,1108.42,993.19,934.24,1090.75,1090.41,991.6300000000001,1108.42,986.12,1189.35,950.61,1001.76,988.2950000000001,945.56,1087.815,934.24,1119.2150000000001,946.0899999999999,997.675,988.2950000000001,1110.9,1074.35,1078.03,991.6300000000001,1219.565,1064.685,1094.3899999999999,993.3900000000001,997.675,1088.73,1090.58,934.24,1116.145,1064.685,1098.37,955.065,1081.71,1120.82,1011.565,993.59,989.83,961.87,1025.94,1074.6399999999999,1230.675,1025.135,1098.37,943.7049999999999,1014.31,1120.5149999999999,997.675,1078.03,1012.19,1006.35,1131.205,1089.5700000000002,901.5,928.2,1090.75,993.19,1114.6350000000002,952.05,1053.63,997.475,989.59,1089.5700000000002,917.74,1028.06,991.3900000000001,1119.2150000000001,983.99,1033.84,1074.35,1033.84,959.52,1026.585,1010.94,1042.345,1088.6550000000002,1014.31,945.56,991.6300000000001,1086.9,1129.56,1064.685,997.675,959.52,993.3900000000001,1025.135,981.86,1070.96,1188.74,1103.395,1011.565,950.61,1061.8,1014.31,1101.895,1089.74,986.12,1067.57,1014.31,1049.27,1012.19,1139.6,1119.2150000000001,1053.4,1153.13,1039.69,1033.84,1006.35,1006.35,1011.565,1035.29,949.2149999999999,952.05,1012.19,860.67,1099.585,993.3900000000001,1078.15,1090.58,1035.29,1042.345,1042.345,1089.74,1084.305,1026.585,1070.96,1011.565,1092.635,1039.42,973.04,1025.135,990.2950000000001,1064.685,1036.74,1132.41,1016.43,1070.96,951.3299999999999,1090.58,1067.57,1089.5700000000002,970.69,1114.6350000000002,975.1700000000001,1103.395,1012.19,1067.57,1035.29,1006.35,1114.6350000000002,1160.63,1016.43,1120.82,1012.19,986.12,1099.585,1108.42,973.04,987.855,1074.35,987.0,945.97,1090.41,1207.51,993.3900000000001,993.3900000000001,987.0,1033.84,1134.8,1067.57,1090.41,991.83,993.59,952.05,1087.815,993.59,1219.565,1064.685,950.61,993.19,1010.94,1010.94,988.5350000000001,1006.975,997.475,973.04,1036.7649999999999,1040.87,1012.19,1119.2150000000001,1141.375,1174.685,1196.275,989.83,1080.625,941.85,1110.9,975.1700000000001,1074.35,1024.4650000000001,1119.52,1089.74,1053.4,1142.615,991.6300000000001,990.2950000000001,1120.82,1010.94,1059.675,1042.345,1139.6,1014.31,1084.305,1053.4,1110.9,987.855,1131.205,1120.82,1006.975,1033.84,1014.31,1035.29,1114.6350000000002,1064.685,1064.685,987.855,1042.345,1206.445,1064.685,1105.875,1016.43,903.495,1088.73,1126.06,1011.565,1050.745,1110.9,1136.005,1119.52,1036.74,1078.03,1036.7649999999999,1119.2150000000001,1006.35,955.3,1118.91,1067.57,1114.6350000000002,1098.37,1117.705,1070.96,1094.3899999999999,1108.42,1098.37,1112.1550000000002,1014.31,1113.38,1132.41,1033.84,1056.2849999999999,1081.71,1086.9,1113.97,991.83,1061.8,986.56,1189.35,1033.84,946.0899999999999,1203.81,993.3900000000001,1087.815,952.05,1050.705,1115.89,1266.8400000000001,1117.705,1105.875,1088.73,1090.75,1087.815,1087.815,1014.31,1026.585,993.59,1042.345,991.6300000000001,1086.9,1081.71,1010.94,1116.45,991.3900000000001,1084.305,1064.685,945.8,993.59,1053.4,975.61,1119.52,1025.135,1074.35,1070.96,1014.31,1035.29,1105.875,1103.395,1094.56,1049.27,1068.0749999999998,1078.03,991.59,1002.2650000000001,1016.43,1119.52,926.835,997.475,1040.87,1206.445,1110.9,1210.965,1002.2650000000001,1056.2849999999999,1012.19,1019.25,1070.96,1119.52,989.59,1150.115,1101.895,986.56,1119.52,1125.9650000000001,957.415,1125.9650000000001,986.56,1067.57,955.065,1108.42,1025.135,941.85,1139.6,1006.35,1067.57,1039.69,959.52,991.6300000000001,1001.76,989.59,1122.12,1113.38,1088.73,1098.37,1087.815,1023.015,1035.29,983.99,1112.1550000000002,1013.685,991.6300000000001,1089.74,1078.03,940.28,1064.685,1050.745,1024.4650000000001,1002.2650000000001,1067.57,1036.7649999999999,1006.35,1016.43,1113.665,1063.355,964.22,1012.19,1050.745,1118.91,1061.8,1119.2150000000001,1086.9,1098.37,1130.0,991.83,964.22,1103.395,993.59,1067.57,1033.84,1103.3200000000002,1145.315,1094.3899999999999,1023.015,1087.815,1118.91,1070.96,1045.0,1130.0,981.86,1016.43,1012.19,1064.685,993.19,991.3900000000001,917.74,987.0,1036.74,1122.12,993.59,1090.75,1084.305,1035.29,958.135,1084.305,941.065,940.28,1039.69,941.065,1117.705,983.99,1045.0,1115.89,1088.825,1006.35,1118.91,945.8,1001.76,1092.635,1085.22,987.0,1036.7649999999999,1090.41,1105.875,1130.0,1059.675,1086.9,984.4300000000001,1099.585,1078.03,986.56,1002.8900000000001,1084.305,1119.2150000000001,1119.2150000000001,1113.38,958.135,1089.5700000000002,1039.69,1103.395,1080.625,928.2,1086.23,1016.43,1064.685,1012.19,1087.815,955.785,1117.4,991.6300000000001,1099.415,981.86,1090.75,1206.445,1039.69,1080.625,991.83,1039.42,1016.43,1078.15,1028.06,1038.2150000000001,1002.8900000000001,1053.63,997.675,987.0,1081.71,989.83,1045.0,989.83,1094.3899999999999,990.07,1070.96,946.23,1014.31,1036.37,1086.9,1087.815,958.135,1084.305,1094.56,1078.03,1035.29,989.83,1038.2150000000001,1033.84,993.19,986.12,989.83,1039.69,1011.565,1142.615,993.59,1025.135,1203.81,1059.675,1022.39,1081.54,1103.395,990.07,1132.41,1206.445,1081.71,948.495,1035.29,1085.22,1061.8,1090.58,1068.0749999999998,1010.94,1081.71,1053.4,1090.41,1061.8,1001.76,1146.52,928.2,1110.9,1045.0,1125.9650000000001,925.9300000000001,1076.105,1025.135,1036.74],\"xaxis\":\"x\",\"yaxis\":\"y\",\"type\":\"histogram\"}],                        {\"template\":{\"data\":{\"histogram2dcontour\":[{\"type\":\"histogram2dcontour\",\"colorbar\":{\"outlinewidth\":0,\"ticks\":\"\"},\"colorscale\":[[0.0,\"#0d0887\"],[0.1111111111111111,\"#46039f\"],[0.2222222222222222,\"#7201a8\"],[0.3333333333333333,\"#9c179e\"],[0.4444444444444444,\"#bd3786\"],[0.5555555555555556,\"#d8576b\"],[0.6666666666666666,\"#ed7953\"],[0.7777777777777778,\"#fb9f3a\"],[0.8888888888888888,\"#fdca26\"],[1.0,\"#f0f921\"]]}],\"choropleth\":[{\"type\":\"choropleth\",\"colorbar\":{\"outlinewidth\":0,\"ticks\":\"\"}}],\"histogram2d\":[{\"type\":\"histogram2d\",\"colorbar\":{\"outlinewidth\":0,\"ticks\":\"\"},\"colorscale\":[[0.0,\"#0d0887\"],[0.1111111111111111,\"#46039f\"],[0.2222222222222222,\"#7201a8\"],[0.3333333333333333,\"#9c179e\"],[0.4444444444444444,\"#bd3786\"],[0.5555555555555556,\"#d8576b\"],[0.6666666666666666,\"#ed7953\"],[0.7777777777777778,\"#fb9f3a\"],[0.8888888888888888,\"#fdca26\"],[1.0,\"#f0f921\"]]}],\"heatmap\":[{\"type\":\"heatmap\",\"colorbar\":{\"outlinewidth\":0,\"ticks\":\"\"},\"colorscale\":[[0.0,\"#0d0887\"],[0.1111111111111111,\"#46039f\"],[0.2222222222222222,\"#7201a8\"],[0.3333333333333333,\"#9c179e\"],[0.4444444444444444,\"#bd3786\"],[0.5555555555555556,\"#d8576b\"],[0.6666666666666666,\"#ed7953\"],[0.7777777777777778,\"#fb9f3a\"],[0.8888888888888888,\"#fdca26\"],[1.0,\"#f0f921\"]]}],\"heatmapgl\":[{\"type\":\"heatmapgl\",\"colorbar\":{\"outlinewidth\":0,\"ticks\":\"\"},\"colorscale\":[[0.0,\"#0d0887\"],[0.1111111111111111,\"#46039f\"],[0.2222222222222222,\"#7201a8\"],[0.3333333333333333,\"#9c179e\"],[0.4444444444444444,\"#bd3786\"],[0.5555555555555556,\"#d8576b\"],[0.6666666666666666,\"#ed7953\"],[0.7777777777777778,\"#fb9f3a\"],[0.8888888888888888,\"#fdca26\"],[1.0,\"#f0f921\"]]}],\"contourcarpet\":[{\"type\":\"contourcarpet\",\"colorbar\":{\"outlinewidth\":0,\"ticks\":\"\"}}],\"contour\":[{\"type\":\"contour\",\"colorbar\":{\"outlinewidth\":0,\"ticks\":\"\"},\"colorscale\":[[0.0,\"#0d0887\"],[0.1111111111111111,\"#46039f\"],[0.2222222222222222,\"#7201a8\"],[0.3333333333333333,\"#9c179e\"],[0.4444444444444444,\"#bd3786\"],[0.5555555555555556,\"#d8576b\"],[0.6666666666666666,\"#ed7953\"],[0.7777777777777778,\"#fb9f3a\"],[0.8888888888888888,\"#fdca26\"],[1.0,\"#f0f921\"]]}],\"surface\":[{\"type\":\"surface\",\"colorbar\":{\"outlinewidth\":0,\"ticks\":\"\"},\"colorscale\":[[0.0,\"#0d0887\"],[0.1111111111111111,\"#46039f\"],[0.2222222222222222,\"#7201a8\"],[0.3333333333333333,\"#9c179e\"],[0.4444444444444444,\"#bd3786\"],[0.5555555555555556,\"#d8576b\"],[0.6666666666666666,\"#ed7953\"],[0.7777777777777778,\"#fb9f3a\"],[0.8888888888888888,\"#fdca26\"],[1.0,\"#f0f921\"]]}],\"mesh3d\":[{\"type\":\"mesh3d\",\"colorbar\":{\"outlinewidth\":0,\"ticks\":\"\"}}],\"scatter\":[{\"fillpattern\":{\"fillmode\":\"overlay\",\"size\":10,\"solidity\":0.2},\"type\":\"scatter\"}],\"parcoords\":[{\"type\":\"parcoords\",\"line\":{\"colorbar\":{\"outlinewidth\":0,\"ticks\":\"\"}}}],\"scatterpolargl\":[{\"type\":\"scatterpolargl\",\"marker\":{\"colorbar\":{\"outlinewidth\":0,\"ticks\":\"\"}}}],\"bar\":[{\"error_x\":{\"color\":\"#2a3f5f\"},\"error_y\":{\"color\":\"#2a3f5f\"},\"marker\":{\"line\":{\"color\":\"#E5ECF6\",\"width\":0.5},\"pattern\":{\"fillmode\":\"overlay\",\"size\":10,\"solidity\":0.2}},\"type\":\"bar\"}],\"scattergeo\":[{\"type\":\"scattergeo\",\"marker\":{\"colorbar\":{\"outlinewidth\":0,\"ticks\":\"\"}}}],\"scatterpolar\":[{\"type\":\"scatterpolar\",\"marker\":{\"colorbar\":{\"outlinewidth\":0,\"ticks\":\"\"}}}],\"histogram\":[{\"marker\":{\"pattern\":{\"fillmode\":\"overlay\",\"size\":10,\"solidity\":0.2}},\"type\":\"histogram\"}],\"scattergl\":[{\"type\":\"scattergl\",\"marker\":{\"colorbar\":{\"outlinewidth\":0,\"ticks\":\"\"}}}],\"scatter3d\":[{\"type\":\"scatter3d\",\"line\":{\"colorbar\":{\"outlinewidth\":0,\"ticks\":\"\"}},\"marker\":{\"colorbar\":{\"outlinewidth\":0,\"ticks\":\"\"}}}],\"scattermapbox\":[{\"type\":\"scattermapbox\",\"marker\":{\"colorbar\":{\"outlinewidth\":0,\"ticks\":\"\"}}}],\"scatterternary\":[{\"type\":\"scatterternary\",\"marker\":{\"colorbar\":{\"outlinewidth\":0,\"ticks\":\"\"}}}],\"scattercarpet\":[{\"type\":\"scattercarpet\",\"marker\":{\"colorbar\":{\"outlinewidth\":0,\"ticks\":\"\"}}}],\"carpet\":[{\"aaxis\":{\"endlinecolor\":\"#2a3f5f\",\"gridcolor\":\"white\",\"linecolor\":\"white\",\"minorgridcolor\":\"white\",\"startlinecolor\":\"#2a3f5f\"},\"baxis\":{\"endlinecolor\":\"#2a3f5f\",\"gridcolor\":\"white\",\"linecolor\":\"white\",\"minorgridcolor\":\"white\",\"startlinecolor\":\"#2a3f5f\"},\"type\":\"carpet\"}],\"table\":[{\"cells\":{\"fill\":{\"color\":\"#EBF0F8\"},\"line\":{\"color\":\"white\"}},\"header\":{\"fill\":{\"color\":\"#C8D4E3\"},\"line\":{\"color\":\"white\"}},\"type\":\"table\"}],\"barpolar\":[{\"marker\":{\"line\":{\"color\":\"#E5ECF6\",\"width\":0.5},\"pattern\":{\"fillmode\":\"overlay\",\"size\":10,\"solidity\":0.2}},\"type\":\"barpolar\"}],\"pie\":[{\"automargin\":true,\"type\":\"pie\"}]},\"layout\":{\"autotypenumbers\":\"strict\",\"colorway\":[\"#636efa\",\"#EF553B\",\"#00cc96\",\"#ab63fa\",\"#FFA15A\",\"#19d3f3\",\"#FF6692\",\"#B6E880\",\"#FF97FF\",\"#FECB52\"],\"font\":{\"color\":\"#2a3f5f\"},\"hovermode\":\"closest\",\"hoverlabel\":{\"align\":\"left\"},\"paper_bgcolor\":\"white\",\"plot_bgcolor\":\"#E5ECF6\",\"polar\":{\"bgcolor\":\"#E5ECF6\",\"angularaxis\":{\"gridcolor\":\"white\",\"linecolor\":\"white\",\"ticks\":\"\"},\"radialaxis\":{\"gridcolor\":\"white\",\"linecolor\":\"white\",\"ticks\":\"\"}},\"ternary\":{\"bgcolor\":\"#E5ECF6\",\"aaxis\":{\"gridcolor\":\"white\",\"linecolor\":\"white\",\"ticks\":\"\"},\"baxis\":{\"gridcolor\":\"white\",\"linecolor\":\"white\",\"ticks\":\"\"},\"caxis\":{\"gridcolor\":\"white\",\"linecolor\":\"white\",\"ticks\":\"\"}},\"coloraxis\":{\"colorbar\":{\"outlinewidth\":0,\"ticks\":\"\"}},\"colorscale\":{\"sequential\":[[0.0,\"#0d0887\"],[0.1111111111111111,\"#46039f\"],[0.2222222222222222,\"#7201a8\"],[0.3333333333333333,\"#9c179e\"],[0.4444444444444444,\"#bd3786\"],[0.5555555555555556,\"#d8576b\"],[0.6666666666666666,\"#ed7953\"],[0.7777777777777778,\"#fb9f3a\"],[0.8888888888888888,\"#fdca26\"],[1.0,\"#f0f921\"]],\"sequentialminus\":[[0.0,\"#0d0887\"],[0.1111111111111111,\"#46039f\"],[0.2222222222222222,\"#7201a8\"],[0.3333333333333333,\"#9c179e\"],[0.4444444444444444,\"#bd3786\"],[0.5555555555555556,\"#d8576b\"],[0.6666666666666666,\"#ed7953\"],[0.7777777777777778,\"#fb9f3a\"],[0.8888888888888888,\"#fdca26\"],[1.0,\"#f0f921\"]],\"diverging\":[[0,\"#8e0152\"],[0.1,\"#c51b7d\"],[0.2,\"#de77ae\"],[0.3,\"#f1b6da\"],[0.4,\"#fde0ef\"],[0.5,\"#f7f7f7\"],[0.6,\"#e6f5d0\"],[0.7,\"#b8e186\"],[0.8,\"#7fbc41\"],[0.9,\"#4d9221\"],[1,\"#276419\"]]},\"xaxis\":{\"gridcolor\":\"white\",\"linecolor\":\"white\",\"ticks\":\"\",\"title\":{\"standoff\":15},\"zerolinecolor\":\"white\",\"automargin\":true,\"zerolinewidth\":2},\"yaxis\":{\"gridcolor\":\"white\",\"linecolor\":\"white\",\"ticks\":\"\",\"title\":{\"standoff\":15},\"zerolinecolor\":\"white\",\"automargin\":true,\"zerolinewidth\":2},\"scene\":{\"xaxis\":{\"backgroundcolor\":\"#E5ECF6\",\"gridcolor\":\"white\",\"linecolor\":\"white\",\"showbackground\":true,\"ticks\":\"\",\"zerolinecolor\":\"white\",\"gridwidth\":2},\"yaxis\":{\"backgroundcolor\":\"#E5ECF6\",\"gridcolor\":\"white\",\"linecolor\":\"white\",\"showbackground\":true,\"ticks\":\"\",\"zerolinecolor\":\"white\",\"gridwidth\":2},\"zaxis\":{\"backgroundcolor\":\"#E5ECF6\",\"gridcolor\":\"white\",\"linecolor\":\"white\",\"showbackground\":true,\"ticks\":\"\",\"zerolinecolor\":\"white\",\"gridwidth\":2}},\"shapedefaults\":{\"line\":{\"color\":\"#2a3f5f\"}},\"annotationdefaults\":{\"arrowcolor\":\"#2a3f5f\",\"arrowhead\":0,\"arrowwidth\":1},\"geo\":{\"bgcolor\":\"white\",\"landcolor\":\"#E5ECF6\",\"subunitcolor\":\"white\",\"showland\":true,\"showlakes\":true,\"lakecolor\":\"white\"},\"title\":{\"x\":0.05},\"mapbox\":{\"style\":\"light\"}}},\"xaxis\":{\"anchor\":\"y\",\"domain\":[0.0,1.0],\"title\":{\"text\":\"Bootstrapped Medians\"}},\"yaxis\":{\"anchor\":\"x\",\"domain\":[0.0,1.0],\"title\":{\"text\":\"probability density\"}},\"legend\":{\"tracegroupgap\":0},\"margin\":{\"t\":60},\"barmode\":\"relative\"},                        {\"responsive\": true}                    ).then(function(){\n",
       "                            \n",
       "var gd = document.getElementById('a56458bc-0372-4baf-b3f8-f18a01f47be0');\n",
       "var x = new MutationObserver(function (mutations, observer) {{\n",
       "        var display = window.getComputedStyle(gd).display;\n",
       "        if (!display || display === 'none') {{\n",
       "            console.log([gd, 'removed!']);\n",
       "            Plotly.purge(gd);\n",
       "            observer.disconnect();\n",
       "        }}\n",
       "}});\n",
       "\n",
       "// Listen for the removal of the full notebook cells\n",
       "var notebookContainer = gd.closest('#notebook-container');\n",
       "if (notebookContainer) {{\n",
       "    x.observe(notebookContainer, {childList: true});\n",
       "}}\n",
       "\n",
       "// Listen for the clearing of the current output cell\n",
       "var outputEl = gd.closest('.output');\n",
       "if (outputEl) {{\n",
       "    x.observe(outputEl, {childList: true});\n",
       "}}\n",
       "\n",
       "                        })                };                });            </script>        </div>"
      ]
     },
     "metadata": {},
     "output_type": "display_data"
    }
   ],
   "source": [
    "import plotly.express as px\n",
    "data = pd.read_csv('auto_claims.csv')\n",
    "np.random.seed(130) # Use this line to create reproducible pseudorandomness for your bootstrapping\n",
    "\n",
    "sample_size_n = 500\n",
    "number_of_bootstrapped_samples = 1000\n",
    "# concatenating with a list is not very efficient because growing the list\n",
    "# is a memory intensive process as opposed to preallocating the memory that will be used\n",
    "boot_medians = [] # an approach using `np.array([0.0]*number_of_bootstrapped_samples)` \n",
    "                  # would be better...\n",
    "for i in range(number_of_bootstrapped_samples):\n",
    "    # `np.random.choice` is an alternative to utilizing `data.sample(..., replace=True)`\n",
    "    boot_sample = np.random.choice(data['PAID'], sample_size_n)\n",
    "    boot_medians += [np.median(boot_sample)]\n",
    "\n",
    "fig = px.histogram(pd.DataFrame({\"Bootstrapped Medians\": boot_medians}), \n",
    "                   x=\"Bootstrapped Medians\", histnorm='probability density', nbins=12)\n",
    "fig.show()"
   ]
  },
  {
   "cell_type": "code",
   "execution_count": 204,
   "id": "f1405442",
   "metadata": {},
   "outputs": [],
   "source": [
    "hint = \"\\n\\nAUTOMATICALLY FAILING AUTOTEST: DOES NOT COUNT AGAINST STUDENT\\n\"\n",
    "hint += \"Included as an example answer for feedback purposes only\\n\\n\"\n",
    "code = '''\n",
    "#data = pd.read_csv('auto_claims.csv')\n",
    "np.random.seed(130) # Use this line to create reproducible pseudorandomness for your bootstrapping\n",
    "\n",
    "sample_size_n = 500\n",
    "number_of_bootstrapped_samples = 1000\n",
    "# concatenating with a list is not very efficient because growing the list\n",
    "# is a memory intensive process as opposed to preallocating the memory that will be used\n",
    "boot_medians = [] # an approach using `np.array([0.0]*number_of_bootstrapped_samples)` \n",
    "                  # would be better...\n",
    "for i in range(number_of_bootstrapped_samples):\n",
    "    # `np.random.choice` is an alternative to utilizing `data.sample(..., replace=True)`\n",
    "    boot_sample = np.random.choice(data['PAID'], sample_size_n)\n",
    "    boot_medians += [np.median(boot_sample)]\n",
    "\n",
    "fig = px.histogram(pd.DataFrame({\"Bootstrapped Medians\": boot_medians}), \n",
    "                   x=\"Bootstrapped Medians\", histnorm='probability density', nbins=12)\n",
    "fig.show()\n",
    "'''"
   ]
  },
  {
   "cell_type": "code",
   "execution_count": 205,
   "id": "16ec6085",
   "metadata": {},
   "outputs": [
    {
     "ename": "AssertionError",
     "evalue": "\n\nAUTOMATICALLY FAILING AUTOTEST: DOES NOT COUNT AGAINST STUDENT\nIncluded as an example answer for feedback purposes only\n\n\nnp.random.seed(130) # Use this line to create reproducbile pseudorandomness for your bootstrapping\n\nsample_size_n = 500\nnumber_of_bootstrapped_samples = 1000\n# concatenating with a list is not very efficient because growing the list\n# is a memory intensive process as opposed to preallocating the memory that will be used\nboot_medians = [] # an approach using `np.array([0.0]*number_of_bootstrapped_samples)` \n                  # would be better...\nfor i in range(number_of_bootstrapped_samples):\n    boot_sample = np.random.choice(autoclaims_csv_asdf['PAID'], sample_size_n)\n    boot_medians += [np.mean(boot_sample)]\n\nfig = px.histogram(pd.DataFrame({\"Bootstrapped Medians\": boot_medians}), \n                   x=\"Bootstrapped Medians\", histnorm='probability density', nbins=12)\nfig.show()\n",
     "output_type": "error",
     "traceback": [
      "\u001b[0;31m---------------------------------------------------------------------------\u001b[0m",
      "\u001b[0;31mAssertionError\u001b[0m                            Traceback (most recent call last)",
      "Cell \u001b[0;32mIn[205], line 2\u001b[0m\n\u001b[1;32m      1\u001b[0m \u001b[38;5;66;03m# test_Q9\u001b[39;00m\n\u001b[0;32m----> 2\u001b[0m \u001b[38;5;28;01massert\u001b[39;00m \u001b[38;5;28;01mFalse\u001b[39;00m, hint\u001b[38;5;241m+\u001b[39mcode\n",
      "\u001b[0;31mAssertionError\u001b[0m: \n\nAUTOMATICALLY FAILING AUTOTEST: DOES NOT COUNT AGAINST STUDENT\nIncluded as an example answer for feedback purposes only\n\n\nnp.random.seed(130) # Use this line to create reproducbile pseudorandomness for your bootstrapping\n\nsample_size_n = 500\nnumber_of_bootstrapped_samples = 1000\n# concatenating with a list is not very efficient because growing the list\n# is a memory intensive process as opposed to preallocating the memory that will be used\nboot_medians = [] # an approach using `np.array([0.0]*number_of_bootstrapped_samples)` \n                  # would be better...\nfor i in range(number_of_bootstrapped_samples):\n    boot_sample = np.random.choice(autoclaims_csv_asdf['PAID'], sample_size_n)\n    boot_medians += [np.mean(boot_sample)]\n\nfig = px.histogram(pd.DataFrame({\"Bootstrapped Medians\": boot_medians}), \n                   x=\"Bootstrapped Medians\", histnorm='probability density', nbins=12)\nfig.show()\n"
     ]
    }
   ],
   "source": [
    "# test_Q9\n",
    "assert False, hint+code"
   ]
  },
  {
   "cell_type": "markdown",
   "id": "8c2820fa",
   "metadata": {},
   "source": [
    "### Q10: Using the simulation in `Q9`, derive a 95% confidence interval for the median of paid claims.\n",
    "#### Give your answer as a continuous numeric value rounded to two decimal positions."
   ]
  },
  {
   "cell_type": "code",
   "execution_count": 8,
   "id": "1a955d4c",
   "metadata": {},
   "outputs": [
    {
     "data": {
      "text/plain": [
       "array([ 940.28 , 1196.275])"
      ]
     },
     "execution_count": 8,
     "metadata": {},
     "output_type": "execute_result"
    }
   ],
   "source": [
    "np.quantile(boot_medians, (0.025, 0.975))"
   ]
  },
  {
   "cell_type": "code",
   "execution_count": 42,
   "id": "213e4f97",
   "metadata": {},
   "outputs": [],
   "source": [
    "# Q10: your answer will be tested!\n",
    "your_1000_bootstrapped_medians = None # Assign your list/numpy array variable here instead of `None`\n",
    "conf_int_lower = None # use np.round(..., 2)\n",
    "conf_int_upper = None # use np.round(..., 2)\n",
    "Q10 = (your_1000_bootstrapped_medians, conf_int_lower, conf_int_upper) \n",
    "# Assign a `tuple` of your 1000 bootstrapped medians and two two-decimal rounded `float`s to Q10"
   ]
  },
  {
   "cell_type": "code",
   "execution_count": 283,
   "id": "642ca78a",
   "metadata": {},
   "outputs": [],
   "source": [
    "hint = \"A 95% confidence interval refers to the middle 95% of the bootstrapped means, \"\n",
    "hint += \"so make sure that the quantiles you use have a difference of 0.95.\""
   ]
  },
  {
   "cell_type": "code",
   "execution_count": 33,
   "id": "b083da55",
   "metadata": {},
   "outputs": [
    {
     "ename": "NameError",
     "evalue": "name 'your_1000_bootstrapped_medians' is not defined",
     "output_type": "error",
     "traceback": [
      "\u001b[0;31m---------------------------------------------------------------------------\u001b[0m",
      "\u001b[0;31mNameError\u001b[0m                                 Traceback (most recent call last)",
      "Cell \u001b[0;32mIn[33], line 2\u001b[0m\n\u001b[1;32m      1\u001b[0m \u001b[38;5;66;03m# test_Q10\u001b[39;00m\n\u001b[0;32m----> 2\u001b[0m \u001b[38;5;28;01massert\u001b[39;00m np\u001b[38;5;241m.\u001b[39mall(np\u001b[38;5;241m.\u001b[39mquantile(\u001b[43myour_1000_bootstrapped_medians\u001b[49m, (\u001b[38;5;241m0.025\u001b[39m, \u001b[38;5;241m0.975\u001b[39m))\u001b[38;5;241m==\u001b[39mnp\u001b[38;5;241m.\u001b[39marray([Q10[\u001b[38;5;241m1\u001b[39m],Q10[\u001b[38;5;241m2\u001b[39m]])), hint\n",
      "\u001b[0;31mNameError\u001b[0m: name 'your_1000_bootstrapped_medians' is not defined"
     ]
    }
   ],
   "source": [
    "# test_Q10\n",
    "assert np.all(np.quantile(your_1000_bootstrapped_medians, (0.025, 0.975))==np.array([Q10[1],Q10[2]])), hint"
   ]
  },
  {
   "cell_type": "markdown",
   "id": "e08f001b",
   "metadata": {},
   "source": [
    "### Q11: Create 1000 samples of sample size $n=500$ from the population of claims stored in the `auto_claims_population.csv` data set, use `plotly` to visualize the (sampling) distrubution of the median paid claims for these samples, and compute the overall average of these medians.\n",
    "\n",
    "#### Which of the following statements are true?\n",
    "\n",
    "- A. The median paid claim amount in the population is given by `pd.read_csv('auto_claims_population.csv').PAID.median()`\n",
    "- B. Each median computed in Q11 estimates this, and the overall average of these means estimates it even better; but, it's a little silly to do this because since we have the whole population we can just calculate the median paid claim amount in the population exactly.\n",
    "- C. The bootstrap medians in Q9 estimate the median of the original sample being bootstrapped (which we can already calculate exactly); but, if the \"auto_claims.csv\" sample is fairly representative \"auto_claims_population.csv\" population, then the bootstrapped sampling distribution created in Q9 will behave similarly to the sampling distribution created here in Q11 (but it will just be \"biased\" to be centered around the median of the original sample as opposed to the median of the popuation). \n",
    "- D. All of the above\n",
    "\n",
    "> - Hint 1: Ensure each sample should be created without replacement, so there are no repeated observations within each sample: <br>**this question is not asking for bootstrapping... it's asking you to create 1000 different samples from a population...**\n",
    "> - Hint 2: The default for `df.sample()` is `replace=False`, whereas the default for `np.random.choice(x, n)` is `replace=True`.\n",
    "\n",
    "- Your `for` loop code and figure will be manually confirmed (for the correct usage of `replace=False`) during marking"
   ]
  },
  {
   "cell_type": "code",
   "execution_count": 31,
   "id": "72fc7577",
   "metadata": {},
   "outputs": [],
   "source": [
    "# Import 'auto_claims_population.csv' and create 1000 samples from this population\n"
   ]
  },
  {
   "cell_type": "code",
   "execution_count": 5,
   "id": "ec9395b2",
   "metadata": {},
   "outputs": [
    {
     "data": {
      "text/plain": [
       "(2017.5019499999999, 1049.2649999999999)"
      ]
     },
     "execution_count": 5,
     "metadata": {},
     "output_type": "execute_result"
    }
   ],
   "source": [
    "pd.read_csv('auto_claims_population.csv').PAID.mean(), pd.read_csv('auto_claims_population.csv').PAID.median()"
   ]
  },
  {
   "cell_type": "code",
   "execution_count": 38,
   "id": "110ea0fc",
   "metadata": {},
   "outputs": [
    {
     "data": {
      "application/vnd.plotly.v1+json": {
       "config": {
        "plotlyServerURL": "https://plot.ly"
       },
       "data": [
        {
         "alignmentgroup": "True",
         "bingroup": "x",
         "histnorm": "probability density",
         "hovertemplate": "Bootstrapped Medians=%{x}<br>probability density=%{y}<extra></extra>",
         "legendgroup": "",
         "marker": {
          "color": "#636efa",
          "pattern": {
           "shape": ""
          }
         },
         "name": "",
         "nbinsx": 10,
         "offsetgroup": "",
         "orientation": "v",
         "showlegend": false,
         "type": "histogram",
         "x": [
          1063.895,
          1038.385,
          1120.82,
          1049.2649999999999,
          1079.7350000000001,
          1126.06,
          1026.7549999999999,
          1053.0949999999998,
          1036.9099999999999,
          1035.885,
          1069.375,
          1078.03,
          1010.12,
          1034.435,
          1062.8400000000001,
          1034.435,
          1046.96,
          956.89,
          1119.2150000000001,
          1042.72,
          1053.0949999999998,
          1088.6550000000002,
          1070.96,
          1070.96,
          1099.38,
          1049.2649999999999,
          988.5350000000001,
          1053.6999999999998,
          1097.75,
          1042.72,
          1023.8499999999999,
          1088.6550000000002,
          1110.62,
          1053.355,
          1092.9099999999999,
          1062.595,
          992.36,
          1078.03,
          1052.75,
          1049.2649999999999,
          1097.525,
          1057.185,
          1013.06,
          1009.495,
          1024.4099999999999,
          1043.5500000000002,
          1085.22,
          1026.7549999999999,
          990.915,
          1053.0949999999998,
          1043.1750000000002,
          984.4300000000001,
          1046.96,
          1138.2150000000001,
          1046.81,
          1014.4549999999999,
          961.87,
          977.79,
          1035.29,
          1042.5700000000002,
          1097.525,
          1078.03,
          1092.9099999999999,
          1024.4099999999999,
          1042.72,
          1094.56,
          1063.1,
          1090.58,
          992.835,
          1043.5500000000002,
          1010.12,
          985.965,
          1103.395,
          991.8,
          1045.68,
          1059.795,
          1043.5500000000002,
          1042.72,
          1050.6399999999999,
          1097.73,
          1099.1550000000002,
          1059.5349999999999,
          1114.6350000000002,
          1114.6350000000002,
          1100.535,
          1060.5900000000001,
          1130.4,
          1049.2649999999999,
          1122.9099999999999,
          1110.9,
          1065.9850000000001,
          1047.155,
          1148.2649999999999,
          1012.4300000000001,
          1074.6399999999999,
          1098.7600000000002,
          1126.85,
          1106.605,
          1013.3,
          1087.815,
          1039.42,
          992.835,
          1046.96,
          989.1800000000001,
          1011.565,
          1084.305,
          1025.135,
          1090.58,
          1049.2649999999999,
          1057.185,
          1042.5700000000002,
          1063.895,
          1062.335,
          1151.8600000000001,
          1052.225,
          1096.495,
          1042.1950000000002,
          1119.2150000000001,
          1043.5500000000002,
          1014.4549999999999,
          1044.85,
          973.04,
          1112.1550000000002,
          1042.72,
          1089.5700000000002,
          1079.7350000000001,
          1025.135,
          1049.2649999999999,
          1036.9099999999999,
          1036.0549999999998,
          1068.0749999999998,
          1151.8600000000001,
          1044.65,
          1053.0949999999998,
          1080.625,
          1042.5700000000002,
          1040.065,
          1044.305,
          1090.58,
          1046.96,
          1047.3049999999998,
          1080.625,
          1057.185,
          1130.4,
          1026.585,
          1060.5900000000001,
          1038.2150000000001,
          1117.4,
          1060.49,
          1059.5349999999999,
          1059.5349999999999,
          1035.885,
          1092.9099999999999,
          1030.565,
          1041.04,
          1042.5700000000002,
          1035.885,
          1014.31,
          1010.3599999999999,
          1013.825,
          1119.005,
          1097.525,
          1004.905,
          1009.495,
          1089.74,
          992.835,
          1047.3049999999998,
          1087.815,
          1084.305,
          983.99,
          975.22,
          1097.525,
          991.9200000000001,
          1069.375,
          1121.6100000000001,
          1025.135,
          1014.55,
          1063.895,
          1046.96,
          1084.305,
          1025.73,
          961.87,
          992.36,
          1090.58,
          1119.795,
          1040.8899999999999,
          1057.185,
          1053.1399999999999,
          1059.5349999999999,
          1065.9850000000001,
          1002.4549999999999,
          1092.74,
          1059.9850000000001,
          1126.06,
          961.87,
          1117.75,
          1038.5900000000001,
          1085.22,
          993.0350000000001,
          1000.62,
          1049.2649999999999,
          1042.5700000000002,
          1085.22,
          1059.19,
          992.36,
          1114.355,
          1110.9,
          1013.825,
          1130.4,
          1048.135,
          948.495,
          1013.06,
          1035.885,
          998.53,
          1060.49,
          1040.87,
          941.6800000000001,
          1106.75,
          1096.1,
          991.8,
          1084.305,
          1001.59,
          1003.12,
          1042.1950000000002,
          998.53,
          1025.73,
          1055.445,
          992.715,
          1042.5700000000002,
          1004.905,
          1087.815,
          1024.4099999999999,
          1063.1,
          1084.305,
          1065.9850000000001,
          1062.595,
          961.78,
          1084.305,
          1045.83,
          1035.885,
          1011.8050000000001,
          1045.68,
          1014.55,
          1006.35,
          1059.19,
          1126.85,
          991.8,
          1049.2649999999999,
          1093.94,
          1097.75,
          1063.895,
          1100.535,
          1074.6399999999999,
          1206.445,
          1060.5900000000001,
          1098.7600000000002,
          988.2950000000001,
          1025.135,
          1038.76,
          1100.535,
          1042.5700000000002,
          1037.3600000000001,
          1053.0949999999998,
          1053.355,
          1003.12,
          1098.145,
          1061.54,
          1092.9099999999999,
          994.4449999999999,
          1065.48,
          1091.9,
          1025.135,
          1006.35,
          1089.74,
          1113.1,
          1025.135,
          1065.9850000000001,
          1110.62,
          943.7049999999999,
          1078.03,
          1044.85,
          1120.82,
          1043.5500000000002,
          1057.185,
          1044.85,
          1006.35,
          1099.525,
          1040.065,
          1087.815,
          1004.905,
          1084.305,
          1035.46,
          1040.065,
          994.245,
          1110.62,
          1071.495,
          1047.155,
          1114.6350000000002,
          1037.7350000000001,
          1084.305,
          1099.38,
          1025.135,
          1025.73,
          1064.685,
          941.6800000000001,
          1040.065,
          1006.35,
          1097.525,
          1061.54,
          1099.38,
          1014.31,
          1062.335,
          1012.4300000000001,
          1063.895,
          1063.895,
          997.475,
          1045.83,
          1097.525,
          1053.6999999999998,
          1048.51,
          993.0350000000001,
          1092.74,
          1069.375,
          1049.2649999999999,
          991.8,
          1042.5700000000002,
          1195.56,
          1061.54,
          1089.5700000000002,
          1106.75,
          1013.825,
          1053.0949999999998,
          1114.355,
          1094.3899999999999,
          1000.8199999999999,
          983.99,
          1057.185,
          968.06,
          992.835,
          1090.58,
          1007.2149999999999,
          1099.525,
          1119.2150000000001,
          1074.6399999999999,
          1024.4099999999999,
          1042.345,
          1122.9099999999999,
          1042.345,
          1047.79,
          1116.145,
          1080.88,
          1119.2150000000001,
          1042.345,
          1042.5700000000002,
          1098.145,
          993.77,
          1106.605,
          1006.975,
          1006.35,
          1074.6399999999999,
          1014.4549999999999,
          1099.525,
          1080.625,
          1036.9099999999999,
          1047.79,
          1078.03,
          1009.495,
          1114.6350000000002,
          1025.135,
          953.155,
          988.5350000000001,
          984.4300000000001,
          1092.93,
          1014.4549999999999,
          1049.2649999999999,
          988.5350000000001,
          1053.0949999999998,
          1089.5700000000002,
          1053.6999999999998,
          988.2950000000001,
          1057.185,
          1035.885,
          1052.75,
          1040.8899999999999,
          1059.5349999999999,
          950.3199999999999,
          1097.525,
          1143.065,
          1092.74,
          988.5350000000001,
          1061.54,
          1027.335,
          1002.8900000000001,
          1087.815,
          1063.1,
          1048.135,
          1025.8600000000001,
          1100.535,
          954.62,
          1013.3,
          1062.595,
          994.245,
          1035.885,
          1065.9850000000001,
          1013.3,
          1078.03,
          1096.495,
          1100.535,
          1109.795,
          1070.96,
          1061.54,
          1003.12,
          1012.4300000000001,
          1096.1,
          1042.345,
          991.8,
          1070.96,
          1047.79,
          1053.6999999999998,
          997.675,
          1025.135,
          1028.06,
          993.3900000000001,
          1089.74,
          1085.22,
          990.715,
          1057.185,
          1092.74,
          1062.0749999999998,
          1003.12,
          1180.995,
          1077.4050000000002,
          1063.1,
          1040.065,
          1081.54,
          1156.4450000000002,
          1042.345,
          942.92,
          1059.5349999999999,
          1093.94,
          1207.23,
          1011.565,
          1013.06,
          1048.135,
          1036.9099999999999,
          1119.2150000000001,
          943.825,
          994.4449999999999,
          964.05,
          1074.0900000000001,
          1013.06,
          1023.885,
          1062.335,
          1047.79,
          991.8,
          1097.75,
          1061.54,
          1115.865,
          1084.305,
          1013.3,
          1034.435,
          1097.75,
          1070.96,
          1099.38,
          1014.4549999999999,
          961.4200000000001,
          990.475,
          1042.5700000000002,
          1077.4050000000002,
          1006.975,
          1135.1999999999998,
          1092.015,
          1106.75,
          1037.3600000000001,
          1011.8050000000001,
          1087.815,
          1034.435,
          1034.435,
          1092.015,
          1026.585,
          1058.9299999999998,
          990.715,
          990.715,
          1013.06,
          1100.535,
          1034.435,
          1040.8899999999999,
          1051.395,
          1055.705,
          1055.445,
          1060.5900000000001,
          1061.54,
          1046.96,
          1038.76,
          1098.145,
          1036.9099999999999,
          1046.96,
          1087.815,
          1064.425,
          1094.3899999999999,
          1049.2649999999999,
          1015.7049999999999,
          1126.06,
          1057.185,
          1012.4300000000001,
          1097.75,
          989.62,
          1057.185,
          1015.7049999999999,
          1036.7649999999999,
          1009.495,
          1025.135,
          1038.2150000000001,
          1013.3,
          1047.79,
          993.3900000000001,
          987.855,
          1061.54,
          1091.9,
          989.1800000000001,
          1090.58,
          1025.005,
          1035.885,
          1014.4549999999999,
          1146.08,
          1036.7649999999999,
          1061.54,
          1025.135,
          1026.585,
          1035.46,
          1114.6350000000002,
          1063.895,
          1014.4549999999999,
          1046.81,
          941.6800000000001,
          1042.1950000000002,
          1092.74,
          1087.815,
          1025.73,
          1025.005,
          1037.3600000000001,
          1146.08,
          1026.585,
          1117.705,
          993.3900000000001,
          1081.54,
          1131.205,
          1049.2649999999999,
          1096.495,
          1053.6999999999998,
          1064.425,
          1034.435,
          1045.68,
          1093.94,
          990.715,
          1117.705,
          1156.045,
          1047.79,
          989.83,
          1035.885,
          1049.2649999999999,
          1092.74,
          998.53,
          1030.565,
          1049.2649999999999,
          1013.06,
          1061.54,
          1050.6399999999999,
          1059.5349999999999,
          1092.015,
          1043.5500000000002,
          1062.595,
          1098.145,
          1131.605,
          1051.395,
          1104.5500000000002,
          1097.525,
          1078.03,
          1120.82,
          1042.5700000000002,
          1047.3049999999998,
          1001.675,
          954.62,
          1034.435,
          1092.9099999999999,
          1040.0149999999999,
          1089.74,
          1086.06,
          1042.1950000000002,
          1014.4549999999999,
          992.36,
          1140.4,
          1041.87,
          1070.96,
          1013.3,
          1044.85,
          1131.205,
          1004.905,
          1141.935,
          1130.4,
          1099.38,
          1071.755,
          1113.1,
          1110.9,
          1044.85,
          1097.525,
          1126.46,
          1088.825,
          1011.8050000000001,
          1011.565,
          1013.3,
          1114.355,
          1099.3000000000002,
          1051.62,
          1014.4549999999999,
          1015.7049999999999,
          1013.3,
          1059.795,
          1035.46,
          1015.18,
          1087.815,
          992.835,
          1136.005,
          1042.5700000000002,
          1046.96,
          1089.815,
          1048.135,
          1070.96,
          1025.135,
          1136.005,
          1104.5500000000002,
          992.36,
          1014.4549999999999,
          1096.495,
          1049.2649999999999,
          1098.145,
          1099.585,
          1004.905,
          1045.83,
          1113.1,
          1110.62,
          992.715,
          1096.1,
          1036.9099999999999,
          1084.305,
          956.89,
          1089.5700000000002,
          1025.135,
          1074.6399999999999,
          1062.595,
          1076.06,
          997.475,
          1012.4300000000001,
          1025.005,
          993.3900000000001,
          966.4000000000001,
          1097.525,
          1110.62,
          1043.5500000000002,
          966.4000000000001,
          1094.335,
          991.9200000000001,
          1156.4450000000002,
          1072.5500000000002,
          1040.065,
          1106.605,
          1143.065,
          1035.885,
          1086.23,
          1080.625,
          1053.355,
          1156.4450000000002,
          1087.815,
          964.05,
          1061.54,
          1011.8050000000001,
          1038.2150000000001,
          1042.72,
          1098.145,
          1063.1,
          1078.15,
          1084.305,
          1023.2549999999999,
          1089.74,
          1087.815,
          1053.0949999999998,
          1040.065,
          1040.065,
          1044.85,
          1042.5700000000002,
          1011.565,
          990.715,
          1122.9099999999999,
          1013.825,
          1014.55,
          1044.85,
          1126.06,
          1065.9850000000001,
          1063.895,
          1098.145,
          1046.96,
          954.62,
          1059.5349999999999,
          1089.74,
          997.675,
          1025.135,
          1126.85,
          1005.01,
          1114.355,
          1088.825,
          1012.4300000000001,
          1065.48,
          1113.1,
          959.24,
          1065.9850000000001,
          986.56,
          993.0350000000001,
          1069.375,
          1042.72,
          1013.585,
          994.245,
          1059.5349999999999,
          1036.9099999999999,
          1134.8,
          983.99,
          1057.185,
          1036.0549999999998,
          1044.85,
          1148.995,
          1036.0549999999998,
          993.0350000000001,
          1044.85,
          1096.1,
          957.25,
          1025.135,
          1057.185,
          1053.0949999999998,
          1025.135,
          1050.79,
          1061.54,
          1059.5349999999999,
          1098.145,
          1147.815,
          1012.4300000000001,
          1052.75,
          1065.48,
          1062.595,
          1069.375,
          1063.1,
          1009.495,
          1042.5700000000002,
          1036.9099999999999,
          1110.62,
          1086.23,
          1053.6999999999998,
          1060.5900000000001,
          992.915,
          1013.06,
          1050.79,
          1038.385,
          1001.7750000000001,
          1093.94,
          1094.56,
          985.725,
          992.36,
          1024.4099999999999,
          1012.4300000000001,
          1120.5149999999999,
          990.475,
          1038.2150000000001,
          994.4449999999999,
          1028.06,
          1010.12,
          1113.1,
          1078.03,
          1062.595,
          1074.6399999999999,
          988.5350000000001,
          1099.1550000000002,
          992.36,
          1012.4300000000001,
          1053.6999999999998,
          1012.96,
          992.835,
          1011.565,
          1078.03,
          993.89,
          1042.5700000000002,
          1059.5349999999999,
          1036.9099999999999,
          1013.06,
          1063.895,
          1100.535,
          1106.75,
          1013.585,
          1092.9099999999999,
          1124.455,
          1053.0949999999998,
          950.6800000000001,
          1038.385,
          1103.17,
          1043.1750000000002,
          992.835,
          1059.795,
          1084.305,
          1025.73,
          1090.58,
          957.25,
          1042.1950000000002,
          1065.48,
          1044.85,
          1143.065,
          1052.75,
          994.245,
          1046.96,
          1048.135,
          1077.0700000000002,
          1114.6350000000002,
          1062.335,
          1131.605,
          1038.76,
          953.155,
          1057.185,
          1068.87,
          943.7049999999999,
          1080.625,
          1049.2649999999999,
          1065.9850000000001,
          1035.29,
          1100.535,
          1053.6999999999998,
          1063.895,
          1094.56,
          993.89,
          1100.535,
          1065.9850000000001,
          1126.85,
          1104.5500000000002,
          1070.96,
          1099.38,
          1042.72,
          1038.2150000000001,
          1012.4300000000001,
          1059.5349999999999,
          1063.895,
          1081.54,
          1041.04,
          1086.06,
          1084.305,
          1052.75,
          991.9200000000001,
          1099.585,
          1089.5700000000002,
          1038.2150000000001,
          1063.1,
          998.53,
          1100.535,
          1015.7049999999999,
          977.79,
          1104.4050000000002,
          1098.7600000000002,
          1014.4549999999999,
          1015.7049999999999,
          1038.76,
          992.36,
          943.7049999999999,
          1038.385,
          959.24,
          1045.83,
          1015.7049999999999,
          1084.305,
          1053.6999999999998,
          1034.435,
          1038.2150000000001,
          994.4449999999999,
          1089.5700000000002,
          1001.675,
          998.53,
          1010.3599999999999,
          1062.595,
          1047.3049999999998,
          997.675,
          953.155,
          1097.525,
          1042.5700000000002,
          1009.495,
          1014.4549999999999,
          1014.55,
          1047.79,
          1047.79,
          933.24,
          1060.49,
          1089.5700000000002,
          1086.06,
          1137.815,
          989.1800000000001,
          1062.595,
          943.7049999999999,
          1068.87,
          1106.8850000000002,
          1089.5700000000002,
          1096.1,
          1059.5349999999999,
          1011.565,
          1041.04,
          1159.45,
          990.475,
          1057.185,
          1062.6799999999998,
          992.36,
          1042.5700000000002,
          1062.8400000000001,
          1035.46,
          1040.8899999999999,
          992.835,
          1065.48,
          1015.7049999999999,
          1038.76,
          1139.02,
          1015.7049999999999,
          1070.96,
          1040.065,
          1011.8050000000001,
          1035.885,
          1038.385,
          1042.72,
          1054.23,
          1013.3,
          990.475,
          1096.7199999999998,
          1025.8600000000001,
          1025.135,
          1117.4,
          1053.6999999999998,
          1120.82,
          1088.6550000000002,
          1040.065,
          946.0899999999999,
          1097.525,
          1036.9099999999999,
          1121.6100000000001,
          1093.77,
          1099.3000000000002,
          1130.4,
          1077.2350000000001,
          1011.565,
          1094.335,
          1059.19,
          1099.38,
          1003.745,
          1059.5349999999999,
          1023.2549999999999,
          1075.65,
          1053.355,
          992.835,
          1011.8050000000001,
          1059.5349999999999,
          1038.385,
          1013.825,
          1096.495,
          1011.8050000000001,
          1038.2150000000001,
          1044.68,
          1052.75,
          1053.0949999999998,
          1093.94,
          1059.9850000000001,
          1040.8899999999999,
          1058.245,
          1038.76,
          1059.5349999999999,
          1044.305,
          1098.9050000000002,
          1052.225,
          1093.77,
          1057.185,
          1011.8050000000001,
          1043.1750000000002,
          1025.005,
          1126.85,
          1000.62,
          994.4449999999999,
          1081.54,
          1057.185,
          1090.58,
          1065.48,
          1035.29,
          1045.83,
          1063.895,
          1059.19,
          1012.4300000000001,
          1049.2649999999999,
          1042.5700000000002,
          1053.0949999999998,
          1059.795,
          1049.2649999999999,
          1124.76,
          1014.4549999999999,
          1106.605,
          1063.1
         ],
         "xaxis": "x",
         "yaxis": "y"
        }
       ],
       "layout": {
        "barmode": "relative",
        "legend": {
         "tracegroupgap": 0
        },
        "margin": {
         "t": 60
        },
        "template": {
         "data": {
          "bar": [
           {
            "error_x": {
             "color": "#2a3f5f"
            },
            "error_y": {
             "color": "#2a3f5f"
            },
            "marker": {
             "line": {
              "color": "#E5ECF6",
              "width": 0.5
             },
             "pattern": {
              "fillmode": "overlay",
              "size": 10,
              "solidity": 0.2
             }
            },
            "type": "bar"
           }
          ],
          "barpolar": [
           {
            "marker": {
             "line": {
              "color": "#E5ECF6",
              "width": 0.5
             },
             "pattern": {
              "fillmode": "overlay",
              "size": 10,
              "solidity": 0.2
             }
            },
            "type": "barpolar"
           }
          ],
          "carpet": [
           {
            "aaxis": {
             "endlinecolor": "#2a3f5f",
             "gridcolor": "white",
             "linecolor": "white",
             "minorgridcolor": "white",
             "startlinecolor": "#2a3f5f"
            },
            "baxis": {
             "endlinecolor": "#2a3f5f",
             "gridcolor": "white",
             "linecolor": "white",
             "minorgridcolor": "white",
             "startlinecolor": "#2a3f5f"
            },
            "type": "carpet"
           }
          ],
          "choropleth": [
           {
            "colorbar": {
             "outlinewidth": 0,
             "ticks": ""
            },
            "type": "choropleth"
           }
          ],
          "contour": [
           {
            "colorbar": {
             "outlinewidth": 0,
             "ticks": ""
            },
            "colorscale": [
             [
              0,
              "#0d0887"
             ],
             [
              0.1111111111111111,
              "#46039f"
             ],
             [
              0.2222222222222222,
              "#7201a8"
             ],
             [
              0.3333333333333333,
              "#9c179e"
             ],
             [
              0.4444444444444444,
              "#bd3786"
             ],
             [
              0.5555555555555556,
              "#d8576b"
             ],
             [
              0.6666666666666666,
              "#ed7953"
             ],
             [
              0.7777777777777778,
              "#fb9f3a"
             ],
             [
              0.8888888888888888,
              "#fdca26"
             ],
             [
              1,
              "#f0f921"
             ]
            ],
            "type": "contour"
           }
          ],
          "contourcarpet": [
           {
            "colorbar": {
             "outlinewidth": 0,
             "ticks": ""
            },
            "type": "contourcarpet"
           }
          ],
          "heatmap": [
           {
            "colorbar": {
             "outlinewidth": 0,
             "ticks": ""
            },
            "colorscale": [
             [
              0,
              "#0d0887"
             ],
             [
              0.1111111111111111,
              "#46039f"
             ],
             [
              0.2222222222222222,
              "#7201a8"
             ],
             [
              0.3333333333333333,
              "#9c179e"
             ],
             [
              0.4444444444444444,
              "#bd3786"
             ],
             [
              0.5555555555555556,
              "#d8576b"
             ],
             [
              0.6666666666666666,
              "#ed7953"
             ],
             [
              0.7777777777777778,
              "#fb9f3a"
             ],
             [
              0.8888888888888888,
              "#fdca26"
             ],
             [
              1,
              "#f0f921"
             ]
            ],
            "type": "heatmap"
           }
          ],
          "heatmapgl": [
           {
            "colorbar": {
             "outlinewidth": 0,
             "ticks": ""
            },
            "colorscale": [
             [
              0,
              "#0d0887"
             ],
             [
              0.1111111111111111,
              "#46039f"
             ],
             [
              0.2222222222222222,
              "#7201a8"
             ],
             [
              0.3333333333333333,
              "#9c179e"
             ],
             [
              0.4444444444444444,
              "#bd3786"
             ],
             [
              0.5555555555555556,
              "#d8576b"
             ],
             [
              0.6666666666666666,
              "#ed7953"
             ],
             [
              0.7777777777777778,
              "#fb9f3a"
             ],
             [
              0.8888888888888888,
              "#fdca26"
             ],
             [
              1,
              "#f0f921"
             ]
            ],
            "type": "heatmapgl"
           }
          ],
          "histogram": [
           {
            "marker": {
             "pattern": {
              "fillmode": "overlay",
              "size": 10,
              "solidity": 0.2
             }
            },
            "type": "histogram"
           }
          ],
          "histogram2d": [
           {
            "colorbar": {
             "outlinewidth": 0,
             "ticks": ""
            },
            "colorscale": [
             [
              0,
              "#0d0887"
             ],
             [
              0.1111111111111111,
              "#46039f"
             ],
             [
              0.2222222222222222,
              "#7201a8"
             ],
             [
              0.3333333333333333,
              "#9c179e"
             ],
             [
              0.4444444444444444,
              "#bd3786"
             ],
             [
              0.5555555555555556,
              "#d8576b"
             ],
             [
              0.6666666666666666,
              "#ed7953"
             ],
             [
              0.7777777777777778,
              "#fb9f3a"
             ],
             [
              0.8888888888888888,
              "#fdca26"
             ],
             [
              1,
              "#f0f921"
             ]
            ],
            "type": "histogram2d"
           }
          ],
          "histogram2dcontour": [
           {
            "colorbar": {
             "outlinewidth": 0,
             "ticks": ""
            },
            "colorscale": [
             [
              0,
              "#0d0887"
             ],
             [
              0.1111111111111111,
              "#46039f"
             ],
             [
              0.2222222222222222,
              "#7201a8"
             ],
             [
              0.3333333333333333,
              "#9c179e"
             ],
             [
              0.4444444444444444,
              "#bd3786"
             ],
             [
              0.5555555555555556,
              "#d8576b"
             ],
             [
              0.6666666666666666,
              "#ed7953"
             ],
             [
              0.7777777777777778,
              "#fb9f3a"
             ],
             [
              0.8888888888888888,
              "#fdca26"
             ],
             [
              1,
              "#f0f921"
             ]
            ],
            "type": "histogram2dcontour"
           }
          ],
          "mesh3d": [
           {
            "colorbar": {
             "outlinewidth": 0,
             "ticks": ""
            },
            "type": "mesh3d"
           }
          ],
          "parcoords": [
           {
            "line": {
             "colorbar": {
              "outlinewidth": 0,
              "ticks": ""
             }
            },
            "type": "parcoords"
           }
          ],
          "pie": [
           {
            "automargin": true,
            "type": "pie"
           }
          ],
          "scatter": [
           {
            "fillpattern": {
             "fillmode": "overlay",
             "size": 10,
             "solidity": 0.2
            },
            "type": "scatter"
           }
          ],
          "scatter3d": [
           {
            "line": {
             "colorbar": {
              "outlinewidth": 0,
              "ticks": ""
             }
            },
            "marker": {
             "colorbar": {
              "outlinewidth": 0,
              "ticks": ""
             }
            },
            "type": "scatter3d"
           }
          ],
          "scattercarpet": [
           {
            "marker": {
             "colorbar": {
              "outlinewidth": 0,
              "ticks": ""
             }
            },
            "type": "scattercarpet"
           }
          ],
          "scattergeo": [
           {
            "marker": {
             "colorbar": {
              "outlinewidth": 0,
              "ticks": ""
             }
            },
            "type": "scattergeo"
           }
          ],
          "scattergl": [
           {
            "marker": {
             "colorbar": {
              "outlinewidth": 0,
              "ticks": ""
             }
            },
            "type": "scattergl"
           }
          ],
          "scattermapbox": [
           {
            "marker": {
             "colorbar": {
              "outlinewidth": 0,
              "ticks": ""
             }
            },
            "type": "scattermapbox"
           }
          ],
          "scatterpolar": [
           {
            "marker": {
             "colorbar": {
              "outlinewidth": 0,
              "ticks": ""
             }
            },
            "type": "scatterpolar"
           }
          ],
          "scatterpolargl": [
           {
            "marker": {
             "colorbar": {
              "outlinewidth": 0,
              "ticks": ""
             }
            },
            "type": "scatterpolargl"
           }
          ],
          "scatterternary": [
           {
            "marker": {
             "colorbar": {
              "outlinewidth": 0,
              "ticks": ""
             }
            },
            "type": "scatterternary"
           }
          ],
          "surface": [
           {
            "colorbar": {
             "outlinewidth": 0,
             "ticks": ""
            },
            "colorscale": [
             [
              0,
              "#0d0887"
             ],
             [
              0.1111111111111111,
              "#46039f"
             ],
             [
              0.2222222222222222,
              "#7201a8"
             ],
             [
              0.3333333333333333,
              "#9c179e"
             ],
             [
              0.4444444444444444,
              "#bd3786"
             ],
             [
              0.5555555555555556,
              "#d8576b"
             ],
             [
              0.6666666666666666,
              "#ed7953"
             ],
             [
              0.7777777777777778,
              "#fb9f3a"
             ],
             [
              0.8888888888888888,
              "#fdca26"
             ],
             [
              1,
              "#f0f921"
             ]
            ],
            "type": "surface"
           }
          ],
          "table": [
           {
            "cells": {
             "fill": {
              "color": "#EBF0F8"
             },
             "line": {
              "color": "white"
             }
            },
            "header": {
             "fill": {
              "color": "#C8D4E3"
             },
             "line": {
              "color": "white"
             }
            },
            "type": "table"
           }
          ]
         },
         "layout": {
          "annotationdefaults": {
           "arrowcolor": "#2a3f5f",
           "arrowhead": 0,
           "arrowwidth": 1
          },
          "autotypenumbers": "strict",
          "coloraxis": {
           "colorbar": {
            "outlinewidth": 0,
            "ticks": ""
           }
          },
          "colorscale": {
           "diverging": [
            [
             0,
             "#8e0152"
            ],
            [
             0.1,
             "#c51b7d"
            ],
            [
             0.2,
             "#de77ae"
            ],
            [
             0.3,
             "#f1b6da"
            ],
            [
             0.4,
             "#fde0ef"
            ],
            [
             0.5,
             "#f7f7f7"
            ],
            [
             0.6,
             "#e6f5d0"
            ],
            [
             0.7,
             "#b8e186"
            ],
            [
             0.8,
             "#7fbc41"
            ],
            [
             0.9,
             "#4d9221"
            ],
            [
             1,
             "#276419"
            ]
           ],
           "sequential": [
            [
             0,
             "#0d0887"
            ],
            [
             0.1111111111111111,
             "#46039f"
            ],
            [
             0.2222222222222222,
             "#7201a8"
            ],
            [
             0.3333333333333333,
             "#9c179e"
            ],
            [
             0.4444444444444444,
             "#bd3786"
            ],
            [
             0.5555555555555556,
             "#d8576b"
            ],
            [
             0.6666666666666666,
             "#ed7953"
            ],
            [
             0.7777777777777778,
             "#fb9f3a"
            ],
            [
             0.8888888888888888,
             "#fdca26"
            ],
            [
             1,
             "#f0f921"
            ]
           ],
           "sequentialminus": [
            [
             0,
             "#0d0887"
            ],
            [
             0.1111111111111111,
             "#46039f"
            ],
            [
             0.2222222222222222,
             "#7201a8"
            ],
            [
             0.3333333333333333,
             "#9c179e"
            ],
            [
             0.4444444444444444,
             "#bd3786"
            ],
            [
             0.5555555555555556,
             "#d8576b"
            ],
            [
             0.6666666666666666,
             "#ed7953"
            ],
            [
             0.7777777777777778,
             "#fb9f3a"
            ],
            [
             0.8888888888888888,
             "#fdca26"
            ],
            [
             1,
             "#f0f921"
            ]
           ]
          },
          "colorway": [
           "#636efa",
           "#EF553B",
           "#00cc96",
           "#ab63fa",
           "#FFA15A",
           "#19d3f3",
           "#FF6692",
           "#B6E880",
           "#FF97FF",
           "#FECB52"
          ],
          "font": {
           "color": "#2a3f5f"
          },
          "geo": {
           "bgcolor": "white",
           "lakecolor": "white",
           "landcolor": "#E5ECF6",
           "showlakes": true,
           "showland": true,
           "subunitcolor": "white"
          },
          "hoverlabel": {
           "align": "left"
          },
          "hovermode": "closest",
          "mapbox": {
           "style": "light"
          },
          "paper_bgcolor": "white",
          "plot_bgcolor": "#E5ECF6",
          "polar": {
           "angularaxis": {
            "gridcolor": "white",
            "linecolor": "white",
            "ticks": ""
           },
           "bgcolor": "#E5ECF6",
           "radialaxis": {
            "gridcolor": "white",
            "linecolor": "white",
            "ticks": ""
           }
          },
          "scene": {
           "xaxis": {
            "backgroundcolor": "#E5ECF6",
            "gridcolor": "white",
            "gridwidth": 2,
            "linecolor": "white",
            "showbackground": true,
            "ticks": "",
            "zerolinecolor": "white"
           },
           "yaxis": {
            "backgroundcolor": "#E5ECF6",
            "gridcolor": "white",
            "gridwidth": 2,
            "linecolor": "white",
            "showbackground": true,
            "ticks": "",
            "zerolinecolor": "white"
           },
           "zaxis": {
            "backgroundcolor": "#E5ECF6",
            "gridcolor": "white",
            "gridwidth": 2,
            "linecolor": "white",
            "showbackground": true,
            "ticks": "",
            "zerolinecolor": "white"
           }
          },
          "shapedefaults": {
           "line": {
            "color": "#2a3f5f"
           }
          },
          "ternary": {
           "aaxis": {
            "gridcolor": "white",
            "linecolor": "white",
            "ticks": ""
           },
           "baxis": {
            "gridcolor": "white",
            "linecolor": "white",
            "ticks": ""
           },
           "bgcolor": "#E5ECF6",
           "caxis": {
            "gridcolor": "white",
            "linecolor": "white",
            "ticks": ""
           }
          },
          "title": {
           "x": 0.05
          },
          "xaxis": {
           "automargin": true,
           "gridcolor": "white",
           "linecolor": "white",
           "ticks": "",
           "title": {
            "standoff": 15
           },
           "zerolinecolor": "white",
           "zerolinewidth": 2
          },
          "yaxis": {
           "automargin": true,
           "gridcolor": "white",
           "linecolor": "white",
           "ticks": "",
           "title": {
            "standoff": 15
           },
           "zerolinecolor": "white",
           "zerolinewidth": 2
          }
         }
        },
        "xaxis": {
         "anchor": "y",
         "domain": [
          0,
          1
         ],
         "title": {
          "text": "Bootstrapped Medians"
         }
        },
        "yaxis": {
         "anchor": "x",
         "domain": [
          0,
          1
         ],
         "title": {
          "text": "probability density"
         }
        }
       }
      },
      "text/html": [
       "<div>                            <div id=\"f49b4c18-dc9b-4954-a597-f4d9b3880e31\" class=\"plotly-graph-div\" style=\"height:525px; width:100%;\"></div>            <script type=\"text/javascript\">                require([\"plotly\"], function(Plotly) {                    window.PLOTLYENV=window.PLOTLYENV || {};                                    if (document.getElementById(\"f49b4c18-dc9b-4954-a597-f4d9b3880e31\")) {                    Plotly.newPlot(                        \"f49b4c18-dc9b-4954-a597-f4d9b3880e31\",                        [{\"alignmentgroup\":\"True\",\"bingroup\":\"x\",\"histnorm\":\"probability density\",\"hovertemplate\":\"Bootstrapped Medians=%{x}\\u003cbr\\u003eprobability density=%{y}\\u003cextra\\u003e\\u003c\\u002fextra\\u003e\",\"legendgroup\":\"\",\"marker\":{\"color\":\"#636efa\",\"pattern\":{\"shape\":\"\"}},\"name\":\"\",\"nbinsx\":10,\"offsetgroup\":\"\",\"orientation\":\"v\",\"showlegend\":false,\"x\":[1063.895,1038.385,1120.82,1049.2649999999999,1079.7350000000001,1126.06,1026.7549999999999,1053.0949999999998,1036.9099999999999,1035.885,1069.375,1078.03,1010.12,1034.435,1062.8400000000001,1034.435,1046.96,956.89,1119.2150000000001,1042.72,1053.0949999999998,1088.6550000000002,1070.96,1070.96,1099.38,1049.2649999999999,988.5350000000001,1053.6999999999998,1097.75,1042.72,1023.8499999999999,1088.6550000000002,1110.62,1053.355,1092.9099999999999,1062.595,992.36,1078.03,1052.75,1049.2649999999999,1097.525,1057.185,1013.06,1009.495,1024.4099999999999,1043.5500000000002,1085.22,1026.7549999999999,990.915,1053.0949999999998,1043.1750000000002,984.4300000000001,1046.96,1138.2150000000001,1046.81,1014.4549999999999,961.87,977.79,1035.29,1042.5700000000002,1097.525,1078.03,1092.9099999999999,1024.4099999999999,1042.72,1094.56,1063.1,1090.58,992.835,1043.5500000000002,1010.12,985.965,1103.395,991.8,1045.68,1059.795,1043.5500000000002,1042.72,1050.6399999999999,1097.73,1099.1550000000002,1059.5349999999999,1114.6350000000002,1114.6350000000002,1100.535,1060.5900000000001,1130.4,1049.2649999999999,1122.9099999999999,1110.9,1065.9850000000001,1047.155,1148.2649999999999,1012.4300000000001,1074.6399999999999,1098.7600000000002,1126.85,1106.605,1013.3,1087.815,1039.42,992.835,1046.96,989.1800000000001,1011.565,1084.305,1025.135,1090.58,1049.2649999999999,1057.185,1042.5700000000002,1063.895,1062.335,1151.8600000000001,1052.225,1096.495,1042.1950000000002,1119.2150000000001,1043.5500000000002,1014.4549999999999,1044.85,973.04,1112.1550000000002,1042.72,1089.5700000000002,1079.7350000000001,1025.135,1049.2649999999999,1036.9099999999999,1036.0549999999998,1068.0749999999998,1151.8600000000001,1044.65,1053.0949999999998,1080.625,1042.5700000000002,1040.065,1044.305,1090.58,1046.96,1047.3049999999998,1080.625,1057.185,1130.4,1026.585,1060.5900000000001,1038.2150000000001,1117.4,1060.49,1059.5349999999999,1059.5349999999999,1035.885,1092.9099999999999,1030.565,1041.04,1042.5700000000002,1035.885,1014.31,1010.3599999999999,1013.825,1119.005,1097.525,1004.905,1009.495,1089.74,992.835,1047.3049999999998,1087.815,1084.305,983.99,975.22,1097.525,991.9200000000001,1069.375,1121.6100000000001,1025.135,1014.55,1063.895,1046.96,1084.305,1025.73,961.87,992.36,1090.58,1119.795,1040.8899999999999,1057.185,1053.1399999999999,1059.5349999999999,1065.9850000000001,1002.4549999999999,1092.74,1059.9850000000001,1126.06,961.87,1117.75,1038.5900000000001,1085.22,993.0350000000001,1000.62,1049.2649999999999,1042.5700000000002,1085.22,1059.19,992.36,1114.355,1110.9,1013.825,1130.4,1048.135,948.495,1013.06,1035.885,998.53,1060.49,1040.87,941.6800000000001,1106.75,1096.1,991.8,1084.305,1001.59,1003.12,1042.1950000000002,998.53,1025.73,1055.445,992.715,1042.5700000000002,1004.905,1087.815,1024.4099999999999,1063.1,1084.305,1065.9850000000001,1062.595,961.78,1084.305,1045.83,1035.885,1011.8050000000001,1045.68,1014.55,1006.35,1059.19,1126.85,991.8,1049.2649999999999,1093.94,1097.75,1063.895,1100.535,1074.6399999999999,1206.445,1060.5900000000001,1098.7600000000002,988.2950000000001,1025.135,1038.76,1100.535,1042.5700000000002,1037.3600000000001,1053.0949999999998,1053.355,1003.12,1098.145,1061.54,1092.9099999999999,994.4449999999999,1065.48,1091.9,1025.135,1006.35,1089.74,1113.1,1025.135,1065.9850000000001,1110.62,943.7049999999999,1078.03,1044.85,1120.82,1043.5500000000002,1057.185,1044.85,1006.35,1099.525,1040.065,1087.815,1004.905,1084.305,1035.46,1040.065,994.245,1110.62,1071.495,1047.155,1114.6350000000002,1037.7350000000001,1084.305,1099.38,1025.135,1025.73,1064.685,941.6800000000001,1040.065,1006.35,1097.525,1061.54,1099.38,1014.31,1062.335,1012.4300000000001,1063.895,1063.895,997.475,1045.83,1097.525,1053.6999999999998,1048.51,993.0350000000001,1092.74,1069.375,1049.2649999999999,991.8,1042.5700000000002,1195.56,1061.54,1089.5700000000002,1106.75,1013.825,1053.0949999999998,1114.355,1094.3899999999999,1000.8199999999999,983.99,1057.185,968.06,992.835,1090.58,1007.2149999999999,1099.525,1119.2150000000001,1074.6399999999999,1024.4099999999999,1042.345,1122.9099999999999,1042.345,1047.79,1116.145,1080.88,1119.2150000000001,1042.345,1042.5700000000002,1098.145,993.77,1106.605,1006.975,1006.35,1074.6399999999999,1014.4549999999999,1099.525,1080.625,1036.9099999999999,1047.79,1078.03,1009.495,1114.6350000000002,1025.135,953.155,988.5350000000001,984.4300000000001,1092.93,1014.4549999999999,1049.2649999999999,988.5350000000001,1053.0949999999998,1089.5700000000002,1053.6999999999998,988.2950000000001,1057.185,1035.885,1052.75,1040.8899999999999,1059.5349999999999,950.3199999999999,1097.525,1143.065,1092.74,988.5350000000001,1061.54,1027.335,1002.8900000000001,1087.815,1063.1,1048.135,1025.8600000000001,1100.535,954.62,1013.3,1062.595,994.245,1035.885,1065.9850000000001,1013.3,1078.03,1096.495,1100.535,1109.795,1070.96,1061.54,1003.12,1012.4300000000001,1096.1,1042.345,991.8,1070.96,1047.79,1053.6999999999998,997.675,1025.135,1028.06,993.3900000000001,1089.74,1085.22,990.715,1057.185,1092.74,1062.0749999999998,1003.12,1180.995,1077.4050000000002,1063.1,1040.065,1081.54,1156.4450000000002,1042.345,942.92,1059.5349999999999,1093.94,1207.23,1011.565,1013.06,1048.135,1036.9099999999999,1119.2150000000001,943.825,994.4449999999999,964.05,1074.0900000000001,1013.06,1023.885,1062.335,1047.79,991.8,1097.75,1061.54,1115.865,1084.305,1013.3,1034.435,1097.75,1070.96,1099.38,1014.4549999999999,961.4200000000001,990.475,1042.5700000000002,1077.4050000000002,1006.975,1135.1999999999998,1092.015,1106.75,1037.3600000000001,1011.8050000000001,1087.815,1034.435,1034.435,1092.015,1026.585,1058.9299999999998,990.715,990.715,1013.06,1100.535,1034.435,1040.8899999999999,1051.395,1055.705,1055.445,1060.5900000000001,1061.54,1046.96,1038.76,1098.145,1036.9099999999999,1046.96,1087.815,1064.425,1094.3899999999999,1049.2649999999999,1015.7049999999999,1126.06,1057.185,1012.4300000000001,1097.75,989.62,1057.185,1015.7049999999999,1036.7649999999999,1009.495,1025.135,1038.2150000000001,1013.3,1047.79,993.3900000000001,987.855,1061.54,1091.9,989.1800000000001,1090.58,1025.005,1035.885,1014.4549999999999,1146.08,1036.7649999999999,1061.54,1025.135,1026.585,1035.46,1114.6350000000002,1063.895,1014.4549999999999,1046.81,941.6800000000001,1042.1950000000002,1092.74,1087.815,1025.73,1025.005,1037.3600000000001,1146.08,1026.585,1117.705,993.3900000000001,1081.54,1131.205,1049.2649999999999,1096.495,1053.6999999999998,1064.425,1034.435,1045.68,1093.94,990.715,1117.705,1156.045,1047.79,989.83,1035.885,1049.2649999999999,1092.74,998.53,1030.565,1049.2649999999999,1013.06,1061.54,1050.6399999999999,1059.5349999999999,1092.015,1043.5500000000002,1062.595,1098.145,1131.605,1051.395,1104.5500000000002,1097.525,1078.03,1120.82,1042.5700000000002,1047.3049999999998,1001.675,954.62,1034.435,1092.9099999999999,1040.0149999999999,1089.74,1086.06,1042.1950000000002,1014.4549999999999,992.36,1140.4,1041.87,1070.96,1013.3,1044.85,1131.205,1004.905,1141.935,1130.4,1099.38,1071.755,1113.1,1110.9,1044.85,1097.525,1126.46,1088.825,1011.8050000000001,1011.565,1013.3,1114.355,1099.3000000000002,1051.62,1014.4549999999999,1015.7049999999999,1013.3,1059.795,1035.46,1015.18,1087.815,992.835,1136.005,1042.5700000000002,1046.96,1089.815,1048.135,1070.96,1025.135,1136.005,1104.5500000000002,992.36,1014.4549999999999,1096.495,1049.2649999999999,1098.145,1099.585,1004.905,1045.83,1113.1,1110.62,992.715,1096.1,1036.9099999999999,1084.305,956.89,1089.5700000000002,1025.135,1074.6399999999999,1062.595,1076.06,997.475,1012.4300000000001,1025.005,993.3900000000001,966.4000000000001,1097.525,1110.62,1043.5500000000002,966.4000000000001,1094.335,991.9200000000001,1156.4450000000002,1072.5500000000002,1040.065,1106.605,1143.065,1035.885,1086.23,1080.625,1053.355,1156.4450000000002,1087.815,964.05,1061.54,1011.8050000000001,1038.2150000000001,1042.72,1098.145,1063.1,1078.15,1084.305,1023.2549999999999,1089.74,1087.815,1053.0949999999998,1040.065,1040.065,1044.85,1042.5700000000002,1011.565,990.715,1122.9099999999999,1013.825,1014.55,1044.85,1126.06,1065.9850000000001,1063.895,1098.145,1046.96,954.62,1059.5349999999999,1089.74,997.675,1025.135,1126.85,1005.01,1114.355,1088.825,1012.4300000000001,1065.48,1113.1,959.24,1065.9850000000001,986.56,993.0350000000001,1069.375,1042.72,1013.585,994.245,1059.5349999999999,1036.9099999999999,1134.8,983.99,1057.185,1036.0549999999998,1044.85,1148.995,1036.0549999999998,993.0350000000001,1044.85,1096.1,957.25,1025.135,1057.185,1053.0949999999998,1025.135,1050.79,1061.54,1059.5349999999999,1098.145,1147.815,1012.4300000000001,1052.75,1065.48,1062.595,1069.375,1063.1,1009.495,1042.5700000000002,1036.9099999999999,1110.62,1086.23,1053.6999999999998,1060.5900000000001,992.915,1013.06,1050.79,1038.385,1001.7750000000001,1093.94,1094.56,985.725,992.36,1024.4099999999999,1012.4300000000001,1120.5149999999999,990.475,1038.2150000000001,994.4449999999999,1028.06,1010.12,1113.1,1078.03,1062.595,1074.6399999999999,988.5350000000001,1099.1550000000002,992.36,1012.4300000000001,1053.6999999999998,1012.96,992.835,1011.565,1078.03,993.89,1042.5700000000002,1059.5349999999999,1036.9099999999999,1013.06,1063.895,1100.535,1106.75,1013.585,1092.9099999999999,1124.455,1053.0949999999998,950.6800000000001,1038.385,1103.17,1043.1750000000002,992.835,1059.795,1084.305,1025.73,1090.58,957.25,1042.1950000000002,1065.48,1044.85,1143.065,1052.75,994.245,1046.96,1048.135,1077.0700000000002,1114.6350000000002,1062.335,1131.605,1038.76,953.155,1057.185,1068.87,943.7049999999999,1080.625,1049.2649999999999,1065.9850000000001,1035.29,1100.535,1053.6999999999998,1063.895,1094.56,993.89,1100.535,1065.9850000000001,1126.85,1104.5500000000002,1070.96,1099.38,1042.72,1038.2150000000001,1012.4300000000001,1059.5349999999999,1063.895,1081.54,1041.04,1086.06,1084.305,1052.75,991.9200000000001,1099.585,1089.5700000000002,1038.2150000000001,1063.1,998.53,1100.535,1015.7049999999999,977.79,1104.4050000000002,1098.7600000000002,1014.4549999999999,1015.7049999999999,1038.76,992.36,943.7049999999999,1038.385,959.24,1045.83,1015.7049999999999,1084.305,1053.6999999999998,1034.435,1038.2150000000001,994.4449999999999,1089.5700000000002,1001.675,998.53,1010.3599999999999,1062.595,1047.3049999999998,997.675,953.155,1097.525,1042.5700000000002,1009.495,1014.4549999999999,1014.55,1047.79,1047.79,933.24,1060.49,1089.5700000000002,1086.06,1137.815,989.1800000000001,1062.595,943.7049999999999,1068.87,1106.8850000000002,1089.5700000000002,1096.1,1059.5349999999999,1011.565,1041.04,1159.45,990.475,1057.185,1062.6799999999998,992.36,1042.5700000000002,1062.8400000000001,1035.46,1040.8899999999999,992.835,1065.48,1015.7049999999999,1038.76,1139.02,1015.7049999999999,1070.96,1040.065,1011.8050000000001,1035.885,1038.385,1042.72,1054.23,1013.3,990.475,1096.7199999999998,1025.8600000000001,1025.135,1117.4,1053.6999999999998,1120.82,1088.6550000000002,1040.065,946.0899999999999,1097.525,1036.9099999999999,1121.6100000000001,1093.77,1099.3000000000002,1130.4,1077.2350000000001,1011.565,1094.335,1059.19,1099.38,1003.745,1059.5349999999999,1023.2549999999999,1075.65,1053.355,992.835,1011.8050000000001,1059.5349999999999,1038.385,1013.825,1096.495,1011.8050000000001,1038.2150000000001,1044.68,1052.75,1053.0949999999998,1093.94,1059.9850000000001,1040.8899999999999,1058.245,1038.76,1059.5349999999999,1044.305,1098.9050000000002,1052.225,1093.77,1057.185,1011.8050000000001,1043.1750000000002,1025.005,1126.85,1000.62,994.4449999999999,1081.54,1057.185,1090.58,1065.48,1035.29,1045.83,1063.895,1059.19,1012.4300000000001,1049.2649999999999,1042.5700000000002,1053.0949999999998,1059.795,1049.2649999999999,1124.76,1014.4549999999999,1106.605,1063.1],\"xaxis\":\"x\",\"yaxis\":\"y\",\"type\":\"histogram\"}],                        {\"template\":{\"data\":{\"histogram2dcontour\":[{\"type\":\"histogram2dcontour\",\"colorbar\":{\"outlinewidth\":0,\"ticks\":\"\"},\"colorscale\":[[0.0,\"#0d0887\"],[0.1111111111111111,\"#46039f\"],[0.2222222222222222,\"#7201a8\"],[0.3333333333333333,\"#9c179e\"],[0.4444444444444444,\"#bd3786\"],[0.5555555555555556,\"#d8576b\"],[0.6666666666666666,\"#ed7953\"],[0.7777777777777778,\"#fb9f3a\"],[0.8888888888888888,\"#fdca26\"],[1.0,\"#f0f921\"]]}],\"choropleth\":[{\"type\":\"choropleth\",\"colorbar\":{\"outlinewidth\":0,\"ticks\":\"\"}}],\"histogram2d\":[{\"type\":\"histogram2d\",\"colorbar\":{\"outlinewidth\":0,\"ticks\":\"\"},\"colorscale\":[[0.0,\"#0d0887\"],[0.1111111111111111,\"#46039f\"],[0.2222222222222222,\"#7201a8\"],[0.3333333333333333,\"#9c179e\"],[0.4444444444444444,\"#bd3786\"],[0.5555555555555556,\"#d8576b\"],[0.6666666666666666,\"#ed7953\"],[0.7777777777777778,\"#fb9f3a\"],[0.8888888888888888,\"#fdca26\"],[1.0,\"#f0f921\"]]}],\"heatmap\":[{\"type\":\"heatmap\",\"colorbar\":{\"outlinewidth\":0,\"ticks\":\"\"},\"colorscale\":[[0.0,\"#0d0887\"],[0.1111111111111111,\"#46039f\"],[0.2222222222222222,\"#7201a8\"],[0.3333333333333333,\"#9c179e\"],[0.4444444444444444,\"#bd3786\"],[0.5555555555555556,\"#d8576b\"],[0.6666666666666666,\"#ed7953\"],[0.7777777777777778,\"#fb9f3a\"],[0.8888888888888888,\"#fdca26\"],[1.0,\"#f0f921\"]]}],\"heatmapgl\":[{\"type\":\"heatmapgl\",\"colorbar\":{\"outlinewidth\":0,\"ticks\":\"\"},\"colorscale\":[[0.0,\"#0d0887\"],[0.1111111111111111,\"#46039f\"],[0.2222222222222222,\"#7201a8\"],[0.3333333333333333,\"#9c179e\"],[0.4444444444444444,\"#bd3786\"],[0.5555555555555556,\"#d8576b\"],[0.6666666666666666,\"#ed7953\"],[0.7777777777777778,\"#fb9f3a\"],[0.8888888888888888,\"#fdca26\"],[1.0,\"#f0f921\"]]}],\"contourcarpet\":[{\"type\":\"contourcarpet\",\"colorbar\":{\"outlinewidth\":0,\"ticks\":\"\"}}],\"contour\":[{\"type\":\"contour\",\"colorbar\":{\"outlinewidth\":0,\"ticks\":\"\"},\"colorscale\":[[0.0,\"#0d0887\"],[0.1111111111111111,\"#46039f\"],[0.2222222222222222,\"#7201a8\"],[0.3333333333333333,\"#9c179e\"],[0.4444444444444444,\"#bd3786\"],[0.5555555555555556,\"#d8576b\"],[0.6666666666666666,\"#ed7953\"],[0.7777777777777778,\"#fb9f3a\"],[0.8888888888888888,\"#fdca26\"],[1.0,\"#f0f921\"]]}],\"surface\":[{\"type\":\"surface\",\"colorbar\":{\"outlinewidth\":0,\"ticks\":\"\"},\"colorscale\":[[0.0,\"#0d0887\"],[0.1111111111111111,\"#46039f\"],[0.2222222222222222,\"#7201a8\"],[0.3333333333333333,\"#9c179e\"],[0.4444444444444444,\"#bd3786\"],[0.5555555555555556,\"#d8576b\"],[0.6666666666666666,\"#ed7953\"],[0.7777777777777778,\"#fb9f3a\"],[0.8888888888888888,\"#fdca26\"],[1.0,\"#f0f921\"]]}],\"mesh3d\":[{\"type\":\"mesh3d\",\"colorbar\":{\"outlinewidth\":0,\"ticks\":\"\"}}],\"scatter\":[{\"fillpattern\":{\"fillmode\":\"overlay\",\"size\":10,\"solidity\":0.2},\"type\":\"scatter\"}],\"parcoords\":[{\"type\":\"parcoords\",\"line\":{\"colorbar\":{\"outlinewidth\":0,\"ticks\":\"\"}}}],\"scatterpolargl\":[{\"type\":\"scatterpolargl\",\"marker\":{\"colorbar\":{\"outlinewidth\":0,\"ticks\":\"\"}}}],\"bar\":[{\"error_x\":{\"color\":\"#2a3f5f\"},\"error_y\":{\"color\":\"#2a3f5f\"},\"marker\":{\"line\":{\"color\":\"#E5ECF6\",\"width\":0.5},\"pattern\":{\"fillmode\":\"overlay\",\"size\":10,\"solidity\":0.2}},\"type\":\"bar\"}],\"scattergeo\":[{\"type\":\"scattergeo\",\"marker\":{\"colorbar\":{\"outlinewidth\":0,\"ticks\":\"\"}}}],\"scatterpolar\":[{\"type\":\"scatterpolar\",\"marker\":{\"colorbar\":{\"outlinewidth\":0,\"ticks\":\"\"}}}],\"histogram\":[{\"marker\":{\"pattern\":{\"fillmode\":\"overlay\",\"size\":10,\"solidity\":0.2}},\"type\":\"histogram\"}],\"scattergl\":[{\"type\":\"scattergl\",\"marker\":{\"colorbar\":{\"outlinewidth\":0,\"ticks\":\"\"}}}],\"scatter3d\":[{\"type\":\"scatter3d\",\"line\":{\"colorbar\":{\"outlinewidth\":0,\"ticks\":\"\"}},\"marker\":{\"colorbar\":{\"outlinewidth\":0,\"ticks\":\"\"}}}],\"scattermapbox\":[{\"type\":\"scattermapbox\",\"marker\":{\"colorbar\":{\"outlinewidth\":0,\"ticks\":\"\"}}}],\"scatterternary\":[{\"type\":\"scatterternary\",\"marker\":{\"colorbar\":{\"outlinewidth\":0,\"ticks\":\"\"}}}],\"scattercarpet\":[{\"type\":\"scattercarpet\",\"marker\":{\"colorbar\":{\"outlinewidth\":0,\"ticks\":\"\"}}}],\"carpet\":[{\"aaxis\":{\"endlinecolor\":\"#2a3f5f\",\"gridcolor\":\"white\",\"linecolor\":\"white\",\"minorgridcolor\":\"white\",\"startlinecolor\":\"#2a3f5f\"},\"baxis\":{\"endlinecolor\":\"#2a3f5f\",\"gridcolor\":\"white\",\"linecolor\":\"white\",\"minorgridcolor\":\"white\",\"startlinecolor\":\"#2a3f5f\"},\"type\":\"carpet\"}],\"table\":[{\"cells\":{\"fill\":{\"color\":\"#EBF0F8\"},\"line\":{\"color\":\"white\"}},\"header\":{\"fill\":{\"color\":\"#C8D4E3\"},\"line\":{\"color\":\"white\"}},\"type\":\"table\"}],\"barpolar\":[{\"marker\":{\"line\":{\"color\":\"#E5ECF6\",\"width\":0.5},\"pattern\":{\"fillmode\":\"overlay\",\"size\":10,\"solidity\":0.2}},\"type\":\"barpolar\"}],\"pie\":[{\"automargin\":true,\"type\":\"pie\"}]},\"layout\":{\"autotypenumbers\":\"strict\",\"colorway\":[\"#636efa\",\"#EF553B\",\"#00cc96\",\"#ab63fa\",\"#FFA15A\",\"#19d3f3\",\"#FF6692\",\"#B6E880\",\"#FF97FF\",\"#FECB52\"],\"font\":{\"color\":\"#2a3f5f\"},\"hovermode\":\"closest\",\"hoverlabel\":{\"align\":\"left\"},\"paper_bgcolor\":\"white\",\"plot_bgcolor\":\"#E5ECF6\",\"polar\":{\"bgcolor\":\"#E5ECF6\",\"angularaxis\":{\"gridcolor\":\"white\",\"linecolor\":\"white\",\"ticks\":\"\"},\"radialaxis\":{\"gridcolor\":\"white\",\"linecolor\":\"white\",\"ticks\":\"\"}},\"ternary\":{\"bgcolor\":\"#E5ECF6\",\"aaxis\":{\"gridcolor\":\"white\",\"linecolor\":\"white\",\"ticks\":\"\"},\"baxis\":{\"gridcolor\":\"white\",\"linecolor\":\"white\",\"ticks\":\"\"},\"caxis\":{\"gridcolor\":\"white\",\"linecolor\":\"white\",\"ticks\":\"\"}},\"coloraxis\":{\"colorbar\":{\"outlinewidth\":0,\"ticks\":\"\"}},\"colorscale\":{\"sequential\":[[0.0,\"#0d0887\"],[0.1111111111111111,\"#46039f\"],[0.2222222222222222,\"#7201a8\"],[0.3333333333333333,\"#9c179e\"],[0.4444444444444444,\"#bd3786\"],[0.5555555555555556,\"#d8576b\"],[0.6666666666666666,\"#ed7953\"],[0.7777777777777778,\"#fb9f3a\"],[0.8888888888888888,\"#fdca26\"],[1.0,\"#f0f921\"]],\"sequentialminus\":[[0.0,\"#0d0887\"],[0.1111111111111111,\"#46039f\"],[0.2222222222222222,\"#7201a8\"],[0.3333333333333333,\"#9c179e\"],[0.4444444444444444,\"#bd3786\"],[0.5555555555555556,\"#d8576b\"],[0.6666666666666666,\"#ed7953\"],[0.7777777777777778,\"#fb9f3a\"],[0.8888888888888888,\"#fdca26\"],[1.0,\"#f0f921\"]],\"diverging\":[[0,\"#8e0152\"],[0.1,\"#c51b7d\"],[0.2,\"#de77ae\"],[0.3,\"#f1b6da\"],[0.4,\"#fde0ef\"],[0.5,\"#f7f7f7\"],[0.6,\"#e6f5d0\"],[0.7,\"#b8e186\"],[0.8,\"#7fbc41\"],[0.9,\"#4d9221\"],[1,\"#276419\"]]},\"xaxis\":{\"gridcolor\":\"white\",\"linecolor\":\"white\",\"ticks\":\"\",\"title\":{\"standoff\":15},\"zerolinecolor\":\"white\",\"automargin\":true,\"zerolinewidth\":2},\"yaxis\":{\"gridcolor\":\"white\",\"linecolor\":\"white\",\"ticks\":\"\",\"title\":{\"standoff\":15},\"zerolinecolor\":\"white\",\"automargin\":true,\"zerolinewidth\":2},\"scene\":{\"xaxis\":{\"backgroundcolor\":\"#E5ECF6\",\"gridcolor\":\"white\",\"linecolor\":\"white\",\"showbackground\":true,\"ticks\":\"\",\"zerolinecolor\":\"white\",\"gridwidth\":2},\"yaxis\":{\"backgroundcolor\":\"#E5ECF6\",\"gridcolor\":\"white\",\"linecolor\":\"white\",\"showbackground\":true,\"ticks\":\"\",\"zerolinecolor\":\"white\",\"gridwidth\":2},\"zaxis\":{\"backgroundcolor\":\"#E5ECF6\",\"gridcolor\":\"white\",\"linecolor\":\"white\",\"showbackground\":true,\"ticks\":\"\",\"zerolinecolor\":\"white\",\"gridwidth\":2}},\"shapedefaults\":{\"line\":{\"color\":\"#2a3f5f\"}},\"annotationdefaults\":{\"arrowcolor\":\"#2a3f5f\",\"arrowhead\":0,\"arrowwidth\":1},\"geo\":{\"bgcolor\":\"white\",\"landcolor\":\"#E5ECF6\",\"subunitcolor\":\"white\",\"showland\":true,\"showlakes\":true,\"lakecolor\":\"white\"},\"title\":{\"x\":0.05},\"mapbox\":{\"style\":\"light\"}}},\"xaxis\":{\"anchor\":\"y\",\"domain\":[0.0,1.0],\"title\":{\"text\":\"Bootstrapped Medians\"}},\"yaxis\":{\"anchor\":\"x\",\"domain\":[0.0,1.0],\"title\":{\"text\":\"probability density\"}},\"legend\":{\"tracegroupgap\":0},\"margin\":{\"t\":60},\"barmode\":\"relative\"},                        {\"responsive\": true}                    ).then(function(){\n",
       "                            \n",
       "var gd = document.getElementById('f49b4c18-dc9b-4954-a597-f4d9b3880e31');\n",
       "var x = new MutationObserver(function (mutations, observer) {{\n",
       "        var display = window.getComputedStyle(gd).display;\n",
       "        if (!display || display === 'none') {{\n",
       "            console.log([gd, 'removed!']);\n",
       "            Plotly.purge(gd);\n",
       "            observer.disconnect();\n",
       "        }}\n",
       "}});\n",
       "\n",
       "// Listen for the removal of the full notebook cells\n",
       "var notebookContainer = gd.closest('#notebook-container');\n",
       "if (notebookContainer) {{\n",
       "    x.observe(notebookContainer, {childList: true});\n",
       "}}\n",
       "\n",
       "// Listen for the clearing of the current output cell\n",
       "var outputEl = gd.closest('.output');\n",
       "if (outputEl) {{\n",
       "    x.observe(outputEl, {childList: true});\n",
       "}}\n",
       "\n",
       "                        })                };                });            </script>        </div>"
      ]
     },
     "metadata": {},
     "output_type": "display_data"
    }
   ],
   "source": [
    "import plotly.express as px\n",
    "population = pd.read_csv('auto_claims_population.csv')\n",
    "np.random.seed(130) # Use this line to create reproducible pseudorandomness for your bootstrapping\n",
    "\n",
    "sample_size_n = 500\n",
    "number_of_bootstrap_samples = 1000\n",
    "boot_medians = []\n",
    "for i in range(number_of_bootstrap_samples):\n",
    "    # `np.random.choice` is an alternative to utilizing `df.sample()` which uses `replace=False` by default\n",
    "    boots_sample = np.random.choice(population['PAID'], sample_size_n, replace=False)\n",
    "    boot_medians += [np.median(boots_sample)]\n",
    "\n",
    "fig = px.histogram(pd.DataFrame({\"Bootstrapped Medians\": boot_medians}), \n",
    "                   x=\"Bootstrapped Medians\", histnorm='probability density', nbins=10)\n",
    "fig.show()"
   ]
  },
  {
   "cell_type": "code",
   "execution_count": 2,
   "id": "637fde19",
   "metadata": {},
   "outputs": [],
   "source": [
    "# Q11: your answer will be tested!\n",
    "Q11 = None # Assign either 'A', 'B', 'C', or 'D' to `Q11` instead of `None`\n",
    "# E.g., Q11 = 'A'"
   ]
  },
  {
   "cell_type": "code",
   "execution_count": 5,
   "id": "f9019319",
   "metadata": {},
   "outputs": [],
   "source": [
    "test = (Q11=='D')\n",
    "hint = \"Consider the differences between Q9 and Q11 and how bootstrapping works.\""
   ]
  },
  {
   "cell_type": "code",
   "execution_count": 6,
   "id": "7cde6b21",
   "metadata": {},
   "outputs": [
    {
     "ename": "AssertionError",
     "evalue": "Consider the differences between Q9 and Q11 and how bootstrapping works.",
     "output_type": "error",
     "traceback": [
      "\u001b[0;31m---------------------------------------------------------------------------\u001b[0m",
      "\u001b[0;31mAssertionError\u001b[0m                            Traceback (most recent call last)",
      "Cell \u001b[0;32mIn[6], line 2\u001b[0m\n\u001b[1;32m      1\u001b[0m \u001b[38;5;66;03m# test_Q11\u001b[39;00m\n\u001b[0;32m----> 2\u001b[0m \u001b[38;5;28;01massert\u001b[39;00m test, hint\n",
      "\u001b[0;31mAssertionError\u001b[0m: Consider the differences between Q9 and Q11 and how bootstrapping works."
     ]
    }
   ],
   "source": [
    "# test_Q11\n",
    "assert test, hint"
   ]
  },
  {
   "cell_type": "markdown",
   "id": "500b4028",
   "metadata": {},
   "source": [
    "### Q12: What is the size, median, and standard deviation of paid claims (`PAID`) in the population, `auto_claims_population.csv`? \n",
    "\n",
    "> Hint: use the `.describe()` method of a `pd.DataFrame` object.\n",
    "#### Give your answer as a discrete integer numeric value ignoring all decimal values."
   ]
  },
  {
   "cell_type": "code",
   "execution_count": 22,
   "id": "fac14f4d",
   "metadata": {},
   "outputs": [
    {
     "data": {
      "text/html": [
       "<div>\n",
       "<style scoped>\n",
       "    .dataframe tbody tr th:only-of-type {\n",
       "        vertical-align: middle;\n",
       "    }\n",
       "\n",
       "    .dataframe tbody tr th {\n",
       "        vertical-align: top;\n",
       "    }\n",
       "\n",
       "    .dataframe thead th {\n",
       "        text-align: right;\n",
       "    }\n",
       "</style>\n",
       "<table border=\"1\" class=\"dataframe\">\n",
       "  <thead>\n",
       "    <tr style=\"text-align: right;\">\n",
       "      <th></th>\n",
       "      <th>AGE</th>\n",
       "      <th>PAID</th>\n",
       "    </tr>\n",
       "  </thead>\n",
       "  <tbody>\n",
       "    <tr>\n",
       "      <th>count</th>\n",
       "      <td>1000.000000</td>\n",
       "      <td>1000.000000</td>\n",
       "    </tr>\n",
       "    <tr>\n",
       "      <th>mean</th>\n",
       "      <td>63.801000</td>\n",
       "      <td>2017.501950</td>\n",
       "    </tr>\n",
       "    <tr>\n",
       "      <th>std</th>\n",
       "      <td>10.881719</td>\n",
       "      <td>2729.363766</td>\n",
       "    </tr>\n",
       "    <tr>\n",
       "      <th>min</th>\n",
       "      <td>50.000000</td>\n",
       "      <td>9.500000</td>\n",
       "    </tr>\n",
       "    <tr>\n",
       "      <th>25%</th>\n",
       "      <td>54.000000</td>\n",
       "      <td>537.940000</td>\n",
       "    </tr>\n",
       "    <tr>\n",
       "      <th>50%</th>\n",
       "      <td>61.000000</td>\n",
       "      <td>1049.265000</td>\n",
       "    </tr>\n",
       "    <tr>\n",
       "      <th>75%</th>\n",
       "      <td>72.000000</td>\n",
       "      <td>2320.597500</td>\n",
       "    </tr>\n",
       "    <tr>\n",
       "      <th>max</th>\n",
       "      <td>95.000000</td>\n",
       "      <td>33137.500000</td>\n",
       "    </tr>\n",
       "  </tbody>\n",
       "</table>\n",
       "</div>"
      ],
      "text/plain": [
       "               AGE          PAID\n",
       "count  1000.000000   1000.000000\n",
       "mean     63.801000   2017.501950\n",
       "std      10.881719   2729.363766\n",
       "min      50.000000      9.500000\n",
       "25%      54.000000    537.940000\n",
       "50%      61.000000   1049.265000\n",
       "75%      72.000000   2320.597500\n",
       "max      95.000000  33137.500000"
      ]
     },
     "execution_count": 22,
     "metadata": {},
     "output_type": "execute_result"
    }
   ],
   "source": [
    "auto_claims_population_csv_asdf = pd.read_csv('auto_claims_population.csv')\n",
    "auto_claims_population_csv_asdf.describe()"
   ]
  },
  {
   "cell_type": "code",
   "execution_count": 23,
   "id": "396d5606",
   "metadata": {},
   "outputs": [
    {
     "data": {
      "text/plain": [
       "(1000, 1049.0, 2729.0)"
      ]
     },
     "execution_count": 23,
     "metadata": {},
     "output_type": "execute_result"
    }
   ],
   "source": [
    "len(auto_claims_population_csv_asdf.PAID), np.round(auto_claims_population_csv_asdf.PAID.median()), np.round(auto_claims_population_csv_asdf.PAID.std())"
   ]
  },
  {
   "cell_type": "code",
   "execution_count": 7,
   "id": "098c8d39",
   "metadata": {},
   "outputs": [],
   "source": [
    "# Q12: Your answer will be tested!\n",
    "paid_population_size = None\n",
    "paid_pop_median = None\n",
    "paid_pop_std = None\n",
    "Q12 = (paid_population_size, paid_pop_median, paid_pop_std) # Assign a `tuple` of three `int`s to Q12"
   ]
  },
  {
   "cell_type": "code",
   "execution_count": 8,
   "id": "411deca1",
   "metadata": {},
   "outputs": [],
   "source": [
    "hint = \"There are many ways to do this... `data.PAID.describe()`\""
   ]
  },
  {
   "cell_type": "code",
   "execution_count": 24,
   "id": "d4a1b84a",
   "metadata": {},
   "outputs": [
    {
     "ename": "NameError",
     "evalue": "name 'Q12' is not defined",
     "output_type": "error",
     "traceback": [
      "\u001b[0;31m---------------------------------------------------------------------------\u001b[0m",
      "\u001b[0;31mNameError\u001b[0m                                 Traceback (most recent call last)",
      "Cell \u001b[0;32mIn[24], line 2\u001b[0m\n\u001b[1;32m      1\u001b[0m \u001b[38;5;66;03m# test_Q12\u001b[39;00m\n\u001b[0;32m----> 2\u001b[0m \u001b[38;5;28;01massert\u001b[39;00m \u001b[43mQ12\u001b[49m\u001b[38;5;241m==\u001b[39m(\u001b[38;5;28mlen\u001b[39m(auto_claims_population_csv_asdf\u001b[38;5;241m.\u001b[39mPAID), np\u001b[38;5;241m.\u001b[39mround(auto_claims_population_csv_asdf\u001b[38;5;241m.\u001b[39mPAID\u001b[38;5;241m.\u001b[39mmedian()), np\u001b[38;5;241m.\u001b[39mround(auto_claims_population_csv_asdf\u001b[38;5;241m.\u001b[39mPAID\u001b[38;5;241m.\u001b[39mstd()))\n",
      "\u001b[0;31mNameError\u001b[0m: name 'Q12' is not defined"
     ]
    }
   ],
   "source": [
    "# test_Q12\n",
    "assert Q12==(len(auto_claims_population_csv_asdf.PAID), np.round(auto_claims_population_csv_asdf.PAID.median()), np.round(auto_claims_population_csv_asdf.PAID.std()))"
   ]
  },
  {
   "cell_type": "markdown",
   "id": "d477d4b0",
   "metadata": {},
   "source": [
    "### Q13: Produce `plotly` histogram and boxplot visualizations of the distribution of paid claims (`PAID`) in the *population*.\n",
    "\n",
    "#### Which of the following statements are true? Refer to your answers from `Q8` and `Q10`.\n",
    "\n",
    "- A. the distribution observed in the sample seems to approximately matches the distribution of the population; the 95% bootstrap confidence interval based on the sample captured the true population median\n",
    "- B. the distribution observed in the sample seems to approximately matches the distribution of the population; the 95% bootstrap confidence interval based on the sample *did not* capture the true population median\n",
    "- C. the distribution observed in the sample *does not* match the distribution of the population; the 95% bootstrap confidence interval based on the sample captured the true population median\n",
    "- D. the distribution observed in the sample *does not* match the distribution of the population; the 95% bootstrap confidence interval based on the sample *did not* capture the true population median"
   ]
  },
  {
   "cell_type": "code",
   "execution_count": 32,
   "id": "d4f3b08f",
   "metadata": {},
   "outputs": [
    {
     "data": {
      "application/vnd.plotly.v1+json": {
       "config": {
        "plotlyServerURL": "https://plot.ly"
       },
       "data": [
        {
         "alignmentgroup": "True",
         "bingroup": "x",
         "hovertemplate": "PAID=%{x}<br>count=%{y}<extra></extra>",
         "legendgroup": "",
         "marker": {
          "color": "#636efa",
          "pattern": {
           "shape": ""
          }
         },
         "name": "",
         "nbinsx": 20,
         "offsetgroup": "",
         "orientation": "v",
         "showlegend": false,
         "type": "histogram",
         "x": [
          2384.67,
          650,
          654,
          3890.07,
          295.99,
          11756.34,
          2402,
          296.97,
          249.1,
          14833.3,
          3025,
          2750,
          2612.74,
          1259.89,
          824.85,
          669.5,
          664.34,
          408.39,
          3953.84,
          3841.66,
          239.37,
          30,
          6384,
          4467.92,
          1541.1,
          1354.93,
          1263.51,
          1045,
          519.75,
          499.28,
          365.26,
          322.34,
          122.41,
          10524.64,
          6854.02,
          3206.76,
          2724.04,
          2269,
          2169.88,
          1929.81,
          1061.8,
          945.8,
          899.13,
          7326.67,
          5301.72,
          3596.5,
          2322.72,
          1944.45,
          1491.69,
          1314.4,
          836.78,
          479,
          426.19,
          3112.89,
          2500,
          1921.22,
          1472.87,
          1444.89,
          1368.76,
          1346.36,
          772.23,
          688.67,
          362.63,
          359.41,
          354.29,
          262.81,
          244.11,
          9377.82,
          5540.07,
          3118.5,
          2495.8,
          2362.89,
          2007.78,
          1816.41,
          1500,
          1139.6,
          952.05,
          746.89,
          644.87,
          188.61,
          117.4,
          12714.43,
          10116.07,
          1949.14,
          1852.5,
          1722.82,
          1539.07,
          1476.43,
          1458.13,
          1119.52,
          990.07,
          987,
          782.44,
          459,
          377.36,
          319.67,
          176.07,
          154.75,
          8493.76,
          3809.83,
          3222.66,
          1113.38,
          766.4,
          663.17,
          640.4,
          619.06,
          419.18,
          298.62,
          160.2,
          105.5,
          8323.31,
          6291.84,
          4904.64,
          4096.58,
          3334.65,
          1755.95,
          1160.63,
          1098.37,
          818.79,
          651.57,
          646.79,
          584.61,
          417.04,
          399.9,
          371.63,
          365.5,
          275.43,
          146.56,
          14651.31,
          6754.81,
          5071.99,
          4809.52,
          2884.46,
          2591.33,
          2419.75,
          1321.7,
          1308,
          981.86,
          843.98,
          817.62,
          712,
          634.48,
          463.96,
          462.93,
          430.38,
          388.71,
          112.78,
          85,
          12151.86,
          5186.82,
          4451.39,
          3968.51,
          3392.58,
          1879.51,
          1792.54,
          1607.6,
          1238,
          1130,
          1081.71,
          1033.84,
          671.59,
          361.37,
          171.7,
          40,
          3203.35,
          3060.69,
          2171.93,
          1727.85,
          1550,
          1470.35,
          1229.01,
          1010.94,
          575.36,
          555.34,
          533.11,
          459.1,
          253.75,
          148.65,
          4184.46,
          4082.49,
          1846.1,
          1688.78,
          1118.91,
          749.64,
          725.71,
          722.02,
          648.06,
          593.46,
          516.81,
          302.54,
          300,
          278.55,
          248.68,
          131,
          28.46,
          13058.85,
          6950.54,
          2930,
          2112.46,
          2100,
          1500,
          1386.41,
          1270.17,
          1203.81,
          993.59,
          903,
          900,
          583.76,
          580.32,
          376.46,
          275.94,
          91.27,
          6013.74,
          4804.22,
          3179.28,
          2893.53,
          1916.21,
          1209.08,
          1036.74,
          986.12,
          893.03,
          754.31,
          740.38,
          694.91,
          693.13,
          564.05,
          551.78,
          549.77,
          497.85,
          403.3,
          358.7,
          284.54,
          228,
          177.6,
          177.42,
          139.79,
          33137.5,
          7293.43,
          3754.51,
          3495.14,
          3140.66,
          2137.4,
          1971.75,
          1956,
          1870.58,
          1650,
          1188.74,
          1115.89,
          1088.73,
          1074.35,
          1016.43,
          860.67,
          831.8,
          796.8,
          759.57,
          668.74,
          582.62,
          404,
          393.5,
          309.67,
          292.44,
          221.7,
          103.75,
          11511.72,
          6090.02,
          1727.33,
          1235.07,
          910.01,
          812.98,
          562.05,
          527.34,
          451.31,
          332.06,
          315.53,
          10527.4,
          7751.55,
          5711.53,
          3804.44,
          3760.07,
          2757.83,
          2565.84,
          2221.87,
          2139.9,
          2000,
          1363.23,
          1132.41,
          993.19,
          964.22,
          898.55,
          822.1,
          761.22,
          754.56,
          685.71,
          622.53,
          604.95,
          587.51,
          490.25,
          489.73,
          465.5,
          329.91,
          272.01,
          258.5,
          4643.8,
          3523.9,
          3007.96,
          2192.98,
          1752.16,
          1686.2,
          1648.41,
          1381.16,
          1336.26,
          1248.01,
          950.61,
          945.56,
          880.82,
          713.55,
          645.8,
          626.38,
          573.4,
          488.16,
          458,
          443.95,
          253.59,
          209.83,
          138.86,
          100,
          30,
          24624.44,
          8123.33,
          5158.65,
          5035.93,
          4625.47,
          1707.92,
          1694.59,
          1501.05,
          1369.74,
          946.38,
          825.66,
          682.85,
          604.95,
          585.34,
          565.02,
          529.28,
          388.03,
          377.54,
          303,
          300,
          198.98,
          135,
          47.52,
          11458.07,
          8300.31,
          7827.74,
          6261.92,
          5861.5,
          5381.14,
          4532.02,
          3656.77,
          2928.92,
          2547.5,
          2276.5,
          2017.28,
          1678.17,
          1651.86,
          1482.45,
          1480.93,
          1348.93,
          1189.96,
          1090.41,
          940.28,
          925.47,
          852.22,
          417.18,
          369.02,
          346.79,
          244.23,
          132,
          100,
          14753.58,
          11288.76,
          10175.27,
          6277.84,
          4939.5,
          4786.51,
          3167.49,
          2572.22,
          1712.27,
          1712.13,
          1396.61,
          1377.31,
          1108.42,
          1001.76,
          989.59,
          891.09,
          882.77,
          670.77,
          638.99,
          546.32,
          536.11,
          533.33,
          464.59,
          460.36,
          291.92,
          257.01,
          106,
          7487.94,
          7296.2,
          4929.65,
          2532.6,
          2344.69,
          1855.85,
          1812.47,
          1431.81,
          1226.28,
          1122.12,
          1090.75,
          1067.57,
          1012.19,
          928.2,
          861.89,
          809.34,
          782.9,
          768.05,
          698.65,
          630.11,
          617.9,
          594.8,
          585.74,
          390.02,
          291.28,
          236.53,
          10077,
          8569.3,
          6124.34,
          5335.35,
          3486.96,
          3255.88,
          2985.29,
          2418.4,
          2368.69,
          2007.64,
          1996,
          1869.49,
          1600.18,
          1278.52,
          1212.85,
          1039.69,
          834.12,
          805.18,
          676.15,
          651.18,
          586.85,
          315.61,
          311.32,
          25.44,
          9793.42,
          7620.37,
          6800.94,
          4781.43,
          3944.37,
          2406,
          1613.41,
          1340.74,
          1249.02,
          1086.9,
          941.85,
          909.99,
          903.99,
          875.28,
          738.18,
          492.22,
          468,
          443.49,
          439.22,
          359.11,
          8215.8,
          6208.2,
          5241.71,
          3912.49,
          3230.09,
          2600,
          2531.24,
          2038.05,
          1890.5,
          1704.54,
          1145.63,
          959.52,
          763.07,
          746.63,
          700,
          554.55,
          545.3,
          490.6,
          273.29,
          189.9,
          10652.59,
          5556.75,
          3403.09,
          3328.93,
          2805.73,
          2593.89,
          2586.45,
          2125.09,
          1739.92,
          1696.26,
          1352.01,
          1266.44,
          1167.44,
          1035.03,
          1014.98,
          941.51,
          840.73,
          739.87,
          720.53,
          699.19,
          677.43,
          634.14,
          545.35,
          520.96,
          500,
          459.43,
          267.25,
          219.89,
          175,
          171.97,
          10264.47,
          4610.48,
          4551.35,
          2905.94,
          2128.29,
          2100,
          1897.85,
          1876.31,
          1789.33,
          1690.06,
          1669.4,
          1595.82,
          1400,
          1395.42,
          1221.73,
          1200,
          1152.26,
          1130.8,
          1061.28,
          992.48,
          926.2,
          922.58,
          777.53,
          767.54,
          706.49,
          705.64,
          684.15,
          672.91,
          627.89,
          613.97,
          499,
          496.58,
          445.68,
          435.72,
          335.91,
          222.15,
          116.66,
          97.7,
          8144.41,
          7522.19,
          7063.69,
          6630.91,
          4465.03,
          3451.91,
          3227.06,
          3105.06,
          2477,
          2471.81,
          2435.85,
          2362.48,
          2045.43,
          1688.9,
          1567.05,
          1515.46,
          1357.83,
          1272.79,
          1123.7,
          864.92,
          781.8,
          747.81,
          719.83,
          715,
          651.82,
          651.52,
          616.07,
          575.42,
          433.82,
          377.58,
          365.12,
          334.8,
          291.29,
          164.33,
          145.75,
          26.23,
          5134.29,
          3820.97,
          3732.91,
          3222.45,
          2643.26,
          1930.21,
          1655.67,
          1641.81,
          1636.11,
          1590.34,
          1462.72,
          1379.11,
          1264.6,
          1173.25,
          1008.05,
          913.97,
          843,
          787.49,
          735,
          500,
          494.96,
          480.73,
          395.27,
          386.56,
          372.95,
          309.52,
          259.25,
          224.54,
          180.07,
          7780.9,
          3890.9,
          3511.68,
          3018.03,
          2191.83,
          2011.47,
          1938.6,
          1430.24,
          1350,
          1211.84,
          1210.38,
          1097.13,
          1056.58,
          1013.93,
          991.36,
          922.82,
          904.02,
          900,
          842.57,
          825.69,
          795.08,
          634.89,
          633,
          500,
          496.25,
          474.18,
          468.9,
          378.4,
          360.7,
          328.18,
          290,
          273.92,
          125,
          110.78,
          79.8,
          10538.65,
          8903.29,
          5758.21,
          5335.18,
          4748.38,
          4211.19,
          3521.32,
          3056.01,
          2946.55,
          2912.28,
          2596.17,
          2437.24,
          2301.61,
          2277,
          1942.82,
          1450.55,
          1222.12,
          1063.39,
          954.98,
          771.25,
          681.17,
          596.05,
          532.1,
          523.95,
          523.93,
          490.83,
          481.82,
          471.38,
          440.66,
          440.51,
          437.26,
          350,
          347.79,
          343.5,
          333.05,
          327.41,
          17.79,
          15279.68,
          7108.52,
          7038.61,
          5479.6,
          3978.91,
          2683.21,
          2635.78,
          2575.79,
          2317.29,
          2310,
          1542.91,
          1540.27,
          1514,
          1292.26,
          1230.12,
          1222.94,
          1215.89,
          1168.23,
          1150,
          1146.53,
          992.24,
          742.82,
          742.7,
          740.44,
          665.29,
          622.99,
          582.31,
          548.2,
          442.92,
          429.7,
          250.56,
          249.01,
          7419.73,
          7275,
          6867.53,
          5604.53,
          5347.31,
          5263.84,
          5169.91,
          4488.66,
          4302.05,
          3807.25,
          3781.2,
          3435.92,
          3410.38,
          2211.92,
          2005.64,
          1993.9,
          1757,
          1662.83,
          1584.11,
          1533.74,
          1414.86,
          1403.93,
          1371.51,
          1336,
          1112.82,
          1100.68,
          1064.4,
          1046.66,
          902.67,
          806.73,
          785.41,
          718.1,
          537.28,
          530.33,
          483.1,
          437.77,
          342.04,
          243,
          218.01,
          194.44,
          142.74,
          11669.62,
          7966.3,
          4681,
          4334.51,
          4060.6,
          3648,
          3569.77,
          2992.53,
          2330.86,
          2203.89,
          2200.97,
          2100.56,
          1916.44,
          1913.63,
          1809.29,
          1514.75,
          1367.13,
          1294.25,
          1151.46,
          1100.39,
          1097.92,
          1095.07,
          1049.61,
          1012.67,
          857.65,
          843.54,
          759.89,
          692.58,
          681.24,
          677.29,
          636.71,
          595,
          563.86,
          555.58,
          547.85,
          547.09,
          538.41,
          520.5,
          493.79,
          485.77,
          450.54,
          439.97,
          436.76,
          312.97,
          302.1,
          287.03,
          274.3,
          259.43,
          113.92,
          50,
          41.75,
          16175,
          15845,
          9668.22,
          7964.72,
          6210.85,
          6055.33,
          5882,
          5370.19,
          4171.55,
          4118.55,
          3942.63,
          3696,
          3070.28,
          2941.5,
          2908.31,
          2420.85,
          2319.89,
          2313.46,
          2264.77,
          2100,
          2027.99,
          1967.97,
          1758.73,
          1722.29,
          1541.52,
          1523.72,
          1376.27,
          1263.16,
          1226.12,
          1190.97,
          1151.64,
          1057.79,
          1044.7,
          896.83,
          894.35,
          871.59,
          778.22,
          755.29,
          750,
          739.14,
          717.05,
          675,
          671.72,
          628.83,
          627.19,
          538.16,
          504.47,
          490,
          487.51,
          442.7,
          436.37,
          355.86,
          351.12,
          322.48,
          312.28,
          310.9,
          198.61,
          90.64,
          9.5,
          12582.27,
          6890.65,
          6500.9,
          6193.21,
          5389.99,
          4097.87,
          3729.71,
          2883.95,
          2649.87,
          2630.23,
          2612.98,
          2572.15,
          2497.95,
          1973.7,
          1784.33,
          1767.51,
          1764,
          1552.58,
          1501.77,
          1430.98,
          1237.92,
          1216.36,
          1200.15,
          1048.92,
          1040.44,
          995.3,
          968.58,
          925.51,
          860.56,
          857.87,
          852.32,
          804.64,
          803.48,
          783.52,
          762,
          750,
          736.48,
          701.15,
          629.94,
          628.77,
          622.64,
          611.57,
          570.67,
          560.2,
          501.15,
          395.22,
          346.11,
          343.01,
          337.12,
          311.11,
          216.05,
          204,
          200,
          97.61,
          61.34,
          12840.97,
          8332.26,
          7681.88,
          7470.43,
          6353.97,
          6167.91,
          5736.48,
          5559.99,
          5556.29,
          4799.3,
          3875.35,
          3189.51,
          2976.8,
          2850,
          2814.95,
          2464.86,
          2381.3,
          2372.43,
          2354.25,
          2353.79,
          2152.01,
          2007,
          1972.13,
          1835,
          1799.75,
          1718.52,
          1586.12,
          1563.22,
          1525.54,
          1515.82,
          1434.74,
          1407.91,
          1263.22,
          1220.37,
          1204.08,
          1037.08,
          954.26,
          935.97,
          885.61,
          865.94,
          824.84,
          788.11,
          728.19,
          725.77,
          653.36,
          606.83,
          597.92,
          594.07,
          479.54,
          453.55,
          436.91,
          431.77,
          382.13,
          377.6,
          350,
          326.43,
          276.78,
          271.14,
          261,
          250,
          250,
          129
         ],
         "xaxis": "x",
         "yaxis": "y"
        }
       ],
       "layout": {
        "barmode": "relative",
        "legend": {
         "tracegroupgap": 0
        },
        "margin": {
         "t": 60
        },
        "template": {
         "data": {
          "bar": [
           {
            "error_x": {
             "color": "#2a3f5f"
            },
            "error_y": {
             "color": "#2a3f5f"
            },
            "marker": {
             "line": {
              "color": "#E5ECF6",
              "width": 0.5
             },
             "pattern": {
              "fillmode": "overlay",
              "size": 10,
              "solidity": 0.2
             }
            },
            "type": "bar"
           }
          ],
          "barpolar": [
           {
            "marker": {
             "line": {
              "color": "#E5ECF6",
              "width": 0.5
             },
             "pattern": {
              "fillmode": "overlay",
              "size": 10,
              "solidity": 0.2
             }
            },
            "type": "barpolar"
           }
          ],
          "carpet": [
           {
            "aaxis": {
             "endlinecolor": "#2a3f5f",
             "gridcolor": "white",
             "linecolor": "white",
             "minorgridcolor": "white",
             "startlinecolor": "#2a3f5f"
            },
            "baxis": {
             "endlinecolor": "#2a3f5f",
             "gridcolor": "white",
             "linecolor": "white",
             "minorgridcolor": "white",
             "startlinecolor": "#2a3f5f"
            },
            "type": "carpet"
           }
          ],
          "choropleth": [
           {
            "colorbar": {
             "outlinewidth": 0,
             "ticks": ""
            },
            "type": "choropleth"
           }
          ],
          "contour": [
           {
            "colorbar": {
             "outlinewidth": 0,
             "ticks": ""
            },
            "colorscale": [
             [
              0,
              "#0d0887"
             ],
             [
              0.1111111111111111,
              "#46039f"
             ],
             [
              0.2222222222222222,
              "#7201a8"
             ],
             [
              0.3333333333333333,
              "#9c179e"
             ],
             [
              0.4444444444444444,
              "#bd3786"
             ],
             [
              0.5555555555555556,
              "#d8576b"
             ],
             [
              0.6666666666666666,
              "#ed7953"
             ],
             [
              0.7777777777777778,
              "#fb9f3a"
             ],
             [
              0.8888888888888888,
              "#fdca26"
             ],
             [
              1,
              "#f0f921"
             ]
            ],
            "type": "contour"
           }
          ],
          "contourcarpet": [
           {
            "colorbar": {
             "outlinewidth": 0,
             "ticks": ""
            },
            "type": "contourcarpet"
           }
          ],
          "heatmap": [
           {
            "colorbar": {
             "outlinewidth": 0,
             "ticks": ""
            },
            "colorscale": [
             [
              0,
              "#0d0887"
             ],
             [
              0.1111111111111111,
              "#46039f"
             ],
             [
              0.2222222222222222,
              "#7201a8"
             ],
             [
              0.3333333333333333,
              "#9c179e"
             ],
             [
              0.4444444444444444,
              "#bd3786"
             ],
             [
              0.5555555555555556,
              "#d8576b"
             ],
             [
              0.6666666666666666,
              "#ed7953"
             ],
             [
              0.7777777777777778,
              "#fb9f3a"
             ],
             [
              0.8888888888888888,
              "#fdca26"
             ],
             [
              1,
              "#f0f921"
             ]
            ],
            "type": "heatmap"
           }
          ],
          "heatmapgl": [
           {
            "colorbar": {
             "outlinewidth": 0,
             "ticks": ""
            },
            "colorscale": [
             [
              0,
              "#0d0887"
             ],
             [
              0.1111111111111111,
              "#46039f"
             ],
             [
              0.2222222222222222,
              "#7201a8"
             ],
             [
              0.3333333333333333,
              "#9c179e"
             ],
             [
              0.4444444444444444,
              "#bd3786"
             ],
             [
              0.5555555555555556,
              "#d8576b"
             ],
             [
              0.6666666666666666,
              "#ed7953"
             ],
             [
              0.7777777777777778,
              "#fb9f3a"
             ],
             [
              0.8888888888888888,
              "#fdca26"
             ],
             [
              1,
              "#f0f921"
             ]
            ],
            "type": "heatmapgl"
           }
          ],
          "histogram": [
           {
            "marker": {
             "pattern": {
              "fillmode": "overlay",
              "size": 10,
              "solidity": 0.2
             }
            },
            "type": "histogram"
           }
          ],
          "histogram2d": [
           {
            "colorbar": {
             "outlinewidth": 0,
             "ticks": ""
            },
            "colorscale": [
             [
              0,
              "#0d0887"
             ],
             [
              0.1111111111111111,
              "#46039f"
             ],
             [
              0.2222222222222222,
              "#7201a8"
             ],
             [
              0.3333333333333333,
              "#9c179e"
             ],
             [
              0.4444444444444444,
              "#bd3786"
             ],
             [
              0.5555555555555556,
              "#d8576b"
             ],
             [
              0.6666666666666666,
              "#ed7953"
             ],
             [
              0.7777777777777778,
              "#fb9f3a"
             ],
             [
              0.8888888888888888,
              "#fdca26"
             ],
             [
              1,
              "#f0f921"
             ]
            ],
            "type": "histogram2d"
           }
          ],
          "histogram2dcontour": [
           {
            "colorbar": {
             "outlinewidth": 0,
             "ticks": ""
            },
            "colorscale": [
             [
              0,
              "#0d0887"
             ],
             [
              0.1111111111111111,
              "#46039f"
             ],
             [
              0.2222222222222222,
              "#7201a8"
             ],
             [
              0.3333333333333333,
              "#9c179e"
             ],
             [
              0.4444444444444444,
              "#bd3786"
             ],
             [
              0.5555555555555556,
              "#d8576b"
             ],
             [
              0.6666666666666666,
              "#ed7953"
             ],
             [
              0.7777777777777778,
              "#fb9f3a"
             ],
             [
              0.8888888888888888,
              "#fdca26"
             ],
             [
              1,
              "#f0f921"
             ]
            ],
            "type": "histogram2dcontour"
           }
          ],
          "mesh3d": [
           {
            "colorbar": {
             "outlinewidth": 0,
             "ticks": ""
            },
            "type": "mesh3d"
           }
          ],
          "parcoords": [
           {
            "line": {
             "colorbar": {
              "outlinewidth": 0,
              "ticks": ""
             }
            },
            "type": "parcoords"
           }
          ],
          "pie": [
           {
            "automargin": true,
            "type": "pie"
           }
          ],
          "scatter": [
           {
            "fillpattern": {
             "fillmode": "overlay",
             "size": 10,
             "solidity": 0.2
            },
            "type": "scatter"
           }
          ],
          "scatter3d": [
           {
            "line": {
             "colorbar": {
              "outlinewidth": 0,
              "ticks": ""
             }
            },
            "marker": {
             "colorbar": {
              "outlinewidth": 0,
              "ticks": ""
             }
            },
            "type": "scatter3d"
           }
          ],
          "scattercarpet": [
           {
            "marker": {
             "colorbar": {
              "outlinewidth": 0,
              "ticks": ""
             }
            },
            "type": "scattercarpet"
           }
          ],
          "scattergeo": [
           {
            "marker": {
             "colorbar": {
              "outlinewidth": 0,
              "ticks": ""
             }
            },
            "type": "scattergeo"
           }
          ],
          "scattergl": [
           {
            "marker": {
             "colorbar": {
              "outlinewidth": 0,
              "ticks": ""
             }
            },
            "type": "scattergl"
           }
          ],
          "scattermapbox": [
           {
            "marker": {
             "colorbar": {
              "outlinewidth": 0,
              "ticks": ""
             }
            },
            "type": "scattermapbox"
           }
          ],
          "scatterpolar": [
           {
            "marker": {
             "colorbar": {
              "outlinewidth": 0,
              "ticks": ""
             }
            },
            "type": "scatterpolar"
           }
          ],
          "scatterpolargl": [
           {
            "marker": {
             "colorbar": {
              "outlinewidth": 0,
              "ticks": ""
             }
            },
            "type": "scatterpolargl"
           }
          ],
          "scatterternary": [
           {
            "marker": {
             "colorbar": {
              "outlinewidth": 0,
              "ticks": ""
             }
            },
            "type": "scatterternary"
           }
          ],
          "surface": [
           {
            "colorbar": {
             "outlinewidth": 0,
             "ticks": ""
            },
            "colorscale": [
             [
              0,
              "#0d0887"
             ],
             [
              0.1111111111111111,
              "#46039f"
             ],
             [
              0.2222222222222222,
              "#7201a8"
             ],
             [
              0.3333333333333333,
              "#9c179e"
             ],
             [
              0.4444444444444444,
              "#bd3786"
             ],
             [
              0.5555555555555556,
              "#d8576b"
             ],
             [
              0.6666666666666666,
              "#ed7953"
             ],
             [
              0.7777777777777778,
              "#fb9f3a"
             ],
             [
              0.8888888888888888,
              "#fdca26"
             ],
             [
              1,
              "#f0f921"
             ]
            ],
            "type": "surface"
           }
          ],
          "table": [
           {
            "cells": {
             "fill": {
              "color": "#EBF0F8"
             },
             "line": {
              "color": "white"
             }
            },
            "header": {
             "fill": {
              "color": "#C8D4E3"
             },
             "line": {
              "color": "white"
             }
            },
            "type": "table"
           }
          ]
         },
         "layout": {
          "annotationdefaults": {
           "arrowcolor": "#2a3f5f",
           "arrowhead": 0,
           "arrowwidth": 1
          },
          "autotypenumbers": "strict",
          "coloraxis": {
           "colorbar": {
            "outlinewidth": 0,
            "ticks": ""
           }
          },
          "colorscale": {
           "diverging": [
            [
             0,
             "#8e0152"
            ],
            [
             0.1,
             "#c51b7d"
            ],
            [
             0.2,
             "#de77ae"
            ],
            [
             0.3,
             "#f1b6da"
            ],
            [
             0.4,
             "#fde0ef"
            ],
            [
             0.5,
             "#f7f7f7"
            ],
            [
             0.6,
             "#e6f5d0"
            ],
            [
             0.7,
             "#b8e186"
            ],
            [
             0.8,
             "#7fbc41"
            ],
            [
             0.9,
             "#4d9221"
            ],
            [
             1,
             "#276419"
            ]
           ],
           "sequential": [
            [
             0,
             "#0d0887"
            ],
            [
             0.1111111111111111,
             "#46039f"
            ],
            [
             0.2222222222222222,
             "#7201a8"
            ],
            [
             0.3333333333333333,
             "#9c179e"
            ],
            [
             0.4444444444444444,
             "#bd3786"
            ],
            [
             0.5555555555555556,
             "#d8576b"
            ],
            [
             0.6666666666666666,
             "#ed7953"
            ],
            [
             0.7777777777777778,
             "#fb9f3a"
            ],
            [
             0.8888888888888888,
             "#fdca26"
            ],
            [
             1,
             "#f0f921"
            ]
           ],
           "sequentialminus": [
            [
             0,
             "#0d0887"
            ],
            [
             0.1111111111111111,
             "#46039f"
            ],
            [
             0.2222222222222222,
             "#7201a8"
            ],
            [
             0.3333333333333333,
             "#9c179e"
            ],
            [
             0.4444444444444444,
             "#bd3786"
            ],
            [
             0.5555555555555556,
             "#d8576b"
            ],
            [
             0.6666666666666666,
             "#ed7953"
            ],
            [
             0.7777777777777778,
             "#fb9f3a"
            ],
            [
             0.8888888888888888,
             "#fdca26"
            ],
            [
             1,
             "#f0f921"
            ]
           ]
          },
          "colorway": [
           "#636efa",
           "#EF553B",
           "#00cc96",
           "#ab63fa",
           "#FFA15A",
           "#19d3f3",
           "#FF6692",
           "#B6E880",
           "#FF97FF",
           "#FECB52"
          ],
          "font": {
           "color": "#2a3f5f"
          },
          "geo": {
           "bgcolor": "white",
           "lakecolor": "white",
           "landcolor": "#E5ECF6",
           "showlakes": true,
           "showland": true,
           "subunitcolor": "white"
          },
          "hoverlabel": {
           "align": "left"
          },
          "hovermode": "closest",
          "mapbox": {
           "style": "light"
          },
          "paper_bgcolor": "white",
          "plot_bgcolor": "#E5ECF6",
          "polar": {
           "angularaxis": {
            "gridcolor": "white",
            "linecolor": "white",
            "ticks": ""
           },
           "bgcolor": "#E5ECF6",
           "radialaxis": {
            "gridcolor": "white",
            "linecolor": "white",
            "ticks": ""
           }
          },
          "scene": {
           "xaxis": {
            "backgroundcolor": "#E5ECF6",
            "gridcolor": "white",
            "gridwidth": 2,
            "linecolor": "white",
            "showbackground": true,
            "ticks": "",
            "zerolinecolor": "white"
           },
           "yaxis": {
            "backgroundcolor": "#E5ECF6",
            "gridcolor": "white",
            "gridwidth": 2,
            "linecolor": "white",
            "showbackground": true,
            "ticks": "",
            "zerolinecolor": "white"
           },
           "zaxis": {
            "backgroundcolor": "#E5ECF6",
            "gridcolor": "white",
            "gridwidth": 2,
            "linecolor": "white",
            "showbackground": true,
            "ticks": "",
            "zerolinecolor": "white"
           }
          },
          "shapedefaults": {
           "line": {
            "color": "#2a3f5f"
           }
          },
          "ternary": {
           "aaxis": {
            "gridcolor": "white",
            "linecolor": "white",
            "ticks": ""
           },
           "baxis": {
            "gridcolor": "white",
            "linecolor": "white",
            "ticks": ""
           },
           "bgcolor": "#E5ECF6",
           "caxis": {
            "gridcolor": "white",
            "linecolor": "white",
            "ticks": ""
           }
          },
          "title": {
           "x": 0.05
          },
          "xaxis": {
           "automargin": true,
           "gridcolor": "white",
           "linecolor": "white",
           "ticks": "",
           "title": {
            "standoff": 15
           },
           "zerolinecolor": "white",
           "zerolinewidth": 2
          },
          "yaxis": {
           "automargin": true,
           "gridcolor": "white",
           "linecolor": "white",
           "ticks": "",
           "title": {
            "standoff": 15
           },
           "zerolinecolor": "white",
           "zerolinewidth": 2
          }
         }
        },
        "xaxis": {
         "anchor": "y",
         "domain": [
          0,
          1
         ],
         "title": {
          "text": "PAID"
         }
        },
        "yaxis": {
         "anchor": "x",
         "domain": [
          0,
          1
         ],
         "title": {
          "text": "count"
         }
        }
       }
      },
      "text/html": [
       "<div>                            <div id=\"64b87be8-21bc-4329-a4ea-68db1d6703fe\" class=\"plotly-graph-div\" style=\"height:525px; width:100%;\"></div>            <script type=\"text/javascript\">                require([\"plotly\"], function(Plotly) {                    window.PLOTLYENV=window.PLOTLYENV || {};                                    if (document.getElementById(\"64b87be8-21bc-4329-a4ea-68db1d6703fe\")) {                    Plotly.newPlot(                        \"64b87be8-21bc-4329-a4ea-68db1d6703fe\",                        [{\"alignmentgroup\":\"True\",\"bingroup\":\"x\",\"hovertemplate\":\"PAID=%{x}\\u003cbr\\u003ecount=%{y}\\u003cextra\\u003e\\u003c\\u002fextra\\u003e\",\"legendgroup\":\"\",\"marker\":{\"color\":\"#636efa\",\"pattern\":{\"shape\":\"\"}},\"name\":\"\",\"nbinsx\":20,\"offsetgroup\":\"\",\"orientation\":\"v\",\"showlegend\":false,\"x\":[2384.67,650.0,654.0,3890.07,295.99,11756.34,2402.0,296.97,249.1,14833.3,3025.0,2750.0,2612.74,1259.89,824.85,669.5,664.34,408.39,3953.84,3841.66,239.37,30.0,6384.0,4467.92,1541.1,1354.93,1263.51,1045.0,519.75,499.28,365.26,322.34,122.41,10524.64,6854.02,3206.76,2724.04,2269.0,2169.88,1929.81,1061.8,945.8,899.13,7326.67,5301.72,3596.5,2322.72,1944.45,1491.69,1314.4,836.78,479.0,426.19,3112.89,2500.0,1921.22,1472.87,1444.89,1368.76,1346.36,772.23,688.67,362.63,359.41,354.29,262.81,244.11,9377.82,5540.07,3118.5,2495.8,2362.89,2007.78,1816.41,1500.0,1139.6,952.05,746.89,644.87,188.61,117.4,12714.43,10116.07,1949.14,1852.5,1722.82,1539.07,1476.43,1458.13,1119.52,990.07,987.0,782.44,459.0,377.36,319.67,176.07,154.75,8493.76,3809.83,3222.66,1113.38,766.4,663.17,640.4,619.06,419.18,298.62,160.2,105.5,8323.31,6291.84,4904.64,4096.58,3334.65,1755.95,1160.63,1098.37,818.79,651.57,646.79,584.61,417.04,399.9,371.63,365.5,275.43,146.56,14651.31,6754.81,5071.99,4809.52,2884.46,2591.33,2419.75,1321.7,1308.0,981.86,843.98,817.62,712.0,634.48,463.96,462.93,430.38,388.71,112.78,85.0,12151.86,5186.82,4451.39,3968.51,3392.58,1879.51,1792.54,1607.6,1238.0,1130.0,1081.71,1033.84,671.59,361.37,171.7,40.0,3203.35,3060.69,2171.93,1727.85,1550.0,1470.35,1229.01,1010.94,575.36,555.34,533.11,459.1,253.75,148.65,4184.46,4082.49,1846.1,1688.78,1118.91,749.64,725.71,722.02,648.06,593.46,516.81,302.54,300.0,278.55,248.68,131.0,28.46,13058.85,6950.54,2930.0,2112.46,2100.0,1500.0,1386.41,1270.17,1203.81,993.59,903.0,900.0,583.76,580.32,376.46,275.94,91.27,6013.74,4804.22,3179.28,2893.53,1916.21,1209.08,1036.74,986.12,893.03,754.31,740.38,694.91,693.13,564.05,551.78,549.77,497.85,403.3,358.7,284.54,228.0,177.6,177.42,139.79,33137.5,7293.43,3754.51,3495.14,3140.66,2137.4,1971.75,1956.0,1870.58,1650.0,1188.74,1115.89,1088.73,1074.35,1016.43,860.67,831.8,796.8,759.57,668.74,582.62,404.0,393.5,309.67,292.44,221.7,103.75,11511.72,6090.02,1727.33,1235.07,910.01,812.98,562.05,527.34,451.31,332.06,315.53,10527.4,7751.55,5711.53,3804.44,3760.07,2757.83,2565.84,2221.87,2139.9,2000.0,1363.23,1132.41,993.19,964.22,898.55,822.1,761.22,754.56,685.71,622.53,604.95,587.51,490.25,489.73,465.5,329.91,272.01,258.5,4643.8,3523.9,3007.96,2192.98,1752.16,1686.2,1648.41,1381.16,1336.26,1248.01,950.61,945.56,880.82,713.55,645.8,626.38,573.4,488.16,458.0,443.95,253.59,209.83,138.86,100.0,30.0,24624.44,8123.33,5158.65,5035.93,4625.47,1707.92,1694.59,1501.05,1369.74,946.38,825.66,682.85,604.95,585.34,565.02,529.28,388.03,377.54,303.0,300.0,198.98,135.0,47.52,11458.07,8300.31,7827.74,6261.92,5861.5,5381.14,4532.02,3656.77,2928.92,2547.5,2276.5,2017.28,1678.17,1651.86,1482.45,1480.93,1348.93,1189.96,1090.41,940.28,925.47,852.22,417.18,369.02,346.79,244.23,132.0,100.0,14753.58,11288.76,10175.27,6277.84,4939.5,4786.51,3167.49,2572.22,1712.27,1712.13,1396.61,1377.31,1108.42,1001.76,989.59,891.09,882.77,670.77,638.99,546.32,536.11,533.33,464.59,460.36,291.92,257.01,106.0,7487.94,7296.2,4929.65,2532.6,2344.69,1855.85,1812.47,1431.81,1226.28,1122.12,1090.75,1067.57,1012.19,928.2,861.89,809.34,782.9,768.05,698.65,630.11,617.9,594.8,585.74,390.02,291.28,236.53,10077.0,8569.3,6124.34,5335.35,3486.96,3255.88,2985.29,2418.4,2368.69,2007.64,1996.0,1869.49,1600.18,1278.52,1212.85,1039.69,834.12,805.18,676.15,651.18,586.85,315.61,311.32,25.44,9793.42,7620.37,6800.94,4781.43,3944.37,2406.0,1613.41,1340.74,1249.02,1086.9,941.85,909.99,903.99,875.28,738.18,492.22,468.0,443.49,439.22,359.11,8215.8,6208.2,5241.71,3912.49,3230.09,2600.0,2531.24,2038.05,1890.5,1704.54,1145.63,959.52,763.07,746.63,700.0,554.55,545.3,490.6,273.29,189.9,10652.59,5556.75,3403.09,3328.93,2805.73,2593.89,2586.45,2125.09,1739.92,1696.26,1352.01,1266.44,1167.44,1035.03,1014.98,941.51,840.73,739.87,720.53,699.19,677.43,634.14,545.35,520.96,500.0,459.43,267.25,219.89,175.0,171.97,10264.47,4610.48,4551.35,2905.94,2128.29,2100.0,1897.85,1876.31,1789.33,1690.06,1669.4,1595.82,1400.0,1395.42,1221.73,1200.0,1152.26,1130.8,1061.28,992.48,926.2,922.58,777.53,767.54,706.49,705.64,684.15,672.91,627.89,613.97,499.0,496.58,445.68,435.72,335.91,222.15,116.66,97.7,8144.41,7522.19,7063.69,6630.91,4465.03,3451.91,3227.06,3105.06,2477.0,2471.81,2435.85,2362.48,2045.43,1688.9,1567.05,1515.46,1357.83,1272.79,1123.7,864.92,781.8,747.81,719.83,715.0,651.82,651.52,616.07,575.42,433.82,377.58,365.12,334.8,291.29,164.33,145.75,26.23,5134.29,3820.97,3732.91,3222.45,2643.26,1930.21,1655.67,1641.81,1636.11,1590.34,1462.72,1379.11,1264.6,1173.25,1008.05,913.97,843.0,787.49,735.0,500.0,494.96,480.73,395.27,386.56,372.95,309.52,259.25,224.54,180.07,7780.9,3890.9,3511.68,3018.03,2191.83,2011.47,1938.6,1430.24,1350.0,1211.84,1210.38,1097.13,1056.58,1013.93,991.36,922.82,904.02,900.0,842.57,825.69,795.08,634.89,633.0,500.0,496.25,474.18,468.9,378.4,360.7,328.18,290.0,273.92,125.0,110.78,79.8,10538.65,8903.29,5758.21,5335.18,4748.38,4211.19,3521.32,3056.01,2946.55,2912.28,2596.17,2437.24,2301.61,2277.0,1942.82,1450.55,1222.12,1063.39,954.98,771.25,681.17,596.05,532.1,523.95,523.93,490.83,481.82,471.38,440.66,440.51,437.26,350.0,347.79,343.5,333.05,327.41,17.79,15279.68,7108.52,7038.61,5479.6,3978.91,2683.21,2635.78,2575.79,2317.29,2310.0,1542.91,1540.27,1514.0,1292.26,1230.12,1222.94,1215.89,1168.23,1150.0,1146.53,992.24,742.82,742.7,740.44,665.29,622.99,582.31,548.2,442.92,429.7,250.56,249.01,7419.73,7275.0,6867.53,5604.53,5347.31,5263.84,5169.91,4488.66,4302.05,3807.25,3781.2,3435.92,3410.38,2211.92,2005.64,1993.9,1757.0,1662.83,1584.11,1533.74,1414.86,1403.93,1371.51,1336.0,1112.82,1100.68,1064.4,1046.66,902.67,806.73,785.41,718.1,537.28,530.33,483.1,437.77,342.04,243.0,218.01,194.44,142.74,11669.62,7966.3,4681.0,4334.51,4060.6,3648.0,3569.77,2992.53,2330.86,2203.89,2200.97,2100.56,1916.44,1913.63,1809.29,1514.75,1367.13,1294.25,1151.46,1100.39,1097.92,1095.07,1049.61,1012.67,857.65,843.54,759.89,692.58,681.24,677.29,636.71,595.0,563.86,555.58,547.85,547.09,538.41,520.5,493.79,485.77,450.54,439.97,436.76,312.97,302.1,287.03,274.3,259.43,113.92,50.0,41.75,16175.0,15845.0,9668.22,7964.72,6210.85,6055.33,5882.0,5370.19,4171.55,4118.55,3942.63,3696.0,3070.28,2941.5,2908.31,2420.85,2319.89,2313.46,2264.77,2100.0,2027.99,1967.97,1758.73,1722.29,1541.52,1523.72,1376.27,1263.16,1226.12,1190.97,1151.64,1057.79,1044.7,896.83,894.35,871.59,778.22,755.29,750.0,739.14,717.05,675.0,671.72,628.83,627.19,538.16,504.47,490.0,487.51,442.7,436.37,355.86,351.12,322.48,312.28,310.9,198.61,90.64,9.5,12582.27,6890.65,6500.9,6193.21,5389.99,4097.87,3729.71,2883.95,2649.87,2630.23,2612.98,2572.15,2497.95,1973.7,1784.33,1767.51,1764.0,1552.58,1501.77,1430.98,1237.92,1216.36,1200.15,1048.92,1040.44,995.3,968.58,925.51,860.56,857.87,852.32,804.64,803.48,783.52,762.0,750.0,736.48,701.15,629.94,628.77,622.64,611.57,570.67,560.2,501.15,395.22,346.11,343.01,337.12,311.11,216.05,204.0,200.0,97.61,61.34,12840.97,8332.26,7681.88,7470.43,6353.97,6167.91,5736.48,5559.99,5556.29,4799.3,3875.35,3189.51,2976.8,2850.0,2814.95,2464.86,2381.3,2372.43,2354.25,2353.79,2152.01,2007.0,1972.13,1835.0,1799.75,1718.52,1586.12,1563.22,1525.54,1515.82,1434.74,1407.91,1263.22,1220.37,1204.08,1037.08,954.26,935.97,885.61,865.94,824.84,788.11,728.19,725.77,653.36,606.83,597.92,594.07,479.54,453.55,436.91,431.77,382.13,377.6,350.0,326.43,276.78,271.14,261.0,250.0,250.0,129.0],\"xaxis\":\"x\",\"yaxis\":\"y\",\"type\":\"histogram\"}],                        {\"template\":{\"data\":{\"histogram2dcontour\":[{\"type\":\"histogram2dcontour\",\"colorbar\":{\"outlinewidth\":0,\"ticks\":\"\"},\"colorscale\":[[0.0,\"#0d0887\"],[0.1111111111111111,\"#46039f\"],[0.2222222222222222,\"#7201a8\"],[0.3333333333333333,\"#9c179e\"],[0.4444444444444444,\"#bd3786\"],[0.5555555555555556,\"#d8576b\"],[0.6666666666666666,\"#ed7953\"],[0.7777777777777778,\"#fb9f3a\"],[0.8888888888888888,\"#fdca26\"],[1.0,\"#f0f921\"]]}],\"choropleth\":[{\"type\":\"choropleth\",\"colorbar\":{\"outlinewidth\":0,\"ticks\":\"\"}}],\"histogram2d\":[{\"type\":\"histogram2d\",\"colorbar\":{\"outlinewidth\":0,\"ticks\":\"\"},\"colorscale\":[[0.0,\"#0d0887\"],[0.1111111111111111,\"#46039f\"],[0.2222222222222222,\"#7201a8\"],[0.3333333333333333,\"#9c179e\"],[0.4444444444444444,\"#bd3786\"],[0.5555555555555556,\"#d8576b\"],[0.6666666666666666,\"#ed7953\"],[0.7777777777777778,\"#fb9f3a\"],[0.8888888888888888,\"#fdca26\"],[1.0,\"#f0f921\"]]}],\"heatmap\":[{\"type\":\"heatmap\",\"colorbar\":{\"outlinewidth\":0,\"ticks\":\"\"},\"colorscale\":[[0.0,\"#0d0887\"],[0.1111111111111111,\"#46039f\"],[0.2222222222222222,\"#7201a8\"],[0.3333333333333333,\"#9c179e\"],[0.4444444444444444,\"#bd3786\"],[0.5555555555555556,\"#d8576b\"],[0.6666666666666666,\"#ed7953\"],[0.7777777777777778,\"#fb9f3a\"],[0.8888888888888888,\"#fdca26\"],[1.0,\"#f0f921\"]]}],\"heatmapgl\":[{\"type\":\"heatmapgl\",\"colorbar\":{\"outlinewidth\":0,\"ticks\":\"\"},\"colorscale\":[[0.0,\"#0d0887\"],[0.1111111111111111,\"#46039f\"],[0.2222222222222222,\"#7201a8\"],[0.3333333333333333,\"#9c179e\"],[0.4444444444444444,\"#bd3786\"],[0.5555555555555556,\"#d8576b\"],[0.6666666666666666,\"#ed7953\"],[0.7777777777777778,\"#fb9f3a\"],[0.8888888888888888,\"#fdca26\"],[1.0,\"#f0f921\"]]}],\"contourcarpet\":[{\"type\":\"contourcarpet\",\"colorbar\":{\"outlinewidth\":0,\"ticks\":\"\"}}],\"contour\":[{\"type\":\"contour\",\"colorbar\":{\"outlinewidth\":0,\"ticks\":\"\"},\"colorscale\":[[0.0,\"#0d0887\"],[0.1111111111111111,\"#46039f\"],[0.2222222222222222,\"#7201a8\"],[0.3333333333333333,\"#9c179e\"],[0.4444444444444444,\"#bd3786\"],[0.5555555555555556,\"#d8576b\"],[0.6666666666666666,\"#ed7953\"],[0.7777777777777778,\"#fb9f3a\"],[0.8888888888888888,\"#fdca26\"],[1.0,\"#f0f921\"]]}],\"surface\":[{\"type\":\"surface\",\"colorbar\":{\"outlinewidth\":0,\"ticks\":\"\"},\"colorscale\":[[0.0,\"#0d0887\"],[0.1111111111111111,\"#46039f\"],[0.2222222222222222,\"#7201a8\"],[0.3333333333333333,\"#9c179e\"],[0.4444444444444444,\"#bd3786\"],[0.5555555555555556,\"#d8576b\"],[0.6666666666666666,\"#ed7953\"],[0.7777777777777778,\"#fb9f3a\"],[0.8888888888888888,\"#fdca26\"],[1.0,\"#f0f921\"]]}],\"mesh3d\":[{\"type\":\"mesh3d\",\"colorbar\":{\"outlinewidth\":0,\"ticks\":\"\"}}],\"scatter\":[{\"fillpattern\":{\"fillmode\":\"overlay\",\"size\":10,\"solidity\":0.2},\"type\":\"scatter\"}],\"parcoords\":[{\"type\":\"parcoords\",\"line\":{\"colorbar\":{\"outlinewidth\":0,\"ticks\":\"\"}}}],\"scatterpolargl\":[{\"type\":\"scatterpolargl\",\"marker\":{\"colorbar\":{\"outlinewidth\":0,\"ticks\":\"\"}}}],\"bar\":[{\"error_x\":{\"color\":\"#2a3f5f\"},\"error_y\":{\"color\":\"#2a3f5f\"},\"marker\":{\"line\":{\"color\":\"#E5ECF6\",\"width\":0.5},\"pattern\":{\"fillmode\":\"overlay\",\"size\":10,\"solidity\":0.2}},\"type\":\"bar\"}],\"scattergeo\":[{\"type\":\"scattergeo\",\"marker\":{\"colorbar\":{\"outlinewidth\":0,\"ticks\":\"\"}}}],\"scatterpolar\":[{\"type\":\"scatterpolar\",\"marker\":{\"colorbar\":{\"outlinewidth\":0,\"ticks\":\"\"}}}],\"histogram\":[{\"marker\":{\"pattern\":{\"fillmode\":\"overlay\",\"size\":10,\"solidity\":0.2}},\"type\":\"histogram\"}],\"scattergl\":[{\"type\":\"scattergl\",\"marker\":{\"colorbar\":{\"outlinewidth\":0,\"ticks\":\"\"}}}],\"scatter3d\":[{\"type\":\"scatter3d\",\"line\":{\"colorbar\":{\"outlinewidth\":0,\"ticks\":\"\"}},\"marker\":{\"colorbar\":{\"outlinewidth\":0,\"ticks\":\"\"}}}],\"scattermapbox\":[{\"type\":\"scattermapbox\",\"marker\":{\"colorbar\":{\"outlinewidth\":0,\"ticks\":\"\"}}}],\"scatterternary\":[{\"type\":\"scatterternary\",\"marker\":{\"colorbar\":{\"outlinewidth\":0,\"ticks\":\"\"}}}],\"scattercarpet\":[{\"type\":\"scattercarpet\",\"marker\":{\"colorbar\":{\"outlinewidth\":0,\"ticks\":\"\"}}}],\"carpet\":[{\"aaxis\":{\"endlinecolor\":\"#2a3f5f\",\"gridcolor\":\"white\",\"linecolor\":\"white\",\"minorgridcolor\":\"white\",\"startlinecolor\":\"#2a3f5f\"},\"baxis\":{\"endlinecolor\":\"#2a3f5f\",\"gridcolor\":\"white\",\"linecolor\":\"white\",\"minorgridcolor\":\"white\",\"startlinecolor\":\"#2a3f5f\"},\"type\":\"carpet\"}],\"table\":[{\"cells\":{\"fill\":{\"color\":\"#EBF0F8\"},\"line\":{\"color\":\"white\"}},\"header\":{\"fill\":{\"color\":\"#C8D4E3\"},\"line\":{\"color\":\"white\"}},\"type\":\"table\"}],\"barpolar\":[{\"marker\":{\"line\":{\"color\":\"#E5ECF6\",\"width\":0.5},\"pattern\":{\"fillmode\":\"overlay\",\"size\":10,\"solidity\":0.2}},\"type\":\"barpolar\"}],\"pie\":[{\"automargin\":true,\"type\":\"pie\"}]},\"layout\":{\"autotypenumbers\":\"strict\",\"colorway\":[\"#636efa\",\"#EF553B\",\"#00cc96\",\"#ab63fa\",\"#FFA15A\",\"#19d3f3\",\"#FF6692\",\"#B6E880\",\"#FF97FF\",\"#FECB52\"],\"font\":{\"color\":\"#2a3f5f\"},\"hovermode\":\"closest\",\"hoverlabel\":{\"align\":\"left\"},\"paper_bgcolor\":\"white\",\"plot_bgcolor\":\"#E5ECF6\",\"polar\":{\"bgcolor\":\"#E5ECF6\",\"angularaxis\":{\"gridcolor\":\"white\",\"linecolor\":\"white\",\"ticks\":\"\"},\"radialaxis\":{\"gridcolor\":\"white\",\"linecolor\":\"white\",\"ticks\":\"\"}},\"ternary\":{\"bgcolor\":\"#E5ECF6\",\"aaxis\":{\"gridcolor\":\"white\",\"linecolor\":\"white\",\"ticks\":\"\"},\"baxis\":{\"gridcolor\":\"white\",\"linecolor\":\"white\",\"ticks\":\"\"},\"caxis\":{\"gridcolor\":\"white\",\"linecolor\":\"white\",\"ticks\":\"\"}},\"coloraxis\":{\"colorbar\":{\"outlinewidth\":0,\"ticks\":\"\"}},\"colorscale\":{\"sequential\":[[0.0,\"#0d0887\"],[0.1111111111111111,\"#46039f\"],[0.2222222222222222,\"#7201a8\"],[0.3333333333333333,\"#9c179e\"],[0.4444444444444444,\"#bd3786\"],[0.5555555555555556,\"#d8576b\"],[0.6666666666666666,\"#ed7953\"],[0.7777777777777778,\"#fb9f3a\"],[0.8888888888888888,\"#fdca26\"],[1.0,\"#f0f921\"]],\"sequentialminus\":[[0.0,\"#0d0887\"],[0.1111111111111111,\"#46039f\"],[0.2222222222222222,\"#7201a8\"],[0.3333333333333333,\"#9c179e\"],[0.4444444444444444,\"#bd3786\"],[0.5555555555555556,\"#d8576b\"],[0.6666666666666666,\"#ed7953\"],[0.7777777777777778,\"#fb9f3a\"],[0.8888888888888888,\"#fdca26\"],[1.0,\"#f0f921\"]],\"diverging\":[[0,\"#8e0152\"],[0.1,\"#c51b7d\"],[0.2,\"#de77ae\"],[0.3,\"#f1b6da\"],[0.4,\"#fde0ef\"],[0.5,\"#f7f7f7\"],[0.6,\"#e6f5d0\"],[0.7,\"#b8e186\"],[0.8,\"#7fbc41\"],[0.9,\"#4d9221\"],[1,\"#276419\"]]},\"xaxis\":{\"gridcolor\":\"white\",\"linecolor\":\"white\",\"ticks\":\"\",\"title\":{\"standoff\":15},\"zerolinecolor\":\"white\",\"automargin\":true,\"zerolinewidth\":2},\"yaxis\":{\"gridcolor\":\"white\",\"linecolor\":\"white\",\"ticks\":\"\",\"title\":{\"standoff\":15},\"zerolinecolor\":\"white\",\"automargin\":true,\"zerolinewidth\":2},\"scene\":{\"xaxis\":{\"backgroundcolor\":\"#E5ECF6\",\"gridcolor\":\"white\",\"linecolor\":\"white\",\"showbackground\":true,\"ticks\":\"\",\"zerolinecolor\":\"white\",\"gridwidth\":2},\"yaxis\":{\"backgroundcolor\":\"#E5ECF6\",\"gridcolor\":\"white\",\"linecolor\":\"white\",\"showbackground\":true,\"ticks\":\"\",\"zerolinecolor\":\"white\",\"gridwidth\":2},\"zaxis\":{\"backgroundcolor\":\"#E5ECF6\",\"gridcolor\":\"white\",\"linecolor\":\"white\",\"showbackground\":true,\"ticks\":\"\",\"zerolinecolor\":\"white\",\"gridwidth\":2}},\"shapedefaults\":{\"line\":{\"color\":\"#2a3f5f\"}},\"annotationdefaults\":{\"arrowcolor\":\"#2a3f5f\",\"arrowhead\":0,\"arrowwidth\":1},\"geo\":{\"bgcolor\":\"white\",\"landcolor\":\"#E5ECF6\",\"subunitcolor\":\"white\",\"showland\":true,\"showlakes\":true,\"lakecolor\":\"white\"},\"title\":{\"x\":0.05},\"mapbox\":{\"style\":\"light\"}}},\"xaxis\":{\"anchor\":\"y\",\"domain\":[0.0,1.0],\"title\":{\"text\":\"PAID\"}},\"yaxis\":{\"anchor\":\"x\",\"domain\":[0.0,1.0],\"title\":{\"text\":\"count\"}},\"legend\":{\"tracegroupgap\":0},\"margin\":{\"t\":60},\"barmode\":\"relative\"},                        {\"responsive\": true}                    ).then(function(){\n",
       "                            \n",
       "var gd = document.getElementById('64b87be8-21bc-4329-a4ea-68db1d6703fe');\n",
       "var x = new MutationObserver(function (mutations, observer) {{\n",
       "        var display = window.getComputedStyle(gd).display;\n",
       "        if (!display || display === 'none') {{\n",
       "            console.log([gd, 'removed!']);\n",
       "            Plotly.purge(gd);\n",
       "            observer.disconnect();\n",
       "        }}\n",
       "}});\n",
       "\n",
       "// Listen for the removal of the full notebook cells\n",
       "var notebookContainer = gd.closest('#notebook-container');\n",
       "if (notebookContainer) {{\n",
       "    x.observe(notebookContainer, {childList: true});\n",
       "}}\n",
       "\n",
       "// Listen for the clearing of the current output cell\n",
       "var outputEl = gd.closest('.output');\n",
       "if (outputEl) {{\n",
       "    x.observe(outputEl, {childList: true});\n",
       "}}\n",
       "\n",
       "                        })                };                });            </script>        </div>"
      ]
     },
     "metadata": {},
     "output_type": "display_data"
    }
   ],
   "source": [
    "fig = px.histogram(auto_claims_population_csv_asdf, x=\"PAID\", nbins=20)\n",
    "fig.show()"
   ]
  },
  {
   "cell_type": "code",
   "execution_count": 28,
   "id": "8622914e",
   "metadata": {},
   "outputs": [
    {
     "data": {
      "application/vnd.plotly.v1+json": {
       "config": {
        "plotlyServerURL": "https://plot.ly"
       },
       "data": [
        {
         "alignmentgroup": "True",
         "hovertemplate": "PAID=%{x}<extra></extra>",
         "legendgroup": "",
         "marker": {
          "color": "#636efa"
         },
         "name": "",
         "notched": false,
         "offsetgroup": "",
         "orientation": "h",
         "showlegend": false,
         "type": "box",
         "x": [
          2384.67,
          650,
          654,
          3890.07,
          295.99,
          11756.34,
          2402,
          296.97,
          249.1,
          14833.3,
          3025,
          2750,
          2612.74,
          1259.89,
          824.85,
          669.5,
          664.34,
          408.39,
          3953.84,
          3841.66,
          239.37,
          30,
          6384,
          4467.92,
          1541.1,
          1354.93,
          1263.51,
          1045,
          519.75,
          499.28,
          365.26,
          322.34,
          122.41,
          10524.64,
          6854.02,
          3206.76,
          2724.04,
          2269,
          2169.88,
          1929.81,
          1061.8,
          945.8,
          899.13,
          7326.67,
          5301.72,
          3596.5,
          2322.72,
          1944.45,
          1491.69,
          1314.4,
          836.78,
          479,
          426.19,
          3112.89,
          2500,
          1921.22,
          1472.87,
          1444.89,
          1368.76,
          1346.36,
          772.23,
          688.67,
          362.63,
          359.41,
          354.29,
          262.81,
          244.11,
          9377.82,
          5540.07,
          3118.5,
          2495.8,
          2362.89,
          2007.78,
          1816.41,
          1500,
          1139.6,
          952.05,
          746.89,
          644.87,
          188.61,
          117.4,
          12714.43,
          10116.07,
          1949.14,
          1852.5,
          1722.82,
          1539.07,
          1476.43,
          1458.13,
          1119.52,
          990.07,
          987,
          782.44,
          459,
          377.36,
          319.67,
          176.07,
          154.75,
          8493.76,
          3809.83,
          3222.66,
          1113.38,
          766.4,
          663.17,
          640.4,
          619.06,
          419.18,
          298.62,
          160.2,
          105.5,
          8323.31,
          6291.84,
          4904.64,
          4096.58,
          3334.65,
          1755.95,
          1160.63,
          1098.37,
          818.79,
          651.57,
          646.79,
          584.61,
          417.04,
          399.9,
          371.63,
          365.5,
          275.43,
          146.56,
          14651.31,
          6754.81,
          5071.99,
          4809.52,
          2884.46,
          2591.33,
          2419.75,
          1321.7,
          1308,
          981.86,
          843.98,
          817.62,
          712,
          634.48,
          463.96,
          462.93,
          430.38,
          388.71,
          112.78,
          85,
          12151.86,
          5186.82,
          4451.39,
          3968.51,
          3392.58,
          1879.51,
          1792.54,
          1607.6,
          1238,
          1130,
          1081.71,
          1033.84,
          671.59,
          361.37,
          171.7,
          40,
          3203.35,
          3060.69,
          2171.93,
          1727.85,
          1550,
          1470.35,
          1229.01,
          1010.94,
          575.36,
          555.34,
          533.11,
          459.1,
          253.75,
          148.65,
          4184.46,
          4082.49,
          1846.1,
          1688.78,
          1118.91,
          749.64,
          725.71,
          722.02,
          648.06,
          593.46,
          516.81,
          302.54,
          300,
          278.55,
          248.68,
          131,
          28.46,
          13058.85,
          6950.54,
          2930,
          2112.46,
          2100,
          1500,
          1386.41,
          1270.17,
          1203.81,
          993.59,
          903,
          900,
          583.76,
          580.32,
          376.46,
          275.94,
          91.27,
          6013.74,
          4804.22,
          3179.28,
          2893.53,
          1916.21,
          1209.08,
          1036.74,
          986.12,
          893.03,
          754.31,
          740.38,
          694.91,
          693.13,
          564.05,
          551.78,
          549.77,
          497.85,
          403.3,
          358.7,
          284.54,
          228,
          177.6,
          177.42,
          139.79,
          33137.5,
          7293.43,
          3754.51,
          3495.14,
          3140.66,
          2137.4,
          1971.75,
          1956,
          1870.58,
          1650,
          1188.74,
          1115.89,
          1088.73,
          1074.35,
          1016.43,
          860.67,
          831.8,
          796.8,
          759.57,
          668.74,
          582.62,
          404,
          393.5,
          309.67,
          292.44,
          221.7,
          103.75,
          11511.72,
          6090.02,
          1727.33,
          1235.07,
          910.01,
          812.98,
          562.05,
          527.34,
          451.31,
          332.06,
          315.53,
          10527.4,
          7751.55,
          5711.53,
          3804.44,
          3760.07,
          2757.83,
          2565.84,
          2221.87,
          2139.9,
          2000,
          1363.23,
          1132.41,
          993.19,
          964.22,
          898.55,
          822.1,
          761.22,
          754.56,
          685.71,
          622.53,
          604.95,
          587.51,
          490.25,
          489.73,
          465.5,
          329.91,
          272.01,
          258.5,
          4643.8,
          3523.9,
          3007.96,
          2192.98,
          1752.16,
          1686.2,
          1648.41,
          1381.16,
          1336.26,
          1248.01,
          950.61,
          945.56,
          880.82,
          713.55,
          645.8,
          626.38,
          573.4,
          488.16,
          458,
          443.95,
          253.59,
          209.83,
          138.86,
          100,
          30,
          24624.44,
          8123.33,
          5158.65,
          5035.93,
          4625.47,
          1707.92,
          1694.59,
          1501.05,
          1369.74,
          946.38,
          825.66,
          682.85,
          604.95,
          585.34,
          565.02,
          529.28,
          388.03,
          377.54,
          303,
          300,
          198.98,
          135,
          47.52,
          11458.07,
          8300.31,
          7827.74,
          6261.92,
          5861.5,
          5381.14,
          4532.02,
          3656.77,
          2928.92,
          2547.5,
          2276.5,
          2017.28,
          1678.17,
          1651.86,
          1482.45,
          1480.93,
          1348.93,
          1189.96,
          1090.41,
          940.28,
          925.47,
          852.22,
          417.18,
          369.02,
          346.79,
          244.23,
          132,
          100,
          14753.58,
          11288.76,
          10175.27,
          6277.84,
          4939.5,
          4786.51,
          3167.49,
          2572.22,
          1712.27,
          1712.13,
          1396.61,
          1377.31,
          1108.42,
          1001.76,
          989.59,
          891.09,
          882.77,
          670.77,
          638.99,
          546.32,
          536.11,
          533.33,
          464.59,
          460.36,
          291.92,
          257.01,
          106,
          7487.94,
          7296.2,
          4929.65,
          2532.6,
          2344.69,
          1855.85,
          1812.47,
          1431.81,
          1226.28,
          1122.12,
          1090.75,
          1067.57,
          1012.19,
          928.2,
          861.89,
          809.34,
          782.9,
          768.05,
          698.65,
          630.11,
          617.9,
          594.8,
          585.74,
          390.02,
          291.28,
          236.53,
          10077,
          8569.3,
          6124.34,
          5335.35,
          3486.96,
          3255.88,
          2985.29,
          2418.4,
          2368.69,
          2007.64,
          1996,
          1869.49,
          1600.18,
          1278.52,
          1212.85,
          1039.69,
          834.12,
          805.18,
          676.15,
          651.18,
          586.85,
          315.61,
          311.32,
          25.44,
          9793.42,
          7620.37,
          6800.94,
          4781.43,
          3944.37,
          2406,
          1613.41,
          1340.74,
          1249.02,
          1086.9,
          941.85,
          909.99,
          903.99,
          875.28,
          738.18,
          492.22,
          468,
          443.49,
          439.22,
          359.11,
          8215.8,
          6208.2,
          5241.71,
          3912.49,
          3230.09,
          2600,
          2531.24,
          2038.05,
          1890.5,
          1704.54,
          1145.63,
          959.52,
          763.07,
          746.63,
          700,
          554.55,
          545.3,
          490.6,
          273.29,
          189.9,
          10652.59,
          5556.75,
          3403.09,
          3328.93,
          2805.73,
          2593.89,
          2586.45,
          2125.09,
          1739.92,
          1696.26,
          1352.01,
          1266.44,
          1167.44,
          1035.03,
          1014.98,
          941.51,
          840.73,
          739.87,
          720.53,
          699.19,
          677.43,
          634.14,
          545.35,
          520.96,
          500,
          459.43,
          267.25,
          219.89,
          175,
          171.97,
          10264.47,
          4610.48,
          4551.35,
          2905.94,
          2128.29,
          2100,
          1897.85,
          1876.31,
          1789.33,
          1690.06,
          1669.4,
          1595.82,
          1400,
          1395.42,
          1221.73,
          1200,
          1152.26,
          1130.8,
          1061.28,
          992.48,
          926.2,
          922.58,
          777.53,
          767.54,
          706.49,
          705.64,
          684.15,
          672.91,
          627.89,
          613.97,
          499,
          496.58,
          445.68,
          435.72,
          335.91,
          222.15,
          116.66,
          97.7,
          8144.41,
          7522.19,
          7063.69,
          6630.91,
          4465.03,
          3451.91,
          3227.06,
          3105.06,
          2477,
          2471.81,
          2435.85,
          2362.48,
          2045.43,
          1688.9,
          1567.05,
          1515.46,
          1357.83,
          1272.79,
          1123.7,
          864.92,
          781.8,
          747.81,
          719.83,
          715,
          651.82,
          651.52,
          616.07,
          575.42,
          433.82,
          377.58,
          365.12,
          334.8,
          291.29,
          164.33,
          145.75,
          26.23,
          5134.29,
          3820.97,
          3732.91,
          3222.45,
          2643.26,
          1930.21,
          1655.67,
          1641.81,
          1636.11,
          1590.34,
          1462.72,
          1379.11,
          1264.6,
          1173.25,
          1008.05,
          913.97,
          843,
          787.49,
          735,
          500,
          494.96,
          480.73,
          395.27,
          386.56,
          372.95,
          309.52,
          259.25,
          224.54,
          180.07,
          7780.9,
          3890.9,
          3511.68,
          3018.03,
          2191.83,
          2011.47,
          1938.6,
          1430.24,
          1350,
          1211.84,
          1210.38,
          1097.13,
          1056.58,
          1013.93,
          991.36,
          922.82,
          904.02,
          900,
          842.57,
          825.69,
          795.08,
          634.89,
          633,
          500,
          496.25,
          474.18,
          468.9,
          378.4,
          360.7,
          328.18,
          290,
          273.92,
          125,
          110.78,
          79.8,
          10538.65,
          8903.29,
          5758.21,
          5335.18,
          4748.38,
          4211.19,
          3521.32,
          3056.01,
          2946.55,
          2912.28,
          2596.17,
          2437.24,
          2301.61,
          2277,
          1942.82,
          1450.55,
          1222.12,
          1063.39,
          954.98,
          771.25,
          681.17,
          596.05,
          532.1,
          523.95,
          523.93,
          490.83,
          481.82,
          471.38,
          440.66,
          440.51,
          437.26,
          350,
          347.79,
          343.5,
          333.05,
          327.41,
          17.79,
          15279.68,
          7108.52,
          7038.61,
          5479.6,
          3978.91,
          2683.21,
          2635.78,
          2575.79,
          2317.29,
          2310,
          1542.91,
          1540.27,
          1514,
          1292.26,
          1230.12,
          1222.94,
          1215.89,
          1168.23,
          1150,
          1146.53,
          992.24,
          742.82,
          742.7,
          740.44,
          665.29,
          622.99,
          582.31,
          548.2,
          442.92,
          429.7,
          250.56,
          249.01,
          7419.73,
          7275,
          6867.53,
          5604.53,
          5347.31,
          5263.84,
          5169.91,
          4488.66,
          4302.05,
          3807.25,
          3781.2,
          3435.92,
          3410.38,
          2211.92,
          2005.64,
          1993.9,
          1757,
          1662.83,
          1584.11,
          1533.74,
          1414.86,
          1403.93,
          1371.51,
          1336,
          1112.82,
          1100.68,
          1064.4,
          1046.66,
          902.67,
          806.73,
          785.41,
          718.1,
          537.28,
          530.33,
          483.1,
          437.77,
          342.04,
          243,
          218.01,
          194.44,
          142.74,
          11669.62,
          7966.3,
          4681,
          4334.51,
          4060.6,
          3648,
          3569.77,
          2992.53,
          2330.86,
          2203.89,
          2200.97,
          2100.56,
          1916.44,
          1913.63,
          1809.29,
          1514.75,
          1367.13,
          1294.25,
          1151.46,
          1100.39,
          1097.92,
          1095.07,
          1049.61,
          1012.67,
          857.65,
          843.54,
          759.89,
          692.58,
          681.24,
          677.29,
          636.71,
          595,
          563.86,
          555.58,
          547.85,
          547.09,
          538.41,
          520.5,
          493.79,
          485.77,
          450.54,
          439.97,
          436.76,
          312.97,
          302.1,
          287.03,
          274.3,
          259.43,
          113.92,
          50,
          41.75,
          16175,
          15845,
          9668.22,
          7964.72,
          6210.85,
          6055.33,
          5882,
          5370.19,
          4171.55,
          4118.55,
          3942.63,
          3696,
          3070.28,
          2941.5,
          2908.31,
          2420.85,
          2319.89,
          2313.46,
          2264.77,
          2100,
          2027.99,
          1967.97,
          1758.73,
          1722.29,
          1541.52,
          1523.72,
          1376.27,
          1263.16,
          1226.12,
          1190.97,
          1151.64,
          1057.79,
          1044.7,
          896.83,
          894.35,
          871.59,
          778.22,
          755.29,
          750,
          739.14,
          717.05,
          675,
          671.72,
          628.83,
          627.19,
          538.16,
          504.47,
          490,
          487.51,
          442.7,
          436.37,
          355.86,
          351.12,
          322.48,
          312.28,
          310.9,
          198.61,
          90.64,
          9.5,
          12582.27,
          6890.65,
          6500.9,
          6193.21,
          5389.99,
          4097.87,
          3729.71,
          2883.95,
          2649.87,
          2630.23,
          2612.98,
          2572.15,
          2497.95,
          1973.7,
          1784.33,
          1767.51,
          1764,
          1552.58,
          1501.77,
          1430.98,
          1237.92,
          1216.36,
          1200.15,
          1048.92,
          1040.44,
          995.3,
          968.58,
          925.51,
          860.56,
          857.87,
          852.32,
          804.64,
          803.48,
          783.52,
          762,
          750,
          736.48,
          701.15,
          629.94,
          628.77,
          622.64,
          611.57,
          570.67,
          560.2,
          501.15,
          395.22,
          346.11,
          343.01,
          337.12,
          311.11,
          216.05,
          204,
          200,
          97.61,
          61.34,
          12840.97,
          8332.26,
          7681.88,
          7470.43,
          6353.97,
          6167.91,
          5736.48,
          5559.99,
          5556.29,
          4799.3,
          3875.35,
          3189.51,
          2976.8,
          2850,
          2814.95,
          2464.86,
          2381.3,
          2372.43,
          2354.25,
          2353.79,
          2152.01,
          2007,
          1972.13,
          1835,
          1799.75,
          1718.52,
          1586.12,
          1563.22,
          1525.54,
          1515.82,
          1434.74,
          1407.91,
          1263.22,
          1220.37,
          1204.08,
          1037.08,
          954.26,
          935.97,
          885.61,
          865.94,
          824.84,
          788.11,
          728.19,
          725.77,
          653.36,
          606.83,
          597.92,
          594.07,
          479.54,
          453.55,
          436.91,
          431.77,
          382.13,
          377.6,
          350,
          326.43,
          276.78,
          271.14,
          261,
          250,
          250,
          129
         ],
         "x0": " ",
         "xaxis": "x",
         "y0": " ",
         "yaxis": "y"
        }
       ],
       "layout": {
        "boxmode": "group",
        "legend": {
         "tracegroupgap": 0
        },
        "margin": {
         "t": 60
        },
        "template": {
         "data": {
          "bar": [
           {
            "error_x": {
             "color": "#2a3f5f"
            },
            "error_y": {
             "color": "#2a3f5f"
            },
            "marker": {
             "line": {
              "color": "#E5ECF6",
              "width": 0.5
             },
             "pattern": {
              "fillmode": "overlay",
              "size": 10,
              "solidity": 0.2
             }
            },
            "type": "bar"
           }
          ],
          "barpolar": [
           {
            "marker": {
             "line": {
              "color": "#E5ECF6",
              "width": 0.5
             },
             "pattern": {
              "fillmode": "overlay",
              "size": 10,
              "solidity": 0.2
             }
            },
            "type": "barpolar"
           }
          ],
          "carpet": [
           {
            "aaxis": {
             "endlinecolor": "#2a3f5f",
             "gridcolor": "white",
             "linecolor": "white",
             "minorgridcolor": "white",
             "startlinecolor": "#2a3f5f"
            },
            "baxis": {
             "endlinecolor": "#2a3f5f",
             "gridcolor": "white",
             "linecolor": "white",
             "minorgridcolor": "white",
             "startlinecolor": "#2a3f5f"
            },
            "type": "carpet"
           }
          ],
          "choropleth": [
           {
            "colorbar": {
             "outlinewidth": 0,
             "ticks": ""
            },
            "type": "choropleth"
           }
          ],
          "contour": [
           {
            "colorbar": {
             "outlinewidth": 0,
             "ticks": ""
            },
            "colorscale": [
             [
              0,
              "#0d0887"
             ],
             [
              0.1111111111111111,
              "#46039f"
             ],
             [
              0.2222222222222222,
              "#7201a8"
             ],
             [
              0.3333333333333333,
              "#9c179e"
             ],
             [
              0.4444444444444444,
              "#bd3786"
             ],
             [
              0.5555555555555556,
              "#d8576b"
             ],
             [
              0.6666666666666666,
              "#ed7953"
             ],
             [
              0.7777777777777778,
              "#fb9f3a"
             ],
             [
              0.8888888888888888,
              "#fdca26"
             ],
             [
              1,
              "#f0f921"
             ]
            ],
            "type": "contour"
           }
          ],
          "contourcarpet": [
           {
            "colorbar": {
             "outlinewidth": 0,
             "ticks": ""
            },
            "type": "contourcarpet"
           }
          ],
          "heatmap": [
           {
            "colorbar": {
             "outlinewidth": 0,
             "ticks": ""
            },
            "colorscale": [
             [
              0,
              "#0d0887"
             ],
             [
              0.1111111111111111,
              "#46039f"
             ],
             [
              0.2222222222222222,
              "#7201a8"
             ],
             [
              0.3333333333333333,
              "#9c179e"
             ],
             [
              0.4444444444444444,
              "#bd3786"
             ],
             [
              0.5555555555555556,
              "#d8576b"
             ],
             [
              0.6666666666666666,
              "#ed7953"
             ],
             [
              0.7777777777777778,
              "#fb9f3a"
             ],
             [
              0.8888888888888888,
              "#fdca26"
             ],
             [
              1,
              "#f0f921"
             ]
            ],
            "type": "heatmap"
           }
          ],
          "heatmapgl": [
           {
            "colorbar": {
             "outlinewidth": 0,
             "ticks": ""
            },
            "colorscale": [
             [
              0,
              "#0d0887"
             ],
             [
              0.1111111111111111,
              "#46039f"
             ],
             [
              0.2222222222222222,
              "#7201a8"
             ],
             [
              0.3333333333333333,
              "#9c179e"
             ],
             [
              0.4444444444444444,
              "#bd3786"
             ],
             [
              0.5555555555555556,
              "#d8576b"
             ],
             [
              0.6666666666666666,
              "#ed7953"
             ],
             [
              0.7777777777777778,
              "#fb9f3a"
             ],
             [
              0.8888888888888888,
              "#fdca26"
             ],
             [
              1,
              "#f0f921"
             ]
            ],
            "type": "heatmapgl"
           }
          ],
          "histogram": [
           {
            "marker": {
             "pattern": {
              "fillmode": "overlay",
              "size": 10,
              "solidity": 0.2
             }
            },
            "type": "histogram"
           }
          ],
          "histogram2d": [
           {
            "colorbar": {
             "outlinewidth": 0,
             "ticks": ""
            },
            "colorscale": [
             [
              0,
              "#0d0887"
             ],
             [
              0.1111111111111111,
              "#46039f"
             ],
             [
              0.2222222222222222,
              "#7201a8"
             ],
             [
              0.3333333333333333,
              "#9c179e"
             ],
             [
              0.4444444444444444,
              "#bd3786"
             ],
             [
              0.5555555555555556,
              "#d8576b"
             ],
             [
              0.6666666666666666,
              "#ed7953"
             ],
             [
              0.7777777777777778,
              "#fb9f3a"
             ],
             [
              0.8888888888888888,
              "#fdca26"
             ],
             [
              1,
              "#f0f921"
             ]
            ],
            "type": "histogram2d"
           }
          ],
          "histogram2dcontour": [
           {
            "colorbar": {
             "outlinewidth": 0,
             "ticks": ""
            },
            "colorscale": [
             [
              0,
              "#0d0887"
             ],
             [
              0.1111111111111111,
              "#46039f"
             ],
             [
              0.2222222222222222,
              "#7201a8"
             ],
             [
              0.3333333333333333,
              "#9c179e"
             ],
             [
              0.4444444444444444,
              "#bd3786"
             ],
             [
              0.5555555555555556,
              "#d8576b"
             ],
             [
              0.6666666666666666,
              "#ed7953"
             ],
             [
              0.7777777777777778,
              "#fb9f3a"
             ],
             [
              0.8888888888888888,
              "#fdca26"
             ],
             [
              1,
              "#f0f921"
             ]
            ],
            "type": "histogram2dcontour"
           }
          ],
          "mesh3d": [
           {
            "colorbar": {
             "outlinewidth": 0,
             "ticks": ""
            },
            "type": "mesh3d"
           }
          ],
          "parcoords": [
           {
            "line": {
             "colorbar": {
              "outlinewidth": 0,
              "ticks": ""
             }
            },
            "type": "parcoords"
           }
          ],
          "pie": [
           {
            "automargin": true,
            "type": "pie"
           }
          ],
          "scatter": [
           {
            "fillpattern": {
             "fillmode": "overlay",
             "size": 10,
             "solidity": 0.2
            },
            "type": "scatter"
           }
          ],
          "scatter3d": [
           {
            "line": {
             "colorbar": {
              "outlinewidth": 0,
              "ticks": ""
             }
            },
            "marker": {
             "colorbar": {
              "outlinewidth": 0,
              "ticks": ""
             }
            },
            "type": "scatter3d"
           }
          ],
          "scattercarpet": [
           {
            "marker": {
             "colorbar": {
              "outlinewidth": 0,
              "ticks": ""
             }
            },
            "type": "scattercarpet"
           }
          ],
          "scattergeo": [
           {
            "marker": {
             "colorbar": {
              "outlinewidth": 0,
              "ticks": ""
             }
            },
            "type": "scattergeo"
           }
          ],
          "scattergl": [
           {
            "marker": {
             "colorbar": {
              "outlinewidth": 0,
              "ticks": ""
             }
            },
            "type": "scattergl"
           }
          ],
          "scattermapbox": [
           {
            "marker": {
             "colorbar": {
              "outlinewidth": 0,
              "ticks": ""
             }
            },
            "type": "scattermapbox"
           }
          ],
          "scatterpolar": [
           {
            "marker": {
             "colorbar": {
              "outlinewidth": 0,
              "ticks": ""
             }
            },
            "type": "scatterpolar"
           }
          ],
          "scatterpolargl": [
           {
            "marker": {
             "colorbar": {
              "outlinewidth": 0,
              "ticks": ""
             }
            },
            "type": "scatterpolargl"
           }
          ],
          "scatterternary": [
           {
            "marker": {
             "colorbar": {
              "outlinewidth": 0,
              "ticks": ""
             }
            },
            "type": "scatterternary"
           }
          ],
          "surface": [
           {
            "colorbar": {
             "outlinewidth": 0,
             "ticks": ""
            },
            "colorscale": [
             [
              0,
              "#0d0887"
             ],
             [
              0.1111111111111111,
              "#46039f"
             ],
             [
              0.2222222222222222,
              "#7201a8"
             ],
             [
              0.3333333333333333,
              "#9c179e"
             ],
             [
              0.4444444444444444,
              "#bd3786"
             ],
             [
              0.5555555555555556,
              "#d8576b"
             ],
             [
              0.6666666666666666,
              "#ed7953"
             ],
             [
              0.7777777777777778,
              "#fb9f3a"
             ],
             [
              0.8888888888888888,
              "#fdca26"
             ],
             [
              1,
              "#f0f921"
             ]
            ],
            "type": "surface"
           }
          ],
          "table": [
           {
            "cells": {
             "fill": {
              "color": "#EBF0F8"
             },
             "line": {
              "color": "white"
             }
            },
            "header": {
             "fill": {
              "color": "#C8D4E3"
             },
             "line": {
              "color": "white"
             }
            },
            "type": "table"
           }
          ]
         },
         "layout": {
          "annotationdefaults": {
           "arrowcolor": "#2a3f5f",
           "arrowhead": 0,
           "arrowwidth": 1
          },
          "autotypenumbers": "strict",
          "coloraxis": {
           "colorbar": {
            "outlinewidth": 0,
            "ticks": ""
           }
          },
          "colorscale": {
           "diverging": [
            [
             0,
             "#8e0152"
            ],
            [
             0.1,
             "#c51b7d"
            ],
            [
             0.2,
             "#de77ae"
            ],
            [
             0.3,
             "#f1b6da"
            ],
            [
             0.4,
             "#fde0ef"
            ],
            [
             0.5,
             "#f7f7f7"
            ],
            [
             0.6,
             "#e6f5d0"
            ],
            [
             0.7,
             "#b8e186"
            ],
            [
             0.8,
             "#7fbc41"
            ],
            [
             0.9,
             "#4d9221"
            ],
            [
             1,
             "#276419"
            ]
           ],
           "sequential": [
            [
             0,
             "#0d0887"
            ],
            [
             0.1111111111111111,
             "#46039f"
            ],
            [
             0.2222222222222222,
             "#7201a8"
            ],
            [
             0.3333333333333333,
             "#9c179e"
            ],
            [
             0.4444444444444444,
             "#bd3786"
            ],
            [
             0.5555555555555556,
             "#d8576b"
            ],
            [
             0.6666666666666666,
             "#ed7953"
            ],
            [
             0.7777777777777778,
             "#fb9f3a"
            ],
            [
             0.8888888888888888,
             "#fdca26"
            ],
            [
             1,
             "#f0f921"
            ]
           ],
           "sequentialminus": [
            [
             0,
             "#0d0887"
            ],
            [
             0.1111111111111111,
             "#46039f"
            ],
            [
             0.2222222222222222,
             "#7201a8"
            ],
            [
             0.3333333333333333,
             "#9c179e"
            ],
            [
             0.4444444444444444,
             "#bd3786"
            ],
            [
             0.5555555555555556,
             "#d8576b"
            ],
            [
             0.6666666666666666,
             "#ed7953"
            ],
            [
             0.7777777777777778,
             "#fb9f3a"
            ],
            [
             0.8888888888888888,
             "#fdca26"
            ],
            [
             1,
             "#f0f921"
            ]
           ]
          },
          "colorway": [
           "#636efa",
           "#EF553B",
           "#00cc96",
           "#ab63fa",
           "#FFA15A",
           "#19d3f3",
           "#FF6692",
           "#B6E880",
           "#FF97FF",
           "#FECB52"
          ],
          "font": {
           "color": "#2a3f5f"
          },
          "geo": {
           "bgcolor": "white",
           "lakecolor": "white",
           "landcolor": "#E5ECF6",
           "showlakes": true,
           "showland": true,
           "subunitcolor": "white"
          },
          "hoverlabel": {
           "align": "left"
          },
          "hovermode": "closest",
          "mapbox": {
           "style": "light"
          },
          "paper_bgcolor": "white",
          "plot_bgcolor": "#E5ECF6",
          "polar": {
           "angularaxis": {
            "gridcolor": "white",
            "linecolor": "white",
            "ticks": ""
           },
           "bgcolor": "#E5ECF6",
           "radialaxis": {
            "gridcolor": "white",
            "linecolor": "white",
            "ticks": ""
           }
          },
          "scene": {
           "xaxis": {
            "backgroundcolor": "#E5ECF6",
            "gridcolor": "white",
            "gridwidth": 2,
            "linecolor": "white",
            "showbackground": true,
            "ticks": "",
            "zerolinecolor": "white"
           },
           "yaxis": {
            "backgroundcolor": "#E5ECF6",
            "gridcolor": "white",
            "gridwidth": 2,
            "linecolor": "white",
            "showbackground": true,
            "ticks": "",
            "zerolinecolor": "white"
           },
           "zaxis": {
            "backgroundcolor": "#E5ECF6",
            "gridcolor": "white",
            "gridwidth": 2,
            "linecolor": "white",
            "showbackground": true,
            "ticks": "",
            "zerolinecolor": "white"
           }
          },
          "shapedefaults": {
           "line": {
            "color": "#2a3f5f"
           }
          },
          "ternary": {
           "aaxis": {
            "gridcolor": "white",
            "linecolor": "white",
            "ticks": ""
           },
           "baxis": {
            "gridcolor": "white",
            "linecolor": "white",
            "ticks": ""
           },
           "bgcolor": "#E5ECF6",
           "caxis": {
            "gridcolor": "white",
            "linecolor": "white",
            "ticks": ""
           }
          },
          "title": {
           "x": 0.05
          },
          "xaxis": {
           "automargin": true,
           "gridcolor": "white",
           "linecolor": "white",
           "ticks": "",
           "title": {
            "standoff": 15
           },
           "zerolinecolor": "white",
           "zerolinewidth": 2
          },
          "yaxis": {
           "automargin": true,
           "gridcolor": "white",
           "linecolor": "white",
           "ticks": "",
           "title": {
            "standoff": 15
           },
           "zerolinecolor": "white",
           "zerolinewidth": 2
          }
         }
        },
        "xaxis": {
         "anchor": "y",
         "domain": [
          0,
          1
         ],
         "title": {
          "text": "PAID"
         }
        },
        "yaxis": {
         "anchor": "x",
         "domain": [
          0,
          1
         ]
        }
       }
      },
      "text/html": [
       "<div>                            <div id=\"14ec8b1b-ca31-4d56-a303-23c0f6383963\" class=\"plotly-graph-div\" style=\"height:525px; width:100%;\"></div>            <script type=\"text/javascript\">                require([\"plotly\"], function(Plotly) {                    window.PLOTLYENV=window.PLOTLYENV || {};                                    if (document.getElementById(\"14ec8b1b-ca31-4d56-a303-23c0f6383963\")) {                    Plotly.newPlot(                        \"14ec8b1b-ca31-4d56-a303-23c0f6383963\",                        [{\"alignmentgroup\":\"True\",\"hovertemplate\":\"PAID=%{x}\\u003cextra\\u003e\\u003c\\u002fextra\\u003e\",\"legendgroup\":\"\",\"marker\":{\"color\":\"#636efa\"},\"name\":\"\",\"notched\":false,\"offsetgroup\":\"\",\"orientation\":\"h\",\"showlegend\":false,\"x\":[2384.67,650.0,654.0,3890.07,295.99,11756.34,2402.0,296.97,249.1,14833.3,3025.0,2750.0,2612.74,1259.89,824.85,669.5,664.34,408.39,3953.84,3841.66,239.37,30.0,6384.0,4467.92,1541.1,1354.93,1263.51,1045.0,519.75,499.28,365.26,322.34,122.41,10524.64,6854.02,3206.76,2724.04,2269.0,2169.88,1929.81,1061.8,945.8,899.13,7326.67,5301.72,3596.5,2322.72,1944.45,1491.69,1314.4,836.78,479.0,426.19,3112.89,2500.0,1921.22,1472.87,1444.89,1368.76,1346.36,772.23,688.67,362.63,359.41,354.29,262.81,244.11,9377.82,5540.07,3118.5,2495.8,2362.89,2007.78,1816.41,1500.0,1139.6,952.05,746.89,644.87,188.61,117.4,12714.43,10116.07,1949.14,1852.5,1722.82,1539.07,1476.43,1458.13,1119.52,990.07,987.0,782.44,459.0,377.36,319.67,176.07,154.75,8493.76,3809.83,3222.66,1113.38,766.4,663.17,640.4,619.06,419.18,298.62,160.2,105.5,8323.31,6291.84,4904.64,4096.58,3334.65,1755.95,1160.63,1098.37,818.79,651.57,646.79,584.61,417.04,399.9,371.63,365.5,275.43,146.56,14651.31,6754.81,5071.99,4809.52,2884.46,2591.33,2419.75,1321.7,1308.0,981.86,843.98,817.62,712.0,634.48,463.96,462.93,430.38,388.71,112.78,85.0,12151.86,5186.82,4451.39,3968.51,3392.58,1879.51,1792.54,1607.6,1238.0,1130.0,1081.71,1033.84,671.59,361.37,171.7,40.0,3203.35,3060.69,2171.93,1727.85,1550.0,1470.35,1229.01,1010.94,575.36,555.34,533.11,459.1,253.75,148.65,4184.46,4082.49,1846.1,1688.78,1118.91,749.64,725.71,722.02,648.06,593.46,516.81,302.54,300.0,278.55,248.68,131.0,28.46,13058.85,6950.54,2930.0,2112.46,2100.0,1500.0,1386.41,1270.17,1203.81,993.59,903.0,900.0,583.76,580.32,376.46,275.94,91.27,6013.74,4804.22,3179.28,2893.53,1916.21,1209.08,1036.74,986.12,893.03,754.31,740.38,694.91,693.13,564.05,551.78,549.77,497.85,403.3,358.7,284.54,228.0,177.6,177.42,139.79,33137.5,7293.43,3754.51,3495.14,3140.66,2137.4,1971.75,1956.0,1870.58,1650.0,1188.74,1115.89,1088.73,1074.35,1016.43,860.67,831.8,796.8,759.57,668.74,582.62,404.0,393.5,309.67,292.44,221.7,103.75,11511.72,6090.02,1727.33,1235.07,910.01,812.98,562.05,527.34,451.31,332.06,315.53,10527.4,7751.55,5711.53,3804.44,3760.07,2757.83,2565.84,2221.87,2139.9,2000.0,1363.23,1132.41,993.19,964.22,898.55,822.1,761.22,754.56,685.71,622.53,604.95,587.51,490.25,489.73,465.5,329.91,272.01,258.5,4643.8,3523.9,3007.96,2192.98,1752.16,1686.2,1648.41,1381.16,1336.26,1248.01,950.61,945.56,880.82,713.55,645.8,626.38,573.4,488.16,458.0,443.95,253.59,209.83,138.86,100.0,30.0,24624.44,8123.33,5158.65,5035.93,4625.47,1707.92,1694.59,1501.05,1369.74,946.38,825.66,682.85,604.95,585.34,565.02,529.28,388.03,377.54,303.0,300.0,198.98,135.0,47.52,11458.07,8300.31,7827.74,6261.92,5861.5,5381.14,4532.02,3656.77,2928.92,2547.5,2276.5,2017.28,1678.17,1651.86,1482.45,1480.93,1348.93,1189.96,1090.41,940.28,925.47,852.22,417.18,369.02,346.79,244.23,132.0,100.0,14753.58,11288.76,10175.27,6277.84,4939.5,4786.51,3167.49,2572.22,1712.27,1712.13,1396.61,1377.31,1108.42,1001.76,989.59,891.09,882.77,670.77,638.99,546.32,536.11,533.33,464.59,460.36,291.92,257.01,106.0,7487.94,7296.2,4929.65,2532.6,2344.69,1855.85,1812.47,1431.81,1226.28,1122.12,1090.75,1067.57,1012.19,928.2,861.89,809.34,782.9,768.05,698.65,630.11,617.9,594.8,585.74,390.02,291.28,236.53,10077.0,8569.3,6124.34,5335.35,3486.96,3255.88,2985.29,2418.4,2368.69,2007.64,1996.0,1869.49,1600.18,1278.52,1212.85,1039.69,834.12,805.18,676.15,651.18,586.85,315.61,311.32,25.44,9793.42,7620.37,6800.94,4781.43,3944.37,2406.0,1613.41,1340.74,1249.02,1086.9,941.85,909.99,903.99,875.28,738.18,492.22,468.0,443.49,439.22,359.11,8215.8,6208.2,5241.71,3912.49,3230.09,2600.0,2531.24,2038.05,1890.5,1704.54,1145.63,959.52,763.07,746.63,700.0,554.55,545.3,490.6,273.29,189.9,10652.59,5556.75,3403.09,3328.93,2805.73,2593.89,2586.45,2125.09,1739.92,1696.26,1352.01,1266.44,1167.44,1035.03,1014.98,941.51,840.73,739.87,720.53,699.19,677.43,634.14,545.35,520.96,500.0,459.43,267.25,219.89,175.0,171.97,10264.47,4610.48,4551.35,2905.94,2128.29,2100.0,1897.85,1876.31,1789.33,1690.06,1669.4,1595.82,1400.0,1395.42,1221.73,1200.0,1152.26,1130.8,1061.28,992.48,926.2,922.58,777.53,767.54,706.49,705.64,684.15,672.91,627.89,613.97,499.0,496.58,445.68,435.72,335.91,222.15,116.66,97.7,8144.41,7522.19,7063.69,6630.91,4465.03,3451.91,3227.06,3105.06,2477.0,2471.81,2435.85,2362.48,2045.43,1688.9,1567.05,1515.46,1357.83,1272.79,1123.7,864.92,781.8,747.81,719.83,715.0,651.82,651.52,616.07,575.42,433.82,377.58,365.12,334.8,291.29,164.33,145.75,26.23,5134.29,3820.97,3732.91,3222.45,2643.26,1930.21,1655.67,1641.81,1636.11,1590.34,1462.72,1379.11,1264.6,1173.25,1008.05,913.97,843.0,787.49,735.0,500.0,494.96,480.73,395.27,386.56,372.95,309.52,259.25,224.54,180.07,7780.9,3890.9,3511.68,3018.03,2191.83,2011.47,1938.6,1430.24,1350.0,1211.84,1210.38,1097.13,1056.58,1013.93,991.36,922.82,904.02,900.0,842.57,825.69,795.08,634.89,633.0,500.0,496.25,474.18,468.9,378.4,360.7,328.18,290.0,273.92,125.0,110.78,79.8,10538.65,8903.29,5758.21,5335.18,4748.38,4211.19,3521.32,3056.01,2946.55,2912.28,2596.17,2437.24,2301.61,2277.0,1942.82,1450.55,1222.12,1063.39,954.98,771.25,681.17,596.05,532.1,523.95,523.93,490.83,481.82,471.38,440.66,440.51,437.26,350.0,347.79,343.5,333.05,327.41,17.79,15279.68,7108.52,7038.61,5479.6,3978.91,2683.21,2635.78,2575.79,2317.29,2310.0,1542.91,1540.27,1514.0,1292.26,1230.12,1222.94,1215.89,1168.23,1150.0,1146.53,992.24,742.82,742.7,740.44,665.29,622.99,582.31,548.2,442.92,429.7,250.56,249.01,7419.73,7275.0,6867.53,5604.53,5347.31,5263.84,5169.91,4488.66,4302.05,3807.25,3781.2,3435.92,3410.38,2211.92,2005.64,1993.9,1757.0,1662.83,1584.11,1533.74,1414.86,1403.93,1371.51,1336.0,1112.82,1100.68,1064.4,1046.66,902.67,806.73,785.41,718.1,537.28,530.33,483.1,437.77,342.04,243.0,218.01,194.44,142.74,11669.62,7966.3,4681.0,4334.51,4060.6,3648.0,3569.77,2992.53,2330.86,2203.89,2200.97,2100.56,1916.44,1913.63,1809.29,1514.75,1367.13,1294.25,1151.46,1100.39,1097.92,1095.07,1049.61,1012.67,857.65,843.54,759.89,692.58,681.24,677.29,636.71,595.0,563.86,555.58,547.85,547.09,538.41,520.5,493.79,485.77,450.54,439.97,436.76,312.97,302.1,287.03,274.3,259.43,113.92,50.0,41.75,16175.0,15845.0,9668.22,7964.72,6210.85,6055.33,5882.0,5370.19,4171.55,4118.55,3942.63,3696.0,3070.28,2941.5,2908.31,2420.85,2319.89,2313.46,2264.77,2100.0,2027.99,1967.97,1758.73,1722.29,1541.52,1523.72,1376.27,1263.16,1226.12,1190.97,1151.64,1057.79,1044.7,896.83,894.35,871.59,778.22,755.29,750.0,739.14,717.05,675.0,671.72,628.83,627.19,538.16,504.47,490.0,487.51,442.7,436.37,355.86,351.12,322.48,312.28,310.9,198.61,90.64,9.5,12582.27,6890.65,6500.9,6193.21,5389.99,4097.87,3729.71,2883.95,2649.87,2630.23,2612.98,2572.15,2497.95,1973.7,1784.33,1767.51,1764.0,1552.58,1501.77,1430.98,1237.92,1216.36,1200.15,1048.92,1040.44,995.3,968.58,925.51,860.56,857.87,852.32,804.64,803.48,783.52,762.0,750.0,736.48,701.15,629.94,628.77,622.64,611.57,570.67,560.2,501.15,395.22,346.11,343.01,337.12,311.11,216.05,204.0,200.0,97.61,61.34,12840.97,8332.26,7681.88,7470.43,6353.97,6167.91,5736.48,5559.99,5556.29,4799.3,3875.35,3189.51,2976.8,2850.0,2814.95,2464.86,2381.3,2372.43,2354.25,2353.79,2152.01,2007.0,1972.13,1835.0,1799.75,1718.52,1586.12,1563.22,1525.54,1515.82,1434.74,1407.91,1263.22,1220.37,1204.08,1037.08,954.26,935.97,885.61,865.94,824.84,788.11,728.19,725.77,653.36,606.83,597.92,594.07,479.54,453.55,436.91,431.77,382.13,377.6,350.0,326.43,276.78,271.14,261.0,250.0,250.0,129.0],\"x0\":\" \",\"xaxis\":\"x\",\"y0\":\" \",\"yaxis\":\"y\",\"type\":\"box\"}],                        {\"template\":{\"data\":{\"histogram2dcontour\":[{\"type\":\"histogram2dcontour\",\"colorbar\":{\"outlinewidth\":0,\"ticks\":\"\"},\"colorscale\":[[0.0,\"#0d0887\"],[0.1111111111111111,\"#46039f\"],[0.2222222222222222,\"#7201a8\"],[0.3333333333333333,\"#9c179e\"],[0.4444444444444444,\"#bd3786\"],[0.5555555555555556,\"#d8576b\"],[0.6666666666666666,\"#ed7953\"],[0.7777777777777778,\"#fb9f3a\"],[0.8888888888888888,\"#fdca26\"],[1.0,\"#f0f921\"]]}],\"choropleth\":[{\"type\":\"choropleth\",\"colorbar\":{\"outlinewidth\":0,\"ticks\":\"\"}}],\"histogram2d\":[{\"type\":\"histogram2d\",\"colorbar\":{\"outlinewidth\":0,\"ticks\":\"\"},\"colorscale\":[[0.0,\"#0d0887\"],[0.1111111111111111,\"#46039f\"],[0.2222222222222222,\"#7201a8\"],[0.3333333333333333,\"#9c179e\"],[0.4444444444444444,\"#bd3786\"],[0.5555555555555556,\"#d8576b\"],[0.6666666666666666,\"#ed7953\"],[0.7777777777777778,\"#fb9f3a\"],[0.8888888888888888,\"#fdca26\"],[1.0,\"#f0f921\"]]}],\"heatmap\":[{\"type\":\"heatmap\",\"colorbar\":{\"outlinewidth\":0,\"ticks\":\"\"},\"colorscale\":[[0.0,\"#0d0887\"],[0.1111111111111111,\"#46039f\"],[0.2222222222222222,\"#7201a8\"],[0.3333333333333333,\"#9c179e\"],[0.4444444444444444,\"#bd3786\"],[0.5555555555555556,\"#d8576b\"],[0.6666666666666666,\"#ed7953\"],[0.7777777777777778,\"#fb9f3a\"],[0.8888888888888888,\"#fdca26\"],[1.0,\"#f0f921\"]]}],\"heatmapgl\":[{\"type\":\"heatmapgl\",\"colorbar\":{\"outlinewidth\":0,\"ticks\":\"\"},\"colorscale\":[[0.0,\"#0d0887\"],[0.1111111111111111,\"#46039f\"],[0.2222222222222222,\"#7201a8\"],[0.3333333333333333,\"#9c179e\"],[0.4444444444444444,\"#bd3786\"],[0.5555555555555556,\"#d8576b\"],[0.6666666666666666,\"#ed7953\"],[0.7777777777777778,\"#fb9f3a\"],[0.8888888888888888,\"#fdca26\"],[1.0,\"#f0f921\"]]}],\"contourcarpet\":[{\"type\":\"contourcarpet\",\"colorbar\":{\"outlinewidth\":0,\"ticks\":\"\"}}],\"contour\":[{\"type\":\"contour\",\"colorbar\":{\"outlinewidth\":0,\"ticks\":\"\"},\"colorscale\":[[0.0,\"#0d0887\"],[0.1111111111111111,\"#46039f\"],[0.2222222222222222,\"#7201a8\"],[0.3333333333333333,\"#9c179e\"],[0.4444444444444444,\"#bd3786\"],[0.5555555555555556,\"#d8576b\"],[0.6666666666666666,\"#ed7953\"],[0.7777777777777778,\"#fb9f3a\"],[0.8888888888888888,\"#fdca26\"],[1.0,\"#f0f921\"]]}],\"surface\":[{\"type\":\"surface\",\"colorbar\":{\"outlinewidth\":0,\"ticks\":\"\"},\"colorscale\":[[0.0,\"#0d0887\"],[0.1111111111111111,\"#46039f\"],[0.2222222222222222,\"#7201a8\"],[0.3333333333333333,\"#9c179e\"],[0.4444444444444444,\"#bd3786\"],[0.5555555555555556,\"#d8576b\"],[0.6666666666666666,\"#ed7953\"],[0.7777777777777778,\"#fb9f3a\"],[0.8888888888888888,\"#fdca26\"],[1.0,\"#f0f921\"]]}],\"mesh3d\":[{\"type\":\"mesh3d\",\"colorbar\":{\"outlinewidth\":0,\"ticks\":\"\"}}],\"scatter\":[{\"fillpattern\":{\"fillmode\":\"overlay\",\"size\":10,\"solidity\":0.2},\"type\":\"scatter\"}],\"parcoords\":[{\"type\":\"parcoords\",\"line\":{\"colorbar\":{\"outlinewidth\":0,\"ticks\":\"\"}}}],\"scatterpolargl\":[{\"type\":\"scatterpolargl\",\"marker\":{\"colorbar\":{\"outlinewidth\":0,\"ticks\":\"\"}}}],\"bar\":[{\"error_x\":{\"color\":\"#2a3f5f\"},\"error_y\":{\"color\":\"#2a3f5f\"},\"marker\":{\"line\":{\"color\":\"#E5ECF6\",\"width\":0.5},\"pattern\":{\"fillmode\":\"overlay\",\"size\":10,\"solidity\":0.2}},\"type\":\"bar\"}],\"scattergeo\":[{\"type\":\"scattergeo\",\"marker\":{\"colorbar\":{\"outlinewidth\":0,\"ticks\":\"\"}}}],\"scatterpolar\":[{\"type\":\"scatterpolar\",\"marker\":{\"colorbar\":{\"outlinewidth\":0,\"ticks\":\"\"}}}],\"histogram\":[{\"marker\":{\"pattern\":{\"fillmode\":\"overlay\",\"size\":10,\"solidity\":0.2}},\"type\":\"histogram\"}],\"scattergl\":[{\"type\":\"scattergl\",\"marker\":{\"colorbar\":{\"outlinewidth\":0,\"ticks\":\"\"}}}],\"scatter3d\":[{\"type\":\"scatter3d\",\"line\":{\"colorbar\":{\"outlinewidth\":0,\"ticks\":\"\"}},\"marker\":{\"colorbar\":{\"outlinewidth\":0,\"ticks\":\"\"}}}],\"scattermapbox\":[{\"type\":\"scattermapbox\",\"marker\":{\"colorbar\":{\"outlinewidth\":0,\"ticks\":\"\"}}}],\"scatterternary\":[{\"type\":\"scatterternary\",\"marker\":{\"colorbar\":{\"outlinewidth\":0,\"ticks\":\"\"}}}],\"scattercarpet\":[{\"type\":\"scattercarpet\",\"marker\":{\"colorbar\":{\"outlinewidth\":0,\"ticks\":\"\"}}}],\"carpet\":[{\"aaxis\":{\"endlinecolor\":\"#2a3f5f\",\"gridcolor\":\"white\",\"linecolor\":\"white\",\"minorgridcolor\":\"white\",\"startlinecolor\":\"#2a3f5f\"},\"baxis\":{\"endlinecolor\":\"#2a3f5f\",\"gridcolor\":\"white\",\"linecolor\":\"white\",\"minorgridcolor\":\"white\",\"startlinecolor\":\"#2a3f5f\"},\"type\":\"carpet\"}],\"table\":[{\"cells\":{\"fill\":{\"color\":\"#EBF0F8\"},\"line\":{\"color\":\"white\"}},\"header\":{\"fill\":{\"color\":\"#C8D4E3\"},\"line\":{\"color\":\"white\"}},\"type\":\"table\"}],\"barpolar\":[{\"marker\":{\"line\":{\"color\":\"#E5ECF6\",\"width\":0.5},\"pattern\":{\"fillmode\":\"overlay\",\"size\":10,\"solidity\":0.2}},\"type\":\"barpolar\"}],\"pie\":[{\"automargin\":true,\"type\":\"pie\"}]},\"layout\":{\"autotypenumbers\":\"strict\",\"colorway\":[\"#636efa\",\"#EF553B\",\"#00cc96\",\"#ab63fa\",\"#FFA15A\",\"#19d3f3\",\"#FF6692\",\"#B6E880\",\"#FF97FF\",\"#FECB52\"],\"font\":{\"color\":\"#2a3f5f\"},\"hovermode\":\"closest\",\"hoverlabel\":{\"align\":\"left\"},\"paper_bgcolor\":\"white\",\"plot_bgcolor\":\"#E5ECF6\",\"polar\":{\"bgcolor\":\"#E5ECF6\",\"angularaxis\":{\"gridcolor\":\"white\",\"linecolor\":\"white\",\"ticks\":\"\"},\"radialaxis\":{\"gridcolor\":\"white\",\"linecolor\":\"white\",\"ticks\":\"\"}},\"ternary\":{\"bgcolor\":\"#E5ECF6\",\"aaxis\":{\"gridcolor\":\"white\",\"linecolor\":\"white\",\"ticks\":\"\"},\"baxis\":{\"gridcolor\":\"white\",\"linecolor\":\"white\",\"ticks\":\"\"},\"caxis\":{\"gridcolor\":\"white\",\"linecolor\":\"white\",\"ticks\":\"\"}},\"coloraxis\":{\"colorbar\":{\"outlinewidth\":0,\"ticks\":\"\"}},\"colorscale\":{\"sequential\":[[0.0,\"#0d0887\"],[0.1111111111111111,\"#46039f\"],[0.2222222222222222,\"#7201a8\"],[0.3333333333333333,\"#9c179e\"],[0.4444444444444444,\"#bd3786\"],[0.5555555555555556,\"#d8576b\"],[0.6666666666666666,\"#ed7953\"],[0.7777777777777778,\"#fb9f3a\"],[0.8888888888888888,\"#fdca26\"],[1.0,\"#f0f921\"]],\"sequentialminus\":[[0.0,\"#0d0887\"],[0.1111111111111111,\"#46039f\"],[0.2222222222222222,\"#7201a8\"],[0.3333333333333333,\"#9c179e\"],[0.4444444444444444,\"#bd3786\"],[0.5555555555555556,\"#d8576b\"],[0.6666666666666666,\"#ed7953\"],[0.7777777777777778,\"#fb9f3a\"],[0.8888888888888888,\"#fdca26\"],[1.0,\"#f0f921\"]],\"diverging\":[[0,\"#8e0152\"],[0.1,\"#c51b7d\"],[0.2,\"#de77ae\"],[0.3,\"#f1b6da\"],[0.4,\"#fde0ef\"],[0.5,\"#f7f7f7\"],[0.6,\"#e6f5d0\"],[0.7,\"#b8e186\"],[0.8,\"#7fbc41\"],[0.9,\"#4d9221\"],[1,\"#276419\"]]},\"xaxis\":{\"gridcolor\":\"white\",\"linecolor\":\"white\",\"ticks\":\"\",\"title\":{\"standoff\":15},\"zerolinecolor\":\"white\",\"automargin\":true,\"zerolinewidth\":2},\"yaxis\":{\"gridcolor\":\"white\",\"linecolor\":\"white\",\"ticks\":\"\",\"title\":{\"standoff\":15},\"zerolinecolor\":\"white\",\"automargin\":true,\"zerolinewidth\":2},\"scene\":{\"xaxis\":{\"backgroundcolor\":\"#E5ECF6\",\"gridcolor\":\"white\",\"linecolor\":\"white\",\"showbackground\":true,\"ticks\":\"\",\"zerolinecolor\":\"white\",\"gridwidth\":2},\"yaxis\":{\"backgroundcolor\":\"#E5ECF6\",\"gridcolor\":\"white\",\"linecolor\":\"white\",\"showbackground\":true,\"ticks\":\"\",\"zerolinecolor\":\"white\",\"gridwidth\":2},\"zaxis\":{\"backgroundcolor\":\"#E5ECF6\",\"gridcolor\":\"white\",\"linecolor\":\"white\",\"showbackground\":true,\"ticks\":\"\",\"zerolinecolor\":\"white\",\"gridwidth\":2}},\"shapedefaults\":{\"line\":{\"color\":\"#2a3f5f\"}},\"annotationdefaults\":{\"arrowcolor\":\"#2a3f5f\",\"arrowhead\":0,\"arrowwidth\":1},\"geo\":{\"bgcolor\":\"white\",\"landcolor\":\"#E5ECF6\",\"subunitcolor\":\"white\",\"showland\":true,\"showlakes\":true,\"lakecolor\":\"white\"},\"title\":{\"x\":0.05},\"mapbox\":{\"style\":\"light\"}}},\"xaxis\":{\"anchor\":\"y\",\"domain\":[0.0,1.0],\"title\":{\"text\":\"PAID\"}},\"yaxis\":{\"anchor\":\"x\",\"domain\":[0.0,1.0]},\"legend\":{\"tracegroupgap\":0},\"margin\":{\"t\":60},\"boxmode\":\"group\"},                        {\"responsive\": true}                    ).then(function(){\n",
       "                            \n",
       "var gd = document.getElementById('14ec8b1b-ca31-4d56-a303-23c0f6383963');\n",
       "var x = new MutationObserver(function (mutations, observer) {{\n",
       "        var display = window.getComputedStyle(gd).display;\n",
       "        if (!display || display === 'none') {{\n",
       "            console.log([gd, 'removed!']);\n",
       "            Plotly.purge(gd);\n",
       "            observer.disconnect();\n",
       "        }}\n",
       "}});\n",
       "\n",
       "// Listen for the removal of the full notebook cells\n",
       "var notebookContainer = gd.closest('#notebook-container');\n",
       "if (notebookContainer) {{\n",
       "    x.observe(notebookContainer, {childList: true});\n",
       "}}\n",
       "\n",
       "// Listen for the clearing of the current output cell\n",
       "var outputEl = gd.closest('.output');\n",
       "if (outputEl) {{\n",
       "    x.observe(outputEl, {childList: true});\n",
       "}}\n",
       "\n",
       "                        })                };                });            </script>        </div>"
      ]
     },
     "metadata": {},
     "output_type": "display_data"
    }
   ],
   "source": [
    "fig = px.box(auto_claims_population_csv_asdf, x=\"PAID\")\n",
    "fig.show()"
   ]
  },
  {
   "cell_type": "code",
   "execution_count": 29,
   "id": "4bfa68db",
   "metadata": {},
   "outputs": [],
   "source": [
    "# Q13: your answer will be tested!\n",
    "Q13 = None # Assign either 'A', 'B', 'C', or 'D' to `Q13` instead of `None`\n",
    "# E.g., Q13 = 'A'"
   ]
  },
  {
   "cell_type": "code",
   "execution_count": 1,
   "id": "61e97192",
   "metadata": {},
   "outputs": [
    {
     "ename": "NameError",
     "evalue": "name 'Q13' is not defined",
     "output_type": "error",
     "traceback": [
      "\u001b[1;31m---------------------------------------------------------------------------\u001b[0m",
      "\u001b[1;31mNameError\u001b[0m                                 Traceback (most recent call last)",
      "Cell \u001b[1;32mIn[1], line 1\u001b[0m\n\u001b[1;32m----> 1\u001b[0m test \u001b[39m=\u001b[39m (Q13\u001b[39m==\u001b[39m\u001b[39m'\u001b[39m\u001b[39mA\u001b[39m\u001b[39m'\u001b[39m)\n\u001b[0;32m      2\u001b[0m hint \u001b[39m=\u001b[39m \u001b[39m\"\u001b[39m\u001b[39mCompare the overall distributions in your plots from Q8.\u001b[39m\u001b[39m\\n\u001b[39;00m\u001b[39m\"\u001b[39m\n\u001b[0;32m      3\u001b[0m hint \u001b[39m+\u001b[39m\u001b[39m=\u001b[39m \u001b[39m\"\u001b[39m\u001b[39mMake sure you are looking at the median, and not the mean\u001b[39m\u001b[39m\"\u001b[39m\n",
      "\u001b[1;31mNameError\u001b[0m: name 'Q13' is not defined"
     ]
    }
   ],
   "source": [
    "test = (Q13=='A')\n",
    "hint = \"Compare the overall distributions in your plots from Q8.\\n\"\n",
    "hint += \"Make sure you are looking at the median, and not the mean\""
   ]
  },
  {
   "cell_type": "code",
   "execution_count": 2,
   "id": "ba43aa69",
   "metadata": {},
   "outputs": [
    {
     "ename": "NameError",
     "evalue": "name 'hint' is not defined",
     "output_type": "error",
     "traceback": [
      "\u001b[1;31m---------------------------------------------------------------------------\u001b[0m",
      "\u001b[1;31mNameError\u001b[0m                                 Traceback (most recent call last)",
      "Cell \u001b[1;32mIn[2], line 2\u001b[0m\n\u001b[0;32m      1\u001b[0m \u001b[39m# test_Q13\u001b[39;00m\n\u001b[1;32m----> 2\u001b[0m \u001b[39massert\u001b[39;00m \u001b[39mFalse\u001b[39;00m, hint\n",
      "\u001b[1;31mNameError\u001b[0m: name 'hint' is not defined"
     ]
    }
   ],
   "source": [
    "# test_Q13\n",
    "assert False, hint"
   ]
  },
  {
   "cell_type": "markdown",
   "id": "b055dcd8",
   "metadata": {},
   "source": [
    "### Q14: Using the simulation in `Q11`, derive a 80% confidence interval for the median of paid claims. Of the 1000 samples taken from the population, how many of them had medians which were captured by the confidence interval?\n",
    "> Hint 1: Use a `for` loop to iterate through your list/numpy array of medians from `Q11`.   \n",
    "> Hint 2: Use an `if` statement within the `for` loop, to assess whether each median was captured by the confidence interval"
   ]
  },
  {
   "cell_type": "code",
   "execution_count": null,
   "id": "32928dc9",
   "metadata": {},
   "outputs": [],
   "source": []
  },
  {
   "cell_type": "code",
   "execution_count": 19,
   "id": "8447766c",
   "metadata": {},
   "outputs": [
    {
     "data": {
      "text/plain": [
       "805"
      ]
     },
     "execution_count": 19,
     "metadata": {},
     "output_type": "execute_result"
    }
   ],
   "source": [
    "# np.quantile(boot_medians, (0.1, 0.9)) # (992.907, 1106.7635)\n",
    "\n",
    "captured = 0\n",
    "for median in boot_medians:\n",
    "     if (np.quantile(boot_medians, (0.1, 0.9))[0] <= median <= np.quantile(boot_medians, (0.1, 0.9))[1]):\n",
    "        captured += 1\n",
    "        \n",
    "captured"
   ]
  },
  {
   "cell_type": "code",
   "execution_count": 66,
   "id": "827024da",
   "metadata": {},
   "outputs": [],
   "source": [
    "# Q14: your answer will be tested!\n",
    "your_1000_boot_medians = None # Assign your list/numpy array variable here instead of `None`\n",
    "n_captured = None\n",
    "Q14 = (your_1000_boot_medians, n_captured) \n",
    "# Assign a `tuple` of your 1000 bootstrapped medians and an `int` to Q14"
   ]
  },
  {
   "cell_type": "code",
   "execution_count": 67,
   "id": "a0e29e05",
   "metadata": {},
   "outputs": [
    {
     "ename": "TypeError",
     "evalue": "'NoneType' object is not iterable",
     "output_type": "error",
     "traceback": [
      "\u001b[0;31m---------------------------------------------------------------------------\u001b[0m",
      "\u001b[0;31mTypeError\u001b[0m                                 Traceback (most recent call last)",
      "Cell \u001b[0;32mIn[67], line 2\u001b[0m\n\u001b[1;32m      1\u001b[0m captured \u001b[38;5;241m=\u001b[39m \u001b[38;5;241m0\u001b[39m\n\u001b[0;32m----> 2\u001b[0m \u001b[38;5;28;01mfor\u001b[39;00m med \u001b[38;5;129;01min\u001b[39;00m Q14[\u001b[38;5;241m0\u001b[39m]:\n\u001b[1;32m      3\u001b[0m      \u001b[38;5;28;01mif\u001b[39;00m (np\u001b[38;5;241m.\u001b[39mquantile(Q14[\u001b[38;5;241m0\u001b[39m], (\u001b[38;5;241m0.1\u001b[39m, \u001b[38;5;241m0.9\u001b[39m))[\u001b[38;5;241m0\u001b[39m] \u001b[38;5;241m<\u001b[39m\u001b[38;5;241m=\u001b[39m med \u001b[38;5;241m<\u001b[39m\u001b[38;5;241m=\u001b[39m np\u001b[38;5;241m.\u001b[39mquantile(Q14[\u001b[38;5;241m0\u001b[39m], (\u001b[38;5;241m0.1\u001b[39m, \u001b[38;5;241m0.9\u001b[39m))[\u001b[38;5;241m1\u001b[39m]):\n\u001b[1;32m      4\u001b[0m         captured \u001b[38;5;241m+\u001b[39m\u001b[38;5;241m=\u001b[39m \u001b[38;5;241m1\u001b[39m\n",
      "\u001b[0;31mTypeError\u001b[0m: 'NoneType' object is not iterable"
     ]
    }
   ],
   "source": [
    "captured = 0\n",
    "for med in Q14[0]:\n",
    "     if (np.quantile(Q14[0], (0.1, 0.9))[0] <= med <= np.quantile(Q14[0], (0.1, 0.9))[1]):\n",
    "        captured += 1\n",
    "\n",
    "test = (Q14[1]==captured)\n",
    "hint = \"Try `for median in boot_medians` as your `for` loop statement \\n\"\n",
    "hint += \"and make sure you define a counter variable before the `for` loop to \\n\"\n",
    "hint += \"count the number of medians that were captured by the confidence interval. \\n\"\n",
    "hint += \"The counter variable should increase by 1 each time a median in `boot_medians` \\n\"\n",
    "hint += \"falls within the confidence interval.\""
   ]
  },
  {
   "cell_type": "code",
   "execution_count": 68,
   "id": "d513e085",
   "metadata": {},
   "outputs": [
    {
     "ename": "AssertionError",
     "evalue": "Try `for median in boot_medians` as your `for` loop statement \nand make sure you define a counter variable before the `for` loop to \ncount the number of medians that were captured by the confidence interval. \nThe counter variable should increase by 1 each time a median in `boot_medians` \nfalls within the confidence interval.",
     "output_type": "error",
     "traceback": [
      "\u001b[0;31m---------------------------------------------------------------------------\u001b[0m",
      "\u001b[0;31mAssertionError\u001b[0m                            Traceback (most recent call last)",
      "Cell \u001b[0;32mIn[68], line 3\u001b[0m\n\u001b[1;32m      1\u001b[0m \u001b[38;5;66;03m# test_Q14\u001b[39;00m\n\u001b[0;32m----> 3\u001b[0m \u001b[38;5;28;01massert\u001b[39;00m test, hint\n",
      "\u001b[0;31mAssertionError\u001b[0m: Try `for median in boot_medians` as your `for` loop statement \nand make sure you define a counter variable before the `for` loop to \ncount the number of medians that were captured by the confidence interval. \nThe counter variable should increase by 1 each time a median in `boot_medians` \nfalls within the confidence interval."
     ]
    }
   ],
   "source": [
    "# test_Q14\n",
    "       \n",
    "assert test, hint"
   ]
  },
  {
   "cell_type": "markdown",
   "id": "d9572f80",
   "metadata": {},
   "source": [
    "### Q15: Suppose we calculate an 80% confidence interval based on bootstrapped medians from the original sample, `auto_claims.csv` (similar to `Q10`). Why might it be problematic to use this confidence interval to estimate the median claims paid of the population?\n",
    "> Hint: Consider that the original sample, used in `Q9`, is a sample of auto insurance claimants greater than 60 years of age, while the population includes other ages.\n",
    "#### Write three or so sentences to answer this question in markdown cell below.\n",
    "- You can compare your response to the answer given in the ***MarkUs*** output"
   ]
  },
  {
   "cell_type": "markdown",
   "id": "dd92c129",
   "metadata": {},
   "source": [
    "> Answer here..."
   ]
  },
  {
   "cell_type": "code",
   "execution_count": 27,
   "id": "b5153217",
   "metadata": {},
   "outputs": [],
   "source": [
    "hint = \"\\n\\nAUTOMATICALLY FAILING AUTOTEST: DOES NOT COUNT AGAINST STUDENT\\n\"\n",
    "hint += \"Included as an example answer for feedback purposes only\\n\\n\"\n",
    "hint += \"The original sample may not be as representative of the population as a truly random\\n\"\n",
    "hint += \"sample would. Therefore, the 80% confidence interval may not offer the \\\"guarantee\\\"\\n\"\n",
    "hint += \"that it captures 80% of population medians that comes from assuming a random sample. \\n\\n\"\n",
    "hint += \"Although, in this case, it seems like the distribution of paid claims from the original sample\\n\"\n",
    "hint += \"is actually relatively representative of our population and that a 80% confidence interval from\\n\"\n",
    "hint += \"the original sample is pretty similar to the one calculated from our random samples.\\n\"\n",
    "hint += \"This will not always be the case, and it is important to consider potential biases in\\n\"\n",
    "hint += \"the sample (sampling bias!) that could affect our estimations.\\n\""
   ]
  },
  {
   "cell_type": "code",
   "execution_count": 28,
   "id": "28527963",
   "metadata": {},
   "outputs": [
    {
     "ename": "AssertionError",
     "evalue": "\n\nAUTOMATICALLY FAILING AUTOTEST: DOES NOT COUNT AGAINST STUDENT\nIncluded as an example answer for feedback purposes only\n\nThe original sample may not be as representative of the population as a truly random\nsample would. Therefore, the 80% confidence interval may not offer the \"guarantee\"\nthat it captures 80% of population medians that comes from assuming a random sample. \n\nAlthough, in this case, it seems like the distribution of paid claims from the original sample\nis actually relatively representative of our population and that a 80% confidence interval from\nthe original sample is pretty similar to the one calculated from our random samples.\nThis will not always be the case, and it is important to consider potential biases in\nthe sample (sampling bias!) that could affect our estimations.\n",
     "output_type": "error",
     "traceback": [
      "\u001b[0;31m---------------------------------------------------------------------------\u001b[0m",
      "\u001b[0;31mAssertionError\u001b[0m                            Traceback (most recent call last)",
      "Cell \u001b[0;32mIn[28], line 2\u001b[0m\n\u001b[1;32m      1\u001b[0m \u001b[38;5;66;03m# test_Q15\u001b[39;00m\n\u001b[0;32m----> 2\u001b[0m \u001b[38;5;28;01massert\u001b[39;00m \u001b[38;5;28;01mFalse\u001b[39;00m, hint\n",
      "\u001b[0;31mAssertionError\u001b[0m: \n\nAUTOMATICALLY FAILING AUTOTEST: DOES NOT COUNT AGAINST STUDENT\nIncluded as an example answer for feedback purposes only\n\nThe original sample may not be as representative of the population as a truly random\nsample would. Therefore, the 80% confidence interval may not offer the \"guarantee\"\nthat it captures 80% of population medians that comes from assuming a random sample. \n\nAlthough, in this case, it seems like the distribution of paid claims from the original sample\nis actually relatively representative of our population and that a 80% confidence interval from\nthe original sample is pretty similar to the one calculated from our random samples.\nThis will not always be the case, and it is important to consider potential biases in\nthe sample (sampling bias!) that could affect our estimations.\n"
     ]
    }
   ],
   "source": [
    "# test_Q15\n",
    "assert False, hint"
   ]
  }
 ],
 "metadata": {
  "kernelspec": {
   "display_name": "Python 3 (ipykernel)",
   "language": "python",
   "name": "python3"
  },
  "language_info": {
   "codemirror_mode": {
    "name": "ipython",
    "version": 3
   },
   "file_extension": ".py",
   "mimetype": "text/x-python",
   "name": "python",
   "nbconvert_exporter": "python",
   "pygments_lexer": "ipython3",
   "version": "3.10.7"
  }
 },
 "nbformat": 4,
 "nbformat_minor": 5
}
