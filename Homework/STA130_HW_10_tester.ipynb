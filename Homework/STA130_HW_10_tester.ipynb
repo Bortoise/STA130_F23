{
 "cells": [
  {
   "cell_type": "markdown",
   "id": "0e770c1b",
   "metadata": {},
   "source": [
    "# Coding Homework 10: [Your Name]\n",
    "\n",
    "\n",
    "- You can add new cells if you need (with the \"+\" button above); but, deleting cells could very likely cause your notebook to fail MarkUs autotesting (and you'd have to start over and re-enter your answers into a completely fresh version of the notebook to get things to work again...)\n",
    "- In this homework, be careful not to rerun any cells that involve invoking a random number generator \n",
    "\n",
    "> TAs will mark this assignment by first checking ***MarkUs*** autotests for completion and general correctness, and then manually reviewing your written response to `_____` and plotted figures for `Q2, Q8, Q10`\n",
    "> - The following questions \"automatically fail\" during automated testing so that MarkUs exposes example answers for student review and consideration for these problems.  These \"failed MarkUs tests\" are not counted against the student: `__________________________`\n"
   ]
  },
  {
   "cell_type": "markdown",
   "id": "f65fc213",
   "metadata": {},
   "source": []
  },
  {
   "cell_type": "markdown",
   "id": "2f44e4d8",
   "metadata": {},
   "source": [
    "We begin by importing dataset and the libraries we will use."
   ]
  },
  {
   "cell_type": "code",
   "execution_count": null,
   "id": "6f432a2b",
   "metadata": {},
   "outputs": [],
   "source": [
    "import pandas as pd\n",
    "import numpy as np\n",
    "import graphviz as gv\n",
    "from sklearn import tree, datasets\n",
    "from sklearn.model_selection import GridSearchCV, train_test_split, ShuffleSplit\n",
    "from sklearn.metrics import accuracy_score, recall_score, make_scorer\n",
    "from sklearn.inspection import PartialDependenceDisplay\n",
    "\n",
    "cancer_data = datasets.load_breast_cancer()\n",
    "cancer_df = pd.DataFrame(data=cancer_data.data, columns = cancer_data.feature_names)\n",
    "cancer_classes = pd.DataFrame(cancer_data.target).replace({0:'Malignant',1:'Benign'})"
   ]
  },
  {
   "cell_type": "markdown",
   "id": "4ea244ac",
   "metadata": {},
   "source": [
    "## Part 1: GridSearchCV "
   ]
  },
  {
   "cell_type": "markdown",
   "id": "8b2c9f2f",
   "metadata": {},
   "source": [
    "GridSearchCV is a powerful tool provided by sklearn for *hyperparameter tuning*, the process of refitting a model with many values of a hyperparameter (such as `max_depth`) in order to optimize performance. By exhaustively searching through a predefined grid of hyperparameter values, GridSearchCV allowes you to identify the best choices of parameters that yields the best model performance. This automated approach helps streamline the process of finding the right hyperparameters."
   ]
  },
  {
   "cell_type": "markdown",
   "id": "165168b0",
   "metadata": {},
   "source": [
    "To practice using GridSearchCV we will be working with some breast cancer classification data availible from sklearn. You might  want to learn more about the dataset here:\n",
    "- https://scikit-learn.org/stable/datasets/toy_dataset.html#breast-cancer-wisconsin-diagnostic-dataset\n",
    "- https://archive.ics.uci.edu/dataset/17/breast+cancer+wisconsin+diagnostic\n",
    "\n",
    "Before you start on the questions, use the below cells to play around with the dataset a bit. "
   ]
  },
  {
   "cell_type": "code",
   "execution_count": null,
   "id": "96861d83",
   "metadata": {},
   "outputs": [],
   "source": []
  },
  {
   "cell_type": "code",
   "execution_count": null,
   "id": "c646938f",
   "metadata": {},
   "outputs": [],
   "source": []
  },
  {
   "cell_type": "markdown",
   "id": "cb741302",
   "metadata": {},
   "source": [
    "Now you might agree that the dataset seems very complicated, so we will start by "
   ]
  },
  {
   "cell_type": "markdown",
   "id": "81baa14a",
   "metadata": {},
   "source": [
    "### Q0: Train-Test Split & other preprocessing"
   ]
  },
  {
   "cell_type": "markdown",
   "id": "75d9eddf",
   "metadata": {},
   "source": [
    "We will begin by processing our data to be usable. This should be familiar as you did essentially the same thing for last week's homework. Do the following:\n",
    "- Make a new dataframe names `dataset_cleaned` that contains only the following columns from the `cancer_df`:\n",
    "    - `mean radius`, `mean texture`, `mean perimeter`, `mean fractal dimension`\n",
    "- Create a training dataset and testing dataset from the cleaned dataset, using an 80-20 split."
   ]
  },
  {
   "cell_type": "code",
   "execution_count": 2,
   "id": "af84aab9",
   "metadata": {},
   "outputs": [
    {
     "data": {
      "text/plain": [
       "Index(['mean radius', 'mean texture', 'mean perimeter', 'mean area',\n",
       "       'mean smoothness', 'mean compactness', 'mean concavity',\n",
       "       'mean concave points', 'mean symmetry', 'mean fractal dimension',\n",
       "       'radius error', 'texture error', 'perimeter error', 'area error',\n",
       "       'smoothness error', 'compactness error', 'concavity error',\n",
       "       'concave points error', 'symmetry error', 'fractal dimension error',\n",
       "       'worst radius', 'worst texture', 'worst perimeter', 'worst area',\n",
       "       'worst smoothness', 'worst compactness', 'worst concavity',\n",
       "       'worst concave points', 'worst symmetry', 'worst fractal dimension'],\n",
       "      dtype='object')"
      ]
     },
     "execution_count": 2,
     "metadata": {},
     "output_type": "execute_result"
    }
   ],
   "source": [
    "cancer_df.columns"
   ]
  },
  {
   "cell_type": "markdown",
   "id": "63a04fdf",
   "metadata": {},
   "source": [
    "Retain only the following fields of the cancer_dataset: \"mean radius\", \"mean texture\", \"mean perimeter\", \"mean fractal dimension\""
   ]
  },
  {
   "cell_type": "code",
   "execution_count": 3,
   "id": "d11b934e",
   "metadata": {},
   "outputs": [],
   "source": [
    "np.random.seed(1958) # Do NOT change this line: it sets the \"random number generation seed\"\n",
    "features = [\"mean radius\", \"mean texture\", \"mean perimeter\", \"mean fractal dimension\"]\n",
    "\n",
    "dataset_cleaned = cancer_df[features] # We do not need to drop NA values, because the dataset is already provided to us with clean entries\n",
    "\n",
    "X_train, X_test, Y_train, Y_test = train_test_split(dataset_cleaned, cancer_classes, train_size=0.8)"
   ]
  },
  {
   "cell_type": "code",
   "execution_count": 4,
   "id": "0e127f03",
   "metadata": {},
   "outputs": [
    {
     "ename": "AssertionError",
     "evalue": "",
     "output_type": "error",
     "traceback": [
      "\u001b[0;31m---------------------------------------------------------------------------\u001b[0m",
      "\u001b[0;31mAssertionError\u001b[0m                            Traceback (most recent call last)",
      "Cell \u001b[0;32mIn[4], line 2\u001b[0m\n\u001b[1;32m      1\u001b[0m \u001b[38;5;66;03m# test_Q0\u001b[39;00m\n\u001b[0;32m----> 2\u001b[0m \u001b[38;5;28;01massert\u001b[39;00m X_train\u001b[38;5;241m.\u001b[39mshape \u001b[38;5;241m==\u001b[39m (\u001b[38;5;28;01mNone\u001b[39;00m, \u001b[38;5;28;01mNone\u001b[39;00m)\n",
      "\u001b[0;31mAssertionError\u001b[0m: "
     ]
    }
   ],
   "source": [
    "# test_Q0\n",
    "assert X_train.shape == (None, None)"
   ]
  },
  {
   "cell_type": "markdown",
   "id": "53eca163",
   "metadata": {},
   "source": [
    "### Q1: Use GridSearchCV to find the max_depth which optimizes your model for accuracy"
   ]
  },
  {
   "cell_type": "markdown",
   "id": "8a5b28be",
   "metadata": {},
   "source": [
    "Now use GridSearchCV to find the maximum depth in the range [0,20] which yields the most accurate decision tree (i.e. the decision tree which attains the highest training accuracy)."
   ]
  },
  {
   "cell_type": "code",
   "execution_count": 4,
   "id": "2c682af3",
   "metadata": {},
   "outputs": [
    {
     "data": {
      "text/html": [
       "<style>#sk-container-id-1 {color: black;background-color: white;}#sk-container-id-1 pre{padding: 0;}#sk-container-id-1 div.sk-toggleable {background-color: white;}#sk-container-id-1 label.sk-toggleable__label {cursor: pointer;display: block;width: 100%;margin-bottom: 0;padding: 0.3em;box-sizing: border-box;text-align: center;}#sk-container-id-1 label.sk-toggleable__label-arrow:before {content: \"▸\";float: left;margin-right: 0.25em;color: #696969;}#sk-container-id-1 label.sk-toggleable__label-arrow:hover:before {color: black;}#sk-container-id-1 div.sk-estimator:hover label.sk-toggleable__label-arrow:before {color: black;}#sk-container-id-1 div.sk-toggleable__content {max-height: 0;max-width: 0;overflow: hidden;text-align: left;background-color: #f0f8ff;}#sk-container-id-1 div.sk-toggleable__content pre {margin: 0.2em;color: black;border-radius: 0.25em;background-color: #f0f8ff;}#sk-container-id-1 input.sk-toggleable__control:checked~div.sk-toggleable__content {max-height: 200px;max-width: 100%;overflow: auto;}#sk-container-id-1 input.sk-toggleable__control:checked~label.sk-toggleable__label-arrow:before {content: \"▾\";}#sk-container-id-1 div.sk-estimator input.sk-toggleable__control:checked~label.sk-toggleable__label {background-color: #d4ebff;}#sk-container-id-1 div.sk-label input.sk-toggleable__control:checked~label.sk-toggleable__label {background-color: #d4ebff;}#sk-container-id-1 input.sk-hidden--visually {border: 0;clip: rect(1px 1px 1px 1px);clip: rect(1px, 1px, 1px, 1px);height: 1px;margin: -1px;overflow: hidden;padding: 0;position: absolute;width: 1px;}#sk-container-id-1 div.sk-estimator {font-family: monospace;background-color: #f0f8ff;border: 1px dotted black;border-radius: 0.25em;box-sizing: border-box;margin-bottom: 0.5em;}#sk-container-id-1 div.sk-estimator:hover {background-color: #d4ebff;}#sk-container-id-1 div.sk-parallel-item::after {content: \"\";width: 100%;border-bottom: 1px solid gray;flex-grow: 1;}#sk-container-id-1 div.sk-label:hover label.sk-toggleable__label {background-color: #d4ebff;}#sk-container-id-1 div.sk-serial::before {content: \"\";position: absolute;border-left: 1px solid gray;box-sizing: border-box;top: 0;bottom: 0;left: 50%;z-index: 0;}#sk-container-id-1 div.sk-serial {display: flex;flex-direction: column;align-items: center;background-color: white;padding-right: 0.2em;padding-left: 0.2em;position: relative;}#sk-container-id-1 div.sk-item {position: relative;z-index: 1;}#sk-container-id-1 div.sk-parallel {display: flex;align-items: stretch;justify-content: center;background-color: white;position: relative;}#sk-container-id-1 div.sk-item::before, #sk-container-id-1 div.sk-parallel-item::before {content: \"\";position: absolute;border-left: 1px solid gray;box-sizing: border-box;top: 0;bottom: 0;left: 50%;z-index: -1;}#sk-container-id-1 div.sk-parallel-item {display: flex;flex-direction: column;z-index: 1;position: relative;background-color: white;}#sk-container-id-1 div.sk-parallel-item:first-child::after {align-self: flex-end;width: 50%;}#sk-container-id-1 div.sk-parallel-item:last-child::after {align-self: flex-start;width: 50%;}#sk-container-id-1 div.sk-parallel-item:only-child::after {width: 0;}#sk-container-id-1 div.sk-dashed-wrapped {border: 1px dashed gray;margin: 0 0.4em 0.5em 0.4em;box-sizing: border-box;padding-bottom: 0.4em;background-color: white;}#sk-container-id-1 div.sk-label label {font-family: monospace;font-weight: bold;display: inline-block;line-height: 1.2em;}#sk-container-id-1 div.sk-label-container {text-align: center;}#sk-container-id-1 div.sk-container {/* jupyter's `normalize.less` sets `[hidden] { display: none; }` but bootstrap.min.css set `[hidden] { display: none !important; }` so we also need the `!important` here to be able to override the default hidden behavior on the sphinx rendered scikit-learn.org. See: https://github.com/scikit-learn/scikit-learn/issues/21755 */display: inline-block !important;position: relative;}#sk-container-id-1 div.sk-text-repr-fallback {display: none;}</style><div id=\"sk-container-id-1\" class=\"sk-top-container\"><div class=\"sk-text-repr-fallback\"><pre>DecisionTreeClassifier(max_depth=4)</pre><b>In a Jupyter environment, please rerun this cell to show the HTML representation or trust the notebook. <br />On GitHub, the HTML representation is unable to render, please try loading this page with nbviewer.org.</b></div><div class=\"sk-container\" hidden><div class=\"sk-item\"><div class=\"sk-estimator sk-toggleable\"><input class=\"sk-toggleable__control sk-hidden--visually\" id=\"sk-estimator-id-1\" type=\"checkbox\" checked><label for=\"sk-estimator-id-1\" class=\"sk-toggleable__label sk-toggleable__label-arrow\">DecisionTreeClassifier</label><div class=\"sk-toggleable__content\"><pre>DecisionTreeClassifier(max_depth=4)</pre></div></div></div></div></div>"
      ],
      "text/plain": [
       "DecisionTreeClassifier(max_depth=4)"
      ]
     },
     "execution_count": 4,
     "metadata": {},
     "output_type": "execute_result"
    }
   ],
   "source": [
    "criterion = ['accuracy']\n",
    "max_depths = range(1, 10)\n",
    "parameters = {'max_depth': range(1, 20)}\n",
    "\n",
    "scoring = {'accuracy': make_scorer(accuracy_score),\n",
    "          'sensitivity':make_scorer(recall_score,pos_label='Malignant')}\n",
    "\n",
    "rs = ShuffleSplit(n_splits=2,test_size=0.20, random_state=30259) #Feb 03 1959 is 'The Day the Music Died' https://en.wikipedia.org/wiki/The_Day_the_Music_Died \n",
    "\n",
    "clf = tree.DecisionTreeClassifier()\n",
    "\n",
    "clf_GS_1 = GridSearchCV(estimator = clf, param_grid = parameters, scoring = scoring, \n",
    "                      refit = 'accuracy', cv = rs)\n",
    "\n",
    "clf_GS_1.fit(dataset_cleaned, cancer_classes)\n",
    "clf_GS_1.best_estimator_"
   ]
  },
  {
   "cell_type": "code",
   "execution_count": null,
   "id": "a60dea6e",
   "metadata": {},
   "outputs": [],
   "source": [
    "clf_GS_1.best_score_"
   ]
  },
  {
   "cell_type": "code",
   "execution_count": null,
   "id": "296cfa4d",
   "metadata": {},
   "outputs": [],
   "source": [
    "recall_score(Y_test, clf_GS_1.predict(X_test), pos_label='Malignant')"
   ]
  },
  {
   "cell_type": "code",
   "execution_count": null,
   "id": "4a5cc76a",
   "metadata": {},
   "outputs": [],
   "source": [
    "# Q1:\n",
    "Q1 = None"
   ]
  },
  {
   "cell_type": "code",
   "execution_count": null,
   "id": "51f88047",
   "metadata": {},
   "outputs": [],
   "source": [
    "# test_Q1\n"
   ]
  },
  {
   "cell_type": "markdown",
   "id": "990c19ff",
   "metadata": {},
   "source": [
    "### Q2: Use GraphViz to plot the tree best tree you found in Q1"
   ]
  },
  {
   "cell_type": "code",
   "execution_count": 5,
   "id": "a1b469ec",
   "metadata": {},
   "outputs": [
    {
     "data": {
      "image/svg+xml": [
       "<?xml version=\"1.0\" encoding=\"UTF-8\" standalone=\"no\"?>\n",
       "<!DOCTYPE svg PUBLIC \"-//W3C//DTD SVG 1.1//EN\"\n",
       " \"http://www.w3.org/Graphics/SVG/1.1/DTD/svg11.dtd\">\n",
       "<!-- Generated by graphviz version 7.1.0 (20230122.1345)\n",
       " -->\n",
       "<!-- Title: Tree Pages: 1 -->\n",
       "<svg width=\"1958pt\" height=\"552pt\"\n",
       " viewBox=\"0.00 0.00 1957.50 552.00\" xmlns=\"http://www.w3.org/2000/svg\" xmlns:xlink=\"http://www.w3.org/1999/xlink\">\n",
       "<g id=\"graph0\" class=\"graph\" transform=\"scale(1 1) rotate(0) translate(4 548)\">\n",
       "<title>Tree</title>\n",
       "<polygon fill=\"white\" stroke=\"none\" points=\"-4,4 -4,-548 1953.5,-548 1953.5,4 -4,4\"/>\n",
       "<!-- 0 -->\n",
       "<g id=\"node1\" class=\"node\">\n",
       "<title>0</title>\n",
       "<path fill=\"#f4ccaf\" stroke=\"black\" d=\"M1236.5,-544C1236.5,-544 1061.5,-544 1061.5,-544 1055.5,-544 1049.5,-538 1049.5,-532 1049.5,-532 1049.5,-473 1049.5,-473 1049.5,-467 1055.5,-461 1061.5,-461 1061.5,-461 1236.5,-461 1236.5,-461 1242.5,-461 1248.5,-467 1248.5,-473 1248.5,-473 1248.5,-532 1248.5,-532 1248.5,-538 1242.5,-544 1236.5,-544\"/>\n",
       "<text text-anchor=\"start\" x=\"1057.5\" y=\"-528.8\" font-family=\"Helvetica,sans-Serif\" font-size=\"14.00\">mean perimeter ≤ 98.755</text>\n",
       "<text text-anchor=\"start\" x=\"1105\" y=\"-513.8\" font-family=\"Helvetica,sans-Serif\" font-size=\"14.00\">gini = 0.468</text>\n",
       "<text text-anchor=\"start\" x=\"1096\" y=\"-498.8\" font-family=\"Helvetica,sans-Serif\" font-size=\"14.00\">samples = 569</text>\n",
       "<text text-anchor=\"start\" x=\"1082.5\" y=\"-483.8\" font-family=\"Helvetica,sans-Serif\" font-size=\"14.00\">value = [357, 212]</text>\n",
       "<text text-anchor=\"start\" x=\"1087\" y=\"-468.8\" font-family=\"Helvetica,sans-Serif\" font-size=\"14.00\">class = Malignant</text>\n",
       "</g>\n",
       "<!-- 1 -->\n",
       "<g id=\"node2\" class=\"node\">\n",
       "<title>1</title>\n",
       "<path fill=\"#e99457\" stroke=\"black\" d=\"M976.5,-425C976.5,-425 801.5,-425 801.5,-425 795.5,-425 789.5,-419 789.5,-413 789.5,-413 789.5,-354 789.5,-354 789.5,-348 795.5,-342 801.5,-342 801.5,-342 976.5,-342 976.5,-342 982.5,-342 988.5,-348 988.5,-354 988.5,-354 988.5,-413 988.5,-413 988.5,-419 982.5,-425 976.5,-425\"/>\n",
       "<text text-anchor=\"start\" x=\"797.5\" y=\"-409.8\" font-family=\"Helvetica,sans-Serif\" font-size=\"14.00\">mean perimeter ≤ 90.115</text>\n",
       "<text text-anchor=\"start\" x=\"845\" y=\"-394.8\" font-family=\"Helvetica,sans-Serif\" font-size=\"14.00\">gini = 0.229</text>\n",
       "<text text-anchor=\"start\" x=\"836\" y=\"-379.8\" font-family=\"Helvetica,sans-Serif\" font-size=\"14.00\">samples = 401</text>\n",
       "<text text-anchor=\"start\" x=\"827\" y=\"-364.8\" font-family=\"Helvetica,sans-Serif\" font-size=\"14.00\">value = [348, 53]</text>\n",
       "<text text-anchor=\"start\" x=\"827\" y=\"-349.8\" font-family=\"Helvetica,sans-Serif\" font-size=\"14.00\">class = Malignant</text>\n",
       "</g>\n",
       "<!-- 0&#45;&gt;1 -->\n",
       "<g id=\"edge1\" class=\"edge\">\n",
       "<title>0&#45;&gt;1</title>\n",
       "<path fill=\"none\" stroke=\"black\" d=\"M1058.06,-460.58C1036.1,-450.69 1012.49,-440.07 990.08,-429.99\"/>\n",
       "<polygon fill=\"black\" stroke=\"black\" points=\"991.82,-426.93 981.26,-426.02 988.95,-433.31 991.82,-426.93\"/>\n",
       "<text text-anchor=\"middle\" x=\"988.75\" y=\"-445.07\" font-family=\"Helvetica,sans-Serif\" font-size=\"14.00\">True</text>\n",
       "</g>\n",
       "<!-- 16 -->\n",
       "<g id=\"node17\" class=\"node\">\n",
       "<title>16</title>\n",
       "<path fill=\"#44a3e6\" stroke=\"black\" d=\"M1453,-425C1453,-425 1297,-425 1297,-425 1291,-425 1285,-419 1285,-413 1285,-413 1285,-354 1285,-354 1285,-348 1291,-342 1297,-342 1297,-342 1453,-342 1453,-342 1459,-342 1465,-348 1465,-354 1465,-354 1465,-413 1465,-413 1465,-419 1459,-425 1453,-425\"/>\n",
       "<text text-anchor=\"start\" x=\"1293\" y=\"-409.8\" font-family=\"Helvetica,sans-Serif\" font-size=\"14.00\">mean texture ≤ 16.395</text>\n",
       "<text text-anchor=\"start\" x=\"1331\" y=\"-394.8\" font-family=\"Helvetica,sans-Serif\" font-size=\"14.00\">gini = 0.101</text>\n",
       "<text text-anchor=\"start\" x=\"1322\" y=\"-379.8\" font-family=\"Helvetica,sans-Serif\" font-size=\"14.00\">samples = 168</text>\n",
       "<text text-anchor=\"start\" x=\"1317.5\" y=\"-364.8\" font-family=\"Helvetica,sans-Serif\" font-size=\"14.00\">value = [9, 159]</text>\n",
       "<text text-anchor=\"start\" x=\"1322.5\" y=\"-349.8\" font-family=\"Helvetica,sans-Serif\" font-size=\"14.00\">class = Benign</text>\n",
       "</g>\n",
       "<!-- 0&#45;&gt;16 -->\n",
       "<g id=\"edge16\" class=\"edge\">\n",
       "<title>0&#45;&gt;16</title>\n",
       "<path fill=\"none\" stroke=\"black\" d=\"M1228.04,-460.58C1246.71,-450.92 1266.74,-440.55 1285.82,-430.67\"/>\n",
       "<polygon fill=\"black\" stroke=\"black\" points=\"1287.39,-433.8 1294.66,-426.09 1284.17,-427.58 1287.39,-433.8\"/>\n",
       "<text text-anchor=\"middle\" x=\"1288.43\" y=\"-445.52\" font-family=\"Helvetica,sans-Serif\" font-size=\"14.00\">False</text>\n",
       "</g>\n",
       "<!-- 2 -->\n",
       "<g id=\"node3\" class=\"node\">\n",
       "<title>2</title>\n",
       "<path fill=\"#e78a48\" stroke=\"black\" d=\"M592,-306C592,-306 374,-306 374,-306 368,-306 362,-300 362,-294 362,-294 362,-235 362,-235 362,-229 368,-223 374,-223 374,-223 592,-223 592,-223 598,-223 604,-229 604,-235 604,-235 604,-294 604,-294 604,-300 598,-306 592,-306\"/>\n",
       "<text text-anchor=\"start\" x=\"370\" y=\"-290.8\" font-family=\"Helvetica,sans-Serif\" font-size=\"14.00\">mean fractal dimension ≤ 0.073</text>\n",
       "<text text-anchor=\"start\" x=\"439\" y=\"-275.8\" font-family=\"Helvetica,sans-Serif\" font-size=\"14.00\">gini = 0.129</text>\n",
       "<text text-anchor=\"start\" x=\"430\" y=\"-260.8\" font-family=\"Helvetica,sans-Serif\" font-size=\"14.00\">samples = 332</text>\n",
       "<text text-anchor=\"start\" x=\"421\" y=\"-245.8\" font-family=\"Helvetica,sans-Serif\" font-size=\"14.00\">value = [309, 23]</text>\n",
       "<text text-anchor=\"start\" x=\"421\" y=\"-230.8\" font-family=\"Helvetica,sans-Serif\" font-size=\"14.00\">class = Malignant</text>\n",
       "</g>\n",
       "<!-- 1&#45;&gt;2 -->\n",
       "<g id=\"edge2\" class=\"edge\">\n",
       "<title>1&#45;&gt;2</title>\n",
       "<path fill=\"none\" stroke=\"black\" d=\"M789.16,-353.73C736.66,-338.6 671.63,-319.86 615.02,-303.55\"/>\n",
       "<polygon fill=\"black\" stroke=\"black\" points=\"616.22,-300.25 605.64,-300.84 614.28,-306.98 616.22,-300.25\"/>\n",
       "</g>\n",
       "<!-- 9 -->\n",
       "<g id=\"node10\" class=\"node\">\n",
       "<title>9</title>\n",
       "<path fill=\"#f9e2d1\" stroke=\"black\" d=\"M967,-306C967,-306 811,-306 811,-306 805,-306 799,-300 799,-294 799,-294 799,-235 799,-235 799,-229 805,-223 811,-223 811,-223 967,-223 967,-223 973,-223 979,-229 979,-235 979,-235 979,-294 979,-294 979,-300 973,-306 967,-306\"/>\n",
       "<text text-anchor=\"start\" x=\"807\" y=\"-290.8\" font-family=\"Helvetica,sans-Serif\" font-size=\"14.00\">mean texture ≤ 19.765</text>\n",
       "<text text-anchor=\"start\" x=\"845\" y=\"-275.8\" font-family=\"Helvetica,sans-Serif\" font-size=\"14.00\">gini = 0.491</text>\n",
       "<text text-anchor=\"start\" x=\"840.5\" y=\"-260.8\" font-family=\"Helvetica,sans-Serif\" font-size=\"14.00\">samples = 69</text>\n",
       "<text text-anchor=\"start\" x=\"831.5\" y=\"-245.8\" font-family=\"Helvetica,sans-Serif\" font-size=\"14.00\">value = [39, 30]</text>\n",
       "<text text-anchor=\"start\" x=\"827\" y=\"-230.8\" font-family=\"Helvetica,sans-Serif\" font-size=\"14.00\">class = Malignant</text>\n",
       "</g>\n",
       "<!-- 1&#45;&gt;9 -->\n",
       "<g id=\"edge9\" class=\"edge\">\n",
       "<title>1&#45;&gt;9</title>\n",
       "<path fill=\"none\" stroke=\"black\" d=\"M889,-341.58C889,-333.79 889,-325.53 889,-317.45\"/>\n",
       "<polygon fill=\"black\" stroke=\"black\" points=\"892.5,-317.71 889,-307.71 885.5,-317.71 892.5,-317.71\"/>\n",
       "</g>\n",
       "<!-- 3 -->\n",
       "<g id=\"node4\" class=\"node\">\n",
       "<title>3</title>\n",
       "<path fill=\"#e68742\" stroke=\"black\" d=\"M306,-187C306,-187 150,-187 150,-187 144,-187 138,-181 138,-175 138,-175 138,-116 138,-116 138,-110 144,-104 150,-104 150,-104 306,-104 306,-104 312,-104 318,-110 318,-116 318,-116 318,-175 318,-175 318,-181 312,-187 306,-187\"/>\n",
       "<text text-anchor=\"start\" x=\"146\" y=\"-171.8\" font-family=\"Helvetica,sans-Serif\" font-size=\"14.00\">mean texture ≤ 19.615</text>\n",
       "<text text-anchor=\"start\" x=\"184\" y=\"-156.8\" font-family=\"Helvetica,sans-Serif\" font-size=\"14.00\">gini = 0.083</text>\n",
       "<text text-anchor=\"start\" x=\"175\" y=\"-141.8\" font-family=\"Helvetica,sans-Serif\" font-size=\"14.00\">samples = 298</text>\n",
       "<text text-anchor=\"start\" x=\"166\" y=\"-126.8\" font-family=\"Helvetica,sans-Serif\" font-size=\"14.00\">value = [285, 13]</text>\n",
       "<text text-anchor=\"start\" x=\"166\" y=\"-111.8\" font-family=\"Helvetica,sans-Serif\" font-size=\"14.00\">class = Malignant</text>\n",
       "</g>\n",
       "<!-- 2&#45;&gt;3 -->\n",
       "<g id=\"edge3\" class=\"edge\">\n",
       "<title>2&#45;&gt;3</title>\n",
       "<path fill=\"none\" stroke=\"black\" d=\"M393.81,-222.58C372.36,-212.74 349.32,-202.16 327.44,-192.12\"/>\n",
       "<polygon fill=\"black\" stroke=\"black\" points=\"329.06,-189.02 318.51,-188.03 326.14,-195.38 329.06,-189.02\"/>\n",
       "</g>\n",
       "<!-- 6 -->\n",
       "<g id=\"node7\" class=\"node\">\n",
       "<title>6</title>\n",
       "<path fill=\"#f0b58b\" stroke=\"black\" d=\"M566,-187C566,-187 400,-187 400,-187 394,-187 388,-181 388,-175 388,-175 388,-116 388,-116 388,-110 394,-104 400,-104 400,-104 566,-104 566,-104 572,-104 578,-110 578,-116 578,-116 578,-175 578,-175 578,-181 572,-187 566,-187\"/>\n",
       "<text text-anchor=\"start\" x=\"396\" y=\"-171.8\" font-family=\"Helvetica,sans-Serif\" font-size=\"14.00\">mean perimeter ≤ 76.98</text>\n",
       "<text text-anchor=\"start\" x=\"439\" y=\"-156.8\" font-family=\"Helvetica,sans-Serif\" font-size=\"14.00\">gini = 0.415</text>\n",
       "<text text-anchor=\"start\" x=\"434.5\" y=\"-141.8\" font-family=\"Helvetica,sans-Serif\" font-size=\"14.00\">samples = 34</text>\n",
       "<text text-anchor=\"start\" x=\"425.5\" y=\"-126.8\" font-family=\"Helvetica,sans-Serif\" font-size=\"14.00\">value = [24, 10]</text>\n",
       "<text text-anchor=\"start\" x=\"421\" y=\"-111.8\" font-family=\"Helvetica,sans-Serif\" font-size=\"14.00\">class = Malignant</text>\n",
       "</g>\n",
       "<!-- 2&#45;&gt;6 -->\n",
       "<g id=\"edge6\" class=\"edge\">\n",
       "<title>2&#45;&gt;6</title>\n",
       "<path fill=\"none\" stroke=\"black\" d=\"M483,-222.58C483,-214.79 483,-206.53 483,-198.45\"/>\n",
       "<polygon fill=\"black\" stroke=\"black\" points=\"486.5,-198.71 483,-188.71 479.5,-198.71 486.5,-198.71\"/>\n",
       "</g>\n",
       "<!-- 4 -->\n",
       "<g id=\"node5\" class=\"node\">\n",
       "<title>4</title>\n",
       "<path fill=\"#e5823b\" stroke=\"black\" d=\"M128,-68C128,-68 12,-68 12,-68 6,-68 0,-62 0,-56 0,-56 0,-12 0,-12 0,-6 6,0 12,0 12,0 128,0 128,0 134,0 140,-6 140,-12 140,-12 140,-56 140,-56 140,-62 134,-68 128,-68\"/>\n",
       "<text text-anchor=\"start\" x=\"26\" y=\"-52.8\" font-family=\"Helvetica,sans-Serif\" font-size=\"14.00\">gini = 0.018</text>\n",
       "<text text-anchor=\"start\" x=\"17\" y=\"-37.8\" font-family=\"Helvetica,sans-Serif\" font-size=\"14.00\">samples = 215</text>\n",
       "<text text-anchor=\"start\" x=\"12.5\" y=\"-22.8\" font-family=\"Helvetica,sans-Serif\" font-size=\"14.00\">value = [213, 2]</text>\n",
       "<text text-anchor=\"start\" x=\"8\" y=\"-7.8\" font-family=\"Helvetica,sans-Serif\" font-size=\"14.00\">class = Malignant</text>\n",
       "</g>\n",
       "<!-- 3&#45;&gt;4 -->\n",
       "<g id=\"edge4\" class=\"edge\">\n",
       "<title>3&#45;&gt;4</title>\n",
       "<path fill=\"none\" stroke=\"black\" d=\"M169.17,-103.73C155.55,-94.29 141.08,-84.26 127.52,-74.86\"/>\n",
       "<polygon fill=\"black\" stroke=\"black\" points=\"129.76,-72.16 119.54,-69.34 125.77,-77.91 129.76,-72.16\"/>\n",
       "</g>\n",
       "<!-- 5 -->\n",
       "<g id=\"node6\" class=\"node\">\n",
       "<title>5</title>\n",
       "<path fill=\"#e99457\" stroke=\"black\" d=\"M286,-68C286,-68 170,-68 170,-68 164,-68 158,-62 158,-56 158,-56 158,-12 158,-12 158,-6 164,0 170,0 170,0 286,0 286,0 292,0 298,-6 298,-12 298,-12 298,-56 298,-56 298,-62 292,-68 286,-68\"/>\n",
       "<text text-anchor=\"start\" x=\"188.5\" y=\"-52.8\" font-family=\"Helvetica,sans-Serif\" font-size=\"14.00\">gini = 0.23</text>\n",
       "<text text-anchor=\"start\" x=\"179.5\" y=\"-37.8\" font-family=\"Helvetica,sans-Serif\" font-size=\"14.00\">samples = 83</text>\n",
       "<text text-anchor=\"start\" x=\"170.5\" y=\"-22.8\" font-family=\"Helvetica,sans-Serif\" font-size=\"14.00\">value = [72, 11]</text>\n",
       "<text text-anchor=\"start\" x=\"166\" y=\"-7.8\" font-family=\"Helvetica,sans-Serif\" font-size=\"14.00\">class = Malignant</text>\n",
       "</g>\n",
       "<!-- 3&#45;&gt;5 -->\n",
       "<g id=\"edge5\" class=\"edge\">\n",
       "<title>3&#45;&gt;5</title>\n",
       "<path fill=\"none\" stroke=\"black\" d=\"M228,-103.73C228,-95.88 228,-87.63 228,-79.67\"/>\n",
       "<polygon fill=\"black\" stroke=\"black\" points=\"231.5,-79.81 228,-69.81 224.5,-79.81 231.5,-79.81\"/>\n",
       "</g>\n",
       "<!-- 7 -->\n",
       "<g id=\"node8\" class=\"node\">\n",
       "<title>7</title>\n",
       "<path fill=\"#e68742\" stroke=\"black\" d=\"M444,-68C444,-68 328,-68 328,-68 322,-68 316,-62 316,-56 316,-56 316,-12 316,-12 316,-6 322,0 328,0 328,0 444,0 444,0 450,0 456,-6 456,-12 456,-12 456,-56 456,-56 456,-62 450,-68 444,-68\"/>\n",
       "<text text-anchor=\"start\" x=\"342\" y=\"-52.8\" font-family=\"Helvetica,sans-Serif\" font-size=\"14.00\">gini = 0.087</text>\n",
       "<text text-anchor=\"start\" x=\"337.5\" y=\"-37.8\" font-family=\"Helvetica,sans-Serif\" font-size=\"14.00\">samples = 22</text>\n",
       "<text text-anchor=\"start\" x=\"333\" y=\"-22.8\" font-family=\"Helvetica,sans-Serif\" font-size=\"14.00\">value = [21, 1]</text>\n",
       "<text text-anchor=\"start\" x=\"324\" y=\"-7.8\" font-family=\"Helvetica,sans-Serif\" font-size=\"14.00\">class = Malignant</text>\n",
       "</g>\n",
       "<!-- 6&#45;&gt;7 -->\n",
       "<g id=\"edge7\" class=\"edge\">\n",
       "<title>6&#45;&gt;7</title>\n",
       "<path fill=\"none\" stroke=\"black\" d=\"M446.88,-103.73C439.12,-94.97 430.92,-85.7 423.12,-76.91\"/>\n",
       "<polygon fill=\"black\" stroke=\"black\" points=\"425.75,-74.6 416.5,-69.43 420.51,-79.24 425.75,-74.6\"/>\n",
       "</g>\n",
       "<!-- 8 -->\n",
       "<g id=\"node9\" class=\"node\">\n",
       "<title>8</title>\n",
       "<path fill=\"#7bbeee\" stroke=\"black\" d=\"M583.5,-68C583.5,-68 486.5,-68 486.5,-68 480.5,-68 474.5,-62 474.5,-56 474.5,-56 474.5,-12 474.5,-12 474.5,-6 480.5,0 486.5,0 486.5,0 583.5,0 583.5,0 589.5,0 595.5,-6 595.5,-12 595.5,-12 595.5,-56 595.5,-56 595.5,-62 589.5,-68 583.5,-68\"/>\n",
       "<text text-anchor=\"start\" x=\"491\" y=\"-52.8\" font-family=\"Helvetica,sans-Serif\" font-size=\"14.00\">gini = 0.375</text>\n",
       "<text text-anchor=\"start\" x=\"486.5\" y=\"-37.8\" font-family=\"Helvetica,sans-Serif\" font-size=\"14.00\">samples = 12</text>\n",
       "<text text-anchor=\"start\" x=\"486.5\" y=\"-22.8\" font-family=\"Helvetica,sans-Serif\" font-size=\"14.00\">value = [3, 9]</text>\n",
       "<text text-anchor=\"start\" x=\"482.5\" y=\"-7.8\" font-family=\"Helvetica,sans-Serif\" font-size=\"14.00\">class = Benign</text>\n",
       "</g>\n",
       "<!-- 6&#45;&gt;8 -->\n",
       "<g id=\"edge8\" class=\"edge\">\n",
       "<title>6&#45;&gt;8</title>\n",
       "<path fill=\"none\" stroke=\"black\" d=\"M502.36,-103.73C506.26,-95.52 510.37,-86.86 514.31,-78.56\"/>\n",
       "<polygon fill=\"black\" stroke=\"black\" points=\"517.41,-80.2 518.54,-69.67 511.09,-77.2 517.41,-80.2\"/>\n",
       "</g>\n",
       "<!-- 10 -->\n",
       "<g id=\"node11\" class=\"node\">\n",
       "<title>10</title>\n",
       "<path fill=\"#eb9f69\" stroke=\"black\" d=\"M848.5,-187C848.5,-187 707.5,-187 707.5,-187 701.5,-187 695.5,-181 695.5,-175 695.5,-175 695.5,-116 695.5,-116 695.5,-110 701.5,-104 707.5,-104 707.5,-104 848.5,-104 848.5,-104 854.5,-104 860.5,-110 860.5,-116 860.5,-116 860.5,-175 860.5,-175 860.5,-181 854.5,-187 848.5,-187\"/>\n",
       "<text text-anchor=\"start\" x=\"703.5\" y=\"-171.8\" font-family=\"Helvetica,sans-Serif\" font-size=\"14.00\">mean radius ≤ 14.12</text>\n",
       "<text text-anchor=\"start\" x=\"734\" y=\"-156.8\" font-family=\"Helvetica,sans-Serif\" font-size=\"14.00\">gini = 0.313</text>\n",
       "<text text-anchor=\"start\" x=\"729.5\" y=\"-141.8\" font-family=\"Helvetica,sans-Serif\" font-size=\"14.00\">samples = 36</text>\n",
       "<text text-anchor=\"start\" x=\"725\" y=\"-126.8\" font-family=\"Helvetica,sans-Serif\" font-size=\"14.00\">value = [29, 7]</text>\n",
       "<text text-anchor=\"start\" x=\"716\" y=\"-111.8\" font-family=\"Helvetica,sans-Serif\" font-size=\"14.00\">class = Malignant</text>\n",
       "</g>\n",
       "<!-- 9&#45;&gt;10 -->\n",
       "<g id=\"edge10\" class=\"edge\">\n",
       "<title>9&#45;&gt;10</title>\n",
       "<path fill=\"none\" stroke=\"black\" d=\"M850.18,-222.58C841.85,-213.8 832.97,-204.44 824.39,-195.39\"/>\n",
       "<polygon fill=\"black\" stroke=\"black\" points=\"827.08,-193.14 817.65,-188.3 822,-197.96 827.08,-193.14\"/>\n",
       "</g>\n",
       "<!-- 13 -->\n",
       "<g id=\"node14\" class=\"node\">\n",
       "<title>13</title>\n",
       "<path fill=\"#8fc8f0\" stroke=\"black\" d=\"M1109,-187C1109,-187 891,-187 891,-187 885,-187 879,-181 879,-175 879,-175 879,-116 879,-116 879,-110 885,-104 891,-104 891,-104 1109,-104 1109,-104 1115,-104 1121,-110 1121,-116 1121,-116 1121,-175 1121,-175 1121,-181 1115,-187 1109,-187\"/>\n",
       "<text text-anchor=\"start\" x=\"887\" y=\"-171.8\" font-family=\"Helvetica,sans-Serif\" font-size=\"14.00\">mean fractal dimension ≤ 0.064</text>\n",
       "<text text-anchor=\"start\" x=\"956\" y=\"-156.8\" font-family=\"Helvetica,sans-Serif\" font-size=\"14.00\">gini = 0.422</text>\n",
       "<text text-anchor=\"start\" x=\"951.5\" y=\"-141.8\" font-family=\"Helvetica,sans-Serif\" font-size=\"14.00\">samples = 33</text>\n",
       "<text text-anchor=\"start\" x=\"942.5\" y=\"-126.8\" font-family=\"Helvetica,sans-Serif\" font-size=\"14.00\">value = [10, 23]</text>\n",
       "<text text-anchor=\"start\" x=\"947.5\" y=\"-111.8\" font-family=\"Helvetica,sans-Serif\" font-size=\"14.00\">class = Benign</text>\n",
       "</g>\n",
       "<!-- 9&#45;&gt;13 -->\n",
       "<g id=\"edge13\" class=\"edge\">\n",
       "<title>9&#45;&gt;13</title>\n",
       "<path fill=\"none\" stroke=\"black\" d=\"M927.82,-222.58C936.15,-213.8 945.03,-204.44 953.61,-195.39\"/>\n",
       "<polygon fill=\"black\" stroke=\"black\" points=\"956,-197.96 960.35,-188.3 950.92,-193.14 956,-197.96\"/>\n",
       "</g>\n",
       "<!-- 11 -->\n",
       "<g id=\"node12\" class=\"node\">\n",
       "<title>11</title>\n",
       "<path fill=\"#6ab6ec\" stroke=\"black\" d=\"M722.5,-68C722.5,-68 625.5,-68 625.5,-68 619.5,-68 613.5,-62 613.5,-56 613.5,-56 613.5,-12 613.5,-12 613.5,-6 619.5,0 625.5,0 625.5,0 722.5,0 722.5,0 728.5,0 734.5,-6 734.5,-12 734.5,-12 734.5,-56 734.5,-56 734.5,-62 728.5,-68 722.5,-68\"/>\n",
       "<text text-anchor=\"start\" x=\"634.5\" y=\"-52.8\" font-family=\"Helvetica,sans-Serif\" font-size=\"14.00\">gini = 0.32</text>\n",
       "<text text-anchor=\"start\" x=\"630\" y=\"-37.8\" font-family=\"Helvetica,sans-Serif\" font-size=\"14.00\">samples = 5</text>\n",
       "<text text-anchor=\"start\" x=\"625.5\" y=\"-22.8\" font-family=\"Helvetica,sans-Serif\" font-size=\"14.00\">value = [1, 4]</text>\n",
       "<text text-anchor=\"start\" x=\"621.5\" y=\"-7.8\" font-family=\"Helvetica,sans-Serif\" font-size=\"14.00\">class = Benign</text>\n",
       "</g>\n",
       "<!-- 10&#45;&gt;11 -->\n",
       "<g id=\"edge11\" class=\"edge\">\n",
       "<title>10&#45;&gt;11</title>\n",
       "<path fill=\"none\" stroke=\"black\" d=\"M739.27,-103.73C730.87,-94.88 721.97,-85.51 713.54,-76.63\"/>\n",
       "<polygon fill=\"black\" stroke=\"black\" points=\"716.09,-74.24 706.67,-69.4 711.02,-79.06 716.09,-74.24\"/>\n",
       "</g>\n",
       "<!-- 12 -->\n",
       "<g id=\"node13\" class=\"node\">\n",
       "<title>12</title>\n",
       "<path fill=\"#e88e4e\" stroke=\"black\" d=\"M881,-68C881,-68 765,-68 765,-68 759,-68 753,-62 753,-56 753,-56 753,-12 753,-12 753,-6 759,0 765,0 765,0 881,0 881,0 887,0 893,-6 893,-12 893,-12 893,-56 893,-56 893,-62 887,-68 881,-68\"/>\n",
       "<text text-anchor=\"start\" x=\"779\" y=\"-52.8\" font-family=\"Helvetica,sans-Serif\" font-size=\"14.00\">gini = 0.175</text>\n",
       "<text text-anchor=\"start\" x=\"774.5\" y=\"-37.8\" font-family=\"Helvetica,sans-Serif\" font-size=\"14.00\">samples = 31</text>\n",
       "<text text-anchor=\"start\" x=\"770\" y=\"-22.8\" font-family=\"Helvetica,sans-Serif\" font-size=\"14.00\">value = [28, 3]</text>\n",
       "<text text-anchor=\"start\" x=\"761\" y=\"-7.8\" font-family=\"Helvetica,sans-Serif\" font-size=\"14.00\">class = Malignant</text>\n",
       "</g>\n",
       "<!-- 10&#45;&gt;12 -->\n",
       "<g id=\"edge12\" class=\"edge\">\n",
       "<title>10&#45;&gt;12</title>\n",
       "<path fill=\"none\" stroke=\"black\" d=\"M794.76,-103.73C798.09,-95.61 801.61,-87.05 804.98,-78.84\"/>\n",
       "<polygon fill=\"black\" stroke=\"black\" points=\"808.18,-80.28 808.74,-69.7 801.7,-77.62 808.18,-80.28\"/>\n",
       "</g>\n",
       "<!-- 14 -->\n",
       "<g id=\"node15\" class=\"node\">\n",
       "<title>14</title>\n",
       "<path fill=\"#fae6d7\" stroke=\"black\" d=\"M1039,-68C1039,-68 923,-68 923,-68 917,-68 911,-62 911,-56 911,-56 911,-12 911,-12 911,-6 917,0 923,0 923,0 1039,0 1039,0 1045,0 1051,-6 1051,-12 1051,-12 1051,-56 1051,-56 1051,-62 1045,-68 1039,-68\"/>\n",
       "<text text-anchor=\"start\" x=\"937\" y=\"-52.8\" font-family=\"Helvetica,sans-Serif\" font-size=\"14.00\">gini = 0.494</text>\n",
       "<text text-anchor=\"start\" x=\"932.5\" y=\"-37.8\" font-family=\"Helvetica,sans-Serif\" font-size=\"14.00\">samples = 18</text>\n",
       "<text text-anchor=\"start\" x=\"928\" y=\"-22.8\" font-family=\"Helvetica,sans-Serif\" font-size=\"14.00\">value = [10, 8]</text>\n",
       "<text text-anchor=\"start\" x=\"919\" y=\"-7.8\" font-family=\"Helvetica,sans-Serif\" font-size=\"14.00\">class = Malignant</text>\n",
       "</g>\n",
       "<!-- 13&#45;&gt;14 -->\n",
       "<g id=\"edge14\" class=\"edge\">\n",
       "<title>13&#45;&gt;14</title>\n",
       "<path fill=\"none\" stroke=\"black\" d=\"M992.93,-103.73C991.55,-95.79 990.1,-87.44 988.7,-79.39\"/>\n",
       "<polygon fill=\"black\" stroke=\"black\" points=\"992.19,-79.05 987.04,-69.79 985.3,-80.24 992.19,-79.05\"/>\n",
       "</g>\n",
       "<!-- 15 -->\n",
       "<g id=\"node16\" class=\"node\">\n",
       "<title>15</title>\n",
       "<path fill=\"#399de5\" stroke=\"black\" d=\"M1179,-68C1179,-68 1081,-68 1081,-68 1075,-68 1069,-62 1069,-56 1069,-56 1069,-12 1069,-12 1069,-6 1075,0 1081,0 1081,0 1179,0 1179,0 1185,0 1191,-6 1191,-12 1191,-12 1191,-56 1191,-56 1191,-62 1185,-68 1179,-68\"/>\n",
       "<text text-anchor=\"start\" x=\"1095\" y=\"-52.8\" font-family=\"Helvetica,sans-Serif\" font-size=\"14.00\">gini = 0.0</text>\n",
       "<text text-anchor=\"start\" x=\"1081.5\" y=\"-37.8\" font-family=\"Helvetica,sans-Serif\" font-size=\"14.00\">samples = 15</text>\n",
       "<text text-anchor=\"start\" x=\"1077\" y=\"-22.8\" font-family=\"Helvetica,sans-Serif\" font-size=\"14.00\">value = [0, 15]</text>\n",
       "<text text-anchor=\"start\" x=\"1077.5\" y=\"-7.8\" font-family=\"Helvetica,sans-Serif\" font-size=\"14.00\">class = Benign</text>\n",
       "</g>\n",
       "<!-- 13&#45;&gt;15 -->\n",
       "<g id=\"edge15\" class=\"edge\">\n",
       "<title>13&#45;&gt;15</title>\n",
       "<path fill=\"none\" stroke=\"black\" d=\"M1048.41,-103.73C1059.34,-94.51 1070.95,-84.74 1081.88,-75.53\"/>\n",
       "<polygon fill=\"black\" stroke=\"black\" points=\"1083.92,-78.39 1089.31,-69.27 1079.41,-73.04 1083.92,-78.39\"/>\n",
       "</g>\n",
       "<!-- 17 -->\n",
       "<g id=\"node18\" class=\"node\">\n",
       "<title>17</title>\n",
       "<path fill=\"#d3e9f9\" stroke=\"black\" d=\"M1458,-306C1458,-306 1292,-306 1292,-306 1286,-306 1280,-300 1280,-294 1280,-294 1280,-235 1280,-235 1280,-229 1286,-223 1292,-223 1292,-223 1458,-223 1458,-223 1464,-223 1470,-229 1470,-235 1470,-235 1470,-294 1470,-294 1470,-300 1464,-306 1458,-306\"/>\n",
       "<text text-anchor=\"start\" x=\"1288\" y=\"-290.8\" font-family=\"Helvetica,sans-Serif\" font-size=\"14.00\">mean perimeter ≤ 114.8</text>\n",
       "<text text-anchor=\"start\" x=\"1331\" y=\"-275.8\" font-family=\"Helvetica,sans-Serif\" font-size=\"14.00\">gini = 0.492</text>\n",
       "<text text-anchor=\"start\" x=\"1326.5\" y=\"-260.8\" font-family=\"Helvetica,sans-Serif\" font-size=\"14.00\">samples = 16</text>\n",
       "<text text-anchor=\"start\" x=\"1326.5\" y=\"-245.8\" font-family=\"Helvetica,sans-Serif\" font-size=\"14.00\">value = [7, 9]</text>\n",
       "<text text-anchor=\"start\" x=\"1322.5\" y=\"-230.8\" font-family=\"Helvetica,sans-Serif\" font-size=\"14.00\">class = Benign</text>\n",
       "</g>\n",
       "<!-- 16&#45;&gt;17 -->\n",
       "<g id=\"edge17\" class=\"edge\">\n",
       "<title>16&#45;&gt;17</title>\n",
       "<path fill=\"none\" stroke=\"black\" d=\"M1375,-341.58C1375,-333.79 1375,-325.53 1375,-317.45\"/>\n",
       "<polygon fill=\"black\" stroke=\"black\" points=\"1378.5,-317.71 1375,-307.71 1371.5,-317.71 1378.5,-317.71\"/>\n",
       "</g>\n",
       "<!-- 22 -->\n",
       "<g id=\"node23\" class=\"node\">\n",
       "<title>22</title>\n",
       "<path fill=\"#3c9ee5\" stroke=\"black\" d=\"M1762,-306C1762,-306 1596,-306 1596,-306 1590,-306 1584,-300 1584,-294 1584,-294 1584,-235 1584,-235 1584,-229 1590,-223 1596,-223 1596,-223 1762,-223 1762,-223 1768,-223 1774,-229 1774,-235 1774,-235 1774,-294 1774,-294 1774,-300 1768,-306 1762,-306\"/>\n",
       "<text text-anchor=\"start\" x=\"1592\" y=\"-290.8\" font-family=\"Helvetica,sans-Serif\" font-size=\"14.00\">mean perimeter ≤ 108.6</text>\n",
       "<text text-anchor=\"start\" x=\"1635\" y=\"-275.8\" font-family=\"Helvetica,sans-Serif\" font-size=\"14.00\">gini = 0.026</text>\n",
       "<text text-anchor=\"start\" x=\"1626\" y=\"-260.8\" font-family=\"Helvetica,sans-Serif\" font-size=\"14.00\">samples = 152</text>\n",
       "<text text-anchor=\"start\" x=\"1621.5\" y=\"-245.8\" font-family=\"Helvetica,sans-Serif\" font-size=\"14.00\">value = [2, 150]</text>\n",
       "<text text-anchor=\"start\" x=\"1626.5\" y=\"-230.8\" font-family=\"Helvetica,sans-Serif\" font-size=\"14.00\">class = Benign</text>\n",
       "</g>\n",
       "<!-- 16&#45;&gt;22 -->\n",
       "<g id=\"edge22\" class=\"edge\">\n",
       "<title>16&#45;&gt;22</title>\n",
       "<path fill=\"none\" stroke=\"black\" d=\"M1465.39,-347.71C1499.32,-334.65 1538.18,-319.7 1573.37,-306.15\"/>\n",
       "<polygon fill=\"black\" stroke=\"black\" points=\"1574.19,-309.59 1582.26,-302.73 1571.68,-303.06 1574.19,-309.59\"/>\n",
       "</g>\n",
       "<!-- 18 -->\n",
       "<g id=\"node19\" class=\"node\">\n",
       "<title>18</title>\n",
       "<path fill=\"#f0b78e\" stroke=\"black\" d=\"M1388,-187C1388,-187 1170,-187 1170,-187 1164,-187 1158,-181 1158,-175 1158,-175 1158,-116 1158,-116 1158,-110 1164,-104 1170,-104 1170,-104 1388,-104 1388,-104 1394,-104 1400,-110 1400,-116 1400,-116 1400,-175 1400,-175 1400,-181 1394,-187 1388,-187\"/>\n",
       "<text text-anchor=\"start\" x=\"1166\" y=\"-171.8\" font-family=\"Helvetica,sans-Serif\" font-size=\"14.00\">mean fractal dimension ≤ 0.068</text>\n",
       "<text text-anchor=\"start\" x=\"1239.5\" y=\"-156.8\" font-family=\"Helvetica,sans-Serif\" font-size=\"14.00\">gini = 0.42</text>\n",
       "<text text-anchor=\"start\" x=\"1230.5\" y=\"-141.8\" font-family=\"Helvetica,sans-Serif\" font-size=\"14.00\">samples = 10</text>\n",
       "<text text-anchor=\"start\" x=\"1230.5\" y=\"-126.8\" font-family=\"Helvetica,sans-Serif\" font-size=\"14.00\">value = [7, 3]</text>\n",
       "<text text-anchor=\"start\" x=\"1217\" y=\"-111.8\" font-family=\"Helvetica,sans-Serif\" font-size=\"14.00\">class = Malignant</text>\n",
       "</g>\n",
       "<!-- 17&#45;&gt;18 -->\n",
       "<g id=\"edge18\" class=\"edge\">\n",
       "<title>17&#45;&gt;18</title>\n",
       "<path fill=\"none\" stroke=\"black\" d=\"M1341.42,-222.58C1334.37,-213.98 1326.85,-204.82 1319.57,-195.95\"/>\n",
       "<polygon fill=\"black\" stroke=\"black\" points=\"1322.4,-193.88 1313.36,-188.37 1316.99,-198.32 1322.4,-193.88\"/>\n",
       "</g>\n",
       "<!-- 21 -->\n",
       "<g id=\"node22\" class=\"node\">\n",
       "<title>21</title>\n",
       "<path fill=\"#399de5\" stroke=\"black\" d=\"M1527.5,-179.5C1527.5,-179.5 1430.5,-179.5 1430.5,-179.5 1424.5,-179.5 1418.5,-173.5 1418.5,-167.5 1418.5,-167.5 1418.5,-123.5 1418.5,-123.5 1418.5,-117.5 1424.5,-111.5 1430.5,-111.5 1430.5,-111.5 1527.5,-111.5 1527.5,-111.5 1533.5,-111.5 1539.5,-117.5 1539.5,-123.5 1539.5,-123.5 1539.5,-167.5 1539.5,-167.5 1539.5,-173.5 1533.5,-179.5 1527.5,-179.5\"/>\n",
       "<text text-anchor=\"start\" x=\"1444\" y=\"-164.3\" font-family=\"Helvetica,sans-Serif\" font-size=\"14.00\">gini = 0.0</text>\n",
       "<text text-anchor=\"start\" x=\"1435\" y=\"-149.3\" font-family=\"Helvetica,sans-Serif\" font-size=\"14.00\">samples = 6</text>\n",
       "<text text-anchor=\"start\" x=\"1430.5\" y=\"-134.3\" font-family=\"Helvetica,sans-Serif\" font-size=\"14.00\">value = [0, 6]</text>\n",
       "<text text-anchor=\"start\" x=\"1426.5\" y=\"-119.3\" font-family=\"Helvetica,sans-Serif\" font-size=\"14.00\">class = Benign</text>\n",
       "</g>\n",
       "<!-- 17&#45;&gt;21 -->\n",
       "<g id=\"edge21\" class=\"edge\">\n",
       "<title>17&#45;&gt;21</title>\n",
       "<path fill=\"none\" stroke=\"black\" d=\"M1411.37,-222.58C1421.27,-211.45 1432,-199.38 1441.93,-188.2\"/>\n",
       "<polygon fill=\"black\" stroke=\"black\" points=\"1444.31,-190.79 1448.34,-180.99 1439.08,-186.14 1444.31,-190.79\"/>\n",
       "</g>\n",
       "<!-- 19 -->\n",
       "<g id=\"node20\" class=\"node\">\n",
       "<title>19</title>\n",
       "<path fill=\"#e99355\" stroke=\"black\" d=\"M1337,-68C1337,-68 1221,-68 1221,-68 1215,-68 1209,-62 1209,-56 1209,-56 1209,-12 1209,-12 1209,-6 1215,0 1221,0 1221,0 1337,0 1337,0 1343,0 1349,-6 1349,-12 1349,-12 1349,-56 1349,-56 1349,-62 1343,-68 1337,-68\"/>\n",
       "<text text-anchor=\"start\" x=\"1235\" y=\"-52.8\" font-family=\"Helvetica,sans-Serif\" font-size=\"14.00\">gini = 0.219</text>\n",
       "<text text-anchor=\"start\" x=\"1235\" y=\"-37.8\" font-family=\"Helvetica,sans-Serif\" font-size=\"14.00\">samples = 8</text>\n",
       "<text text-anchor=\"start\" x=\"1230.5\" y=\"-22.8\" font-family=\"Helvetica,sans-Serif\" font-size=\"14.00\">value = [7, 1]</text>\n",
       "<text text-anchor=\"start\" x=\"1217\" y=\"-7.8\" font-family=\"Helvetica,sans-Serif\" font-size=\"14.00\">class = Malignant</text>\n",
       "</g>\n",
       "<!-- 18&#45;&gt;19 -->\n",
       "<g id=\"edge19\" class=\"edge\">\n",
       "<title>18&#45;&gt;19</title>\n",
       "<path fill=\"none\" stroke=\"black\" d=\"M1279,-103.73C1279,-95.88 1279,-87.63 1279,-79.67\"/>\n",
       "<polygon fill=\"black\" stroke=\"black\" points=\"1282.5,-79.81 1279,-69.81 1275.5,-79.81 1282.5,-79.81\"/>\n",
       "</g>\n",
       "<!-- 20 -->\n",
       "<g id=\"node21\" class=\"node\">\n",
       "<title>20</title>\n",
       "<path fill=\"#399de5\" stroke=\"black\" d=\"M1476.5,-68C1476.5,-68 1379.5,-68 1379.5,-68 1373.5,-68 1367.5,-62 1367.5,-56 1367.5,-56 1367.5,-12 1367.5,-12 1367.5,-6 1373.5,0 1379.5,0 1379.5,0 1476.5,0 1476.5,0 1482.5,0 1488.5,-6 1488.5,-12 1488.5,-12 1488.5,-56 1488.5,-56 1488.5,-62 1482.5,-68 1476.5,-68\"/>\n",
       "<text text-anchor=\"start\" x=\"1393\" y=\"-52.8\" font-family=\"Helvetica,sans-Serif\" font-size=\"14.00\">gini = 0.0</text>\n",
       "<text text-anchor=\"start\" x=\"1384\" y=\"-37.8\" font-family=\"Helvetica,sans-Serif\" font-size=\"14.00\">samples = 2</text>\n",
       "<text text-anchor=\"start\" x=\"1379.5\" y=\"-22.8\" font-family=\"Helvetica,sans-Serif\" font-size=\"14.00\">value = [0, 2]</text>\n",
       "<text text-anchor=\"start\" x=\"1375.5\" y=\"-7.8\" font-family=\"Helvetica,sans-Serif\" font-size=\"14.00\">class = Benign</text>\n",
       "</g>\n",
       "<!-- 18&#45;&gt;20 -->\n",
       "<g id=\"edge20\" class=\"edge\">\n",
       "<title>18&#45;&gt;20</title>\n",
       "<path fill=\"none\" stroke=\"black\" d=\"M1334.48,-103.73C1347.27,-94.33 1360.85,-84.35 1373.59,-74.99\"/>\n",
       "<polygon fill=\"black\" stroke=\"black\" points=\"1375.48,-77.94 1381.47,-69.2 1371.34,-72.3 1375.48,-77.94\"/>\n",
       "</g>\n",
       "<!-- 23 -->\n",
       "<g id=\"node24\" class=\"node\">\n",
       "<title>23</title>\n",
       "<path fill=\"#46a3e7\" stroke=\"black\" d=\"M1788,-187C1788,-187 1570,-187 1570,-187 1564,-187 1558,-181 1558,-175 1558,-175 1558,-116 1558,-116 1558,-110 1564,-104 1570,-104 1570,-104 1788,-104 1788,-104 1794,-104 1800,-110 1800,-116 1800,-116 1800,-175 1800,-175 1800,-181 1794,-187 1788,-187\"/>\n",
       "<text text-anchor=\"start\" x=\"1566\" y=\"-171.8\" font-family=\"Helvetica,sans-Serif\" font-size=\"14.00\">mean fractal dimension ≤ 0.053</text>\n",
       "<text text-anchor=\"start\" x=\"1635\" y=\"-156.8\" font-family=\"Helvetica,sans-Serif\" font-size=\"14.00\">gini = 0.114</text>\n",
       "<text text-anchor=\"start\" x=\"1630.5\" y=\"-141.8\" font-family=\"Helvetica,sans-Serif\" font-size=\"14.00\">samples = 33</text>\n",
       "<text text-anchor=\"start\" x=\"1626\" y=\"-126.8\" font-family=\"Helvetica,sans-Serif\" font-size=\"14.00\">value = [2, 31]</text>\n",
       "<text text-anchor=\"start\" x=\"1626.5\" y=\"-111.8\" font-family=\"Helvetica,sans-Serif\" font-size=\"14.00\">class = Benign</text>\n",
       "</g>\n",
       "<!-- 22&#45;&gt;23 -->\n",
       "<g id=\"edge23\" class=\"edge\">\n",
       "<title>22&#45;&gt;23</title>\n",
       "<path fill=\"none\" stroke=\"black\" d=\"M1679,-222.58C1679,-214.79 1679,-206.53 1679,-198.45\"/>\n",
       "<polygon fill=\"black\" stroke=\"black\" points=\"1682.5,-198.71 1679,-188.71 1675.5,-198.71 1682.5,-198.71\"/>\n",
       "</g>\n",
       "<!-- 26 -->\n",
       "<g id=\"node27\" class=\"node\">\n",
       "<title>26</title>\n",
       "<path fill=\"#399de5\" stroke=\"black\" d=\"M1937.5,-179.5C1937.5,-179.5 1830.5,-179.5 1830.5,-179.5 1824.5,-179.5 1818.5,-173.5 1818.5,-167.5 1818.5,-167.5 1818.5,-123.5 1818.5,-123.5 1818.5,-117.5 1824.5,-111.5 1830.5,-111.5 1830.5,-111.5 1937.5,-111.5 1937.5,-111.5 1943.5,-111.5 1949.5,-117.5 1949.5,-123.5 1949.5,-123.5 1949.5,-167.5 1949.5,-167.5 1949.5,-173.5 1943.5,-179.5 1937.5,-179.5\"/>\n",
       "<text text-anchor=\"start\" x=\"1849\" y=\"-164.3\" font-family=\"Helvetica,sans-Serif\" font-size=\"14.00\">gini = 0.0</text>\n",
       "<text text-anchor=\"start\" x=\"1831\" y=\"-149.3\" font-family=\"Helvetica,sans-Serif\" font-size=\"14.00\">samples = 119</text>\n",
       "<text text-anchor=\"start\" x=\"1826.5\" y=\"-134.3\" font-family=\"Helvetica,sans-Serif\" font-size=\"14.00\">value = [0, 119]</text>\n",
       "<text text-anchor=\"start\" x=\"1831.5\" y=\"-119.3\" font-family=\"Helvetica,sans-Serif\" font-size=\"14.00\">class = Benign</text>\n",
       "</g>\n",
       "<!-- 22&#45;&gt;26 -->\n",
       "<g id=\"edge26\" class=\"edge\">\n",
       "<title>22&#45;&gt;26</title>\n",
       "<path fill=\"none\" stroke=\"black\" d=\"M1750.7,-222.58C1771.83,-210.52 1794.89,-197.36 1815.79,-185.43\"/>\n",
       "<polygon fill=\"black\" stroke=\"black\" points=\"1817.28,-188.61 1824.23,-180.61 1813.81,-182.53 1817.28,-188.61\"/>\n",
       "</g>\n",
       "<!-- 24 -->\n",
       "<g id=\"node25\" class=\"node\">\n",
       "<title>24</title>\n",
       "<path fill=\"#e58139\" stroke=\"black\" d=\"M1686,-68C1686,-68 1570,-68 1570,-68 1564,-68 1558,-62 1558,-56 1558,-56 1558,-12 1558,-12 1558,-6 1564,0 1570,0 1570,0 1686,0 1686,0 1692,0 1698,-6 1698,-12 1698,-12 1698,-56 1698,-56 1698,-62 1692,-68 1686,-68\"/>\n",
       "<text text-anchor=\"start\" x=\"1593\" y=\"-52.8\" font-family=\"Helvetica,sans-Serif\" font-size=\"14.00\">gini = 0.0</text>\n",
       "<text text-anchor=\"start\" x=\"1584\" y=\"-37.8\" font-family=\"Helvetica,sans-Serif\" font-size=\"14.00\">samples = 1</text>\n",
       "<text text-anchor=\"start\" x=\"1579.5\" y=\"-22.8\" font-family=\"Helvetica,sans-Serif\" font-size=\"14.00\">value = [1, 0]</text>\n",
       "<text text-anchor=\"start\" x=\"1566\" y=\"-7.8\" font-family=\"Helvetica,sans-Serif\" font-size=\"14.00\">class = Malignant</text>\n",
       "</g>\n",
       "<!-- 23&#45;&gt;24 -->\n",
       "<g id=\"edge24\" class=\"edge\">\n",
       "<title>23&#45;&gt;24</title>\n",
       "<path fill=\"none\" stroke=\"black\" d=\"M1660.01,-103.73C1656.19,-95.52 1652.15,-86.86 1648.29,-78.56\"/>\n",
       "<polygon fill=\"black\" stroke=\"black\" points=\"1651.54,-77.26 1644.15,-69.67 1645.2,-80.21 1651.54,-77.26\"/>\n",
       "</g>\n",
       "<!-- 25 -->\n",
       "<g id=\"node26\" class=\"node\">\n",
       "<title>25</title>\n",
       "<path fill=\"#3fa0e6\" stroke=\"black\" d=\"M1826,-68C1826,-68 1728,-68 1728,-68 1722,-68 1716,-62 1716,-56 1716,-56 1716,-12 1716,-12 1716,-6 1722,0 1728,0 1728,0 1826,0 1826,0 1832,0 1838,-6 1838,-12 1838,-12 1838,-56 1838,-56 1838,-62 1832,-68 1826,-68\"/>\n",
       "<text text-anchor=\"start\" x=\"1733\" y=\"-52.8\" font-family=\"Helvetica,sans-Serif\" font-size=\"14.00\">gini = 0.061</text>\n",
       "<text text-anchor=\"start\" x=\"1728.5\" y=\"-37.8\" font-family=\"Helvetica,sans-Serif\" font-size=\"14.00\">samples = 32</text>\n",
       "<text text-anchor=\"start\" x=\"1724\" y=\"-22.8\" font-family=\"Helvetica,sans-Serif\" font-size=\"14.00\">value = [1, 31]</text>\n",
       "<text text-anchor=\"start\" x=\"1724.5\" y=\"-7.8\" font-family=\"Helvetica,sans-Serif\" font-size=\"14.00\">class = Benign</text>\n",
       "</g>\n",
       "<!-- 23&#45;&gt;25 -->\n",
       "<g id=\"edge25\" class=\"edge\">\n",
       "<title>23&#45;&gt;25</title>\n",
       "<path fill=\"none\" stroke=\"black\" d=\"M1715.49,-103.73C1723.41,-94.88 1731.79,-85.51 1739.74,-76.63\"/>\n",
       "<polygon fill=\"black\" stroke=\"black\" points=\"1742.13,-79.21 1746.19,-69.43 1736.91,-74.54 1742.13,-79.21\"/>\n",
       "</g>\n",
       "</g>\n",
       "</svg>\n"
      ],
      "text/plain": [
       "<graphviz.sources.Source at 0x7f921cf22d70>"
      ]
     },
     "execution_count": 5,
     "metadata": {},
     "output_type": "execute_result"
    }
   ],
   "source": [
    "dot_data = tree.export_graphviz(clf_GS_1.best_estimator_, out_file=None, \n",
    "                                feature_names=features, class_names=['Malignant', 'Benign'],\n",
    "                                filled=True, rounded=True, special_characters=True)\n",
    "graph = gv.Source(dot_data, format='SVG')\n",
    "graph # You can comment this line and re-run so the figure doesn't render if MarkUs notebook renderer gives you an error of \n",
    "# \"nbconvert failed: Unicode strings with encoding declaration are not supported. Please use bytes input or XML fragments without declaration.\"\n",
    "# It's your responsibility to check this: TAs can't provide manual marks if your notebook doesn't render in MarkUs"
   ]
  },
  {
   "cell_type": "markdown",
   "id": "653e88ee",
   "metadata": {},
   "source": [
    "### Q3: What is the best accuracy for the decision trees you found in Q1?"
   ]
  },
  {
   "cell_type": "markdown",
   "id": "bd7e6148",
   "metadata": {},
   "source": [
    "Provide your answers as decimal numbers with three signifiant digits."
   ]
  },
  {
   "cell_type": "code",
   "execution_count": null,
   "id": "297ebf9f",
   "metadata": {},
   "outputs": [],
   "source": [
    "Q3 = None"
   ]
  },
  {
   "cell_type": "code",
   "execution_count": null,
   "id": "bda31837",
   "metadata": {},
   "outputs": [],
   "source": [
    "### test_Q3\n",
    "assert Q3 == None, \"You can access this directly with the `.best_score_` field.\""
   ]
  },
  {
   "cell_type": "markdown",
   "id": "0518ce47",
   "metadata": {},
   "source": [
    "### Q4: What is the best sensitivity for the most accurate decision tree you found in Q1?"
   ]
  },
  {
   "cell_type": "markdown",
   "id": "aa9c7967",
   "metadata": {},
   "source": [
    "Use `X_test` and `Y_test` which you made in Q0 to compute the sensitivity. Provide your answers as decimal numbers with three signifiant digits."
   ]
  },
  {
   "cell_type": "code",
   "execution_count": null,
   "id": "899e2304",
   "metadata": {},
   "outputs": [],
   "source": []
  },
  {
   "cell_type": "markdown",
   "id": "1ad613ea",
   "metadata": {},
   "source": [
    "### Q5: Re-answer Q1, Q3, and Q4 if you replace accuracy as the important metric with sensitivity when using GridSeachCV."
   ]
  },
  {
   "cell_type": "code",
   "execution_count": 6,
   "id": "b9903717",
   "metadata": {},
   "outputs": [
    {
     "data": {
      "text/html": [
       "<style>#sk-container-id-2 {color: black;background-color: white;}#sk-container-id-2 pre{padding: 0;}#sk-container-id-2 div.sk-toggleable {background-color: white;}#sk-container-id-2 label.sk-toggleable__label {cursor: pointer;display: block;width: 100%;margin-bottom: 0;padding: 0.3em;box-sizing: border-box;text-align: center;}#sk-container-id-2 label.sk-toggleable__label-arrow:before {content: \"▸\";float: left;margin-right: 0.25em;color: #696969;}#sk-container-id-2 label.sk-toggleable__label-arrow:hover:before {color: black;}#sk-container-id-2 div.sk-estimator:hover label.sk-toggleable__label-arrow:before {color: black;}#sk-container-id-2 div.sk-toggleable__content {max-height: 0;max-width: 0;overflow: hidden;text-align: left;background-color: #f0f8ff;}#sk-container-id-2 div.sk-toggleable__content pre {margin: 0.2em;color: black;border-radius: 0.25em;background-color: #f0f8ff;}#sk-container-id-2 input.sk-toggleable__control:checked~div.sk-toggleable__content {max-height: 200px;max-width: 100%;overflow: auto;}#sk-container-id-2 input.sk-toggleable__control:checked~label.sk-toggleable__label-arrow:before {content: \"▾\";}#sk-container-id-2 div.sk-estimator input.sk-toggleable__control:checked~label.sk-toggleable__label {background-color: #d4ebff;}#sk-container-id-2 div.sk-label input.sk-toggleable__control:checked~label.sk-toggleable__label {background-color: #d4ebff;}#sk-container-id-2 input.sk-hidden--visually {border: 0;clip: rect(1px 1px 1px 1px);clip: rect(1px, 1px, 1px, 1px);height: 1px;margin: -1px;overflow: hidden;padding: 0;position: absolute;width: 1px;}#sk-container-id-2 div.sk-estimator {font-family: monospace;background-color: #f0f8ff;border: 1px dotted black;border-radius: 0.25em;box-sizing: border-box;margin-bottom: 0.5em;}#sk-container-id-2 div.sk-estimator:hover {background-color: #d4ebff;}#sk-container-id-2 div.sk-parallel-item::after {content: \"\";width: 100%;border-bottom: 1px solid gray;flex-grow: 1;}#sk-container-id-2 div.sk-label:hover label.sk-toggleable__label {background-color: #d4ebff;}#sk-container-id-2 div.sk-serial::before {content: \"\";position: absolute;border-left: 1px solid gray;box-sizing: border-box;top: 0;bottom: 0;left: 50%;z-index: 0;}#sk-container-id-2 div.sk-serial {display: flex;flex-direction: column;align-items: center;background-color: white;padding-right: 0.2em;padding-left: 0.2em;position: relative;}#sk-container-id-2 div.sk-item {position: relative;z-index: 1;}#sk-container-id-2 div.sk-parallel {display: flex;align-items: stretch;justify-content: center;background-color: white;position: relative;}#sk-container-id-2 div.sk-item::before, #sk-container-id-2 div.sk-parallel-item::before {content: \"\";position: absolute;border-left: 1px solid gray;box-sizing: border-box;top: 0;bottom: 0;left: 50%;z-index: -1;}#sk-container-id-2 div.sk-parallel-item {display: flex;flex-direction: column;z-index: 1;position: relative;background-color: white;}#sk-container-id-2 div.sk-parallel-item:first-child::after {align-self: flex-end;width: 50%;}#sk-container-id-2 div.sk-parallel-item:last-child::after {align-self: flex-start;width: 50%;}#sk-container-id-2 div.sk-parallel-item:only-child::after {width: 0;}#sk-container-id-2 div.sk-dashed-wrapped {border: 1px dashed gray;margin: 0 0.4em 0.5em 0.4em;box-sizing: border-box;padding-bottom: 0.4em;background-color: white;}#sk-container-id-2 div.sk-label label {font-family: monospace;font-weight: bold;display: inline-block;line-height: 1.2em;}#sk-container-id-2 div.sk-label-container {text-align: center;}#sk-container-id-2 div.sk-container {/* jupyter's `normalize.less` sets `[hidden] { display: none; }` but bootstrap.min.css set `[hidden] { display: none !important; }` so we also need the `!important` here to be able to override the default hidden behavior on the sphinx rendered scikit-learn.org. See: https://github.com/scikit-learn/scikit-learn/issues/21755 */display: inline-block !important;position: relative;}#sk-container-id-2 div.sk-text-repr-fallback {display: none;}</style><div id=\"sk-container-id-2\" class=\"sk-top-container\"><div class=\"sk-text-repr-fallback\"><pre>GridSearchCV(cv=ShuffleSplit(n_splits=2, random_state=1, test_size=0.2, train_size=None),\n",
       "             estimator=DecisionTreeClassifier(),\n",
       "             param_grid={&#x27;max_depth&#x27;: range(1, 20)}, refit=&#x27;sensitivity&#x27;,\n",
       "             scoring={&#x27;accuracy&#x27;: make_scorer(accuracy_score),\n",
       "                      &#x27;sensitivity&#x27;: make_scorer(recall_score, pos_label=Malignant)})</pre><b>In a Jupyter environment, please rerun this cell to show the HTML representation or trust the notebook. <br />On GitHub, the HTML representation is unable to render, please try loading this page with nbviewer.org.</b></div><div class=\"sk-container\" hidden><div class=\"sk-item sk-dashed-wrapped\"><div class=\"sk-label-container\"><div class=\"sk-label sk-toggleable\"><input class=\"sk-toggleable__control sk-hidden--visually\" id=\"sk-estimator-id-2\" type=\"checkbox\" ><label for=\"sk-estimator-id-2\" class=\"sk-toggleable__label sk-toggleable__label-arrow\">GridSearchCV</label><div class=\"sk-toggleable__content\"><pre>GridSearchCV(cv=ShuffleSplit(n_splits=2, random_state=1, test_size=0.2, train_size=None),\n",
       "             estimator=DecisionTreeClassifier(),\n",
       "             param_grid={&#x27;max_depth&#x27;: range(1, 20)}, refit=&#x27;sensitivity&#x27;,\n",
       "             scoring={&#x27;accuracy&#x27;: make_scorer(accuracy_score),\n",
       "                      &#x27;sensitivity&#x27;: make_scorer(recall_score, pos_label=Malignant)})</pre></div></div></div><div class=\"sk-parallel\"><div class=\"sk-parallel-item\"><div class=\"sk-item\"><div class=\"sk-label-container\"><div class=\"sk-label sk-toggleable\"><input class=\"sk-toggleable__control sk-hidden--visually\" id=\"sk-estimator-id-3\" type=\"checkbox\" ><label for=\"sk-estimator-id-3\" class=\"sk-toggleable__label sk-toggleable__label-arrow\">estimator: DecisionTreeClassifier</label><div class=\"sk-toggleable__content\"><pre>DecisionTreeClassifier()</pre></div></div></div><div class=\"sk-serial\"><div class=\"sk-item\"><div class=\"sk-estimator sk-toggleable\"><input class=\"sk-toggleable__control sk-hidden--visually\" id=\"sk-estimator-id-4\" type=\"checkbox\" ><label for=\"sk-estimator-id-4\" class=\"sk-toggleable__label sk-toggleable__label-arrow\">DecisionTreeClassifier</label><div class=\"sk-toggleable__content\"><pre>DecisionTreeClassifier()</pre></div></div></div></div></div></div></div></div></div></div>"
      ],
      "text/plain": [
       "GridSearchCV(cv=ShuffleSplit(n_splits=2, random_state=1, test_size=0.2, train_size=None),\n",
       "             estimator=DecisionTreeClassifier(),\n",
       "             param_grid={'max_depth': range(1, 20)}, refit='sensitivity',\n",
       "             scoring={'accuracy': make_scorer(accuracy_score),\n",
       "                      'sensitivity': make_scorer(recall_score, pos_label=Malignant)})"
      ]
     },
     "execution_count": 6,
     "metadata": {},
     "output_type": "execute_result"
    }
   ],
   "source": [
    "rs = ShuffleSplit(n_splits=2,test_size=0.20, random_state=1)\n",
    "\n",
    "clf = tree.DecisionTreeClassifier()\n",
    "\n",
    "clf_GS_2 = GridSearchCV(estimator = clf, param_grid = parameters, scoring = scoring, \n",
    "                      refit = 'sensitivity', cv = rs)\n",
    "\n",
    "clf_GS_2.fit(dataset_cleaned, cancer_classes)"
   ]
  },
  {
   "cell_type": "code",
   "execution_count": null,
   "id": "6bff2a98",
   "metadata": {},
   "outputs": [],
   "source": [
    "clf_GS_2.best_estimator_"
   ]
  },
  {
   "cell_type": "code",
   "execution_count": null,
   "id": "573e0068",
   "metadata": {},
   "outputs": [],
   "source": [
    "Q5_max_depth = None\n",
    "Q5_accuracy = None\n",
    "Q5_sensitivity = None\n",
    "Q5 = (Q5_max_depth, Q5_accuracy, Q5_sensitivity)"
   ]
  },
  {
   "cell_type": "markdown",
   "id": "9df80245",
   "metadata": {},
   "source": [
    "### Q6: Use your answers to Q1-Q4 and to Q5 to compare differences between the outcome when different metric are prioritized."
   ]
  },
  {
   "cell_type": "markdown",
   "id": "bca5cc6f",
   "metadata": {},
   "source": [
    "#### Write a 1-2 sentence answer to this question in markdown cell below\n",
    "- Compare your response to the answer given in the *MarkUs* output.\n",
    "> - Hint: What max_depth did you get for each model and why might that make sense given how they were trained?"
   ]
  },
  {
   "cell_type": "markdown",
   "id": "da0a3da3",
   "metadata": {},
   "source": [
    "> Put your answer here "
   ]
  },
  {
   "cell_type": "code",
   "execution_count": null,
   "id": "35a1c946",
   "metadata": {},
   "outputs": [],
   "source": [
    "# test_Q6"
   ]
  },
  {
   "cell_type": "markdown",
   "id": "4146ad6d",
   "metadata": {},
   "source": [
    "### Q7: Explain some advantages and disadvantages of the \"best\" models you found in Q1 and Q5?"
   ]
  },
  {
   "cell_type": "markdown",
   "id": "f6e0b59d",
   "metadata": {},
   "source": [
    "#### Write a 1-2 sentence answer to this question in markdown cell below\n",
    "- Compare your response to the answer given in the *MarkUs* output.\n",
    "> - Hint: You may or may not want to compute other metrics for each than the one used to fit them.\n"
   ]
  },
  {
   "cell_type": "markdown",
   "id": "898c078b",
   "metadata": {},
   "source": [
    "> Put your answer here "
   ]
  },
  {
   "cell_type": "markdown",
   "id": "c6a9a975",
   "metadata": {},
   "source": [
    "## Part 2: Mean effects of a variable"
   ]
  },
  {
   "cell_type": "markdown",
   "id": "58d42288",
   "metadata": {},
   "source": [
    "In the last homework you worked with `Feature Importance` to determine how important different features were to the classification model you developed. However, as you might have noticed, `Feature Importance` does not tell you much about the relationship between a feature and the classification model's predictions, beyond that a given feature might be important to the prediction process. In linear regression, you can read off the regression coefficients to determine the numerical relationship between a predictor and the output. For more complicated general models, it is hard to reduce the relationship between prodictors and prediction to a single number, thus we will be using `Partial dependence plots` (PDPs) to try and understand these relationships better."
   ]
  },
  {
   "cell_type": "markdown",
   "id": "e56e464c",
   "metadata": {},
   "source": [
    "Explain in general."
   ]
  },
  {
   "cell_type": "markdown",
   "id": "150a1742",
   "metadata": {},
   "source": [
    "This is particularly simple in the case where $X$ is a categorical variable taking values, say, 0 and 1. For each value $y_0$ of our estimator, just have two numbers to care about $P(Y=y_0 | X=0)$ and $P(Y=y_0 | X=1),$ the probability that our model will predict $x_0$ when $X$ takes the values 0 and 1 respectively. "
   ]
  },
  {
   "cell_type": "markdown",
   "id": "72d83c95",
   "metadata": {},
   "source": [
    "Our dataset is complicated, but nonetheless want to understand how our models' predictions depend on the variables. That is to say, we want to know how the distribution of the predictions of our model given that `Name=x` compare to the predictions of our model given that `Name=x'`. "
   ]
  },
  {
   "cell_type": "markdown",
   "id": "7d4a1d65",
   "metadata": {},
   "source": [
    "To learn how to create partial dependence plots you can read the documentation:\n",
    "- https://scikit-learn.org/stable/modules/generated/sklearn.inspection.PartialDependenceDisplay.html#sklearn.inspection.PartialDependenceDisplay.from_estimator.\n",
    "\n",
    "For more information you can also read this page:\n",
    " - https://scikit-learn.org/stable/modules/partial_dependence.html"
   ]
  },
  {
   "cell_type": "markdown",
   "id": "5176245a",
   "metadata": {},
   "source": [
    "### Q8: Create all the single-variable PDPs from the mode you found in Q1."
   ]
  },
  {
   "cell_type": "markdown",
   "id": "dd904790",
   "metadata": {},
   "source": [
    "> Hint: You can do this is one line."
   ]
  },
  {
   "cell_type": "code",
   "execution_count": 7,
   "id": "847fa791",
   "metadata": {
    "scrolled": false
   },
   "outputs": [
    {
     "data": {
      "text/plain": [
       "<sklearn.inspection._plot.partial_dependence.PartialDependenceDisplay at 0x7f929419b0a0>"
      ]
     },
     "execution_count": 7,
     "metadata": {},
     "output_type": "execute_result"
    },
    {
     "data": {
      "image/png": "[encoded data removed]",
      "text/plain": [
       "<Figure size 640x480 with 5 Axes>"
      ]
     },
     "metadata": {},
     "output_type": "display_data"
    }
   ],
   "source": [
    "PartialDependenceDisplay.from_estimator(clf_GS_1.best_estimator_, X_test, [0,1,2,3])"
   ]
  },
  {
   "cell_type": "markdown",
   "id": "ffcad4c7",
   "metadata": {},
   "source": [
    "### Q9: Interpret the PDPs you made in Q8."
   ]
  },
  {
   "cell_type": "markdown",
   "id": "bae9f560",
   "metadata": {},
   "source": [
    "#### Write a 2-3 sentence answer to this question in markdown cell below\n",
    "- Compare your response to the answer given in the *MarkUs* output.\n",
    "> - Hint: Which variables are most influential? \n",
    "> - Hint: How would you describe the relationships between the variables and predicted label? \n",
    "> - Hint: Can you correspond anything in the PDPs to the decision tree itself?"
   ]
  },
  {
   "cell_type": "markdown",
   "id": "5f7c03cc",
   "metadata": {},
   "source": [
    "> Put your answer here"
   ]
  },
  {
   "cell_type": "code",
   "execution_count": null,
   "id": "1fc2d9a0",
   "metadata": {},
   "outputs": [],
   "source": []
  },
  {
   "cell_type": "code",
   "execution_count": null,
   "id": "30fa95c6",
   "metadata": {},
   "outputs": [],
   "source": [
    "# test_Q9\n"
   ]
  },
  {
   "cell_type": "markdown",
   "id": "c44350d7",
   "metadata": {},
   "source": [
    "### Q10: Create all the single-variable PDPs from the mode you found in Q5."
   ]
  },
  {
   "cell_type": "markdown",
   "id": "d42f1c6d",
   "metadata": {},
   "source": [
    "> Hint: You can do this is one line."
   ]
  },
  {
   "cell_type": "code",
   "execution_count": 8,
   "id": "c80c2fb9",
   "metadata": {
    "scrolled": false
   },
   "outputs": [
    {
     "data": {
      "text/plain": [
       "<sklearn.inspection._plot.partial_dependence.PartialDependenceDisplay at 0x7f92941f8340>"
      ]
     },
     "execution_count": 8,
     "metadata": {},
     "output_type": "execute_result"
    },
    {
     "data": {
      "image/png": "[encoded data removed]",
      "text/plain": [
       "<Figure size 640x480 with 5 Axes>"
      ]
     },
     "metadata": {},
     "output_type": "display_data"
    }
   ],
   "source": [
    "PartialDependenceDisplay.from_estimator(clf_GS_2, X_test, [0,1,2,3])"
   ]
  },
  {
   "cell_type": "markdown",
   "id": "df8b1bb3",
   "metadata": {},
   "source": [
    "### Q11: Interpret the PDPs you made in Q10."
   ]
  },
  {
   "cell_type": "markdown",
   "id": "85e080c1",
   "metadata": {},
   "source": [
    "#### Write a 2-3 sentence answer to this question in markdown cell below\n",
    "- Compare your response to the answer given in the *MarkUs* output.\n",
    "> - Hint: Which variables are most influential? \n",
    "> - Hint: How would you describe the relationships between the variables and predicted label? \n",
    "> - Hint: Can you correspond anything in the PDPs to the decision tree itself?"
   ]
  },
  {
   "cell_type": "markdown",
   "id": "e392ea6c",
   "metadata": {},
   "source": [
    "> Put your answer here"
   ]
  },
  {
   "cell_type": "code",
   "execution_count": null,
   "id": "7c67630b",
   "metadata": {},
   "outputs": [],
   "source": []
  },
  {
   "cell_type": "code",
   "execution_count": null,
   "id": "0d0d5753",
   "metadata": {},
   "outputs": [],
   "source": [
    "# test_Q11"
   ]
  },
  {
   "cell_type": "markdown",
   "id": "32957bb5",
   "metadata": {},
   "source": [
    " ### Q12: Compare how you interpret PDPs vs coefficients in linear regression [written]"
   ]
  },
  {
   "cell_type": "markdown",
   "id": "19ee039c",
   "metadata": {},
   "source": []
  }
 ],
 "metadata": {
  "kernelspec": {
   "display_name": "Python 3 (ipykernel)",
   "language": "python",
   "name": "python3"
  },
  "language_info": {
   "codemirror_mode": {
    "name": "ipython",
    "version": 3
   },
   "file_extension": ".py",
   "mimetype": "text/x-python",
   "name": "python",
   "nbconvert_exporter": "python",
   "pygments_lexer": "ipython3",
   "version": "3.10.8"
  }
 },
 "nbformat": 4,
 "nbformat_minor": 5
}
